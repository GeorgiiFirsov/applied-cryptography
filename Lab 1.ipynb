{
 "cells": [
  {
   "cell_type": "markdown",
   "id": "cbc9dfe1",
   "metadata": {},
   "source": [
    "# Протоколы аутентификации"
   ]
  },
  {
   "cell_type": "code",
   "execution_count": 1,
   "id": "e805f109",
   "metadata": {},
   "outputs": [],
   "source": [
    "IS_DEBUG = 1"
   ]
  },
  {
   "cell_type": "code",
   "execution_count": 2,
   "id": "9bb53066",
   "metadata": {},
   "outputs": [],
   "source": [
    "def trace(*args, **kwargs):\n",
    "    \"\"\"\n",
    "    Отладочная трассировка\n",
    "    \"\"\"\n",
    "    \n",
    "    global IS_DEBUG\n",
    "    if IS_DEBUG:\n",
    "        print('[TRACE]', end=' ')\n",
    "        print(*args, **kwargs)"
   ]
  },
  {
   "cell_type": "markdown",
   "id": "0c1cf513",
   "metadata": {},
   "source": [
    "## Протокол PAP\n",
    "![PAP Protocol](./images/PAP_1.png)"
   ]
  },
  {
   "cell_type": "markdown",
   "id": "6a720c4d",
   "metadata": {},
   "source": [
    "-----"
   ]
  },
  {
   "cell_type": "code",
   "execution_count": 3,
   "id": "c6efa0e4",
   "metadata": {},
   "outputs": [],
   "source": [
    "# Использую хэш-функцию ГОСТ 34.11-2012 \"Стрибог\"\n",
    "from pygost.gost34112012256 import GOST34112012256\n",
    "\n",
    "# Эта либа тоже понадобится\n",
    "import binascii\n",
    "\n",
    "# Для генерации случайных чисел (КГПСЧ)\n",
    "from Crypto.Random import get_random_bytes"
   ]
  },
  {
   "cell_type": "markdown",
   "id": "86886021",
   "metadata": {},
   "source": [
    "----"
   ]
  },
  {
   "cell_type": "code",
   "execution_count": 4,
   "id": "52bc32a2",
   "metadata": {},
   "outputs": [],
   "source": [
    "def streebog_hash(*args) -> bytes:\n",
    "    \"\"\"\n",
    "    Расчет хэша для нескольких аргументов (по типу конкатенации)\n",
    "    \"\"\"\n",
    "    \n",
    "    hasher = GOST34112012256()\n",
    "    \n",
    "    for arg in args:\n",
    "        hasher.update(arg)\n",
    "        \n",
    "    return hasher.digest()\n",
    "\n",
    "def bytes_as_hex(b: bytes) -> str:\n",
    "    \"\"\"\n",
    "    Перевод бинарных данных в hex-строчку\n",
    "    \"\"\"\n",
    "    \n",
    "    return binascii.hexlify(b).decode()"
   ]
  },
  {
   "cell_type": "markdown",
   "id": "c9938e32",
   "metadata": {},
   "source": [
    "------"
   ]
  },
  {
   "cell_type": "code",
   "execution_count": 5,
   "id": "71707ace",
   "metadata": {},
   "outputs": [],
   "source": [
    "class PAPServer(object):\n",
    "    def __init__(self):\n",
    "        \"\"\"\n",
    "        Инициализация сервера. \n",
    "        Создается пустая база с пользователями.\n",
    "        \"\"\"\n",
    "        \n",
    "        self._db = {}  # { login: hash(password) }\n",
    "        \n",
    "        \n",
    "    def register_user(self, login: str, password: str):\n",
    "        \"\"\"\n",
    "        Регистрация юзера. На вход получает логин и пароль.\n",
    "        Ничего не возвращает.\n",
    "        Выбрасывает исключение в случае наличия пользователя в базе\n",
    "        \"\"\"\n",
    "        \n",
    "        trace('[PAP Server]', f'Attempt to register user with credentials {login}:{password}')\n",
    "        \n",
    "        if login in self._db:\n",
    "            trace('[PAP Server]', 'User already exists')\n",
    "            raise ValueError(f'User {login} is already registered')\n",
    "            \n",
    "        #\n",
    "        # Рассчитаю хэш пароля и запишу в базу\n",
    "        #\n",
    "        \n",
    "        self._db[login] = streebog_hash(password.encode())\n",
    "        trace('[PAP Server]', f'User successfully registered, password hash: {bytes_as_hex(self._db[login])}')\n",
    "        \n",
    "        \n",
    "    def login(self, login: str, password: str) -> bool:\n",
    "        \"\"\"\n",
    "        Вход пользователя по паролю. На вход получает логин и пароль.\n",
    "        Возвращает True в случае успеха, False - иначе.\n",
    "        \"\"\"\n",
    "        \n",
    "        trace('[PAP Server]', f'Attempt to login with credentials {login}:{password}')\n",
    "        \n",
    "        if login not in self._db:\n",
    "            trace('[PAP Server]', \"User doesn't exist\")\n",
    "            return False\n",
    "        \n",
    "        #\n",
    "        # Пользователь есть, рассчитаю хэш пароля и сравню с имеющимся\n",
    "        #\n",
    "        \n",
    "        pass_hash = streebog_hash(password.encode())\n",
    "        real_hash = self._db[login]\n",
    "        \n",
    "        trace('[PAP Server]', f'Password hash: {bytes_as_hex(pass_hash)}')\n",
    "        trace('[PAP Server]', f'Stored hash:   {bytes_as_hex(real_hash)}')\n",
    "        \n",
    "        return pass_hash == real_hash"
   ]
  },
  {
   "cell_type": "code",
   "execution_count": 6,
   "id": "950e995a",
   "metadata": {},
   "outputs": [],
   "source": [
    "class PAPClient(object):\n",
    "    def __init__(self, login, password):\n",
    "        \"\"\"\n",
    "        Инициализация клиента. На вход получает логин и пароль.\n",
    "        \"\"\"\n",
    "        \n",
    "        self._login  = login\n",
    "        self._passwd = password\n",
    "        \n",
    "        trace('[PAP Client]', f'User with credentials {self._login}:{self._passwd} created')\n",
    "        \n",
    "        \n",
    "    def register(self, srv: PAPServer):\n",
    "        \"\"\"\n",
    "        Регистрация пользователя на сервере. На вход принимает дескриптор сервера.\n",
    "        \"\"\"\n",
    "        \n",
    "        try:\n",
    "            srv.register_user(self._login, self._passwd)\n",
    "        except Exception as e:\n",
    "            trace(e)\n",
    "    \n",
    "    \n",
    "    def login(self, srv: PAPServer):\n",
    "        \"\"\"\n",
    "        Вход пользователя на сервере. На вход принимает дескриптор сервера.\n",
    "        \"\"\"\n",
    "        \n",
    "        if srv.login(self._login, self._passwd):\n",
    "            print('[PAP Client]', f'User {self._login} logged in successfully')\n",
    "        else:\n",
    "            print('[PAP Client]', f'Wrong username or password')"
   ]
  },
  {
   "cell_type": "markdown",
   "id": "56ecf6dd",
   "metadata": {},
   "source": [
    "----"
   ]
  },
  {
   "cell_type": "code",
   "execution_count": 7,
   "id": "dcaf77d7",
   "metadata": {},
   "outputs": [],
   "source": [
    "# Создаю сервер\n",
    "server = PAPServer()"
   ]
  },
  {
   "cell_type": "code",
   "execution_count": 8,
   "id": "ec4e3bd3",
   "metadata": {},
   "outputs": [
    {
     "name": "stdout",
     "output_type": "stream",
     "text": [
      "[TRACE] [PAP Client] User with credentials Alice:Trust_m3_0r_n0t created\n",
      "[TRACE] [PAP Client] User with credentials Alice:try_t0_gu3$$ created\n"
     ]
    }
   ],
   "source": [
    "# Теперь создаю двух юзеров: \n",
    "# - Алису - валидного пользователя\n",
    "# - Еву - пользователя, пытающегося представиться Алисой\n",
    "alice = PAPClient('Alice', 'Trust_m3_0r_n0t')\n",
    "eve = PAPClient('Alice', 'try_t0_gu3$$')"
   ]
  },
  {
   "cell_type": "code",
   "execution_count": 9,
   "id": "de5b8b01",
   "metadata": {},
   "outputs": [
    {
     "name": "stdout",
     "output_type": "stream",
     "text": [
      "[TRACE] [PAP Server] Attempt to register user with credentials Alice:Trust_m3_0r_n0t\n",
      "[TRACE] [PAP Server] User successfully registered, password hash: bdb147b4b8ae6f408dd51cdb17d6300f3e475b504129ba01e5715899b60366b8\n"
     ]
    }
   ],
   "source": [
    "# Регистрирую валидного пользователя\n",
    "alice.register(server)"
   ]
  },
  {
   "cell_type": "code",
   "execution_count": 10,
   "id": "4e2ee149",
   "metadata": {},
   "outputs": [
    {
     "name": "stdout",
     "output_type": "stream",
     "text": [
      "[TRACE] [PAP Server] Attempt to login with credentials Alice:Trust_m3_0r_n0t\n",
      "[TRACE] [PAP Server] Password hash: bdb147b4b8ae6f408dd51cdb17d6300f3e475b504129ba01e5715899b60366b8\n",
      "[TRACE] [PAP Server] Stored hash:   bdb147b4b8ae6f408dd51cdb17d6300f3e475b504129ba01e5715899b60366b8\n",
      "[PAP Client] User Alice logged in successfully\n"
     ]
    }
   ],
   "source": [
    "# Захожу под кредами валидного пользователя\n",
    "alice.login(server)"
   ]
  },
  {
   "cell_type": "code",
   "execution_count": 11,
   "id": "eb8f2ad1",
   "metadata": {},
   "outputs": [
    {
     "name": "stdout",
     "output_type": "stream",
     "text": [
      "[TRACE] [PAP Server] Attempt to login with credentials Alice:try_t0_gu3$$\n",
      "[TRACE] [PAP Server] Password hash: 034eda071f984d17f28f9ae214c5d9b9a9fc0e112df98d0e4b5b2eb3d701b314\n",
      "[TRACE] [PAP Server] Stored hash:   bdb147b4b8ae6f408dd51cdb17d6300f3e475b504129ba01e5715899b60366b8\n",
      "[PAP Client] Wrong username or password\n"
     ]
    }
   ],
   "source": [
    "# Пытаюсь зайти под неправильными кредами\n",
    "eve.login(server)"
   ]
  },
  {
   "cell_type": "markdown",
   "id": "f6d411b2",
   "metadata": {},
   "source": [
    "-----"
   ]
  },
  {
   "cell_type": "markdown",
   "id": "ca0bd721",
   "metadata": {},
   "source": [
    "## Протокол CHAP\n",
    "![CHAP Protocol](./images/CHAP_1.png)"
   ]
  },
  {
   "cell_type": "code",
   "execution_count": 12,
   "id": "9322e597",
   "metadata": {},
   "outputs": [],
   "source": [
    "class CHAPServer(object):\n",
    "    def __init__(self):\n",
    "        \"\"\"\n",
    "        Инициализация сервера. \n",
    "        Создается пустая база с пользователями.\n",
    "        \"\"\"\n",
    "        \n",
    "        self._db = {}\n",
    "        \n",
    "        \n",
    "    def register_user(self, login, password):\n",
    "        \"\"\"\n",
    "        Регистрация юзера. На вход получает логин и пароль.\n",
    "        Ничего не возвращает.\n",
    "        Выбрасывает исключение в случае наличия пользователя в базе\n",
    "        \"\"\"\n",
    "        \n",
    "        trace('[CHAP Server]', f'Attempt to register user with credentials {login}:{password}')\n",
    "        \n",
    "        if login in self._db:\n",
    "            trace('[CHAP Server]', 'User already exists')\n",
    "            raise ValueError(f'User {login} is already registered')\n",
    "            \n",
    "        #\n",
    "        # Запишу в базу\n",
    "        #\n",
    "        \n",
    "        self._db[login] = [password.encode(), None]\n",
    "        trace('[CHAP Server]', f'User successfully registered')\n",
    "    \n",
    "    \n",
    "    def login(self, login, response):\n",
    "        \"\"\"\n",
    "        Вход пользователя. На вход получает логин и хэш пароля с челленджем.\n",
    "        Возвращает True в случае успеха, False - иначе.\n",
    "        \"\"\"\n",
    "        \n",
    "        trace('[CHAP Server]', f'''Attempt to login with: {login = }, \n",
    "        response = {bytes_as_hex(response)}''')\n",
    "        \n",
    "        if login not in self._db:\n",
    "            trace('[CHAP Server]', \"User doesn't exist\")\n",
    "            return False\n",
    "        \n",
    "        #\n",
    "        # Пользователь есть, достану челлендж и обнулю\n",
    "        #\n",
    "        \n",
    "        challenge = self._db[login][1]\n",
    "        self._db[login][1] = None\n",
    "        \n",
    "        if challenge is None:\n",
    "            trace('[CHAP Server]', f'No challenge was generated for {login = }')\n",
    "            return False\n",
    "        \n",
    "        #\n",
    "        # Рассчитаю хэш и сравню с респонсом\n",
    "        #\n",
    "        \n",
    "        challenge_hash = streebog_hash(challenge, self._db[login][0])\n",
    "        \n",
    "        trace('[CHAP Server]', f'Calculated hash: {bytes_as_hex(challenge_hash)}')\n",
    "        trace('[CHAP Server]', f'Received hash:   {bytes_as_hex(response)}')\n",
    "        \n",
    "        return challenge_hash == response\n",
    "    \n",
    "    \n",
    "    def generate_challenge(self, login):\n",
    "        \"\"\"\n",
    "        Генерация челленджа. На вход получает логин.\n",
    "        Возвращает случайный челлендж в случае успеха, None - иначе.\n",
    "        \"\"\"\n",
    "        \n",
    "        trace('[CHAP Server]', f'Attempt to generate challege for: {login = }')\n",
    "        \n",
    "        if login not in self._db:\n",
    "            trace('[CHAP Server]', \"User doesn't exist\")\n",
    "            return None\n",
    "        \n",
    "        #\n",
    "        # Если юзер есть в базе, то генерирую челлендж и сохраняю у себя\n",
    "        #\n",
    "        \n",
    "        challenge = get_random_bytes(16)\n",
    "        self._db[login][1] = challenge\n",
    "        \n",
    "        trace('[CHAP Server]', f'Generated challenge = {bytes_as_hex(challenge)}')\n",
    "        return challenge"
   ]
  },
  {
   "cell_type": "code",
   "execution_count": 13,
   "id": "7317fae5",
   "metadata": {},
   "outputs": [],
   "source": [
    "class CHAPClient(object):\n",
    "    def __init__(self, login, password):\n",
    "        \"\"\"\n",
    "        Инициализация клиента. На вход получает логин и пароль.\n",
    "        \"\"\"\n",
    "        \n",
    "        self._login  = login\n",
    "        self._passwd = password\n",
    "        \n",
    "        trace('[CHAP Client]', f'User with credentials {self._login}:{self._passwd} created')\n",
    "        \n",
    "        \n",
    "    def register(self, srv: CHAPServer):\n",
    "        \"\"\"\n",
    "        Регистрация пользователя на сервере. На вход принимает дескриптор сервера.\n",
    "        \"\"\"\n",
    "        \n",
    "        try:\n",
    "            srv.register_user(self._login, self._passwd)\n",
    "        except Exception as e:\n",
    "            trace(e)\n",
    "    \n",
    "    \n",
    "    def login(self, srv: CHAPServer):\n",
    "        \"\"\"\n",
    "        Вход пользователя на сервере. На вход принимает дескриптор сервера.\n",
    "        \"\"\"\n",
    "        \n",
    "        #\n",
    "        # Получаю челлендж с сервера\n",
    "        #\n",
    "        \n",
    "        challenge = srv.generate_challenge(self._login)\n",
    "        if challenge is None:\n",
    "            print('[CHAP Client]', f'Wrong username or password')\n",
    "            return\n",
    "        \n",
    "        #\n",
    "        # Хэширую челлендж с паролем и пытаюсь залогиниться\n",
    "        #\n",
    "        \n",
    "        response = streebog_hash(challenge, self._passwd.encode())\n",
    "        if srv.login(self._login, response):\n",
    "            print('[CHAP Client]', f'User {self._login} logged in successfully')\n",
    "        else:\n",
    "            print('[CHAP Client]', f'Wrong username or password')"
   ]
  },
  {
   "cell_type": "markdown",
   "id": "d9a24807",
   "metadata": {},
   "source": [
    "----"
   ]
  },
  {
   "cell_type": "code",
   "execution_count": 14,
   "id": "e3f648e3",
   "metadata": {},
   "outputs": [],
   "source": [
    "# Создаю сервер\n",
    "server = CHAPServer()"
   ]
  },
  {
   "cell_type": "code",
   "execution_count": 15,
   "id": "83897ca8",
   "metadata": {},
   "outputs": [
    {
     "name": "stdout",
     "output_type": "stream",
     "text": [
      "[TRACE] [CHAP Client] User with credentials Alice:Trust_m3_0r_n0t created\n",
      "[TRACE] [CHAP Client] User with credentials Alice:try_t0_gu3$$ created\n"
     ]
    }
   ],
   "source": [
    "# Теперь создаю двух юзеров: \n",
    "# - Алису - валидного пользователя\n",
    "# - Еву - пользователя, пытающегося представиться Алисой\n",
    "alice = CHAPClient('Alice', 'Trust_m3_0r_n0t')\n",
    "eve = CHAPClient('Alice', 'try_t0_gu3$$')"
   ]
  },
  {
   "cell_type": "code",
   "execution_count": 16,
   "id": "bc38d5e8",
   "metadata": {},
   "outputs": [
    {
     "name": "stdout",
     "output_type": "stream",
     "text": [
      "[TRACE] [CHAP Server] Attempt to register user with credentials Alice:Trust_m3_0r_n0t\n",
      "[TRACE] [CHAP Server] User successfully registered\n"
     ]
    }
   ],
   "source": [
    "# Регистрирую валидного пользователя\n",
    "alice.register(server)"
   ]
  },
  {
   "cell_type": "code",
   "execution_count": 17,
   "id": "cb85295e",
   "metadata": {},
   "outputs": [
    {
     "name": "stdout",
     "output_type": "stream",
     "text": [
      "[TRACE] [CHAP Server] Attempt to generate challege for: login = 'Alice'\n",
      "[TRACE] [CHAP Server] Generated challenge = 71fb0b1eb9cc677ebddc46ee9f64addc\n",
      "[TRACE] [CHAP Server] Attempt to login with: login = 'Alice', \n",
      "        response = b1bdbb26fd4a5fb390b7b576a5eb610d443c7d3b8818d0850b1bf2072a24b6f8\n",
      "[TRACE] [CHAP Server] Calculated hash: b1bdbb26fd4a5fb390b7b576a5eb610d443c7d3b8818d0850b1bf2072a24b6f8\n",
      "[TRACE] [CHAP Server] Received hash:   b1bdbb26fd4a5fb390b7b576a5eb610d443c7d3b8818d0850b1bf2072a24b6f8\n",
      "[CHAP Client] User Alice logged in successfully\n"
     ]
    }
   ],
   "source": [
    "# Захожу под кредами валидного пользователя\n",
    "alice.login(server)"
   ]
  },
  {
   "cell_type": "code",
   "execution_count": 18,
   "id": "60ee9658",
   "metadata": {},
   "outputs": [
    {
     "name": "stdout",
     "output_type": "stream",
     "text": [
      "[TRACE] [CHAP Server] Attempt to generate challege for: login = 'Alice'\n",
      "[TRACE] [CHAP Server] Generated challenge = 22df8cfe81251765c5d8dcc7605b03bf\n",
      "[TRACE] [CHAP Server] Attempt to login with: login = 'Alice', \n",
      "        response = cd5d64984552c74252f6de7a5ae02d926237c1fe150e82de31a8f58424b5ce52\n",
      "[TRACE] [CHAP Server] Calculated hash: af85ba8249f36a04c6e102b01c574ca78806cf2f4394d8bbda6cd816ee715d06\n",
      "[TRACE] [CHAP Server] Received hash:   cd5d64984552c74252f6de7a5ae02d926237c1fe150e82de31a8f58424b5ce52\n",
      "[CHAP Client] Wrong username or password\n"
     ]
    }
   ],
   "source": [
    "# Пытаюсь зайти под неправильными кредами\n",
    "eve.login(server)"
   ]
  },
  {
   "cell_type": "markdown",
   "id": "69830602",
   "metadata": {},
   "source": [
    "----"
   ]
  },
  {
   "cell_type": "markdown",
   "id": "57726872",
   "metadata": {},
   "source": [
    "## Двустронний протокол CHAP"
   ]
  },
  {
   "cell_type": "code",
   "execution_count": 19,
   "id": "75e1a7eb",
   "metadata": {},
   "outputs": [],
   "source": [
    "class ModifiedCHAPServer(object):\n",
    "    def __init__(self):\n",
    "        \"\"\"\n",
    "        Инициализация сервера. \n",
    "        Создается пустая база с пользователями. Задаются логин и пароль.\n",
    "        \"\"\"\n",
    "        \n",
    "        self._db = {}\n",
    "        self._server_login = 'Alice'\n",
    "        self._server_pass  = '1qazXSW@'\n",
    "    \n",
    "    \n",
    "    def register_user(self, login, password):\n",
    "        \"\"\"\n",
    "        Регистрация юзера. На вход получает логин и пароль.\n",
    "        Возвращает логин и пароль сервера (для регистрации на клиенте).\n",
    "        Выбрасывает исключение в случае наличия пользователя в базе\n",
    "        \"\"\"\n",
    "        \n",
    "        trace('[Modified CHAP Server]', f'Attempt to register user with credentials {login}:{password}')\n",
    "        \n",
    "        if login in self._db:\n",
    "            trace('[Modified CHAP Server]', 'User already exists')\n",
    "            raise ValueError(f'User {login} is already registered')\n",
    "            \n",
    "        #\n",
    "        # Запишу в базу\n",
    "        #\n",
    "        \n",
    "        self._db[login] = [password.encode(), None]\n",
    "        trace('[Modified CHAP Server]', f'User successfully registered')\n",
    "        \n",
    "        return self._server_login, self._server_pass\n",
    "        \n",
    "        \n",
    "    def login(self, login, response, client_challenge):\n",
    "        \"\"\"\n",
    "        Вход пользователя. На вход получает логин, хэш пароля с челленджем и челлендж клиента.\n",
    "        Возвращает логин сервера и хэш клиентского челледжа в случае успеха, None - иначе.\n",
    "        \"\"\"\n",
    "        \n",
    "        trace('[Modified CHAP Server]', f'''Attempt to login with: {login = },\n",
    "        response = {bytes_as_hex(response)}, \n",
    "        client_challenge = {bytes_as_hex(client_challenge)}''')\n",
    "        \n",
    "        if login not in self._db:\n",
    "            trace('[Modified CHAP Server]', \"User doesn't exist\")\n",
    "            return None\n",
    "        \n",
    "        #\n",
    "        # Пользователь есть, достану челлендж и обнулю\n",
    "        #\n",
    "        \n",
    "        challenge = self._db[login][1]\n",
    "        self._db[login][1] = None\n",
    "        \n",
    "        if challenge is None:\n",
    "            trace('[Modified CHAP Server]', f'No challenge was generated for {login = }')\n",
    "            return None\n",
    "        \n",
    "        #\n",
    "        # Рассчитаю хэш и сравню с респонсом\n",
    "        #\n",
    "        \n",
    "        challenge_hash = streebog_hash(challenge, self._db[login][0])\n",
    "        \n",
    "        trace('[Modified CHAP Server]', f'Calculated hash: {bytes_as_hex(challenge_hash)}')\n",
    "        trace('[Modified CHAP Server]', f'Received hash:   {bytes_as_hex(response)}')\n",
    "        \n",
    "        if challenge_hash != response:\n",
    "            return None\n",
    "        \n",
    "        #\n",
    "        # Теперь считаю хэш для челленджа клиента и возвращаю его\n",
    "        #\n",
    "        \n",
    "        client_challenge_hash = streebog_hash(client_challenge, self._server_pass.encode())\n",
    "        return self._server_login, client_challenge_hash\n",
    "    \n",
    "    \n",
    "    def generate_challenge(self, login):\n",
    "        \"\"\"\n",
    "        Генерация челленджа. На вход получает логин.\n",
    "        Возвращает случайный челлендж в случае успеха, None - иначе.\n",
    "        \"\"\"\n",
    "        \n",
    "        trace('[Modified CHAP Server]', f'Attempt to generate challege for: {login = }')\n",
    "        \n",
    "        if login not in self._db:\n",
    "            trace('[Modified CHAP Server]', \"User doesn't exist\")\n",
    "            return None\n",
    "        \n",
    "        #\n",
    "        # Если юзер есть в базе, то генерирую челлендж и сохраняю у себя\n",
    "        #\n",
    "        \n",
    "        challenge = get_random_bytes(16)\n",
    "        self._db[login][1] = challenge\n",
    "        \n",
    "        trace('[Modified CHAP Server]', f'Generated challenge = {bytes_as_hex(challenge)}')\n",
    "        return challenge"
   ]
  },
  {
   "cell_type": "code",
   "execution_count": 20,
   "id": "72246a12",
   "metadata": {},
   "outputs": [],
   "source": [
    "class ModifiedCHAPClient(object):\n",
    "    def __init__(self, login, password):\n",
    "        \"\"\"\n",
    "        Инициализация клиента. На вход получает логин и пароль.\n",
    "        Инициализируется пустая база серверов.\n",
    "        \"\"\"\n",
    "        \n",
    "        self._login  = login\n",
    "        self._passwd = password\n",
    "        \n",
    "        self._servers_db = {}\n",
    "        \n",
    "        trace('[Modified CHAP Client]', f'User with credentials {self._login}:{self._passwd} created')\n",
    "        \n",
    "        \n",
    "    def register(self, srv: ModifiedCHAPServer):\n",
    "        \"\"\"\n",
    "        Регистрация пользователя на сервере. На вход принимает дескриптор сервера.\n",
    "        \"\"\"\n",
    "        \n",
    "        try:\n",
    "            login, password = srv.register_user(self._login, self._passwd)\n",
    "            self._servers_db[login] = password\n",
    "        except Exception as e:\n",
    "            trace(e)\n",
    "    \n",
    "    \n",
    "    def login(self, srv: ModifiedCHAPServer):\n",
    "        \"\"\"\n",
    "        Вход пользователя на сервере. На вход принимает дескриптор сервера.\n",
    "        \"\"\"\n",
    "        \n",
    "        #\n",
    "        # Получаю челлендж с сервера\n",
    "        #\n",
    "        \n",
    "        srv_challenge = srv.generate_challenge(self._login)\n",
    "        if srv_challenge is None:\n",
    "            print('[Modified CHAP Client]', f'Wrong username or password')\n",
    "            return\n",
    "        \n",
    "        #\n",
    "        # Хэширую челлендж с паролем, генерирую свой и пытаюсь залогиниться\n",
    "        #\n",
    "        \n",
    "        response  = streebog_hash(srv_challenge, self._passwd.encode())\n",
    "        challenge = self.generate_challenge()\n",
    "        srv_data  = srv.login(self._login, response, challenge)\n",
    "        \n",
    "        if srv_data is not None:\n",
    "            srv_login, srv_response = srv_data\n",
    "            \n",
    "            if srv_login not in self._servers_db:\n",
    "                print('[Modified CHAP Client]', f'Server {srv_login} not registered')\n",
    "                return\n",
    "            \n",
    "            #\n",
    "            # Сервер есть в базе, сверяю хэши\n",
    "            #\n",
    "            \n",
    "            srv_challenge_hash = streebog_hash(challenge, self._servers_db[srv_login].encode())\n",
    "            \n",
    "            trace('[Modified CHAP Client]', f'Calculated hash: {bytes_as_hex(srv_challenge_hash)}')\n",
    "            trace('[Modified CHAP Client]', f'Received hash:   {bytes_as_hex(srv_response)}')\n",
    "            \n",
    "            if srv_challenge_hash == srv_response:\n",
    "                print('[Modified CHAP Client]', f'User {self._login} logged in successfully')\n",
    "            else:\n",
    "                print('[Modified CHAP Client]', f'Server {srv_login} is not authenticated')\n",
    "        \n",
    "        print('[Modified CHAP Client]', f'Wrong username or password')\n",
    "        \n",
    "        \n",
    "    @staticmethod\n",
    "    def generate_challenge():\n",
    "        \"\"\"\n",
    "        Генерация челленджа.\n",
    "        Возвращает случайное число.\n",
    "        \"\"\"\n",
    "        \n",
    "        return get_random_bytes(16)"
   ]
  },
  {
   "cell_type": "markdown",
   "id": "c658e4b9",
   "metadata": {},
   "source": [
    "------"
   ]
  },
  {
   "cell_type": "code",
   "execution_count": 21,
   "id": "334ac670",
   "metadata": {},
   "outputs": [],
   "source": [
    "# Создаю сервер\n",
    "server = ModifiedCHAPServer()"
   ]
  },
  {
   "cell_type": "code",
   "execution_count": 22,
   "id": "e2ce0b4e",
   "metadata": {},
   "outputs": [
    {
     "name": "stdout",
     "output_type": "stream",
     "text": [
      "[TRACE] [Modified CHAP Client] User with credentials Alice:Trust_m3_0r_n0t created\n",
      "[TRACE] [Modified CHAP Client] User with credentials Alice:try_t0_gu3$$ created\n"
     ]
    }
   ],
   "source": [
    "# Теперь создаю двух юзеров: \n",
    "# - Алису - валидного пользователя\n",
    "# - Еву - пользователя, пытающегося представиться Алисой\n",
    "alice = ModifiedCHAPClient('Alice', 'Trust_m3_0r_n0t')\n",
    "eve = ModifiedCHAPClient('Alice', 'try_t0_gu3$$')"
   ]
  },
  {
   "cell_type": "code",
   "execution_count": 23,
   "id": "d4ecdc24",
   "metadata": {},
   "outputs": [
    {
     "name": "stdout",
     "output_type": "stream",
     "text": [
      "[TRACE] [Modified CHAP Server] Attempt to register user with credentials Alice:Trust_m3_0r_n0t\n",
      "[TRACE] [Modified CHAP Server] User successfully registered\n"
     ]
    }
   ],
   "source": [
    "# Регистрирую валидного пользователя\n",
    "alice.register(server)"
   ]
  },
  {
   "cell_type": "code",
   "execution_count": 24,
   "id": "f34f60f4",
   "metadata": {},
   "outputs": [
    {
     "name": "stdout",
     "output_type": "stream",
     "text": [
      "[TRACE] [Modified CHAP Server] Attempt to generate challege for: login = 'Alice'\n",
      "[TRACE] [Modified CHAP Server] Generated challenge = 7ff8e44973eeb881e1f6a9e7f49a11af\n",
      "[TRACE] [Modified CHAP Server] Attempt to login with: login = 'Alice',\n",
      "        response = bb2f64a65db74a0b9ac83afa7baaf86d24281c6564ee1fae56bec572481ba848, \n",
      "        client_challenge = 6ba455225d6c6b9b62355199ddd5fcd4\n",
      "[TRACE] [Modified CHAP Server] Calculated hash: bb2f64a65db74a0b9ac83afa7baaf86d24281c6564ee1fae56bec572481ba848\n",
      "[TRACE] [Modified CHAP Server] Received hash:   bb2f64a65db74a0b9ac83afa7baaf86d24281c6564ee1fae56bec572481ba848\n",
      "[TRACE] [Modified CHAP Client] Calculated hash: d561fe6d1723caf92c9ac04f790aa08e4a1f53311db856517eb9660e97d686cc\n",
      "[TRACE] [Modified CHAP Client] Received hash:   d561fe6d1723caf92c9ac04f790aa08e4a1f53311db856517eb9660e97d686cc\n",
      "[Modified CHAP Client] User Alice logged in successfully\n",
      "[Modified CHAP Client] Wrong username or password\n"
     ]
    }
   ],
   "source": [
    "# Захожу под кредами валидного пользователя\n",
    "alice.login(server)"
   ]
  },
  {
   "cell_type": "code",
   "execution_count": 25,
   "id": "94b3502f",
   "metadata": {},
   "outputs": [
    {
     "name": "stdout",
     "output_type": "stream",
     "text": [
      "[TRACE] [Modified CHAP Server] Attempt to generate challege for: login = 'Alice'\n",
      "[TRACE] [Modified CHAP Server] Generated challenge = ba924a516b1d3621b09e01cc090fbac4\n",
      "[TRACE] [Modified CHAP Server] Attempt to login with: login = 'Alice',\n",
      "        response = a643f4a3606c1465c77e7e4977e1d0b59a828cbd745c71ffd8b2f7ee09a176de, \n",
      "        client_challenge = f6155dc3d12a6d026ed162c917937f05\n",
      "[TRACE] [Modified CHAP Server] Calculated hash: 918209d1ccf16ad722c40ac13d496a6dd2396e5c665bee8d754312e33c914b6b\n",
      "[TRACE] [Modified CHAP Server] Received hash:   a643f4a3606c1465c77e7e4977e1d0b59a828cbd745c71ffd8b2f7ee09a176de\n",
      "[Modified CHAP Client] Wrong username or password\n"
     ]
    }
   ],
   "source": [
    "# Пытаюсь зайти под неправильными кредами\n",
    "eve.login(server)"
   ]
  },
  {
   "cell_type": "markdown",
   "id": "eb15de91",
   "metadata": {},
   "source": [
    "----"
   ]
  },
  {
   "cell_type": "markdown",
   "id": "9c2993d4",
   "metadata": {},
   "source": [
    "## Протокол S/KEY\n",
    "![S/KEY Protocol](./images/SKEY_1.png)"
   ]
  },
  {
   "cell_type": "code",
   "execution_count": 26,
   "id": "38c8b378",
   "metadata": {},
   "outputs": [],
   "source": [
    "def generate_passwords(key, salt, number_of_passwords):\n",
    "    \"\"\"\n",
    "    Генерирует последовательность паролей по ключу и соли в заданном количестве штук.\n",
    "    Возвращает список паролей.\n",
    "    \"\"\"\n",
    "    \n",
    "    result = []\n",
    "    intermediate = key + salt\n",
    "    \n",
    "    for _ in range(SKEYClient.ROUNDS):\n",
    "        intermediate = streebog_hash(intermediate)\n",
    "        result.append(intermediate)\n",
    "        \n",
    "    return result"
   ]
  },
  {
   "cell_type": "markdown",
   "id": "1b561b2a",
   "metadata": {},
   "source": [
    "----"
   ]
  },
  {
   "cell_type": "code",
   "execution_count": 27,
   "id": "c94939a0",
   "metadata": {},
   "outputs": [],
   "source": [
    "class SKEYServer(object):\n",
    "    def __init__(self, rounds):\n",
    "        \"\"\"\n",
    "        Инициализация сервера. \n",
    "        Создается пустая база с пользователями. Задается количество итераций.\n",
    "        \"\"\"\n",
    "        \n",
    "        self._db = {}  # { login: [key, transaction_number, salt, passwords, current_password]}\n",
    "        self._rounds = rounds\n",
    "        \n",
    "        \n",
    "    def register_user(self, login, key):\n",
    "        \"\"\"\n",
    "        Регистрация юзера. На вход получает логин и ключ.\n",
    "        Возвращает соль для этого клиента.\n",
    "        Выбрасывает исключение в случае наличия пользователя в базе\n",
    "        \"\"\"\n",
    "        \n",
    "        trace('[S/KEY Server]', f'Attempt to register user {login} with key {bytes_as_hex(key)}')\n",
    "        \n",
    "        if login in self._db:\n",
    "            trace('[S/KEY Server]', 'User already exists')\n",
    "            raise ValueError(f'User {login} is already registered')\n",
    "            \n",
    "        self._db[login] = [key, 1, None, [], None]\n",
    "        self._generate_salt_and_passwords(login)\n",
    "        \n",
    "        trace('[S/KEY Server]', f'User successfully registered')\n",
    "        return self._db[login][2]\n",
    "    \n",
    "    \n",
    "    def login(self, login, nth_password):\n",
    "        \"\"\"\n",
    "        Вход пользователя. На вход получает логин и сессионный пароль.\n",
    "        Возвращает логин True в случае успеха, False - иначе.\n",
    "        \"\"\"\n",
    "        \n",
    "        trace('[S/KEY Server]', f'''Attempt to login with: {login = },\n",
    "        nth_password = {bytes_as_hex(nth_password)}''')\n",
    "        \n",
    "        if login not in self._db:\n",
    "            trace('[S/KEY Server]', \"User doesn't exist\")\n",
    "            return False\n",
    "        \n",
    "        #\n",
    "        # Если пользователь есть, а пароль верный, то инкременирую счетчик\n",
    "        # и успешно возвращаю управление. Иначе - просто отдаю управление.\n",
    "        #\n",
    "        \n",
    "        if nth_password != self._db[login][4]:\n",
    "            return False\n",
    "        \n",
    "        new_transaction_number = self._increment_transaction_number(login)\n",
    "        self._db[login][4] = self._db[login][3][-new_transaction_number]\n",
    "        \n",
    "        return True\n",
    "    \n",
    "    \n",
    "    def get_transaction_number(self, login):\n",
    "        \"\"\"\n",
    "        Возвращает номер транзации для заданного пользователя \n",
    "        или None, если такого пользователя нет.\n",
    "        \"\"\"\n",
    "        trace('[S/KEY Server]', f'Attempt to get transaction number for: {login = }')\n",
    "        \n",
    "        if login not in self._db:\n",
    "            trace('[S/KEY Server]', \"User doesn't exist\")\n",
    "            return None\n",
    "              \n",
    "        return self._db[login][1]\n",
    "    \n",
    "    \n",
    "    def _generate_salt_and_passwords(self, login):\n",
    "        \"\"\"\n",
    "        Генерирует соль для пользователя и последовательность паролей.\n",
    "        На вход принимает логин.\n",
    "        Возвращает соль в случае успеха, None - иначе.\n",
    "        \"\"\"\n",
    "        \n",
    "        trace('[S/KEY Server]', f'Attempt to generate salt for {login = }')\n",
    "        \n",
    "        if login not in self._db:\n",
    "            trace('[S/KEY Server]', \"User doesn't exist\")\n",
    "            return None\n",
    "        \n",
    "        salt = get_random_bytes(16)\n",
    "        self._db[login][2] = salt\n",
    "        \n",
    "        trace('[S/KEY Server]', f'Generated salt = {bytes_as_hex(salt)}')\n",
    "        self._db[login][3] = generate_passwords(self._db[login][0], self._db[login][2], self._rounds)\n",
    "        self._db[login][4] = self._db[login][3][-1]\n",
    "        \n",
    "        trace('[S/KEY Server]', 'Passords generated')\n",
    "        return salt\n",
    "    \n",
    "    \n",
    "    def _increment_transaction_number(self, login):\n",
    "        \"\"\"\n",
    "        Инкрементирует счетчик для заданного пользователя.\n",
    "        Выбрасывает исключение, если пользователь не найден или количество транзакций исчерпано.\n",
    "        \"\"\"\n",
    "        \n",
    "        if login not in self._db:\n",
    "            trace('[S/KEY Server]', \"User doesn't exist\")\n",
    "            raise ValueError(\"User doesn't exist\")\n",
    "        \n",
    "        self._db[login][1] += 1\n",
    "        \n",
    "        if self._db[login][1] > self._rounds:\n",
    "            trace('[S/KEY Server]', 'Passwords number exceeded')\n",
    "            raise ValueError('Passwords number exceeded')\n",
    "            \n",
    "        return self._db[login][1]"
   ]
  },
  {
   "cell_type": "code",
   "execution_count": 28,
   "id": "773c63af",
   "metadata": {},
   "outputs": [],
   "source": [
    "class SKEYClient(object):\n",
    "    ROUNDS = 10\n",
    "    \n",
    "    def __init__(self, login, key):\n",
    "        \"\"\"\n",
    "        Инициализация клиента. На вход получает логин и ключ.\n",
    "        Инициализируется пустые соль и список паролей.\n",
    "        \"\"\"\n",
    "        \n",
    "        self._login = login\n",
    "        self._key = key\n",
    "        self._salt = None\n",
    "        self._passwords = []\n",
    "        \n",
    "        trace('[S/KEY Client]', f'User {self._login} created, key = {bytes_as_hex(key)}')\n",
    "        \n",
    "        \n",
    "    def register(self, server: SKEYServer):\n",
    "        \"\"\"\n",
    "        Регистрация пользователя на сервере. На вход принимает дескриптор сервера.\n",
    "        \"\"\"\n",
    "        \n",
    "        try:\n",
    "            salt = server.register_user(self._login, self._key)\n",
    "            self._passwords = generate_passwords(self._key, salt, SKEYClient.ROUNDS)\n",
    "            \n",
    "            trace('[S/KEY Client]', 'Passwords generated')\n",
    "        except Exception as e:\n",
    "            trace(e)\n",
    "    \n",
    "    \n",
    "    def login(self, server: SKEYServer):\n",
    "        \"\"\"\n",
    "        Вход пользователя на сервере. На вход принимает дескриптор сервера.\n",
    "        \"\"\"\n",
    "        \n",
    "        transaction_number = server.get_transaction_number(self._login)\n",
    "        if transaction_number is None:\n",
    "            print('[S/KEY Client]', f'Wrong username or password')\n",
    "            return\n",
    "            \n",
    "        trace('[S/KEY Client]', f'Transaction number {transaction_number}')\n",
    "        \n",
    "        if server.login(self._login, self._passwords[-transaction_number]):\n",
    "            print('[S/KEY Client]', f'User {self._login} logged in successfully')\n",
    "        else:\n",
    "            print('[S/KEY Client]', f'Wrong username or password')\n",
    "    "
   ]
  },
  {
   "cell_type": "markdown",
   "id": "31783b03",
   "metadata": {},
   "source": [
    "----"
   ]
  },
  {
   "cell_type": "code",
   "execution_count": 29,
   "id": "61cf39e3",
   "metadata": {},
   "outputs": [],
   "source": [
    "# Создаю сервер\n",
    "server = SKEYServer(SKEYClient.ROUNDS)"
   ]
  },
  {
   "cell_type": "code",
   "execution_count": 30,
   "id": "3515bb88",
   "metadata": {},
   "outputs": [
    {
     "data": {
      "text/plain": [
       "'0799c7bea678bd4c3763e7c2938aac64'"
      ]
     },
     "execution_count": 30,
     "metadata": {},
     "output_type": "execute_result"
    }
   ],
   "source": [
    "# Создаю случайный ключ (ну можно и фиксированный для \n",
    "# демонстрации, но пусть будет случайным)\n",
    "key = get_random_bytes(16)\n",
    "bytes_as_hex(key)"
   ]
  },
  {
   "cell_type": "code",
   "execution_count": 31,
   "id": "b4b84381",
   "metadata": {},
   "outputs": [
    {
     "name": "stdout",
     "output_type": "stream",
     "text": [
      "[TRACE] [S/KEY Client] User Alice created, key = 0799c7bea678bd4c3763e7c2938aac64\n"
     ]
    }
   ],
   "source": [
    "# Теперь создаю юзера:\n",
    "alice = SKEYClient('Alice', key)"
   ]
  },
  {
   "cell_type": "code",
   "execution_count": 32,
   "id": "bc330a51",
   "metadata": {},
   "outputs": [
    {
     "name": "stdout",
     "output_type": "stream",
     "text": [
      "[TRACE] [S/KEY Server] Attempt to register user Alice with key 0799c7bea678bd4c3763e7c2938aac64\n",
      "[TRACE] [S/KEY Server] Attempt to generate salt for login = 'Alice'\n",
      "[TRACE] [S/KEY Server] Generated salt = 02671496d811c175e2b8b4c54465e599\n",
      "[TRACE] [S/KEY Server] Passords generated\n",
      "[TRACE] [S/KEY Server] User successfully registered\n",
      "[TRACE] [S/KEY Client] Passwords generated\n"
     ]
    }
   ],
   "source": [
    "# Регистрирую пользователя\n",
    "alice.register(server)"
   ]
  },
  {
   "cell_type": "code",
   "execution_count": 33,
   "id": "ff84484f",
   "metadata": {},
   "outputs": [
    {
     "name": "stdout",
     "output_type": "stream",
     "text": [
      "[TRACE] [S/KEY Server] Attempt to get transaction number for: login = 'Alice'\n",
      "[TRACE] [S/KEY Client] Transaction number 1\n",
      "[TRACE] [S/KEY Server] Attempt to login with: login = 'Alice',\n",
      "        nth_password = 6e5d23b238b41090e784ab70315c13c8ff1b29903f651d495e3020d0ae14f80e\n",
      "[S/KEY Client] User Alice logged in successfully\n"
     ]
    }
   ],
   "source": [
    "# Захожу под кредами пользователя\n",
    "alice.login(server)"
   ]
  },
  {
   "cell_type": "code",
   "execution_count": 34,
   "id": "98bf94c9",
   "metadata": {},
   "outputs": [
    {
     "name": "stdout",
     "output_type": "stream",
     "text": [
      "[TRACE] [S/KEY Server] Attempt to get transaction number for: login = 'Alice'\n",
      "[TRACE] [S/KEY Client] Transaction number 2\n",
      "[TRACE] [S/KEY Server] Attempt to login with: login = 'Alice',\n",
      "        nth_password = b88c6c3c8ff39fd992cec62003b52d590d12c813a1e8e5bbec9c9e8174427e3b\n",
      "[S/KEY Client] User Alice logged in successfully\n"
     ]
    }
   ],
   "source": [
    "# И еще раз...\n",
    "alice.login(server)"
   ]
  },
  {
   "cell_type": "code",
   "execution_count": null,
   "id": "ac1673df",
   "metadata": {},
   "outputs": [],
   "source": []
  }
 ],
 "metadata": {
  "kernelspec": {
   "display_name": "Python 3 (ipykernel)",
   "language": "python",
   "name": "python3"
  },
  "language_info": {
   "codemirror_mode": {
    "name": "ipython",
    "version": 3
   },
   "file_extension": ".py",
   "mimetype": "text/x-python",
   "name": "python",
   "nbconvert_exporter": "python",
   "pygments_lexer": "ipython3",
   "version": "3.9.10"
  }
 },
 "nbformat": 4,
 "nbformat_minor": 5
}
