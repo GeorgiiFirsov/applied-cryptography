{
 "cells": [
  {
   "cell_type": "markdown",
   "id": "cbc9dfe1",
   "metadata": {},
   "source": [
    "# Протоколы аутентификации"
   ]
  },
  {
   "cell_type": "code",
   "execution_count": 1,
   "id": "f07a6ba1",
   "metadata": {},
   "outputs": [],
   "source": [
    "IS_DEBUG = 1"
   ]
  },
  {
   "cell_type": "code",
   "execution_count": 2,
   "id": "9bb53066",
   "metadata": {},
   "outputs": [],
   "source": [
    "def trace(*args, **kwargs):\n",
    "    \"\"\"\n",
    "    Отладочная трассировка\n",
    "    \"\"\"\n",
    "    \n",
    "    global IS_DEBUG\n",
    "    if IS_DEBUG:\n",
    "        print('[TRACE]', end=' ')\n",
    "        print(*args, **kwargs)"
   ]
  },
  {
   "cell_type": "markdown",
   "id": "0c1cf513",
   "metadata": {},
   "source": [
    "## Протокол PAP\n",
    "![PAP Protocol](./images/PAP_1.png)"
   ]
  },
  {
   "cell_type": "markdown",
   "id": "6a720c4d",
   "metadata": {},
   "source": [
    "-----"
   ]
  },
  {
   "cell_type": "code",
   "execution_count": 3,
   "id": "c6efa0e4",
   "metadata": {},
   "outputs": [],
   "source": [
    "# Использую хэш-функцию ГОСТ 34.11-2012 \"Стрибог\"\n",
    "from pygost.gost34112012256 import GOST34112012256\n",
    "\n",
    "# Эта либа тоже понадобится\n",
    "import binascii\n",
    "\n",
    "# Для генерации случайных чисел (КГПСЧ)\n",
    "from Crypto.Random import get_random_bytes"
   ]
  },
  {
   "cell_type": "markdown",
   "id": "39d770ff",
   "metadata": {},
   "source": [
    "----"
   ]
  },
  {
   "cell_type": "code",
   "execution_count": 4,
   "id": "b4f8122f",
   "metadata": {},
   "outputs": [],
   "source": [
    "def streebog_hash(*args) -> bytes:\n",
    "    \"\"\"\n",
    "    Расчет хэша для нескольких аргументов (по типу конкатенации)\n",
    "    \"\"\"\n",
    "    \n",
    "    hasher = GOST34112012256()\n",
    "    \n",
    "    for arg in args:\n",
    "        hasher.update(arg)\n",
    "        \n",
    "    return hasher.digest()\n",
    "\n",
    "def bytes_as_hex(b: bytes) -> str:\n",
    "    \"\"\"\n",
    "    Перевод бинарных данных в hex-строчку\n",
    "    \"\"\"\n",
    "    \n",
    "    return binascii.hexlify(b).decode()"
   ]
  },
  {
   "cell_type": "markdown",
   "id": "2ffde7fb",
   "metadata": {},
   "source": [
    "------"
   ]
  },
  {
   "cell_type": "code",
   "execution_count": 5,
   "id": "71707ace",
   "metadata": {},
   "outputs": [],
   "source": [
    "class PAPServer(object):\n",
    "    def __init__(self):\n",
    "        self._db = {}\n",
    "        \n",
    "    def register_user(self, login: str, password: str):\n",
    "        trace('[PAP Server]', f'Attempt to register user with credentials {login}:{password}')\n",
    "        \n",
    "        if login in self._db:\n",
    "            trace('[PAP Server]', 'User already exists')\n",
    "            raise ValueError(f'User {login} is already registered')\n",
    "            \n",
    "        #\n",
    "        # Рассчитаю хэш пароля и запишу в базу\n",
    "        #\n",
    "        \n",
    "        self._db[login] = streebog_hash(password.encode())\n",
    "        trace('[PAP Server]', f'User successfully registered, password hash: {bytes_as_hex(self._db[login])}')\n",
    "        \n",
    "    def login(self, login: str, password: str) -> bool:\n",
    "        trace('[PAP Server]', f'Attempt to login with credentials {login}:{password}')\n",
    "        \n",
    "        if login not in self._db:\n",
    "            trace('[PAP Server]', \"User doesn't exist\")\n",
    "            return False\n",
    "        \n",
    "        #\n",
    "        # Пользователь есть, рассчитаю хэш пароля и сравню с имеющимся\n",
    "        #\n",
    "        \n",
    "        pass_hash = streebog_hash(password.encode())\n",
    "        real_hash = self._db[login]\n",
    "        \n",
    "        trace('[PAP Server]', f'Password hash: {bytes_as_hex(pass_hash)}')\n",
    "        trace('[PAP Server]', f'Stored hash:   {bytes_as_hex(real_hash)}')\n",
    "        \n",
    "        return pass_hash == real_hash"
   ]
  },
  {
   "cell_type": "code",
   "execution_count": 6,
   "id": "950e995a",
   "metadata": {},
   "outputs": [],
   "source": [
    "class PAPClient(object):\n",
    "    def __init__(self, login, password):\n",
    "        self._login  = login\n",
    "        self._passwd = password\n",
    "        \n",
    "        trace('[PAP Client]', f'User with credentials {self._login}:{self._passwd} created')\n",
    "        \n",
    "    def register(self, srv: PAPServer):\n",
    "        try:\n",
    "            srv.register_user(self._login, self._passwd)\n",
    "        except Exception as e:\n",
    "            trace(e)\n",
    "    \n",
    "    def login(self, srv: PAPServer):\n",
    "        if srv.login(self._login, self._passwd):\n",
    "            print('[PAP Client]', f'User {self._login} logged in successfully')\n",
    "        else:\n",
    "            print('[PAP Client]', f'Wrong username or password')"
   ]
  },
  {
   "cell_type": "markdown",
   "id": "56ecf6dd",
   "metadata": {},
   "source": [
    "----"
   ]
  },
  {
   "cell_type": "code",
   "execution_count": 7,
   "id": "dcaf77d7",
   "metadata": {},
   "outputs": [],
   "source": [
    "# Создаю сервер\n",
    "server = PAPServer()"
   ]
  },
  {
   "cell_type": "code",
   "execution_count": 8,
   "id": "ec4e3bd3",
   "metadata": {},
   "outputs": [
    {
     "name": "stdout",
     "output_type": "stream",
     "text": [
      "[TRACE] [PAP Client] User with credentials Alice:Trust_m3_0r_n0t created\n",
      "[TRACE] [PAP Client] User with credentials Alice:try_t0_gu3$$ created\n"
     ]
    }
   ],
   "source": [
    "# Теперь создаю двух юзеров: \n",
    "# - Алису - валидного пользователя\n",
    "# - Еву - пользователя, пытающегося представиться Алисой\n",
    "real_alice = PAPClient('Alice', 'Trust_m3_0r_n0t')\n",
    "eve = PAPClient('Alice', 'try_t0_gu3$$')"
   ]
  },
  {
   "cell_type": "code",
   "execution_count": 9,
   "id": "de5b8b01",
   "metadata": {},
   "outputs": [
    {
     "name": "stdout",
     "output_type": "stream",
     "text": [
      "[TRACE] [PAP Server] Attempt to register user with credentials Alice:Trust_m3_0r_n0t\n",
      "[TRACE] [PAP Server] User successfully registered, password hash: bdb147b4b8ae6f408dd51cdb17d6300f3e475b504129ba01e5715899b60366b8\n"
     ]
    }
   ],
   "source": [
    "# Регистрирую валидного пользователя\n",
    "real_alice.register(server)"
   ]
  },
  {
   "cell_type": "code",
   "execution_count": 10,
   "id": "4e2ee149",
   "metadata": {},
   "outputs": [
    {
     "name": "stdout",
     "output_type": "stream",
     "text": [
      "[TRACE] [PAP Server] Attempt to login with credentials Alice:Trust_m3_0r_n0t\n",
      "[TRACE] [PAP Server] Password hash: bdb147b4b8ae6f408dd51cdb17d6300f3e475b504129ba01e5715899b60366b8\n",
      "[TRACE] [PAP Server] Stored hash:   bdb147b4b8ae6f408dd51cdb17d6300f3e475b504129ba01e5715899b60366b8\n",
      "[PAP Client] User Alice logged in successfully\n"
     ]
    }
   ],
   "source": [
    "# Захожу под кредами валидного пользователя\n",
    "real_alice.login(server)"
   ]
  },
  {
   "cell_type": "code",
   "execution_count": 11,
   "id": "eb8f2ad1",
   "metadata": {},
   "outputs": [
    {
     "name": "stdout",
     "output_type": "stream",
     "text": [
      "[TRACE] [PAP Server] Attempt to login with credentials Alice:try_t0_gu3$$\n",
      "[TRACE] [PAP Server] Password hash: 034eda071f984d17f28f9ae214c5d9b9a9fc0e112df98d0e4b5b2eb3d701b314\n",
      "[TRACE] [PAP Server] Stored hash:   bdb147b4b8ae6f408dd51cdb17d6300f3e475b504129ba01e5715899b60366b8\n",
      "[PAP Client] Wrong username or password\n"
     ]
    }
   ],
   "source": [
    "# Пытаюсь зайти под неправильными кредами\n",
    "eve.login(server)"
   ]
  },
  {
   "cell_type": "markdown",
   "id": "f6d411b2",
   "metadata": {},
   "source": [
    "-----"
   ]
  },
  {
   "cell_type": "markdown",
   "id": "ca0bd721",
   "metadata": {},
   "source": [
    "## Протокол CHAP\n",
    "![CHAP Protocol](./images/CHAP_1.png)"
   ]
  },
  {
   "cell_type": "code",
   "execution_count": 12,
   "id": "9322e597",
   "metadata": {},
   "outputs": [],
   "source": [
    "class CHAPServer(object):\n",
    "    def __init__(self):\n",
    "        self._db = {}\n",
    "        \n",
    "    def register_user(self, login, password):\n",
    "        trace('[CHAP Server]', f'Attempt to register user with credentials {login}:{password}')\n",
    "        \n",
    "        if login in self._db:\n",
    "            trace('[CHAP Server]', 'User already exists')\n",
    "            raise ValueError(f'User {login} is already registered')\n",
    "            \n",
    "        #\n",
    "        # Запишу в базу\n",
    "        #\n",
    "        \n",
    "        self._db[login] = [password.encode(), None]\n",
    "        trace('[CHAP Server]', f'User successfully registered')\n",
    "    \n",
    "    def login(self, login, response):\n",
    "        trace('[CHAP Server]', f'''Attempt to login with: {login = }, \n",
    "        response = {bytes_as_hex(response)}''')\n",
    "        \n",
    "        if login not in self._db:\n",
    "            trace('[CHAP Server]', \"User doesn't exist\")\n",
    "            return False\n",
    "        \n",
    "        #\n",
    "        # Пользователь есть, достану челлендж и обнулю\n",
    "        #\n",
    "        \n",
    "        challenge = self._db[login][1]\n",
    "        self._db[login][1] = None\n",
    "        \n",
    "        if challenge is None:\n",
    "            trace('[CHAP Server]', f'No challenge was generated for {login = }')\n",
    "            return False\n",
    "        \n",
    "        #\n",
    "        # Рассчитаю хэш и сравню с респонсом\n",
    "        #\n",
    "        \n",
    "        challenge_hash = streebog_hash(challenge, self._db[login][0])\n",
    "        \n",
    "        trace('[CHAP Server]', f'Calculated hash: {bytes_as_hex(challenge_hash)}')\n",
    "        trace('[CHAP Server]', f'Received hash:   {bytes_as_hex(response)}')\n",
    "        \n",
    "        return challenge_hash == response\n",
    "    \n",
    "    def generate_challenge(self, login):\n",
    "        trace('[CHAP Server]', f'Attempt to generate challege for: {login = }')\n",
    "        \n",
    "        if login not in self._db:\n",
    "            trace('[CHAP Server]', \"User doesn't exist\")\n",
    "            return None\n",
    "        \n",
    "        challenge = get_random_bytes(16)\n",
    "        self._db[login][1] = challenge\n",
    "        \n",
    "        trace('[CHAP Server]', f'Generated challenge = {bytes_as_hex(challenge)}')\n",
    "        return challenge"
   ]
  },
  {
   "cell_type": "code",
   "execution_count": 13,
   "id": "7317fae5",
   "metadata": {},
   "outputs": [],
   "source": [
    "class CHAPClient(object):\n",
    "    def __init__(self, login, password):\n",
    "        self._login  = login\n",
    "        self._passwd = password\n",
    "        \n",
    "        trace('[CHAP Client]', f'User with credentials {self._login}:{self._passwd} created')\n",
    "        \n",
    "    def register(self, srv: CHAPServer):\n",
    "        try:\n",
    "            srv.register_user(self._login, self._passwd)\n",
    "        except Exception as e:\n",
    "            trace(e)\n",
    "    \n",
    "    def login(self, srv: CHAPServer):\n",
    "        challenge = srv.generate_challenge(self._login)\n",
    "        if challenge is None:\n",
    "            print('[CHAP Client]', f'Wrong username or password')\n",
    "            return\n",
    "        \n",
    "        response = streebog_hash(challenge, self._passwd.encode())\n",
    "        if srv.login(self._login, response):\n",
    "            print('[CHAP Client]', f'User {self._login} logged in successfully')\n",
    "        else:\n",
    "            print('[CHAP Client]', f'Wrong username or password')"
   ]
  },
  {
   "cell_type": "markdown",
   "id": "d9a24807",
   "metadata": {},
   "source": [
    "----"
   ]
  },
  {
   "cell_type": "code",
   "execution_count": 14,
   "id": "e3f648e3",
   "metadata": {},
   "outputs": [],
   "source": [
    "# Создаю сервер\n",
    "server = CHAPServer()"
   ]
  },
  {
   "cell_type": "code",
   "execution_count": 15,
   "id": "83897ca8",
   "metadata": {},
   "outputs": [
    {
     "name": "stdout",
     "output_type": "stream",
     "text": [
      "[TRACE] [CHAP Client] User with credentials Alice:Trust_m3_0r_n0t created\n",
      "[TRACE] [CHAP Client] User with credentials Alice:try_t0_gu3$$ created\n"
     ]
    }
   ],
   "source": [
    "# Теперь создаю двух юзеров: \n",
    "# - Алису - валидного пользователя\n",
    "# - Еву - пользователя, пытающегося представиться Алисой\n",
    "real_alice = CHAPClient('Alice', 'Trust_m3_0r_n0t')\n",
    "eve = CHAPClient('Alice', 'try_t0_gu3$$')"
   ]
  },
  {
   "cell_type": "code",
   "execution_count": 16,
   "id": "bc38d5e8",
   "metadata": {},
   "outputs": [
    {
     "name": "stdout",
     "output_type": "stream",
     "text": [
      "[TRACE] [CHAP Server] Attempt to register user with credentials Alice:Trust_m3_0r_n0t\n",
      "[TRACE] [CHAP Server] User successfully registered\n"
     ]
    }
   ],
   "source": [
    "# Регистрирую валидного пользователя\n",
    "real_alice.register(server)"
   ]
  },
  {
   "cell_type": "code",
   "execution_count": 17,
   "id": "cb85295e",
   "metadata": {},
   "outputs": [
    {
     "name": "stdout",
     "output_type": "stream",
     "text": [
      "[TRACE] [CHAP Server] Attempt to generate challege for: login = 'Alice'\n",
      "[TRACE] [CHAP Server] Generated challenge = fdafb43f36922d02d56ffd3de292de49\n",
      "[TRACE] [CHAP Server] Attempt to login with: login = 'Alice', \n",
      "        response = 9de261a764d7c1b1eb167f1d8cc679f07c2635dcb4d66765217138a1c188056b\n",
      "[TRACE] [CHAP Server] Calculated hash: 9de261a764d7c1b1eb167f1d8cc679f07c2635dcb4d66765217138a1c188056b\n",
      "[TRACE] [CHAP Server] Received hash:   9de261a764d7c1b1eb167f1d8cc679f07c2635dcb4d66765217138a1c188056b\n",
      "[CHAP Client] User Alice logged in successfully\n"
     ]
    }
   ],
   "source": [
    "# Захожу под кредами валидного пользователя\n",
    "real_alice.login(server)"
   ]
  },
  {
   "cell_type": "code",
   "execution_count": 18,
   "id": "60ee9658",
   "metadata": {},
   "outputs": [
    {
     "name": "stdout",
     "output_type": "stream",
     "text": [
      "[TRACE] [CHAP Server] Attempt to generate challege for: login = 'Alice'\n",
      "[TRACE] [CHAP Server] Generated challenge = c81d8164fd83f74de900bc1e36029f6f\n",
      "[TRACE] [CHAP Server] Attempt to login with: login = 'Alice', \n",
      "        response = eaaa3bc5bd0e0df8c4caf1e4bb86acf3ec091ffcf7db1d081dce93d309f94ca2\n",
      "[TRACE] [CHAP Server] Calculated hash: a0adf06cbe7a1ea36f2c483eb24c8ac35f8ea72fcb2d73522980a41f23f74e6a\n",
      "[TRACE] [CHAP Server] Received hash:   eaaa3bc5bd0e0df8c4caf1e4bb86acf3ec091ffcf7db1d081dce93d309f94ca2\n",
      "[CHAP Client] Wrong username or password\n"
     ]
    }
   ],
   "source": [
    "# Пытаюсь зайти под неправильными кредами\n",
    "eve.login(server)"
   ]
  },
  {
   "cell_type": "markdown",
   "id": "69830602",
   "metadata": {},
   "source": [
    "----"
   ]
  },
  {
   "cell_type": "markdown",
   "id": "57726872",
   "metadata": {},
   "source": [
    "## Двустронний протокол CHAP"
   ]
  },
  {
   "cell_type": "code",
   "execution_count": 19,
   "id": "75e1a7eb",
   "metadata": {},
   "outputs": [],
   "source": [
    "class ModifiedCHAPServer(object):\n",
    "    def __init__(self):\n",
    "        self._db = {}\n",
    "        self._server_login = 'Alice'\n",
    "        self._server_pass  = '1qazXSW@'\n",
    "        \n",
    "    def register_user(self, login, password):\n",
    "        trace('[Modified CHAP Server]', f'Attempt to register user with credentials {login}:{password}')\n",
    "        \n",
    "        if login in self._db:\n",
    "            trace('[Modified CHAP Server]', 'User already exists')\n",
    "            raise ValueError(f'User {login} is already registered')\n",
    "            \n",
    "        #\n",
    "        # Запишу в базу\n",
    "        #\n",
    "        \n",
    "        self._db[login] = [password.encode(), None]\n",
    "        \n",
    "        trace('[Modified CHAP Server]', f'User successfully registered')\n",
    "        \n",
    "        return self._server_login, self._server_pass\n",
    "        \n",
    "    def login(self, login, response, client_challenge):\n",
    "        trace(f'''[Modified CHAP Server]', f'Attempt to login with: {login = },\n",
    "        response = {bytes_as_hex(response)}, \n",
    "        client_challenge = {bytes_as_hex(client_challenge)}''')\n",
    "        \n",
    "        if login not in self._db:\n",
    "            trace('[Modified CHAP Server]', \"User doesn't exist\")\n",
    "            return None\n",
    "        \n",
    "        #\n",
    "        # Пользователь есть, достану челлендж и обнулю\n",
    "        #\n",
    "        \n",
    "        challenge = self._db[login][1]\n",
    "        self._db[login][1] = None\n",
    "        \n",
    "        if challenge is None:\n",
    "            trace('[Modified CHAP Server]', f'No challenge was generated for {login = }')\n",
    "            return None\n",
    "        \n",
    "        #\n",
    "        # Рассчитаю хэш и сравню с респонсом\n",
    "        #\n",
    "        \n",
    "        challenge_hash = streebog_hash(challenge, self._db[login][0])\n",
    "        \n",
    "        trace('[Modified CHAP Server]', f'Calculated hash: {bytes_as_hex(challenge_hash)}')\n",
    "        trace('[Modified CHAP Server]', f'Received hash:   {bytes_as_hex(response)}')\n",
    "        \n",
    "        if challenge_hash != response:\n",
    "            return None\n",
    "        \n",
    "        #\n",
    "        # Теперь считаю хэш для челленджа клиента и возвращаю его\n",
    "        #\n",
    "        \n",
    "        client_challenge_hash = streebog_hash(client_challenge, self._server_pass.encode())\n",
    "        return self._server_login, client_challenge_hash\n",
    "    \n",
    "    def generate_challenge(self, login):\n",
    "        trace('[Modified CHAP Server]', f'Attempt to generate challege for: {login = }')\n",
    "        \n",
    "        if login not in self._db:\n",
    "            trace('[Modified CHAP Server]', \"User doesn't exist\")\n",
    "            return None\n",
    "        \n",
    "        challenge = get_random_bytes(16)\n",
    "        self._db[login][1] = challenge\n",
    "        \n",
    "        trace('[Modified CHAP Server]', f'Generated challenge = {bytes_as_hex(challenge)}')\n",
    "        \n",
    "        return challenge"
   ]
  },
  {
   "cell_type": "code",
   "execution_count": 20,
   "id": "eee84ed4",
   "metadata": {},
   "outputs": [],
   "source": [
    "class ModifiedCHAPClient(object):\n",
    "    def __init__(self, login, password):\n",
    "        self._login  = login\n",
    "        self._passwd = password\n",
    "        \n",
    "        self._servers_db = {}\n",
    "        \n",
    "        trace('[Modified CHAP Client]', f'User with credentials {self._login}:{self._passwd} created')\n",
    "        \n",
    "    def register(self, srv: CHAPServer):\n",
    "        try:\n",
    "            login, password = srv.register_user(self._login, self._passwd)\n",
    "            self._servers_db[login] = password\n",
    "        except Exception as e:\n",
    "            trace(e)\n",
    "    \n",
    "    def login(self, srv: CHAPServer):\n",
    "        srv_challenge = srv.generate_challenge(self._login)\n",
    "        if srv_challenge is None:\n",
    "            print('[Modified CHAP Client]', f'Wrong username or password')\n",
    "            return\n",
    "        \n",
    "        response  = streebog_hash(srv_challenge, self._passwd.encode())\n",
    "        challenge = self.generate_challenge()\n",
    "        srv_data  = srv.login(self._login, response, challenge)\n",
    "        \n",
    "        if srv_data is not None:\n",
    "            srv_login, srv_response = srv_data\n",
    "            \n",
    "            if srv_login not in self._servers_db:\n",
    "                print('[Modified CHAP Client]', f'Server {srv_login} not registered')\n",
    "                return\n",
    "            \n",
    "            srv_challenge_hash = streebog_hash(challenge, self._servers_db[srv_login].encode())\n",
    "            \n",
    "            trace('[Modified CHAP Client]', f'Calculated hash: {bytes_as_hex(srv_challenge_hash)}')\n",
    "            trace('[Modified CHAP Client]', f'Received hash:   {bytes_as_hex(srv_response)}')\n",
    "            \n",
    "            if srv_challenge_hash == srv_response:\n",
    "                print('[Modified CHAP Client]', f'User {self._login} logged in successfully')\n",
    "            else:\n",
    "                print('[Modified CHAP Client]', f'Server {srv_login} is not authenticated')\n",
    "        \n",
    "        print('[Modified CHAP Client]', f'Wrong username or password')\n",
    "            \n",
    "    @staticmethod\n",
    "    def generate_challenge():\n",
    "        return get_random_bytes(16)"
   ]
  },
  {
   "cell_type": "markdown",
   "id": "e1bb9e30",
   "metadata": {},
   "source": [
    "------"
   ]
  },
  {
   "cell_type": "code",
   "execution_count": 21,
   "id": "095bd166",
   "metadata": {},
   "outputs": [],
   "source": [
    "# Создаю сервер\n",
    "server = ModifiedCHAPServer()"
   ]
  },
  {
   "cell_type": "code",
   "execution_count": 22,
   "id": "66154b46",
   "metadata": {},
   "outputs": [
    {
     "name": "stdout",
     "output_type": "stream",
     "text": [
      "[TRACE] [Modified CHAP Client] User with credentials Alice:Trust_m3_0r_n0t created\n",
      "[TRACE] [Modified CHAP Client] User with credentials Alice:try_t0_gu3$$ created\n"
     ]
    }
   ],
   "source": [
    "# Теперь создаю двух юзеров: \n",
    "# - Алису - валидного пользователя\n",
    "# - Еву - пользователя, пытающегося представиться Алисой\n",
    "real_alice = ModifiedCHAPClient('Alice', 'Trust_m3_0r_n0t')\n",
    "eve = ModifiedCHAPClient('Alice', 'try_t0_gu3$$')"
   ]
  },
  {
   "cell_type": "code",
   "execution_count": 23,
   "id": "4f354a5b",
   "metadata": {},
   "outputs": [
    {
     "name": "stdout",
     "output_type": "stream",
     "text": [
      "[TRACE] [Modified CHAP Server] Attempt to register user with credentials Alice:Trust_m3_0r_n0t\n",
      "[TRACE] [Modified CHAP Server] User successfully registered\n"
     ]
    }
   ],
   "source": [
    "# Регистрирую валидного пользователя\n",
    "real_alice.register(server)"
   ]
  },
  {
   "cell_type": "code",
   "execution_count": 24,
   "id": "72d5d55e",
   "metadata": {},
   "outputs": [
    {
     "name": "stdout",
     "output_type": "stream",
     "text": [
      "[TRACE] [Modified CHAP Server] Attempt to generate challege for: login = 'Alice'\n",
      "[TRACE] [Modified CHAP Server] Generated challenge = 973a821615abbfa41e864d745232f78a\n",
      "[TRACE] [Modified CHAP Server]', f'Attempt to login with: login = 'Alice',\n",
      "        response = 62521dc017158da562173536ab25894cc72264ff1a558910301157e8dbaddc52, \n",
      "        client_challenge = 04686ed4374881dd18d3566de8756df5\n",
      "[TRACE] [Modified CHAP Server] Calculated hash: 62521dc017158da562173536ab25894cc72264ff1a558910301157e8dbaddc52\n",
      "[TRACE] [Modified CHAP Server] Received hash:   62521dc017158da562173536ab25894cc72264ff1a558910301157e8dbaddc52\n",
      "[TRACE] [Modified CHAP Client] Calculated hash: a3985fb7aa4e1370a99b87f311321287541a4a71bf4e2c093cdd36aa2a37bd63\n",
      "[TRACE] [Modified CHAP Client] Received hash:   a3985fb7aa4e1370a99b87f311321287541a4a71bf4e2c093cdd36aa2a37bd63\n",
      "[Modified CHAP Client] User Alice logged in successfully\n",
      "[Modified CHAP Client] Wrong username or password\n"
     ]
    }
   ],
   "source": [
    "# Захожу под кредами валидного пользователя\n",
    "real_alice.login(server)"
   ]
  },
  {
   "cell_type": "code",
   "execution_count": 25,
   "id": "95c01b6f",
   "metadata": {},
   "outputs": [
    {
     "name": "stdout",
     "output_type": "stream",
     "text": [
      "[TRACE] [Modified CHAP Server] Attempt to generate challege for: login = 'Alice'\n",
      "[TRACE] [Modified CHAP Server] Generated challenge = 4115e74d804b8139481a7a83811cf192\n",
      "[TRACE] [Modified CHAP Server]', f'Attempt to login with: login = 'Alice',\n",
      "        response = f145f180d896afa3f5df022d1536e2261453ebaa9afea881a0b647791c3ce70f, \n",
      "        client_challenge = 03b28013eb85d5b6861392f02bd41995\n",
      "[TRACE] [Modified CHAP Server] Calculated hash: 7142792746178b32fb7bfad475563ecbc10890ee2f4ff9fe15a1ab9cdced4c81\n",
      "[TRACE] [Modified CHAP Server] Received hash:   f145f180d896afa3f5df022d1536e2261453ebaa9afea881a0b647791c3ce70f\n",
      "[Modified CHAP Client] Wrong username or password\n"
     ]
    }
   ],
   "source": [
    "# Пытаюсь зайти под неправильными кредами\n",
    "eve.login(server)"
   ]
  },
  {
   "cell_type": "markdown",
   "id": "eb15de91",
   "metadata": {},
   "source": [
    "----"
   ]
  },
  {
   "cell_type": "markdown",
   "id": "9c2993d4",
   "metadata": {},
   "source": [
    "## Протокол S/KEY\n",
    "![S/KEY Protocol](./images/SKEY_1.png)"
   ]
  },
  {
   "cell_type": "code",
   "execution_count": 26,
   "id": "c94939a0",
   "metadata": {},
   "outputs": [],
   "source": [
    "# To be implemented"
   ]
  }
 ],
 "metadata": {
  "kernelspec": {
   "display_name": "Python 3 (ipykernel)",
   "language": "python",
   "name": "python3"
  },
  "language_info": {
   "codemirror_mode": {
    "name": "ipython",
    "version": 3
   },
   "file_extension": ".py",
   "mimetype": "text/x-python",
   "name": "python",
   "nbconvert_exporter": "python",
   "pygments_lexer": "ipython3",
   "version": "3.9.10"
  }
 },
 "nbformat": 4,
 "nbformat_minor": 5
}
