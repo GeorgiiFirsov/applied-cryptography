{
 "cells": [
  {
   "cell_type": "markdown",
   "id": "cbc9dfe1",
   "metadata": {},
   "source": [
    "# Протоколы аутентификации"
   ]
  },
  {
   "cell_type": "code",
   "execution_count": 1,
   "id": "9bb53066",
   "metadata": {},
   "outputs": [],
   "source": [
    "IS_DEBUG = 1\n",
    "\n",
    "def trace(*args, **kwargs):\n",
    "    \"\"\"\n",
    "    Отладочная трассировка\n",
    "    \"\"\"\n",
    "    \n",
    "    global IS_DEBUG\n",
    "    if IS_DEBUG:\n",
    "        print('[TRACE]', end=' ')\n",
    "        print(*args, **kwargs)"
   ]
  },
  {
   "cell_type": "markdown",
   "id": "0c1cf513",
   "metadata": {},
   "source": [
    "## Протокол PAP\n",
    "![PAP Protocol](./images/PAP_1.png)"
   ]
  },
  {
   "cell_type": "markdown",
   "id": "6a720c4d",
   "metadata": {},
   "source": [
    "-----"
   ]
  },
  {
   "cell_type": "code",
   "execution_count": 2,
   "id": "c6efa0e4",
   "metadata": {},
   "outputs": [],
   "source": [
    "# Использую хэш-функцию ГОСТ 34.11-2012 \"Стрибог\"\n",
    "from pygost.gost34112012256 import GOST34112012256\n",
    "\n",
    "# Эта либа тоже понадобится\n",
    "import binascii\n",
    "\n",
    "# Для генерации случайных чисел (КГПСЧ)\n",
    "from Crypto.Random import get_random_bytes"
   ]
  },
  {
   "cell_type": "markdown",
   "id": "afa6f13c",
   "metadata": {},
   "source": [
    "----"
   ]
  },
  {
   "cell_type": "code",
   "execution_count": 3,
   "id": "71707ace",
   "metadata": {},
   "outputs": [],
   "source": [
    "class PAPServer(object):\n",
    "    def __init__(self):\n",
    "        self._db = {}\n",
    "        \n",
    "    def register_user(self, login: str, password: str):\n",
    "        trace('[PAP]', f'Attempt to register user with credentials: {login = }, {password = }')\n",
    "        \n",
    "        if login in self._db:\n",
    "            trace('User already exists')\n",
    "            raise ValueError(f'User {login} is already registered')\n",
    "            \n",
    "        #\n",
    "        # Рассчитаю хэш пароля и запишу в базу\n",
    "        #\n",
    "        \n",
    "        hasher = GOST34112012256()\n",
    "        hasher.update(password.encode())\n",
    "        \n",
    "        self._db[login] = hasher.digest()\n",
    "        \n",
    "        trace('[PAP]', f'User successfully registered, password hash: {hasher.hexdigest()}')\n",
    "        \n",
    "    def login(self, login: str, password: str) -> bool:\n",
    "        trace('[PAP]', f'Attempt to login with credentials: {login = }, {password = }')\n",
    "        \n",
    "        if login not in self._db:\n",
    "            trace('[PAP]', \"User doesn't exist\")\n",
    "            return False\n",
    "        \n",
    "        #\n",
    "        # Пользователь есть, рассчитаю хэш пароля и сравню с имеющимся\n",
    "        #\n",
    "        \n",
    "        hasher = GOST34112012256()\n",
    "        hasher.update(password.encode())\n",
    "        \n",
    "        real_hash = self._db[login]\n",
    "        \n",
    "        trace('[PAP]', f'Password hash: {hasher.hexdigest()}')\n",
    "        trace('[PAP]', f'Stored hash:   {binascii.hexlify(real_hash).decode()}')\n",
    "        \n",
    "        return hasher.digest() == real_hash"
   ]
  },
  {
   "cell_type": "code",
   "execution_count": 4,
   "id": "950e995a",
   "metadata": {},
   "outputs": [],
   "source": [
    "class PAPClient(object):\n",
    "    def __init__(self, login, password):\n",
    "        self._login  = login\n",
    "        self._passwd = password\n",
    "        \n",
    "        trace('[PAP]', f'User with credentials {self._login}:{self._passwd} created')\n",
    "        \n",
    "    def register(self, srv: PAPServer):\n",
    "        try:\n",
    "            srv.register_user(self._login, self._passwd)\n",
    "        except Exception as e:\n",
    "            trace(e)\n",
    "    \n",
    "    def login(self, srv: PAPServer):\n",
    "        if srv.login(self._login, self._passwd):\n",
    "            print('[PAP]', f'User {self._login} logged in successfully')\n",
    "        else:\n",
    "            print('[PAP]', f'Wrong username or password')"
   ]
  },
  {
   "cell_type": "markdown",
   "id": "56ecf6dd",
   "metadata": {},
   "source": [
    "----"
   ]
  },
  {
   "cell_type": "code",
   "execution_count": 5,
   "id": "dcaf77d7",
   "metadata": {},
   "outputs": [],
   "source": [
    "# Создаю сервер\n",
    "server = PAPServer()"
   ]
  },
  {
   "cell_type": "code",
   "execution_count": 6,
   "id": "ec4e3bd3",
   "metadata": {},
   "outputs": [
    {
     "name": "stdout",
     "output_type": "stream",
     "text": [
      "[TRACE] [PAP] User with credentials Alice:Trust_m3_0r_n0t created\n",
      "[TRACE] [PAP] User with credentials Alice:try_t0_gu3$$ created\n"
     ]
    }
   ],
   "source": [
    "# Теперь создаю двух юзеров: \n",
    "# - Алису - валидного пользователя\n",
    "# - Еву - пользователя, пытающегося представиться Алисой\n",
    "real_alice = PAPClient('Alice', 'Trust_m3_0r_n0t')\n",
    "eve = PAPClient('Alice', 'try_t0_gu3$$')"
   ]
  },
  {
   "cell_type": "code",
   "execution_count": 7,
   "id": "de5b8b01",
   "metadata": {},
   "outputs": [
    {
     "name": "stdout",
     "output_type": "stream",
     "text": [
      "[TRACE] [PAP] Attempt to register user with credentials: login = 'Alice', password = 'Trust_m3_0r_n0t'\n",
      "[TRACE] [PAP] User successfully registered, password hash: bdb147b4b8ae6f408dd51cdb17d6300f3e475b504129ba01e5715899b60366b8\n"
     ]
    }
   ],
   "source": [
    "# Регистрирую валидного пользователя\n",
    "real_alice.register(server)"
   ]
  },
  {
   "cell_type": "code",
   "execution_count": 8,
   "id": "4e2ee149",
   "metadata": {},
   "outputs": [
    {
     "name": "stdout",
     "output_type": "stream",
     "text": [
      "[TRACE] [PAP] Attempt to login with credentials: login = 'Alice', password = 'Trust_m3_0r_n0t'\n",
      "[TRACE] [PAP] Password hash: bdb147b4b8ae6f408dd51cdb17d6300f3e475b504129ba01e5715899b60366b8\n",
      "[TRACE] [PAP] Stored hash:   bdb147b4b8ae6f408dd51cdb17d6300f3e475b504129ba01e5715899b60366b8\n",
      "[PAP] User Alice logged in successfully\n"
     ]
    }
   ],
   "source": [
    "# Захожу под кредами валидного пользователя\n",
    "real_alice.login(server)"
   ]
  },
  {
   "cell_type": "code",
   "execution_count": 9,
   "id": "eb8f2ad1",
   "metadata": {},
   "outputs": [
    {
     "name": "stdout",
     "output_type": "stream",
     "text": [
      "[TRACE] [PAP] Attempt to login with credentials: login = 'Alice', password = 'try_t0_gu3$$'\n",
      "[TRACE] [PAP] Password hash: 034eda071f984d17f28f9ae214c5d9b9a9fc0e112df98d0e4b5b2eb3d701b314\n",
      "[TRACE] [PAP] Stored hash:   bdb147b4b8ae6f408dd51cdb17d6300f3e475b504129ba01e5715899b60366b8\n",
      "[PAP] Wrong username or password\n"
     ]
    }
   ],
   "source": [
    "# Пытаюсь зайти под неправильными кредами\n",
    "eve.login(server)"
   ]
  },
  {
   "cell_type": "markdown",
   "id": "f6d411b2",
   "metadata": {},
   "source": [
    "-----"
   ]
  },
  {
   "cell_type": "markdown",
   "id": "ca0bd721",
   "metadata": {},
   "source": [
    "## Протокол CHAP\n",
    "![CHAP Protocol](./images/CHAP_1.png)"
   ]
  },
  {
   "cell_type": "code",
   "execution_count": 10,
   "id": "9322e597",
   "metadata": {},
   "outputs": [],
   "source": [
    "class CHAPServer(object):\n",
    "    def __init__(self):\n",
    "        self._db = {}\n",
    "        \n",
    "    def register_user(self, login, password):\n",
    "        trace('[CHAP]', f'Attempt to register user with credentials: {login = }, {password = }')\n",
    "        \n",
    "        if login in self._db:\n",
    "            trace('[CHAP]', 'User already exists')\n",
    "            raise ValueError(f'User {login} is already registered')\n",
    "            \n",
    "        #\n",
    "        # Запишу в базу\n",
    "        #\n",
    "        \n",
    "        self._db[login] = [password.encode(), None]\n",
    "        \n",
    "        trace('[CHAP]', f'User successfully registered, password hash: {hasher.hexdigest()}')\n",
    "    \n",
    "    def login(self, login, response):\n",
    "        trace('[CHAP]', f'Attempt to login with: {login = }, response = {binascii.hexlify(response).decode()}')\n",
    "        \n",
    "        if login not in self._db:\n",
    "            trace('[CHAP]', \"User doesn't exist\")\n",
    "            return False\n",
    "        \n",
    "        #\n",
    "        # Пользователь есть, достану челлендж и обнулю\n",
    "        #\n",
    "        \n",
    "        challenge = self._db[login][1]\n",
    "        self._db[login][1] = None\n",
    "        \n",
    "        if challenge is None:\n",
    "            trace('[CHAP]', f'No challenge was generated for {login = }')\n",
    "            return False\n",
    "        \n",
    "        #\n",
    "        # Рассчитаю хэш и сравню с респонсом\n",
    "        #\n",
    "        \n",
    "        hasher = GOST34112012256()\n",
    "        hasher.update(challenge)\n",
    "        hasher.update(self._db[login][0])\n",
    "        \n",
    "        trace('[CHAP]', f'Calculated hash: {hasher.hexdigest()}')\n",
    "        trace('[CHAP]', f'Received hash:   {binascii.hexlify(response).decode()}')\n",
    "        \n",
    "        return hasher.digest() == response\n",
    "    \n",
    "    def generate_challenge(self, login):\n",
    "        trace('[CHAP]', f'Attempt to generate challege for: {login = }')\n",
    "        \n",
    "        if login not in self._db:\n",
    "            trace('[CHAP]', \"User doesn't exist\")\n",
    "            return None\n",
    "        \n",
    "        challenge = get_random_bytes(16)\n",
    "        self._db[login][1] = challenge\n",
    "        \n",
    "        trace('[CHAP]', f'Generated challenge = {binascii.hexlify(challenge).decode()}')\n",
    "        \n",
    "        return challenge"
   ]
  },
  {
   "cell_type": "code",
   "execution_count": 11,
   "id": "7317fae5",
   "metadata": {},
   "outputs": [],
   "source": [
    "class CHAPClient(object):\n",
    "    def __init__(self, login, password):\n",
    "        self._login  = login\n",
    "        self._passwd = password\n",
    "        \n",
    "        trace('[CHAP]', f'User with credentials {self._login}:{self._passwd} created')\n",
    "        \n",
    "    def register(self, srv: CHAPServer):\n",
    "        try:\n",
    "            srv.register_user(self._login, self._passwd)\n",
    "        except Exception as e:\n",
    "            trace(e)\n",
    "    \n",
    "    def login(self, srv: CHAPServer):\n",
    "        challenge = srv.generate_challenge(self._login)\n",
    "        if challenge is None:\n",
    "            print('[CHAP]', f'Wrong username or password')\n",
    "            return\n",
    "        \n",
    "        hasher = GOST34112012256()\n",
    "        hasher.update(challenge)\n",
    "        hasher.update(self._passwd.encode())\n",
    "        \n",
    "        if srv.login(self._login, hasher.digest()):\n",
    "            print('[CHAP]', f'User {self._login} logged in successfully')\n",
    "        else:\n",
    "            print('[CHAP]', f'Wrong username or password')"
   ]
  },
  {
   "cell_type": "markdown",
   "id": "d9a24807",
   "metadata": {},
   "source": [
    "----"
   ]
  },
  {
   "cell_type": "code",
   "execution_count": 12,
   "id": "e3f648e3",
   "metadata": {},
   "outputs": [],
   "source": [
    "# Создаю сервер\n",
    "server = CHAPServer()"
   ]
  },
  {
   "cell_type": "code",
   "execution_count": 13,
   "id": "83897ca8",
   "metadata": {},
   "outputs": [
    {
     "name": "stdout",
     "output_type": "stream",
     "text": [
      "[TRACE] [CHAP] User with credentials Alice:Trust_m3_0r_n0t created\n",
      "[TRACE] [CHAP] User with credentials Alice:try_t0_gu3$$ created\n"
     ]
    }
   ],
   "source": [
    "# Теперь создаю двух юзеров: \n",
    "# - Алису - валидного пользователя\n",
    "# - Еву - пользователя, пытающегося представиться Алисой\n",
    "real_alice = CHAPClient('Alice', 'Trust_m3_0r_n0t')\n",
    "eve = CHAPClient('Alice', 'try_t0_gu3$$')"
   ]
  },
  {
   "cell_type": "code",
   "execution_count": 14,
   "id": "bc38d5e8",
   "metadata": {},
   "outputs": [
    {
     "name": "stdout",
     "output_type": "stream",
     "text": [
      "[TRACE] [CHAP] Attempt to register user with credentials: login = 'Alice', password = 'Trust_m3_0r_n0t'\n",
      "[TRACE] name 'hasher' is not defined\n"
     ]
    }
   ],
   "source": [
    "# Регистрирую валидного пользователя\n",
    "real_alice.register(server)"
   ]
  },
  {
   "cell_type": "code",
   "execution_count": 15,
   "id": "cb85295e",
   "metadata": {},
   "outputs": [
    {
     "name": "stdout",
     "output_type": "stream",
     "text": [
      "[TRACE] [CHAP] Attempt to generate challege for: login = 'Alice'\n",
      "[TRACE] [CHAP] Generated challenge = c40354f8b4b67fac30e58f86bab2a22e\n",
      "[TRACE] [CHAP] Attempt to login with: login = 'Alice', response = 3c86ab0f0a6cfdcf95f80563c67feac4518f50bd30c21129b46e44c152bcbe00\n",
      "[TRACE] [CHAP] Calculated hash: 3c86ab0f0a6cfdcf95f80563c67feac4518f50bd30c21129b46e44c152bcbe00\n",
      "[TRACE] [CHAP] Received hash:   3c86ab0f0a6cfdcf95f80563c67feac4518f50bd30c21129b46e44c152bcbe00\n",
      "[CHAP] User Alice logged in successfully\n"
     ]
    }
   ],
   "source": [
    "# Захожу под кредами валидного пользователя\n",
    "real_alice.login(server)"
   ]
  },
  {
   "cell_type": "code",
   "execution_count": 16,
   "id": "60ee9658",
   "metadata": {},
   "outputs": [
    {
     "name": "stdout",
     "output_type": "stream",
     "text": [
      "[TRACE] [CHAP] Attempt to generate challege for: login = 'Alice'\n",
      "[TRACE] [CHAP] Generated challenge = 4248f79dd04f3d88246bbbdaef38018e\n",
      "[TRACE] [CHAP] Attempt to login with: login = 'Alice', response = b4db559cc005c2a3bddc75596d7899ac3004056bebca10263f48aa6b62cca2a0\n",
      "[TRACE] [CHAP] Calculated hash: 0ae9d88d07e249a3c0ca7bf91568d790df4be815e7a143ca6dd08c95adb0ab14\n",
      "[TRACE] [CHAP] Received hash:   b4db559cc005c2a3bddc75596d7899ac3004056bebca10263f48aa6b62cca2a0\n",
      "[CHAP] Wrong username or password\n"
     ]
    }
   ],
   "source": [
    "# Пытаюсь зайти под неправильными кредами\n",
    "eve.login(server)"
   ]
  },
  {
   "cell_type": "markdown",
   "id": "69830602",
   "metadata": {},
   "source": [
    "----"
   ]
  },
  {
   "cell_type": "markdown",
   "id": "57726872",
   "metadata": {},
   "source": [
    "## Двустронний протокол CHAP"
   ]
  },
  {
   "cell_type": "code",
   "execution_count": 17,
   "id": "75e1a7eb",
   "metadata": {},
   "outputs": [],
   "source": [
    "# To be implemented"
   ]
  },
  {
   "cell_type": "markdown",
   "id": "eb15de91",
   "metadata": {},
   "source": [
    "----"
   ]
  },
  {
   "cell_type": "markdown",
   "id": "9c2993d4",
   "metadata": {},
   "source": [
    "## Протокол S/KEY\n",
    "![S/KEY Protocol](./images/SKEY_1.png)"
   ]
  },
  {
   "cell_type": "code",
   "execution_count": 18,
   "id": "c94939a0",
   "metadata": {},
   "outputs": [],
   "source": [
    "# To be implemented"
   ]
  }
 ],
 "metadata": {
  "kernelspec": {
   "display_name": "Python 3 (ipykernel)",
   "language": "python",
   "name": "python3"
  },
  "language_info": {
   "codemirror_mode": {
    "name": "ipython",
    "version": 3
   },
   "file_extension": ".py",
   "mimetype": "text/x-python",
   "name": "python",
   "nbconvert_exporter": "python",
   "pygments_lexer": "ipython3",
   "version": "3.9.10"
  }
 },
 "nbformat": 4,
 "nbformat_minor": 5
}
