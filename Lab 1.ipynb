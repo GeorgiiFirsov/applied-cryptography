{
 "cells": [
  {
   "cell_type": "markdown",
   "id": "cbc9dfe1",
   "metadata": {},
   "source": [
    "# Протоколы аутентификации"
   ]
  },
  {
   "cell_type": "code",
   "execution_count": 54,
   "id": "985ca02b",
   "metadata": {},
   "outputs": [],
   "source": [
    "IS_DEBUG = 1"
   ]
  },
  {
   "cell_type": "code",
   "execution_count": 1,
   "id": "9bb53066",
   "metadata": {},
   "outputs": [],
   "source": [
    "def trace(*args, **kwargs):\n",
    "    \"\"\"\n",
    "    Отладочная трассировка\n",
    "    \"\"\"\n",
    "    \n",
    "    global IS_DEBUG\n",
    "    if IS_DEBUG:\n",
    "        print('[TRACE]', end=' ')\n",
    "        print(*args, **kwargs)"
   ]
  },
  {
   "cell_type": "markdown",
   "id": "0c1cf513",
   "metadata": {},
   "source": [
    "## Протокол PAP\n",
    "![PAP Protocol](./images/PAP_1.png)"
   ]
  },
  {
   "cell_type": "markdown",
   "id": "6a720c4d",
   "metadata": {},
   "source": [
    "-----"
   ]
  },
  {
   "cell_type": "code",
   "execution_count": 2,
   "id": "c6efa0e4",
   "metadata": {},
   "outputs": [],
   "source": [
    "# Использую хэш-функцию ГОСТ 34.11-2012 \"Стрибог\"\n",
    "from pygost.gost34112012256 import GOST34112012256\n",
    "\n",
    "# Эта либа тоже понадобится\n",
    "import binascii\n",
    "\n",
    "# Для генерации случайных чисел (КГПСЧ)\n",
    "from Crypto.Random import get_random_bytes"
   ]
  },
  {
   "cell_type": "markdown",
   "id": "a78a86c6",
   "metadata": {},
   "source": [
    "------"
   ]
  },
  {
   "cell_type": "code",
   "execution_count": 131,
   "id": "71707ace",
   "metadata": {},
   "outputs": [],
   "source": [
    "class PAPServer(object):\n",
    "    def __init__(self):\n",
    "        self._db = {}\n",
    "        \n",
    "    def register_user(self, login: str, password: str):\n",
    "        trace('[PAP Server]', f'Attempt to register user with credentials {login}:{password}')\n",
    "        \n",
    "        if login in self._db:\n",
    "            trace('[PAP Server]', 'User already exists')\n",
    "            raise ValueError(f'User {login} is already registered')\n",
    "            \n",
    "        #\n",
    "        # Рассчитаю хэш пароля и запишу в базу\n",
    "        #\n",
    "        \n",
    "        hasher = GOST34112012256()\n",
    "        hasher.update(password.encode())\n",
    "        \n",
    "        self._db[login] = hasher.digest()\n",
    "        trace('[PAP Server]', f'User successfully registered, password hash: {hasher.hexdigest()}')\n",
    "        \n",
    "    def login(self, login: str, password: str) -> bool:\n",
    "        trace('[PAP Server]', f'Attempt to login with credentials {login}:{password}')\n",
    "        \n",
    "        if login not in self._db:\n",
    "            trace('[PAP Server]', \"User doesn't exist\")\n",
    "            return False\n",
    "        \n",
    "        #\n",
    "        # Пользователь есть, рассчитаю хэш пароля и сравню с имеющимся\n",
    "        #\n",
    "        \n",
    "        hasher = GOST34112012256()\n",
    "        hasher.update(password.encode())\n",
    "        \n",
    "        real_hash = self._db[login]\n",
    "        \n",
    "        trace('[PAP Server]', f'Password hash: {hasher.hexdigest()}')\n",
    "        trace('[PAP Server]', f'Stored hash:   {binascii.hexlify(real_hash).decode()}')\n",
    "        \n",
    "        return hasher.digest() == real_hash"
   ]
  },
  {
   "cell_type": "code",
   "execution_count": 132,
   "id": "950e995a",
   "metadata": {},
   "outputs": [],
   "source": [
    "class PAPClient(object):\n",
    "    def __init__(self, login, password):\n",
    "        self._login  = login\n",
    "        self._passwd = password\n",
    "        \n",
    "        trace('[PAP Client]', f'User with credentials {self._login}:{self._passwd} created')\n",
    "        \n",
    "    def register(self, srv: PAPServer):\n",
    "        try:\n",
    "            srv.register_user(self._login, self._passwd)\n",
    "        except Exception as e:\n",
    "            trace(e)\n",
    "    \n",
    "    def login(self, srv: PAPServer):\n",
    "        if srv.login(self._login, self._passwd):\n",
    "            print('[PAP Client]', f'User {self._login} logged in successfully')\n",
    "        else:\n",
    "            print('[PAP Client]', f'Wrong username or password')"
   ]
  },
  {
   "cell_type": "markdown",
   "id": "56ecf6dd",
   "metadata": {},
   "source": [
    "----"
   ]
  },
  {
   "cell_type": "code",
   "execution_count": 133,
   "id": "dcaf77d7",
   "metadata": {},
   "outputs": [],
   "source": [
    "# Создаю сервер\n",
    "server = PAPServer()"
   ]
  },
  {
   "cell_type": "code",
   "execution_count": 134,
   "id": "ec4e3bd3",
   "metadata": {},
   "outputs": [
    {
     "name": "stdout",
     "output_type": "stream",
     "text": [
      "[TRACE] [PAP Client] User with credentials Alice:Trust_m3_0r_n0t created\n",
      "[TRACE] [PAP Client] User with credentials Alice:try_t0_gu3$$ created\n"
     ]
    }
   ],
   "source": [
    "# Теперь создаю двух юзеров: \n",
    "# - Алису - валидного пользователя\n",
    "# - Еву - пользователя, пытающегося представиться Алисой\n",
    "real_alice = PAPClient('Alice', 'Trust_m3_0r_n0t')\n",
    "eve = PAPClient('Alice', 'try_t0_gu3$$')"
   ]
  },
  {
   "cell_type": "code",
   "execution_count": 135,
   "id": "de5b8b01",
   "metadata": {},
   "outputs": [
    {
     "name": "stdout",
     "output_type": "stream",
     "text": [
      "[TRACE] [PAP Server] Attempt to register user with credentials Alice:Trust_m3_0r_n0t\n",
      "[TRACE] [PAP Server] User successfully registered, password hash: bdb147b4b8ae6f408dd51cdb17d6300f3e475b504129ba01e5715899b60366b8\n"
     ]
    }
   ],
   "source": [
    "# Регистрирую валидного пользователя\n",
    "real_alice.register(server)"
   ]
  },
  {
   "cell_type": "code",
   "execution_count": 136,
   "id": "4e2ee149",
   "metadata": {},
   "outputs": [
    {
     "name": "stdout",
     "output_type": "stream",
     "text": [
      "[TRACE] [PAP Server] Attempt to login with credentials Alice:Trust_m3_0r_n0t\n",
      "[TRACE] [PAP Server] Password hash: bdb147b4b8ae6f408dd51cdb17d6300f3e475b504129ba01e5715899b60366b8\n",
      "[TRACE] [PAP Server] Stored hash:   bdb147b4b8ae6f408dd51cdb17d6300f3e475b504129ba01e5715899b60366b8\n",
      "[PAP Client] User Alice logged in successfully\n"
     ]
    }
   ],
   "source": [
    "# Захожу под кредами валидного пользователя\n",
    "real_alice.login(server)"
   ]
  },
  {
   "cell_type": "code",
   "execution_count": 137,
   "id": "eb8f2ad1",
   "metadata": {},
   "outputs": [
    {
     "name": "stdout",
     "output_type": "stream",
     "text": [
      "[TRACE] [PAP Server] Attempt to login with credentials Alice:try_t0_gu3$$\n",
      "[TRACE] [PAP Server] Password hash: 034eda071f984d17f28f9ae214c5d9b9a9fc0e112df98d0e4b5b2eb3d701b314\n",
      "[TRACE] [PAP Server] Stored hash:   bdb147b4b8ae6f408dd51cdb17d6300f3e475b504129ba01e5715899b60366b8\n",
      "[PAP Client] Wrong username or password\n"
     ]
    }
   ],
   "source": [
    "# Пытаюсь зайти под неправильными кредами\n",
    "eve.login(server)"
   ]
  },
  {
   "cell_type": "markdown",
   "id": "f6d411b2",
   "metadata": {},
   "source": [
    "-----"
   ]
  },
  {
   "cell_type": "markdown",
   "id": "ca0bd721",
   "metadata": {},
   "source": [
    "## Протокол CHAP\n",
    "![CHAP Protocol](./images/CHAP_1.png)"
   ]
  },
  {
   "cell_type": "code",
   "execution_count": 138,
   "id": "9322e597",
   "metadata": {},
   "outputs": [],
   "source": [
    "class CHAPServer(object):\n",
    "    def __init__(self):\n",
    "        self._db = {}\n",
    "        \n",
    "    def register_user(self, login, password):\n",
    "        trace('[CHAP Server]', f'Attempt to register user with credentials {login}:{password}')\n",
    "        \n",
    "        if login in self._db:\n",
    "            trace('[CHAP Server]', 'User already exists')\n",
    "            raise ValueError(f'User {login} is already registered')\n",
    "            \n",
    "        #\n",
    "        # Запишу в базу\n",
    "        #\n",
    "        \n",
    "        self._db[login] = [password.encode(), None]\n",
    "        trace('[CHAP Server]', f'User successfully registered')\n",
    "    \n",
    "    def login(self, login, response):\n",
    "        trace('[CHAP Server]', f'''Attempt to login with: {login = }, \n",
    "        response = {binascii.hexlify(response).decode()}''')\n",
    "        \n",
    "        if login not in self._db:\n",
    "            trace('[CHAP Server]', \"User doesn't exist\")\n",
    "            return False\n",
    "        \n",
    "        #\n",
    "        # Пользователь есть, достану челлендж и обнулю\n",
    "        #\n",
    "        \n",
    "        challenge = self._db[login][1]\n",
    "        self._db[login][1] = None\n",
    "        \n",
    "        if challenge is None:\n",
    "            trace('[CHAP Server]', f'No challenge was generated for {login = }')\n",
    "            return False\n",
    "        \n",
    "        #\n",
    "        # Рассчитаю хэш и сравню с респонсом\n",
    "        #\n",
    "        \n",
    "        hasher = GOST34112012256()\n",
    "        hasher.update(challenge)\n",
    "        hasher.update(self._db[login][0])\n",
    "        \n",
    "        trace('[CHAP Server]', f'Calculated hash: {hasher.hexdigest()}')\n",
    "        trace('[CHAP Server]', f'Received hash:   {binascii.hexlify(response).decode()}')\n",
    "        \n",
    "        return hasher.digest() == response\n",
    "    \n",
    "    def generate_challenge(self, login):\n",
    "        trace('[CHAP Server]', f'Attempt to generate challege for: {login = }')\n",
    "        \n",
    "        if login not in self._db:\n",
    "            trace('[CHAP Server]', \"User doesn't exist\")\n",
    "            return None\n",
    "        \n",
    "        challenge = get_random_bytes(16)\n",
    "        self._db[login][1] = challenge\n",
    "        \n",
    "        trace('[CHAP Server]', f'Generated challenge = {binascii.hexlify(challenge).decode()}')\n",
    "        return challenge"
   ]
  },
  {
   "cell_type": "code",
   "execution_count": 139,
   "id": "7317fae5",
   "metadata": {},
   "outputs": [],
   "source": [
    "class CHAPClient(object):\n",
    "    def __init__(self, login, password):\n",
    "        self._login  = login\n",
    "        self._passwd = password\n",
    "        \n",
    "        trace('[CHAP Client]', f'User with credentials {self._login}:{self._passwd} created')\n",
    "        \n",
    "    def register(self, srv: CHAPServer):\n",
    "        try:\n",
    "            srv.register_user(self._login, self._passwd)\n",
    "        except Exception as e:\n",
    "            trace(e)\n",
    "    \n",
    "    def login(self, srv: CHAPServer):\n",
    "        challenge = srv.generate_challenge(self._login)\n",
    "        if challenge is None:\n",
    "            print('[CHAP Client]', f'Wrong username or password')\n",
    "            return\n",
    "        \n",
    "        hasher = GOST34112012256()\n",
    "        hasher.update(challenge)\n",
    "        hasher.update(self._passwd.encode())\n",
    "        \n",
    "        if srv.login(self._login, hasher.digest()):\n",
    "            print('[CHAP Client]', f'User {self._login} logged in successfully')\n",
    "        else:\n",
    "            print('[CHAP Client]', f'Wrong username or password')"
   ]
  },
  {
   "cell_type": "markdown",
   "id": "d9a24807",
   "metadata": {},
   "source": [
    "----"
   ]
  },
  {
   "cell_type": "code",
   "execution_count": 140,
   "id": "e3f648e3",
   "metadata": {},
   "outputs": [],
   "source": [
    "# Создаю сервер\n",
    "server = CHAPServer()"
   ]
  },
  {
   "cell_type": "code",
   "execution_count": 141,
   "id": "83897ca8",
   "metadata": {},
   "outputs": [
    {
     "name": "stdout",
     "output_type": "stream",
     "text": [
      "[TRACE] [CHAP Client] User with credentials Alice:Trust_m3_0r_n0t created\n",
      "[TRACE] [CHAP Client] User with credentials Alice:try_t0_gu3$$ created\n"
     ]
    }
   ],
   "source": [
    "# Теперь создаю двух юзеров: \n",
    "# - Алису - валидного пользователя\n",
    "# - Еву - пользователя, пытающегося представиться Алисой\n",
    "real_alice = CHAPClient('Alice', 'Trust_m3_0r_n0t')\n",
    "eve = CHAPClient('Alice', 'try_t0_gu3$$')"
   ]
  },
  {
   "cell_type": "code",
   "execution_count": 142,
   "id": "bc38d5e8",
   "metadata": {},
   "outputs": [
    {
     "name": "stdout",
     "output_type": "stream",
     "text": [
      "[TRACE] [CHAP Server] Attempt to register user with credentials Alice:Trust_m3_0r_n0t\n",
      "[TRACE] [CHAP Server] User successfully registered\n"
     ]
    }
   ],
   "source": [
    "# Регистрирую валидного пользователя\n",
    "real_alice.register(server)"
   ]
  },
  {
   "cell_type": "code",
   "execution_count": 143,
   "id": "cb85295e",
   "metadata": {},
   "outputs": [
    {
     "name": "stdout",
     "output_type": "stream",
     "text": [
      "[TRACE] [CHAP Server] Attempt to generate challege for: login = 'Alice'\n",
      "[TRACE] [CHAP Server] Generated challenge = f73764ce2919d1df8367cca554c11cdc\n",
      "[TRACE] [CHAP Server] Attempt to login with: login = 'Alice', \n",
      "        response = 7c0607492005491126fde96805667c39c9447f4e243c92f609027b2167e65c62\n",
      "[TRACE] [CHAP Server] Calculated hash: 7c0607492005491126fde96805667c39c9447f4e243c92f609027b2167e65c62\n",
      "[TRACE] [CHAP Server] Received hash:   7c0607492005491126fde96805667c39c9447f4e243c92f609027b2167e65c62\n",
      "[CHAP Client] User Alice logged in successfully\n"
     ]
    }
   ],
   "source": [
    "# Захожу под кредами валидного пользователя\n",
    "real_alice.login(server)"
   ]
  },
  {
   "cell_type": "code",
   "execution_count": 144,
   "id": "60ee9658",
   "metadata": {},
   "outputs": [
    {
     "name": "stdout",
     "output_type": "stream",
     "text": [
      "[TRACE] [CHAP Server] Attempt to generate challege for: login = 'Alice'\n",
      "[TRACE] [CHAP Server] Generated challenge = 75b9afc1d9c7e83bcf444aa6eb74af9a\n",
      "[TRACE] [CHAP Server] Attempt to login with: login = 'Alice', \n",
      "        response = f9f6e06365f122d25466919c06ce0a8bc95a583779d555b7cea2582383c5285f\n",
      "[TRACE] [CHAP Server] Calculated hash: 98f34e3c4aa8e59db8e8ebb1cac3047f98ac69e2f3bac321f5330747ca3c05c0\n",
      "[TRACE] [CHAP Server] Received hash:   f9f6e06365f122d25466919c06ce0a8bc95a583779d555b7cea2582383c5285f\n",
      "[CHAP Client] Wrong username or password\n"
     ]
    }
   ],
   "source": [
    "# Пытаюсь зайти под неправильными кредами\n",
    "eve.login(server)"
   ]
  },
  {
   "cell_type": "markdown",
   "id": "69830602",
   "metadata": {},
   "source": [
    "----"
   ]
  },
  {
   "cell_type": "markdown",
   "id": "57726872",
   "metadata": {},
   "source": [
    "## Двустронний протокол CHAP"
   ]
  },
  {
   "cell_type": "code",
   "execution_count": 145,
   "id": "75e1a7eb",
   "metadata": {},
   "outputs": [],
   "source": [
    "class ModifiedCHAPServer(object):\n",
    "    def __init__(self):\n",
    "        self._db = {}\n",
    "        self._server_login = 'Alice'\n",
    "        self._server_pass  = '1qazXSW@'\n",
    "        \n",
    "    def register_user(self, login, password):\n",
    "        trace('[Modified CHAP Server]', f'Attempt to register user with credentials {login}:{password}')\n",
    "        \n",
    "        if login in self._db:\n",
    "            trace('[Modified CHAP Server]', 'User already exists')\n",
    "            raise ValueError(f'User {login} is already registered')\n",
    "            \n",
    "        #\n",
    "        # Запишу в базу\n",
    "        #\n",
    "        \n",
    "        self._db[login] = [password.encode(), None]\n",
    "        \n",
    "        trace('[Modified CHAP Server]', f'User successfully registered')\n",
    "        \n",
    "        return self._server_login, self._server_pass\n",
    "        \n",
    "    def login(self, login, response, client_challenge):\n",
    "        trace(f'''[Modified CHAP Server]', f'Attempt to login with: {login = },\n",
    "        response = {binascii.hexlify(response).decode()}, \n",
    "        client_challenge = {binascii.hexlify(client_challenge).decode()}''')\n",
    "        \n",
    "        if login not in self._db:\n",
    "            trace('[Modified CHAP Server]', \"User doesn't exist\")\n",
    "            return None\n",
    "        \n",
    "        #\n",
    "        # Пользователь есть, достану челлендж и обнулю\n",
    "        #\n",
    "        \n",
    "        challenge = self._db[login][1]\n",
    "        self._db[login][1] = None\n",
    "        \n",
    "        if challenge is None:\n",
    "            trace('[Modified CHAP Server]', f'No challenge was generated for {login = }')\n",
    "            return None\n",
    "        \n",
    "        #\n",
    "        # Рассчитаю хэш и сравню с респонсом\n",
    "        #\n",
    "        \n",
    "        hasher = GOST34112012256()\n",
    "        hasher.update(challenge)\n",
    "        hasher.update(self._db[login][0])\n",
    "        \n",
    "        trace('[Modified CHAP Server]', f'Calculated hash: {hasher.hexdigest()}')\n",
    "        trace('[Modified CHAP Server]', f'Received hash:   {binascii.hexlify(response).decode()}')\n",
    "        \n",
    "        if hasher.digest() != response:\n",
    "            return None\n",
    "        \n",
    "        #\n",
    "        # Теперь считаю хэш для челленджа клиента и возвращаю его\n",
    "        #\n",
    "        \n",
    "        hasher = GOST34112012256()\n",
    "        hasher.update(client_challenge)\n",
    "        hasher.update(self._server_pass.encode())\n",
    "        \n",
    "        return self._server_login, hasher.digest()\n",
    "    \n",
    "    def generate_challenge(self, login):\n",
    "        trace('[Modified CHAP Server]', f'Attempt to generate challege for: {login = }')\n",
    "        \n",
    "        if login not in self._db:\n",
    "            trace('[Modified CHAP Server]', \"User doesn't exist\")\n",
    "            return None\n",
    "        \n",
    "        challenge = get_random_bytes(16)\n",
    "        self._db[login][1] = challenge\n",
    "        \n",
    "        trace('[Modified CHAP Server]', f'Generated challenge = {binascii.hexlify(challenge).decode()}')\n",
    "        \n",
    "        return challenge"
   ]
  },
  {
   "cell_type": "code",
   "execution_count": 152,
   "id": "80e7d9d9",
   "metadata": {},
   "outputs": [],
   "source": [
    "class ModifiedCHAPClient(object):\n",
    "    def __init__(self, login, password):\n",
    "        self._login  = login\n",
    "        self._passwd = password\n",
    "        \n",
    "        self._servers_db = {}\n",
    "        \n",
    "        trace('[Modified CHAP Client]', f'User with credentials {self._login}:{self._passwd} created')\n",
    "        \n",
    "    def register(self, srv: CHAPServer):\n",
    "        try:\n",
    "            login, password = srv.register_user(self._login, self._passwd)\n",
    "            self._servers_db[login] = password\n",
    "        except Exception as e:\n",
    "            trace(e)\n",
    "    \n",
    "    def login(self, srv: CHAPServer):\n",
    "        srv_challenge = srv.generate_challenge(self._login)\n",
    "        if srv_challenge is None:\n",
    "            print('[Modified CHAP Client]', f'Wrong username or password')\n",
    "            return\n",
    "        \n",
    "        hasher = GOST34112012256()\n",
    "        hasher.update(srv_challenge)\n",
    "        hasher.update(self._passwd.encode())\n",
    "        \n",
    "        challenge = self.generate_challenge()\n",
    "        srv_data  = srv.login(self._login, hasher.digest(), challenge)\n",
    "        \n",
    "        if srv_data is not None:\n",
    "            srv_login, srv_response = srv_data\n",
    "            \n",
    "            if srv_login not in self._servers_db:\n",
    "                print('[Modified CHAP Client]', f'Server {srv_login} not registered')\n",
    "                return\n",
    "            \n",
    "            hasher = GOST34112012256()\n",
    "            hasher.update(challenge)\n",
    "            hasher.update(self._servers_db[srv_login].encode())\n",
    "            \n",
    "            trace('[Modified CHAP Client]', f'Calculated hash: {hasher.hexdigest()}')\n",
    "            trace('[Modified CHAP Client]', f'Received hash:   {binascii.hexlify(srv_response).decode()}')\n",
    "            \n",
    "            if hasher.digest() == srv_response:\n",
    "                print('[Modified CHAP Client]', f'User {self._login} logged in successfully')\n",
    "                return\n",
    "        \n",
    "        print('[Modified CHAP Client]', f'Wrong username or password')\n",
    "            \n",
    "    @staticmethod\n",
    "    def generate_challenge():\n",
    "        return get_random_bytes(16)"
   ]
  },
  {
   "cell_type": "markdown",
   "id": "d9c5bb24",
   "metadata": {},
   "source": [
    "------"
   ]
  },
  {
   "cell_type": "code",
   "execution_count": 153,
   "id": "de1260e9",
   "metadata": {},
   "outputs": [],
   "source": [
    "# Создаю сервер\n",
    "server = ModifiedCHAPServer()"
   ]
  },
  {
   "cell_type": "code",
   "execution_count": 154,
   "id": "8db9dd38",
   "metadata": {},
   "outputs": [
    {
     "name": "stdout",
     "output_type": "stream",
     "text": [
      "[TRACE] [Modified CHAP Client] User with credentials Alice:Trust_m3_0r_n0t created\n",
      "[TRACE] [Modified CHAP Client] User with credentials Alice:try_t0_gu3$$ created\n"
     ]
    }
   ],
   "source": [
    "# Теперь создаю двух юзеров: \n",
    "# - Алису - валидного пользователя\n",
    "# - Еву - пользователя, пытающегося представиться Алисой\n",
    "real_alice = ModifiedCHAPClient('Alice', 'Trust_m3_0r_n0t')\n",
    "eve = ModifiedCHAPClient('Alice', 'try_t0_gu3$$')"
   ]
  },
  {
   "cell_type": "code",
   "execution_count": 155,
   "id": "87a1e9fb",
   "metadata": {},
   "outputs": [
    {
     "name": "stdout",
     "output_type": "stream",
     "text": [
      "[TRACE] [Modified CHAP Server] Attempt to register user with credentials Alice:Trust_m3_0r_n0t\n",
      "[TRACE] [Modified CHAP Server] User successfully registered\n"
     ]
    }
   ],
   "source": [
    "# Регистрирую валидного пользователя\n",
    "real_alice.register(server)"
   ]
  },
  {
   "cell_type": "code",
   "execution_count": 156,
   "id": "7c3368fd",
   "metadata": {},
   "outputs": [
    {
     "name": "stdout",
     "output_type": "stream",
     "text": [
      "[TRACE] [Modified CHAP Server] Attempt to generate challege for: login = 'Alice'\n",
      "[TRACE] [Modified CHAP Server] Generated challenge = c993612a5b665465f889ca9017cae5ce\n",
      "[TRACE] [Modified CHAP Server]', f'Attempt to login with: login = 'Alice',\n",
      "        response = 7914eae9d05ae700b27bcf09dbd0cf40c28c75ea6fda8287ace7cc458a090f8a, \n",
      "        client_challenge = 4402dbf2f1bde9ec3fd8fb8361ebbd02\n",
      "[TRACE] [Modified CHAP Server] Calculated hash: 7914eae9d05ae700b27bcf09dbd0cf40c28c75ea6fda8287ace7cc458a090f8a\n",
      "[TRACE] [Modified CHAP Server] Received hash:   7914eae9d05ae700b27bcf09dbd0cf40c28c75ea6fda8287ace7cc458a090f8a\n",
      "[TRACE] [Modified CHAP Client] Calculated hash: f5f43ff4bf4c9e551b2a66a7336b356941a78ee39c0659f69931d969ac207811\n",
      "[TRACE] [Modified CHAP Client] Received hash:   f5f43ff4bf4c9e551b2a66a7336b356941a78ee39c0659f69931d969ac207811\n",
      "[Modified CHAP Client] User Alice logged in successfully\n"
     ]
    }
   ],
   "source": [
    "# Захожу под кредами валидного пользователя\n",
    "real_alice.login(server)"
   ]
  },
  {
   "cell_type": "code",
   "execution_count": 157,
   "id": "a842a95f",
   "metadata": {},
   "outputs": [
    {
     "name": "stdout",
     "output_type": "stream",
     "text": [
      "[TRACE] [Modified CHAP Server] Attempt to generate challege for: login = 'Alice'\n",
      "[TRACE] [Modified CHAP Server] Generated challenge = 2554a7efd40c413c3f2a7efa98c4fb7d\n",
      "[TRACE] [Modified CHAP Server]', f'Attempt to login with: login = 'Alice',\n",
      "        response = 971b2f10c80346fcda0dd8a6d21150ea025e4d3c6d03e07f981326e391c88aa3, \n",
      "        client_challenge = 8453d89a87da400a5bbb77cb4864e232\n",
      "[TRACE] [Modified CHAP Server] Calculated hash: 25332bf11a589da677824882d4aa07a9903262da72541ca891e07d5c6373897b\n",
      "[TRACE] [Modified CHAP Server] Received hash:   971b2f10c80346fcda0dd8a6d21150ea025e4d3c6d03e07f981326e391c88aa3\n",
      "[Modified CHAP Client] Wrong username or password\n"
     ]
    }
   ],
   "source": [
    "# Пытаюсь зайти под неправильными кредами\n",
    "eve.login(server)"
   ]
  },
  {
   "cell_type": "markdown",
   "id": "eb15de91",
   "metadata": {},
   "source": [
    "----"
   ]
  },
  {
   "cell_type": "markdown",
   "id": "9c2993d4",
   "metadata": {},
   "source": [
    "## Протокол S/KEY\n",
    "![S/KEY Protocol](./images/SKEY_1.png)"
   ]
  },
  {
   "cell_type": "code",
   "execution_count": 18,
   "id": "c94939a0",
   "metadata": {},
   "outputs": [],
   "source": [
    "# To be implemented"
   ]
  }
 ],
 "metadata": {
  "kernelspec": {
   "display_name": "Python 3 (ipykernel)",
   "language": "python",
   "name": "python3"
  },
  "language_info": {
   "codemirror_mode": {
    "name": "ipython",
    "version": 3
   },
   "file_extension": ".py",
   "mimetype": "text/x-python",
   "name": "python",
   "nbconvert_exporter": "python",
   "pygments_lexer": "ipython3",
   "version": "3.9.10"
  }
 },
 "nbformat": 4,
 "nbformat_minor": 5
}
