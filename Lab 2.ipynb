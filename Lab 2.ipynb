{
 "cells": [
  {
   "cell_type": "markdown",
   "id": "77cebe74",
   "metadata": {},
   "source": [
    "# Протоколы аутентификации с нулевым разглашением"
   ]
  },
  {
   "cell_type": "code",
   "execution_count": 1,
   "id": "57437627",
   "metadata": {},
   "outputs": [],
   "source": [
    "IS_DEBUG = 1"
   ]
  },
  {
   "cell_type": "code",
   "execution_count": 2,
   "id": "e5615534",
   "metadata": {},
   "outputs": [],
   "source": [
    "def trace(*args, **kwargs):\n",
    "    \"\"\"\n",
    "    Отладочная трассировка\n",
    "    \"\"\"\n",
    "    \n",
    "    global IS_DEBUG\n",
    "    if IS_DEBUG:\n",
    "        print('[TRACE]', end=' ')\n",
    "        print(*args, **kwargs)"
   ]
  },
  {
   "cell_type": "markdown",
   "id": "e3324639",
   "metadata": {},
   "source": [
    "---"
   ]
  },
  {
   "cell_type": "code",
   "execution_count": 3,
   "id": "5c77182d",
   "metadata": {},
   "outputs": [],
   "source": [
    "# Генерация простых чисел\n",
    "from Crypto.Util import number\n",
    "\n",
    "# КГПСЧ\n",
    "from Crypto.Random import random\n",
    "\n",
    "# Понадобится в протоколе Шнорра\n",
    "from Crypto.PublicKey import RSA\n",
    "from Crypto.Signature import pss\n",
    "from Crypto.Hash import SHA256\n",
    "\n",
    "# Немного математики\n",
    "import gmpy2\n",
    "\n",
    "# Для генерации идентификаторов клиентов\n",
    "import uuid"
   ]
  },
  {
   "cell_type": "markdown",
   "id": "091314f0",
   "metadata": {},
   "source": [
    "---"
   ]
  },
  {
   "cell_type": "code",
   "execution_count": 4,
   "id": "6b199c71",
   "metadata": {},
   "outputs": [],
   "source": [
    "def randint(a, b) -> gmpy2.mpz:\n",
    "    \"\"\"\n",
    "    Генерация случайного числа с помощью КГПСЧ с поддержкой gmpy2\n",
    "    \"\"\"\n",
    "    \n",
    "    native_a = int(a)\n",
    "    native_b = int(b)\n",
    "    \n",
    "    return gmpy2.mpz(random.randint(native_a, native_b))\n",
    "\n",
    "def getrandbits(n) -> gmpy2.mpz:\n",
    "    \"\"\"\n",
    "    \"\"\"\n",
    "    \n",
    "    native_n = int(n)\n",
    "    \n",
    "    return gmpy2.mpz(random.getrandbits(native_n))"
   ]
  },
  {
   "cell_type": "markdown",
   "id": "c108f85f",
   "metadata": {},
   "source": [
    "----"
   ]
  },
  {
   "cell_type": "markdown",
   "id": "b33adf55",
   "metadata": {},
   "source": [
    "## Протокол Фиата-Шамира\n",
    "![Fiat-Shamir Protocol](./images/Fiat-Shamir_2.png)"
   ]
  },
  {
   "cell_type": "code",
   "execution_count": 5,
   "id": "39c347b0",
   "metadata": {},
   "outputs": [],
   "source": [
    "class FiatShamirCA(object):\n",
    "    PRIME_BITS = 1024\n",
    "    \n",
    "    def __init__(self):\n",
    "        \"\"\"\n",
    "        Инициализация доверенного центра.\n",
    "        Генерируются два простых числа и их произведение.\n",
    "        \"\"\"\n",
    "        \n",
    "        self._db = {}\n",
    "        \n",
    "        self._p = number.getPrime(FiatShamirCA.PRIME_BITS)\n",
    "        self._q = number.getPrime(FiatShamirCA.PRIME_BITS)\n",
    "        self._modulus = gmpy2.mul(self._p, self._q)\n",
    "        \n",
    "        trace('[FiatShamirCA]', f'Modulus = {self._modulus}')\n",
    "        \n",
    "        \n",
    "    def register_client(self, client_id: uuid.UUID, client_public_key: gmpy2.mpz) -> None:\n",
    "        \"\"\"\n",
    "        Регистрация клиента. На вход принимает идентификатор клиента и его открытый ключ.\n",
    "        Ничего не возвращает.\n",
    "        Выбрасывает исключение, если клиент уже существует.\n",
    "        \"\"\"\n",
    "        \n",
    "        trace('[FiatShamirCA]', f'''Attempting to register client {client_id} \n",
    "        with public key {client_public_key}''')\n",
    "        \n",
    "        if client_id in self._db:\n",
    "            trace('[FiatShamirCA]', 'User already exists')\n",
    "            raise ValueError(f'Client {client_id} is already registered')\n",
    "            \n",
    "        #\n",
    "        # Теперь сохраняю открытый ключ\n",
    "        #\n",
    "        \n",
    "        self._db[client_id] = client_public_key\n",
    "        trace('[FiatShamirCA]', 'Client registered successfully')\n",
    "        \n",
    "        \n",
    "    def get_public_key(self, client_id: uuid.UUID) -> gmpy2.mpz:\n",
    "        \"\"\"\n",
    "        Получение открытого ключа клиента. Получает на вход идентификатор клиента.\n",
    "        Возвращает открытый ключ.\n",
    "        Выбрасывает исключение, если пользователь отсутствует.\n",
    "        \"\"\"\n",
    "        \n",
    "        return self._db[client_id]\n",
    "       \n",
    "        \n",
    "    @property\n",
    "    def modulus(self) -> gmpy2.mpz:\n",
    "        \"\"\"\n",
    "        Возвращает модуль.\n",
    "        \"\"\"\n",
    "        \n",
    "        return self._modulus"
   ]
  },
  {
   "cell_type": "code",
   "execution_count": 6,
   "id": "7d87d133",
   "metadata": {},
   "outputs": [],
   "source": [
    "class FiatShamirClient(object):\n",
    "    def __init__(self, modulus: gmpy2.mpz, *,\n",
    "                 fake_data: tuple[uuid.UUID, gmpy2.mpz] = None):\n",
    "        \"\"\"\n",
    "        Инициализация клиента с выработкой ключевой пары и идентификатора.\n",
    "        Последний параметр требуются для демонстрации неудачной аутентификации.\n",
    "        \"\"\"\n",
    "        \n",
    "        self._id = uuid.uuid4() if fake_data is None else fake_data[0]\n",
    "        self._r = None\n",
    "        \n",
    "        self._private_key = FiatShamirClient._generate_coprime(modulus)\n",
    "        self._public_key = gmpy2.powmod(self._private_key, 2, modulus) if fake_data is None else fake_data[1]\n",
    "        \n",
    "        trace('[FiatShamirClient]', f'Client {self._id}')\n",
    "        trace('[FiatShamirClient]', f'Public key = {self._public_key}')\n",
    "        \n",
    "        \n",
    "    @property\n",
    "    def public_key(self) -> gmpy2.mpz:\n",
    "        \"\"\"\n",
    "        Получение открытого ключа.\n",
    "        \"\"\"\n",
    "        \n",
    "        return self._public_key\n",
    "    \n",
    "    \n",
    "    @property\n",
    "    def identifier(self) -> uuid.UUID:\n",
    "        \"\"\"\n",
    "        Получение идентификатора.\n",
    "        \"\"\"\n",
    "        \n",
    "        return self._id\n",
    "    \n",
    "    \n",
    "    def get_x(self, modulus: gmpy2.mpz) -> gmpy2.mpz:\n",
    "        \"\"\"\n",
    "        Получение случайного значения, вычисляемого по формуле:\n",
    "                    x = r ** 2 mod n,\n",
    "        где n - модуль, r - случайное целое число из отрезка [1, n - 1].\n",
    "        Значение r сохраняется.\n",
    "        \"\"\"\n",
    "        \n",
    "        self._r = randint(1, modulus - 1)\n",
    "        return gmpy2.powmod(self._r, 2, modulus)\n",
    "    \n",
    "    \n",
    "    def get_y(self, e: gmpy2.mpz, modulus: gmpy2.mpz) -> gmpy2.mpz:\n",
    "        \"\"\"\n",
    "        Получение числа, вычисляемого по формуле:\n",
    "                    y = r * s ** e mod n,\n",
    "        где n - модуль, s - закрытый ключ пользователя, r - сгенерированное \n",
    "        функцией get_x внутреннее значение, e - целое число из отрезка [0, 1],\n",
    "        пришедшее от проверяющего.\n",
    "        \"\"\"\n",
    "        \n",
    "        product = gmpy2.mul(self._r, gmpy2.powmod(self._private_key, e, modulus))\n",
    "        return gmpy2.t_mod(product, modulus)\n",
    "        \n",
    "        \n",
    "    @staticmethod\n",
    "    def _generate_coprime(modulus: gmpy2.mpz) -> gmpy2.mpz:\n",
    "        \"\"\"\n",
    "        Генерация случайного числа из отрезка [1, n - 1], взаимно\n",
    "        простого с n, где n - модуль.\n",
    "        \"\"\"\n",
    "        \n",
    "        #\n",
    "        # Генерирую число до тех пор, пока оно не станет взаимно простым с модулем\n",
    "        #\n",
    "        \n",
    "        result = randint(1, modulus - 1)\n",
    "        while gmpy2.gcd(result, modulus) != 1:\n",
    "            result = randint(1, modulus - 1)\n",
    "            \n",
    "        return result"
   ]
  },
  {
   "cell_type": "code",
   "execution_count": 7,
   "id": "67ec2238",
   "metadata": {},
   "outputs": [],
   "source": [
    "class FiatShamirVerifier(object):\n",
    "    def __init__(self, iterations: int):\n",
    "        \"\"\"\n",
    "        Инициализация проверяющего. Задает коичество итераций проверки.\n",
    "        \"\"\"\n",
    "        \n",
    "        self._iterations = iterations\n",
    "        \n",
    "        \n",
    "    def authenticate(self, client: FiatShamirClient, ca: FiatShamirCA) -> bool:\n",
    "        \"\"\"\n",
    "        Аутентификация клиента. На вход принимает дескрипторы клиента и СА.\n",
    "        Возвращает True в случае успешной аутентификации.\n",
    "        \"\"\"\n",
    "        \n",
    "        trace('[FiatShamirVerifier]', f'Attempt to authenticate client {client.identifier}')\n",
    "        trace('[FiatShamirVerifier]', f'Number of iterations = {self._iterations}')\n",
    "        \n",
    "        is_successful = True\n",
    "        \n",
    "        for i in range(self._iterations):\n",
    "            x = client.get_x(ca.modulus)\n",
    "            trace('[FiatShamirVerifier]', f'[Iteration {i + 1}] {x = }')\n",
    "            \n",
    "            e = randint(0, 1)\n",
    "            trace('[FiatShamirVerifier]', f'[Iteration {i + 1}] {e = }')\n",
    "            \n",
    "            y = client.get_y(e, ca.modulus)\n",
    "            trace('[FiatShamirVerifier]', f'[Iteration {i + 1}] {y = }')\n",
    "            \n",
    "            pk = ca.get_public_key(client.identifier)\n",
    "            product = gmpy2.mul(x, gmpy2.powmod(pk, e, ca.modulus))\n",
    "            \n",
    "            successful_iteration = gmpy2.powmod(y, 2, ca.modulus) == gmpy2.t_mod(product, ca.modulus)\n",
    "            is_successful &= successful_iteration\n",
    "            \n",
    "            trace('[FiatShamirVerifier]', f'[Iteration {i + 1}] success: {successful_iteration}')\n",
    "            \n",
    "            if not successful_iteration:\n",
    "                break\n",
    "            \n",
    "        print(f'Authentication successful: {is_successful}')\n",
    "        return is_successful"
   ]
  },
  {
   "cell_type": "markdown",
   "id": "9ab69aa5",
   "metadata": {},
   "source": [
    "----"
   ]
  },
  {
   "cell_type": "code",
   "execution_count": 8,
   "id": "b9d7493c",
   "metadata": {},
   "outputs": [
    {
     "name": "stdout",
     "output_type": "stream",
     "text": [
      "[TRACE] [FiatShamirCA] Modulus = 12191856898017159798587546422455421752858633626282060021598583357398772527530598588893544689136959730039102936840885514674504800643312223539786248696215947432124373256535457936717829425156232192058992360906359940219322511178687347261047567845423638755800890643695843876906927169999275414170891664211791249032439935692306258291681947815982878224586253785177098515274262589790002718175274870886800310544615174070654275442039963775342307597840200915998553791356958590294322641602548491595792236504739204592555906090152734043251306489762393498510479341599801143615663263070910535654507015144313529397957781455101423669877\n"
     ]
    }
   ],
   "source": [
    "# Создаю доверенный центр\n",
    "ca = FiatShamirCA()"
   ]
  },
  {
   "cell_type": "code",
   "execution_count": 9,
   "id": "ba6fdec5",
   "metadata": {},
   "outputs": [
    {
     "name": "stdout",
     "output_type": "stream",
     "text": [
      "[TRACE] [FiatShamirClient] Client 0968e3b3-4324-4c96-a2f7-be52d040093d\n",
      "[TRACE] [FiatShamirClient] Public key = 7405253908054208965388501637992637547335803914694863741623171676225738943835136417538008930534882622162158949655028830537107112765116169317583621352080486393371021734887312513829677580607710893940556942470929769414346728011374376425442079972151260801384904284270518954024971906158480092921573994027139855668690332115663386299472175842974858401062916461305634619283148141928476682950980805344080894462205845024966380602998610671526942613097572036486391480780596844651655760246719590217213180829616620810044486823327697010886834036977429262556922640663820451496666608897094325660325792767479754161009519275670274555188\n",
      "[TRACE] [FiatShamirClient] Client 0968e3b3-4324-4c96-a2f7-be52d040093d\n",
      "[TRACE] [FiatShamirClient] Public key = 7405253908054208965388501637992637547335803914694863741623171676225738943835136417538008930534882622162158949655028830537107112765116169317583621352080486393371021734887312513829677580607710893940556942470929769414346728011374376425442079972151260801384904284270518954024971906158480092921573994027139855668690332115663386299472175842974858401062916461305634619283148141928476682950980805344080894462205845024966380602998610671526942613097572036486391480780596844651655760246719590217213180829616620810044486823327697010886834036977429262556922640663820451496666608897094325660325792767479754161009519275670274555188\n"
     ]
    }
   ],
   "source": [
    "# Создаю двух пользователей:\n",
    "# - Алису - валидного пользователя\n",
    "# - Еву - пользователя, представляющегося Алисой. но не знающего закрытого ключа Алисы\n",
    "alice = FiatShamirClient(ca.modulus)\n",
    "eve = FiatShamirClient(ca.modulus, \n",
    "                       fake_data=(alice.identifier, alice.public_key))"
   ]
  },
  {
   "cell_type": "code",
   "execution_count": 10,
   "id": "3a356fa5",
   "metadata": {},
   "outputs": [
    {
     "name": "stdout",
     "output_type": "stream",
     "text": [
      "[TRACE] [FiatShamirCA] Attempting to register client 0968e3b3-4324-4c96-a2f7-be52d040093d \n",
      "        with public key 7405253908054208965388501637992637547335803914694863741623171676225738943835136417538008930534882622162158949655028830537107112765116169317583621352080486393371021734887312513829677580607710893940556942470929769414346728011374376425442079972151260801384904284270518954024971906158480092921573994027139855668690332115663386299472175842974858401062916461305634619283148141928476682950980805344080894462205845024966380602998610671526942613097572036486391480780596844651655760246719590217213180829616620810044486823327697010886834036977429262556922640663820451496666608897094325660325792767479754161009519275670274555188\n",
      "[TRACE] [FiatShamirCA] Client registered successfully\n"
     ]
    }
   ],
   "source": [
    "# Регистрирую валидного пользователя\n",
    "ca.register_client(alice.identifier, alice.public_key)"
   ]
  },
  {
   "cell_type": "code",
   "execution_count": 11,
   "id": "8ef75f95",
   "metadata": {},
   "outputs": [],
   "source": [
    "# Для простоты будет 3 итерации\n",
    "ITERATIONS = 3\n",
    "\n",
    "# Создаю проверяющую сторону\n",
    "verifier = FiatShamirVerifier(ITERATIONS)"
   ]
  },
  {
   "cell_type": "code",
   "execution_count": 12,
   "id": "03999f0a",
   "metadata": {},
   "outputs": [
    {
     "name": "stdout",
     "output_type": "stream",
     "text": [
      "[TRACE] [FiatShamirVerifier] Attempt to authenticate client 0968e3b3-4324-4c96-a2f7-be52d040093d\n",
      "[TRACE] [FiatShamirVerifier] Number of iterations = 3\n",
      "[TRACE] [FiatShamirVerifier] [Iteration 1] x = mpz(6999942897129435064298676987542234838458769073229646276932195672399792209464144594348952527503845394976111417618169137875386209255075610932064250957884598174560777573383399823891507329314903603639813910273671179322575461908392865786517159244924847708927738318285303309393634783855823206017481596168797355629550331387866275112945044382653086060090734120911000028472337449372243615764063663839358692617737258245939447766494783268734824748962685944004244843469358638663842141026915371491139849222687238889713841830433467950469717309352218358379836861632251084558058517523231173748118079985967990275731090202493935070510)\n",
      "[TRACE] [FiatShamirVerifier] [Iteration 1] e = mpz(1)\n",
      "[TRACE] [FiatShamirVerifier] [Iteration 1] y = mpz(9937152804719886022461364511859515604354022019556855230148820855500927437152777675556574212325874082268853416432577786144159019032352868218059719128087050375278795382098667135271242368027592801192265419797207973138007726847625589361261212245813909339850076206524566943387640545829218392775507744509761708828876374979453709348685132048600752952548867502776983551859745761019131924779024464996055035138506204816313861186371006205876294931177213080487281023677354728037807065023160357089615859536246221717922919261413991594626154236969074017522069731188041442744814570156875303944473457590783485424646859122345481803224)\n",
      "[TRACE] [FiatShamirVerifier] [Iteration 1] success: True\n",
      "[TRACE] [FiatShamirVerifier] [Iteration 2] x = mpz(8680378352182751044115080547152741657493158829657986268200697801775318916692176495401946289179559031187258570506159364107741546640920049470732906398743412643010149906347741050268082300836134477404950021440310736825898638001858416086030434733440425120501002061905800843316974517928102307205338953322441751467483976831510871485412321953330980424104358102009584150030585957601297720087833854578619861121544864111369286350189411359820592261149661419109837252507239974074508098615346631631084342512509335094937307533986336681180986198422123984622701347345444857200323162757285136118511763733021485353912540000220073238228)\n",
      "[TRACE] [FiatShamirVerifier] [Iteration 2] e = mpz(1)\n",
      "[TRACE] [FiatShamirVerifier] [Iteration 2] y = mpz(683693330072113275485535372600920061602500653403990106843077023346588669328542575736047889263543201493730962867177052145815777536097957492086249093431802878800879987277224385565835924723297813368348682645318435487377775466551183597650710396746842755384227810119753965408911042122315089650720238325081873483030195971482428088653433393072039616171729849063396561984328415046623804616278414571022357665961839541221863288132763941123475739703828456935477419324668384189519182061073747818069495909464508923237285993387021813732574741591898494988118505901771576081813205462574012456283819214923567203801601671731462919467)\n",
      "[TRACE] [FiatShamirVerifier] [Iteration 2] success: True\n",
      "[TRACE] [FiatShamirVerifier] [Iteration 3] x = mpz(4231238911719720905023550285447854632475524209710071498785550644378788976676646294987751256214640605482131280898975131177592631606924739479205929938137118048071180644171088030310805651195183867663345725583521925493734081783981546842859003572327338403340049345155488551636287702680889343805093946885022367867393920886022335648286628345425184740781155375041133872716048482292690000664943630658420211067685899359685643114253075629305257059851713556313220793362325775353483555309833489355708077573396706846005616642840942683469315360257372913243439104256040672724911920450600345869481593344799213611864390481910446367864)\n",
      "[TRACE] [FiatShamirVerifier] [Iteration 3] e = mpz(0)\n",
      "[TRACE] [FiatShamirVerifier] [Iteration 3] y = mpz(273853736401758354892973994584724190694405895042692170541520433841870496944713329308386341997277736796211174625763850633184959891605077140556610764124265482837163824141161284236414305697165208182841495333874898737996610853777317439254163710881768716652102918892182271611991706887411037824018535510093604135684943429709687315489568926501188486680600381960884465328286993396813718075480395595979348472862496702150374228684771239668824787053982027448031206281002523531249346827837445064974501375417333886821328843610580305569833233752003601269184098280811786441745146913942100592059011296958799888601657717811940919738)\n",
      "[TRACE] [FiatShamirVerifier] [Iteration 3] success: True\n",
      "Authentication successful: True\n"
     ]
    },
    {
     "data": {
      "text/plain": [
       "True"
      ]
     },
     "execution_count": 12,
     "metadata": {},
     "output_type": "execute_result"
    }
   ],
   "source": [
    "# Произвожу аутентификацию валидного пользователя\n",
    "verifier.authenticate(alice, ca)"
   ]
  },
  {
   "cell_type": "code",
   "execution_count": 13,
   "id": "61667d30",
   "metadata": {},
   "outputs": [
    {
     "name": "stdout",
     "output_type": "stream",
     "text": [
      "[TRACE] [FiatShamirVerifier] Attempt to authenticate client 0968e3b3-4324-4c96-a2f7-be52d040093d\n",
      "[TRACE] [FiatShamirVerifier] Number of iterations = 3\n",
      "[TRACE] [FiatShamirVerifier] [Iteration 1] x = mpz(683182873663945878380666989065191092518501673576967410238884162364831860499694866729189004369203810978947468569778652706444050745091924274057578480141401268228560327172880305515507777040568437438628585677314386297850772308547332432255760950145584529258898556264109033370356627610885250062372088275169272512881596496285732635231911801765115851807451501266545691916716940777013943155236875685036064619745285114763583701438528478837235789207813290932913045585685032488446966894018288102990926648750600003938094815841791833969498610261137057535526396730888613427186938806517224403483201406384947624079961470862355028960)\n",
      "[TRACE] [FiatShamirVerifier] [Iteration 1] e = mpz(1)\n",
      "[TRACE] [FiatShamirVerifier] [Iteration 1] y = mpz(8844339706935543301181967075598920534797993418198739207474827558175896703842830391642810047837406903518106549008793973856998092350562168597090358191147601007143524303669519479408342338141961838633246851146785339876888525090222529695009355984851854582401447582072288621011606149405788600094261647446264693616368028557601663972585738340418916945594087778593729248117594355060991281628727391763444750492492333668122130233030683595247322295713550684171791624356715029646065949311570398576721848308157373788993184316503517629424676999288157336851865075060123510869780919064316651089933518904438438234607933057256693800724)\n",
      "[TRACE] [FiatShamirVerifier] [Iteration 1] success: False\n",
      "Authentication successful: False\n"
     ]
    },
    {
     "data": {
      "text/plain": [
       "False"
      ]
     },
     "execution_count": 13,
     "metadata": {},
     "output_type": "execute_result"
    }
   ],
   "source": [
    "# Произвожу аутентификацию невалидного пользователя\n",
    "verifier.authenticate(eve, ca)"
   ]
  },
  {
   "cell_type": "markdown",
   "id": "1f02b6ea",
   "metadata": {},
   "source": [
    "---"
   ]
  },
  {
   "cell_type": "markdown",
   "id": "d833f860",
   "metadata": {},
   "source": [
    "## Протокол Шнорра\n",
    "![Schnorr Protocol](./images/Schnorr_2.png)"
   ]
  },
  {
   "cell_type": "code",
   "execution_count": 14,
   "id": "ef190236",
   "metadata": {},
   "outputs": [],
   "source": [
    "class SchnorrCA(object):\n",
    "    RSA_KEY_LENGTH = 4096\n",
    "    \n",
    "    def __init__(self):\n",
    "        \"\"\"\n",
    "        Инициализация доверенного центра\n",
    "        Генерация простых чисел p, q и элемента g, а также ключевой пары СА\n",
    "        \"\"\"\n",
    "        \n",
    "        self._db = {}\n",
    "        \n",
    "        #\n",
    "        # Генерация параметров протокола\n",
    "        #\n",
    "        \n",
    "        self._p, self._q, self._g = SchnorrCA._generate_parameters()\n",
    "        \n",
    "        #\n",
    "        # Ключевая пара RSA для СА\n",
    "        #\n",
    "        \n",
    "        self._private_key = RSA.generate(SchnorrCA.RSA_KEY_LENGTH)\n",
    "        self._public_key = self._private_key.publickey()\n",
    "        \n",
    "        trace('[SchnorrCA]', f'RSA public key = {(self._public_key.e, self._public_key.n)}')\n",
    "        \n",
    "        \n",
    "    def register_client(self, \n",
    "                        client_id: uuid.UUID, \n",
    "                        client_public_key: gmpy2.mpz) -> tuple[uuid.UUID, gmpy2.mpz, bytes]:\n",
    "        \"\"\"\n",
    "        Регистрация клиента. Принимает на вход идентификатор клиента и его открытый ключ.\n",
    "        Возвращает подписанный сервером сертификат.\n",
    "        Выбрасывает исключение, если клиент уже зарегистрирован.\n",
    "        \"\"\"\n",
    "        \n",
    "        if client_id in self._db:\n",
    "            trace('[SchnorrCA]', 'User already exists')\n",
    "            raise ValueError(f'Client {client_id} is already registered')\n",
    "            \n",
    "        #\n",
    "        # Создаю сертификат\n",
    "        #\n",
    "            \n",
    "        h = SHA256.new(str(client_id).encode() + number.long_to_bytes(int(client_public_key)))\n",
    "        signature = pss.new(self._private_key).sign(h)\n",
    "        \n",
    "        certificate = (client_id, client_public_key, signature)\n",
    "        trace('[SchnorrCA]', f'Certificate = {certificate}')\n",
    "        \n",
    "        #\n",
    "        # Сохраняю его и возвращаю\n",
    "        #\n",
    "        \n",
    "        self._db[client_id] = certificate\n",
    "        return certificate\n",
    "    \n",
    "    \n",
    "    def verify_certificate(self, certificate: tuple[uuid.UUID, gmpy2.mpz, bytes]) -> bool:\n",
    "        \"\"\"\n",
    "        Проверка сертификата.\n",
    "        Возвращает признак валидности сертификата.\n",
    "        \"\"\"\n",
    "        \n",
    "        client_id, client_public_key, signature = certificate\n",
    "        \n",
    "        if client_id not in self._db:\n",
    "            trace('[SchnorrCA]', f\"Client {client_id} doesn't exist\")\n",
    "            raise ValueError(\"Client doesn't exist\")\n",
    "            \n",
    "        h = SHA256.new(str(client_id).encode() + number.long_to_bytes(int(client_public_key)))\n",
    "        verifier = pss.new(self.public_key)\n",
    "        \n",
    "        try:\n",
    "            verifier.verify(h, signature)\n",
    "            return True\n",
    "        except:\n",
    "            return False\n",
    "        \n",
    "        \n",
    "    @property\n",
    "    def public_key(self):\n",
    "        \"\"\"\n",
    "        Получение открытого ключа СА.\n",
    "        \"\"\"\n",
    "        \n",
    "        return self._public_key\n",
    "    \n",
    "    \n",
    "    @property\n",
    "    def parameters(self) -> tuple[gmpy2.mpz, gmpy2.mpz, gmpy2.mpz]:\n",
    "        \"\"\"\n",
    "        Параметры протокола (p, q, g)\n",
    "        \"\"\"\n",
    "        \n",
    "        return self._p, self._q, self._g\n",
    "        \n",
    "        \n",
    "    @staticmethod\n",
    "    def _generate_parameters() -> tuple[gmpy2.mpz, gmpy2.mpz, gmpy2.mpz]:\n",
    "        \"\"\"\n",
    "        Генерация параметров протокола (p, q, g).\n",
    "        \"\"\"\n",
    "        \n",
    "        Q_LENGTH = 160\n",
    "        P_LENGTH = 1024\n",
    "        \n",
    "        q = gmpy2.mpz(number.getPrime(Q_LENGTH))\n",
    "        p = gmpy2.mul(getrandbits(P_LENGTH - Q_LENGTH), q) + 1\n",
    "        \n",
    "        while not gmpy2.is_prime(p):\n",
    "            p = gmpy2.mul(getrandbits(P_LENGTH - Q_LENGTH), q) + 1\n",
    "            \n",
    "        #\n",
    "        # Сгенерирую число, взаимно простое с p\n",
    "        #\n",
    "        \n",
    "        tmp = getrandbits(P_LENGTH)\n",
    "        while gmpy2.gcd(tmp, p) != 1:\n",
    "            tmp = getrandbits(P_LENGTH)\n",
    "        \n",
    "        #\n",
    "        # По малой теореме Ферма такой g будет иметь порядок q\n",
    "        #\n",
    "        \n",
    "        g = gmpy2.powmod(tmp, (p - 1) // q, p)\n",
    "        \n",
    "        trace('[SchnorrCA]', f'{p = }, {q = }, {g = }')\n",
    "        return p, q, g"
   ]
  },
  {
   "cell_type": "code",
   "execution_count": 15,
   "id": "b73affbc",
   "metadata": {},
   "outputs": [],
   "source": [
    "class SchnorrClient(object):\n",
    "    def __init__(self, parameters: tuple[gmpy2.mpz, gmpy2.mpz, gmpy2.mpz], *,\n",
    "                 fake_data: tuple[uuid.UUID, gmpy2.mpz, tuple] = None):\n",
    "        \"\"\"\n",
    "        Инициализация клиента. Генерирует идентификатор клиента,\n",
    "        ключевую пару.\n",
    "        Последний параметр необходим для демонстрации неуспешной аутентификации.\n",
    "        \"\"\"\n",
    "        \n",
    "        self._p, self._q, self._g = parameters\n",
    "        self._id = uuid.uuid4() if fake_data is None else fake_data[0]\n",
    "        \n",
    "        self._cert = None if fake_data is None else fake_data[2]\n",
    "        self._r = None\n",
    "        \n",
    "        self._private_key = randint(1, self._q - 1)\n",
    "        self._public_key  = gmpy2.powmod(\n",
    "            self._g, -self._private_key, self._p) if fake_data is None else fake_data[1]\n",
    "        \n",
    "        trace('[SchnorrClient]', f'Client {self._id}')\n",
    "        trace('[SchnorrClient]', f'Public key = {self._public_key}')\n",
    "        \n",
    "        \n",
    "    def register(self, ca: SchnorrCA) -> None:\n",
    "        \"\"\"\n",
    "        Регистрация клиента на СА. Принимает дескриптор СА.\n",
    "        \"\"\"\n",
    "        \n",
    "        self._cert = ca.register_client(self.identifier, self.public_key)\n",
    "        \n",
    "        \n",
    "    def get_x(self) -> gmpy2.mpz:\n",
    "        \"\"\"\n",
    "        Получение числа х, получаемого по формуле:\n",
    "                    x = g ** r mod p\n",
    "        где r - случайное целое число из отрезка [1, q - 1].\n",
    "        Сохраняет значение r.\n",
    "        \"\"\"\n",
    "        \n",
    "        self._r = randint(1, self._q - 1)\n",
    "        return gmpy2.powmod(self._g, self._r, self._p)\n",
    "    \n",
    "    \n",
    "    def get_y(self, e, security_parameter) -> gmpy2.mpz:\n",
    "        \"\"\"\n",
    "        Получение числа х, получаемого по формуле:\n",
    "                    x = a * e + r mod q\n",
    "        где r - сохраненное в get_x служебное значение, e - число,\n",
    "        полученное от проверяющего, a - закрытый ключ клиента.\n",
    "        \"\"\"\n",
    "        \n",
    "        if e > 2 ** security_parameter or e < 1:\n",
    "            trace('[SchnorrClient]', f'Invalid {e = }')\n",
    "            raise ValueError('Invalid e')\n",
    "            \n",
    "        pre_result = gmpy2.mul(self._private_key, e) + self._r\n",
    "        return gmpy2.t_mod(pre_result, self._q)\n",
    "    \n",
    "    \n",
    "    @property\n",
    "    def certificate(self):\n",
    "        \"\"\"\n",
    "        Получение сертификата клиента.\n",
    "        \"\"\"\n",
    "        \n",
    "        return self._cert\n",
    "        \n",
    "        \n",
    "    @property\n",
    "    def public_key(self) -> gmpy2.mpz:\n",
    "        \"\"\"\n",
    "        Получение открытого ключа клиента.\n",
    "        \"\"\"\n",
    "        \n",
    "        return self._public_key\n",
    "        \n",
    "        \n",
    "    @property\n",
    "    def identifier(self) -> uuid.UUID:\n",
    "        \"\"\"\n",
    "        Получение идентификатора клиента.\n",
    "        \"\"\"\n",
    "        \n",
    "        return self._id"
   ]
  },
  {
   "cell_type": "code",
   "execution_count": 16,
   "id": "0e4f2e20",
   "metadata": {},
   "outputs": [],
   "source": [
    "class SchnorrVerifier(object):\n",
    "    def __init__(self, parameters, security_parameter):\n",
    "        \"\"\"\n",
    "        Инициализация проверяющего. Фактически только закрепляет параметры протокола.\n",
    "        \"\"\"\n",
    "        \n",
    "        self._p, self._q, self._g = parameters\n",
    "        self._security_parameter = security_parameter\n",
    "        \n",
    "        assert security_parameter > 0 and 2 ** security_parameter < self._q\n",
    "        \n",
    "        self._e_values = set()\n",
    "        \n",
    "        \n",
    "    def authenticate(self, client: SchnorrClient, ca: SchnorrCA) -> bool:\n",
    "        \"\"\"\n",
    "        Аутентификация клиента. На вход принимает дескрипторы клиента и СА.\n",
    "        Возвращает True в случае успешной аутентификации.\n",
    "        \"\"\"\n",
    "        \n",
    "        #\n",
    "        # Получаю с клиента x и его сертификат\n",
    "        #\n",
    "        \n",
    "        x, cert = client.get_x(), client.certificate\n",
    "        trace('[SchnorrVerifier]', f'{x = }')\n",
    "        \n",
    "        #\n",
    "        # Если сертификат битый или невалидный, то это плохо\n",
    "        #\n",
    "        \n",
    "        if not ca.verify_certificate(cert):\n",
    "            trace('[SchnorrVerifier]', f'Invalid certificate {cert}')\n",
    "            return False\n",
    "            \n",
    "        #\n",
    "        # Генерирую число е и отдаю его клиенту\n",
    "        #\n",
    "            \n",
    "        e = randint(1, 2 ** self._security_parameter)\n",
    "        while e in self._e_values:\n",
    "            e = randint(1, self._security_parameter * 2)\n",
    "            \n",
    "        self._e_values.add(e)        \n",
    "        trace('[SchnorrVerifier]', f'{e = }')\n",
    "        \n",
    "        y = client.get_y(e, 2 ** self._security_parameter)\n",
    "        trace('[SchnorrVerifier]', f'{y = }')\n",
    "        \n",
    "        #\n",
    "        # Вычисляю значение, которое необходимо сравнить с полученным от клиента х\n",
    "        # И сразу же сравниваю их\n",
    "        # \n",
    "        \n",
    "        product = gmpy2.mul(gmpy2.powmod(self._g, y, self._p), \n",
    "                            gmpy2.powmod(client.public_key, e, self._p))\n",
    "        z = gmpy2.t_mod(product, self._p)\n",
    "        trace('[SchnorrVerifier]', f'{z = }')\n",
    "        \n",
    "        return z == x"
   ]
  },
  {
   "cell_type": "markdown",
   "id": "047b45e0",
   "metadata": {},
   "source": [
    "----"
   ]
  },
  {
   "cell_type": "code",
   "execution_count": 17,
   "id": "4f08cc60",
   "metadata": {},
   "outputs": [
    {
     "name": "stdout",
     "output_type": "stream",
     "text": [
      "[TRACE] [SchnorrCA] p = mpz(151830363186297732601243730065299544984378916363912122338533264516580695000877364592853668966055600101366443127860218048601009122953269346874611963959050879985223948084259872585427078297369225851835178191164193482492948916715370767997543381556747046365397656645787085760752508152616128797932132220697996204969), q = mpz(1455766506467347948386293587430065436613126777323), g = mpz(131965867237608883301701261064143571579102674156732942296178363965046509946384184900273042739074401039237051992887062284371233510199616535682551797075248047639976561544335792118971456919604392660561197288661417141161490124898399453490833917404455751758318875965513812807110352600170373105046759525154640256873)\n",
      "[TRACE] [SchnorrCA] RSA public key = (65537, 770132405141274558459295699091973324835890220223692009773034006391808410209424024068754946747147599314823233929470312657467058684498590999337047943415382633162422809536430147600934216894586900611592695665978011944286632035923803084369463748125740550850080147538236490170886656272860524636189514167931473200637511650374292960578468898062191486646725068509998753125588372401697417693270255169908168666432622560067154429874487230223127155252324622581886308329326300322231552386649405554531083327263984655054907587345399414569531111427776308218793321840644651736520524102554307979436737839992355483916915201048525152185802164791867867938562728351839275947508517851969857537144699047434213646804321688423901036351729490263404313550244872720804143369609172491295454278626519693332145363326791980543625616260110385399032310123659746897826714927889678186702123366846750303816004333674805411790177533945164452448089272323424734506926560002764895229288972694952348036602605496691662286783269863550296306682137076552232630904673521193584188152465463410651627008734346543443663699348653865694035547864633786075877003263470969703084306112460817752216411036380430375768854678866359264100409761155920133148074594503113212013522109864454943541205489)\n"
     ]
    }
   ],
   "source": [
    "# Создаю доверенный центр\n",
    "ca = SchnorrCA()"
   ]
  },
  {
   "cell_type": "code",
   "execution_count": 18,
   "id": "892c9f5d",
   "metadata": {},
   "outputs": [
    {
     "name": "stdout",
     "output_type": "stream",
     "text": [
      "[TRACE] [SchnorrClient] Client 43692cbd-0344-45cb-8496-19158c6e4035\n",
      "[TRACE] [SchnorrClient] Public key = 26833023354038158471251272028178180065713489539219731110144856995680862868575656704062164097647195706987776147474045986146530018600181916494942592685708834038792810964761445329608955173947197547920354402147948279887902084401366377015996093689578796291757322420657137387331967599840090406546204309717735821452\n"
     ]
    }
   ],
   "source": [
    "# Создам Алису - валидного пользователя\n",
    "alice = SchnorrClient(ca.parameters)"
   ]
  },
  {
   "cell_type": "code",
   "execution_count": 19,
   "id": "c2337295",
   "metadata": {},
   "outputs": [
    {
     "name": "stdout",
     "output_type": "stream",
     "text": [
      "[TRACE] [SchnorrCA] Certificate = (UUID('43692cbd-0344-45cb-8496-19158c6e4035'), mpz(26833023354038158471251272028178180065713489539219731110144856995680862868575656704062164097647195706987776147474045986146530018600181916494942592685708834038792810964761445329608955173947197547920354402147948279887902084401366377015996093689578796291757322420657137387331967599840090406546204309717735821452), b\" \\xd8\\xc3*09\\x07qoa\\xcd#\\xb9\\xc0S\\x01^\\x15-`\\xd3\\xceZ\\x01K\\xdfI\\x19\\xe5\\x18\\xe0\\xaeIuG\\x87QvQ\\x01\\xb1\\x1c\\\\\\x16B>\\xce\\x07\\xdd\\xe1>\\x98\\xfdf,\\x14t\\xde\\xea\\x07\\xdf\\xf4\\xbc#\\x81\\xebe\\x1fo\\xa0\\xef\\xf6\\xb5\\x9f&E\\x83\\xf8\\x82=/\\x85\\\\\\xd5l\\x08\\x087\\x85\\xb8_\\x9f\\x9e\\x14\\x06\\xa5\\xb0j\\xfc\\x99(\\xf2d@\\x16o\\x9bP\\x8c\\x96(0y\\x95\\xc6_o\\xdb$\\xfe\\xc1\\xfc\\xfc0\\xcbK~?V\\xabO\\x9e\\xd9E\\xf4\\xc6\\xce\\x7f\\x15\\xf8\\xadX\\xb4\\x11\\xd5%\\x8b\\xf7:\\x809v\\xcd\\xc8\\xc6V\\x96\\xfdF\\x9eR\\x8aWt8\\xb3\\x80-\\xb0\\xdez\\xb7\\\\\\xbdI\\xe8\\xb8\\x0e\\xbdx\\xd6x\\xe84\\xd9d\\xa7\\x92\\xf2g\\x99\\x19\\x0e\\xc0\\xb1rdv\\xd3\\xa6\\xe2?\\xfe3H\\x9f\\xa0PB\\x85\\xf6\\x94}X\\x9f\\xc2\\xf9\\x1foP8rq\\xc4t\\xc0\\xf5\\x19\\xbe\\xd6)\\xd2\\x13B\\xb1\\xe66W\\xfc\\x16\\xa9\\xb2k\\xfb\\x11\\x15\\xd38.k\\xeb\\xe2\\xe7|\\xf5\\xa9\\x95\\x0f\\xc3\\xd3\\xdc\\x97hH3R\\t\\xd9\\x84k@\\x04\\x8c\\xeb\\xeae\\xa4\\xfd\\x1c\\r4\\xe3,\\xf9\\xcfYBq\\x86\\xb8u\\x1dzE'd\\xb3m\\xfd6\\xd9\\x18\\x1fJ\\x88ly`\\xc5\\x91\\xbcF\\xf8B\\xc0E\\xf1\\xf7\\x96\\x8f\\xc2_\\xcf\\xcc\\xc4\\xec\\xa6\\xdf\\xfcY\\xde\\xf3\\xe1\\xb0j9j\\xbf\\x9d\\xa8\\xe6\\xd8q<\\x81\\xb1\\xb7\\x1fhr\\x07\\x14\\xe1\\xbc\\xc7\\xe6\\x89hB\\xaf\\xae\\xced\\xa4\\x00P\\xf7y\\t\\x16\\xc2\\x10\\xc2\\x00G\\xb2\\xb0\\xad\\x1dz\\xba\\x06\\x9f\\xdd\\xae\\xbe\\xf4B\\xe6/\\xaa\\xe4.p\\x08\\xb9\\xccGv\\xd7\\xb5\\xf1{|\\x9b\\x02\\xe2:\\x11\\xa5\\xc4\\x89H\\xff\\xd8<\\x16@\\xf7\\x8c\\xb1\\xc9I\\xf1\\xbd\\x1e\\xee\\xcf@!\\x008a\\xac\\xd3>\\xbf\\xc1\\xd3 \\x81;\\xe6\\xc1\\t\\xd7\\x8d\\x9e\\xc9\\x17\\xb9\\x89e\\xb4w\\xab\\t\\xc6zW\\xc9\\xd51\\xbc\\x0f\\xbd\\xac\\x86\\x88\\xe1_F=Q\\x90\\x89\\xd5P\\xa9\\x95E\\xb3\\x18{+\\xb7|=Z\\xd2\\x02u\\xcc\\x07\\xf2\\xd7\\x99j7\\x01\\x0c7\\xdciK8\\x16.\\xda\\x88*\\x90\")\n"
     ]
    }
   ],
   "source": [
    "# Регистрирую валидного пользователя\n",
    "alice.register(ca)"
   ]
  },
  {
   "cell_type": "code",
   "execution_count": 20,
   "id": "edef51b9",
   "metadata": {},
   "outputs": [],
   "source": [
    "# Параметр безопасности положим равным 10 для демонстрации\n",
    "security_parameter = 10\n",
    "\n",
    "# Создаю проверяющую сторону\n",
    "verifier = SchnorrVerifier(ca.parameters, security_parameter)"
   ]
  },
  {
   "cell_type": "code",
   "execution_count": 21,
   "id": "a80ccac1",
   "metadata": {},
   "outputs": [
    {
     "name": "stdout",
     "output_type": "stream",
     "text": [
      "[TRACE] [SchnorrVerifier] x = mpz(15700808558092753339003617701852238138790157305635909613046652819913831303306364475259386249528928143612192245218731645801969269380350007645056828732907334650361563596475971513099332473473839740476266894013482157288904645181967618532619582144794164925728888273857943445544135879629043490273488074163741845524)\n",
      "[TRACE] [SchnorrVerifier] e = mpz(139)\n",
      "[TRACE] [SchnorrVerifier] y = mpz(173624567712510436470581266894516666272541860971)\n",
      "[TRACE] [SchnorrVerifier] z = mpz(15700808558092753339003617701852238138790157305635909613046652819913831303306364475259386249528928143612192245218731645801969269380350007645056828732907334650361563596475971513099332473473839740476266894013482157288904645181967618532619582144794164925728888273857943445544135879629043490273488074163741845524)\n"
     ]
    },
    {
     "data": {
      "text/plain": [
       "True"
      ]
     },
     "execution_count": 21,
     "metadata": {},
     "output_type": "execute_result"
    }
   ],
   "source": [
    "# Произвожу аутентификацию валидного пользователя\n",
    "verifier.authenticate(alice, ca)"
   ]
  },
  {
   "cell_type": "code",
   "execution_count": 22,
   "id": "9e508564",
   "metadata": {},
   "outputs": [
    {
     "name": "stdout",
     "output_type": "stream",
     "text": [
      "[TRACE] [SchnorrClient] Client 43692cbd-0344-45cb-8496-19158c6e4035\n",
      "[TRACE] [SchnorrClient] Public key = 26833023354038158471251272028178180065713489539219731110144856995680862868575656704062164097647195706987776147474045986146530018600181916494942592685708834038792810964761445329608955173947197547920354402147948279887902084401366377015996093689578796291757322420657137387331967599840090406546204309717735821452\n"
     ]
    }
   ],
   "source": [
    "# Создаю Еву - клиента, который пытается представиться Алисой\n",
    "eve = SchnorrClient(ca.parameters, \n",
    "                    fake_data=(alice.identifier, alice.public_key, alice.certificate))"
   ]
  },
  {
   "cell_type": "code",
   "execution_count": 23,
   "id": "cbaeeb83",
   "metadata": {},
   "outputs": [
    {
     "name": "stdout",
     "output_type": "stream",
     "text": [
      "[TRACE] [SchnorrVerifier] x = mpz(2999931989798777744807063954668993509297958119707894720187072891822206006868115098504189681259695709482378401953304853035839859532792704973714843993716967950105328153477349630868400209452084086959273766485490126241307565694574495295557544982955815537267159803331199372897885481619754525959455228036308286818)\n",
      "[TRACE] [SchnorrVerifier] e = mpz(326)\n",
      "[TRACE] [SchnorrVerifier] y = mpz(1167305336196651232646449590567325630624342057488)\n",
      "[TRACE] [SchnorrVerifier] z = mpz(5102772393057271040810485677327110916126681161004870633599215498241105508265416457487244287805604519837182633906456120595203090283855027841781057629637264502542871858635163555328508154270409131091234363516643822967695901453939197739132181419795305748318577310584618531081986837822255484258662610247098341350)\n"
     ]
    },
    {
     "data": {
      "text/plain": [
       "False"
      ]
     },
     "execution_count": 23,
     "metadata": {},
     "output_type": "execute_result"
    }
   ],
   "source": [
    "# Произвожу аутентификацию невалидного пользователя\n",
    "verifier.authenticate(eve, ca)"
   ]
  },
  {
   "cell_type": "code",
   "execution_count": null,
   "id": "37525d22",
   "metadata": {},
   "outputs": [],
   "source": []
  }
 ],
 "metadata": {
  "kernelspec": {
   "display_name": "Python 3 (ipykernel)",
   "language": "python",
   "name": "python3"
  },
  "language_info": {
   "codemirror_mode": {
    "name": "ipython",
    "version": 3
   },
   "file_extension": ".py",
   "mimetype": "text/x-python",
   "name": "python",
   "nbconvert_exporter": "python",
   "pygments_lexer": "ipython3",
   "version": "3.9.10"
  }
 },
 "nbformat": 4,
 "nbformat_minor": 5
}
