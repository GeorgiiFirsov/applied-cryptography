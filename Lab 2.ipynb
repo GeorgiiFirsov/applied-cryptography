{
 "cells": [
  {
   "cell_type": "markdown",
   "id": "106168dc",
   "metadata": {},
   "source": [
    "# Протоколы аутентификации с нулевым разглашением"
   ]
  },
  {
   "cell_type": "code",
   "execution_count": 1,
   "id": "4a343351",
   "metadata": {},
   "outputs": [],
   "source": [
    "IS_DEBUG = 1"
   ]
  },
  {
   "cell_type": "code",
   "execution_count": 2,
   "id": "34caa6a0",
   "metadata": {},
   "outputs": [],
   "source": [
    "def trace(*args, **kwargs):\n",
    "    \"\"\"\n",
    "    Отладочная трассировка\n",
    "    \"\"\"\n",
    "    \n",
    "    global IS_DEBUG\n",
    "    if IS_DEBUG:\n",
    "        print('[TRACE]', end=' ')\n",
    "        print(*args, **kwargs)"
   ]
  },
  {
   "cell_type": "markdown",
   "id": "cc0a54f3",
   "metadata": {},
   "source": [
    "---"
   ]
  },
  {
   "cell_type": "code",
   "execution_count": 3,
   "id": "de92ae59",
   "metadata": {},
   "outputs": [],
   "source": [
    "# Генерация простых чисел\n",
    "from Crypto.Util import number\n",
    "\n",
    "# КГПСЧ\n",
    "from Crypto.Random import random\n",
    "\n",
    "# Понадобится в протоколе Шнорра\n",
    "from Crypto.PublicKey import RSA\n",
    "from Crypto.Signature import pss\n",
    "from Crypto.Hash import SHA256\n",
    "\n",
    "# Немного математики\n",
    "import gmpy2\n",
    "\n",
    "# Для генерации идентификаторов клиентов\n",
    "import uuid"
   ]
  },
  {
   "cell_type": "markdown",
   "id": "cb741152",
   "metadata": {},
   "source": [
    "---"
   ]
  },
  {
   "cell_type": "code",
   "execution_count": 4,
   "id": "f2b2a63e",
   "metadata": {},
   "outputs": [],
   "source": [
    "def randint(a, b) -> gmpy2.mpz:\n",
    "    \"\"\"\n",
    "    Генерация случайного числа в отрезке [a, b] с помощью КГПСЧ с поддержкой gmpy2\n",
    "    \"\"\"\n",
    "    \n",
    "    native_a = int(a)\n",
    "    native_b = int(b)\n",
    "    \n",
    "    return gmpy2.mpz(random.randint(native_a, native_b))\n",
    "\n",
    "\n",
    "def getrandbits(n) -> gmpy2.mpz:\n",
    "    \"\"\"\n",
    "    Генерация случайного числа длиной n бит с помощью КГПСЧ с поддержкой gmpy2\n",
    "    \"\"\"\n",
    "    \n",
    "    native_n = int(n)\n",
    "    \n",
    "    return gmpy2.mpz(random.getrandbits(native_n))"
   ]
  },
  {
   "cell_type": "markdown",
   "id": "f535aa56",
   "metadata": {},
   "source": [
    "----"
   ]
  },
  {
   "cell_type": "markdown",
   "id": "6d0f7585",
   "metadata": {},
   "source": [
    "## Протокол Фиата-Шамира\n",
    "![Fiat-Shamir Protocol](./images/Fiat-Shamir_2.png)"
   ]
  },
  {
   "cell_type": "code",
   "execution_count": 5,
   "id": "fa6d8a01",
   "metadata": {},
   "outputs": [],
   "source": [
    "class FiatShamirCA(object):\n",
    "    PRIME_BITS = 1024\n",
    "    \n",
    "    def __init__(self):\n",
    "        \"\"\"\n",
    "        Инициализация доверенного центра.\n",
    "        Генерируются два простых числа и их произведение.\n",
    "        \"\"\"\n",
    "        \n",
    "        self._db = {}\n",
    "        \n",
    "        self._p = number.getPrime(FiatShamirCA.PRIME_BITS)\n",
    "        self._q = number.getPrime(FiatShamirCA.PRIME_BITS)\n",
    "        self._modulus = gmpy2.mul(self._p, self._q)\n",
    "        \n",
    "        trace('[FiatShamirCA]', f'Modulus = {self._modulus}')\n",
    "        \n",
    "        \n",
    "    def register_client(self, client_id: uuid.UUID, client_public_key: gmpy2.mpz) -> None:\n",
    "        \"\"\"\n",
    "        Регистрация клиента. На вход принимает идентификатор клиента и его открытый ключ.\n",
    "        Ничего не возвращает.\n",
    "        Выбрасывает исключение, если клиент уже существует.\n",
    "        \"\"\"\n",
    "        \n",
    "        trace('[FiatShamirCA]', f'''Attempting to register client {client_id} \n",
    "        with public key {client_public_key}''')\n",
    "        \n",
    "        if client_id in self._db:\n",
    "            trace('[FiatShamirCA]', 'User already exists')\n",
    "            raise ValueError(f'Client {client_id} is already registered')\n",
    "            \n",
    "        #\n",
    "        # Теперь сохраняю открытый ключ\n",
    "        #\n",
    "        \n",
    "        self._db[client_id] = client_public_key\n",
    "        trace('[FiatShamirCA]', 'Client registered successfully')\n",
    "        \n",
    "        \n",
    "    def get_public_key(self, client_id: uuid.UUID) -> gmpy2.mpz:\n",
    "        \"\"\"\n",
    "        Получение открытого ключа клиента. Получает на вход идентификатор клиента.\n",
    "        Возвращает открытый ключ.\n",
    "        Выбрасывает исключение, если пользователь отсутствует.\n",
    "        \"\"\"\n",
    "        \n",
    "        return self._db[client_id]\n",
    "       \n",
    "        \n",
    "    @property\n",
    "    def modulus(self) -> gmpy2.mpz:\n",
    "        \"\"\"\n",
    "        Возвращает модуль.\n",
    "        \"\"\"\n",
    "        \n",
    "        return self._modulus"
   ]
  },
  {
   "cell_type": "code",
   "execution_count": 6,
   "id": "0c7c49db",
   "metadata": {},
   "outputs": [],
   "source": [
    "class FiatShamirClient(object):\n",
    "    def __init__(self, modulus: gmpy2.mpz, *,\n",
    "                 fake_data: tuple[uuid.UUID, gmpy2.mpz] = None):\n",
    "        \"\"\"\n",
    "        Инициализация клиента с выработкой ключевой пары и идентификатора.\n",
    "        Последний параметр требуются для демонстрации неудачной аутентификации.\n",
    "        \"\"\"\n",
    "        \n",
    "        self._id = uuid.uuid4() if fake_data is None else fake_data[0]\n",
    "        self._r = None\n",
    "        \n",
    "        self._private_key = FiatShamirClient._generate_coprime(modulus)\n",
    "        self._public_key = gmpy2.powmod(self._private_key, 2, modulus) if fake_data is None else fake_data[1]\n",
    "        \n",
    "        trace('[FiatShamirClient]', f'Client {self._id}')\n",
    "        trace('[FiatShamirClient]', f'Public key = {self._public_key}')\n",
    "        \n",
    "        \n",
    "    @property\n",
    "    def public_key(self) -> gmpy2.mpz:\n",
    "        \"\"\"\n",
    "        Получение открытого ключа.\n",
    "        \"\"\"\n",
    "        \n",
    "        return self._public_key\n",
    "    \n",
    "    \n",
    "    @property\n",
    "    def identifier(self) -> uuid.UUID:\n",
    "        \"\"\"\n",
    "        Получение идентификатора.\n",
    "        \"\"\"\n",
    "        \n",
    "        return self._id\n",
    "    \n",
    "    \n",
    "    def get_x(self, modulus: gmpy2.mpz) -> gmpy2.mpz:\n",
    "        \"\"\"\n",
    "        Получение случайного значения, вычисляемого по формуле:\n",
    "                    x = r ** 2 mod n,\n",
    "        где n - модуль, r - случайное целое число из отрезка [1, n - 1].\n",
    "        Значение r сохраняется.\n",
    "        \"\"\"\n",
    "        \n",
    "        self._r = randint(1, modulus - 1)\n",
    "        return gmpy2.powmod(self._r, 2, modulus)\n",
    "    \n",
    "    \n",
    "    def get_y(self, e: gmpy2.mpz, modulus: gmpy2.mpz) -> gmpy2.mpz:\n",
    "        \"\"\"\n",
    "        Получение числа, вычисляемого по формуле:\n",
    "                    y = r * s ** e mod n,\n",
    "        где n - модуль, s - закрытый ключ пользователя, r - сгенерированное \n",
    "        функцией get_x внутреннее значение, e - целое число из отрезка [0, 1],\n",
    "        пришедшее от проверяющего.\n",
    "        \"\"\"\n",
    "        \n",
    "        product = gmpy2.mul(self._r, gmpy2.powmod(self._private_key, e, modulus))\n",
    "        return gmpy2.t_mod(product, modulus)\n",
    "        \n",
    "        \n",
    "    @staticmethod\n",
    "    def _generate_coprime(modulus: gmpy2.mpz) -> gmpy2.mpz:\n",
    "        \"\"\"\n",
    "        Генерация случайного числа из отрезка [1, n - 1], взаимно\n",
    "        простого с n, где n - модуль.\n",
    "        \"\"\"\n",
    "        \n",
    "        #\n",
    "        # Генерирую число до тех пор, пока оно не станет взаимно простым с модулем\n",
    "        #\n",
    "        \n",
    "        result = randint(1, modulus - 1)\n",
    "        while gmpy2.gcd(result, modulus) != 1:\n",
    "            result = randint(1, modulus - 1)\n",
    "            \n",
    "        return result"
   ]
  },
  {
   "cell_type": "code",
   "execution_count": 7,
   "id": "4b83de98",
   "metadata": {},
   "outputs": [],
   "source": [
    "class FiatShamirVerifier(object):\n",
    "    def __init__(self, iterations: int):\n",
    "        \"\"\"\n",
    "        Инициализация проверяющего. Задает коичество итераций проверки.\n",
    "        \"\"\"\n",
    "        \n",
    "        self._iterations = iterations\n",
    "        \n",
    "        \n",
    "    def authenticate(self, client: FiatShamirClient, ca: FiatShamirCA) -> bool:\n",
    "        \"\"\"\n",
    "        Аутентификация клиента. На вход принимает дескрипторы клиента и СА.\n",
    "        Возвращает True в случае успешной аутентификации.\n",
    "        \"\"\"\n",
    "        \n",
    "        trace('[FiatShamirVerifier]', f'Attempt to authenticate client {client.identifier}')\n",
    "        trace('[FiatShamirVerifier]', f'Number of iterations = {self._iterations}')\n",
    "        \n",
    "        is_successful = True\n",
    "        \n",
    "        for i in range(self._iterations):\n",
    "            x = client.get_x(ca.modulus)\n",
    "            trace('[FiatShamirVerifier]', f'[Iteration {i + 1}] {x = }')\n",
    "            \n",
    "            e = randint(0, 1)\n",
    "            trace('[FiatShamirVerifier]', f'[Iteration {i + 1}] {e = }')\n",
    "            \n",
    "            y = client.get_y(e, ca.modulus)\n",
    "            trace('[FiatShamirVerifier]', f'[Iteration {i + 1}] {y = }')\n",
    "            \n",
    "            pk = ca.get_public_key(client.identifier)\n",
    "            product = gmpy2.mul(x, gmpy2.powmod(pk, e, ca.modulus))\n",
    "            \n",
    "            successful_iteration = gmpy2.powmod(y, 2, ca.modulus) == gmpy2.t_mod(product, ca.modulus)\n",
    "            is_successful &= successful_iteration\n",
    "            \n",
    "            trace('[FiatShamirVerifier]', f'[Iteration {i + 1}] success: {successful_iteration}')\n",
    "            \n",
    "            if not successful_iteration:\n",
    "                break\n",
    "            \n",
    "        print(f'Authentication successful: {is_successful}')\n",
    "        return is_successful"
   ]
  },
  {
   "cell_type": "markdown",
   "id": "0619aa11",
   "metadata": {},
   "source": [
    "----"
   ]
  },
  {
   "cell_type": "code",
   "execution_count": 8,
   "id": "38249da2",
   "metadata": {},
   "outputs": [
    {
     "name": "stdout",
     "output_type": "stream",
     "text": [
      "[TRACE] [FiatShamirCA] Modulus = 11709651578344853484218238757949990293172540317162129499198846055363622453555729581998642970012474881571887281153872575174231735877440651873005252510999065129483188228494224125059664459259727507042808263768276456888476795964316269587527452494973312989394294123276160380464435027322495054612813646107072730087531852656833603883865509813896171216720037762910483880005463888875802568374614151857632960459137568392787810004758999806430064632471269637499227071957649920601691301438727308526450970541750555357625007806037814613155311534687383085615663949717002160974886096995174195098714359855128167499748665292324646310203\n"
     ]
    }
   ],
   "source": [
    "# Создаю доверенный центр\n",
    "ca = FiatShamirCA()"
   ]
  },
  {
   "cell_type": "code",
   "execution_count": 9,
   "id": "0610769c",
   "metadata": {},
   "outputs": [
    {
     "name": "stdout",
     "output_type": "stream",
     "text": [
      "[TRACE] [FiatShamirClient] Client 7d55449c-05fc-4997-b816-1a63d8f13525\n",
      "[TRACE] [FiatShamirClient] Public key = 6537247080128035612823072927812620015552028782783642591705635701866625292485943990016369465492111548178275266466613085329886839998505154934008852267691408469553036721353786216581962793068641577836823179138572426273249352096309659825148746530734071176218015278337908136416441441116688984816111379198996207060192766558410606614096365601484827685953014664863407924248052081280012793405738067075656412476660092979168725156742574687972532659385407427490968686184113596941622982159610500140238842513483032872040222726592130726547585230685354995411102833454698145539771373746743586489284107086020365015407522937332314247159\n",
      "[TRACE] [FiatShamirClient] Client 7d55449c-05fc-4997-b816-1a63d8f13525\n",
      "[TRACE] [FiatShamirClient] Public key = 6537247080128035612823072927812620015552028782783642591705635701866625292485943990016369465492111548178275266466613085329886839998505154934008852267691408469553036721353786216581962793068641577836823179138572426273249352096309659825148746530734071176218015278337908136416441441116688984816111379198996207060192766558410606614096365601484827685953014664863407924248052081280012793405738067075656412476660092979168725156742574687972532659385407427490968686184113596941622982159610500140238842513483032872040222726592130726547585230685354995411102833454698145539771373746743586489284107086020365015407522937332314247159\n"
     ]
    }
   ],
   "source": [
    "# Создаю двух пользователей:\n",
    "# - Алису - валидного пользователя\n",
    "# - Еву - пользователя, представляющегося Алисой. но не знающего закрытого ключа Алисы\n",
    "alice = FiatShamirClient(ca.modulus)\n",
    "eve = FiatShamirClient(ca.modulus, \n",
    "                       fake_data=(alice.identifier, alice.public_key))"
   ]
  },
  {
   "cell_type": "code",
   "execution_count": 10,
   "id": "93d9f546",
   "metadata": {},
   "outputs": [
    {
     "name": "stdout",
     "output_type": "stream",
     "text": [
      "[TRACE] [FiatShamirCA] Attempting to register client 7d55449c-05fc-4997-b816-1a63d8f13525 \n",
      "        with public key 6537247080128035612823072927812620015552028782783642591705635701866625292485943990016369465492111548178275266466613085329886839998505154934008852267691408469553036721353786216581962793068641577836823179138572426273249352096309659825148746530734071176218015278337908136416441441116688984816111379198996207060192766558410606614096365601484827685953014664863407924248052081280012793405738067075656412476660092979168725156742574687972532659385407427490968686184113596941622982159610500140238842513483032872040222726592130726547585230685354995411102833454698145539771373746743586489284107086020365015407522937332314247159\n",
      "[TRACE] [FiatShamirCA] Client registered successfully\n"
     ]
    }
   ],
   "source": [
    "# Регистрирую валидного пользователя\n",
    "ca.register_client(alice.identifier, alice.public_key)"
   ]
  },
  {
   "cell_type": "code",
   "execution_count": 11,
   "id": "9e40d678",
   "metadata": {},
   "outputs": [],
   "source": [
    "# Для простоты будет 3 итерации\n",
    "ITERATIONS = 3\n",
    "\n",
    "# Создаю проверяющую сторону\n",
    "verifier = FiatShamirVerifier(ITERATIONS)"
   ]
  },
  {
   "cell_type": "code",
   "execution_count": 12,
   "id": "b78d5d03",
   "metadata": {},
   "outputs": [
    {
     "name": "stdout",
     "output_type": "stream",
     "text": [
      "[TRACE] [FiatShamirVerifier] Attempt to authenticate client 7d55449c-05fc-4997-b816-1a63d8f13525\n",
      "[TRACE] [FiatShamirVerifier] Number of iterations = 3\n",
      "[TRACE] [FiatShamirVerifier] [Iteration 1] x = mpz(7601664470567402383662272778656270528626097493544147440326221612975680453328568310843222489878785904234764801294419983606140747905818200696763802329121008184065601707024777146761036231936901905326213201132959997996807680927872648191388646923404387239188230164736001410659669495082547087473884669623538031118622729688522514159989902297278776732067737261602731160040484656288203889566726312050082915181132607056365408719243314480785295986224519053010260155470662043525406079499502684447590610413898725037420477024470852476227999950830628309763714532062403991702713056061057252432495128963720208208260817698440497617848)\n",
      "[TRACE] [FiatShamirVerifier] [Iteration 1] e = mpz(1)\n",
      "[TRACE] [FiatShamirVerifier] [Iteration 1] y = mpz(7561264352803637185273301600205653521620833665761124779144679356814872307949729524097694871277862124716202639291613347904157393842881478904947120492787674811173318235119618004576496223965417711630128336156567716338859746942704328556166673060465270946936945482932556816406447676478890193650699301022334293976550269689674668174323195623386755850911823846217816648387050781191268741025739671751649551027107027271359434512271674364373900599739929798556925173738561266104574840126836674918528006385384306308810067040410229536362712355173483884842249047911761843950664520671855153216000165900214194242081225748081430219266)\n",
      "[TRACE] [FiatShamirVerifier] [Iteration 1] success: True\n",
      "[TRACE] [FiatShamirVerifier] [Iteration 2] x = mpz(2125989579029074733897686090214522359590183226926912435141432861178289406579341709318265095729688676171646213230309519861409197999795111327538637048800096309191469262010014713672219986984887366573570453011522644298882549961605810982186124008290925134460823420210317522953002439342603659679981131312393953141676066815107157189709516358778433328544678895018894297869177252163243540801108122989094277858991725887043233661060332208594688539489912576325951701391654613516108911659903724548546296146053930454127072718738195448288097880163181144518912651162308296654651179653855805067279781641773981709595629094500703221761)\n",
      "[TRACE] [FiatShamirVerifier] [Iteration 2] e = mpz(0)\n",
      "[TRACE] [FiatShamirVerifier] [Iteration 2] y = mpz(7646990784641305583713995181514586445352536877032255622565546625082455139715336301484922589611038942484230604302646029404420478041090750940042853972535768750126477972832633537056376924950399320763467357080309004413115689266036948803800360877517895822851937084594701551330230360210046591640483952375718131982759656279630035220024524798063716331955453598437063340860370693584372513715711895459341951620267559462617977706755471978895739545421095830507758521937476942291900061290111960749347105454434583958073470160411450043179696208469753303520082444040618481367129624625634128282429657301571577985543710974710775388448)\n",
      "[TRACE] [FiatShamirVerifier] [Iteration 2] success: True\n",
      "[TRACE] [FiatShamirVerifier] [Iteration 3] x = mpz(9497881794874191965816011644317897172504811643511333199474210544308237472363527518067485741074563449269719468313263351969536781007843617314690546885579676127055198868179971395222795270091646325398408368284283757740575575113913919668288353988242102204512680526827295473990811008972109604485241290359243022611216820102643649306872703373437158875955286041779822802483421109324909097457406148165605663426841168973536263833679439068813000522893393906952003987572079816121315320433096510109456911199495765604338016753862967736775922485817847873797579456472197960837296156879829880177895648687845702886643172292931036155238)\n",
      "[TRACE] [FiatShamirVerifier] [Iteration 3] e = mpz(0)\n",
      "[TRACE] [FiatShamirVerifier] [Iteration 3] y = mpz(8721670646263614829426758695575492781132319532447681389203538048858612332852098187646499762355085536382987142443557929470811496638330197325971336110497950541624616766849480609537128879395979743597765773880798547958419841109197588395416120352305627315240904305053217928974896511871436162885841984228556268556072512333354131495325958556048416584632926364708372997232051784640852265348325810022193784150579545795871262184741483775153032066639357118042868521293351177134772960933391212642398008312170312823433657228253869002961003625695557659049259535911695794235734267045307000350147036084534391508986525775909990573535)\n",
      "[TRACE] [FiatShamirVerifier] [Iteration 3] success: True\n",
      "Authentication successful: True\n"
     ]
    },
    {
     "data": {
      "text/plain": [
       "True"
      ]
     },
     "execution_count": 12,
     "metadata": {},
     "output_type": "execute_result"
    }
   ],
   "source": [
    "# Произвожу аутентификацию валидного пользователя\n",
    "verifier.authenticate(alice, ca)"
   ]
  },
  {
   "cell_type": "code",
   "execution_count": 13,
   "id": "9af63972",
   "metadata": {},
   "outputs": [
    {
     "name": "stdout",
     "output_type": "stream",
     "text": [
      "[TRACE] [FiatShamirVerifier] Attempt to authenticate client 7d55449c-05fc-4997-b816-1a63d8f13525\n",
      "[TRACE] [FiatShamirVerifier] Number of iterations = 3\n",
      "[TRACE] [FiatShamirVerifier] [Iteration 1] x = mpz(702155784044731784159615284548525625797826853140687972598108164483885874698501323276912710474470674157211029021061191288467230882122378823323695755288999813403367165391119732305681704104892403437540977116033383779954768438413768248283178773316995667590234915517476291965503749942692453097803983870046449706082008520465038437672458765993611484985615610858000797376461297854228178298252768354829436157232176665644059204099461127270322014913010174152443824990737776769016994874215226905845496261976350405287861784309911081450756476228910554087989229975702139967222604747453645484650866271641020969200349865917471013694)\n",
      "[TRACE] [FiatShamirVerifier] [Iteration 1] e = mpz(1)\n",
      "[TRACE] [FiatShamirVerifier] [Iteration 1] y = mpz(6034877200357793652569648126623641113226367307279161982929832420346111161766264180804188258804862743456376563411355841016194594187128772408941896499127527036139242253004285497696882903315538125673073398124419247609621064155501899016835502333811794725724994364441751874452158074937046893119919417692616751149439578695920555804501941097216104382966439527534167638241908586610018270337627983453972686596532705311754300821267775848570158119126800869126739296680132002244252933120609918153940138628902977276889015745751319194932009746994626596500958604954586740381933934367162532335785597288834836648392618350960247978257)\n",
      "[TRACE] [FiatShamirVerifier] [Iteration 1] success: False\n",
      "Authentication successful: False\n"
     ]
    },
    {
     "data": {
      "text/plain": [
       "False"
      ]
     },
     "execution_count": 13,
     "metadata": {},
     "output_type": "execute_result"
    }
   ],
   "source": [
    "# Произвожу аутентификацию невалидного пользователя\n",
    "verifier.authenticate(eve, ca)"
   ]
  },
  {
   "cell_type": "markdown",
   "id": "72287ef6",
   "metadata": {},
   "source": [
    "---"
   ]
  },
  {
   "cell_type": "markdown",
   "id": "82d1c58b",
   "metadata": {},
   "source": [
    "## Протокол Шнорра\n",
    "![Schnorr Protocol](./images/Schnorr_2.png)"
   ]
  },
  {
   "cell_type": "code",
   "execution_count": 14,
   "id": "fc202515",
   "metadata": {},
   "outputs": [],
   "source": [
    "class SchnorrCA(object):\n",
    "    RSA_KEY_LENGTH = 4096\n",
    "    \n",
    "    def __init__(self):\n",
    "        \"\"\"\n",
    "        Инициализация доверенного центра\n",
    "        Генерация простых чисел p, q и элемента g, а также ключевой пары СА\n",
    "        \"\"\"\n",
    "        \n",
    "        self._db = {}\n",
    "        \n",
    "        #\n",
    "        # Генерация параметров протокола\n",
    "        #\n",
    "        \n",
    "        self._p, self._q, self._g = SchnorrCA._generate_parameters()\n",
    "        \n",
    "        #\n",
    "        # Ключевая пара RSA для СА\n",
    "        #\n",
    "        \n",
    "        self._private_key = RSA.generate(SchnorrCA.RSA_KEY_LENGTH)\n",
    "        self._public_key = self._private_key.publickey()\n",
    "        \n",
    "        trace('[SchnorrCA]', f'RSA public key = {(self._public_key.e, self._public_key.n)}')\n",
    "        \n",
    "        \n",
    "    def register_client(self, \n",
    "                        client_id: uuid.UUID, \n",
    "                        client_public_key: gmpy2.mpz) -> tuple[uuid.UUID, gmpy2.mpz, bytes]:\n",
    "        \"\"\"\n",
    "        Регистрация клиента. Принимает на вход идентификатор клиента и его открытый ключ.\n",
    "        Возвращает подписанный сервером сертификат.\n",
    "        Выбрасывает исключение, если клиент уже зарегистрирован.\n",
    "        \"\"\"\n",
    "        \n",
    "        if client_id in self._db:\n",
    "            trace('[SchnorrCA]', 'User already exists')\n",
    "            raise ValueError(f'Client {client_id} is already registered')\n",
    "            \n",
    "        #\n",
    "        # Создаю сертификат\n",
    "        #\n",
    "            \n",
    "        h = SHA256.new(str(client_id).encode() + number.long_to_bytes(int(client_public_key)))\n",
    "        signature = pss.new(self._private_key).sign(h)\n",
    "        \n",
    "        certificate = (client_id, client_public_key, signature)\n",
    "        trace('[SchnorrCA]', f'Certificate = {certificate}')\n",
    "        \n",
    "        #\n",
    "        # Сохраняю его и возвращаю\n",
    "        #\n",
    "        \n",
    "        self._db[client_id] = certificate\n",
    "        return certificate\n",
    "    \n",
    "    \n",
    "    def verify_certificate(self, certificate: tuple[uuid.UUID, gmpy2.mpz, bytes]) -> bool:\n",
    "        \"\"\"\n",
    "        Проверка сертификата.\n",
    "        Возвращает признак валидности сертификата.\n",
    "        \"\"\"\n",
    "        \n",
    "        client_id, client_public_key, signature = certificate\n",
    "        \n",
    "        if client_id not in self._db:\n",
    "            trace('[SchnorrCA]', f\"Client {client_id} doesn't exist\")\n",
    "            raise ValueError(\"Client doesn't exist\")\n",
    "            \n",
    "        h = SHA256.new(str(client_id).encode() + number.long_to_bytes(int(client_public_key)))\n",
    "        verifier = pss.new(self.public_key)\n",
    "        \n",
    "        try:\n",
    "            verifier.verify(h, signature)\n",
    "            return True\n",
    "        except:\n",
    "            return False\n",
    "        \n",
    "        \n",
    "    @property\n",
    "    def public_key(self):\n",
    "        \"\"\"\n",
    "        Получение открытого ключа СА.\n",
    "        \"\"\"\n",
    "        \n",
    "        return self._public_key\n",
    "    \n",
    "    \n",
    "    @property\n",
    "    def parameters(self) -> tuple[gmpy2.mpz, gmpy2.mpz, gmpy2.mpz]:\n",
    "        \"\"\"\n",
    "        Параметры протокола (p, q, g)\n",
    "        \"\"\"\n",
    "        \n",
    "        return self._p, self._q, self._g\n",
    "        \n",
    "        \n",
    "    @staticmethod\n",
    "    def _generate_parameters() -> tuple[gmpy2.mpz, gmpy2.mpz, gmpy2.mpz]:\n",
    "        \"\"\"\n",
    "        Генерация параметров протокола (p, q, g).\n",
    "        \"\"\"\n",
    "        \n",
    "        Q_LENGTH = 160\n",
    "        P_LENGTH = 1024\n",
    "        \n",
    "        q = gmpy2.mpz(number.getPrime(Q_LENGTH))\n",
    "        p = gmpy2.mul(getrandbits(P_LENGTH - Q_LENGTH), q) + 1\n",
    "        \n",
    "        while not gmpy2.is_prime(p):\n",
    "            p = gmpy2.mul(getrandbits(P_LENGTH - Q_LENGTH), q) + 1\n",
    "            \n",
    "        #\n",
    "        # Сгенерирую число, взаимно простое с p\n",
    "        #\n",
    "        \n",
    "        tmp = getrandbits(P_LENGTH)\n",
    "        while gmpy2.gcd(tmp, p) != 1:\n",
    "            tmp = getrandbits(P_LENGTH)\n",
    "        \n",
    "        #\n",
    "        # По малой теореме Ферма такой g будет иметь порядок q\n",
    "        #\n",
    "        \n",
    "        g = gmpy2.powmod(tmp, (p - 1) // q, p)\n",
    "        \n",
    "        trace('[SchnorrCA]', f'{p = }, {q = }, {g = }')\n",
    "        return p, q, g"
   ]
  },
  {
   "cell_type": "code",
   "execution_count": 15,
   "id": "d4c52675",
   "metadata": {},
   "outputs": [],
   "source": [
    "class SchnorrClient(object):\n",
    "    def __init__(self, parameters: tuple[gmpy2.mpz, gmpy2.mpz, gmpy2.mpz], *,\n",
    "                 fake_data: tuple[uuid.UUID, gmpy2.mpz, tuple] = None):\n",
    "        \"\"\"\n",
    "        Инициализация клиента. Генерирует идентификатор клиента,\n",
    "        ключевую пару.\n",
    "        Последний параметр необходим для демонстрации неуспешной аутентификации.\n",
    "        \"\"\"\n",
    "        \n",
    "        self._p, self._q, self._g = parameters\n",
    "        self._id = uuid.uuid4() if fake_data is None else fake_data[0]\n",
    "        \n",
    "        self._cert = None if fake_data is None else fake_data[2]\n",
    "        self._r = None\n",
    "        \n",
    "        self._private_key = randint(1, self._q - 1)\n",
    "        self._public_key  = gmpy2.powmod(\n",
    "            self._g, -self._private_key, self._p) if fake_data is None else fake_data[1]\n",
    "        \n",
    "        trace('[SchnorrClient]', f'Client {self._id}')\n",
    "        trace('[SchnorrClient]', f'Public key = {self._public_key}')\n",
    "        \n",
    "        \n",
    "    def register(self, ca: SchnorrCA) -> None:\n",
    "        \"\"\"\n",
    "        Регистрация клиента на СА. Принимает дескриптор СА.\n",
    "        \"\"\"\n",
    "        \n",
    "        self._cert = ca.register_client(self.identifier, self.public_key)\n",
    "        \n",
    "        \n",
    "    def get_x(self) -> gmpy2.mpz:\n",
    "        \"\"\"\n",
    "        Получение числа х, получаемого по формуле:\n",
    "                    x = g ** r mod p\n",
    "        где r - случайное целое число из отрезка [1, q - 1].\n",
    "        Сохраняет значение r.\n",
    "        \"\"\"\n",
    "        \n",
    "        self._r = randint(1, self._q - 1)\n",
    "        return gmpy2.powmod(self._g, self._r, self._p)\n",
    "    \n",
    "    \n",
    "    def get_y(self, e, security_parameter) -> gmpy2.mpz:\n",
    "        \"\"\"\n",
    "        Получение числа х, получаемого по формуле:\n",
    "                    x = a * e + r mod q\n",
    "        где r - сохраненное в get_x служебное значение, e - число,\n",
    "        полученное от проверяющего, a - закрытый ключ клиента.\n",
    "        \"\"\"\n",
    "        \n",
    "        if e > 2 ** security_parameter or e < 1:\n",
    "            trace('[SchnorrClient]', f'Invalid {e = }')\n",
    "            raise ValueError('Invalid e')\n",
    "            \n",
    "        pre_result = gmpy2.mul(self._private_key, e) + self._r\n",
    "        return gmpy2.t_mod(pre_result, self._q)\n",
    "    \n",
    "    \n",
    "    @property\n",
    "    def certificate(self):\n",
    "        \"\"\"\n",
    "        Получение сертификата клиента.\n",
    "        \"\"\"\n",
    "        \n",
    "        return self._cert\n",
    "        \n",
    "        \n",
    "    @property\n",
    "    def public_key(self) -> gmpy2.mpz:\n",
    "        \"\"\"\n",
    "        Получение открытого ключа клиента.\n",
    "        \"\"\"\n",
    "        \n",
    "        return self._public_key\n",
    "        \n",
    "        \n",
    "    @property\n",
    "    def identifier(self) -> uuid.UUID:\n",
    "        \"\"\"\n",
    "        Получение идентификатора клиента.\n",
    "        \"\"\"\n",
    "        \n",
    "        return self._id"
   ]
  },
  {
   "cell_type": "code",
   "execution_count": 16,
   "id": "d6f8d573",
   "metadata": {},
   "outputs": [],
   "source": [
    "class SchnorrVerifier(object):\n",
    "    def __init__(self, parameters, security_parameter):\n",
    "        \"\"\"\n",
    "        Инициализация проверяющего. Фактически только закрепляет параметры протокола.\n",
    "        \"\"\"\n",
    "        \n",
    "        self._p, self._q, self._g = parameters\n",
    "        self._security_parameter = security_parameter\n",
    "        \n",
    "        assert security_parameter > 0 and 2 ** security_parameter < self._q\n",
    "        \n",
    "        self._e_values = set()\n",
    "        \n",
    "        \n",
    "    def authenticate(self, client: SchnorrClient, ca: SchnorrCA) -> bool:\n",
    "        \"\"\"\n",
    "        Аутентификация клиента. На вход принимает дескрипторы клиента и СА.\n",
    "        Возвращает True в случае успешной аутентификации.\n",
    "        \"\"\"\n",
    "        \n",
    "        #\n",
    "        # Получаю с клиента x и его сертификат\n",
    "        #\n",
    "        \n",
    "        x, cert = client.get_x(), client.certificate\n",
    "        trace('[SchnorrVerifier]', f'{x = }')\n",
    "        \n",
    "        #\n",
    "        # Если сертификат битый или невалидный, то это плохо\n",
    "        #\n",
    "        \n",
    "        if not ca.verify_certificate(cert):\n",
    "            trace('[SchnorrVerifier]', f'Invalid certificate {cert}')\n",
    "            return False\n",
    "            \n",
    "        #\n",
    "        # Генерирую число е и отдаю его клиенту\n",
    "        #\n",
    "            \n",
    "        e = randint(1, 2 ** self._security_parameter)\n",
    "        while e in self._e_values:\n",
    "            e = randint(1, 2 ** self._security_parameter)\n",
    "            \n",
    "        self._e_values.add(e)        \n",
    "        trace('[SchnorrVerifier]', f'{e = }')\n",
    "        \n",
    "        y = client.get_y(e, self._security_parameter)\n",
    "        trace('[SchnorrVerifier]', f'{y = }')\n",
    "        \n",
    "        #\n",
    "        # Вычисляю значение, которое необходимо сравнить с полученным от клиента х\n",
    "        # И сразу же сравниваю их\n",
    "        # \n",
    "        \n",
    "        product = gmpy2.mul(gmpy2.powmod(self._g, y, self._p), \n",
    "                            gmpy2.powmod(client.public_key, e, self._p))\n",
    "        z = gmpy2.t_mod(product, self._p)\n",
    "        trace('[SchnorrVerifier]', f'{z = }')\n",
    "        \n",
    "        is_successful = x == z\n",
    "        print(f'Authentication successful: {is_successful}')\n",
    "        \n",
    "        return is_successful"
   ]
  },
  {
   "cell_type": "markdown",
   "id": "557676ab",
   "metadata": {},
   "source": [
    "----"
   ]
  },
  {
   "cell_type": "code",
   "execution_count": 17,
   "id": "ccc4b7af",
   "metadata": {},
   "outputs": [
    {
     "name": "stdout",
     "output_type": "stream",
     "text": [
      "[TRACE] [SchnorrCA] p = mpz(54768468036888540904433529078865480247270286940042556170557207727706963950553827891006510361859584842016040833889989023008973081621085883762241960161886042330870545477806070237428410501837382481012042112397025870135048288477049017028079675141222155747223936544907417944671307131560540820094983338998613384049), q = mpz(878992727688756761161853996099697554068729992679), g = mpz(50816885959646127829520087436042156813341145774570385200130938097670901018505162156726147668143734437176993190040820867470331291253345739100390324157922136970342409413488388666499600071078479126963812808561607962023910313646482622691156652646176556987519277958400088078857645641433249900236833673528585220650)\n",
      "[TRACE] [SchnorrCA] RSA public key = (65537, 800146410049780387750212114335120767710853028887904181181004806806900967078269419857179958133783903326028362648364629723362339178307512853174150347962892238401763664573563579589657977225123314114052377621922870411464840504559320092841943831635969375143517844500953723076713766636293611970550600903959519506189452106068085924120728069317105080753395184213132198887988147900126631979888604660334163923436595163877260607900839996471430004955941047260983260202653978815278098599864400388188920530203435956626809238699127297856875291880217737916964554498272786707135195235885191660804641594902235926936169417684893512067840398258812761016207154206847748577083133610836404315959707938059636445170344419337876890969274286812649866523295408520959183707482382505442255154084486821796609248732245629396880815120006279749747510646224359156506367700109485105814430177273731254526147620819284884981482357830133315093727621389841219367415833748283591904395121880294973272979261719266028693886068515013682035002720813713433995383972762349039778834223838482200400776791320695314129016594915988458252697731400978638391735378710775256370651947111500824262228231696015119893518918181164142551382125615776489106550903908162058691898461014031118579219297)\n"
     ]
    }
   ],
   "source": [
    "# Создаю доверенный центр\n",
    "ca = SchnorrCA()"
   ]
  },
  {
   "cell_type": "code",
   "execution_count": 18,
   "id": "593f60e2",
   "metadata": {},
   "outputs": [
    {
     "name": "stdout",
     "output_type": "stream",
     "text": [
      "[TRACE] [SchnorrClient] Client b4bde3f8-d7e2-4211-9a63-fa9a72554a92\n",
      "[TRACE] [SchnorrClient] Public key = 8588765075963210093865531560377188804711334540027067605146711948947835498051987375596707769831071446254843841054134128245898551287019845834828015601470104511044512877012213762787830713342983406831132233254149119015310938518311565679879937555957330300200454859530580544746383062083528151438828868699686698256\n"
     ]
    }
   ],
   "source": [
    "# Создам Алису - валидного пользователя\n",
    "alice = SchnorrClient(ca.parameters)"
   ]
  },
  {
   "cell_type": "code",
   "execution_count": 19,
   "id": "02976d98",
   "metadata": {},
   "outputs": [
    {
     "name": "stdout",
     "output_type": "stream",
     "text": [
      "[TRACE] [SchnorrCA] Certificate = (UUID('b4bde3f8-d7e2-4211-9a63-fa9a72554a92'), mpz(8588765075963210093865531560377188804711334540027067605146711948947835498051987375596707769831071446254843841054134128245898551287019845834828015601470104511044512877012213762787830713342983406831132233254149119015310938518311565679879937555957330300200454859530580544746383062083528151438828868699686698256), b'\\x93\\x11-]\\'xP\\x04\\x1b\\xa6\\xad\\xf4q\\xdf\\xe4C\\xec5\\xfe5[\\xf6\\xf1a\\x00F\\x8c\\x1e@{h\\xbd\\x12t\\xd0}\\xdf\\xda%\\xc8\\x9e?Y;\\x92^\\x03\\xd5\\xdf\\x1f\\x81\\x9c\\xe7s\\xd2e\\xf1\\x06\\xe94\\x93%A\\x0b\\xd5x\\x85\\xcd)\\x98{\\x93\\xf9\\xaa\\t\\xa7\\xc2H\\xf1\\x90\\xe7*\\x8a\\xc5\\x9b0l\\xf9\\x86L\\x0b2\\x1e\\x03\\xc6?/\\x8b\\x9fR~s\\x04)T\\x9ew\\xc7\\x9b;\\x913k \\xb2E\\xf7\\xf4\\xc2\\xe7\\x05\\xe7[\\xe0\\xe7\\x81\\xb1\\xdfx\\x92\\xc8\\x82JH-T\\xbdSTN\\x93\\x03\\xb8[\\x18\\x0cv:\\x8fp\\x04\\xe2\\x0b\\x12]\\xec\\x90\\xce\\xa5\\xdb4lY\\x83\\xbc\\x8d>-C\\x8a\\x9f\\xb8\\xac\\x98\\xd8\\x08\\xb4\\x9a\\x9c\\xde\\x870\\xc7\\xaf\\x11\\xa8\\xcf\\xe6\\xfb\\xd0\\xf7\\xf6\\xb6$_:\\xd6&V\\xffqa\\x1c\\xd1\\x08\\x11\\xe9\\x92\\x1a\\xefs\\xa3\\x1d<\\xf9J\\xb9\\xc4B\\x85\\xfe\\xcar\\xf8v\\x1e\\xf6\\xf3\\xb7\\x99}\\xe3\\xdeW\\xe4\\x146\\x07u\\x18.\\'\\xadMW\\xbe\\x02\\xa7P\\x94\\'Z\\xa5%\\x0f\\xd4.\\xb7\\x80c\\xe4Q\\x07\\xc2b\\xb1\\t\\xb5\\xa2\\xe6\\n\\xa4;\\x87\\xeb !\\x07\\x02)z\\xfb\\xf9Fa9 -\\x86\\xf5\\x8ey\\xe4F\\x97waJ<D\\xcaQi`\\xe8I\\xe4\\xba-n\\xa2\\'\\xce\\xd6\\x8f\\xef\\xdf\\x0f5\\xc1\\x8ed6n\\xd0\\x83\\x02R\\xeb\\xf5[4\\xd0\\x98\\xaf\\x07\\x0f\\xaf\\xbcY\\xd7\\xe7\\'<`p\\x1c\\x9e\\x1b\\xc0\\x0e>\\x07\\xafFb\\xc4}\\xbcx|$_{/.\\xfb\\x1f\\xe6\\x8f\\xd7\\x9d\\xb8\\x01-ys\\x87\\xa8p\\x1e\\x96\\x06\\xaa^,\\x1cZq\\xcc\\x87\\x06N\\x9a\\xeb\\x0733\\x0c\\xa4\\xc6;xT\\xa3\\xe8\\xd7\\x18\\x9b\\x9b\\x14`\\x13\\xe0\"\\xbdF\\x0e\\xa2\\x7f\\xf9\\xa0\\'\\x9d:\\xce\\xa8B%B\\xf9\\xa7\\t\\xb2B\"\\xdd\\\\\\xab\\xf3`u\\xf0\\x08\\xd1\\xd7\\x9ce\\xfd\\xa5\\x8e\\xbag\\xf2\\x8a*\\x0c^oF\\xea0\\xb8#F\\xa0\\x91r\\x1e\\xd2?\\xb0\\xba\\xeb~*r\\xa4d\\x0f\\xb2Xp\\xafu\\x7f\\xe462\\xdfg\\xda\\xef\\xcbM\\\\,\\x04\\xb8\\x96\\xfd\\xa3gT\\xcb\\x9d<\\xdf1\\x15\\xc6:')\n"
     ]
    }
   ],
   "source": [
    "# Регистрирую валидного пользователя\n",
    "alice.register(ca)"
   ]
  },
  {
   "cell_type": "code",
   "execution_count": 20,
   "id": "edc0fd30",
   "metadata": {},
   "outputs": [],
   "source": [
    "# Параметр безопасности положим равным 10 для демонстрации\n",
    "security_parameter = 10\n",
    "\n",
    "# Создаю проверяющую сторону\n",
    "verifier = SchnorrVerifier(ca.parameters, security_parameter)"
   ]
  },
  {
   "cell_type": "code",
   "execution_count": 21,
   "id": "bb31574e",
   "metadata": {},
   "outputs": [
    {
     "name": "stdout",
     "output_type": "stream",
     "text": [
      "[TRACE] [SchnorrVerifier] x = mpz(42277514516673636016750803446739962445536565322831129840542494537368107559300032445720295383155194764245154227557354632287614513609202949384160992004183158158041881461567595960884825856129721277865439319976596443259382549851017620622791169786650464498325900207260627079561995954196466696731569661650375188423)\n",
      "[TRACE] [SchnorrVerifier] e = mpz(569)\n",
      "[TRACE] [SchnorrVerifier] y = mpz(570281865933628183828115957376444682030209299674)\n",
      "[TRACE] [SchnorrVerifier] z = mpz(42277514516673636016750803446739962445536565322831129840542494537368107559300032445720295383155194764245154227557354632287614513609202949384160992004183158158041881461567595960884825856129721277865439319976596443259382549851017620622791169786650464498325900207260627079561995954196466696731569661650375188423)\n",
      "Authentication successful: True\n"
     ]
    },
    {
     "data": {
      "text/plain": [
       "True"
      ]
     },
     "execution_count": 21,
     "metadata": {},
     "output_type": "execute_result"
    }
   ],
   "source": [
    "# Произвожу аутентификацию валидного пользователя\n",
    "verifier.authenticate(alice, ca)"
   ]
  },
  {
   "cell_type": "code",
   "execution_count": 22,
   "id": "8db0a136",
   "metadata": {},
   "outputs": [
    {
     "name": "stdout",
     "output_type": "stream",
     "text": [
      "[TRACE] [SchnorrClient] Client b4bde3f8-d7e2-4211-9a63-fa9a72554a92\n",
      "[TRACE] [SchnorrClient] Public key = 8588765075963210093865531560377188804711334540027067605146711948947835498051987375596707769831071446254843841054134128245898551287019845834828015601470104511044512877012213762787830713342983406831132233254149119015310938518311565679879937555957330300200454859530580544746383062083528151438828868699686698256\n"
     ]
    }
   ],
   "source": [
    "# Создаю Еву - клиента, который пытается представиться Алисой\n",
    "eve = SchnorrClient(ca.parameters, \n",
    "                    fake_data=(alice.identifier, alice.public_key, alice.certificate))"
   ]
  },
  {
   "cell_type": "code",
   "execution_count": 23,
   "id": "d496ab7f",
   "metadata": {},
   "outputs": [
    {
     "name": "stdout",
     "output_type": "stream",
     "text": [
      "[TRACE] [SchnorrVerifier] x = mpz(30649047366083535800526835361153243997968364642192766975813839818564962967220387405799187246759978787751913749691653692553962400127259636967750637581394108719902074930359281725000299044134038864180761015863555027221482911438741808936982170031650245446114630250671461384750508069748360577500107241301977574715)\n",
      "[TRACE] [SchnorrVerifier] e = mpz(208)\n",
      "[TRACE] [SchnorrVerifier] y = mpz(322267435656943090896005220366228191342668861051)\n",
      "[TRACE] [SchnorrVerifier] z = mpz(2881688454444580016485700210376251293757762836751420263402587989261077371091436444034873118767307907308233674860692388485803366993840464357122888070055185612869103690386719912269016467114405117981942303125105610173842954488116918000904535692638953285742660064311553813940574701724413508042757927168952713451)\n",
      "Authentication successful: False\n"
     ]
    },
    {
     "data": {
      "text/plain": [
       "False"
      ]
     },
     "execution_count": 23,
     "metadata": {},
     "output_type": "execute_result"
    }
   ],
   "source": [
    "# Произвожу аутентификацию невалидного пользователя\n",
    "verifier.authenticate(eve, ca)"
   ]
  },
  {
   "cell_type": "code",
   "execution_count": null,
   "id": "f92c78ac",
   "metadata": {},
   "outputs": [],
   "source": []
  }
 ],
 "metadata": {
  "kernelspec": {
   "display_name": "Python 3 (ipykernel)",
   "language": "python",
   "name": "python3"
  },
  "language_info": {
   "codemirror_mode": {
    "name": "ipython",
    "version": 3
   },
   "file_extension": ".py",
   "mimetype": "text/x-python",
   "name": "python",
   "nbconvert_exporter": "python",
   "pygments_lexer": "ipython3",
   "version": "3.9.10"
  }
 },
 "nbformat": 4,
 "nbformat_minor": 5
}
