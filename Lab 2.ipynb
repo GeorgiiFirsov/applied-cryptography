{
 "cells": [
  {
   "cell_type": "markdown",
   "id": "106168dc",
   "metadata": {},
   "source": [
    "# Протоколы аутентификации с нулевым разглашением"
   ]
  },
  {
   "cell_type": "code",
   "execution_count": 1,
   "id": "4a343351",
   "metadata": {},
   "outputs": [],
   "source": [
    "IS_DEBUG = 1"
   ]
  },
  {
   "cell_type": "code",
   "execution_count": 2,
   "id": "34caa6a0",
   "metadata": {},
   "outputs": [],
   "source": [
    "def trace(*args, **kwargs):\n",
    "    \"\"\"\n",
    "    Отладочная трассировка\n",
    "    \"\"\"\n",
    "    \n",
    "    global IS_DEBUG\n",
    "    if IS_DEBUG:\n",
    "        print('[TRACE]', end=' ')\n",
    "        print(*args, **kwargs)"
   ]
  },
  {
   "cell_type": "markdown",
   "id": "cc0a54f3",
   "metadata": {},
   "source": [
    "---"
   ]
  },
  {
   "cell_type": "code",
   "execution_count": 3,
   "id": "de92ae59",
   "metadata": {},
   "outputs": [],
   "source": [
    "# Генерация простых чисел\n",
    "from Crypto.Util import number\n",
    "\n",
    "# КГПСЧ\n",
    "from Crypto.Random import random\n",
    "\n",
    "# Понадобится в протоколе Шнорра\n",
    "from Crypto.PublicKey import RSA\n",
    "from Crypto.Signature import pss\n",
    "from Crypto.Hash import SHA256\n",
    "\n",
    "# Немного математики\n",
    "import gmpy2\n",
    "\n",
    "# Для генерации идентификаторов клиентов\n",
    "import uuid"
   ]
  },
  {
   "cell_type": "markdown",
   "id": "cb741152",
   "metadata": {},
   "source": [
    "---"
   ]
  },
  {
   "cell_type": "code",
   "execution_count": 4,
   "id": "f2b2a63e",
   "metadata": {},
   "outputs": [],
   "source": [
    "def randint(a, b) -> gmpy2.mpz:\n",
    "    \"\"\"\n",
    "    Генерация случайного числа с помощью КГПСЧ с поддержкой gmpy2\n",
    "    \"\"\"\n",
    "    \n",
    "    native_a = int(a)\n",
    "    native_b = int(b)\n",
    "    \n",
    "    return gmpy2.mpz(random.randint(native_a, native_b))\n",
    "\n",
    "def getrandbits(n) -> gmpy2.mpz:\n",
    "    \"\"\"\n",
    "    \"\"\"\n",
    "    \n",
    "    native_n = int(n)\n",
    "    \n",
    "    return gmpy2.mpz(random.getrandbits(native_n))"
   ]
  },
  {
   "cell_type": "markdown",
   "id": "f535aa56",
   "metadata": {},
   "source": [
    "----"
   ]
  },
  {
   "cell_type": "markdown",
   "id": "6d0f7585",
   "metadata": {},
   "source": [
    "## Протокол Фиата-Шамира\n",
    "![Fiat-Shamir Protocol](./images/Fiat-Shamir_2.png)"
   ]
  },
  {
   "cell_type": "code",
   "execution_count": 5,
   "id": "fa6d8a01",
   "metadata": {},
   "outputs": [],
   "source": [
    "class FiatShamirCA(object):\n",
    "    PRIME_BITS = 1024\n",
    "    \n",
    "    def __init__(self):\n",
    "        \"\"\"\n",
    "        Инициализация доверенного центра.\n",
    "        Генерируются два простых числа и их произведение.\n",
    "        \"\"\"\n",
    "        \n",
    "        self._db = {}\n",
    "        \n",
    "        self._p = number.getPrime(FiatShamirCA.PRIME_BITS)\n",
    "        self._q = number.getPrime(FiatShamirCA.PRIME_BITS)\n",
    "        self._modulus = gmpy2.mul(self._p, self._q)\n",
    "        \n",
    "        trace('[FiatShamirCA]', f'Modulus = {self._modulus}')\n",
    "        \n",
    "        \n",
    "    def register_client(self, client_id: uuid.UUID, client_public_key: gmpy2.mpz) -> None:\n",
    "        \"\"\"\n",
    "        Регистрация клиента. На вход принимает идентификатор клиента и его открытый ключ.\n",
    "        Ничего не возвращает.\n",
    "        Выбрасывает исключение, если клиент уже существует.\n",
    "        \"\"\"\n",
    "        \n",
    "        trace('[FiatShamirCA]', f'''Attempting to register client {client_id} \n",
    "        with public key {client_public_key}''')\n",
    "        \n",
    "        if client_id in self._db:\n",
    "            trace('[FiatShamirCA]', 'User already exists')\n",
    "            raise ValueError(f'Client {client_id} is already registered')\n",
    "            \n",
    "        #\n",
    "        # Теперь сохраняю открытый ключ\n",
    "        #\n",
    "        \n",
    "        self._db[client_id] = client_public_key\n",
    "        trace('[FiatShamirCA]', 'Client registered successfully')\n",
    "        \n",
    "        \n",
    "    def get_public_key(self, client_id: uuid.UUID) -> gmpy2.mpz:\n",
    "        \"\"\"\n",
    "        Получение открытого ключа клиента. Получает на вход идентификатор клиента.\n",
    "        Возвращает открытый ключ.\n",
    "        Выбрасывает исключение, если пользователь отсутствует.\n",
    "        \"\"\"\n",
    "        \n",
    "        return self._db[client_id]\n",
    "       \n",
    "        \n",
    "    @property\n",
    "    def modulus(self) -> gmpy2.mpz:\n",
    "        \"\"\"\n",
    "        Возвращает модуль.\n",
    "        \"\"\"\n",
    "        \n",
    "        return self._modulus"
   ]
  },
  {
   "cell_type": "code",
   "execution_count": 6,
   "id": "0c7c49db",
   "metadata": {},
   "outputs": [],
   "source": [
    "class FiatShamirClient(object):\n",
    "    def __init__(self, modulus: gmpy2.mpz, *,\n",
    "                 fake_data: tuple[uuid.UUID, gmpy2.mpz] = None):\n",
    "        \"\"\"\n",
    "        Инициализация клиента с выработкой ключевой пары и идентификатора.\n",
    "        Последний параметр требуются для демонстрации неудачной аутентификации.\n",
    "        \"\"\"\n",
    "        \n",
    "        self._id = uuid.uuid4() if fake_data is None else fake_data[0]\n",
    "        self._r = None\n",
    "        \n",
    "        self._private_key = FiatShamirClient._generate_coprime(modulus)\n",
    "        self._public_key = gmpy2.powmod(self._private_key, 2, modulus) if fake_data is None else fake_data[1]\n",
    "        \n",
    "        trace('[FiatShamirClient]', f'Client {self._id}')\n",
    "        trace('[FiatShamirClient]', f'Public key = {self._public_key}')\n",
    "        \n",
    "        \n",
    "    @property\n",
    "    def public_key(self) -> gmpy2.mpz:\n",
    "        \"\"\"\n",
    "        Получение открытого ключа.\n",
    "        \"\"\"\n",
    "        \n",
    "        return self._public_key\n",
    "    \n",
    "    \n",
    "    @property\n",
    "    def identifier(self) -> uuid.UUID:\n",
    "        \"\"\"\n",
    "        Получение идентификатора.\n",
    "        \"\"\"\n",
    "        \n",
    "        return self._id\n",
    "    \n",
    "    \n",
    "    def get_x(self, modulus: gmpy2.mpz) -> gmpy2.mpz:\n",
    "        \"\"\"\n",
    "        Получение случайного значения, вычисляемого по формуле:\n",
    "                    x = r ** 2 mod n,\n",
    "        где n - модуль, r - случайное целое число из отрезка [1, n - 1].\n",
    "        Значение r сохраняется.\n",
    "        \"\"\"\n",
    "        \n",
    "        self._r = randint(1, modulus - 1)\n",
    "        return gmpy2.powmod(self._r, 2, modulus)\n",
    "    \n",
    "    \n",
    "    def get_y(self, e: gmpy2.mpz, modulus: gmpy2.mpz) -> gmpy2.mpz:\n",
    "        \"\"\"\n",
    "        Получение числа, вычисляемого по формуле:\n",
    "                    y = r * s ** e mod n,\n",
    "        где n - модуль, s - закрытый ключ пользователя, r - сгенерированное \n",
    "        функцией get_x внутреннее значение, e - целое число из отрезка [0, 1],\n",
    "        пришедшее от проверяющего.\n",
    "        \"\"\"\n",
    "        \n",
    "        product = gmpy2.mul(self._r, gmpy2.powmod(self._private_key, e, modulus))\n",
    "        return gmpy2.t_mod(product, modulus)\n",
    "        \n",
    "        \n",
    "    @staticmethod\n",
    "    def _generate_coprime(modulus: gmpy2.mpz) -> gmpy2.mpz:\n",
    "        \"\"\"\n",
    "        Генерация случайного числа из отрезка [1, n - 1], взаимно\n",
    "        простого с n, где n - модуль.\n",
    "        \"\"\"\n",
    "        \n",
    "        #\n",
    "        # Генерирую число до тех пор, пока оно не станет взаимно простым с модулем\n",
    "        #\n",
    "        \n",
    "        result = randint(1, modulus - 1)\n",
    "        while gmpy2.gcd(result, modulus) != 1:\n",
    "            result = randint(1, modulus - 1)\n",
    "            \n",
    "        return result"
   ]
  },
  {
   "cell_type": "code",
   "execution_count": 7,
   "id": "4b83de98",
   "metadata": {},
   "outputs": [],
   "source": [
    "class FiatShamirVerifier(object):\n",
    "    def __init__(self, iterations: int):\n",
    "        \"\"\"\n",
    "        Инициализация проверяющего. Задает коичество итераций проверки.\n",
    "        \"\"\"\n",
    "        \n",
    "        self._iterations = iterations\n",
    "        \n",
    "        \n",
    "    def authenticate(self, client: FiatShamirClient, ca: FiatShamirCA) -> bool:\n",
    "        \"\"\"\n",
    "        Аутентификация клиента. На вход принимает дескрипторы клиента и СА.\n",
    "        Возвращает True в случае успешной аутентификации.\n",
    "        \"\"\"\n",
    "        \n",
    "        trace('[FiatShamirVerifier]', f'Attempt to authenticate client {client.identifier}')\n",
    "        trace('[FiatShamirVerifier]', f'Number of iterations = {self._iterations}')\n",
    "        \n",
    "        is_successful = True\n",
    "        \n",
    "        for i in range(self._iterations):\n",
    "            x = client.get_x(ca.modulus)\n",
    "            trace('[FiatShamirVerifier]', f'[Iteration {i + 1}] {x = }')\n",
    "            \n",
    "            e = randint(0, 1)\n",
    "            trace('[FiatShamirVerifier]', f'[Iteration {i + 1}] {e = }')\n",
    "            \n",
    "            y = client.get_y(e, ca.modulus)\n",
    "            trace('[FiatShamirVerifier]', f'[Iteration {i + 1}] {y = }')\n",
    "            \n",
    "            pk = ca.get_public_key(client.identifier)\n",
    "            product = gmpy2.mul(x, gmpy2.powmod(pk, e, ca.modulus))\n",
    "            \n",
    "            successful_iteration = gmpy2.powmod(y, 2, ca.modulus) == gmpy2.t_mod(product, ca.modulus)\n",
    "            is_successful &= successful_iteration\n",
    "            \n",
    "            trace('[FiatShamirVerifier]', f'[Iteration {i + 1}] success: {successful_iteration}')\n",
    "            \n",
    "            if not successful_iteration:\n",
    "                break\n",
    "            \n",
    "        print(f'Authentication successful: {is_successful}')\n",
    "        return is_successful"
   ]
  },
  {
   "cell_type": "markdown",
   "id": "0619aa11",
   "metadata": {},
   "source": [
    "----"
   ]
  },
  {
   "cell_type": "code",
   "execution_count": 8,
   "id": "38249da2",
   "metadata": {},
   "outputs": [
    {
     "name": "stdout",
     "output_type": "stream",
     "text": [
      "[TRACE] [FiatShamirCA] Modulus = 12757231888174565009077970008122194184016282576577131176528301070097635254812254106119227405298877349225630532066245512638898020726524922851989124640457313618685806822274480541556637611112003311630387240082166367888889998372336064372423363519468657246841036840676796125275049754428003879190299871153547812931609026613452894992623836108029293506465393113772580858961794548923253513702478337274729228192418319135016629537133013237722256727484892263649801420087577239431231518377946839987491214953267725026465053794548667298027523299569094819180503513678162178646431707868033206087409700322259258240302733918012214802379\n"
     ]
    }
   ],
   "source": [
    "# Создаю доверенный центр\n",
    "ca = FiatShamirCA()"
   ]
  },
  {
   "cell_type": "code",
   "execution_count": 9,
   "id": "0610769c",
   "metadata": {},
   "outputs": [
    {
     "name": "stdout",
     "output_type": "stream",
     "text": [
      "[TRACE] [FiatShamirClient] Client f9d38d17-ec2e-4916-bcdd-fdd8aa78d2e4\n",
      "[TRACE] [FiatShamirClient] Public key = 3424795262031102549951868746033702516575501634215812503313946557819023111914663095708894439301803781400594126577843131814143987558660306891703643471195248239828026558428344736728225123902128112812983865760409512250154132585610281437457149688076011787264768385351862646817178790179357400901466984043525311547419122105657813245072562765149045598252731438558650618608181395296967702470751413555701784709094942424741438058825005497979134831223930971600902377354091011646874277169535375131808131398942795601383961354264406242028406210705185964757364197387982339493605264168963796911592000299325202482851242080230213446091\n",
      "[TRACE] [FiatShamirClient] Client f9d38d17-ec2e-4916-bcdd-fdd8aa78d2e4\n",
      "[TRACE] [FiatShamirClient] Public key = 3424795262031102549951868746033702516575501634215812503313946557819023111914663095708894439301803781400594126577843131814143987558660306891703643471195248239828026558428344736728225123902128112812983865760409512250154132585610281437457149688076011787264768385351862646817178790179357400901466984043525311547419122105657813245072562765149045598252731438558650618608181395296967702470751413555701784709094942424741438058825005497979134831223930971600902377354091011646874277169535375131808131398942795601383961354264406242028406210705185964757364197387982339493605264168963796911592000299325202482851242080230213446091\n"
     ]
    }
   ],
   "source": [
    "# Создаю двух пользователей:\n",
    "# - Алису - валидного пользователя\n",
    "# - Еву - пользователя, представляющегося Алисой. но не знающего закрытого ключа Алисы\n",
    "alice = FiatShamirClient(ca.modulus)\n",
    "eve = FiatShamirClient(ca.modulus, \n",
    "                       fake_data=(alice.identifier, alice.public_key))"
   ]
  },
  {
   "cell_type": "code",
   "execution_count": 10,
   "id": "93d9f546",
   "metadata": {},
   "outputs": [
    {
     "name": "stdout",
     "output_type": "stream",
     "text": [
      "[TRACE] [FiatShamirCA] Attempting to register client f9d38d17-ec2e-4916-bcdd-fdd8aa78d2e4 \n",
      "        with public key 3424795262031102549951868746033702516575501634215812503313946557819023111914663095708894439301803781400594126577843131814143987558660306891703643471195248239828026558428344736728225123902128112812983865760409512250154132585610281437457149688076011787264768385351862646817178790179357400901466984043525311547419122105657813245072562765149045598252731438558650618608181395296967702470751413555701784709094942424741438058825005497979134831223930971600902377354091011646874277169535375131808131398942795601383961354264406242028406210705185964757364197387982339493605264168963796911592000299325202482851242080230213446091\n",
      "[TRACE] [FiatShamirCA] Client registered successfully\n"
     ]
    }
   ],
   "source": [
    "# Регистрирую валидного пользователя\n",
    "ca.register_client(alice.identifier, alice.public_key)"
   ]
  },
  {
   "cell_type": "code",
   "execution_count": 11,
   "id": "9e40d678",
   "metadata": {},
   "outputs": [],
   "source": [
    "# Для простоты будет 3 итерации\n",
    "ITERATIONS = 3\n",
    "\n",
    "# Создаю проверяющую сторону\n",
    "verifier = FiatShamirVerifier(ITERATIONS)"
   ]
  },
  {
   "cell_type": "code",
   "execution_count": 12,
   "id": "b78d5d03",
   "metadata": {},
   "outputs": [
    {
     "name": "stdout",
     "output_type": "stream",
     "text": [
      "[TRACE] [FiatShamirVerifier] Attempt to authenticate client f9d38d17-ec2e-4916-bcdd-fdd8aa78d2e4\n",
      "[TRACE] [FiatShamirVerifier] Number of iterations = 3\n",
      "[TRACE] [FiatShamirVerifier] [Iteration 1] x = mpz(1259123927643860793117901579115497483724101032265979692599789425844766868009465840499176459628774461657822028520176455099541111062125894131357137426140398388008739773809114922461168405489684644573933169445139690629447515453315680144150010237507880514300088690521926099529722597989842974102815554490849853761223532495275307588484178055069472780691692278778766208117361115424299409431051330349935967110367453538733051420429394147346742645738086834958180224798221917472121074529129256869381470800412411966629954179586086284102497168060880545145425714608263485244840469138426306104644485187542682746881526660979500728010)\n",
      "[TRACE] [FiatShamirVerifier] [Iteration 1] e = mpz(0)\n",
      "[TRACE] [FiatShamirVerifier] [Iteration 1] y = mpz(4958876035112134438144928248447197650513342412446039862843025486434423787940656881919321875118334276968613464763269608843831355910613355351090482934132795703729410669140194706910710530194840974157968926943618853187930933037752137565074304342730163734999401081958226006235676684838444501207263955955678967886679484496241590416437777762113810534842217606450873933268243141995475429912986085088136081852439113728249920009335907003716980003740054100696134790745084573962599610730752688806539180673236959489518032251943562892406077466758971336698965148623704674553052507222766729993522762579368083162576528013991661099804)\n",
      "[TRACE] [FiatShamirVerifier] [Iteration 1] success: True\n",
      "[TRACE] [FiatShamirVerifier] [Iteration 2] x = mpz(8596697844954839961549467291056740107926957321554541427458022631892578454886443785528106951071350596803899752711139265201399036692620685887445627049870368496966335573655844960730059297929520971978257281310119810599176641090394123471751160761491075556722321596033023469579760109877920119093811416707306140236602106209294510235738408532401785351899467004415152493675563247282976528283614856215267009360250113912956066846604967767712017811990240302397785698615396992813598084074371515049986240562917811619343097738773235002089997649553699640075981232024421501202481091038482321851663305410423966491685098954810588115765)\n",
      "[TRACE] [FiatShamirVerifier] [Iteration 2] e = mpz(0)\n",
      "[TRACE] [FiatShamirVerifier] [Iteration 2] y = mpz(1784680927602725864563903483232851339304468784240048071620574168024959484309171604590657085696025279856791825935432149900294574003740049969441671864855965234510327403057126069223972062034819629594740776196274032480063387120252170654858466075722842192668714730139665353713365449896486942049076943139863346861201173403449203446409381873958738965253646474142355133842536116046324677514840832456938081673672089288070952415775376563525600422431641891796373558994198884295207988972612415923602589363164336822150966171107435479065543424032177762976058821634543046864079842714143460884281159069398822164120705650972331226422)\n",
      "[TRACE] [FiatShamirVerifier] [Iteration 2] success: True\n",
      "[TRACE] [FiatShamirVerifier] [Iteration 3] x = mpz(9554355728450212574097869014376342505356671098437278069598013223201476942788981268547143206907468141113957167525115150235979961084228605489192342415355015098028603028155952773947479676083944895736429990659804616812431466409676243743359390870043115751659635134381535929437823573738186164484913711121875271901100505171018040989722478659565074331601290433091615029080251072058248647795408924139974013216168198009408043934641411469564655834501420478486842128334472955865058182889496265043912439574769615972767945044951280635799259199667184795151970232441424616222043531937339221155729648583886854910398285448947231608140)\n",
      "[TRACE] [FiatShamirVerifier] [Iteration 3] e = mpz(0)\n",
      "[TRACE] [FiatShamirVerifier] [Iteration 3] y = mpz(7214639175208130697658236151617495907230833044894003233801979954242834616115248050269118355818231803828378050124940716434766769502122587206277552275694129527723952099663221521593298048960264711886440272224884619637193529719981955335407663203948578683157454539782971833996003479961764506881097582070160938417583845734788370563546087824527726929229735671939349566121766092816632165551224460503265280063898820032234181801401577491947026110311204254644900515770181928971085160414433469515041525145884406796429848839386958668280798508126340475809387346259204639207361689329745771597618526874753546852941525845484285475655)\n",
      "[TRACE] [FiatShamirVerifier] [Iteration 3] success: True\n",
      "Authentication successful: True\n"
     ]
    },
    {
     "data": {
      "text/plain": [
       "True"
      ]
     },
     "execution_count": 12,
     "metadata": {},
     "output_type": "execute_result"
    }
   ],
   "source": [
    "# Произвожу аутентификацию валидного пользователя\n",
    "verifier.authenticate(alice, ca)"
   ]
  },
  {
   "cell_type": "code",
   "execution_count": 13,
   "id": "9af63972",
   "metadata": {},
   "outputs": [
    {
     "name": "stdout",
     "output_type": "stream",
     "text": [
      "[TRACE] [FiatShamirVerifier] Attempt to authenticate client f9d38d17-ec2e-4916-bcdd-fdd8aa78d2e4\n",
      "[TRACE] [FiatShamirVerifier] Number of iterations = 3\n",
      "[TRACE] [FiatShamirVerifier] [Iteration 1] x = mpz(6499430496506233576841874790089790722632743764356799364808482499888339720078099409627799622255739086464308570236975443530160954224260273177361404777018008875234728232858046478380441416513744038482311212977623982471013858306887833012338963178851394167644351850566350194035923537291408895472306586033885725900380616719378472174412971993678655137037171372548657348761824253832218686939009346608159744889969074798942630673052507264958108346896571181353606039112859743691169912266753190825572610913925365683612147009709977033509510549594335217450867453447621620733964719014159652678423198975436505510103876269597175224271)\n",
      "[TRACE] [FiatShamirVerifier] [Iteration 1] e = mpz(1)\n",
      "[TRACE] [FiatShamirVerifier] [Iteration 1] y = mpz(133997779557307295786016754033799567635110101501616647248602260056853471543834326202053240272378145925609467762199010733114699467368342378414572089811408956705813126560525827778354698238451601443888013344963280693068860588623440603856922508230822867926546735270369334759939616527229311105907110767629826346360041247044068402428800117283443701988907156407199891971277659537125703727673035310651675066263549911246945085539956671825503262060270744253715544225428222160765205897588328664585805862948551926157053776081382026255891079715694182930251446916771296151617776797623388756581541930359406270475794073364872136244)\n",
      "[TRACE] [FiatShamirVerifier] [Iteration 1] success: False\n",
      "Authentication successful: False\n"
     ]
    },
    {
     "data": {
      "text/plain": [
       "False"
      ]
     },
     "execution_count": 13,
     "metadata": {},
     "output_type": "execute_result"
    }
   ],
   "source": [
    "# Произвожу аутентификацию невалидного пользователя\n",
    "verifier.authenticate(eve, ca)"
   ]
  },
  {
   "cell_type": "markdown",
   "id": "72287ef6",
   "metadata": {},
   "source": [
    "---"
   ]
  },
  {
   "cell_type": "markdown",
   "id": "82d1c58b",
   "metadata": {},
   "source": [
    "## Протокол Шнорра\n",
    "![Schnorr Protocol](./images/Schnorr_2.png)"
   ]
  },
  {
   "cell_type": "code",
   "execution_count": 14,
   "id": "fc202515",
   "metadata": {},
   "outputs": [],
   "source": [
    "class SchnorrCA(object):\n",
    "    RSA_KEY_LENGTH = 4096\n",
    "    \n",
    "    def __init__(self):\n",
    "        \"\"\"\n",
    "        Инициализация доверенного центра\n",
    "        Генерация простых чисел p, q и элемента g, а также ключевой пары СА\n",
    "        \"\"\"\n",
    "        \n",
    "        self._db = {}\n",
    "        \n",
    "        #\n",
    "        # Генерация параметров протокола\n",
    "        #\n",
    "        \n",
    "        self._p, self._q, self._g = SchnorrCA._generate_parameters()\n",
    "        \n",
    "        #\n",
    "        # Ключевая пара RSA для СА\n",
    "        #\n",
    "        \n",
    "        self._private_key = RSA.generate(SchnorrCA.RSA_KEY_LENGTH)\n",
    "        self._public_key = self._private_key.publickey()\n",
    "        \n",
    "        trace('[SchnorrCA]', f'RSA public key = {(self._public_key.e, self._public_key.n)}')\n",
    "        \n",
    "        \n",
    "    def register_client(self, \n",
    "                        client_id: uuid.UUID, \n",
    "                        client_public_key: gmpy2.mpz) -> tuple[uuid.UUID, gmpy2.mpz, bytes]:\n",
    "        \"\"\"\n",
    "        Регистрация клиента. Принимает на вход идентификатор клиента и его открытый ключ.\n",
    "        Возвращает подписанный сервером сертификат.\n",
    "        Выбрасывает исключение, если клиент уже зарегистрирован.\n",
    "        \"\"\"\n",
    "        \n",
    "        if client_id in self._db:\n",
    "            trace('[SchnorrCA]', 'User already exists')\n",
    "            raise ValueError(f'Client {client_id} is already registered')\n",
    "            \n",
    "        #\n",
    "        # Создаю сертификат\n",
    "        #\n",
    "            \n",
    "        h = SHA256.new(str(client_id).encode() + number.long_to_bytes(int(client_public_key)))\n",
    "        signature = pss.new(self._private_key).sign(h)\n",
    "        \n",
    "        certificate = (client_id, client_public_key, signature)\n",
    "        trace('[SchnorrCA]', f'Certificate = {certificate}')\n",
    "        \n",
    "        #\n",
    "        # Сохраняю его и возвращаю\n",
    "        #\n",
    "        \n",
    "        self._db[client_id] = certificate\n",
    "        return certificate\n",
    "    \n",
    "    \n",
    "    def verify_certificate(self, certificate: tuple[uuid.UUID, gmpy2.mpz, bytes]) -> bool:\n",
    "        \"\"\"\n",
    "        Проверка сертификата.\n",
    "        Возвращает признак валидности сертификата.\n",
    "        \"\"\"\n",
    "        \n",
    "        client_id, client_public_key, signature = certificate\n",
    "        \n",
    "        if client_id not in self._db:\n",
    "            trace('[SchnorrCA]', f\"Client {client_id} doesn't exist\")\n",
    "            raise ValueError(\"Client doesn't exist\")\n",
    "            \n",
    "        h = SHA256.new(str(client_id).encode() + number.long_to_bytes(int(client_public_key)))\n",
    "        verifier = pss.new(self.public_key)\n",
    "        \n",
    "        try:\n",
    "            verifier.verify(h, signature)\n",
    "            return True\n",
    "        except:\n",
    "            return False\n",
    "        \n",
    "        \n",
    "    @property\n",
    "    def public_key(self):\n",
    "        \"\"\"\n",
    "        Получение открытого ключа СА.\n",
    "        \"\"\"\n",
    "        \n",
    "        return self._public_key\n",
    "    \n",
    "    \n",
    "    @property\n",
    "    def parameters(self) -> tuple[gmpy2.mpz, gmpy2.mpz, gmpy2.mpz]:\n",
    "        \"\"\"\n",
    "        Параметры протокола (p, q, g)\n",
    "        \"\"\"\n",
    "        \n",
    "        return self._p, self._q, self._g\n",
    "        \n",
    "        \n",
    "    @staticmethod\n",
    "    def _generate_parameters() -> tuple[gmpy2.mpz, gmpy2.mpz, gmpy2.mpz]:\n",
    "        \"\"\"\n",
    "        Генерация параметров протокола (p, q, g).\n",
    "        \"\"\"\n",
    "        \n",
    "        Q_LENGTH = 160\n",
    "        P_LENGTH = 1024\n",
    "        \n",
    "        q = gmpy2.mpz(number.getPrime(Q_LENGTH))\n",
    "        p = gmpy2.mul(getrandbits(P_LENGTH - Q_LENGTH), q) + 1\n",
    "        \n",
    "        while not gmpy2.is_prime(p):\n",
    "            p = gmpy2.mul(getrandbits(P_LENGTH - Q_LENGTH), q) + 1\n",
    "            \n",
    "        #\n",
    "        # Сгенерирую число, взаимно простое с p\n",
    "        #\n",
    "        \n",
    "        tmp = getrandbits(P_LENGTH)\n",
    "        while gmpy2.gcd(tmp, p) != 1:\n",
    "            tmp = getrandbits(P_LENGTH)\n",
    "        \n",
    "        #\n",
    "        # По малой теореме Ферма такой g будет иметь порядок q\n",
    "        #\n",
    "        \n",
    "        g = gmpy2.powmod(tmp, (p - 1) // q, p)\n",
    "        \n",
    "        trace('[SchnorrCA]', f'{p = }, {q = }, {g = }')\n",
    "        return p, q, g"
   ]
  },
  {
   "cell_type": "code",
   "execution_count": 15,
   "id": "d4c52675",
   "metadata": {},
   "outputs": [],
   "source": [
    "class SchnorrClient(object):\n",
    "    def __init__(self, parameters: tuple[gmpy2.mpz, gmpy2.mpz, gmpy2.mpz], *,\n",
    "                 fake_data: tuple[uuid.UUID, gmpy2.mpz, tuple] = None):\n",
    "        \"\"\"\n",
    "        Инициализация клиента. Генерирует идентификатор клиента,\n",
    "        ключевую пару.\n",
    "        Последний параметр необходим для демонстрации неуспешной аутентификации.\n",
    "        \"\"\"\n",
    "        \n",
    "        self._p, self._q, self._g = parameters\n",
    "        self._id = uuid.uuid4() if fake_data is None else fake_data[0]\n",
    "        \n",
    "        self._cert = None if fake_data is None else fake_data[2]\n",
    "        self._r = None\n",
    "        \n",
    "        self._private_key = randint(1, self._q - 1)\n",
    "        self._public_key  = gmpy2.powmod(\n",
    "            self._g, -self._private_key, self._p) if fake_data is None else fake_data[1]\n",
    "        \n",
    "        trace('[SchnorrClient]', f'Client {self._id}')\n",
    "        trace('[SchnorrClient]', f'Public key = {self._public_key}')\n",
    "        \n",
    "        \n",
    "    def register(self, ca: SchnorrCA) -> None:\n",
    "        \"\"\"\n",
    "        Регистрация клиента на СА. Принимает дескриптор СА.\n",
    "        \"\"\"\n",
    "        \n",
    "        self._cert = ca.register_client(self.identifier, self.public_key)\n",
    "        \n",
    "        \n",
    "    def get_x(self) -> gmpy2.mpz:\n",
    "        \"\"\"\n",
    "        Получение числа х, получаемого по формуле:\n",
    "                    x = g ** r mod p\n",
    "        где r - случайное целое число из отрезка [1, q - 1].\n",
    "        Сохраняет значение r.\n",
    "        \"\"\"\n",
    "        \n",
    "        self._r = randint(1, self._q - 1)\n",
    "        return gmpy2.powmod(self._g, self._r, self._p)\n",
    "    \n",
    "    \n",
    "    def get_y(self, e, security_parameter) -> gmpy2.mpz:\n",
    "        \"\"\"\n",
    "        Получение числа х, получаемого по формуле:\n",
    "                    x = a * e + r mod q\n",
    "        где r - сохраненное в get_x служебное значение, e - число,\n",
    "        полученное от проверяющего, a - закрытый ключ клиента.\n",
    "        \"\"\"\n",
    "        \n",
    "        if e > 2 ** security_parameter or e < 1:\n",
    "            trace('[SchnorrClient]', f'Invalid {e = }')\n",
    "            raise ValueError('Invalid e')\n",
    "            \n",
    "        pre_result = gmpy2.mul(self._private_key, e) + self._r\n",
    "        return gmpy2.t_mod(pre_result, self._q)\n",
    "    \n",
    "    \n",
    "    @property\n",
    "    def certificate(self):\n",
    "        \"\"\"\n",
    "        Получение сертификата клиента.\n",
    "        \"\"\"\n",
    "        \n",
    "        return self._cert\n",
    "        \n",
    "        \n",
    "    @property\n",
    "    def public_key(self) -> gmpy2.mpz:\n",
    "        \"\"\"\n",
    "        Получение открытого ключа клиента.\n",
    "        \"\"\"\n",
    "        \n",
    "        return self._public_key\n",
    "        \n",
    "        \n",
    "    @property\n",
    "    def identifier(self) -> uuid.UUID:\n",
    "        \"\"\"\n",
    "        Получение идентификатора клиента.\n",
    "        \"\"\"\n",
    "        \n",
    "        return self._id"
   ]
  },
  {
   "cell_type": "code",
   "execution_count": 16,
   "id": "d6f8d573",
   "metadata": {},
   "outputs": [],
   "source": [
    "class SchnorrVerifier(object):\n",
    "    def __init__(self, parameters, security_parameter):\n",
    "        \"\"\"\n",
    "        Инициализация проверяющего. Фактически только закрепляет параметры протокола.\n",
    "        \"\"\"\n",
    "        \n",
    "        self._p, self._q, self._g = parameters\n",
    "        self._security_parameter = security_parameter\n",
    "        \n",
    "        assert security_parameter > 0 and 2 ** security_parameter < self._q\n",
    "        \n",
    "        self._e_values = set()\n",
    "        \n",
    "        \n",
    "    def authenticate(self, client: SchnorrClient, ca: SchnorrCA) -> bool:\n",
    "        \"\"\"\n",
    "        Аутентификация клиента. На вход принимает дескрипторы клиента и СА.\n",
    "        Возвращает True в случае успешной аутентификации.\n",
    "        \"\"\"\n",
    "        \n",
    "        #\n",
    "        # Получаю с клиента x и его сертификат\n",
    "        #\n",
    "        \n",
    "        x, cert = client.get_x(), client.certificate\n",
    "        trace('[SchnorrVerifier]', f'{x = }')\n",
    "        \n",
    "        #\n",
    "        # Если сертификат битый или невалидный, то это плохо\n",
    "        #\n",
    "        \n",
    "        if not ca.verify_certificate(cert):\n",
    "            trace('[SchnorrVerifier]', f'Invalid certificate {cert}')\n",
    "            return False\n",
    "            \n",
    "        #\n",
    "        # Генерирую число е и отдаю его клиенту\n",
    "        #\n",
    "            \n",
    "        e = randint(1, 2 ** self._security_parameter)\n",
    "        while e in self._e_values:\n",
    "            e = randint(1, 2 ** self._security_parameter)\n",
    "            \n",
    "        self._e_values.add(e)        \n",
    "        trace('[SchnorrVerifier]', f'{e = }')\n",
    "        \n",
    "        y = client.get_y(e, self._security_parameter)\n",
    "        trace('[SchnorrVerifier]', f'{y = }')\n",
    "        \n",
    "        #\n",
    "        # Вычисляю значение, которое необходимо сравнить с полученным от клиента х\n",
    "        # И сразу же сравниваю их\n",
    "        # \n",
    "        \n",
    "        product = gmpy2.mul(gmpy2.powmod(self._g, y, self._p), \n",
    "                            gmpy2.powmod(client.public_key, e, self._p))\n",
    "        z = gmpy2.t_mod(product, self._p)\n",
    "        trace('[SchnorrVerifier]', f'{z = }')\n",
    "        \n",
    "        is_successful = x == z\n",
    "        print(f'Authentication successful: {is_successful}')\n",
    "        \n",
    "        return is_successful"
   ]
  },
  {
   "cell_type": "markdown",
   "id": "557676ab",
   "metadata": {},
   "source": [
    "----"
   ]
  },
  {
   "cell_type": "code",
   "execution_count": 17,
   "id": "ccc4b7af",
   "metadata": {},
   "outputs": [
    {
     "name": "stdout",
     "output_type": "stream",
     "text": [
      "[TRACE] [SchnorrCA] p = mpz(47725458810204906958783227026245876429099147152447119178906889486804043670133184041942433065216169018810422826554707581097632325576477261010249548551100934015332987472420336609877787282731250872950443063057069492780849630593280459721656650307775162664122367226499868559342730127690247531485563208750696432641), q = mpz(1111490627038773470224248058634461914892728789353), g = mpz(25665120655039498108453345959671637957374758918757107549964083041660088565381364594017780814743458955960947189375400609210306153040317267363290622963149048626541291797717125400569724831766216180134049647922702816860533095503316404823949844094982065762581911856953265711125010298361872752789358573349941691063)\n",
      "[TRACE] [SchnorrCA] RSA public key = (65537, 770118166972541679471798379408331513734064002313302567054238422796980861332296693208294689911478611616837878199774500378513895855285509443247378502885066171225892550449863862650879648164476538465193683331097227160806704533826898634041997871102544082181406705512385254680955459113862516690490648126322088730007007873138329313128886076513451614196833982916002931051128552636596108352627962581080445741521670726984697161444155481508155903603887933851498837735880081969614757005392946831458727669161822273750643743353035553378076087191736947207654755253493061023414827042605277809706417606255387070676238618102297386515247281670223542667759242937973534628903590570083169805071328394601401806674801580843704974461183238901718893001974305365796490211001670741208470325664980804465667270809929147982651548990389563751704455362105285472325478647798412857240632432409063997047374873216124393531583164122257269766157831280049541729514207223880108500753476277738336302952012802823974463745731010599096002515752457309738002527447161900718209637141471320111951469909471243763848329091507677526050756583122923726598669222204160774412692084942429765751159363853950538403627321292192447779495589038377714840506309750942255390814495966681088377284579)\n"
     ]
    }
   ],
   "source": [
    "# Создаю доверенный центр\n",
    "ca = SchnorrCA()"
   ]
  },
  {
   "cell_type": "code",
   "execution_count": 18,
   "id": "593f60e2",
   "metadata": {},
   "outputs": [
    {
     "name": "stdout",
     "output_type": "stream",
     "text": [
      "[TRACE] [SchnorrClient] Client 04b147fd-877d-46dc-91c6-63522beca9ad\n",
      "[TRACE] [SchnorrClient] Public key = 8315321307818975939897820533648926130721652386045056034736103843005193759278525774454528428097317750908140513307085274843953465292010932488834901299881993612777708630617621263583481334444362106228650441502437119820451840169459074253471545334129982519056191300159604861223291951040390233626259783939972930317\n"
     ]
    }
   ],
   "source": [
    "# Создам Алису - валидного пользователя\n",
    "alice = SchnorrClient(ca.parameters)"
   ]
  },
  {
   "cell_type": "code",
   "execution_count": 19,
   "id": "02976d98",
   "metadata": {},
   "outputs": [
    {
     "name": "stdout",
     "output_type": "stream",
     "text": [
      "[TRACE] [SchnorrCA] Certificate = (UUID('04b147fd-877d-46dc-91c6-63522beca9ad'), mpz(8315321307818975939897820533648926130721652386045056034736103843005193759278525774454528428097317750908140513307085274843953465292010932488834901299881993612777708630617621263583481334444362106228650441502437119820451840169459074253471545334129982519056191300159604861223291951040390233626259783939972930317), b'\\n\\x15O\\xae\\xeenB\\xb4\\xcc\\xe5{\\xe5\\x0e\\xf2\\xd9\\x0b^O\\x93\\xa00\\x16\\xaeU\\xe5DK\\x1c7\\xd0U\\xbb\\x82Mlw\\xd7\\xb2j\\xd1\\x93\\x0cg\\xd3\\xf1E\\xeeo=hU\\xfb\\xedR]\\xd6;[\\x86\\xd1V\\x05\\xb5v\\x96C\\xa9n\\xf1\\xa6\\xce\\x95\\xad\\xabh\\xd6g\\xbe\\xa2\\xee\\x06Q\\xd3\\x81\"\\x80[\\xb0`\\x85k\\x92\\xd8\\xa1\\xd8\\xf7x\\x87\\x16<L\\xb1]La\\xdb\\x9c\\x14i\\xab\\x0b\\xafk\\x1aB#Rf\\x92\\xe3\\r\\xc8\\xa6_\\xabz\\xc1\\x9d\\x99\\xbdY\\xdc\\xfc?\\xe9\\xf4B\\\\|\\xa4\\xd58\\xbf\\r\\x7fx\\xc5\\xc0\\xa6\\x84\\xb2\\xdb\\xc3\\xecjSK\\x05h\\tkU\\xd11s,\\xa4\\xdcy\\xa76O\\xd8k\\xed{\\x03i\\'\\xeb\\x11\\xee\\xe6\\x04\\xf6l\\xd9\\xac\\xcf\\xc0\\'m\\xb0\\xf8i\\xaf1\\xfeQ\\x7f\\xe6\\x17\\x85*\\xc5\\xcd\\x9c\\x07B~\\x895\\x80\\x1f^R\\xf4A\\xf2L\\xdd(&G\\xea\\x9e\\x96D\\xb3n\\x1duCK\\xd3W)\\x13:09p\\x14\\x89x\\xcc\\xdf\\xad\\xc4\\xfeV\\x18\\x94b@\\xf1\\x8c\\x15u\\xb8\\xa5\\xbb\\x88\\xd8\\xcf\\xd7\\x12\\xe9J\\xfc \\xc0_\\xde\\xee\\x91*\\x81\\x0b/\\x93XV\\x913\\t\\x8c\\xd7\\x89\\x9f\\x98J]\\xf5\\t\\xa6PO\\x10\\xd9\\xd0\\xb7\\xa4!\\xd0\\xe8\\xca\\x9a\\r\\x83\\xd1\\x9b;\\xc3>@JV\\xfe\\x1a\\xf8\\x00\\x87\\x11\\xa8F\\xf9N\\x06\\x06]\\xa1Y\\xde\\x90\\x12\\xea\\xb8\\xe6X\\n\\x9ah>k\\xd6\\x0c\\xeb\\xb8\\xa8\\x88\\x83\\xe9\\xfab\\xa8\\x9b8\\x93\\r;\\xdc3\\xfe\\xfb\\xb3\\x1e7\\x81)\\x8c\\xf1\\x04\\xa19\\xcc`%\\x05\\xdeB\\x9cc\\x9f\\x82|c2\\xf4\\x97\\\\\\x1bI\\x82\"\\x19\\x19\\x18\\xabT\\x96\\xf0\\xe3@U.\\xae\\xd8\\xb9)Z\\x9f\\x06\\xf9\\xb2\\xb8M\\x18n\\xe6eO3x\\xbf\\x84\\xf5\\x87\\xff\\xcepbz\\x11\\x07\\x1bv\\xf4\\x19\\x90u\\x8c\\ti\\xcdf\\x88\\xf9\\xaf\\xf2\\xaa\\xa3\\xe7\\x89\\x95\\xa9\\xa5D$\\xb0\\xee\\xe2F\\xcdD\\x87\\xfbw\\xe4+\\xdev\\xff\\xfb\\x7f\\xd3\\xd6\\xe5\\x04\\xbd0o\\xed\\x8fm;\\xf31\\xcec\\xd76}\\xc5\\xb4<\\xb3?\\xb7\\xb0s\\xba\\xa8\"`\\x1c\\xc0\\x9ez\\xb0\\xb6\\xac')\n"
     ]
    }
   ],
   "source": [
    "# Регистрирую валидного пользователя\n",
    "alice.register(ca)"
   ]
  },
  {
   "cell_type": "code",
   "execution_count": 20,
   "id": "edc0fd30",
   "metadata": {},
   "outputs": [],
   "source": [
    "# Параметр безопасности положим равным 10 для демонстрации\n",
    "security_parameter = 10\n",
    "\n",
    "# Создаю проверяющую сторону\n",
    "verifier = SchnorrVerifier(ca.parameters, security_parameter)"
   ]
  },
  {
   "cell_type": "code",
   "execution_count": 21,
   "id": "bb31574e",
   "metadata": {},
   "outputs": [
    {
     "name": "stdout",
     "output_type": "stream",
     "text": [
      "[TRACE] [SchnorrVerifier] x = mpz(5659365052950006972198928207659603123770232549782131287911271169370255164644056413713996677453720679374531350739365884737133673548931924499051169662983733994701022486349105985437076139858327240781243464715291020816282309467839150337057471134140769575490360653555349718661221655931558599664241475867635461131)\n",
      "[TRACE] [SchnorrVerifier] e = mpz(435)\n",
      "[TRACE] [SchnorrVerifier] y = mpz(617054535075182030181485007472405347280869749025)\n",
      "[TRACE] [SchnorrVerifier] z = mpz(5659365052950006972198928207659603123770232549782131287911271169370255164644056413713996677453720679374531350739365884737133673548931924499051169662983733994701022486349105985437076139858327240781243464715291020816282309467839150337057471134140769575490360653555349718661221655931558599664241475867635461131)\n",
      "Authentication successful: True\n"
     ]
    },
    {
     "data": {
      "text/plain": [
       "True"
      ]
     },
     "execution_count": 21,
     "metadata": {},
     "output_type": "execute_result"
    }
   ],
   "source": [
    "# Произвожу аутентификацию валидного пользователя\n",
    "verifier.authenticate(alice, ca)"
   ]
  },
  {
   "cell_type": "code",
   "execution_count": 22,
   "id": "8db0a136",
   "metadata": {},
   "outputs": [
    {
     "name": "stdout",
     "output_type": "stream",
     "text": [
      "[TRACE] [SchnorrClient] Client 04b147fd-877d-46dc-91c6-63522beca9ad\n",
      "[TRACE] [SchnorrClient] Public key = 8315321307818975939897820533648926130721652386045056034736103843005193759278525774454528428097317750908140513307085274843953465292010932488834901299881993612777708630617621263583481334444362106228650441502437119820451840169459074253471545334129982519056191300159604861223291951040390233626259783939972930317\n"
     ]
    }
   ],
   "source": [
    "# Создаю Еву - клиента, который пытается представиться Алисой\n",
    "eve = SchnorrClient(ca.parameters, \n",
    "                    fake_data=(alice.identifier, alice.public_key, alice.certificate))"
   ]
  },
  {
   "cell_type": "code",
   "execution_count": 23,
   "id": "d496ab7f",
   "metadata": {},
   "outputs": [
    {
     "name": "stdout",
     "output_type": "stream",
     "text": [
      "[TRACE] [SchnorrVerifier] x = mpz(41092458591976667786022839805306240413003337480088362818915516235098800195864185350448357387718608683139791587989559806967637886605498342945979606929372130728013926824730381026238733580738101731698979870916415125305543417090534953346639954364378814536856671732727052225926658742378520439012325400246139039372)\n",
      "[TRACE] [SchnorrVerifier] e = mpz(874)\n",
      "[TRACE] [SchnorrVerifier] y = mpz(742717080023826812045439628157802904666414547115)\n",
      "[TRACE] [SchnorrVerifier] z = mpz(8870221455270082928152806869301801236525268717544624479624464731604909105398435874297625870715299763476961518137292628865623967441527867120617833637840286466182105266180201568149409260361782005398127183095119247214546038735773055806590754354332621971919608651039653031845686441150761525470881612092918814344)\n",
      "Authentication successful: False\n"
     ]
    },
    {
     "data": {
      "text/plain": [
       "False"
      ]
     },
     "execution_count": 23,
     "metadata": {},
     "output_type": "execute_result"
    }
   ],
   "source": [
    "# Произвожу аутентификацию невалидного пользователя\n",
    "verifier.authenticate(eve, ca)"
   ]
  },
  {
   "cell_type": "code",
   "execution_count": null,
   "id": "f92c78ac",
   "metadata": {},
   "outputs": [],
   "source": []
  }
 ],
 "metadata": {
  "kernelspec": {
   "display_name": "Python 3 (ipykernel)",
   "language": "python",
   "name": "python3"
  },
  "language_info": {
   "codemirror_mode": {
    "name": "ipython",
    "version": 3
   },
   "file_extension": ".py",
   "mimetype": "text/x-python",
   "name": "python",
   "nbconvert_exporter": "python",
   "pygments_lexer": "ipython3",
   "version": "3.9.10"
  }
 },
 "nbformat": 4,
 "nbformat_minor": 5
}
