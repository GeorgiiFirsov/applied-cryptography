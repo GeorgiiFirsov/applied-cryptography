{
 "cells": [
  {
   "cell_type": "markdown",
   "id": "d6fa3678",
   "metadata": {},
   "source": [
    "# Протоколы аутентификации с нулевым разглашением"
   ]
  },
  {
   "cell_type": "code",
   "execution_count": 1,
   "id": "f239b71e",
   "metadata": {},
   "outputs": [],
   "source": [
    "IS_DEBUG = 1"
   ]
  },
  {
   "cell_type": "code",
   "execution_count": 2,
   "id": "d2f99173",
   "metadata": {},
   "outputs": [],
   "source": [
    "def trace(*args, **kwargs):\n",
    "    \"\"\"\n",
    "    Отладочная трассировка\n",
    "    \"\"\"\n",
    "    \n",
    "    global IS_DEBUG\n",
    "    if IS_DEBUG:\n",
    "        print('[TRACE]', end=' ')\n",
    "        print(*args, **kwargs)"
   ]
  },
  {
   "cell_type": "markdown",
   "id": "d394fe1f",
   "metadata": {},
   "source": [
    "---"
   ]
  },
  {
   "cell_type": "code",
   "execution_count": 3,
   "id": "b9b759e3",
   "metadata": {},
   "outputs": [],
   "source": [
    "# Генерация простых чисел\n",
    "from Crypto.Util import number\n",
    "\n",
    "# КГПСЧ\n",
    "from Crypto.Random import random\n",
    "\n",
    "# Понадобится в протоколе Шнорра\n",
    "from Crypto.PublicKey import RSA\n",
    "from Crypto.Signature import pss\n",
    "from Crypto.Hash import SHA256\n",
    "\n",
    "# Немного математики\n",
    "import gmpy2\n",
    "\n",
    "# Для генерации идентификаторов клиентов\n",
    "import uuid"
   ]
  },
  {
   "cell_type": "markdown",
   "id": "77757d8c",
   "metadata": {},
   "source": [
    "---"
   ]
  },
  {
   "cell_type": "code",
   "execution_count": 4,
   "id": "4df04af5",
   "metadata": {},
   "outputs": [],
   "source": [
    "def randint(a, b) -> gmpy2.mpz:\n",
    "    \"\"\"\n",
    "    Генерация случайного числа с помощью КГПСЧ с поддержкой gmpy2\n",
    "    \"\"\"\n",
    "    \n",
    "    native_a = int(a)\n",
    "    native_b = int(b)\n",
    "    \n",
    "    return gmpy2.mpz(random.randint(native_a, native_b))\n",
    "\n",
    "def getrandbits(n) -> gmpy2.mpz:\n",
    "    \"\"\"\n",
    "    \"\"\"\n",
    "    \n",
    "    native_n = int(n)\n",
    "    \n",
    "    return gmpy2.mpz(random.getrandbits(native_n))"
   ]
  },
  {
   "cell_type": "markdown",
   "id": "434aa9c7",
   "metadata": {},
   "source": [
    "----"
   ]
  },
  {
   "cell_type": "markdown",
   "id": "20a79325",
   "metadata": {},
   "source": [
    "## Протокол Фиата-Шамира\n",
    "![Fiat-Shamir Protocol](./images/Fiat-Shamir_2.png)"
   ]
  },
  {
   "cell_type": "code",
   "execution_count": 5,
   "id": "8086ce15",
   "metadata": {},
   "outputs": [],
   "source": [
    "class FiatShamirCA(object):\n",
    "    PRIME_BITS = 1024\n",
    "    \n",
    "    def __init__(self):\n",
    "        \"\"\"\n",
    "        Инициализация доверенного центра.\n",
    "        Генерируются два простых числа и их произведение.\n",
    "        \"\"\"\n",
    "        \n",
    "        self._db = {}\n",
    "        \n",
    "        self._p = number.getPrime(FiatShamirCA.PRIME_BITS)\n",
    "        self._q = number.getPrime(FiatShamirCA.PRIME_BITS)\n",
    "        self._modulus = gmpy2.mul(self._p, self._q)\n",
    "        \n",
    "        trace('[FiatShamirCA]', f'Modulus = {self._modulus}')\n",
    "        \n",
    "        \n",
    "    def register_client(self, client_id: uuid.UUID, client_public_key: gmpy2.mpz) -> None:\n",
    "        \"\"\"\n",
    "        Регистрация клиента. На вход принимает идентификатор клиента и его открытый ключ.\n",
    "        Ничего не возвращает.\n",
    "        Выбрасывает исключение, если клиент уже существует.\n",
    "        \"\"\"\n",
    "        \n",
    "        trace('[FiatShamirCA]', f'''Attempting to register client {client_id} \n",
    "        with public key {client_public_key}''')\n",
    "        \n",
    "        if client_id in self._db:\n",
    "            trace('[FiatShamirCA]', 'User already exists')\n",
    "            raise ValueError(f'Client {client_id} is already registered')\n",
    "            \n",
    "        #\n",
    "        # Теперь сохраняю открытый ключ\n",
    "        #\n",
    "        \n",
    "        self._db[client_id] = client_public_key\n",
    "        trace('[FiatShamirCA]', 'Client registered successfully')\n",
    "        \n",
    "        \n",
    "    def get_public_key(self, client_id: uuid.UUID) -> gmpy2.mpz:\n",
    "        \"\"\"\n",
    "        Получение открытого ключа клиента. Получает на вход идентификатор клиента.\n",
    "        Возвращает открытый ключ.\n",
    "        Выбрасывает исключение, если пользователь отсутствует.\n",
    "        \"\"\"\n",
    "        \n",
    "        return self._db[client_id]\n",
    "       \n",
    "        \n",
    "    @property\n",
    "    def modulus(self) -> gmpy2.mpz:\n",
    "        \"\"\"\n",
    "        Возвращает модуль.\n",
    "        \"\"\"\n",
    "        \n",
    "        return self._modulus"
   ]
  },
  {
   "cell_type": "code",
   "execution_count": 6,
   "id": "488b1efc",
   "metadata": {},
   "outputs": [],
   "source": [
    "class FiatShamirClient(object):\n",
    "    def __init__(self, modulus: gmpy2.mpz, *,\n",
    "                 fake_data: tuple[uuid.UUID, gmpy2.mpz] = None):\n",
    "        \"\"\"\n",
    "        Инициализация клиента с выработкой ключевой пары и идентификатора.\n",
    "        Последний параметр требуются для демонстрации неудачной аутентификации.\n",
    "        \"\"\"\n",
    "        \n",
    "        self._id = uuid.uuid4() if fake_data is None else fake_data[0]\n",
    "        self._r = None\n",
    "        \n",
    "        self._private_key = FiatShamirClient._generate_coprime(modulus)\n",
    "        self._public_key = gmpy2.powmod(self._private_key, 2, modulus) if fake_data is None else fake_data[1]\n",
    "        \n",
    "        trace('[FiatShamirClient]', f'Client {self._id}')\n",
    "        trace('[FiatShamirClient]', f'Public key = {self._public_key}')\n",
    "        \n",
    "        \n",
    "    @property\n",
    "    def public_key(self) -> gmpy2.mpz:\n",
    "        \"\"\"\n",
    "        Получение открытого ключа.\n",
    "        \"\"\"\n",
    "        \n",
    "        return self._public_key\n",
    "    \n",
    "    \n",
    "    @property\n",
    "    def identifier(self) -> uuid.UUID:\n",
    "        \"\"\"\n",
    "        Получение идентификатора.\n",
    "        \"\"\"\n",
    "        \n",
    "        return self._id\n",
    "    \n",
    "    \n",
    "    def get_x(self, modulus: gmpy2.mpz) -> gmpy2.mpz:\n",
    "        \"\"\"\n",
    "        Получение случайного значения, вычисляемого по формуле:\n",
    "                    x = r ** 2 mod n,\n",
    "        где n - модуль, r - случайное целое число из отрезка [1, n - 1].\n",
    "        Значение r сохраняется.\n",
    "        \"\"\"\n",
    "        \n",
    "        self._r = randint(1, modulus - 1)\n",
    "        return gmpy2.powmod(self._r, 2, modulus)\n",
    "    \n",
    "    \n",
    "    def get_y(self, e: gmpy2.mpz, modulus: gmpy2.mpz) -> gmpy2.mpz:\n",
    "        \"\"\"\n",
    "        Получение числа, вычисляемого по формуле:\n",
    "                    y = r * s ** e mod n,\n",
    "        где n - модуль, s - закрытый ключ пользователя, r - сгенерированное \n",
    "        функцией get_x внутреннее значение, e - целое число из отрезка [0, 1],\n",
    "        пришедшее от проверяющего.\n",
    "        \"\"\"\n",
    "        \n",
    "        product = gmpy2.mul(self._r, gmpy2.powmod(self._private_key, e, modulus))\n",
    "        return gmpy2.t_mod(product, modulus)\n",
    "        \n",
    "        \n",
    "    @staticmethod\n",
    "    def _generate_coprime(modulus: gmpy2.mpz) -> gmpy2.mpz:\n",
    "        \"\"\"\n",
    "        Генерация случайного числа из отрезка [1, n - 1], взаимно\n",
    "        простого с n, где n - модуль.\n",
    "        \"\"\"\n",
    "        \n",
    "        #\n",
    "        # Генерирую число до тех пор, пока оно не станет взаимно простым с модулем\n",
    "        #\n",
    "        \n",
    "        result = randint(1, modulus - 1)\n",
    "        while gmpy2.gcd(result, modulus) != 1:\n",
    "            result = randint(1, modulus - 1)\n",
    "            \n",
    "        return result"
   ]
  },
  {
   "cell_type": "code",
   "execution_count": 7,
   "id": "7ab59ef5",
   "metadata": {},
   "outputs": [],
   "source": [
    "class FiatShamirVerifier(object):\n",
    "    def __init__(self, iterations: int):\n",
    "        \"\"\"\n",
    "        Инициализация проверяющего. Задает коичество итераций проверки.\n",
    "        \"\"\"\n",
    "        \n",
    "        self._iterations = iterations\n",
    "        \n",
    "        \n",
    "    def authenticate(self, client: FiatShamirClient, ca: FiatShamirCA) -> bool:\n",
    "        \"\"\"\n",
    "        Аутентификация клиента. На вход принимает дескрипторы клиента и СА.\n",
    "        Возвращает True в случае успешной аутентификации.\n",
    "        \"\"\"\n",
    "        \n",
    "        trace('[FiatShamirVerifier]', f'Attempt to authenticate client {client.identifier}')\n",
    "        trace('[FiatShamirVerifier]', f'Number of iterations = {self._iterations}')\n",
    "        \n",
    "        is_successful = True\n",
    "        \n",
    "        for i in range(self._iterations):\n",
    "            x = client.get_x(ca.modulus)\n",
    "            trace('[FiatShamirVerifier]', f'[Iteration {i + 1}] {x = }')\n",
    "            \n",
    "            e = randint(0, 1)\n",
    "            trace('[FiatShamirVerifier]', f'[Iteration {i + 1}] {e = }')\n",
    "            \n",
    "            y = client.get_y(e, ca.modulus)\n",
    "            trace('[FiatShamirVerifier]', f'[Iteration {i + 1}] {y = }')\n",
    "            \n",
    "            pk = ca.get_public_key(client.identifier)\n",
    "            product = gmpy2.mul(x, gmpy2.powmod(pk, e, ca.modulus))\n",
    "            \n",
    "            successful_iteration = gmpy2.powmod(y, 2, ca.modulus) == gmpy2.t_mod(product, ca.modulus)\n",
    "            is_successful &= successful_iteration\n",
    "            \n",
    "            trace('[FiatShamirVerifier]', f'[Iteration {i + 1}] success: {successful_iteration}')\n",
    "            \n",
    "            if not successful_iteration:\n",
    "                break\n",
    "            \n",
    "        print(f'Authentication successful: {is_successful}')\n",
    "        return is_successful"
   ]
  },
  {
   "cell_type": "markdown",
   "id": "779aac61",
   "metadata": {},
   "source": [
    "----"
   ]
  },
  {
   "cell_type": "code",
   "execution_count": 8,
   "id": "52ff3959",
   "metadata": {},
   "outputs": [
    {
     "name": "stdout",
     "output_type": "stream",
     "text": [
      "[TRACE] [FiatShamirCA] Modulus = 13579295163433925676067440187812410519203052923094271050329773726476126200455909408985030550749029318837763790209287614423501273844678290034769039240587986357172884600724638332957429000428162974660364548961789512166807993137848654191766296870128280587098749442839253583503325822500551429692022161875596998555226933322733614258215110679368487958096065124934234392800890701931333073453794851480176865979342465686075008397135777375836729260746396472239940873600668765295622416857163982962684213729782241635442534811720703103668833971948938189462761366663785980052895187580763760230649675056084326068025826241703146140173\n"
     ]
    }
   ],
   "source": [
    "# Создаю доверенный центр\n",
    "ca = FiatShamirCA()"
   ]
  },
  {
   "cell_type": "code",
   "execution_count": 9,
   "id": "5050323e",
   "metadata": {},
   "outputs": [
    {
     "name": "stdout",
     "output_type": "stream",
     "text": [
      "[TRACE] [FiatShamirClient] Client 5fc2a487-f351-45cb-95c3-04ab63f0c295\n",
      "[TRACE] [FiatShamirClient] Public key = 4222514009043331730693264874083502219187494057551557383051473686436706905712595109116874721646638182829159231905478434966818342216424281815483026381182718766242914866842977532859760696580233833494392056663543345783356817426447196847860884924801077375797846595513875243727663238827685209117407101777266730211251062322977150337171176449736485551899200213882354215371233010016250235763293304134552992692067869152319730606611285868285824976368125883288242330619418540715038163360257158789448992405028223385051698864600100347469651455983792223632368653627365631038422656593470564536728716258605950430631941425659258438221\n",
      "[TRACE] [FiatShamirClient] Client 5fc2a487-f351-45cb-95c3-04ab63f0c295\n",
      "[TRACE] [FiatShamirClient] Public key = 4222514009043331730693264874083502219187494057551557383051473686436706905712595109116874721646638182829159231905478434966818342216424281815483026381182718766242914866842977532859760696580233833494392056663543345783356817426447196847860884924801077375797846595513875243727663238827685209117407101777266730211251062322977150337171176449736485551899200213882354215371233010016250235763293304134552992692067869152319730606611285868285824976368125883288242330619418540715038163360257158789448992405028223385051698864600100347469651455983792223632368653627365631038422656593470564536728716258605950430631941425659258438221\n"
     ]
    }
   ],
   "source": [
    "# Создаю двух пользователей:\n",
    "# - Алису - валидного пользователя\n",
    "# - Еву - пользователя, представляющегося Алисой. но не знающего закрытого ключа Алисы\n",
    "alice = FiatShamirClient(ca.modulus)\n",
    "eve = FiatShamirClient(ca.modulus, \n",
    "                       fake_data=(alice.identifier, alice.public_key))"
   ]
  },
  {
   "cell_type": "code",
   "execution_count": 10,
   "id": "7d698de2",
   "metadata": {},
   "outputs": [
    {
     "name": "stdout",
     "output_type": "stream",
     "text": [
      "[TRACE] [FiatShamirCA] Attempting to register client 5fc2a487-f351-45cb-95c3-04ab63f0c295 \n",
      "        with public key 4222514009043331730693264874083502219187494057551557383051473686436706905712595109116874721646638182829159231905478434966818342216424281815483026381182718766242914866842977532859760696580233833494392056663543345783356817426447196847860884924801077375797846595513875243727663238827685209117407101777266730211251062322977150337171176449736485551899200213882354215371233010016250235763293304134552992692067869152319730606611285868285824976368125883288242330619418540715038163360257158789448992405028223385051698864600100347469651455983792223632368653627365631038422656593470564536728716258605950430631941425659258438221\n",
      "[TRACE] [FiatShamirCA] Client registered successfully\n"
     ]
    }
   ],
   "source": [
    "# Регистрирую валидного пользователя\n",
    "ca.register_client(alice.identifier, alice.public_key)"
   ]
  },
  {
   "cell_type": "code",
   "execution_count": 11,
   "id": "7da19290",
   "metadata": {},
   "outputs": [],
   "source": [
    "# Для простоты будет 3 итерации\n",
    "ITERATIONS = 3\n",
    "\n",
    "# Создаю проверяющую сторону\n",
    "verifier = FiatShamirVerifier(ITERATIONS)"
   ]
  },
  {
   "cell_type": "code",
   "execution_count": 12,
   "id": "94d340b8",
   "metadata": {},
   "outputs": [
    {
     "name": "stdout",
     "output_type": "stream",
     "text": [
      "[TRACE] [FiatShamirVerifier] Attempt to authenticate client 5fc2a487-f351-45cb-95c3-04ab63f0c295\n",
      "[TRACE] [FiatShamirVerifier] Number of iterations = 3\n",
      "[TRACE] [FiatShamirVerifier] [Iteration 1] x = mpz(10642514515741024778152952283363369918209799677019657984634218994330096212139955444071220742567633927660636820216240631775042388396325245892175440145095734812912175059417975348883604912604173692363772379472523708735277686599716788704768202848065923471462771204210600198991930633579488737513809584327055617188682471248580027992000942619798395367080830428989124914429743972794597406566144616773554127181638440783881452090368309583936717532285193093291390288341638060014242859340626675116086733538306117755925947891767165625293420755946927417069994775515464067260600751272103349180234381869661841706395781821530533432601)\n",
      "[TRACE] [FiatShamirVerifier] [Iteration 1] e = mpz(0)\n",
      "[TRACE] [FiatShamirVerifier] [Iteration 1] y = mpz(4116315446083257748392759448174099220332299642049297992631221534667848709573286194389394665994515868930341126693976122558221782508232632317421371708584210813018977565593493289805359175432348613342935908157002955937935241147358276226553535674857107635896896832501016477246823857481398824406283870472336344007083978755960205418695557280792099339743992240231685513809810436858050548635535760014438084802802575616128274902840820646720222752227074795756676259540457499832152017251919191742979332791140681415040525825583599287278407457014303296731973950738446325792381244266056453514033676393145510650279502427989303064542)\n",
      "[TRACE] [FiatShamirVerifier] [Iteration 1] success: True\n",
      "[TRACE] [FiatShamirVerifier] [Iteration 2] x = mpz(8775899538414182721738688346951574344060345440895687727609920266713278121825037085671424761100874149851614831392268296053408033639540996911872161791456158605972473033556610482371426822375005738970011717082053187027983527099141068020051896081313705349377382299205547470706814137449978648218090887272687000024322486151191929471785863957751757751780132625421417085991271638633253486861542995801964035772013489924081210492099874774997053073129054486425745448570745838214739415736733202881295451906830583062324272147275550527253237696471408187582911006238630292971911529079062678009756461411740895979096935854031436214689)\n",
      "[TRACE] [FiatShamirVerifier] [Iteration 2] e = mpz(0)\n",
      "[TRACE] [FiatShamirVerifier] [Iteration 2] y = mpz(960200096856131228079475646193553126525478154711096818651415856931731943592368662540690217882172614587738584689160825064951387830551997500674931552016584857433736272773250890706618191457781662251446380544217056560334008699241603091641765327968649603677395625123744413267424765396250525444455564069297033425520791541028993450709141917840898844238874298374410785347769220985192006909293865280919788231166179481231298115092572053136286997274699577639833411542484608955751092554490769834103856986303923649597445114711987501845413831935448509983383754374873789327086645041929047106942260532001089606939914915966855373827)\n",
      "[TRACE] [FiatShamirVerifier] [Iteration 2] success: True\n",
      "[TRACE] [FiatShamirVerifier] [Iteration 3] x = mpz(5264216598732726902320886478507831994057467713348478709801243549371892908309493087548559774397929478314765084265766571845082097276511285694569213824845762959510885177657198698909753703349656357816054426534683041733320795318506288220025938381055836430702647477233791176530974868639202135719798421272466421046051047055584623516272963514903116018458082815866256633580077555631486015932773923312915326631713129809411347810233702314284750360910135926826702903762403291830567643383935103435096683983871973755782679082559883431065801402909126432104209669214205552251539945166077137036187250070544852354335369809264569330466)\n",
      "[TRACE] [FiatShamirVerifier] [Iteration 3] e = mpz(1)\n",
      "[TRACE] [FiatShamirVerifier] [Iteration 3] y = mpz(5382620101846511307822649303395307039324800816912207291806320710166885598605188604879231440157131226942454548713000024079009289550175424021123581757329523233124900506592781055712541232060535942599841640579939219748372395966704091853907568695372394624652668591693190820072417055849416649592820946867513262736510975068240644276074106649514818177010933142129380018163828930229845061781628815494242755721560865267081787693921262842919676673970267211099280581085876256916227485181137297811097060035619850317880591806514933579915248327221832375809150885104463668828078775751826985642841931379545687040501629501214096943298)\n",
      "[TRACE] [FiatShamirVerifier] [Iteration 3] success: True\n",
      "Authentication successful: True\n"
     ]
    },
    {
     "data": {
      "text/plain": [
       "True"
      ]
     },
     "execution_count": 12,
     "metadata": {},
     "output_type": "execute_result"
    }
   ],
   "source": [
    "# Произвожу аутентификацию валидного пользователя\n",
    "verifier.authenticate(alice, ca)"
   ]
  },
  {
   "cell_type": "code",
   "execution_count": 13,
   "id": "fa906d55",
   "metadata": {},
   "outputs": [
    {
     "name": "stdout",
     "output_type": "stream",
     "text": [
      "[TRACE] [FiatShamirVerifier] Attempt to authenticate client 5fc2a487-f351-45cb-95c3-04ab63f0c295\n",
      "[TRACE] [FiatShamirVerifier] Number of iterations = 3\n",
      "[TRACE] [FiatShamirVerifier] [Iteration 1] x = mpz(6298799670842520090584972555017294743610740008453085710738375356609898794867323040820452132027416932415727306453126353051300218869407523381609546145403216250174664837277155055914938581618764136283046297849652656950968134871258093753206694301271363461350536794014170269696688080865424128008543360323147891692382272409906872777412522655954056135541948138389770389507226528123571307983048555554259608036910626852647756884960282701619375543939466430105728246657400681707774198785510711938063614703103787649540309999390910890974396267819901159294651714380233915476463759778549768370505074798338300759639360675991176851878)\n",
      "[TRACE] [FiatShamirVerifier] [Iteration 1] e = mpz(0)\n",
      "[TRACE] [FiatShamirVerifier] [Iteration 1] y = mpz(516250643369965625422398994180963414940876436978551539480343959150097885318676120460903895469904456632340064453499098753748709037521361193514879805285856976576377027356415732884527348018426630886432146520951038992476451900242687299032658822019047168627656577609235082632483016982848551391063208659336069347006394661199477254877214471863754904205340723385241664104268105525098298769180891733321886657240356577339310759770818701488300084230121938363750243457151327795604059582856971886297990022024173613795229937619953871109554742194850118229338254451741474899240233864553369312118358748852632627951099003487652931926)\n",
      "[TRACE] [FiatShamirVerifier] [Iteration 1] success: True\n",
      "[TRACE] [FiatShamirVerifier] [Iteration 2] x = mpz(11649710423924202824050731547442197915174584037281148394450267604496022057083943864511068971728007188968726948413135457786024471720535763193449602334288009178360635734083934217021145744298767883277114626721539294989822853009627914310311906659823480802520005438199301910462833178649312429532181670734252903429757957189000481726876110201633499089791705786361655646318870180331030615815401514444656697266601824135801839883158991857428261479131213683250458267512156744741058393524588985244223510036273595852223148145320209228183660615295826989157961683351464524010369502300561759134134271776116083639192182396405428384340)\n",
      "[TRACE] [FiatShamirVerifier] [Iteration 2] e = mpz(0)\n",
      "[TRACE] [FiatShamirVerifier] [Iteration 2] y = mpz(9394927337217382305358680063500118784190508195382722634692654809727695525875361505722250107971344726470786464567230462478327550670633675712118047324951432245613468367379328585446713581875042052993140723848753756504480261143859444016627406164098818106776189680865946030316117059272866031893202097743881048759280473658180427880590128049137538072936650133897204325887883766279247556897966802677731264212143365123376687913801360509452518232553595456304578221181130380806525607804661269724639224997117238650142627825825174136927448962774551873110293712165003575005755629646971781543571454980834153861678466352985969913600)\n",
      "[TRACE] [FiatShamirVerifier] [Iteration 2] success: True\n",
      "[TRACE] [FiatShamirVerifier] [Iteration 3] x = mpz(11723415360059247061205317523151850011307041714549373117879736639198875496395634109923660854640037327126068242236039986767173893883744026087741476353608350755420951297522658415875252270608646582587331356037137874167992779521555292366522936357148135167309318246492570905264731973425571565390414780297222501115694115832823651727450865056546272614727406727957457009509863583848120114506458483573987389207000650625677238529104037106458293525968502266605984060399821709714810900351991182967702203108828724285524144127686492482833171764868863230104371788085468591866869134129571459210232348584824207528949197671061866052539)\n",
      "[TRACE] [FiatShamirVerifier] [Iteration 3] e = mpz(1)\n",
      "[TRACE] [FiatShamirVerifier] [Iteration 3] y = mpz(3508726829102485825048695546057296532000047459883630635338799591532648743429363282282257771755680441679702396104256368629245856194921603994055797627785261446042961607888642432528052469810912286536299992767723103814308216030240498358876129316403153833106875698269367777521310721557016185680027862069231003897507316668331917187094080493694461078038950581308131132641103126212994630063926022799064408987045901587485364915649874094480670896672003456603543591851787555506732999990418027973312885811708290696756123396809162194407054691495162995970299237480529573049998458691913918219518365031226719487480830677589679084653)\n",
      "[TRACE] [FiatShamirVerifier] [Iteration 3] success: False\n",
      "Authentication successful: False\n"
     ]
    },
    {
     "data": {
      "text/plain": [
       "False"
      ]
     },
     "execution_count": 13,
     "metadata": {},
     "output_type": "execute_result"
    }
   ],
   "source": [
    "# Произвожу аутентификацию невалидного пользователя\n",
    "verifier.authenticate(eve, ca)"
   ]
  },
  {
   "cell_type": "markdown",
   "id": "748424ec",
   "metadata": {},
   "source": [
    "---"
   ]
  },
  {
   "cell_type": "markdown",
   "id": "6bed3c52",
   "metadata": {},
   "source": [
    "## Протокол Шнорра\n",
    "![Schnorr Protocol](./images/Schnorr_2.png)"
   ]
  },
  {
   "cell_type": "code",
   "execution_count": 14,
   "id": "7eff69aa",
   "metadata": {},
   "outputs": [],
   "source": [
    "class SchnorrCA(object):\n",
    "    RSA_KEY_LENGTH = 4096\n",
    "    \n",
    "    def __init__(self):\n",
    "        \"\"\"\n",
    "        Инициализация доверенного центра\n",
    "        Генерация простых чисел p, q и элемента g, а также ключевой пары СА\n",
    "        \"\"\"\n",
    "        \n",
    "        self._db = {}\n",
    "        \n",
    "        #\n",
    "        # Генерация параметров протокола\n",
    "        #\n",
    "        \n",
    "        self._p, self._q, self._g = SchnorrCA._generate_parameters()\n",
    "        \n",
    "        #\n",
    "        # Ключевая пара RSA для СА\n",
    "        #\n",
    "        \n",
    "        self._private_key = RSA.generate(SchnorrCA.RSA_KEY_LENGTH)\n",
    "        self._public_key = self._private_key.publickey()\n",
    "        \n",
    "        trace('[SchnorrCA]', f'RSA public key = {(self._public_key.e, self._public_key.n)}')\n",
    "        \n",
    "        \n",
    "    def register_client(self, \n",
    "                        client_id: uuid.UUID, \n",
    "                        client_public_key: gmpy2.mpz) -> tuple[uuid.UUID, gmpy2.mpz, bytes]:\n",
    "        \"\"\"\n",
    "        Регистрация клиента. Принимает на вход идентификатор клиента и его открытый ключ.\n",
    "        Возвращает подписанный сервером сертификат.\n",
    "        Выбрасывает исключение, если клиент уже зарегистрирован.\n",
    "        \"\"\"\n",
    "        \n",
    "        if client_id in self._db:\n",
    "            trace('[SchnorrCA]', 'User already exists')\n",
    "            raise ValueError(f'Client {client_id} is already registered')\n",
    "            \n",
    "        #\n",
    "        # Создаю сертификат\n",
    "        #\n",
    "            \n",
    "        h = SHA256.new(str(client_id).encode() + number.long_to_bytes(int(client_public_key)))\n",
    "        signature = pss.new(self._private_key).sign(h)\n",
    "        \n",
    "        certificate = (client_id, client_public_key, signature)\n",
    "        trace('[SchnorrCA]', f'Certificate = {certificate}')\n",
    "        \n",
    "        #\n",
    "        # Сохраняю его и возвращаю\n",
    "        #\n",
    "        \n",
    "        self._db[client_id] = certificate\n",
    "        return certificate\n",
    "    \n",
    "    \n",
    "    def verify_certificate(self, certificate: tuple[uuid.UUID, gmpy2.mpz, bytes]) -> bool:\n",
    "        \"\"\"\n",
    "        Проверка сертификата.\n",
    "        Возвращает признак валидности сертификата.\n",
    "        \"\"\"\n",
    "        \n",
    "        client_id, client_public_key, signature = certificate\n",
    "        \n",
    "        if client_id not in self._db:\n",
    "            trace('[SchnorrCA]', f\"Client {client_id} doesn't exist\")\n",
    "            raise ValueError(\"Client doesn't exist\")\n",
    "            \n",
    "        h = SHA256.new(str(client_id).encode() + number.long_to_bytes(int(client_public_key)))\n",
    "        verifier = pss.new(self.public_key)\n",
    "        \n",
    "        try:\n",
    "            verifier.verify(h, signature)\n",
    "            return True\n",
    "        except:\n",
    "            return False\n",
    "        \n",
    "        \n",
    "    @property\n",
    "    def public_key(self):\n",
    "        \"\"\"\n",
    "        Получение открытого ключа СА.\n",
    "        \"\"\"\n",
    "        \n",
    "        return self._public_key\n",
    "    \n",
    "    \n",
    "    @property\n",
    "    def parameters(self) -> tuple[gmpy2.mpz, gmpy2.mpz, gmpy2.mpz]:\n",
    "        \"\"\"\n",
    "        Параметры протокола (p, q, g)\n",
    "        \"\"\"\n",
    "        \n",
    "        return self._p, self._q, self._g\n",
    "        \n",
    "        \n",
    "    @staticmethod\n",
    "    def _generate_parameters() -> tuple[gmpy2.mpz, gmpy2.mpz, gmpy2.mpz]:\n",
    "        \"\"\"\n",
    "        Генерация параметров протокола (p, q, g).\n",
    "        \"\"\"\n",
    "        \n",
    "        Q_LENGTH = 160\n",
    "        P_LENGTH = 1024\n",
    "        \n",
    "        q = gmpy2.mpz(number.getPrime(Q_LENGTH))\n",
    "        p = gmpy2.mul(getrandbits(P_LENGTH - Q_LENGTH), q) + 1\n",
    "        \n",
    "        while not gmpy2.is_prime(p):\n",
    "            p = gmpy2.mul(getrandbits(P_LENGTH - Q_LENGTH), q) + 1\n",
    "            \n",
    "        #\n",
    "        # Сгенерирую число, взаимно простое с p\n",
    "        #\n",
    "        \n",
    "        tmp = getrandbits(P_LENGTH)\n",
    "        while gmpy2.gcd(tmp, p) != 1:\n",
    "            tmp = getrandbits(P_LENGTH)\n",
    "        \n",
    "        #\n",
    "        # По малой теореме Ферма такой g будет иметь порядок q\n",
    "        #\n",
    "        \n",
    "        g = gmpy2.powmod(tmp, (p - 1) // q, p)\n",
    "        \n",
    "        trace('[SchnorrCA]', f'{p = }, {q = }, {g = }')\n",
    "        return p, q, g"
   ]
  },
  {
   "cell_type": "code",
   "execution_count": 15,
   "id": "68a4e14f",
   "metadata": {},
   "outputs": [],
   "source": [
    "class SchnorrClient(object):\n",
    "    def __init__(self, parameters: tuple[gmpy2.mpz, gmpy2.mpz, gmpy2.mpz], *,\n",
    "                 fake_data: tuple[uuid.UUID, gmpy2.mpz, tuple] = None):\n",
    "        \"\"\"\n",
    "        Инициализация клиента. Генерирует идентификатор клиента,\n",
    "        ключевую пару.\n",
    "        Последний параметр необходим для демонстрации неуспешной аутентификации.\n",
    "        \"\"\"\n",
    "        \n",
    "        self._p, self._q, self._g = parameters\n",
    "        self._id = uuid.uuid4() if fake_data is None else fake_data[0]\n",
    "        \n",
    "        self._cert = None if fake_data is None else fake_data[2]\n",
    "        self._r = None\n",
    "        \n",
    "        self._private_key = randint(1, self._q - 1)\n",
    "        self._public_key  = gmpy2.powmod(\n",
    "            self._g, -self._private_key, self._p) if fake_data is None else fake_data[1]\n",
    "        \n",
    "        trace('[SchnorrClient]', f'Client {self._id}')\n",
    "        trace('[SchnorrClient]', f'Public key = {self._public_key}')\n",
    "        \n",
    "        \n",
    "    def register(self, ca: SchnorrCA) -> None:\n",
    "        \"\"\"\n",
    "        Регистрация клиента на СА. Принимает дескриптор СА.\n",
    "        \"\"\"\n",
    "        \n",
    "        self._cert = ca.register_client(self.identifier, self.public_key)\n",
    "        \n",
    "        \n",
    "    def get_x(self) -> gmpy2.mpz:\n",
    "        \"\"\"\n",
    "        Получение числа х, получаемого по формуле:\n",
    "                    x = g ** r mod p\n",
    "        где r - случайное целое число из отрезка [1, q - 1].\n",
    "        Сохраняет значение r.\n",
    "        \"\"\"\n",
    "        \n",
    "        self._r = randint(1, self._q - 1)\n",
    "        return gmpy2.powmod(self._g, self._r, self._p)\n",
    "    \n",
    "    \n",
    "    def get_y(self, e, security_parameter) -> gmpy2.mpz:\n",
    "        \"\"\"\n",
    "        Получение числа х, получаемого по формуле:\n",
    "                    x = a * e + r mod q\n",
    "        где r - сохраненное в get_x служебное значение, e - число,\n",
    "        полученное от проверяющего, a - закрытый ключ клиента.\n",
    "        \"\"\"\n",
    "        \n",
    "        if e > 2 ** security_parameter or e < 1:\n",
    "            trace('[SchnorrClient]', f'Invalid {e = }')\n",
    "            raise ValueError('Invalid e')\n",
    "            \n",
    "        pre_result = gmpy2.mul(self._private_key, e) + self._r\n",
    "        return gmpy2.t_mod(pre_result, self._q)\n",
    "    \n",
    "    \n",
    "    @property\n",
    "    def certificate(self):\n",
    "        \"\"\"\n",
    "        Получение сертификата клиента.\n",
    "        \"\"\"\n",
    "        \n",
    "        return self._cert\n",
    "        \n",
    "        \n",
    "    @property\n",
    "    def public_key(self) -> gmpy2.mpz:\n",
    "        \"\"\"\n",
    "        Получение открытого ключа клиента.\n",
    "        \"\"\"\n",
    "        \n",
    "        return self._public_key\n",
    "        \n",
    "        \n",
    "    @property\n",
    "    def identifier(self) -> uuid.UUID:\n",
    "        \"\"\"\n",
    "        Получение идентификатора клиента.\n",
    "        \"\"\"\n",
    "        \n",
    "        return self._id"
   ]
  },
  {
   "cell_type": "code",
   "execution_count": 16,
   "id": "2cb3df47",
   "metadata": {},
   "outputs": [],
   "source": [
    "class SchnorrVerifier(object):\n",
    "    def __init__(self, parameters, security_parameter):\n",
    "        \"\"\"\n",
    "        Инициализация проверяющего. Фактически только закрепляет параметры протокола.\n",
    "        \"\"\"\n",
    "        \n",
    "        self._p, self._q, self._g = parameters\n",
    "        self._security_parameter = security_parameter\n",
    "        \n",
    "        assert security_parameter > 0 and 2 ** security_parameter < self._q\n",
    "        \n",
    "        self._e_values = set()\n",
    "        \n",
    "        \n",
    "    def authenticate(self, client: SchnorrClient, ca: SchnorrCA) -> bool:\n",
    "        \"\"\"\n",
    "        Аутентификация клиента. На вход принимает дескрипторы клиента и СА.\n",
    "        Возвращает True в случае успешной аутентификации.\n",
    "        \"\"\"\n",
    "        \n",
    "        #\n",
    "        # Получаю с клиента x и его сертификат\n",
    "        #\n",
    "        \n",
    "        x, cert = client.get_x(), client.certificate\n",
    "        trace('[SchnorrVerifier]', f'{x = }')\n",
    "        \n",
    "        #\n",
    "        # Если сертификат битый или невалидный, то это плохо\n",
    "        #\n",
    "        \n",
    "        if not ca.verify_certificate(cert):\n",
    "            trace('[SchnorrVerifier]', f'Invalid certificate {cert}')\n",
    "            return False\n",
    "            \n",
    "        #\n",
    "        # Генерирую число е и отдаю его клиенту\n",
    "        #\n",
    "            \n",
    "        e = randint(1, 2 ** self._security_parameter)\n",
    "        while e in self._e_values:\n",
    "            e = randint(1, 2 ** self._security_parameter)\n",
    "            \n",
    "        self._e_values.add(e)        \n",
    "        trace('[SchnorrVerifier]', f'{e = }')\n",
    "        \n",
    "        y = client.get_y(e, self._security_parameter)\n",
    "        trace('[SchnorrVerifier]', f'{y = }')\n",
    "        \n",
    "        #\n",
    "        # Вычисляю значение, которое необходимо сравнить с полученным от клиента х\n",
    "        # И сразу же сравниваю их\n",
    "        # \n",
    "        \n",
    "        product = gmpy2.mul(gmpy2.powmod(self._g, y, self._p), \n",
    "                            gmpy2.powmod(client.public_key, e, self._p))\n",
    "        z = gmpy2.t_mod(product, self._p)\n",
    "        trace('[SchnorrVerifier]', f'{z = }')\n",
    "        \n",
    "        return z == x"
   ]
  },
  {
   "cell_type": "markdown",
   "id": "83c95ba2",
   "metadata": {},
   "source": [
    "----"
   ]
  },
  {
   "cell_type": "code",
   "execution_count": 17,
   "id": "cddf2c66",
   "metadata": {},
   "outputs": [
    {
     "name": "stdout",
     "output_type": "stream",
     "text": [
      "[TRACE] [SchnorrCA] p = mpz(21843055627881061533855993905068335366190476373292765009013677277199343736773077065428946022226517784459529940112254533842936978200170983623192087965078524259221583032082753222889085733905158166484011521671144111184617009292205595920455255289953165966816002541399294170210847131219300733691089449873620993759), q = mpz(1368590255070031019598797209154856682581870552979), g = mpz(4811773995078007022877454468942371638539066582946301856013246865184559309776519296823169214738560858370270939289948489133524892831518290820968060260542034760183261566413404824100307402730388299584554384433184411739152467542864943396218269311873521597530907788317927818635529076977347585610984595355474510409)\n",
      "[TRACE] [SchnorrCA] RSA public key = (65537, 679518375599511893609353968585068214256802717693685894123706907226356250844609364831114699446216579659743775613411354245281519238677270699242476248388908285918255159368998344090269185912913921988033527369453560434351656936588364188873701152507012218537494431893162071299830579634820752395189925286204118324901349109755453913538212476450981950538278001847967195742770234063171176961631421741469906885784403742622067813858139036844451073493410619684963060813797745029991384664392856046127309000750611363736211072337585093910037516549482235170137700504073854245935324508914170472629586299567060949303262292350684011913107158339536271712340388684253154444801732641803533195951327299387497732620365423108418309268299619830626646830249727018305249705563528107703095996834297171000454578591964890009088177167902548940412831110730245774851135663266553568358838581569532742612782249926156101292222054530993318225541207924467274933989685911927479745022551004435645739346740188779756516899282475704500077020307469173564594795513378459357066568378992795064775308170499884711510832943988597353049713729032780182616578247203629372223843141318450647210920615171921822113046411789730922953997114639389813653603510608852703680774182198365873339674209)\n"
     ]
    }
   ],
   "source": [
    "# Создаю доверенный центр\n",
    "ca = SchnorrCA()"
   ]
  },
  {
   "cell_type": "code",
   "execution_count": 18,
   "id": "6378512d",
   "metadata": {},
   "outputs": [
    {
     "name": "stdout",
     "output_type": "stream",
     "text": [
      "[TRACE] [SchnorrClient] Client 3205e579-a43e-444b-ab88-2a6ba7079878\n",
      "[TRACE] [SchnorrClient] Public key = 11040610787771164140264605032679072778125183166780633211496940499298095620258398760738590176537387202756587178884029230920677152964536846618287821823423841795519392495889352127793070597419659393654389684722980055539418701872567347940382078124030058535784521383990221608211697097871692785559453094211220722834\n"
     ]
    }
   ],
   "source": [
    "# Создам Алису - валидного пользователя\n",
    "alice = SchnorrClient(ca.parameters)"
   ]
  },
  {
   "cell_type": "code",
   "execution_count": 19,
   "id": "b8112a56",
   "metadata": {},
   "outputs": [
    {
     "name": "stdout",
     "output_type": "stream",
     "text": [
      "[TRACE] [SchnorrCA] Certificate = (UUID('3205e579-a43e-444b-ab88-2a6ba7079878'), mpz(11040610787771164140264605032679072778125183166780633211496940499298095620258398760738590176537387202756587178884029230920677152964536846618287821823423841795519392495889352127793070597419659393654389684722980055539418701872567347940382078124030058535784521383990221608211697097871692785559453094211220722834), b'\\x0c\\x1c]\\xa2\\x9a1\\xd3\\x00r,-\\xe5\\x91\\xbb\\xf9!\\xef\\x9d\\xef\\x80z\\x1b:Vx\\x08\"#E\\xdc\\xa5f\\xf73\\xb9\\xfe\\xe9w\\xde\\x1e\\xe5\\xe9\\xa5\\xb1\\xec\\xfa\\x8d\\xa7\\xedV\\x89tl\\xe6X\\xe6\\xc38cn4\\x11\"\\x1c7g\\xa2fTz8\\xc71d\\xc1^\\x1b\\xf1\\xb6{\\x88\\xd3\\xf3\\t\\xab\\x90\\xfd\\x14Z@\\xdb\\xd3\\xb0\\xa8\\x1do\\x05d`G\\x1a\\xb3\\xe2\\xa0\\x85\\x88\\xa7\\xeb0\\xb8]\\xab\\x83AK\\xdapn G\\x0f\\x84Y\\xc9\\xe0E\\x1fm+\\xd2n6\\xfb\\x96\\xa6\\'\\xb3\\xfd,\\xf0\\xcaG\\xf2h\\x83U\\xea\\xaf/\\x0c\\xb9\\x98\\x84K\\xdc\\xa6\\x95\\xc5&\\xf4\\xb3\\xfc\\xb6\\xaf\\xba\\x14]\\'\\x9a\\x1a\\xecs\\x05\\xaf(\\x9e\\x9ceL\\x98J\\xc5\\xca\\xcf\\xcc!\\xda \\xc3\\x83\\x99\\xffS\\x19\\xd8\\xdc;Px=\\xaf\\xd22\\xf4\\x16\\x84T/A\\x1c:_\\r#\\x81ys\\xce\\xa1\\x8e\\x9e\\xde\\xa9\\xf3\\x92\\xbb\\xc1\\x12\\xe8\\xa6\\xb3<\\x86\\xf3\\xb1f\\x0b\\xb1*\\xe5.A\\xde\\x89\\x10\\xe1h\\x99\\xe5\\xeb9h|[\\xf0\\xd5Rr\\xacpdZ\\xae\\xab\\n\\r\\x8bt\\x00\\xa3\\xc8\\xe0\\xf4\\xb9\\xace\\xc2\\n\\x86\\x00\\xc9iz-=\\x1e_f\\xe7\\xb7\\xac\\xf7\\xe6\\xd5\\xf1\\xd0x\\xc7p\\xde\\x0e\\x97\\x94\\x05B\\xa9~\\xc4m\\xc6@\\xaf\\x05\\x08\\xee\\xdc\\xbeIO\\xa2\\xda~p1\\xb0\\xff\\t\\x1f\\x9e\\xb2w\\x14\\xce$\\x85_\\xa6\\x06\\xa6\\xfc\\xea\\x94\\x9b \\xba\\x99K\\xbc\\x9f\\x02&\\x83\\xd0\\x1ci\\x7f\"al\\xd6\\xe4\\xd1%A\\xa2\\xdb\\xc0\\x9ckW\\xc5\\xb8\\x8b\\xaa\\x0f\\xabk\\x98\\xe7I*\\xcc0\\xea\\xb0\\x97\\x0f\\x19P\\xb6\\x02\\x05\\xb2\\x0b\\xdc\\x06\\xa7m\\x13\\x94\\xafT\\xdb\\xca\"\\xa5\\xefB\\x84@(l\\xbf\\xdb;\\xe9\\x80\\xc7{\\xe6\\xfa\\xbb\\xbe\\xfc]\\xf8\\xa7C\\xa1\\'@6\\xf6\\xac\\xc3\\xd2\\x8c\\xd6\\x8f\\x1d\\x92\\x19\\x16\\xc3\\x8f\\xa5\\x80\\xf0\\xaeq[\\x7f\\xeeK\\xe6\\xd4#n`\\t\\xdd\\x9d\\x19\\x0f\\xd9\\x9c&\\x12\\xa2CD\\x87\\x9d VM\\xe6eY\\xbd\\xba\\xadd\\x87\\xeb\\xd6\\x9e\\x83\\xd5\\n8\\x112\\\\\\x90\\x11\\xc0\\x1d\\xea/\\xb6\\x97\\xc6\\x89ny>\\x8aJx\\xd8\\xc2')\n"
     ]
    }
   ],
   "source": [
    "# Регистрирую валидного пользователя\n",
    "alice.register(ca)"
   ]
  },
  {
   "cell_type": "code",
   "execution_count": 20,
   "id": "e24fe42f",
   "metadata": {},
   "outputs": [],
   "source": [
    "# Параметр безопасности положим равным 10 для демонстрации\n",
    "security_parameter = 10\n",
    "\n",
    "# Создаю проверяющую сторону\n",
    "verifier = SchnorrVerifier(ca.parameters, security_parameter)"
   ]
  },
  {
   "cell_type": "code",
   "execution_count": 21,
   "id": "92a78ccf",
   "metadata": {},
   "outputs": [
    {
     "name": "stdout",
     "output_type": "stream",
     "text": [
      "[TRACE] [SchnorrVerifier] x = mpz(11795176220582379145026343947476400323166481279523997748835033851615544156365426936756379170883304011454292273438400195120531786710342014589012674970277714035591975874760418233313981309155793334419945434793783932622379351863839969587844685678185043855750791177802802159383517300106198010880703156419510941908)\n",
      "[TRACE] [SchnorrVerifier] e = mpz(817)\n",
      "[TRACE] [SchnorrVerifier] y = mpz(536386192056873017601376283530884127083462697614)\n",
      "[TRACE] [SchnorrVerifier] z = mpz(11795176220582379145026343947476400323166481279523997748835033851615544156365426936756379170883304011454292273438400195120531786710342014589012674970277714035591975874760418233313981309155793334419945434793783932622379351863839969587844685678185043855750791177802802159383517300106198010880703156419510941908)\n"
     ]
    },
    {
     "data": {
      "text/plain": [
       "True"
      ]
     },
     "execution_count": 21,
     "metadata": {},
     "output_type": "execute_result"
    }
   ],
   "source": [
    "# Произвожу аутентификацию валидного пользователя\n",
    "verifier.authenticate(alice, ca)"
   ]
  },
  {
   "cell_type": "code",
   "execution_count": 22,
   "id": "6c69b402",
   "metadata": {},
   "outputs": [
    {
     "name": "stdout",
     "output_type": "stream",
     "text": [
      "[TRACE] [SchnorrClient] Client 3205e579-a43e-444b-ab88-2a6ba7079878\n",
      "[TRACE] [SchnorrClient] Public key = 11040610787771164140264605032679072778125183166780633211496940499298095620258398760738590176537387202756587178884029230920677152964536846618287821823423841795519392495889352127793070597419659393654389684722980055539418701872567347940382078124030058535784521383990221608211697097871692785559453094211220722834\n"
     ]
    }
   ],
   "source": [
    "# Создаю Еву - клиента, который пытается представиться Алисой\n",
    "eve = SchnorrClient(ca.parameters, \n",
    "                    fake_data=(alice.identifier, alice.public_key, alice.certificate))"
   ]
  },
  {
   "cell_type": "code",
   "execution_count": 23,
   "id": "4e14c936",
   "metadata": {},
   "outputs": [
    {
     "name": "stdout",
     "output_type": "stream",
     "text": [
      "[TRACE] [SchnorrVerifier] x = mpz(10046386103460235446380523081827918324924651569473675232910009433211152831314253016121144019587629177312868437065520098871249755618756707915841988766951600043385615089093735122224123731480119945156625006485625325579093252786801122526918243839888333188390750607994753334851222214949651436417199261784412604710)\n",
      "[TRACE] [SchnorrVerifier] e = mpz(717)\n",
      "[TRACE] [SchnorrVerifier] y = mpz(1097821162142371085909746378572521339578474624248)\n",
      "[TRACE] [SchnorrVerifier] z = mpz(15232364513263369532873916665684223776779184903066382796017151197278762315163844004695233998336924559704720984906945215519701515620132702432955338584762711501213273323390592743170533867963249499540564743135938510963216571927292151651026145668305964839053893107468488897312337836138105297880901182522072065716)\n"
     ]
    },
    {
     "data": {
      "text/plain": [
       "False"
      ]
     },
     "execution_count": 23,
     "metadata": {},
     "output_type": "execute_result"
    }
   ],
   "source": [
    "# Произвожу аутентификацию невалидного пользователя\n",
    "verifier.authenticate(eve, ca)"
   ]
  },
  {
   "cell_type": "code",
   "execution_count": null,
   "id": "f4f4d5d0",
   "metadata": {},
   "outputs": [],
   "source": []
  }
 ],
 "metadata": {
  "kernelspec": {
   "display_name": "Python 3 (ipykernel)",
   "language": "python",
   "name": "python3"
  },
  "language_info": {
   "codemirror_mode": {
    "name": "ipython",
    "version": 3
   },
   "file_extension": ".py",
   "mimetype": "text/x-python",
   "name": "python",
   "nbconvert_exporter": "python",
   "pygments_lexer": "ipython3",
   "version": "3.9.10"
  }
 },
 "nbformat": 4,
 "nbformat_minor": 5
}
