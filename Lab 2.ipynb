{
 "cells": [
  {
   "cell_type": "markdown",
   "id": "106168dc",
   "metadata": {},
   "source": [
    "# Протоколы аутентификации с нулевым разглашением"
   ]
  },
  {
   "cell_type": "code",
   "execution_count": 1,
   "id": "4a343351",
   "metadata": {},
   "outputs": [],
   "source": [
    "IS_DEBUG = 1"
   ]
  },
  {
   "cell_type": "code",
   "execution_count": 2,
   "id": "34caa6a0",
   "metadata": {},
   "outputs": [],
   "source": [
    "def trace(*args, **kwargs):\n",
    "    \"\"\"\n",
    "    Отладочная трассировка\n",
    "    \"\"\"\n",
    "    \n",
    "    global IS_DEBUG\n",
    "    if IS_DEBUG:\n",
    "        print('[TRACE]', end=' ')\n",
    "        print(*args, **kwargs)"
   ]
  },
  {
   "cell_type": "markdown",
   "id": "cc0a54f3",
   "metadata": {},
   "source": [
    "---"
   ]
  },
  {
   "cell_type": "code",
   "execution_count": 3,
   "id": "de92ae59",
   "metadata": {},
   "outputs": [],
   "source": [
    "# Генерация простых чисел\n",
    "from Crypto.Util import number\n",
    "\n",
    "# КГПСЧ\n",
    "from Crypto.Random import random\n",
    "\n",
    "# Понадобится в протоколе Шнорра\n",
    "from Crypto.PublicKey import RSA\n",
    "from Crypto.Signature import pss\n",
    "from Crypto.Hash import SHA256\n",
    "\n",
    "# Немного математики\n",
    "import gmpy2\n",
    "\n",
    "# Для генерации идентификаторов клиентов\n",
    "import uuid"
   ]
  },
  {
   "cell_type": "markdown",
   "id": "cb741152",
   "metadata": {},
   "source": [
    "---"
   ]
  },
  {
   "cell_type": "code",
   "execution_count": 4,
   "id": "f2b2a63e",
   "metadata": {},
   "outputs": [],
   "source": [
    "def randint(a, b) -> gmpy2.mpz:\n",
    "    \"\"\"\n",
    "    Генерация случайного числа в отрезке [a, b] с помощью КГПСЧ с поддержкой gmpy2\n",
    "    \"\"\"\n",
    "    \n",
    "    native_a = int(a)\n",
    "    native_b = int(b)\n",
    "    \n",
    "    return gmpy2.mpz(random.randint(native_a, native_b))\n",
    "\n",
    "\n",
    "def getrandbits(n) -> gmpy2.mpz:\n",
    "    \"\"\"\n",
    "    Генерация случайного числа длиной n бит с помощью КГПСЧ с поддержкой gmpy2\n",
    "    \"\"\"\n",
    "    \n",
    "    native_n = int(n)\n",
    "    \n",
    "    return gmpy2.mpz(random.getrandbits(native_n))"
   ]
  },
  {
   "cell_type": "markdown",
   "id": "f535aa56",
   "metadata": {},
   "source": [
    "----"
   ]
  },
  {
   "cell_type": "markdown",
   "id": "6d0f7585",
   "metadata": {},
   "source": [
    "## Протокол Фиата-Шамира\n",
    "![Fiat-Shamir Protocol](./images/Fiat-Shamir_2.png)"
   ]
  },
  {
   "cell_type": "code",
   "execution_count": 5,
   "id": "fa6d8a01",
   "metadata": {},
   "outputs": [],
   "source": [
    "class FiatShamirCA(object):\n",
    "    PRIME_BITS = 1024\n",
    "    \n",
    "    def __init__(self):\n",
    "        \"\"\"\n",
    "        Инициализация доверенного центра.\n",
    "        Генерируются два простых числа и их произведение.\n",
    "        \"\"\"\n",
    "        \n",
    "        self._db = {}\n",
    "        \n",
    "        self._p = number.getPrime(FiatShamirCA.PRIME_BITS)\n",
    "        self._q = number.getPrime(FiatShamirCA.PRIME_BITS)\n",
    "        self._modulus = gmpy2.mul(self._p, self._q)\n",
    "        \n",
    "        trace('[FiatShamirCA]', f'Modulus = {self._modulus}')\n",
    "        \n",
    "        \n",
    "    def register_client(self, client_id: uuid.UUID, client_public_key: gmpy2.mpz) -> None:\n",
    "        \"\"\"\n",
    "        Регистрация клиента. На вход принимает идентификатор клиента и его открытый ключ.\n",
    "        Ничего не возвращает.\n",
    "        Выбрасывает исключение, если клиент уже существует.\n",
    "        \"\"\"\n",
    "        \n",
    "        trace('[FiatShamirCA]', f'''Attempting to register client {client_id} \n",
    "        with public key {client_public_key}''')\n",
    "        \n",
    "        if client_id in self._db:\n",
    "            trace('[FiatShamirCA]', 'User already exists')\n",
    "            raise ValueError(f'Client {client_id} is already registered')\n",
    "            \n",
    "        #\n",
    "        # Теперь сохраняю открытый ключ\n",
    "        #\n",
    "        \n",
    "        self._db[client_id] = client_public_key\n",
    "        trace('[FiatShamirCA]', 'Client registered successfully')\n",
    "        \n",
    "        \n",
    "    def get_public_key(self, client_id: uuid.UUID) -> gmpy2.mpz:\n",
    "        \"\"\"\n",
    "        Получение открытого ключа клиента. Получает на вход идентификатор клиента.\n",
    "        Возвращает открытый ключ.\n",
    "        Выбрасывает исключение, если пользователь отсутствует.\n",
    "        \"\"\"\n",
    "        \n",
    "        return self._db[client_id]\n",
    "       \n",
    "        \n",
    "    @property\n",
    "    def modulus(self) -> gmpy2.mpz:\n",
    "        \"\"\"\n",
    "        Возвращает модуль.\n",
    "        \"\"\"\n",
    "        \n",
    "        return self._modulus"
   ]
  },
  {
   "cell_type": "code",
   "execution_count": 6,
   "id": "0c7c49db",
   "metadata": {},
   "outputs": [],
   "source": [
    "class FiatShamirClient(object):\n",
    "    def __init__(self, modulus: gmpy2.mpz, *,\n",
    "                 fake_data: tuple[uuid.UUID, gmpy2.mpz] = None):\n",
    "        \"\"\"\n",
    "        Инициализация клиента с выработкой ключевой пары и идентификатора.\n",
    "        Последний параметр требуются для демонстрации неудачной аутентификации.\n",
    "        \"\"\"\n",
    "        \n",
    "        self._id = uuid.uuid4() if fake_data is None else fake_data[0]\n",
    "        self._r = None\n",
    "        \n",
    "        self._private_key = FiatShamirClient._generate_coprime(modulus)\n",
    "        self._public_key = gmpy2.powmod(self._private_key, 2, modulus) if fake_data is None else fake_data[1]\n",
    "        \n",
    "        trace('[FiatShamirClient]', f'Client {self._id}')\n",
    "        trace('[FiatShamirClient]', f'Public key = {self._public_key}')\n",
    "        \n",
    "        \n",
    "    @property\n",
    "    def public_key(self) -> gmpy2.mpz:\n",
    "        \"\"\"\n",
    "        Получение открытого ключа.\n",
    "        \"\"\"\n",
    "        \n",
    "        return self._public_key\n",
    "    \n",
    "    \n",
    "    @property\n",
    "    def identifier(self) -> uuid.UUID:\n",
    "        \"\"\"\n",
    "        Получение идентификатора.\n",
    "        \"\"\"\n",
    "        \n",
    "        return self._id\n",
    "    \n",
    "    \n",
    "    def get_x(self, modulus: gmpy2.mpz) -> gmpy2.mpz:\n",
    "        \"\"\"\n",
    "        Получение случайного значения, вычисляемого по формуле:\n",
    "                    x = r ** 2 mod n,\n",
    "        где n - модуль, r - случайное целое число из отрезка [1, n - 1].\n",
    "        Значение r сохраняется.\n",
    "        \"\"\"\n",
    "        \n",
    "        self._r = randint(1, modulus - 1)\n",
    "        return gmpy2.powmod(self._r, 2, modulus)\n",
    "    \n",
    "    \n",
    "    def get_y(self, e: gmpy2.mpz, modulus: gmpy2.mpz) -> gmpy2.mpz:\n",
    "        \"\"\"\n",
    "        Получение числа, вычисляемого по формуле:\n",
    "                    y = r * s ** e mod n,\n",
    "        где n - модуль, s - закрытый ключ пользователя, r - сгенерированное \n",
    "        функцией get_x внутреннее значение, e - целое число из отрезка [0, 1],\n",
    "        пришедшее от проверяющего.\n",
    "        \"\"\"\n",
    "        \n",
    "        product = gmpy2.mul(self._r, gmpy2.powmod(self._private_key, e, modulus))\n",
    "        return gmpy2.t_mod(product, modulus)\n",
    "        \n",
    "        \n",
    "    @staticmethod\n",
    "    def _generate_coprime(modulus: gmpy2.mpz) -> gmpy2.mpz:\n",
    "        \"\"\"\n",
    "        Генерация случайного числа из отрезка [1, n - 1], взаимно\n",
    "        простого с n, где n - модуль.\n",
    "        \"\"\"\n",
    "        \n",
    "        #\n",
    "        # Генерирую число до тех пор, пока оно не станет взаимно простым с модулем\n",
    "        #\n",
    "        \n",
    "        result = randint(1, modulus - 1)\n",
    "        while gmpy2.gcd(result, modulus) != 1:\n",
    "            result = randint(1, modulus - 1)\n",
    "            \n",
    "        return result"
   ]
  },
  {
   "cell_type": "code",
   "execution_count": 7,
   "id": "4b83de98",
   "metadata": {},
   "outputs": [],
   "source": [
    "class FiatShamirVerifier(object):\n",
    "    def __init__(self, iterations: int):\n",
    "        \"\"\"\n",
    "        Инициализация проверяющего. Задает коичество итераций проверки.\n",
    "        \"\"\"\n",
    "        \n",
    "        self._iterations = iterations\n",
    "        \n",
    "        \n",
    "    def authenticate(self, client: FiatShamirClient, ca: FiatShamirCA) -> bool:\n",
    "        \"\"\"\n",
    "        Аутентификация клиента. На вход принимает дескрипторы клиента и СА.\n",
    "        Возвращает True в случае успешной аутентификации.\n",
    "        \"\"\"\n",
    "        \n",
    "        trace('[FiatShamirVerifier]', f'Attempt to authenticate client {client.identifier}')\n",
    "        trace('[FiatShamirVerifier]', f'Number of iterations = {self._iterations}')\n",
    "        \n",
    "        is_successful = True\n",
    "        \n",
    "        for i in range(self._iterations):\n",
    "            x = client.get_x(ca.modulus)\n",
    "            trace('[FiatShamirVerifier]', f'[Iteration {i + 1}] {x = }')\n",
    "            \n",
    "            e = randint(0, 1)\n",
    "            trace('[FiatShamirVerifier]', f'[Iteration {i + 1}] {e = }')\n",
    "            \n",
    "            y = client.get_y(e, ca.modulus)\n",
    "            trace('[FiatShamirVerifier]', f'[Iteration {i + 1}] {y = }')\n",
    "            \n",
    "            pk = ca.get_public_key(client.identifier)\n",
    "            product = gmpy2.mul(x, gmpy2.powmod(pk, e, ca.modulus))\n",
    "            \n",
    "            successful_iteration = gmpy2.powmod(y, 2, ca.modulus) == gmpy2.t_mod(product, ca.modulus)\n",
    "            is_successful &= successful_iteration\n",
    "            \n",
    "            trace('[FiatShamirVerifier]', f'[Iteration {i + 1}] success: {successful_iteration}')\n",
    "            \n",
    "            if not successful_iteration:\n",
    "                break\n",
    "            \n",
    "        print(f'Authentication successful: {is_successful}')\n",
    "        return is_successful"
   ]
  },
  {
   "cell_type": "markdown",
   "id": "0619aa11",
   "metadata": {},
   "source": [
    "----"
   ]
  },
  {
   "cell_type": "code",
   "execution_count": 8,
   "id": "38249da2",
   "metadata": {},
   "outputs": [
    {
     "name": "stdout",
     "output_type": "stream",
     "text": [
      "[TRACE] [FiatShamirCA] Modulus = 13259308990068677248458814546655642110686212163633534988815383338310479145526660581908639346320465565095161582896480982141993175548326119533240579155396635685701737031626124288999159490935947720681151107749301472952873777982216656569913096012114126690660837033408733761519379711611293873626825973892012923032312569443626466347612297171229597716722821508722502415605404689774248571730075956992596265415052876739582826902573365792946376165477155331756837294077711080013406998125583890170608021380229162301382539492944261965689663319182347351092647149409244122953896278941862427224960421938840768606322399500400220518777\n"
     ]
    }
   ],
   "source": [
    "# Создаю доверенный центр\n",
    "ca = FiatShamirCA()"
   ]
  },
  {
   "cell_type": "code",
   "execution_count": 9,
   "id": "0610769c",
   "metadata": {},
   "outputs": [
    {
     "name": "stdout",
     "output_type": "stream",
     "text": [
      "[TRACE] [FiatShamirClient] Client 0ee06dea-b96e-45c5-9beb-7d6f7d7764d3\n",
      "[TRACE] [FiatShamirClient] Public key = 10361570848189380083744207830969150117573113129587314452254405521415791426065325960357539526741064458129436446009748019681022204557979377534231949665779760983282334792962674635862543806053686444086849470583096677362481613737021884164106765192787905303925085042675382485027534673787034802885941957854339706511243357094172967379470849993203602451824159854827225253842320687784278649414726076567826809417005261250576186133274210810482734210275789948016139023134997328772371726390926224145186653834427742419482300958418373735645880606512980925777049025418218085293490332163024966002058348139783101769936372966738535949971\n",
      "[TRACE] [FiatShamirClient] Client 0ee06dea-b96e-45c5-9beb-7d6f7d7764d3\n",
      "[TRACE] [FiatShamirClient] Public key = 10361570848189380083744207830969150117573113129587314452254405521415791426065325960357539526741064458129436446009748019681022204557979377534231949665779760983282334792962674635862543806053686444086849470583096677362481613737021884164106765192787905303925085042675382485027534673787034802885941957854339706511243357094172967379470849993203602451824159854827225253842320687784278649414726076567826809417005261250576186133274210810482734210275789948016139023134997328772371726390926224145186653834427742419482300958418373735645880606512980925777049025418218085293490332163024966002058348139783101769936372966738535949971\n"
     ]
    }
   ],
   "source": [
    "# Создаю двух пользователей:\n",
    "# - Алису - валидного пользователя\n",
    "# - Еву - пользователя, представляющегося Алисой. но не знающего закрытого ключа Алисы\n",
    "alice = FiatShamirClient(ca.modulus)\n",
    "eve = FiatShamirClient(ca.modulus, \n",
    "                       fake_data=(alice.identifier, alice.public_key))"
   ]
  },
  {
   "cell_type": "code",
   "execution_count": 10,
   "id": "93d9f546",
   "metadata": {},
   "outputs": [
    {
     "name": "stdout",
     "output_type": "stream",
     "text": [
      "[TRACE] [FiatShamirCA] Attempting to register client 0ee06dea-b96e-45c5-9beb-7d6f7d7764d3 \n",
      "        with public key 10361570848189380083744207830969150117573113129587314452254405521415791426065325960357539526741064458129436446009748019681022204557979377534231949665779760983282334792962674635862543806053686444086849470583096677362481613737021884164106765192787905303925085042675382485027534673787034802885941957854339706511243357094172967379470849993203602451824159854827225253842320687784278649414726076567826809417005261250576186133274210810482734210275789948016139023134997328772371726390926224145186653834427742419482300958418373735645880606512980925777049025418218085293490332163024966002058348139783101769936372966738535949971\n",
      "[TRACE] [FiatShamirCA] Client registered successfully\n"
     ]
    }
   ],
   "source": [
    "# Регистрирую валидного пользователя\n",
    "ca.register_client(alice.identifier, alice.public_key)"
   ]
  },
  {
   "cell_type": "code",
   "execution_count": 11,
   "id": "9e40d678",
   "metadata": {},
   "outputs": [],
   "source": [
    "# Для простоты будет 3 итерации\n",
    "ITERATIONS = 3\n",
    "\n",
    "# Создаю проверяющую сторону\n",
    "verifier = FiatShamirVerifier(ITERATIONS)"
   ]
  },
  {
   "cell_type": "code",
   "execution_count": 12,
   "id": "b78d5d03",
   "metadata": {},
   "outputs": [
    {
     "name": "stdout",
     "output_type": "stream",
     "text": [
      "[TRACE] [FiatShamirVerifier] Attempt to authenticate client 0ee06dea-b96e-45c5-9beb-7d6f7d7764d3\n",
      "[TRACE] [FiatShamirVerifier] Number of iterations = 3\n",
      "[TRACE] [FiatShamirVerifier] [Iteration 1] x = mpz(12657467969693482410728961634793573017715180097016059079982173997510874143344414431601288673209436419098442456148210383291325844587921121541525350664796310904807334597032108074093594713756445612197742023667842082362051776071447906221208581848784249754126465449041649333914775886093343224736076073736479107401831593115099432576780523586895686844803643607121684755910736699518018176112231583414612270370620579911893245822499629100807960862334015105027559968806404325865869048260103226757966345740384801964986917240146435485334623032070000157124816374939070784332781656413237063057307866506999564030900463624466863215282)\n",
      "[TRACE] [FiatShamirVerifier] [Iteration 1] e = mpz(0)\n",
      "[TRACE] [FiatShamirVerifier] [Iteration 1] y = mpz(3760981405054803017785845663336288832299438366870384378347691073301462710457911017272641030366429101623892460626616439318055686126327724850724347985650475525375433523953368851067945153322291150872841896405063694437959275583846089333203195477288757601780304390525673424183545856071703712029773084567764040926619935447123111042871921007506385045167537840307209414231791109184396163004861584119456766779155225529316996518909309687573380867308057859562165281682879694797223499153438795030001471151445718247274301446536067241332075338726999596741272197902506058395756448759346452231665983347543334864565734913769255298534)\n",
      "[TRACE] [FiatShamirVerifier] [Iteration 1] success: True\n",
      "[TRACE] [FiatShamirVerifier] [Iteration 2] x = mpz(3412729188092940094849303828424692670975998834457138550630981908186753294235910231789736129890924829356598721383905527988570241959275987341669668399174310156141372078857257797048763383731094080565946466884266104335087150208647972383799352581689484838901301748531368632747098308733132111446005586233260901845033868095713013461319008412072094641904986397973703251169227331778183234525593385910054419913113832409702522002663722192526812421224524337584926140817104092484262594037748109158257379964771977854699955457773580795232529555113534008668943983565621963925289533616307482184918670404389371278222927506463468180777)\n",
      "[TRACE] [FiatShamirVerifier] [Iteration 2] e = mpz(1)\n",
      "[TRACE] [FiatShamirVerifier] [Iteration 2] y = mpz(4118165516545064838622761631103457631132610896967086487188174474292716422158473304575447018936976917182803833282111738708958829035151721124525132849432303889610006219672253043091484922988508769811544679200682259394418634122758639049210848515824743568471437933878968699582054756472231813173850613351226447598296951185202804810960534411630494512906824016974168777083983356296681957580282535076393021470303348357008055403308300535412832351918343638297471696384427778380891917135381576439814239092111869233542261176574469985833854662808127529017243278497102565439823472460528475912545142089232658337795985212707636417624)\n",
      "[TRACE] [FiatShamirVerifier] [Iteration 2] success: True\n",
      "[TRACE] [FiatShamirVerifier] [Iteration 3] x = mpz(6732812746450561371075220869006442260426632409447814214702962832471201158613860637304498565743496203164263765772694395364518117503103428920508995617331348963586882852221604065947263154672170821261575432425916660358346641991205352944738480359662630999027037495631427932257283431263319348389001224170784372745274141191485444468551489750649594463425588827880196506417012461544716097919348027140062209487646250200148824581603845536816106006821284292653323657284899818560118357198878747111752914395773311582665575860293811756502957419366629484837716348449383275406438690117058584990195168430855945915082087982950326118395)\n",
      "[TRACE] [FiatShamirVerifier] [Iteration 3] e = mpz(1)\n",
      "[TRACE] [FiatShamirVerifier] [Iteration 3] y = mpz(12959661945921166301779051906013889940210565020672652876271858140648432518411969779084029006655604861126268676507054187300860500969537654314832104574106858472941250584092832755401636966305455712973463573448459444131556658406438610941519828037652253809512802504705367113446567004739772277681455136391635577306841723260043505592803373458079202681211149322403962337020164015317871810805175720300607478037413151187719119471347158356360634765448142720869466992041587083560721129349138477229092262995230305841679407691763620685424513022566786791320611763930764333248623932990399570857260934381367184242093676392421636059562)\n",
      "[TRACE] [FiatShamirVerifier] [Iteration 3] success: True\n",
      "Authentication successful: True\n"
     ]
    },
    {
     "data": {
      "text/plain": [
       "True"
      ]
     },
     "execution_count": 12,
     "metadata": {},
     "output_type": "execute_result"
    }
   ],
   "source": [
    "# Произвожу аутентификацию валидного пользователя\n",
    "verifier.authenticate(alice, ca)"
   ]
  },
  {
   "cell_type": "code",
   "execution_count": 13,
   "id": "9af63972",
   "metadata": {},
   "outputs": [
    {
     "name": "stdout",
     "output_type": "stream",
     "text": [
      "[TRACE] [FiatShamirVerifier] Attempt to authenticate client 0ee06dea-b96e-45c5-9beb-7d6f7d7764d3\n",
      "[TRACE] [FiatShamirVerifier] Number of iterations = 3\n",
      "[TRACE] [FiatShamirVerifier] [Iteration 1] x = mpz(6843340469725185686533452507313385102968373259328392856317959038900121168823077344574657776185971065377811103855849565711407765007490124328836825692044368899863381044389539309184960300328791938806848184887823539822342805959760440958832053400176730692370211953804184904541187485259786074549960832989271293483712633543069775176733566782004920256828446553301417470863752440584986659309325553986587293950811827022021256164778753826964281233429084539140991130625194943433892124271190317410633612550415163768799460224822447115592775978655063419149411040959214051197532434697442455448733157478020993143923103800553094164388)\n",
      "[TRACE] [FiatShamirVerifier] [Iteration 1] e = mpz(0)\n",
      "[TRACE] [FiatShamirVerifier] [Iteration 1] y = mpz(3869857190559943356567959543696268197010167863398549241513236070043300528455120422980324212831278216804232920511866908361547270694904993154918914502297207987981681424094476497093877215585831839387055368966512249836083626111218626449966289368609522620663082283262297475124342241270938089545306036617212567092560874527981472575619787616791237251573575677707533781856625174760844938068509866240567189804701384372015666763235391204487231423964451565840330873178399997876992075655082992894105373648870894085771968042547417813636033815735266431591131389989074592998933421341134454825194682168752965115386900275511093377957)\n",
      "[TRACE] [FiatShamirVerifier] [Iteration 1] success: True\n",
      "[TRACE] [FiatShamirVerifier] [Iteration 2] x = mpz(8449170043705956406436434739989320918532378096780028030090782583169888274446857890202163340355153616277185201755609166857038995706936226857486831190563545412442710894779676041016744075660194249545848605964994562282287044660568026098639925201016138987737010602696759703772286201341418972708215743464981494874861112655480260156634730945143962960343974403415292833990505688438340943796733907347847971519043085740354592993788119136787328072814334925722519990385915764369440369719680882300853197959433438153337956789502973628201651776741710801189901443256661720172298418231066610441647190543990249488736909641317777052403)\n",
      "[TRACE] [FiatShamirVerifier] [Iteration 2] e = mpz(1)\n",
      "[TRACE] [FiatShamirVerifier] [Iteration 2] y = mpz(3511085153619500280153038906971730404517577676284815923604260852443371932803725400693314007370599044997275728443274737393718216452670609930302199041922382488078521740662975204636143938414810801491144534208560705072149842813436986339502243497303644071908549408134946749654391784412053755494356567244368884146098787733291583272949406438572044641944199102876456483008771743829625302760960307453611722379241303101648409720387061821514092460000773319670093871824042571904598536324725278609420698320257048793328096129276032371534246240213264378755656312169335935038204530326003373949837051893687558911899470135163783519302)\n",
      "[TRACE] [FiatShamirVerifier] [Iteration 2] success: False\n",
      "Authentication successful: False\n"
     ]
    },
    {
     "data": {
      "text/plain": [
       "False"
      ]
     },
     "execution_count": 13,
     "metadata": {},
     "output_type": "execute_result"
    }
   ],
   "source": [
    "# Произвожу аутентификацию невалидного пользователя\n",
    "verifier.authenticate(eve, ca)"
   ]
  },
  {
   "cell_type": "markdown",
   "id": "72287ef6",
   "metadata": {},
   "source": [
    "---"
   ]
  },
  {
   "cell_type": "markdown",
   "id": "82d1c58b",
   "metadata": {},
   "source": [
    "## Протокол Шнорра\n",
    "![Schnorr Protocol](./images/Schnorr_2.png)"
   ]
  },
  {
   "cell_type": "code",
   "execution_count": 14,
   "id": "fc202515",
   "metadata": {},
   "outputs": [],
   "source": [
    "class SchnorrCA(object):\n",
    "    RSA_KEY_LENGTH = 4096\n",
    "    \n",
    "    def __init__(self):\n",
    "        \"\"\"\n",
    "        Инициализация доверенного центра\n",
    "        Генерация простых чисел p, q и элемента g, а также ключевой пары СА\n",
    "        \"\"\"\n",
    "        \n",
    "        self._db = {}\n",
    "        \n",
    "        #\n",
    "        # Генерация параметров протокола\n",
    "        #\n",
    "        \n",
    "        self._p, self._q, self._g = SchnorrCA._generate_parameters()\n",
    "        \n",
    "        #\n",
    "        # Ключевая пара RSA для СА\n",
    "        #\n",
    "        \n",
    "        self._private_key = RSA.generate(SchnorrCA.RSA_KEY_LENGTH)\n",
    "        self._public_key = self._private_key.publickey()\n",
    "        \n",
    "        trace('[SchnorrCA]', f'RSA public key = {(self._public_key.e, self._public_key.n)}')\n",
    "        \n",
    "        \n",
    "    def register_client(self, \n",
    "                        client_id: uuid.UUID, \n",
    "                        client_public_key: gmpy2.mpz) -> tuple[uuid.UUID, gmpy2.mpz, bytes]:\n",
    "        \"\"\"\n",
    "        Регистрация клиента. Принимает на вход идентификатор клиента и его открытый ключ.\n",
    "        Возвращает подписанный сервером сертификат.\n",
    "        Выбрасывает исключение, если клиент уже зарегистрирован.\n",
    "        \"\"\"\n",
    "        \n",
    "        if client_id in self._db:\n",
    "            trace('[SchnorrCA]', 'User already exists')\n",
    "            raise ValueError(f'Client {client_id} is already registered')\n",
    "            \n",
    "        #\n",
    "        # Создаю сертификат\n",
    "        #\n",
    "            \n",
    "        h = SHA256.new(str(client_id).encode() + number.long_to_bytes(int(client_public_key)))\n",
    "        signature = pss.new(self._private_key).sign(h)\n",
    "        \n",
    "        certificate = (client_id, client_public_key, signature)\n",
    "        trace('[SchnorrCA]', f'Certificate = {certificate}')\n",
    "        \n",
    "        #\n",
    "        # Сохраняю его и возвращаю\n",
    "        #\n",
    "        \n",
    "        self._db[client_id] = certificate\n",
    "        return certificate\n",
    "    \n",
    "    \n",
    "    def verify_certificate(self, certificate: tuple[uuid.UUID, gmpy2.mpz, bytes]) -> bool:\n",
    "        \"\"\"\n",
    "        Проверка сертификата.\n",
    "        Возвращает признак валидности сертификата.\n",
    "        \"\"\"\n",
    "        \n",
    "        client_id, client_public_key, signature = certificate\n",
    "        \n",
    "        if client_id not in self._db:\n",
    "            trace('[SchnorrCA]', f\"Client {client_id} doesn't exist\")\n",
    "            raise ValueError(\"Client doesn't exist\")\n",
    "            \n",
    "        h = SHA256.new(str(client_id).encode() + number.long_to_bytes(int(client_public_key)))\n",
    "        verifier = pss.new(self.public_key)\n",
    "        \n",
    "        try:\n",
    "            verifier.verify(h, signature)\n",
    "            return True\n",
    "        except:\n",
    "            return False\n",
    "        \n",
    "        \n",
    "    @property\n",
    "    def public_key(self):\n",
    "        \"\"\"\n",
    "        Получение открытого ключа СА.\n",
    "        \"\"\"\n",
    "        \n",
    "        return self._public_key\n",
    "    \n",
    "    \n",
    "    @property\n",
    "    def parameters(self) -> tuple[gmpy2.mpz, gmpy2.mpz, gmpy2.mpz]:\n",
    "        \"\"\"\n",
    "        Параметры протокола (p, q, g)\n",
    "        \"\"\"\n",
    "        \n",
    "        return self._p, self._q, self._g\n",
    "        \n",
    "        \n",
    "    @staticmethod\n",
    "    def _generate_parameters() -> tuple[gmpy2.mpz, gmpy2.mpz, gmpy2.mpz]:\n",
    "        \"\"\"\n",
    "        Генерация параметров протокола (p, q, g).\n",
    "        \"\"\"\n",
    "        \n",
    "        Q_LENGTH = 160\n",
    "        P_LENGTH = 1024\n",
    "        \n",
    "        q = gmpy2.mpz(number.getPrime(Q_LENGTH))\n",
    "        p = gmpy2.mul(getrandbits(P_LENGTH - Q_LENGTH), q) + 1\n",
    "        \n",
    "        while not gmpy2.is_prime(p):\n",
    "            p = gmpy2.mul(getrandbits(P_LENGTH - Q_LENGTH), q) + 1\n",
    "            \n",
    "        #\n",
    "        # Сгенерирую число, взаимно простое с p\n",
    "        #\n",
    "        \n",
    "        tmp = getrandbits(P_LENGTH)\n",
    "        while gmpy2.gcd(tmp, p) != 1:\n",
    "            tmp = getrandbits(P_LENGTH)\n",
    "        \n",
    "        #\n",
    "        # По малой теореме Ферма такой g будет иметь порядок q\n",
    "        #\n",
    "        \n",
    "        g = gmpy2.powmod(tmp, (p - 1) // q, p)\n",
    "        \n",
    "        trace('[SchnorrCA]', f'{p = }, {q = }, {g = }')\n",
    "        return p, q, g"
   ]
  },
  {
   "cell_type": "code",
   "execution_count": 15,
   "id": "d4c52675",
   "metadata": {},
   "outputs": [],
   "source": [
    "class SchnorrClient(object):\n",
    "    def __init__(self, parameters: tuple[gmpy2.mpz, gmpy2.mpz, gmpy2.mpz], *,\n",
    "                 fake_data: tuple[uuid.UUID, gmpy2.mpz, tuple] = None):\n",
    "        \"\"\"\n",
    "        Инициализация клиента. Генерирует идентификатор клиента,\n",
    "        ключевую пару.\n",
    "        Последний параметр необходим для демонстрации неуспешной аутентификации.\n",
    "        \"\"\"\n",
    "        \n",
    "        self._p, self._q, self._g = parameters\n",
    "        self._id = uuid.uuid4() if fake_data is None else fake_data[0]\n",
    "        \n",
    "        self._cert = None if fake_data is None else fake_data[2]\n",
    "        self._r = None\n",
    "        \n",
    "        self._private_key = randint(1, self._q - 1)\n",
    "        self._public_key  = gmpy2.powmod(\n",
    "            self._g, -self._private_key, self._p) if fake_data is None else fake_data[1]\n",
    "        \n",
    "        trace('[SchnorrClient]', f'Client {self._id}')\n",
    "        trace('[SchnorrClient]', f'Public key = {self._public_key}')\n",
    "        \n",
    "        \n",
    "    def register(self, ca: SchnorrCA) -> None:\n",
    "        \"\"\"\n",
    "        Регистрация клиента на СА. Принимает дескриптор СА.\n",
    "        \"\"\"\n",
    "        \n",
    "        self._cert = ca.register_client(self.identifier, self.public_key)\n",
    "        \n",
    "        \n",
    "    def get_x(self) -> gmpy2.mpz:\n",
    "        \"\"\"\n",
    "        Получение числа х, получаемого по формуле:\n",
    "                    x = g ** r mod p\n",
    "        где r - случайное целое число из отрезка [1, q - 1].\n",
    "        Сохраняет значение r.\n",
    "        \"\"\"\n",
    "        \n",
    "        self._r = randint(1, self._q - 1)\n",
    "        return gmpy2.powmod(self._g, self._r, self._p)\n",
    "    \n",
    "    \n",
    "    def get_y(self, e, security_parameter) -> gmpy2.mpz:\n",
    "        \"\"\"\n",
    "        Получение числа х, получаемого по формуле:\n",
    "                    x = a * e + r mod q\n",
    "        где r - сохраненное в get_x служебное значение, e - число,\n",
    "        полученное от проверяющего, a - закрытый ключ клиента.\n",
    "        \"\"\"\n",
    "        \n",
    "        if e > 2 ** security_parameter or e < 1:\n",
    "            trace('[SchnorrClient]', f'Invalid {e = }')\n",
    "            raise ValueError('Invalid e')\n",
    "            \n",
    "        pre_result = gmpy2.mul(self._private_key, e) + self._r\n",
    "        return gmpy2.t_mod(pre_result, self._q)\n",
    "    \n",
    "    \n",
    "    @property\n",
    "    def certificate(self):\n",
    "        \"\"\"\n",
    "        Получение сертификата клиента.\n",
    "        \"\"\"\n",
    "        \n",
    "        return self._cert\n",
    "        \n",
    "        \n",
    "    @property\n",
    "    def public_key(self) -> gmpy2.mpz:\n",
    "        \"\"\"\n",
    "        Получение открытого ключа клиента.\n",
    "        \"\"\"\n",
    "        \n",
    "        return self._public_key\n",
    "        \n",
    "        \n",
    "    @property\n",
    "    def identifier(self) -> uuid.UUID:\n",
    "        \"\"\"\n",
    "        Получение идентификатора клиента.\n",
    "        \"\"\"\n",
    "        \n",
    "        return self._id"
   ]
  },
  {
   "cell_type": "code",
   "execution_count": 16,
   "id": "d6f8d573",
   "metadata": {},
   "outputs": [],
   "source": [
    "class SchnorrVerifier(object):\n",
    "    def __init__(self, parameters, security_parameter):\n",
    "        \"\"\"\n",
    "        Инициализация проверяющего. Фактически только закрепляет параметры протокола.\n",
    "        \"\"\"\n",
    "        \n",
    "        self._p, self._q, self._g = parameters\n",
    "        self._security_parameter = security_parameter\n",
    "        \n",
    "        assert security_parameter > 0 and 2 ** security_parameter < self._q\n",
    "        \n",
    "        self._e_values = set()\n",
    "        \n",
    "        \n",
    "    def authenticate(self, client: SchnorrClient, ca: SchnorrCA) -> bool:\n",
    "        \"\"\"\n",
    "        Аутентификация клиента. На вход принимает дескрипторы клиента и СА.\n",
    "        Возвращает True в случае успешной аутентификации.\n",
    "        \"\"\"\n",
    "        \n",
    "        #\n",
    "        # Получаю с клиента x и его сертификат\n",
    "        #\n",
    "        \n",
    "        x, cert = client.get_x(), client.certificate\n",
    "        trace('[SchnorrVerifier]', f'{x = }')\n",
    "        \n",
    "        #\n",
    "        # Если сертификат битый или невалидный, то это плохо\n",
    "        #\n",
    "        \n",
    "        if not ca.verify_certificate(cert):\n",
    "            trace('[SchnorrVerifier]', f'Invalid certificate {cert}')\n",
    "            return False\n",
    "            \n",
    "        #\n",
    "        # Генерирую число е и отдаю его клиенту\n",
    "        #\n",
    "            \n",
    "        e = randint(1, 2 ** self._security_parameter)\n",
    "        while e in self._e_values:\n",
    "            e = randint(1, 2 ** self._security_parameter)\n",
    "            \n",
    "        self._e_values.add(e)        \n",
    "        trace('[SchnorrVerifier]', f'{e = }')\n",
    "        \n",
    "        y = client.get_y(e, self._security_parameter)\n",
    "        trace('[SchnorrVerifier]', f'{y = }')\n",
    "        \n",
    "        #\n",
    "        # Вычисляю значение, которое необходимо сравнить с полученным от клиента х\n",
    "        # И сразу же сравниваю их\n",
    "        # \n",
    "        \n",
    "        product = gmpy2.mul(gmpy2.powmod(self._g, y, self._p), \n",
    "                            gmpy2.powmod(client.public_key, e, self._p))\n",
    "        z = gmpy2.t_mod(product, self._p)\n",
    "        trace('[SchnorrVerifier]', f'{z = }')\n",
    "        \n",
    "        is_successful = x == z\n",
    "        print(f'Authentication successful: {is_successful}')\n",
    "        \n",
    "        return is_successful"
   ]
  },
  {
   "cell_type": "markdown",
   "id": "557676ab",
   "metadata": {},
   "source": [
    "----"
   ]
  },
  {
   "cell_type": "code",
   "execution_count": 17,
   "id": "ccc4b7af",
   "metadata": {},
   "outputs": [
    {
     "name": "stdout",
     "output_type": "stream",
     "text": [
      "[TRACE] [SchnorrCA] p = mpz(88719642581720226840481950021590303374356181890516660980145883473215432582094142205336455039150207482291110059881154078977881393080847402264681691893467562090402584942296739914867448816063863695644322215943398522131210259006237314444192688888601348141273996991865931780829162097458873815537047988319521147147), q = mpz(920978127834024010539279593936512627918654157983), g = mpz(24726592086968156803226812371248703422295398127599303184890432087511977926449403377304843768181406578411862525099597243117257923322395575871673176710951064152621008436388295762630689368763488833954650320056964277204707497766075464905500461667204447376951520147744892092302136854379501337440539134020456251520)\n",
      "[TRACE] [SchnorrCA] RSA public key = (65537, 660159347365218969330661172955683824380049693481009016604216844125926504014857188256069020918309655473330255641227962550266672570997335399202631356614811118300863493319654806646871463943964968831977023375278922239414583304545915877681186966002739012779571552026286900811273412573087901477099710198796271549994888123115101212040671767668980559505485115635846158457374178712148512754327600826887228292464976775137953070602299996980303867616776131949795248653662272172388654190517108215936886756155948566968892736253766642571598475816690827540090255852169677585095049593903846467241686517479331365662859787598768657186492638161028013903092681475834452526651510958937855598244795596989665885853498208100281052506266738946204353717412903481454601734197086404816766522083658146703279759424806239179871238214809956219097767724650870967355310685162904636716179265754154491320198540159918442005207049286275762893596453041424214998587429063988852497432564101995541142038176057577665697218232037357439849684672946142234004430809022790273014195387803747750520230745915946339251138524064338874829934547237724119268513474058683787279125801447311735937648493571429276162982067854675634687101744000210961961205248346699343432222731415246815535983723)\n"
     ]
    }
   ],
   "source": [
    "# Создаю доверенный центр\n",
    "ca = SchnorrCA()"
   ]
  },
  {
   "cell_type": "code",
   "execution_count": 18,
   "id": "593f60e2",
   "metadata": {},
   "outputs": [
    {
     "name": "stdout",
     "output_type": "stream",
     "text": [
      "[TRACE] [SchnorrClient] Client 793de803-d85d-41fa-ae47-b3a7222597f4\n",
      "[TRACE] [SchnorrClient] Public key = 32220610832229358200657099382799418543906378080511131810339831083119730568554276760692509162658205655188265080354671464502320757537993274732141825473718547177819301901771541049847477403197438335696569947511681579281298594563721793738296066665173368902009841448437461561439923793762074679296341956539340828462\n"
     ]
    }
   ],
   "source": [
    "# Создам Алису - валидного пользователя\n",
    "alice = SchnorrClient(ca.parameters)"
   ]
  },
  {
   "cell_type": "code",
   "execution_count": 19,
   "id": "02976d98",
   "metadata": {},
   "outputs": [
    {
     "name": "stdout",
     "output_type": "stream",
     "text": [
      "[TRACE] [SchnorrCA] Certificate = (UUID('793de803-d85d-41fa-ae47-b3a7222597f4'), mpz(32220610832229358200657099382799418543906378080511131810339831083119730568554276760692509162658205655188265080354671464502320757537993274732141825473718547177819301901771541049847477403197438335696569947511681579281298594563721793738296066665173368902009841448437461561439923793762074679296341956539340828462), b'\\x976%\\xc6K!\\xce<\\xa1\\x916\\xbc\\x91\\xaa\\x8a\\x1b\\xa6U\\xef}\\xad\\x1e\\x82\\xf5\\x9a\\xae(\\n\\xde\\xf67\\xc0[\\x93\\xaf!\\xc3\\xf1\\x10\\x03s\"Y\\xda\\xa7CPL\\x95\\xef]\\xf5P\\x8d\\x85w\\xe3\\xae`\\x9f\\x0b\\x93v!36A\\x99;?;.\\r\\xf3\\x1a\\xcd\\x16\\x9c\\xc8\\xf9QON\\x9d\\xb1=^\\x17{\\x90\\xc9\\xb4\\x83\\xe1@kb\\x1e\\x00\\x81\\xf4D\\xef\\xc6\\x06\\x1b\\x07\\xfc\\xfbI\\x04\\x01\\xf7\\x06\\xc7u\\xc1\\xd2\\x9d\\xe8A]\\xe8\\xf5}\\x16\\x9d\\xd0\\xdd\\xa1\\x9b*\\x0e\\xd6Z\\xc0\\xb9\\x97\\xcf\\x17\\xe4YYky\\xc8oe\\xc5\\x96\\nJ\\xd5\\xfd\\xcc\\xaa\\xfdf\\x10\\xc6\\x91@\\x7f\\n6\\x98\\xf9\\xfe\\xdc\\xcc\\xc2>\\xed\\xb4\\x11/\\xcfN\\xc4\\xa8\\xee\\xc7\\xf5\\xdd:\\xc4\\x90Y\\x10\\xe4\\x00`\\xf9rF\\xad\\x15w\\x02G\\x16\\xb7\\x82\\xda\\xf3CX(z\\xb1\\x84e\\x0b\\x1dc\\xec6a\\xdb\\xb0\\xc4\\xa5\\x87N\\x83\\xd7-\\xfb\\xefoH\\xc6:\\xed\\'\\x87\\x93\\xc7\\xec0E\\xe3!R\\xbaw\\x88\\x10\\x1a\\xebT\"\\xed1\\x9c\\x8fBH^P{\\xf0\\x90\\xb2p\"\\xb6\\xc3\\x12\\xe0\\x0f\\x0fF$M\\xb5r\\x1e\\x01\\xe5?(\\xa3\\x1b\\xf21VZV\\x84n \\xd9\\xe3G\\x9a\\x91`|\\xfd\\xe9\\x10\\x02\\xbaj\\x0f\\xbd\\x12bZ%\\x08\\xea4\\xa7\\x01\\x85\\xc0\\xbc\\xe7\\x90\\xa8\\x9d\\xb6\\xe6\\xe7\\xb8\\xa8B\\xbe{@\\xb9G(01yol\\x03\\x0fIt\\xd7q\\x1a\\xdf\\xa0f\\xeb\\xcf@\\x80n\\xc8&\\xc1l\\x98\\x8a\\xc1d\\xa8\\x0cA\\xb1\\xc3\\xd6\\x03\\xe2\\xae\\xdf\\x14\\xf1\\x88\\xfa\\xbd\\x04\\x9cV\\x0b\\xd0\\xf3\\x07o\\x890\\xfa\\x98\\xda\\x82\\xf7\\xa0*w\\xc7{o?\\xe2\\x0b\\xd6\\x967\\x07\\xddt\\xd3\\xd7\\xf9#\\xe2\\xb2\\xeb\\xc3\\x92\\xbcJ\\x16\\xa9\\xb9\\xf3b\\x7f7k\\xcb;D \\x90\\x9b\\x9c)\\xec\\x18\\xf0\\n\\x94J\\xd8\\xdd\\x84\\xe3.\\x80T\\xb9\\x19r\\xaa\\x9d\\xe9W\\xee\\x1c\\x8d\\xb9\\xa6r\\xcb[\\xc4\\xc4\\xf2y\\x86\\xe8\\xec\\x8d,(\\x9ai\\x8b>59\\xfb8\\xc6j\\x9e+\\x0e\\xf9S\\xf2|i!\\xd4\\x7f\\x85\\xcf\\xd0\\xd3g&\\t\\xd4\\x84\\xb4\\nJ\\xee?N)\\x9cg')\n"
     ]
    }
   ],
   "source": [
    "# Регистрирую валидного пользователя\n",
    "alice.register(ca)"
   ]
  },
  {
   "cell_type": "code",
   "execution_count": 20,
   "id": "edc0fd30",
   "metadata": {},
   "outputs": [],
   "source": [
    "# Параметр безопасности положим равным 10 для демонстрации\n",
    "security_parameter = 10\n",
    "\n",
    "# Создаю проверяющую сторону\n",
    "verifier = SchnorrVerifier(ca.parameters, security_parameter)"
   ]
  },
  {
   "cell_type": "code",
   "execution_count": 21,
   "id": "bb31574e",
   "metadata": {},
   "outputs": [
    {
     "name": "stdout",
     "output_type": "stream",
     "text": [
      "[TRACE] [SchnorrVerifier] x = mpz(27636347566407772312485417743231837832418388199065989124180328903005724345149866361742799224521217733881996060852218354047661025087364000577577405230038632011220973872846453578541786099415315432929836741655520096228166772889941241473633599092163625798741356077801847678366070900658287599439469647774409695262)\n",
      "[TRACE] [SchnorrVerifier] e = mpz(183)\n",
      "[TRACE] [SchnorrVerifier] y = mpz(811024823003081569183321041443365768810230755886)\n",
      "[TRACE] [SchnorrVerifier] z = mpz(27636347566407772312485417743231837832418388199065989124180328903005724345149866361742799224521217733881996060852218354047661025087364000577577405230038632011220973872846453578541786099415315432929836741655520096228166772889941241473633599092163625798741356077801847678366070900658287599439469647774409695262)\n",
      "Authentication successful: True\n"
     ]
    },
    {
     "data": {
      "text/plain": [
       "True"
      ]
     },
     "execution_count": 21,
     "metadata": {},
     "output_type": "execute_result"
    }
   ],
   "source": [
    "# Произвожу аутентификацию валидного пользователя\n",
    "verifier.authenticate(alice, ca)"
   ]
  },
  {
   "cell_type": "code",
   "execution_count": 22,
   "id": "8db0a136",
   "metadata": {},
   "outputs": [
    {
     "name": "stdout",
     "output_type": "stream",
     "text": [
      "[TRACE] [SchnorrClient] Client 793de803-d85d-41fa-ae47-b3a7222597f4\n",
      "[TRACE] [SchnorrClient] Public key = 32220610832229358200657099382799418543906378080511131810339831083119730568554276760692509162658205655188265080354671464502320757537993274732141825473718547177819301901771541049847477403197438335696569947511681579281298594563721793738296066665173368902009841448437461561439923793762074679296341956539340828462\n"
     ]
    }
   ],
   "source": [
    "# Создаю Еву - клиента, который пытается представиться Алисой\n",
    "eve = SchnorrClient(ca.parameters, \n",
    "                    fake_data=(alice.identifier, alice.public_key, alice.certificate))"
   ]
  },
  {
   "cell_type": "code",
   "execution_count": 23,
   "id": "d496ab7f",
   "metadata": {},
   "outputs": [
    {
     "name": "stdout",
     "output_type": "stream",
     "text": [
      "[TRACE] [SchnorrVerifier] x = mpz(43456842040202530125713502751000351469506197532263435283638696013176525939862157385999671456156179475090740359784771848096207980269014659240846811868359377133416359618912700308925401489439417988003325889638879806093387451842471673157413980097325270582381636014494015384080479975169140451515103692066542542231)\n",
      "[TRACE] [SchnorrVerifier] e = mpz(209)\n",
      "[TRACE] [SchnorrVerifier] y = mpz(466953623065483343815966175423320171420701493919)\n",
      "[TRACE] [SchnorrVerifier] z = mpz(24648151552571952676184165103099668870630895761404428501067840164327662723786975114707388696705713385699949467982824528779926822033032065255468029938503509885441823191671160661793528285755117195893832486171102927725205203697949660411878362259450235165254012248123428622271670111071708702756072552575045478478)\n",
      "Authentication successful: False\n"
     ]
    },
    {
     "data": {
      "text/plain": [
       "False"
      ]
     },
     "execution_count": 23,
     "metadata": {},
     "output_type": "execute_result"
    }
   ],
   "source": [
    "# Произвожу аутентификацию невалидного пользователя\n",
    "verifier.authenticate(eve, ca)"
   ]
  },
  {
   "cell_type": "code",
   "execution_count": null,
   "id": "f92c78ac",
   "metadata": {},
   "outputs": [],
   "source": []
  }
 ],
 "metadata": {
  "kernelspec": {
   "display_name": "Python 3 (ipykernel)",
   "language": "python",
   "name": "python3"
  },
  "language_info": {
   "codemirror_mode": {
    "name": "ipython",
    "version": 3
   },
   "file_extension": ".py",
   "mimetype": "text/x-python",
   "name": "python",
   "nbconvert_exporter": "python",
   "pygments_lexer": "ipython3",
   "version": "3.9.10"
  }
 },
 "nbformat": 4,
 "nbformat_minor": 5
}
