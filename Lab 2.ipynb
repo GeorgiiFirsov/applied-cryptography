{
 "cells": [
  {
   "cell_type": "markdown",
   "id": "106168dc",
   "metadata": {},
   "source": [
    "# Протоколы аутентификации с нулевым разглашением"
   ]
  },
  {
   "cell_type": "code",
   "execution_count": 1,
   "id": "4a343351",
   "metadata": {},
   "outputs": [],
   "source": [
    "IS_DEBUG = 1"
   ]
  },
  {
   "cell_type": "code",
   "execution_count": 2,
   "id": "34caa6a0",
   "metadata": {},
   "outputs": [],
   "source": [
    "def trace(*args, **kwargs):\n",
    "    \"\"\"\n",
    "    Отладочная трассировка\n",
    "    \"\"\"\n",
    "    \n",
    "    global IS_DEBUG\n",
    "    if IS_DEBUG:\n",
    "        print('[TRACE]', end=' ')\n",
    "        print(*args, **kwargs)"
   ]
  },
  {
   "cell_type": "markdown",
   "id": "cc0a54f3",
   "metadata": {},
   "source": [
    "---"
   ]
  },
  {
   "cell_type": "code",
   "execution_count": 3,
   "id": "de92ae59",
   "metadata": {},
   "outputs": [],
   "source": [
    "# Генерация простых чисел\n",
    "from Crypto.Util import number\n",
    "\n",
    "# КГПСЧ\n",
    "from Crypto.Random import random\n",
    "\n",
    "# Понадобится в протоколе Шнорра\n",
    "from Crypto.PublicKey import RSA\n",
    "from Crypto.Signature import pss\n",
    "from Crypto.Hash import SHA256\n",
    "\n",
    "# Немного математики\n",
    "import gmpy2\n",
    "\n",
    "# Для генерации идентификаторов клиентов\n",
    "import uuid"
   ]
  },
  {
   "cell_type": "markdown",
   "id": "cb741152",
   "metadata": {},
   "source": [
    "---"
   ]
  },
  {
   "cell_type": "code",
   "execution_count": 4,
   "id": "f2b2a63e",
   "metadata": {},
   "outputs": [],
   "source": [
    "def randint(a, b) -> gmpy2.mpz:\n",
    "    \"\"\"\n",
    "    Генерация случайного числа в отрезке [a, b] с помощью КГПСЧ с поддержкой gmpy2\n",
    "    \"\"\"\n",
    "    \n",
    "    native_a = int(a)\n",
    "    native_b = int(b)\n",
    "    \n",
    "    return gmpy2.mpz(random.randint(native_a, native_b))\n",
    "\n",
    "\n",
    "def getrandbits(n) -> gmpy2.mpz:\n",
    "    \"\"\"\n",
    "    Генерация случайного числа длиной n бит с помощью КГПСЧ с поддержкой gmpy2\n",
    "    \"\"\"\n",
    "    \n",
    "    native_n = int(n)\n",
    "    \n",
    "    return gmpy2.mpz(random.getrandbits(native_n))"
   ]
  },
  {
   "cell_type": "markdown",
   "id": "f535aa56",
   "metadata": {},
   "source": [
    "----"
   ]
  },
  {
   "cell_type": "markdown",
   "id": "6d0f7585",
   "metadata": {},
   "source": [
    "## Протокол Фиата-Шамира\n",
    "![Fiat-Shamir Protocol](./images/Fiat-Shamir_2.png)"
   ]
  },
  {
   "cell_type": "code",
   "execution_count": 5,
   "id": "fa6d8a01",
   "metadata": {},
   "outputs": [],
   "source": [
    "class FiatShamirCA(object):\n",
    "    PRIME_BITS = 1024\n",
    "    \n",
    "    def __init__(self):\n",
    "        \"\"\"\n",
    "        Инициализация доверенного центра.\n",
    "        Генерируются два простых числа и их произведение.\n",
    "        \"\"\"\n",
    "        \n",
    "        self._db = {}\n",
    "        \n",
    "        self._p = number.getPrime(FiatShamirCA.PRIME_BITS)\n",
    "        self._q = number.getPrime(FiatShamirCA.PRIME_BITS)\n",
    "        self._modulus = gmpy2.mul(self._p, self._q)\n",
    "        \n",
    "        trace('[FiatShamirCA]', f'Modulus = {self._modulus}')\n",
    "        \n",
    "        \n",
    "    def register_client(self, client_id: uuid.UUID, client_public_key: gmpy2.mpz) -> None:\n",
    "        \"\"\"\n",
    "        Регистрация клиента. На вход принимает идентификатор клиента и его открытый ключ.\n",
    "        Ничего не возвращает.\n",
    "        Выбрасывает исключение, если клиент уже существует.\n",
    "        \"\"\"\n",
    "        \n",
    "        trace('[FiatShamirCA]', f'''Attempting to register client {client_id} \n",
    "        with public key {client_public_key}''')\n",
    "        \n",
    "        if client_id in self._db:\n",
    "            trace('[FiatShamirCA]', 'User already exists')\n",
    "            raise ValueError(f'Client {client_id} is already registered')\n",
    "            \n",
    "        #\n",
    "        # Теперь сохраняю открытый ключ\n",
    "        #\n",
    "        \n",
    "        self._db[client_id] = client_public_key\n",
    "        trace('[FiatShamirCA]', 'Client registered successfully')\n",
    "        \n",
    "        \n",
    "    def get_public_key(self, client_id: uuid.UUID) -> gmpy2.mpz:\n",
    "        \"\"\"\n",
    "        Получение открытого ключа клиента. Получает на вход идентификатор клиента.\n",
    "        Возвращает открытый ключ.\n",
    "        Выбрасывает исключение, если пользователь отсутствует.\n",
    "        \"\"\"\n",
    "        \n",
    "        return self._db[client_id]\n",
    "       \n",
    "        \n",
    "    @property\n",
    "    def modulus(self) -> gmpy2.mpz:\n",
    "        \"\"\"\n",
    "        Возвращает модуль.\n",
    "        \"\"\"\n",
    "        \n",
    "        return self._modulus"
   ]
  },
  {
   "cell_type": "code",
   "execution_count": 6,
   "id": "0c7c49db",
   "metadata": {},
   "outputs": [],
   "source": [
    "class FiatShamirClient(object):\n",
    "    def __init__(self, modulus: gmpy2.mpz, *,\n",
    "                 fake_data: tuple[uuid.UUID, gmpy2.mpz] = None):\n",
    "        \"\"\"\n",
    "        Инициализация клиента с выработкой ключевой пары и идентификатора.\n",
    "        Последний параметр требуются для демонстрации неудачной аутентификации.\n",
    "        \"\"\"\n",
    "        \n",
    "        self._id = uuid.uuid4() if fake_data is None else fake_data[0]\n",
    "        self._r = None\n",
    "        \n",
    "        self._private_key = FiatShamirClient._generate_coprime(modulus)\n",
    "        self._public_key = gmpy2.powmod(self._private_key, 2, modulus) if fake_data is None else fake_data[1]\n",
    "        \n",
    "        trace('[FiatShamirClient]', f'Client {self._id}')\n",
    "        trace('[FiatShamirClient]', f'Public key = {self._public_key}')\n",
    "        \n",
    "        \n",
    "    @property\n",
    "    def public_key(self) -> gmpy2.mpz:\n",
    "        \"\"\"\n",
    "        Получение открытого ключа.\n",
    "        \"\"\"\n",
    "        \n",
    "        return self._public_key\n",
    "    \n",
    "    \n",
    "    @property\n",
    "    def identifier(self) -> uuid.UUID:\n",
    "        \"\"\"\n",
    "        Получение идентификатора.\n",
    "        \"\"\"\n",
    "        \n",
    "        return self._id\n",
    "    \n",
    "    \n",
    "    def get_x(self, modulus: gmpy2.mpz) -> gmpy2.mpz:\n",
    "        \"\"\"\n",
    "        Получение случайного значения, вычисляемого по формуле:\n",
    "                    x = r ** 2 mod n,\n",
    "        где n - модуль, r - случайное целое число из отрезка [1, n - 1].\n",
    "        Значение r сохраняется.\n",
    "        \"\"\"\n",
    "        \n",
    "        self._r = randint(1, modulus - 1)\n",
    "        return gmpy2.powmod(self._r, 2, modulus)\n",
    "    \n",
    "    \n",
    "    def get_y(self, e: gmpy2.mpz, modulus: gmpy2.mpz) -> gmpy2.mpz:\n",
    "        \"\"\"\n",
    "        Получение числа, вычисляемого по формуле:\n",
    "                    y = r * s ** e mod n,\n",
    "        где n - модуль, s - закрытый ключ пользователя, r - сгенерированное \n",
    "        функцией get_x внутреннее значение, e - целое число из отрезка [0, 1],\n",
    "        пришедшее от проверяющего.\n",
    "        \"\"\"\n",
    "        \n",
    "        product = gmpy2.mul(self._r, gmpy2.powmod(self._private_key, e, modulus))\n",
    "        return gmpy2.t_mod(product, modulus)\n",
    "        \n",
    "        \n",
    "    @staticmethod\n",
    "    def _generate_coprime(modulus: gmpy2.mpz) -> gmpy2.mpz:\n",
    "        \"\"\"\n",
    "        Генерация случайного числа из отрезка [1, n - 1], взаимно\n",
    "        простого с n, где n - модуль.\n",
    "        \"\"\"\n",
    "        \n",
    "        #\n",
    "        # Генерирую число до тех пор, пока оно не станет взаимно простым с модулем\n",
    "        #\n",
    "        \n",
    "        result = randint(1, modulus - 1)\n",
    "        while gmpy2.gcd(result, modulus) != 1:\n",
    "            result = randint(1, modulus - 1)\n",
    "            \n",
    "        return result"
   ]
  },
  {
   "cell_type": "code",
   "execution_count": 7,
   "id": "4b83de98",
   "metadata": {},
   "outputs": [],
   "source": [
    "class FiatShamirVerifier(object):\n",
    "    def __init__(self, iterations: int):\n",
    "        \"\"\"\n",
    "        Инициализация проверяющего. Задает коичество итераций проверки.\n",
    "        \"\"\"\n",
    "        \n",
    "        self._iterations = iterations\n",
    "        \n",
    "        \n",
    "    def authenticate(self, client: FiatShamirClient, ca: FiatShamirCA) -> bool:\n",
    "        \"\"\"\n",
    "        Аутентификация клиента. На вход принимает дескрипторы клиента и СА.\n",
    "        Возвращает True в случае успешной аутентификации.\n",
    "        \"\"\"\n",
    "        \n",
    "        trace('[FiatShamirVerifier]', f'Attempt to authenticate client {client.identifier}')\n",
    "        trace('[FiatShamirVerifier]', f'Number of iterations = {self._iterations}')\n",
    "        \n",
    "        is_successful = True\n",
    "        \n",
    "        for i in range(self._iterations):\n",
    "            x = client.get_x(ca.modulus)\n",
    "            trace('[FiatShamirVerifier]', f'[Iteration {i + 1}] {x = }')\n",
    "            \n",
    "            e = randint(0, 1)\n",
    "            trace('[FiatShamirVerifier]', f'[Iteration {i + 1}] {e = }')\n",
    "            \n",
    "            y = client.get_y(e, ca.modulus)\n",
    "            trace('[FiatShamirVerifier]', f'[Iteration {i + 1}] {y = }')\n",
    "            \n",
    "            pk = ca.get_public_key(client.identifier)\n",
    "            product = gmpy2.mul(x, gmpy2.powmod(pk, e, ca.modulus))\n",
    "            \n",
    "            successful_iteration = gmpy2.powmod(y, 2, ca.modulus) == gmpy2.t_mod(product, ca.modulus)\n",
    "            is_successful &= successful_iteration\n",
    "            \n",
    "            trace('[FiatShamirVerifier]', f'[Iteration {i + 1}] success: {successful_iteration}')\n",
    "            \n",
    "            if not successful_iteration:\n",
    "                break\n",
    "            \n",
    "        print(f'Authentication successful: {is_successful}')\n",
    "        return is_successful"
   ]
  },
  {
   "cell_type": "markdown",
   "id": "0619aa11",
   "metadata": {},
   "source": [
    "----"
   ]
  },
  {
   "cell_type": "code",
   "execution_count": 8,
   "id": "38249da2",
   "metadata": {},
   "outputs": [
    {
     "name": "stdout",
     "output_type": "stream",
     "text": [
      "[TRACE] [FiatShamirCA] Modulus = 10565573616673509518022881196141051727740382579011175610416418713937825749489768983491071126331334365140842750085690869187901418205840495583420401508682036335174222847974808642104322523934461995917616091737059893768510538728373543350108200576493906376556489684564406444773641027267521642231042923903892720954380537591596399846985649664974985845237598490804967443413918161025158358457081550919908947361532900672048154579139647599401700901366565681253244187107060965788508770826812604570884548191788223529880045041582564585566113380675844768676219228363835190121275509850222334698154496598256095044325077226351650273251\n"
     ]
    }
   ],
   "source": [
    "# Создаю доверенный центр\n",
    "ca = FiatShamirCA()"
   ]
  },
  {
   "cell_type": "code",
   "execution_count": 9,
   "id": "0610769c",
   "metadata": {},
   "outputs": [
    {
     "name": "stdout",
     "output_type": "stream",
     "text": [
      "[TRACE] [FiatShamirClient] Client 5016f38c-b006-4d34-a66c-45d6a9008305\n",
      "[TRACE] [FiatShamirClient] Public key = 8861658659025446714743172861290527737867853332919071962707980518999846139501483877813970280019114592078143412181632438742725650327230287463980218977489837242657474954872046121934094561107239570636045578215840139020359529794016942431230786713209433624284948384888433973672285640239016453077579056031424735934522667759481042108602650407457682031895038927214579820124312155919735804831258727032779156610786661579580361464866284665684475605884997779992177622203700013831737821970165924034021490889955568688151618452082078336860191952273071104629561482044912811704727263142547064376351094836224695917561490462337863675681\n",
      "[TRACE] [FiatShamirClient] Client 5016f38c-b006-4d34-a66c-45d6a9008305\n",
      "[TRACE] [FiatShamirClient] Public key = 8861658659025446714743172861290527737867853332919071962707980518999846139501483877813970280019114592078143412181632438742725650327230287463980218977489837242657474954872046121934094561107239570636045578215840139020359529794016942431230786713209433624284948384888433973672285640239016453077579056031424735934522667759481042108602650407457682031895038927214579820124312155919735804831258727032779156610786661579580361464866284665684475605884997779992177622203700013831737821970165924034021490889955568688151618452082078336860191952273071104629561482044912811704727263142547064376351094836224695917561490462337863675681\n"
     ]
    }
   ],
   "source": [
    "# Создаю двух пользователей:\n",
    "# - Алису - валидного пользователя\n",
    "# - Еву - пользователя, представляющегося Алисой. но не знающего закрытого ключа Алисы\n",
    "alice = FiatShamirClient(ca.modulus)\n",
    "eve = FiatShamirClient(ca.modulus, \n",
    "                       fake_data=(alice.identifier, alice.public_key))"
   ]
  },
  {
   "cell_type": "code",
   "execution_count": 10,
   "id": "93d9f546",
   "metadata": {},
   "outputs": [
    {
     "name": "stdout",
     "output_type": "stream",
     "text": [
      "[TRACE] [FiatShamirCA] Attempting to register client 5016f38c-b006-4d34-a66c-45d6a9008305 \n",
      "        with public key 8861658659025446714743172861290527737867853332919071962707980518999846139501483877813970280019114592078143412181632438742725650327230287463980218977489837242657474954872046121934094561107239570636045578215840139020359529794016942431230786713209433624284948384888433973672285640239016453077579056031424735934522667759481042108602650407457682031895038927214579820124312155919735804831258727032779156610786661579580361464866284665684475605884997779992177622203700013831737821970165924034021490889955568688151618452082078336860191952273071104629561482044912811704727263142547064376351094836224695917561490462337863675681\n",
      "[TRACE] [FiatShamirCA] Client registered successfully\n"
     ]
    }
   ],
   "source": [
    "# Регистрирую валидного пользователя\n",
    "ca.register_client(alice.identifier, alice.public_key)"
   ]
  },
  {
   "cell_type": "code",
   "execution_count": 11,
   "id": "9e40d678",
   "metadata": {},
   "outputs": [],
   "source": [
    "# Для простоты будет 3 итерации\n",
    "ITERATIONS = 3\n",
    "\n",
    "# Создаю проверяющую сторону\n",
    "verifier = FiatShamirVerifier(ITERATIONS)"
   ]
  },
  {
   "cell_type": "code",
   "execution_count": 12,
   "id": "b78d5d03",
   "metadata": {},
   "outputs": [
    {
     "name": "stdout",
     "output_type": "stream",
     "text": [
      "[TRACE] [FiatShamirVerifier] Attempt to authenticate client 5016f38c-b006-4d34-a66c-45d6a9008305\n",
      "[TRACE] [FiatShamirVerifier] Number of iterations = 3\n",
      "[TRACE] [FiatShamirVerifier] [Iteration 1] x = mpz(5175758888381996768294019539834348404099097115527707638467874302050400004547157770545694822125540434923497016053882767023821428293345205484422121024855754581343763660424268293432801817040597820462211779812535250394043406451623026808395864034870781873757461416332591406429045273317185889067768427860559140356497398476822030811298172039774065264125837696875102204606559427275944317718649683791541084218592815072270171344297599763589012127914496767429111671859836214888146651633694848910101730791967412994110011086224827638902468994138505009282362502663662297721704776411147400364312398866268909385678990920681698416680)\n",
      "[TRACE] [FiatShamirVerifier] [Iteration 1] e = mpz(1)\n",
      "[TRACE] [FiatShamirVerifier] [Iteration 1] y = mpz(2400789723139504142091183753342064917043336435605463147921599894841942915134378912436416237004091223106728706035879295277328578386062167064540228842935203245054249592888401440721427004414560029701054543489292705782839992210542104167706379013885285092240634613423622329159134427914429300645984998661253111990054250015646824171003193965902818811859334578894361392944339825385498845814153435432806006989852207702602631041838303412140052161451799627533823888949180286560775791658956799758374259589120791270424300661627309934796828293894222479784718684585646901694458078060199170280730921349820638185410478564338766807793)\n",
      "[TRACE] [FiatShamirVerifier] [Iteration 1] success: True\n",
      "[TRACE] [FiatShamirVerifier] [Iteration 2] x = mpz(3461277269806520348254045737323734975237825826907704101372496118245129311713389231587576344648990915342895778263664145072747618215998835917956791355922556128122320959855758732582567512320078459316796518295640149785376883819410401712159031059254399246158330109847618969129701937354548973631981092183561283498657154585455944555066430587829612377752992158651194901565051612581293634575944412920756141198329772239844797838888924225173348681758107351034472902368998938848491646019385539194213864748822487520336591438648521499702976448342066081043366762287981603950743389740951219361956054173235470553960374037402026882562)\n",
      "[TRACE] [FiatShamirVerifier] [Iteration 2] e = mpz(1)\n",
      "[TRACE] [FiatShamirVerifier] [Iteration 2] y = mpz(10084663196299626253270654789571714738831097962692522650377339699969446040381422007182611441214489842386188883700922606889459119828172364215934535974778047445126441951341442039824525379459234417707914744592354402778565603563362682642305889655830570862503468521670778688666688845648352386806769723783287072149271068373255275918194840782631406303838975642789788973942205081002630333760832757005987227019123614677966703762813299332265493360092209022100240883000220310580498694851745266956656760923289627292177305288776447636090032355475040594304628752238969268557268346034744858630108624280866817505097086423078209261158)\n",
      "[TRACE] [FiatShamirVerifier] [Iteration 2] success: True\n",
      "[TRACE] [FiatShamirVerifier] [Iteration 3] x = mpz(5450038190211740359372556586900327811203101823849902061199229485923207668310847154614840373587127084245122214008308153698246626355326962402398217886929402129284356584923071382120857487682835606658665225645034041279235822738924750968833613512952715171863705248082544999375248973998022823479860779687248515076103300407826784626677832040570505261987438336448265153063922864606700851168297935573504093978604028233725695812704799444823564265072410403545704324394145733563329122079133904608055151084262041701732101642989036885663782361091271628707809050170013397894783805952069030578691108237011316114581855036647507769001)\n",
      "[TRACE] [FiatShamirVerifier] [Iteration 3] e = mpz(0)\n",
      "[TRACE] [FiatShamirVerifier] [Iteration 3] y = mpz(3205942803386591339639271769244602652769331752145422582715021429338492861843214147162510670326573139925494868843091413510618730358361443226962222674096609672022459795255477162224311167069783311410863626107863214168478817799451524172293861843776520936071441582884420422507848247834881881514096696975974408914063039734171783059825210622433111504376719499007573947496230728822748833843053239284570513435758730209556710100114267478722430931339577042873534976365860839207198534769189875957631928200155512484545177720513425094475295213740084450672768599635075718884290016725690012855404209654542279180454484724629787950022)\n",
      "[TRACE] [FiatShamirVerifier] [Iteration 3] success: True\n",
      "Authentication successful: True\n"
     ]
    },
    {
     "data": {
      "text/plain": [
       "True"
      ]
     },
     "execution_count": 12,
     "metadata": {},
     "output_type": "execute_result"
    }
   ],
   "source": [
    "# Произвожу аутентификацию валидного пользователя\n",
    "verifier.authenticate(alice, ca)"
   ]
  },
  {
   "cell_type": "code",
   "execution_count": 13,
   "id": "9af63972",
   "metadata": {},
   "outputs": [
    {
     "name": "stdout",
     "output_type": "stream",
     "text": [
      "[TRACE] [FiatShamirVerifier] Attempt to authenticate client 5016f38c-b006-4d34-a66c-45d6a9008305\n",
      "[TRACE] [FiatShamirVerifier] Number of iterations = 3\n",
      "[TRACE] [FiatShamirVerifier] [Iteration 1] x = mpz(9291977411306403622653513028820187354422323590663040113558109697120674499676422162623003364844645294956027474440688719682171464258572059654146545430319032152442360936454140939921385020888773235168888399549627865215117435878872699643901649862773741235253282199544212108930738664210461541018300644137765255743430134294618873735360103284735679902593243757801331807828014549212183612449328232958610911898406200512973026665506296680860490299427256102846025153917534763065780392617998637872305128926093622040637727962915214175173455380900989925844974363585550626217914992981421515415602420585162478543764164689636274278746)\n",
      "[TRACE] [FiatShamirVerifier] [Iteration 1] e = mpz(1)\n",
      "[TRACE] [FiatShamirVerifier] [Iteration 1] y = mpz(6734574689406602353629732810898169739777684568001545988882135712671210649760977538685627881933935715055629365468804251352705296534246462129377778184976302057240326701694845208940756743469452226656153091717096284496033841059281627948557912751109845830740696573956830006110628201627679743544447967381335315321513264206520320173310274922918645768005076721927520361298196401839812696160704308568893059516054538673734356573941131678458200073957255017668405869035326404431231363924823842205908654072950752491023679034721422307278084902602762350854685517515887103958813205846696289167660483741391907012348555539919450255252)\n",
      "[TRACE] [FiatShamirVerifier] [Iteration 1] success: False\n",
      "Authentication successful: False\n"
     ]
    },
    {
     "data": {
      "text/plain": [
       "False"
      ]
     },
     "execution_count": 13,
     "metadata": {},
     "output_type": "execute_result"
    }
   ],
   "source": [
    "# Произвожу аутентификацию невалидного пользователя\n",
    "verifier.authenticate(eve, ca)"
   ]
  },
  {
   "cell_type": "markdown",
   "id": "72287ef6",
   "metadata": {},
   "source": [
    "---"
   ]
  },
  {
   "cell_type": "markdown",
   "id": "82d1c58b",
   "metadata": {},
   "source": [
    "## Протокол Шнорра\n",
    "![Schnorr Protocol](./images/Schnorr_2.png)"
   ]
  },
  {
   "cell_type": "code",
   "execution_count": 14,
   "id": "fc202515",
   "metadata": {},
   "outputs": [],
   "source": [
    "class SchnorrCA(object):\n",
    "    RSA_KEY_LENGTH = 4096\n",
    "    \n",
    "    def __init__(self):\n",
    "        \"\"\"\n",
    "        Инициализация доверенного центра\n",
    "        Генерация простых чисел p, q и элемента g, а также ключевой пары СА\n",
    "        \"\"\"\n",
    "        \n",
    "        self._db = {}\n",
    "        \n",
    "        #\n",
    "        # Генерация параметров протокола\n",
    "        #\n",
    "        \n",
    "        self._p, self._q, self._g = SchnorrCA._generate_parameters()\n",
    "        \n",
    "        #\n",
    "        # Ключевая пара RSA для СА\n",
    "        #\n",
    "        \n",
    "        self._private_key = RSA.generate(SchnorrCA.RSA_KEY_LENGTH)\n",
    "        self._public_key = self._private_key.publickey()\n",
    "        \n",
    "        trace('[SchnorrCA]', f'RSA public key = {(self._public_key.e, self._public_key.n)}')\n",
    "        \n",
    "        \n",
    "    def register_client(self, \n",
    "                        client_id: uuid.UUID, \n",
    "                        client_public_key: gmpy2.mpz) -> tuple[uuid.UUID, gmpy2.mpz, bytes]:\n",
    "        \"\"\"\n",
    "        Регистрация клиента. Принимает на вход идентификатор клиента и его открытый ключ.\n",
    "        Возвращает подписанный сервером сертификат.\n",
    "        Выбрасывает исключение, если клиент уже зарегистрирован.\n",
    "        \"\"\"\n",
    "        \n",
    "        if client_id in self._db:\n",
    "            trace('[SchnorrCA]', 'User already exists')\n",
    "            raise ValueError(f'Client {client_id} is already registered')\n",
    "            \n",
    "        #\n",
    "        # Создаю сертификат\n",
    "        #\n",
    "            \n",
    "        h = SHA256.new(str(client_id).encode() + number.long_to_bytes(int(client_public_key)))\n",
    "        signature = pss.new(self._private_key).sign(h)\n",
    "        \n",
    "        certificate = (client_id, client_public_key, signature)\n",
    "        trace('[SchnorrCA]', f'Certificate = {certificate}')\n",
    "        \n",
    "        #\n",
    "        # Сохраняю его и возвращаю\n",
    "        #\n",
    "        \n",
    "        self._db[client_id] = certificate\n",
    "        return certificate\n",
    "    \n",
    "    \n",
    "    def verify_certificate(self, certificate: tuple[uuid.UUID, gmpy2.mpz, bytes]) -> bool:\n",
    "        \"\"\"\n",
    "        Проверка сертификата.\n",
    "        Возвращает признак валидности сертификата.\n",
    "        \"\"\"\n",
    "        \n",
    "        client_id, client_public_key, signature = certificate\n",
    "        \n",
    "        if client_id not in self._db:\n",
    "            trace('[SchnorrCA]', f\"Client {client_id} doesn't exist\")\n",
    "            raise ValueError(\"Client doesn't exist\")\n",
    "            \n",
    "        h = SHA256.new(str(client_id).encode() + number.long_to_bytes(int(client_public_key)))\n",
    "        verifier = pss.new(self.public_key)\n",
    "        \n",
    "        try:\n",
    "            verifier.verify(h, signature)\n",
    "            return True\n",
    "        except:\n",
    "            return False\n",
    "        \n",
    "        \n",
    "    @property\n",
    "    def public_key(self):\n",
    "        \"\"\"\n",
    "        Получение открытого ключа СА.\n",
    "        \"\"\"\n",
    "        \n",
    "        return self._public_key\n",
    "    \n",
    "    \n",
    "    @property\n",
    "    def parameters(self) -> tuple[gmpy2.mpz, gmpy2.mpz, gmpy2.mpz]:\n",
    "        \"\"\"\n",
    "        Параметры протокола (p, q, g)\n",
    "        \"\"\"\n",
    "        \n",
    "        return self._p, self._q, self._g\n",
    "        \n",
    "        \n",
    "    @staticmethod\n",
    "    def _generate_parameters() -> tuple[gmpy2.mpz, gmpy2.mpz, gmpy2.mpz]:\n",
    "        \"\"\"\n",
    "        Генерация параметров протокола (p, q, g).\n",
    "        \"\"\"\n",
    "        \n",
    "        Q_LENGTH = 160\n",
    "        P_LENGTH = 1024\n",
    "        \n",
    "        q = gmpy2.mpz(number.getPrime(Q_LENGTH))\n",
    "        p = gmpy2.mul(getrandbits(P_LENGTH - Q_LENGTH), q) + 1\n",
    "        \n",
    "        while not gmpy2.is_prime(p):\n",
    "            p = gmpy2.mul(getrandbits(P_LENGTH - Q_LENGTH), q) + 1\n",
    "            \n",
    "        #\n",
    "        # Сгенерирую число, взаимно простое с p\n",
    "        #\n",
    "        \n",
    "        tmp = getrandbits(P_LENGTH)\n",
    "        while gmpy2.gcd(tmp, p) != 1:\n",
    "            tmp = getrandbits(P_LENGTH)\n",
    "        \n",
    "        #\n",
    "        # По малой теореме Ферма такой g будет иметь порядок q\n",
    "        #\n",
    "        \n",
    "        g = gmpy2.powmod(tmp, (p - 1) // q, p)\n",
    "        \n",
    "        trace('[SchnorrCA]', f'{p = }, {q = }, {g = }')\n",
    "        return p, q, g"
   ]
  },
  {
   "cell_type": "code",
   "execution_count": 15,
   "id": "d4c52675",
   "metadata": {},
   "outputs": [],
   "source": [
    "class SchnorrClient(object):\n",
    "    def __init__(self, parameters: tuple[gmpy2.mpz, gmpy2.mpz, gmpy2.mpz], *,\n",
    "                 fake_data: tuple[uuid.UUID, gmpy2.mpz, tuple] = None):\n",
    "        \"\"\"\n",
    "        Инициализация клиента. Генерирует идентификатор клиента,\n",
    "        ключевую пару.\n",
    "        Последний параметр необходим для демонстрации неуспешной аутентификации.\n",
    "        \"\"\"\n",
    "        \n",
    "        self._p, self._q, self._g = parameters\n",
    "        self._id = uuid.uuid4() if fake_data is None else fake_data[0]\n",
    "        \n",
    "        self._cert = None if fake_data is None else fake_data[2]\n",
    "        self._r = None\n",
    "        \n",
    "        self._private_key = randint(1, self._q - 1)\n",
    "        self._public_key  = gmpy2.powmod(\n",
    "            self._g, -self._private_key, self._p) if fake_data is None else fake_data[1]\n",
    "        \n",
    "        trace('[SchnorrClient]', f'Client {self._id}')\n",
    "        trace('[SchnorrClient]', f'Public key = {self._public_key}')\n",
    "        \n",
    "        \n",
    "    def register(self, ca: SchnorrCA) -> None:\n",
    "        \"\"\"\n",
    "        Регистрация клиента на СА. Принимает дескриптор СА.\n",
    "        \"\"\"\n",
    "        \n",
    "        self._cert = ca.register_client(self.identifier, self.public_key)\n",
    "        \n",
    "        \n",
    "    def get_x(self) -> gmpy2.mpz:\n",
    "        \"\"\"\n",
    "        Получение числа х, получаемого по формуле:\n",
    "                    x = g ** r mod p\n",
    "        где r - случайное целое число из отрезка [1, q - 1].\n",
    "        Сохраняет значение r.\n",
    "        \"\"\"\n",
    "        \n",
    "        self._r = randint(1, self._q - 1)\n",
    "        return gmpy2.powmod(self._g, self._r, self._p)\n",
    "    \n",
    "    \n",
    "    def get_y(self, e, security_parameter) -> gmpy2.mpz:\n",
    "        \"\"\"\n",
    "        Получение числа х, получаемого по формуле:\n",
    "                    x = a * e + r mod q\n",
    "        где r - сохраненное в get_x служебное значение, e - число,\n",
    "        полученное от проверяющего, a - закрытый ключ клиента.\n",
    "        \"\"\"\n",
    "        \n",
    "        if e > 2 ** security_parameter or e < 1:\n",
    "            trace('[SchnorrClient]', f'Invalid {e = }')\n",
    "            raise ValueError('Invalid e')\n",
    "            \n",
    "        pre_result = gmpy2.mul(self._private_key, e) + self._r\n",
    "        return gmpy2.t_mod(pre_result, self._q)\n",
    "    \n",
    "    \n",
    "    @property\n",
    "    def certificate(self):\n",
    "        \"\"\"\n",
    "        Получение сертификата клиента.\n",
    "        \"\"\"\n",
    "        \n",
    "        return self._cert\n",
    "        \n",
    "        \n",
    "    @property\n",
    "    def public_key(self) -> gmpy2.mpz:\n",
    "        \"\"\"\n",
    "        Получение открытого ключа клиента.\n",
    "        \"\"\"\n",
    "        \n",
    "        return self._public_key\n",
    "        \n",
    "        \n",
    "    @property\n",
    "    def identifier(self) -> uuid.UUID:\n",
    "        \"\"\"\n",
    "        Получение идентификатора клиента.\n",
    "        \"\"\"\n",
    "        \n",
    "        return self._id"
   ]
  },
  {
   "cell_type": "code",
   "execution_count": 16,
   "id": "d6f8d573",
   "metadata": {},
   "outputs": [],
   "source": [
    "class SchnorrVerifier(object):\n",
    "    def __init__(self, parameters, security_parameter):\n",
    "        \"\"\"\n",
    "        Инициализация проверяющего. Фактически только закрепляет параметры протокола.\n",
    "        \"\"\"\n",
    "        \n",
    "        self._p, self._q, self._g = parameters\n",
    "        self._security_parameter = security_parameter\n",
    "        \n",
    "        assert security_parameter > 0 and 2 ** security_parameter < self._q\n",
    "        \n",
    "        self._e_values = set()\n",
    "        \n",
    "        \n",
    "    def authenticate(self, client: SchnorrClient, ca: SchnorrCA) -> bool:\n",
    "        \"\"\"\n",
    "        Аутентификация клиента. На вход принимает дескрипторы клиента и СА.\n",
    "        Возвращает True в случае успешной аутентификации.\n",
    "        \"\"\"\n",
    "        \n",
    "        #\n",
    "        # Получаю с клиента x и его сертификат\n",
    "        #\n",
    "        \n",
    "        x, cert = client.get_x(), client.certificate\n",
    "        trace('[SchnorrVerifier]', f'{x = }')\n",
    "        \n",
    "        #\n",
    "        # Если сертификат битый или невалидный, то это плохо\n",
    "        #\n",
    "        \n",
    "        if not ca.verify_certificate(cert):\n",
    "            trace('[SchnorrVerifier]', f'Invalid certificate {cert}')\n",
    "            return False\n",
    "            \n",
    "        #\n",
    "        # Генерирую число е и отдаю его клиенту\n",
    "        #\n",
    "            \n",
    "        e = randint(1, 2 ** self._security_parameter)\n",
    "        while e in self._e_values:\n",
    "            e = randint(1, 2 ** self._security_parameter)\n",
    "            \n",
    "        self._e_values.add(e)        \n",
    "        trace('[SchnorrVerifier]', f'{e = }')\n",
    "        \n",
    "        y = client.get_y(e, self._security_parameter)\n",
    "        trace('[SchnorrVerifier]', f'{y = }')\n",
    "        \n",
    "        #\n",
    "        # Вычисляю значение, которое необходимо сравнить с полученным от клиента х\n",
    "        # И сразу же сравниваю их\n",
    "        # \n",
    "        \n",
    "        product = gmpy2.mul(gmpy2.powmod(self._g, y, self._p), \n",
    "                            gmpy2.powmod(client.public_key, e, self._p))\n",
    "        z = gmpy2.t_mod(product, self._p)\n",
    "        trace('[SchnorrVerifier]', f'{z = }')\n",
    "        \n",
    "        is_successful = x == z\n",
    "        print(f'Authentication successful: {is_successful}')\n",
    "        \n",
    "        return is_successful"
   ]
  },
  {
   "cell_type": "markdown",
   "id": "557676ab",
   "metadata": {},
   "source": [
    "----"
   ]
  },
  {
   "cell_type": "code",
   "execution_count": 17,
   "id": "ccc4b7af",
   "metadata": {},
   "outputs": [
    {
     "name": "stdout",
     "output_type": "stream",
     "text": [
      "[TRACE] [SchnorrCA] p = mpz(42492187716246303591873886351175132887413953214503963854531519429700190816582107989569043329482844927233580157457348315985559902261389793615227452066125336962917539408539288153169977724359243119816583843883813904978247032445130289743824391230066478441047274316416743672096667760880932921413121817786605084183), q = mpz(759667855392043910016840201278889082419369541309), g = mpz(38496797570154813156314799678668401887360033348834535930026231650880143771174023554915500051219122316406531684617681343057765441900121819664794692125046907190089803590692177428660158077393154395143341957965717146876611094921451520766361588663796434261503681376124746500822935346751804161790938133021977333977)\n",
      "[TRACE] [SchnorrCA] RSA public key = (65537, 586026874431328832368077149569895486423996160969344044330237406784398873625505313154780290296073218543679007716443514232895854749803932123184305469608314712745665687998420143605809355756229939857383225478222666146497492556670927989112851318185614275677224132383734556536523395688166373744090163224857051968128607013580375250527772041565218060876331457410867158907624341608044957717527352863950580755219197408136696656372655831516376589118508561314101239450381496967240948718959190267762302549706924589702755323713196012949794903624549792921949023304990799565385905137089378223132045619485477451830984190130044324638243495558221174172414655345276176459403503639899081702913829881621097524106365655863128794538335127371848227359013923608077951213629445305799042220868135345060264717738517922738864099631132973923184853126753129541616276911181747517267620883049630807814295047028037507624811474387119076801197401516605453522277532598472352334053698022477266729302614191048621842328215638308426488293227973647609070213809346133434806288773738750317582859099025639990342132730353411845251031747723459133438151452933651956576286673375034926260123939177060292293841749087829466332786388280137612164257254091600604116517810063722712402900877)\n"
     ]
    }
   ],
   "source": [
    "# Создаю доверенный центр\n",
    "ca = SchnorrCA()"
   ]
  },
  {
   "cell_type": "code",
   "execution_count": 18,
   "id": "593f60e2",
   "metadata": {},
   "outputs": [
    {
     "name": "stdout",
     "output_type": "stream",
     "text": [
      "[TRACE] [SchnorrClient] Client bd7d8147-2e96-4cee-9a7d-bad133ae7635\n",
      "[TRACE] [SchnorrClient] Public key = 11889122677074424677506345760468329142477273695440611736637641479923364805195270147088967274953342324554656171690519084934564536401546679955110274898699910445779949497303078831260010159175717604551028692486548640156489108747400405131799197572006430565008527250716999004710098983153811877207652306045753743591\n"
     ]
    }
   ],
   "source": [
    "# Создам Алису - валидного пользователя\n",
    "alice = SchnorrClient(ca.parameters)"
   ]
  },
  {
   "cell_type": "code",
   "execution_count": 19,
   "id": "02976d98",
   "metadata": {},
   "outputs": [
    {
     "name": "stdout",
     "output_type": "stream",
     "text": [
      "[TRACE] [SchnorrCA] Certificate = (UUID('bd7d8147-2e96-4cee-9a7d-bad133ae7635'), mpz(11889122677074424677506345760468329142477273695440611736637641479923364805195270147088967274953342324554656171690519084934564536401546679955110274898699910445779949497303078831260010159175717604551028692486548640156489108747400405131799197572006430565008527250716999004710098983153811877207652306045753743591), b'\\x06\\xd3\\x19eI\\x1a.8\\xcb\\xed*\\xe9&\\xca\\xc7nG9^^\\xe4:$t`\\xfb>\\x11\\xd1\\xe1O\\xf4\\xc8zvS\\xbb E8\\xa4V\\xd4\\xb777\\xcf!\\x02\\xa2Wqw\\xce\\xbf\\xdc\\x0es\\xd0\\xef\\xbc\\x17\\xc4hh\\xb0\\xb8\\'\\xb1\\xf8\\xf2\\xff51\\xa8\\x7f\\x97T\\x0f\\x06\"\\xfeN\\x18^%+\\xf5B\\xe2L\\xb1\\xf6X\\xcdF\\xe2\\xc6\\xbcHfE0G\\xd6<\\x15\\xb8\\xb6\\x94\\x1d\\xb3\\xbc\\xac\\xa0\\xd1%\\x17.\\xd9\\xf7\\x8a\\xca\\x05\\xfd\\xec\\xdc\\xca\\xa5o\\xe7\\xc1\\xad\\xcf\\xef\\xdc\\n\\x11\\xa9u\\x1f\\x14\\xef\\x8cKi\\x0b*\\x93-\\x0cQ\\xf4\\x94b\\x08\\xec\\x83\\x86\\xd0I\\x87\\x97\\xfa@\\xbea\\x18\\xbe)W\\xf54\\xff@H\\xa66t\\xc9\\xba\\xcc\\x1f\\x16\\x0eR\\xb5#V\\xe8z%\\x8dVc\\x7f\\xf0X\\xa5\\xeb\\xae\\xa8\\x86j\\x07\\xcd\\\\\\x86\\x9a\\x93\\x917\\xf1\\xd5.g\\xef\\xdd2jk\\xc42\\xdc\\xd3-P\\xc0z\\xa4\\x99\\x11KB\\xe4+F\\rQ\\xb4]R\\x11u\\xd5\\xb1\\xc3\\xfb\\xe3 \\x0c\\xd4J;\\xad\\xf8\\x1d\\xa6G\\xfa\\xd0E\\xa4\\xaa\\xa5\\xa2\\xb1\\x1fscj\\x87\\x98\\xfd1\\x96\\xc3\\xef\\x94\\xce\\xa0#\\xb4\\x92\\xdfQ\\xf9\\xbd2<p)\\n\\xf8\\xda\\x1a\\xf6\\x1c\\xc8\\xa5\\x11i\\xdb\\xd2\\xb4\\xed8\\x0f\\x00\\x9dX\\x00\\x1d\\xf1\\xc9\\xd6\\x83w\\x94\\x880\\xbc\\xfb\\xa8\\xc84\\x9b)\\x1b\\rp\\x1c\\x7f\\x9f\\x14\\x80-.\\x98\\xe7]\\xaa\\xe09%\\x9d\\xd9\\x8d\\x8d\\xd58\\x19v\\xe5\\x95\\xb49\\x0cV\\xcaU\\x01\\xe6\\xda\\x87\\xf7\\xfc\\x85sG\\x05E\\x84\\x17\\xd2\\xb71\\x8di\\xb5\\xe4\\x05Z\\x80\\x19\\xca\\x1f0\\x85\\xb6\\x13R\\x152\\xc2\\xc34/nE+\\xc7h\\x88.\\xadB\\x14\\xa7\\x0fI\\\\G\\xf1\\xb5q\\xb2\\x9bn\\xbf\\xf5\\xe6\\xe0\\xd6d\\xfc\\xda\\x9d\\xc7\\r\\xb9\\xf8&z9i[\\'\\x02\\xb9\\xc6f\\xe4\\x8cv\\x08T\\xe7]\\xb23W_]O\\xe5D\\x82\\x18I\\x92\\x88YX\\xe9\\x13s\\x8a\\x8fbHY\\x9f\\xfc\\rx\\x9b\\xee8E\\x94,)\\xa8\\xcf1a\\xc0M\\xfewE\\x12\\xcb\\xe1\\xb9\\x063G\\x1b,3U\\x01f\\xc2\\x97\\x0e\\xc3*\\xa6\\xcf')\n"
     ]
    }
   ],
   "source": [
    "# Регистрирую валидного пользователя\n",
    "alice.register(ca)"
   ]
  },
  {
   "cell_type": "code",
   "execution_count": 20,
   "id": "edc0fd30",
   "metadata": {},
   "outputs": [],
   "source": [
    "# Параметр безопасности положим равным 10 для демонстрации\n",
    "security_parameter = 10\n",
    "\n",
    "# Создаю проверяющую сторону\n",
    "verifier = SchnorrVerifier(ca.parameters, security_parameter)"
   ]
  },
  {
   "cell_type": "code",
   "execution_count": 21,
   "id": "bb31574e",
   "metadata": {},
   "outputs": [
    {
     "name": "stdout",
     "output_type": "stream",
     "text": [
      "[TRACE] [SchnorrVerifier] x = mpz(33209829322026888714222930572616777954978472216202647915615056224752511348556424047152003874179274952510359062951926848846530536598662269611430864159226128367083810297903322607377345769920939338554368411658085900826802311555869507983725791375269142028550731241462711302470425844203864445682303930118045445730)\n",
      "[TRACE] [SchnorrVerifier] e = mpz(933)\n",
      "[TRACE] [SchnorrVerifier] y = mpz(173991743477541425087934729160906597071791526788)\n",
      "[TRACE] [SchnorrVerifier] z = mpz(33209829322026888714222930572616777954978472216202647915615056224752511348556424047152003874179274952510359062951926848846530536598662269611430864159226128367083810297903322607377345769920939338554368411658085900826802311555869507983725791375269142028550731241462711302470425844203864445682303930118045445730)\n",
      "Authentication successful: True\n"
     ]
    },
    {
     "data": {
      "text/plain": [
       "True"
      ]
     },
     "execution_count": 21,
     "metadata": {},
     "output_type": "execute_result"
    }
   ],
   "source": [
    "# Произвожу аутентификацию валидного пользователя\n",
    "verifier.authenticate(alice, ca)"
   ]
  },
  {
   "cell_type": "code",
   "execution_count": 22,
   "id": "8db0a136",
   "metadata": {},
   "outputs": [
    {
     "name": "stdout",
     "output_type": "stream",
     "text": [
      "[TRACE] [SchnorrClient] Client bd7d8147-2e96-4cee-9a7d-bad133ae7635\n",
      "[TRACE] [SchnorrClient] Public key = 11889122677074424677506345760468329142477273695440611736637641479923364805195270147088967274953342324554656171690519084934564536401546679955110274898699910445779949497303078831260010159175717604551028692486548640156489108747400405131799197572006430565008527250716999004710098983153811877207652306045753743591\n"
     ]
    }
   ],
   "source": [
    "# Создаю Еву - клиента, который пытается представиться Алисой\n",
    "eve = SchnorrClient(ca.parameters, \n",
    "                    fake_data=(alice.identifier, alice.public_key, alice.certificate))"
   ]
  },
  {
   "cell_type": "code",
   "execution_count": 23,
   "id": "d496ab7f",
   "metadata": {},
   "outputs": [
    {
     "name": "stdout",
     "output_type": "stream",
     "text": [
      "[TRACE] [SchnorrVerifier] x = mpz(29774271887083324961343510679709702844439407169277279947600561198662953394398868439060349650416497706416649837360456505693545728413062035109485970737996020045791790433976796257183015270428061242407299712453448966056988775507671615926059072518358448725356420959218479113017811043356859793298711562914321143312)\n",
      "[TRACE] [SchnorrVerifier] e = mpz(520)\n",
      "[TRACE] [SchnorrVerifier] y = mpz(21365846562367195232212684665749383175012289796)\n",
      "[TRACE] [SchnorrVerifier] z = mpz(18488921263156169410758695705536906893178310501674731177757481137657296020196094417490495876609678335570938259513726870924293430763370131888985244711528646792251042587747048034771591064908047926994804109271547270103243626584769400774690722812978100066600275551315081683134499685073318082155700458187119941683)\n",
      "Authentication successful: False\n"
     ]
    },
    {
     "data": {
      "text/plain": [
       "False"
      ]
     },
     "execution_count": 23,
     "metadata": {},
     "output_type": "execute_result"
    }
   ],
   "source": [
    "# Произвожу аутентификацию невалидного пользователя\n",
    "verifier.authenticate(eve, ca)"
   ]
  },
  {
   "cell_type": "code",
   "execution_count": null,
   "id": "f92c78ac",
   "metadata": {},
   "outputs": [],
   "source": []
  }
 ],
 "metadata": {
  "kernelspec": {
   "display_name": "Python 3 (ipykernel)",
   "language": "python",
   "name": "python3"
  },
  "language_info": {
   "codemirror_mode": {
    "name": "ipython",
    "version": 3
   },
   "file_extension": ".py",
   "mimetype": "text/x-python",
   "name": "python",
   "nbconvert_exporter": "python",
   "pygments_lexer": "ipython3",
   "version": "3.9.9"
  }
 },
 "nbformat": 4,
 "nbformat_minor": 5
}
