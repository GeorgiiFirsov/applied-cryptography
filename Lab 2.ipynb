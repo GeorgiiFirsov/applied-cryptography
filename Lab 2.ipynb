{
 "cells": [
  {
   "cell_type": "markdown",
   "id": "106168dc",
   "metadata": {},
   "source": [
    "# Протоколы аутентификации с нулевым разглашением"
   ]
  },
  {
   "cell_type": "code",
   "execution_count": 1,
   "id": "4a343351",
   "metadata": {},
   "outputs": [],
   "source": [
    "IS_DEBUG = 1"
   ]
  },
  {
   "cell_type": "code",
   "execution_count": 2,
   "id": "34caa6a0",
   "metadata": {},
   "outputs": [],
   "source": [
    "def trace(*args, **kwargs):\n",
    "    \"\"\"\n",
    "    Отладочная трассировка\n",
    "    \"\"\"\n",
    "    \n",
    "    global IS_DEBUG\n",
    "    if IS_DEBUG:\n",
    "        print('[TRACE]', end=' ')\n",
    "        print(*args, **kwargs)"
   ]
  },
  {
   "cell_type": "markdown",
   "id": "cc0a54f3",
   "metadata": {},
   "source": [
    "---"
   ]
  },
  {
   "cell_type": "code",
   "execution_count": 3,
   "id": "de92ae59",
   "metadata": {},
   "outputs": [],
   "source": [
    "# Генерация простых чисел\n",
    "from Crypto.Util import number\n",
    "\n",
    "# КГПСЧ\n",
    "from Crypto.Random import random\n",
    "\n",
    "# Понадобится в протоколе Шнорра\n",
    "from Crypto.PublicKey import RSA\n",
    "from Crypto.Signature import pss\n",
    "from Crypto.Hash import SHA256\n",
    "\n",
    "# Немного математики\n",
    "import gmpy2\n",
    "\n",
    "# Для генерации идентификаторов клиентов\n",
    "import uuid"
   ]
  },
  {
   "cell_type": "markdown",
   "id": "cb741152",
   "metadata": {},
   "source": [
    "---"
   ]
  },
  {
   "cell_type": "code",
   "execution_count": 4,
   "id": "f2b2a63e",
   "metadata": {},
   "outputs": [],
   "source": [
    "def randint(a, b) -> gmpy2.mpz:\n",
    "    \"\"\"\n",
    "    Генерация случайного числа в отрезке [a, b] с помощью КГПСЧ с поддержкой gmpy2\n",
    "    \"\"\"\n",
    "    \n",
    "    native_a = int(a)\n",
    "    native_b = int(b)\n",
    "    \n",
    "    return gmpy2.mpz(random.randint(native_a, native_b))\n",
    "\n",
    "\n",
    "def getrandbits(n) -> gmpy2.mpz:\n",
    "    \"\"\"\n",
    "    Генерация случайного числа длиной n бит с помощью КГПСЧ с поддержкой gmpy2\n",
    "    \"\"\"\n",
    "    \n",
    "    native_n = int(n)\n",
    "    \n",
    "    return gmpy2.mpz(random.getrandbits(native_n))"
   ]
  },
  {
   "cell_type": "markdown",
   "id": "f535aa56",
   "metadata": {},
   "source": [
    "----"
   ]
  },
  {
   "cell_type": "markdown",
   "id": "6d0f7585",
   "metadata": {},
   "source": [
    "## Протокол Фиата-Шамира\n",
    "![Fiat-Shamir Protocol](./images/Fiat-Shamir_2.png)"
   ]
  },
  {
   "cell_type": "code",
   "execution_count": 5,
   "id": "fa6d8a01",
   "metadata": {},
   "outputs": [],
   "source": [
    "class FiatShamirCA(object):\n",
    "    PRIME_BITS = 1024\n",
    "    \n",
    "    def __init__(self):\n",
    "        \"\"\"\n",
    "        Инициализация доверенного центра.\n",
    "        Генерируются два простых числа и их произведение.\n",
    "        \"\"\"\n",
    "        \n",
    "        self._db = {}\n",
    "        \n",
    "        self._p = number.getPrime(FiatShamirCA.PRIME_BITS)\n",
    "        self._q = number.getPrime(FiatShamirCA.PRIME_BITS)\n",
    "        self._modulus = gmpy2.mul(self._p, self._q)\n",
    "        \n",
    "        trace('[FiatShamirCA]', f'Modulus = {self._modulus}')\n",
    "        \n",
    "        \n",
    "    def register_client(self, client_id: uuid.UUID, client_public_key: gmpy2.mpz) -> None:\n",
    "        \"\"\"\n",
    "        Регистрация клиента. На вход принимает идентификатор клиента и его открытый ключ.\n",
    "        Ничего не возвращает.\n",
    "        Выбрасывает исключение, если клиент уже существует.\n",
    "        \"\"\"\n",
    "        \n",
    "        trace('[FiatShamirCA]', f'''Attempting to register client {client_id} \n",
    "        with public key {client_public_key}''')\n",
    "        \n",
    "        if client_id in self._db:\n",
    "            trace('[FiatShamirCA]', 'User already exists')\n",
    "            raise ValueError(f'Client {client_id} is already registered')\n",
    "            \n",
    "        #\n",
    "        # Теперь сохраняю открытый ключ\n",
    "        #\n",
    "        \n",
    "        self._db[client_id] = client_public_key\n",
    "        trace('[FiatShamirCA]', 'Client registered successfully')\n",
    "        \n",
    "        \n",
    "    def get_public_key(self, client_id: uuid.UUID) -> gmpy2.mpz:\n",
    "        \"\"\"\n",
    "        Получение открытого ключа клиента. Получает на вход идентификатор клиента.\n",
    "        Возвращает открытый ключ.\n",
    "        Выбрасывает исключение, если пользователь отсутствует.\n",
    "        \"\"\"\n",
    "        \n",
    "        return self._db[client_id]\n",
    "       \n",
    "        \n",
    "    @property\n",
    "    def modulus(self) -> gmpy2.mpz:\n",
    "        \"\"\"\n",
    "        Возвращает модуль.\n",
    "        \"\"\"\n",
    "        \n",
    "        return self._modulus"
   ]
  },
  {
   "cell_type": "code",
   "execution_count": 6,
   "id": "0c7c49db",
   "metadata": {},
   "outputs": [],
   "source": [
    "class FiatShamirClient(object):\n",
    "    def __init__(self, modulus: gmpy2.mpz, *,\n",
    "                 fake_data: tuple[uuid.UUID, gmpy2.mpz] = None):\n",
    "        \"\"\"\n",
    "        Инициализация клиента с выработкой ключевой пары и идентификатора.\n",
    "        Последний параметр требуются для демонстрации неудачной аутентификации.\n",
    "        \"\"\"\n",
    "        \n",
    "        self._id = uuid.uuid4() if fake_data is None else fake_data[0]\n",
    "        self._r = None\n",
    "        \n",
    "        self._private_key = FiatShamirClient._generate_coprime(modulus)\n",
    "        self._public_key = gmpy2.powmod(self._private_key, 2, modulus) if fake_data is None else fake_data[1]\n",
    "        \n",
    "        trace('[FiatShamirClient]', f'Client {self._id}')\n",
    "        trace('[FiatShamirClient]', f'Public key = {self._public_key}')\n",
    "        \n",
    "        \n",
    "    @property\n",
    "    def public_key(self) -> gmpy2.mpz:\n",
    "        \"\"\"\n",
    "        Получение открытого ключа.\n",
    "        \"\"\"\n",
    "        \n",
    "        return self._public_key\n",
    "    \n",
    "    \n",
    "    @property\n",
    "    def identifier(self) -> uuid.UUID:\n",
    "        \"\"\"\n",
    "        Получение идентификатора.\n",
    "        \"\"\"\n",
    "        \n",
    "        return self._id\n",
    "    \n",
    "    \n",
    "    def get_x(self, modulus: gmpy2.mpz) -> gmpy2.mpz:\n",
    "        \"\"\"\n",
    "        Получение случайного значения, вычисляемого по формуле:\n",
    "                    x = r ** 2 mod n,\n",
    "        где n - модуль, r - случайное целое число из отрезка [1, n - 1].\n",
    "        Значение r сохраняется.\n",
    "        \"\"\"\n",
    "        \n",
    "        self._r = randint(1, modulus - 1)\n",
    "        return gmpy2.powmod(self._r, 2, modulus)\n",
    "    \n",
    "    \n",
    "    def get_y(self, e: gmpy2.mpz, modulus: gmpy2.mpz) -> gmpy2.mpz:\n",
    "        \"\"\"\n",
    "        Получение числа, вычисляемого по формуле:\n",
    "                    y = r * s ** e mod n,\n",
    "        где n - модуль, s - закрытый ключ пользователя, r - сгенерированное \n",
    "        функцией get_x внутреннее значение, e - целое число из отрезка [0, 1],\n",
    "        пришедшее от проверяющего.\n",
    "        \"\"\"\n",
    "        \n",
    "        product = gmpy2.mul(self._r, gmpy2.powmod(self._private_key, e, modulus))\n",
    "        return gmpy2.t_mod(product, modulus)\n",
    "        \n",
    "        \n",
    "    @staticmethod\n",
    "    def _generate_coprime(modulus: gmpy2.mpz) -> gmpy2.mpz:\n",
    "        \"\"\"\n",
    "        Генерация случайного числа из отрезка [1, n - 1], взаимно\n",
    "        простого с n, где n - модуль.\n",
    "        \"\"\"\n",
    "        \n",
    "        #\n",
    "        # Генерирую число до тех пор, пока оно не станет взаимно простым с модулем\n",
    "        #\n",
    "        \n",
    "        result = randint(1, modulus - 1)\n",
    "        while gmpy2.gcd(result, modulus) != 1:\n",
    "            result = randint(1, modulus - 1)\n",
    "            \n",
    "        return result"
   ]
  },
  {
   "cell_type": "code",
   "execution_count": 7,
   "id": "4b83de98",
   "metadata": {},
   "outputs": [],
   "source": [
    "class FiatShamirVerifier(object):\n",
    "    def __init__(self, iterations: int):\n",
    "        \"\"\"\n",
    "        Инициализация проверяющего. Задает коичество итераций проверки.\n",
    "        \"\"\"\n",
    "        \n",
    "        self._iterations = iterations\n",
    "        \n",
    "        \n",
    "    def authenticate(self, client: FiatShamirClient, ca: FiatShamirCA) -> bool:\n",
    "        \"\"\"\n",
    "        Аутентификация клиента. На вход принимает дескрипторы клиента и СА.\n",
    "        Возвращает True в случае успешной аутентификации.\n",
    "        \"\"\"\n",
    "        \n",
    "        trace('[FiatShamirVerifier]', f'Attempt to authenticate client {client.identifier}')\n",
    "        trace('[FiatShamirVerifier]', f'Number of iterations = {self._iterations}')\n",
    "        \n",
    "        is_successful = True\n",
    "        \n",
    "        for i in range(self._iterations):\n",
    "            x = client.get_x(ca.modulus)\n",
    "            trace('[FiatShamirVerifier]', f'[Iteration {i + 1}] {x = }')\n",
    "            \n",
    "            e = randint(0, 1)\n",
    "            trace('[FiatShamirVerifier]', f'[Iteration {i + 1}] {e = }')\n",
    "            \n",
    "            y = client.get_y(e, ca.modulus)\n",
    "            trace('[FiatShamirVerifier]', f'[Iteration {i + 1}] {y = }')\n",
    "            \n",
    "            pk = ca.get_public_key(client.identifier)\n",
    "            product = gmpy2.mul(x, gmpy2.powmod(pk, e, ca.modulus))\n",
    "            \n",
    "            successful_iteration = gmpy2.powmod(y, 2, ca.modulus) == gmpy2.t_mod(product, ca.modulus)\n",
    "            is_successful &= successful_iteration\n",
    "            \n",
    "            trace('[FiatShamirVerifier]', f'[Iteration {i + 1}] success: {successful_iteration}')\n",
    "            \n",
    "            if not successful_iteration:\n",
    "                break\n",
    "            \n",
    "        print(f'Authentication successful: {is_successful}')\n",
    "        return is_successful"
   ]
  },
  {
   "cell_type": "markdown",
   "id": "0619aa11",
   "metadata": {},
   "source": [
    "----"
   ]
  },
  {
   "cell_type": "code",
   "execution_count": 8,
   "id": "38249da2",
   "metadata": {},
   "outputs": [
    {
     "name": "stdout",
     "output_type": "stream",
     "text": [
      "[TRACE] [FiatShamirCA] Modulus = 13278809920564849048192301590773477588906409326272330307226733334831540274520906404803678702725156012439938169935138453281957126507511244238259023667338663089415181327105242318311371983894261231376179540214090059741865422158272421225941373676302171328693991602850418336071383579844628847211264894587851642450356591576978295589725993095190589519706150153791231897507488102742214336972545169130550607797108893280632409464066632113511979736996750307455425480493893647810545827437385739582399919564641748435795606686464078697496751761956660061216492080969289979847863759518339581310489962154382130112427727141999446340213\n"
     ]
    }
   ],
   "source": [
    "# Создаю доверенный центр\n",
    "ca = FiatShamirCA()"
   ]
  },
  {
   "cell_type": "code",
   "execution_count": 9,
   "id": "0610769c",
   "metadata": {},
   "outputs": [
    {
     "name": "stdout",
     "output_type": "stream",
     "text": [
      "[TRACE] [FiatShamirClient] Client f22b36b8-b9ed-476f-8654-2fbef5ae15e0\n",
      "[TRACE] [FiatShamirClient] Public key = 9983682727313212491528435064815239236399168939138470093115952937522519056663298781367412581421900809415906719022875329067162232756560549540073709157759344310690253211223927509371448820387707894422876876630194342975259049095497687374196738637798937948652002100230452076492304147636383193275376680929961899282256411688067448319480366261089911921359781364490139086509278018597870482505827058054715131643911586224548717254169121621600986675873686166474518049771319753917801474548318038132174121979341483575495081605124003836127169796763478195015452008152019401865378682842512929396900425502017254808080602623038332046403\n",
      "[TRACE] [FiatShamirClient] Client f22b36b8-b9ed-476f-8654-2fbef5ae15e0\n",
      "[TRACE] [FiatShamirClient] Public key = 9983682727313212491528435064815239236399168939138470093115952937522519056663298781367412581421900809415906719022875329067162232756560549540073709157759344310690253211223927509371448820387707894422876876630194342975259049095497687374196738637798937948652002100230452076492304147636383193275376680929961899282256411688067448319480366261089911921359781364490139086509278018597870482505827058054715131643911586224548717254169121621600986675873686166474518049771319753917801474548318038132174121979341483575495081605124003836127169796763478195015452008152019401865378682842512929396900425502017254808080602623038332046403\n"
     ]
    }
   ],
   "source": [
    "# Создаю двух пользователей:\n",
    "# - Алису - валидного пользователя\n",
    "# - Еву - пользователя, представляющегося Алисой. но не знающего закрытого ключа Алисы\n",
    "alice = FiatShamirClient(ca.modulus)\n",
    "eve = FiatShamirClient(ca.modulus, \n",
    "                       fake_data=(alice.identifier, alice.public_key))"
   ]
  },
  {
   "cell_type": "code",
   "execution_count": 10,
   "id": "93d9f546",
   "metadata": {},
   "outputs": [
    {
     "name": "stdout",
     "output_type": "stream",
     "text": [
      "[TRACE] [FiatShamirCA] Attempting to register client f22b36b8-b9ed-476f-8654-2fbef5ae15e0 \n",
      "        with public key 9983682727313212491528435064815239236399168939138470093115952937522519056663298781367412581421900809415906719022875329067162232756560549540073709157759344310690253211223927509371448820387707894422876876630194342975259049095497687374196738637798937948652002100230452076492304147636383193275376680929961899282256411688067448319480366261089911921359781364490139086509278018597870482505827058054715131643911586224548717254169121621600986675873686166474518049771319753917801474548318038132174121979341483575495081605124003836127169796763478195015452008152019401865378682842512929396900425502017254808080602623038332046403\n",
      "[TRACE] [FiatShamirCA] Client registered successfully\n"
     ]
    }
   ],
   "source": [
    "# Регистрирую валидного пользователя\n",
    "ca.register_client(alice.identifier, alice.public_key)"
   ]
  },
  {
   "cell_type": "code",
   "execution_count": 11,
   "id": "9e40d678",
   "metadata": {},
   "outputs": [],
   "source": [
    "# Для простоты будет 3 итерации\n",
    "ITERATIONS = 3\n",
    "\n",
    "# Создаю проверяющую сторону\n",
    "verifier = FiatShamirVerifier(ITERATIONS)"
   ]
  },
  {
   "cell_type": "code",
   "execution_count": 12,
   "id": "b78d5d03",
   "metadata": {},
   "outputs": [
    {
     "name": "stdout",
     "output_type": "stream",
     "text": [
      "[TRACE] [FiatShamirVerifier] Attempt to authenticate client f22b36b8-b9ed-476f-8654-2fbef5ae15e0\n",
      "[TRACE] [FiatShamirVerifier] Number of iterations = 3\n",
      "[TRACE] [FiatShamirVerifier] [Iteration 1] x = mpz(6257121833348624605957790855757805620010101467056323565053639234154521639671897488802474879220714453411210725519528149083408175575438079405860551073597194531213490326107943414924002033728216785437234917237005756786856149077898830648245492976532225710885155660594906120565402461020446034952848666884871028487458827524423438925821385723696112562938701443377687945736014135714960677146759209629380846353071415967370807015250134429322713945115878585900485100073534726232527315550557724154893465969473969085854319152735392573010439741070568441828185660265986305197807173343560667110489250495416404629188593882653415763479)\n",
      "[TRACE] [FiatShamirVerifier] [Iteration 1] e = mpz(1)\n",
      "[TRACE] [FiatShamirVerifier] [Iteration 1] y = mpz(8763843307901886014839848319179051615273121265267959770476495564457819171855884653812043421203360673922454065887159141253905531578037249048029583152915256886040144109543042024026972079455969402960489489076261016507262767927057331659563577363519249714616730059468123884791315621737021318901163724099570847448916864599993068647285141052530186830146403571805072541758805212014413075001228790232777566591744403093807450868587062777142448561124349255266698912799749416552035331050078714129073486253845384188876923183599700492177531954286967175516123490452658907176123189930602054599148638927432073134440655812834991690444)\n",
      "[TRACE] [FiatShamirVerifier] [Iteration 1] success: True\n",
      "[TRACE] [FiatShamirVerifier] [Iteration 2] x = mpz(2746890765844707910639467682073458904132059914416667251224831173805361440804074228664308038083544213852907909646195830769325095101543157313252294797231914230744352287109611165434391412399593370190289182821301608781739574549921217557048742121423177749305158175810966916062218551533377277356583647735474660770330529669247782945566887650443762608294821625165913661269785147700386673361278263930550792135649026110163563451282232830432959636541080960795362998023778449889514475788088127008562853088262190758491951736033336354774791837618256464853896528384142502251464872252480006720670311801458358673647829510934339805512)\n",
      "[TRACE] [FiatShamirVerifier] [Iteration 2] e = mpz(1)\n",
      "[TRACE] [FiatShamirVerifier] [Iteration 2] y = mpz(1301983311841957328974163308062608091396453823208597418309042331535819540304723220798192282747723297525857247754196132690382652333671676373823592351044193614293286226800534362052129067211530356978863016658855949045147046477528935164616146237641794166661464457430527012585103757921813532042500044810879829293609721993033628170056194249314670209894520961031649339522200446915177101943869935459406559359037866022586462697087065972584998370246158415330901429301892784443028364377237742211247690876465512515350516411874893887157943110740145238371110281578477492985787767564413416768816753278842038676964064622317270236906)\n",
      "[TRACE] [FiatShamirVerifier] [Iteration 2] success: True\n",
      "[TRACE] [FiatShamirVerifier] [Iteration 3] x = mpz(969520026850337231086349835317360542651722601145569674760857729728773218081790974619601507314581025418102063764640651279485342064730721014003341984955318468066234603682943682180739028231243379776137819908763807658322620382415516331155780244114566085475802778527857852174835994181894509027412703428780715221080085768614805108518744980345435885619302279918474014144839091546129318240478319008014151918323047009644086479186202086859168943763744961931794594797382214400009190008429103134229599333545016150260196059739920558520012441315654070877993795631418460118200754719959294891759198955459021701696312674372919093437)\n",
      "[TRACE] [FiatShamirVerifier] [Iteration 3] e = mpz(0)\n",
      "[TRACE] [FiatShamirVerifier] [Iteration 3] y = mpz(8479326344547824396116186392872998787984526611528832748987374367115575831953140685502530627539119771218324010623011969046144903578042442318811596017676804900055056381851181562759422641970281709037826816615113278346012013995293348762596988903437251690806749413204510298949851177082742592918296957493722036266058692433156811277496762367653130712996140931905433002061185896802181812403258651917927706737545862288073857989037450417939905509094221719284496149400876647556326217353396101500742667123123555472077764169281053133641171195994406145442586130940610764576642714101502905427349204946146750240668575609639400718907)\n",
      "[TRACE] [FiatShamirVerifier] [Iteration 3] success: True\n",
      "Authentication successful: True\n"
     ]
    },
    {
     "data": {
      "text/plain": [
       "True"
      ]
     },
     "execution_count": 12,
     "metadata": {},
     "output_type": "execute_result"
    }
   ],
   "source": [
    "# Произвожу аутентификацию валидного пользователя\n",
    "verifier.authenticate(alice, ca)"
   ]
  },
  {
   "cell_type": "code",
   "execution_count": 13,
   "id": "9af63972",
   "metadata": {},
   "outputs": [
    {
     "name": "stdout",
     "output_type": "stream",
     "text": [
      "[TRACE] [FiatShamirVerifier] Attempt to authenticate client f22b36b8-b9ed-476f-8654-2fbef5ae15e0\n",
      "[TRACE] [FiatShamirVerifier] Number of iterations = 3\n",
      "[TRACE] [FiatShamirVerifier] [Iteration 1] x = mpz(9757318661082508585898975527461302682314816649943497333157136606640354119090222770100791571522046842302570142069149827875503362383053904411393333497218353496682482111421898753169384845506819497682785495045495404804909698917327999169970935300302676338623625511255655854136526239638741533681245148169135307073262114647056165124228318485800814237572189235493181787047721033490032744994449602975750111068605649923455375602299895706604772755752772226152673011337243594587710822661608129525166730433873011859763286303811900280461071544731515507499829429674278418928784057428965867036775536137889032562938554351589669240544)\n",
      "[TRACE] [FiatShamirVerifier] [Iteration 1] e = mpz(1)\n",
      "[TRACE] [FiatShamirVerifier] [Iteration 1] y = mpz(6513723379604560243590159514217448287762641232528351352633674822229280522046626621860625090119664167599596642780246859876909909169064466090954959056942754751921038856469132810536810322965211203194157887360808540120241922880364830156845679479375791044622159173997321917408065691860397149925160704625977380084662560009388024169992062194676195489257421411434215266478967216579999310528116261165836535624974521608994941096418458835671361599418011310038443047444288322294803291748742486609692589285797162826557493928496573430935404384067551522799042207941032686671230314848899996600365531601652297543422884892117439952150)\n",
      "[TRACE] [FiatShamirVerifier] [Iteration 1] success: False\n",
      "Authentication successful: False\n"
     ]
    },
    {
     "data": {
      "text/plain": [
       "False"
      ]
     },
     "execution_count": 13,
     "metadata": {},
     "output_type": "execute_result"
    }
   ],
   "source": [
    "# Произвожу аутентификацию невалидного пользователя\n",
    "verifier.authenticate(eve, ca)"
   ]
  },
  {
   "cell_type": "markdown",
   "id": "72287ef6",
   "metadata": {},
   "source": [
    "---"
   ]
  },
  {
   "cell_type": "markdown",
   "id": "82d1c58b",
   "metadata": {},
   "source": [
    "## Протокол Шнорра\n",
    "![Schnorr Protocol](./images/Schnorr_2.png)"
   ]
  },
  {
   "cell_type": "code",
   "execution_count": 14,
   "id": "fc202515",
   "metadata": {},
   "outputs": [],
   "source": [
    "class SchnorrCA(object):\n",
    "    RSA_KEY_LENGTH = 4096\n",
    "    \n",
    "    def __init__(self):\n",
    "        \"\"\"\n",
    "        Инициализация доверенного центра\n",
    "        Генерация простых чисел p, q и элемента g, а также ключевой пары СА\n",
    "        \"\"\"\n",
    "        \n",
    "        self._db = {}\n",
    "        \n",
    "        #\n",
    "        # Генерация параметров протокола\n",
    "        #\n",
    "        \n",
    "        self._p, self._q, self._g = SchnorrCA._generate_parameters()\n",
    "        \n",
    "        #\n",
    "        # Ключевая пара RSA для СА\n",
    "        #\n",
    "        \n",
    "        self._private_key = RSA.generate(SchnorrCA.RSA_KEY_LENGTH)\n",
    "        self._public_key = self._private_key.publickey()\n",
    "        \n",
    "        trace('[SchnorrCA]', f'RSA public key = {(self._public_key.e, self._public_key.n)}')\n",
    "        \n",
    "        \n",
    "    def register_client(self, \n",
    "                        client_id: uuid.UUID, \n",
    "                        client_public_key: gmpy2.mpz) -> tuple[uuid.UUID, gmpy2.mpz, bytes]:\n",
    "        \"\"\"\n",
    "        Регистрация клиента. Принимает на вход идентификатор клиента и его открытый ключ.\n",
    "        Возвращает подписанный сервером сертификат.\n",
    "        Выбрасывает исключение, если клиент уже зарегистрирован.\n",
    "        \"\"\"\n",
    "        \n",
    "        if client_id in self._db:\n",
    "            trace('[SchnorrCA]', 'User already exists')\n",
    "            raise ValueError(f'Client {client_id} is already registered')\n",
    "            \n",
    "        #\n",
    "        # Создаю сертификат\n",
    "        #\n",
    "            \n",
    "        h = SHA256.new(str(client_id).encode() + number.long_to_bytes(int(client_public_key)))\n",
    "        signature = pss.new(self._private_key).sign(h)\n",
    "        \n",
    "        certificate = (client_id, client_public_key, signature)\n",
    "        trace('[SchnorrCA]', f'Certificate = {certificate}')\n",
    "        \n",
    "        #\n",
    "        # Сохраняю его и возвращаю\n",
    "        #\n",
    "        \n",
    "        self._db[client_id] = certificate\n",
    "        return certificate\n",
    "    \n",
    "    \n",
    "    def verify_certificate(self, certificate: tuple[uuid.UUID, gmpy2.mpz, bytes]) -> bool:\n",
    "        \"\"\"\n",
    "        Проверка сертификата.\n",
    "        Возвращает признак валидности сертификата.\n",
    "        \"\"\"\n",
    "        \n",
    "        client_id, client_public_key, signature = certificate\n",
    "        \n",
    "        if client_id not in self._db:\n",
    "            trace('[SchnorrCA]', f\"Client {client_id} doesn't exist\")\n",
    "            raise ValueError(\"Client doesn't exist\")\n",
    "            \n",
    "        h = SHA256.new(str(client_id).encode() + number.long_to_bytes(int(client_public_key)))\n",
    "        verifier = pss.new(self.public_key)\n",
    "        \n",
    "        try:\n",
    "            verifier.verify(h, signature)\n",
    "            return True\n",
    "        except:\n",
    "            return False\n",
    "        \n",
    "        \n",
    "    @property\n",
    "    def public_key(self):\n",
    "        \"\"\"\n",
    "        Получение открытого ключа СА.\n",
    "        \"\"\"\n",
    "        \n",
    "        return self._public_key\n",
    "    \n",
    "    \n",
    "    @property\n",
    "    def parameters(self) -> tuple[gmpy2.mpz, gmpy2.mpz, gmpy2.mpz]:\n",
    "        \"\"\"\n",
    "        Параметры протокола (p, q, g)\n",
    "        \"\"\"\n",
    "        \n",
    "        return self._p, self._q, self._g\n",
    "        \n",
    "        \n",
    "    @staticmethod\n",
    "    def _generate_parameters() -> tuple[gmpy2.mpz, gmpy2.mpz, gmpy2.mpz]:\n",
    "        \"\"\"\n",
    "        Генерация параметров протокола (p, q, g).\n",
    "        \"\"\"\n",
    "        \n",
    "        Q_LENGTH = 160\n",
    "        P_LENGTH = 1024\n",
    "        \n",
    "        q = gmpy2.mpz(number.getPrime(Q_LENGTH))\n",
    "        p = gmpy2.mul(getrandbits(P_LENGTH - Q_LENGTH), q) + 1\n",
    "        \n",
    "        while not gmpy2.is_prime(p):\n",
    "            p = gmpy2.mul(getrandbits(P_LENGTH - Q_LENGTH), q) + 1\n",
    "            \n",
    "        #\n",
    "        # Сгенерирую число, взаимно простое с p\n",
    "        #\n",
    "        \n",
    "        tmp = getrandbits(P_LENGTH)\n",
    "        while gmpy2.gcd(tmp, p) != 1:\n",
    "            tmp = getrandbits(P_LENGTH)\n",
    "        \n",
    "        #\n",
    "        # По малой теореме Ферма такой g будет иметь порядок q\n",
    "        #\n",
    "        \n",
    "        g = gmpy2.powmod(tmp, (p - 1) // q, p)\n",
    "        \n",
    "        trace('[SchnorrCA]', f'{p = }, {q = }, {g = }')\n",
    "        return p, q, g"
   ]
  },
  {
   "cell_type": "code",
   "execution_count": 15,
   "id": "d4c52675",
   "metadata": {},
   "outputs": [],
   "source": [
    "class SchnorrClient(object):\n",
    "    def __init__(self, parameters: tuple[gmpy2.mpz, gmpy2.mpz, gmpy2.mpz], *,\n",
    "                 fake_data: tuple[uuid.UUID, gmpy2.mpz, tuple] = None):\n",
    "        \"\"\"\n",
    "        Инициализация клиента. Генерирует идентификатор клиента,\n",
    "        ключевую пару.\n",
    "        Последний параметр необходим для демонстрации неуспешной аутентификации.\n",
    "        \"\"\"\n",
    "        \n",
    "        self._p, self._q, self._g = parameters\n",
    "        self._id = uuid.uuid4() if fake_data is None else fake_data[0]\n",
    "        \n",
    "        self._cert = None if fake_data is None else fake_data[2]\n",
    "        self._r = None\n",
    "        \n",
    "        self._private_key = randint(1, self._q - 1)\n",
    "        self._public_key  = gmpy2.powmod(\n",
    "            self._g, -self._private_key, self._p) if fake_data is None else fake_data[1]\n",
    "        \n",
    "        trace('[SchnorrClient]', f'Client {self._id}')\n",
    "        trace('[SchnorrClient]', f'Public key = {self._public_key}')\n",
    "        \n",
    "        \n",
    "    def register(self, ca: SchnorrCA) -> None:\n",
    "        \"\"\"\n",
    "        Регистрация клиента на СА. Принимает дескриптор СА.\n",
    "        \"\"\"\n",
    "        \n",
    "        self._cert = ca.register_client(self.identifier, self.public_key)\n",
    "        \n",
    "        \n",
    "    def get_x(self) -> gmpy2.mpz:\n",
    "        \"\"\"\n",
    "        Получение числа х, получаемого по формуле:\n",
    "                    x = g ** r mod p\n",
    "        где r - случайное целое число из отрезка [1, q - 1].\n",
    "        Сохраняет значение r.\n",
    "        \"\"\"\n",
    "        \n",
    "        self._r = randint(1, self._q - 1)\n",
    "        return gmpy2.powmod(self._g, self._r, self._p)\n",
    "    \n",
    "    \n",
    "    def get_y(self, e, security_parameter) -> gmpy2.mpz:\n",
    "        \"\"\"\n",
    "        Получение числа х, получаемого по формуле:\n",
    "                    x = a * e + r mod q\n",
    "        где r - сохраненное в get_x служебное значение, e - число,\n",
    "        полученное от проверяющего, a - закрытый ключ клиента.\n",
    "        \"\"\"\n",
    "        \n",
    "        if e > 2 ** security_parameter or e < 1:\n",
    "            trace('[SchnorrClient]', f'Invalid {e = }')\n",
    "            raise ValueError('Invalid e')\n",
    "            \n",
    "        pre_result = gmpy2.mul(self._private_key, e) + self._r\n",
    "        return gmpy2.t_mod(pre_result, self._q)\n",
    "    \n",
    "    \n",
    "    @property\n",
    "    def certificate(self):\n",
    "        \"\"\"\n",
    "        Получение сертификата клиента.\n",
    "        \"\"\"\n",
    "        \n",
    "        return self._cert\n",
    "        \n",
    "        \n",
    "    @property\n",
    "    def public_key(self) -> gmpy2.mpz:\n",
    "        \"\"\"\n",
    "        Получение открытого ключа клиента.\n",
    "        \"\"\"\n",
    "        \n",
    "        return self._public_key\n",
    "        \n",
    "        \n",
    "    @property\n",
    "    def identifier(self) -> uuid.UUID:\n",
    "        \"\"\"\n",
    "        Получение идентификатора клиента.\n",
    "        \"\"\"\n",
    "        \n",
    "        return self._id"
   ]
  },
  {
   "cell_type": "code",
   "execution_count": 16,
   "id": "d6f8d573",
   "metadata": {},
   "outputs": [],
   "source": [
    "class SchnorrVerifier(object):\n",
    "    def __init__(self, parameters, security_parameter):\n",
    "        \"\"\"\n",
    "        Инициализация проверяющего. Фактически только закрепляет параметры протокола.\n",
    "        \"\"\"\n",
    "        \n",
    "        self._p, self._q, self._g = parameters\n",
    "        self._security_parameter = security_parameter\n",
    "        \n",
    "        assert security_parameter > 0 and 2 ** security_parameter < self._q\n",
    "        \n",
    "        self._e_values = set()\n",
    "        \n",
    "        \n",
    "    def authenticate(self, client: SchnorrClient, ca: SchnorrCA) -> bool:\n",
    "        \"\"\"\n",
    "        Аутентификация клиента. На вход принимает дескрипторы клиента и СА.\n",
    "        Возвращает True в случае успешной аутентификации.\n",
    "        \"\"\"\n",
    "        \n",
    "        #\n",
    "        # Получаю с клиента x и его сертификат\n",
    "        #\n",
    "        \n",
    "        x, cert = client.get_x(), client.certificate\n",
    "        trace('[SchnorrVerifier]', f'{x = }')\n",
    "        \n",
    "        #\n",
    "        # Если сертификат битый или невалидный, то это плохо\n",
    "        #\n",
    "        \n",
    "        if not ca.verify_certificate(cert):\n",
    "            trace('[SchnorrVerifier]', f'Invalid certificate {cert}')\n",
    "            return False\n",
    "            \n",
    "        #\n",
    "        # Генерирую число е и отдаю его клиенту\n",
    "        #\n",
    "            \n",
    "        e = randint(1, 2 ** self._security_parameter)\n",
    "        while e in self._e_values:\n",
    "            e = randint(1, 2 ** self._security_parameter)\n",
    "            \n",
    "        self._e_values.add(e)        \n",
    "        trace('[SchnorrVerifier]', f'{e = }')\n",
    "        \n",
    "        y = client.get_y(e, self._security_parameter)\n",
    "        trace('[SchnorrVerifier]', f'{y = }')\n",
    "        \n",
    "        #\n",
    "        # Вычисляю значение, которое необходимо сравнить с полученным от клиента х\n",
    "        # И сразу же сравниваю их\n",
    "        # \n",
    "        \n",
    "        product = gmpy2.mul(gmpy2.powmod(self._g, y, self._p), \n",
    "                            gmpy2.powmod(client.public_key, e, self._p))\n",
    "        z = gmpy2.t_mod(product, self._p)\n",
    "        trace('[SchnorrVerifier]', f'{z = }')\n",
    "        \n",
    "        is_successful = x == z\n",
    "        print(f'Authentication successful: {is_successful}')\n",
    "        \n",
    "        return is_successful"
   ]
  },
  {
   "cell_type": "markdown",
   "id": "557676ab",
   "metadata": {},
   "source": [
    "----"
   ]
  },
  {
   "cell_type": "code",
   "execution_count": 17,
   "id": "ccc4b7af",
   "metadata": {},
   "outputs": [
    {
     "name": "stdout",
     "output_type": "stream",
     "text": [
      "[TRACE] [SchnorrCA] p = mpz(62106400067600944212588247453327570529541940886435123866558336218241283937792579585957908711005590595780309673655065468857957696755388551964934957117039662457181932784088870182460670688774716945137893868364281553716521452057932431952460432950711303256664425523976979290257460561771870581482268064803021103141), q = mpz(929442869135085249781999474488063596734285770721), g = mpz(33405455632790003158588259164297921868122998677747352122004448019887760966643587491122577445593062018305253032231377332482178201154833272069711554067257670610047436052196706697698377050998356965179265272077740325293487988434696215785334363331064417035502070571262085870484942359440881088680315823210354250671)\n",
      "[TRACE] [SchnorrCA] RSA public key = (65537, 730002262841612730516792299216229981286388165026553749510857267693827597455888467380774244898701193789309082976226103876089557523381485479013611972948708306562135276078238496454661312784085275992951746958893736455694993210998703049907201926444002586826952844458377667177269354084788367442721222042748506911511907643144143577256526050093623377949324313443656219700256037548678788880962453028524392653366955472362438319637640685724134414581236106603118337564629090216704627010981128619028327737534838471117712332832959027187621399891642091200979445399115750230256974113902173484751269305412625101959501802216914296345918821822838955919922280943374763683255033168152996593012877400590237523498052020259278406472848658404059797755301404192691057862016820270916645103100078967194618994667476422479923617885346422070738382745151925371595083864304657265429077453604901618161606473211277788287179098941266918851415321593252155335369947791344375380617034597204324346826244068879409234076328212197498235116288893072868596625738077176149886571980786347612055020808418627286897929024848772192144606834834602899580896188765306956245663509303418071678268740220087289049039592843510742974699099017788220613991676003707914452310044303676021747379633)\n"
     ]
    }
   ],
   "source": [
    "# Создаю доверенный центр\n",
    "ca = SchnorrCA()"
   ]
  },
  {
   "cell_type": "code",
   "execution_count": 18,
   "id": "593f60e2",
   "metadata": {},
   "outputs": [
    {
     "name": "stdout",
     "output_type": "stream",
     "text": [
      "[TRACE] [SchnorrClient] Client 8818538e-5cca-47f3-a081-b5aa035047a4\n",
      "[TRACE] [SchnorrClient] Public key = 4461329321959763524015883479792024188971128175650713139523025478580013601461563643411626552883364787966095077529685074701698333316947849860550358746972792481697705941632252198438490872843360926877876947060213063207720658400381176333289966228334783945159657256708166927754303108155336664237509729364769871329\n"
     ]
    }
   ],
   "source": [
    "# Создам Алису - валидного пользователя\n",
    "alice = SchnorrClient(ca.parameters)"
   ]
  },
  {
   "cell_type": "code",
   "execution_count": 19,
   "id": "02976d98",
   "metadata": {},
   "outputs": [
    {
     "name": "stdout",
     "output_type": "stream",
     "text": [
      "[TRACE] [SchnorrCA] Certificate = (UUID('8818538e-5cca-47f3-a081-b5aa035047a4'), mpz(4461329321959763524015883479792024188971128175650713139523025478580013601461563643411626552883364787966095077529685074701698333316947849860550358746972792481697705941632252198438490872843360926877876947060213063207720658400381176333289966228334783945159657256708166927754303108155336664237509729364769871329), b'\\t-lk\\xa3e\\xa2\\xc5\\xf3\\'\\xef\\xeb\\x8c\\xa72K\\x1f\\n\\xd3\\xdc\\x0bH,_K-\\xbb\\xaai\\xd8\\xec\\x98\\xde:\\x06T\\xc8r2\\x16\\x0e\\xb7\\xf5\\xa0\\xf8@\\xfa*E\\xee\\xee\\x0c\\xdc@\\x829\\x9f\\x9a\\xc3o\\x07\\xa8^T\\xdf\\xfd\\x8ch\\xfb\\xccT\\x11\\\\\\xc2\\x06\\x1d\\x86\\xd5\\xa0\\x17e\\x08P\\xb2K\\x96\\xeb\\x7f\\x0cQ\\x98|\\xe3d\\xe16\\x11\\x89\\xd7\\x80)#\\\\\\x9c\\x930\\xdc\\x83\\xe0qN\\xcf\\x9e\\x10)\\xd9>L\\xf8f\\xd6\\x8e?\\n8\\x86\\xe1S\\xb1\\xb6\\x15\\t\\xd3\\xd6\\x16\\xe2\\xe2\\xeb11\\x06\\xe4\\xa7\\x01\\x0c\\xf1\\xd6\\x17u\\x06\\xde/I\\t(MM\\x94\\xd15\\xfb4\\xf3\\xb7\\x84R9\\xf4\\xf0\\t\\xef\\xc3]\\xbbOJ\\xb6\\xa6\\x92\\xd8\\xdd\\xfe\\x80\\xb1\\xb0\\x9d\\x9d\\x93\\xb2\\x1b\\x1b\\x07\\x02\\x15QO\\x86F\\x9d\\xfc+\\x10\\x9dP\\xd9|\\x15\\x14$@\\xb8\\x16\\xcf3r\\x15:\\x9c\\xb73\\xb5\\xba\\x87\\xee\\x07\\xb3\"[\\x9c\\xd2\\xc7\\xac\\xa8\\xefS\\x0f\\x9apO!\\xbe\\x8b\\xaf\\x1d\\xea\\xca\\xadB\\x13\\xf1\\x8b\\x99^%\\xe58\\xe9(uTNp\\x91U\\xa4\\xce\\xe8\\x0b-+\\x0fv\\xb8\\xb3B[!\\x1b]\\xe9\\xf7\\xd6\\xd8\\x897{/\\x90UcO\\xe3\\xf2\\xbb\\t\\x0e\\xa6\\xf2J+\\xd2\\xb9p\\xad\\xca\\x94\\xc1;X\\x92\\xd8e\\xc8/Yc\\t\\xbf\\xbe\\x97\\x1a\\xc2\\xd1K\\xd1\\x9f>\\xf4\\xc1\\n<-\\x12\\xf7\\xa9\\x1b\\xe4N\\xee/i\\x89\\xf4\\x1a\\x1a\\x92\\x80\\x90$\\xce\\xdc\\xfe\\x01\\x83\\x1b+L%\\xa7t?\\x9e\\xcf\\x1e\\xdflo)\\xdb\\xae\\x88`\\x9c<_\\x830\\x93\\x102\\x1eD\\x9c\\x9e\\xef]&\\x80\\x86p3\\x83\\x1a\\x81\\xa1\\xd2\\x070\\x16\\xe4P\\x96\\xb8\\xe3\\x82\\xf0c]\\xd9\\\\\\xb3\\x909\\xc2\\xa9a\\xc7j\\x92\\xff^\\x9ce\\x89\\xec\\xa4\\x11\\xd1%\\xb6YsO\\xc1\\xd5\\x12\\x04\\xbc\\xca\\t%\\xd1\\x8a\\xday<YNo\\xe3\\xb5\\x01\\x8e\\xfa\\xcc\\xbe\\xad\\xdd\\x04\\xa4\\x1e\\xbd\\xb2\\xc0\\xe0/\\xaa\\xca\\xf1=\\x15\\xf1]\\x85}\\xd8\\xe1\\x1f\\xb9M\\x8f\\xd4!^&\\x9b4!\\\\\\xba3\\xdc\\xc0\\x99\\xf4O\\x1aE\\xecMq\\x16\\xa5\\x00\\xdaj\\x1e\\x99Y\\x98\\x02&')\n"
     ]
    }
   ],
   "source": [
    "# Регистрирую валидного пользователя\n",
    "alice.register(ca)"
   ]
  },
  {
   "cell_type": "code",
   "execution_count": 20,
   "id": "edc0fd30",
   "metadata": {},
   "outputs": [],
   "source": [
    "# Параметр безопасности положим равным 10 для демонстрации\n",
    "security_parameter = 10\n",
    "\n",
    "# Создаю проверяющую сторону\n",
    "verifier = SchnorrVerifier(ca.parameters, security_parameter)"
   ]
  },
  {
   "cell_type": "code",
   "execution_count": 21,
   "id": "bb31574e",
   "metadata": {},
   "outputs": [
    {
     "name": "stdout",
     "output_type": "stream",
     "text": [
      "[TRACE] [SchnorrVerifier] x = mpz(8697851823431680926300591576611941726999333842794196781775916647406471483953498592645870306848042127142165885855560548427377523582309857909597513674104002492363656797628619145407963963456928217209590568762023666065695666454058685089351000982129824601842697005942334965127574854735101804511841403155121990749)\n",
      "[TRACE] [SchnorrVerifier] e = mpz(781)\n",
      "[TRACE] [SchnorrVerifier] y = mpz(228509402956058093924887459921964500406684761572)\n",
      "[TRACE] [SchnorrVerifier] z = mpz(8697851823431680926300591576611941726999333842794196781775916647406471483953498592645870306848042127142165885855560548427377523582309857909597513674104002492363656797628619145407963963456928217209590568762023666065695666454058685089351000982129824601842697005942334965127574854735101804511841403155121990749)\n",
      "Authentication successful: True\n"
     ]
    },
    {
     "data": {
      "text/plain": [
       "True"
      ]
     },
     "execution_count": 21,
     "metadata": {},
     "output_type": "execute_result"
    }
   ],
   "source": [
    "# Произвожу аутентификацию валидного пользователя\n",
    "verifier.authenticate(alice, ca)"
   ]
  },
  {
   "cell_type": "code",
   "execution_count": 22,
   "id": "8db0a136",
   "metadata": {},
   "outputs": [
    {
     "name": "stdout",
     "output_type": "stream",
     "text": [
      "[TRACE] [SchnorrClient] Client 8818538e-5cca-47f3-a081-b5aa035047a4\n",
      "[TRACE] [SchnorrClient] Public key = 4461329321959763524015883479792024188971128175650713139523025478580013601461563643411626552883364787966095077529685074701698333316947849860550358746972792481697705941632252198438490872843360926877876947060213063207720658400381176333289966228334783945159657256708166927754303108155336664237509729364769871329\n"
     ]
    }
   ],
   "source": [
    "# Создаю Еву - клиента, который пытается представиться Алисой\n",
    "eve = SchnorrClient(ca.parameters, \n",
    "                    fake_data=(alice.identifier, alice.public_key, alice.certificate))"
   ]
  },
  {
   "cell_type": "code",
   "execution_count": 23,
   "id": "d496ab7f",
   "metadata": {},
   "outputs": [
    {
     "name": "stdout",
     "output_type": "stream",
     "text": [
      "[TRACE] [SchnorrVerifier] x = mpz(50474581909447865464909018568412075097791513270736029353848782266310950460750940422150894021616212038150709845170805735086305162942045799746730700430003153967507800530311649364166949758278045192818014759820961788445473512332730883679503295781082261519294215233489695174646708133705771464652135746108954384803)\n",
      "[TRACE] [SchnorrVerifier] e = mpz(616)\n",
      "[TRACE] [SchnorrVerifier] y = mpz(12442844262399920884636175024587406756838055163)\n",
      "[TRACE] [SchnorrVerifier] z = mpz(28386474297241265803066621177828913006359591792985780468488234066111322436007807716373559352881179649070010323157378993613305667082155001423738562005453007826218427044224601356536148495079299089932153172277585582632502726111007459371813700739648232301358922226954327746443346657648639981789461555664167364363)\n",
      "Authentication successful: False\n"
     ]
    },
    {
     "data": {
      "text/plain": [
       "False"
      ]
     },
     "execution_count": 23,
     "metadata": {},
     "output_type": "execute_result"
    }
   ],
   "source": [
    "# Произвожу аутентификацию невалидного пользователя\n",
    "verifier.authenticate(eve, ca)"
   ]
  },
  {
   "cell_type": "code",
   "execution_count": null,
   "id": "f92c78ac",
   "metadata": {},
   "outputs": [],
   "source": []
  }
 ],
 "metadata": {
  "kernelspec": {
   "display_name": "SageMath 9.5",
   "language": "sage",
   "name": "sagemath-9.5"
  },
  "language_info": {
   "codemirror_mode": {
    "name": "ipython",
    "version": 3
   },
   "file_extension": ".py",
   "mimetype": "text/x-python",
   "name": "python",
   "nbconvert_exporter": "python",
   "pygments_lexer": "ipython3",
   "version": "3.9.9"
  }
 },
 "nbformat": 4,
 "nbformat_minor": 5
}
