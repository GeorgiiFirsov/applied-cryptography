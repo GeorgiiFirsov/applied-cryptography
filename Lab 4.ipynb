{
 "cells": [
  {
   "cell_type": "markdown",
   "id": "1841d78e",
   "metadata": {},
   "source": [
    "# Протоколы обмена ключами"
   ]
  },
  {
   "cell_type": "code",
   "execution_count": 1,
   "id": "645828de",
   "metadata": {},
   "outputs": [],
   "source": [
    "IS_DEBUG = 1"
   ]
  },
  {
   "cell_type": "code",
   "execution_count": 2,
   "id": "f18f7d6a",
   "metadata": {},
   "outputs": [],
   "source": [
    "def trace(*args, **kwargs):\n",
    "    \"\"\"\n",
    "    Отладочная трассировка\n",
    "    \"\"\"\n",
    "    \n",
    "    global IS_DEBUG\n",
    "    if IS_DEBUG:\n",
    "        print('[TRACE]', end=' ')\n",
    "        print(*args, **kwargs)"
   ]
  },
  {
   "cell_type": "code",
   "execution_count": 3,
   "id": "0ffb0eba",
   "metadata": {},
   "outputs": [],
   "source": [
    "def bytes_as_hex(b: bytes) -> str:\n",
    "    \"\"\"\n",
    "    Перевод бинарных данных в hex-строчку\n",
    "    \"\"\"\n",
    "    \n",
    "    return binascii.hexlify(b).decode()"
   ]
  },
  {
   "cell_type": "code",
   "execution_count": 4,
   "id": "c30d54e6",
   "metadata": {},
   "outputs": [],
   "source": [
    "def randint(a, b):\n",
    "    \"\"\"\n",
    "    Генерация слуайного числа среди заданных.\n",
    "    \"\"\"\n",
    "    \n",
    "    native_a = int(a)\n",
    "    native_b = int(b)\n",
    "    return gmpy2.mpz(random.randint(native_a, native_b))"
   ]
  },
  {
   "cell_type": "markdown",
   "id": "b2f83703",
   "metadata": {},
   "source": [
    "----"
   ]
  },
  {
   "cell_type": "code",
   "execution_count": 5,
   "id": "6aab8af0",
   "metadata": {},
   "outputs": [],
   "source": [
    "# Генерация простых чисел и КГПСЧ\n",
    "from Crypto.Util.number import getStrongPrime\n",
    "from Crypto.Random import random\n",
    "\n",
    "# HKDF и то, что надо для нее\n",
    "from Crypto.Protocol.KDF import HKDF\n",
    "from Crypto.Hash import SHA512\n",
    "\n",
    "# Подпись и шифрование\n",
    "from Crypto.PublicKey import RSA\n",
    "from Crypto.Signature import pss\n",
    "from Crypto.Cipher import AES\n",
    "\n",
    "# Математическая библиотека\n",
    "import gmpy2\n",
    "\n",
    "# Для генерации идентификаторов\n",
    "import uuid\n",
    "\n",
    "# Утилитки\n",
    "from Crypto.Util.number import long_to_bytes\n",
    "import binascii"
   ]
  },
  {
   "cell_type": "markdown",
   "id": "4b749a4d",
   "metadata": {},
   "source": [
    "----"
   ]
  },
  {
   "cell_type": "markdown",
   "id": "51ad824e",
   "metadata": {},
   "source": [
    "## Протокол Диффи-Хеллмана\n",
    "![Diffe-Hellman Protocol](./images/Diffie-Hellman_4.png)"
   ]
  },
  {
   "cell_type": "code",
   "execution_count": 6,
   "id": "2a2288bd",
   "metadata": {},
   "outputs": [],
   "source": [
    "class DiffieHellmanParams(object):\n",
    "    def __init__(self, prime_bits: int = 512):\n",
    "        \"\"\"\n",
    "        Генерация параметров протокола - простого числа и генератора.\n",
    "        \"\"\"\n",
    "        \n",
    "        self._p = gmpy2.mpz(getStrongPrime(prime_bits))\n",
    "        self._g = randint(2, self._p - 2)\n",
    "        \n",
    "        trace('[DiffieHellmanParams]', f'p = {self._p}, g = {self._g}')\n",
    "        \n",
    "        \n",
    "    @property\n",
    "    def prime(self) -> int:\n",
    "        \"\"\"\n",
    "        Получение простого числе - модуля.\n",
    "        \"\"\"\n",
    "        \n",
    "        return self._p\n",
    "    \n",
    "    \n",
    "    @property\n",
    "    def generator(self) -> int:\n",
    "        \"\"\"\n",
    "        Получение генератора.\n",
    "        \"\"\"\n",
    "        \n",
    "        return self._g"
   ]
  },
  {
   "cell_type": "code",
   "execution_count": 7,
   "id": "9ec35c0c",
   "metadata": {},
   "outputs": [],
   "source": [
    "class DiffieHellmanUser(object):\n",
    "    KEY_LENGTH = 32\n",
    "    HKDF_DUMMY_STUFF = b'\\x00' * 16\n",
    "    \n",
    "    def __init__(self, params: DiffieHellmanParams, \n",
    "                 use_another_value: bool = False):\n",
    "        \"\"\"\n",
    "        Инициализация клиента: генерация идентификатора,\n",
    "        сохранение параметров протокола.\n",
    "        Последний параметр служит для демонстрации неуспешного выполнения.\n",
    "        \"\"\"\n",
    "        \n",
    "        self._p = params.prime\n",
    "        self._g = params.generator\n",
    "        self._id = uuid.uuid4()\n",
    "        self._key = None\n",
    "        self._sabotage = use_another_value\n",
    "        \n",
    "        trace('[DiffieHellmanUser]', f'client {self._id} created')\n",
    "    \n",
    "    \n",
    "    def initiate_key_exchange(self, another_client):\n",
    "        \"\"\"\n",
    "        Инициирование протокола обмена ключами.\n",
    "        \"\"\"\n",
    "        \n",
    "        #\n",
    "        # Генерирую х, отправляю другому пользователю\n",
    "        # Получаю от него g ** y mod p\n",
    "        #\n",
    "        \n",
    "        x = self._generate_group_element()\n",
    "        trace('[DiffieHellmanUser]', f'[{self._id}]', f'{x = }')\n",
    "        \n",
    "        intermediate_value = another_client._accept_key_exchange(gmpy2.powmod(self._g, x, self._p))\n",
    "        \n",
    "        #\n",
    "        # Если требуют неудачную попытку, то подменю x\n",
    "        # Это как бы незнание изначального значения - попытка угадать\n",
    "        #\n",
    "        \n",
    "        if self._sabotage:\n",
    "            x = self._generate_group_element()\n",
    "            trace('[DiffieHellmanUser]', f'[{self._id}]', f'guessed {x = }')\n",
    "        \n",
    "        #\n",
    "        # Вывожу ключ\n",
    "        #\n",
    "        \n",
    "        self._key = HKDF(DiffieHellmanUser.HKDF_DUMMY_STUFF, \n",
    "                         DiffieHellmanUser.KEY_LENGTH, \n",
    "                         long_to_bytes(int(gmpy2.powmod(intermediate_value, x, self._p))), \n",
    "                         SHA512, \n",
    "                         1)\n",
    "        \n",
    "        trace('[DiffieHellmanUser]', f'[{self._id}]', f'derived key: {bytes_as_hex(self._key)}')\n",
    "        \n",
    "        \n",
    "    def _accept_key_exchange(self, intermediate_value) -> int:\n",
    "        #\n",
    "        # Получаю g ** x mod p, генерирую у\n",
    "        #\n",
    "        \n",
    "        y = self._generate_group_element()\n",
    "        trace('[DiffieHellmanUser]', f'[{self._id}]', f'{y = }')\n",
    "        \n",
    "        #\n",
    "        # Вывожу ключ\n",
    "        #\n",
    "        \n",
    "        self._key = HKDF(DiffieHellmanUser.HKDF_DUMMY_STUFF, \n",
    "                         DiffieHellmanUser.KEY_LENGTH, \n",
    "                         long_to_bytes(int(gmpy2.powmod(intermediate_value, y, self._p))), \n",
    "                         SHA512, \n",
    "                         1)\n",
    "        \n",
    "        trace('[DiffieHellmanUser]', f'[{self._id}]', f'derived key: {bytes_as_hex(self._key)}')\n",
    "        \n",
    "        return gmpy2.powmod(self._g, y, self._p)\n",
    "    \n",
    "    \n",
    "    def _generate_group_element(self) -> int:\n",
    "        return randint(1, self._p - 2)"
   ]
  },
  {
   "cell_type": "markdown",
   "id": "ce5482ac",
   "metadata": {},
   "source": [
    "----"
   ]
  },
  {
   "cell_type": "code",
   "execution_count": 8,
   "id": "3dd565e3",
   "metadata": {},
   "outputs": [
    {
     "name": "stdout",
     "output_type": "stream",
     "text": [
      "[TRACE] [DiffieHellmanParams] p = 13050454453319207048771856410408478277532176597076838058571976309591082690961044326177020187140770384184987556561894973067272726341385572722824073305245481, g = 2846560203099132610509227562546992691291050617577646705435316780859888719401126279318914678524682903733349240929043482706673695338670534767501481539478631\n"
     ]
    }
   ],
   "source": [
    "# Параметры протокола\n",
    "params = DiffieHellmanParams()"
   ]
  },
  {
   "cell_type": "code",
   "execution_count": 9,
   "id": "549f2efa",
   "metadata": {},
   "outputs": [
    {
     "name": "stdout",
     "output_type": "stream",
     "text": [
      "[TRACE] [DiffieHellmanUser] client 1eec4553-694a-4604-bf83-85d847cd6beb created\n",
      "[TRACE] [DiffieHellmanUser] client 5efbeb7e-95db-4686-b116-83c1b9fac7d5 created\n"
     ]
    }
   ],
   "source": [
    "# Два хороших пользователя\n",
    "alice = DiffieHellmanUser(params)\n",
    "bob   = DiffieHellmanUser(params)"
   ]
  },
  {
   "cell_type": "code",
   "execution_count": 10,
   "id": "d47667eb",
   "metadata": {},
   "outputs": [
    {
     "name": "stdout",
     "output_type": "stream",
     "text": [
      "[TRACE] [DiffieHellmanUser] [1eec4553-694a-4604-bf83-85d847cd6beb] x = mpz(7590380024611895823296116345800574276338880234583508452293952336663972027559632414342548778802235474780390560116058781010156558649773262801299035506540322)\n",
      "[TRACE] [DiffieHellmanUser] [5efbeb7e-95db-4686-b116-83c1b9fac7d5] y = mpz(12735767799682693808885816551733386932312244862154996455665742380244171932112039540266994967352121018488482824545699139656366217725813271030604524955092723)\n",
      "[TRACE] [DiffieHellmanUser] [5efbeb7e-95db-4686-b116-83c1b9fac7d5] derived key: e439a50fd16f7b2f4589e4b88e79885c8ccf84b79cc510db8f86d24954376dd3\n",
      "[TRACE] [DiffieHellmanUser] [1eec4553-694a-4604-bf83-85d847cd6beb] derived key: e439a50fd16f7b2f4589e4b88e79885c8ccf84b79cc510db8f86d24954376dd3\n"
     ]
    }
   ],
   "source": [
    "# Ключ получается установить успешно\n",
    "alice.initiate_key_exchange(bob)"
   ]
  },
  {
   "cell_type": "code",
   "execution_count": 11,
   "id": "8f9bf653",
   "metadata": {},
   "outputs": [
    {
     "name": "stdout",
     "output_type": "stream",
     "text": [
      "[TRACE] [DiffieHellmanUser] client a02f8286-44d4-4c99-89e6-8b28c967e18a created\n"
     ]
    }
   ],
   "source": [
    "# Теперь врага создам\n",
    "mallory = DiffieHellmanUser(params, True)"
   ]
  },
  {
   "cell_type": "code",
   "execution_count": 12,
   "id": "66d63760",
   "metadata": {},
   "outputs": [
    {
     "name": "stdout",
     "output_type": "stream",
     "text": [
      "[TRACE] [DiffieHellmanUser] [a02f8286-44d4-4c99-89e6-8b28c967e18a] x = mpz(142334018006864260618591972107885279532717711745059795439729018249993142103951338561739772281831447764890047580735844383522102226371942177170530268605820)\n",
      "[TRACE] [DiffieHellmanUser] [5efbeb7e-95db-4686-b116-83c1b9fac7d5] y = mpz(901748609758730405211553494083587267422314046051667606380774360166575518499300221280884472279841282566845226751417969421278756042041451581363259457943961)\n",
      "[TRACE] [DiffieHellmanUser] [5efbeb7e-95db-4686-b116-83c1b9fac7d5] derived key: 8d1bddd6bdf751af103422b566b0ccc72c150b8ebff1eae97eefb72508a63092\n",
      "[TRACE] [DiffieHellmanUser] [a02f8286-44d4-4c99-89e6-8b28c967e18a] guessed x = mpz(6265816291259633955208821050969311008681473878456145139232779838941270294208851148760583210634095513460592517180794065930839489958808862988293704968419437)\n",
      "[TRACE] [DiffieHellmanUser] [a02f8286-44d4-4c99-89e6-8b28c967e18a] derived key: 725bf9fd2d7b0b08d7354184461c970a7dc4098d3be98e7bbce6091e2821a604\n"
     ]
    }
   ],
   "source": [
    "# Внедрившись в исполняющийся протокол, врагу не достается правильный ключ\n",
    "mallory.initiate_key_exchange(bob)"
   ]
  },
  {
   "cell_type": "markdown",
   "id": "8e3d063e",
   "metadata": {},
   "source": [
    "----\n",
    "## Протокол MTI\n",
    "![Diffe-Hellman Protocol](./images/MTI_4.png)"
   ]
  },
  {
   "cell_type": "code",
   "execution_count": 13,
   "id": "e2ef16d8",
   "metadata": {},
   "outputs": [],
   "source": [
    "class MTIParams(object):\n",
    "    def __init__(self, prime_bits):\n",
    "        \"\"\"\n",
    "        Генерация параметров протокола - простого числа и генератора.\n",
    "        \"\"\"\n",
    "        \n",
    "        self._p = gmpy2.mpz(getStrongPrime(prime_bits))\n",
    "        self._g = randint(2, self._p - 2)\n",
    "        \n",
    "        trace('[MTIParams]', f'p = {self._p}, g = {self._g}')\n",
    "        \n",
    "        \n",
    "    @property\n",
    "    def prime(self) -> int:\n",
    "        \"\"\"\n",
    "        Получение простого числе - модуля.\n",
    "        \"\"\"\n",
    "        \n",
    "        return self._p\n",
    "    \n",
    "    \n",
    "    @property\n",
    "    def generator(self) -> int:\n",
    "        \"\"\"\n",
    "        Получение генератора.\n",
    "        \"\"\"\n",
    "        \n",
    "        return self._g"
   ]
  },
  {
   "cell_type": "code",
   "execution_count": 14,
   "id": "d7571eea",
   "metadata": {},
   "outputs": [],
   "source": [
    "class MTIUser(object):\n",
    "    KEY_LENGTH = 32\n",
    "    HKDF_DUMMY_STUFF = b'\\x00' * 16\n",
    "    \n",
    "    def __init__(self, params: MTIParams, *,\n",
    "                 fake_data: gmpy2.mpz = None):\n",
    "        \"\"\"\n",
    "        Инициализация клиента: генерация идентификатора,\n",
    "        сохранение параметров протокола, генерация ключевой пары.\n",
    "        Последний параметр служит для демонстрации неуспешного выполнения.\n",
    "        \"\"\"\n",
    "        \n",
    "        self._p = params.prime\n",
    "        self._g = params.generator\n",
    "        self._id = uuid.uuid4()\n",
    "        self._key = None\n",
    "        \n",
    "        self._private_key = self._generate_group_element()\n",
    "        self._public_key  = gmpy2.powmod(self._g, self._private_key, self._p) if fake_data is None else fake_data\n",
    "        \n",
    "        trace('[MTIUser]', f'client {self._id} created. PK = {self._public_key}, SK = {self._private_key}')\n",
    "        \n",
    "        \n",
    "    def initiate_key_exchange(self, another_client):\n",
    "        \"\"\"\n",
    "        Инициирование протокола обмена ключами.\n",
    "        \"\"\"\n",
    "        \n",
    "        #\n",
    "        # Генерирую х, вычисляю g ** x mod p\n",
    "        #\n",
    "        \n",
    "        x = self._generate_group_element()\n",
    "        m = gmpy2.powmod(self._g, x, self._p)\n",
    "        \n",
    "        trace('[MTIUser]', f'[{self._id}]', f'{x = }, {m = }')\n",
    "        \n",
    "        #\n",
    "        # Отправляю другому клиенту и получаю от него g ** y mod p\n",
    "        #\n",
    "        \n",
    "        intermediate_value = another_client._accept_key_exchange(m, self.public_key)\n",
    "        \n",
    "        #\n",
    "        # Вывожу ключ\n",
    "        #\n",
    "        \n",
    "        product = gmpy2.powmod(another_client.public_key, x, self._p) * \\\n",
    "            gmpy2.powmod(intermediate_value, self._private_key, self._p)\n",
    "        \n",
    "        self._key = HKDF(DiffieHellmanUser.HKDF_DUMMY_STUFF, \n",
    "                         DiffieHellmanUser.KEY_LENGTH, \n",
    "                         long_to_bytes(int(gmpy2.t_mod(product, self._p))), \n",
    "                         SHA512, \n",
    "                         1)\n",
    "        \n",
    "        trace('[MTIUser]', f'[{self._id}]', f'derived key: {bytes_as_hex(self._key)}')\n",
    "    \n",
    "    \n",
    "    def _accept_key_exchange(self, intermediate_value, public_key):\n",
    "        #\n",
    "        # Генерирую у, вычисляю g ** y mod p\n",
    "        #\n",
    "        \n",
    "        y = self._generate_group_element()\n",
    "        m = gmpy2.powmod(self._g, y, self._p)\n",
    "        \n",
    "        trace('[MTIUser]', f'[{self._id}]', f'{y = }, {m = }')\n",
    "        \n",
    "        #\n",
    "        # Вывожу ключ\n",
    "        #\n",
    "        \n",
    "        product = gmpy2.powmod(public_key, y, self._p) * \\\n",
    "            gmpy2.powmod(intermediate_value, self._private_key, self._p)\n",
    "        \n",
    "        self._key = HKDF(MTIUser.HKDF_DUMMY_STUFF, \n",
    "                         MTIUser.KEY_LENGTH, \n",
    "                         long_to_bytes(int(gmpy2.t_mod(product, self._p))), \n",
    "                         SHA512, \n",
    "                         1)\n",
    "        \n",
    "        trace('[MTIUser]', f'[{self._id}]', f'derived key: {bytes_as_hex(self._key)}')\n",
    "        \n",
    "        return m\n",
    "        \n",
    "    \n",
    "    @property\n",
    "    def public_key(self):\n",
    "        \"\"\"\n",
    "        Получение открытого ключа.\n",
    "        \"\"\"\n",
    "        \n",
    "        return self._public_key\n",
    "    \n",
    "    \n",
    "    def _generate_group_element(self) -> int:\n",
    "        return randint(1, self._p - 2)"
   ]
  },
  {
   "cell_type": "markdown",
   "id": "cb80c1fe",
   "metadata": {},
   "source": [
    "----"
   ]
  },
  {
   "cell_type": "code",
   "execution_count": 15,
   "id": "d046a7e6",
   "metadata": {},
   "outputs": [
    {
     "name": "stdout",
     "output_type": "stream",
     "text": [
      "[TRACE] [MTIParams] p = 10239616951841482776890332367544202909245870286638284242892950742964402988663552859095603262762622655322336632008050756463625732553916159787690930592472007, g = 3865777710395288142916275541718365774554825144705928483270209675517557407818264292862652889642384532790261896750832037701943450659893339051534676923325881\n"
     ]
    }
   ],
   "source": [
    "# Параметры протокола\n",
    "params = MTIParams(512)"
   ]
  },
  {
   "cell_type": "code",
   "execution_count": 16,
   "id": "da18add7",
   "metadata": {},
   "outputs": [
    {
     "name": "stdout",
     "output_type": "stream",
     "text": [
      "[TRACE] [MTIUser] client 3039d041-d24b-4c0a-867f-af12e72b6fe4 created. PK = 2876649882695933487127112523733324370070318611287180921185632756570891561537257603983264099834647206320618752172043677493465618732868080681670756708305171, SK = 4213191982845276559314311611603912668831659920160129432959299509061005629268304179704140318620008482827417731907633491505450575530461607678140346330710319\n",
      "[TRACE] [MTIUser] client 847ebe0a-7303-49df-aee2-d567fda2a994 created. PK = 2355666381794413074251432517803979918406604837578287644029505597792108538262473259231595958312083829785565959666399894918657009780768640642355748520043812, SK = 6050550252136353556256420933661428953010258833603541569116570148956642841727931741893801385959345840435481967758552275775189874032104535997039764775009703\n"
     ]
    }
   ],
   "source": [
    "# Два хороших пользователя\n",
    "alice = MTIUser(params)\n",
    "bob   = MTIUser(params)"
   ]
  },
  {
   "cell_type": "code",
   "execution_count": 17,
   "id": "bdef111e",
   "metadata": {},
   "outputs": [
    {
     "name": "stdout",
     "output_type": "stream",
     "text": [
      "[TRACE] [MTIUser] [3039d041-d24b-4c0a-867f-af12e72b6fe4] x = mpz(7070152387452466714454483392633748746840602123049813524679606356582052474572351997860778311143502456890525552072676435151390914000494777168022831819061955), m = mpz(838568069491091766733944913020291390121433094790412274800338769968860648496689593353223661631795577947146068303137375227822155595050899276081903044291455)\n",
      "[TRACE] [MTIUser] [847ebe0a-7303-49df-aee2-d567fda2a994] y = mpz(350685276830303220518871705578447595795273809420651729858714590226996375786920240949605575125810424546889209908588330891083173452904882673642374254158258), m = mpz(7249977022612992695232120711620601967194948366907770109904484587322434011646295517724181569742141142189555206508544965482363895364491512663494264019310422)\n",
      "[TRACE] [MTIUser] [847ebe0a-7303-49df-aee2-d567fda2a994] derived key: d834d4ee43bb04718da12d1ecd6035f12800abb748accf942eee88af2aebc24c\n",
      "[TRACE] [MTIUser] [3039d041-d24b-4c0a-867f-af12e72b6fe4] derived key: d834d4ee43bb04718da12d1ecd6035f12800abb748accf942eee88af2aebc24c\n"
     ]
    }
   ],
   "source": [
    "# Ключ получается установить успешно\n",
    "alice.initiate_key_exchange(bob)"
   ]
  },
  {
   "cell_type": "code",
   "execution_count": 18,
   "id": "707ae802",
   "metadata": {},
   "outputs": [
    {
     "name": "stdout",
     "output_type": "stream",
     "text": [
      "[TRACE] [MTIUser] client 231f789e-bcc0-4f1a-be45-ee9de4d46bc3 created. PK = 2876649882695933487127112523733324370070318611287180921185632756570891561537257603983264099834647206320618752172043677493465618732868080681670756708305171, SK = 1814727410981337866865193958621376644564972255966319578778748045409886528466065032160798530550661487690406963273947005657381073602053057100690181109297752\n"
     ]
    }
   ],
   "source": [
    "# Теперь врага создам\n",
    "mallory = MTIUser(params, fake_data=alice.public_key)"
   ]
  },
  {
   "cell_type": "code",
   "execution_count": 19,
   "id": "e80afdc0",
   "metadata": {},
   "outputs": [
    {
     "name": "stdout",
     "output_type": "stream",
     "text": [
      "[TRACE] [MTIUser] [231f789e-bcc0-4f1a-be45-ee9de4d46bc3] x = mpz(6196341805758526088407953959332818733069478697105112077007376389054077430183018877882188263056044313779048821932585456387906576841363928833904285185152853), m = mpz(4457413157876661843207839231620174757172024507373650965801064076568708696405024090084991233791195330764152685807302378543358336287557580157819025440686613)\n",
      "[TRACE] [MTIUser] [847ebe0a-7303-49df-aee2-d567fda2a994] y = mpz(9125254082374244926417879424600695438813653056142771315317961257848340156220603703809839929266058940088231553706662438915542679530123461119279797772055131), m = mpz(8230168569209810094554527055078961656551779454811094546908498875418205998206771145337986266844875142107050523135435889779260136029595700589718876066938251)\n",
      "[TRACE] [MTIUser] [847ebe0a-7303-49df-aee2-d567fda2a994] derived key: f795bc59309122eaff24db5f4410a902ae1e25bfb66d1ba65047db7a965a03c5\n",
      "[TRACE] [MTIUser] [231f789e-bcc0-4f1a-be45-ee9de4d46bc3] derived key: 116609842eef7dc6a8d3d16258ae9e88e5381bcea465f30610b856319aed7aeb\n"
     ]
    }
   ],
   "source": [
    "# Внедрившись в исполняющийся протокол, врагу не достается правильный ключ\n",
    "mallory.initiate_key_exchange(bob)"
   ]
  },
  {
   "cell_type": "markdown",
   "id": "a0f2ecd2",
   "metadata": {},
   "source": [
    "----\n",
    "## Протокол STS\n",
    "![STS Protocol](./images/STS_4.png)"
   ]
  },
  {
   "cell_type": "code",
   "execution_count": 20,
   "id": "dd2b5d1a",
   "metadata": {},
   "outputs": [],
   "source": [
    "class STSParams(object):\n",
    "    def __init__(self, prime_bits):\n",
    "        \"\"\"\n",
    "        Генерация параметров протокола - простого числа и генератора.\n",
    "        \"\"\"\n",
    "        \n",
    "        self._p = gmpy2.mpz(getStrongPrime(prime_bits))\n",
    "        self._g = randint(2, self._p - 2)\n",
    "        \n",
    "        trace('[STSParams]', f'p = {self._p}, g = {self._g}')\n",
    "        \n",
    "        \n",
    "    @property\n",
    "    def prime(self) -> int:\n",
    "        \"\"\"\n",
    "        Получение простого числе - модуля.\n",
    "        \"\"\"\n",
    "        \n",
    "        return self._p\n",
    "    \n",
    "    \n",
    "    @property\n",
    "    def generator(self) -> int:\n",
    "        \"\"\"\n",
    "        Получение генератора.\n",
    "        \"\"\"\n",
    "        \n",
    "        return self._g"
   ]
  },
  {
   "cell_type": "code",
   "execution_count": 21,
   "id": "9d905704",
   "metadata": {},
   "outputs": [],
   "source": [
    "class STSUser(object):\n",
    "    RSA_KEY_LENGTH = 4096\n",
    "    KEY_LENGTH = 32\n",
    "    HKDF_DUMMY_STUFF = b'\\x00' * 16\n",
    "    \n",
    "    def __init__(self, params: STSParams, *, \n",
    "                 fake_data=None):\n",
    "        \"\"\"\n",
    "        Инициализация клиента: генерация идентификатора,\n",
    "        сохранение параметров протокола, генерация ключевой пары.\n",
    "        Последний параметр служит для демонстрации неуспешного выполнения.\n",
    "        \"\"\"\n",
    "        \n",
    "        self._p = params.prime\n",
    "        self._g = params.generator\n",
    "        self._id = uuid.uuid4()\n",
    "        self._key = None\n",
    "        \n",
    "        self._private_key = RSA.generate(STSUser.RSA_KEY_LENGTH)\n",
    "        self._public_key  = self._private_key.publickey() if fake_data is None else fake_data\n",
    "        \n",
    "        trace('[STSUser]', f'client {self._id} created. PK = {self._public_key}, SK = {self._private_key}')\n",
    "        \n",
    "    \n",
    "    def initiate_key_exchange(self, another_client):\n",
    "        \"\"\"\n",
    "        Инициирование протокола обмена ключами.\n",
    "        \"\"\"\n",
    "        \n",
    "        #\n",
    "        # Генерирую х, вычисляю g ** x mod p\n",
    "        #\n",
    "        \n",
    "        x = self._generate_group_element()\n",
    "        m = gmpy2.powmod(self._g, x, self._p)\n",
    "        \n",
    "        trace('[STSUser]', f'[{self._id}]', f'{x = }, {m = }')\n",
    "        \n",
    "        #\n",
    "        # Отправляю другому пользователю, получаю g ** y mod p и зашифрованную подпись\n",
    "        #\n",
    "        \n",
    "        intermediate_value, encrypted_signature = another_client._accept_key_exchange(m)\n",
    "        \n",
    "        #\n",
    "        # Вывожу ключ\n",
    "        #\n",
    "        \n",
    "        self._key = HKDF(DiffieHellmanUser.HKDF_DUMMY_STUFF, \n",
    "                         DiffieHellmanUser.KEY_LENGTH, \n",
    "                         long_to_bytes(int(gmpy2.powmod(intermediate_value, x, self._p))), \n",
    "                         SHA512, \n",
    "                         1)\n",
    "        \n",
    "        #\n",
    "        # Расшифровываю подпись и проверяю ее\n",
    "        # Если не подошла, то ключ неверный, завершаюсь\n",
    "        #\n",
    "        \n",
    "        nonce, ct = encrypted_signature\n",
    "        \n",
    "        cipher = AES.new(self._key, AES.MODE_CTR, nonce=nonce)\n",
    "        received_signature = cipher.decrypt(ct)\n",
    "        \n",
    "        if not self._check_signature(intermediate_value, m, received_signature, another_client.public_key):\n",
    "            trace('[STSUser]', f'[{self._id}]', 'Invalid signature')\n",
    "            self._key = None\n",
    "            return\n",
    "        \n",
    "        #\n",
    "        # Сам теперь подписываю значения и отправляю на проверку другому пользователю\n",
    "        #\n",
    "        \n",
    "        signature = self._sign_values(m, intermediate_value)\n",
    "        \n",
    "        cipher = AES.new(self._key, AES.MODE_CTR)\n",
    "        if not self._check_key_exchange(m, intermediate_value, \n",
    "                                        (cipher.nonce, cipher.encrypt(signature)), self.public_key):\n",
    "            trace('[STSUser]', f'[{self._id}]', 'Another user refused key exchange')\n",
    "            self._key = None\n",
    "            return\n",
    "        \n",
    "        #\n",
    "        # Тут все хорошо\n",
    "        #\n",
    "        \n",
    "        trace('[STSUser]', f'[{self._id}]', f'derived key: {bytes_as_hex(self._key)}')\n",
    "        \n",
    "        \n",
    "    def _accept_key_exchange(self, intermediate_value):\n",
    "        #\n",
    "        # Генерирую у, вычисляю g ** y mod p\n",
    "        # Вывожу ключ\n",
    "        #\n",
    "        \n",
    "        y = self._generate_group_element()\n",
    "        m = gmpy2.powmod(self._g, y, self._p)\n",
    "        \n",
    "        trace('[STSUser]', f'[{self._id}]', f'{y = }, {m = }')\n",
    "        \n",
    "        self._key = HKDF(DiffieHellmanUser.HKDF_DUMMY_STUFF, \n",
    "                         DiffieHellmanUser.KEY_LENGTH, \n",
    "                         long_to_bytes(int(gmpy2.powmod(intermediate_value, y, self._p))), \n",
    "                         SHA512, \n",
    "                         1)\n",
    "        \n",
    "        #\n",
    "        # Создаю подпись значений и отправляю инициатору\n",
    "        #\n",
    "        \n",
    "        signature = self._sign_values(m, intermediate_value)\n",
    "        \n",
    "        cipher = AES.new(self._key, AES.MODE_CTR)\n",
    "        encrypted_signature = (cipher.nonce, cipher.encrypt(signature))\n",
    "        \n",
    "        return m, encrypted_signature\n",
    "    \n",
    "    \n",
    "    def _check_key_exchange(self, f, s, encrypted_signature, pk):\n",
    "        #\n",
    "        # Проверяю подпись от инициатора\n",
    "        #\n",
    "        \n",
    "        nonce, ct = encrypted_signature\n",
    "        \n",
    "        cipher = AES.new(self._key, AES.MODE_CTR, nonce=nonce)\n",
    "        received_signature = cipher.decrypt(ct)\n",
    "        \n",
    "        if not self._check_signature(f, s, received_signature, pk):\n",
    "            trace('[STSUser]', f'[{self._id}]', 'Invalid signature')\n",
    "            self._key = None\n",
    "            return False\n",
    "        \n",
    "        #\n",
    "        # Если все валидно, то ключ верно установлен\n",
    "        #\n",
    "        \n",
    "        trace('[STSUser]', f'[{self._id}]', f'derived key: {bytes_as_hex(self._key)}')\n",
    "        return True\n",
    "        \n",
    "    \n",
    "    def _sign_values(self, f, s):\n",
    "        first  = long_to_bytes(int(f))\n",
    "        second = long_to_bytes(int(s))\n",
    "        \n",
    "        h = SHA512.new(first + second)\n",
    "        return pss.new(self._private_key).sign(h)\n",
    "    \n",
    "    \n",
    "    def _check_signature(self, f, s, signature, pk):\n",
    "        first  = long_to_bytes(int(f))\n",
    "        second = long_to_bytes(int(s))\n",
    "        \n",
    "        h = SHA512.new(first + second)\n",
    "        verifier = pss.new(pk)\n",
    "        \n",
    "        try:\n",
    "            verifier.verify(h, signature)\n",
    "            return True\n",
    "        except:\n",
    "            return False\n",
    "    \n",
    "        \n",
    "    def _generate_group_element(self) -> int:\n",
    "        return randint(1, self._p - 2)\n",
    "        \n",
    "    \n",
    "    @property\n",
    "    def public_key(self):\n",
    "        \"\"\"\n",
    "        Получение открытого ключа.\n",
    "        \"\"\"\n",
    "        \n",
    "        return self._public_key"
   ]
  },
  {
   "cell_type": "markdown",
   "id": "c2dec077",
   "metadata": {},
   "source": [
    "-----"
   ]
  },
  {
   "cell_type": "code",
   "execution_count": 22,
   "id": "d263a93b",
   "metadata": {},
   "outputs": [
    {
     "name": "stdout",
     "output_type": "stream",
     "text": [
      "[TRACE] [STSParams] p = 10475680594941275897006354674200670422557574240865885285525312259520156971317989715798391283012665689363651101824918850929904176174379213792523797247620923, g = 1448603152343160426311195695699719764685088013643771755724126833807221857893548501185899849799179971328575652611713978142416186592376564175508708285328257\n"
     ]
    }
   ],
   "source": [
    "# Параметры протокола\n",
    "params = STSParams(512)"
   ]
  },
  {
   "cell_type": "code",
   "execution_count": 23,
   "id": "dec5f0ad",
   "metadata": {},
   "outputs": [
    {
     "name": "stdout",
     "output_type": "stream",
     "text": [
      "[TRACE] [STSUser] client fe3c1106-7552-4d22-b1b1-7084415350aa created. PK = Public RSA key at 0x1063C83A0, SK = Private RSA key at 0x1065F3B80\n",
      "[TRACE] [STSUser] client 97b98e26-b809-4e19-b826-e10077c098d8 created. PK = Public RSA key at 0x10675D190, SK = Private RSA key at 0x1065F3730\n"
     ]
    }
   ],
   "source": [
    "# Два хороших пользователя\n",
    "alice = STSUser(params)\n",
    "bob   = STSUser(params)"
   ]
  },
  {
   "cell_type": "code",
   "execution_count": 24,
   "id": "b9bc8144",
   "metadata": {},
   "outputs": [
    {
     "name": "stdout",
     "output_type": "stream",
     "text": [
      "[TRACE] [STSUser] [fe3c1106-7552-4d22-b1b1-7084415350aa] x = mpz(9175749596004743785615012783639464631987260508428303665107146390270324682126645406939810897967247548800325044082592250708288856197429074348058043944420147), m = mpz(8814676452648698085058725170816234596030196142090341455532236541132984537350253190930996018963040157077149459650413316172047956007459905445756962153348091)\n",
      "[TRACE] [STSUser] [97b98e26-b809-4e19-b826-e10077c098d8] y = mpz(1336181523612163798928515747191801746231828428905319357965602352862767358085122973095044791216275472941019065848106537944873005220294100067548959010448222), m = mpz(4736553953965072395130437858578813510285421187730615391919909404050393341237542767272918420509565716738573342116834691429993026797288841184044666862147364)\n",
      "[TRACE] [STSUser] [fe3c1106-7552-4d22-b1b1-7084415350aa] derived key: c33797ff22694f6fe1d024ef9231cb1a2ec388e70ff52cc516da5d74bcf99e03\n",
      "[TRACE] [STSUser] [fe3c1106-7552-4d22-b1b1-7084415350aa] derived key: c33797ff22694f6fe1d024ef9231cb1a2ec388e70ff52cc516da5d74bcf99e03\n"
     ]
    }
   ],
   "source": [
    "# Ключ получается установить успешно\n",
    "alice.initiate_key_exchange(bob)"
   ]
  },
  {
   "cell_type": "code",
   "execution_count": 25,
   "id": "4c0b0479",
   "metadata": {},
   "outputs": [
    {
     "name": "stdout",
     "output_type": "stream",
     "text": [
      "[TRACE] [STSUser] client c1bb9193-25d4-4018-9169-d1845cb47a9c created. PK = Public RSA key at 0x1063C83A0, SK = Private RSA key at 0x1065F4B50\n"
     ]
    }
   ],
   "source": [
    "# Теперь врага создам\n",
    "mallory = STSUser(params, fake_data=alice.public_key)"
   ]
  },
  {
   "cell_type": "code",
   "execution_count": 26,
   "id": "8d517ac4",
   "metadata": {},
   "outputs": [
    {
     "name": "stdout",
     "output_type": "stream",
     "text": [
      "[TRACE] [STSUser] [c1bb9193-25d4-4018-9169-d1845cb47a9c] x = mpz(5984173386049415695536015139384749483219976293594350447084614041184459449800981439625146824112721797275742050863385233893336432070484475673891555314088131), m = mpz(4326718731315345542984123694747621034417123239321594398725448069522168486094191698940148354368327385977992017068123341885746122067282797357094487621667578)\n",
      "[TRACE] [STSUser] [97b98e26-b809-4e19-b826-e10077c098d8] y = mpz(6004943798912262290163657064449885138326767116132696977530574770784458356735820822045567102249892290771090509097130433220151425054906217461310870227833034), m = mpz(5688613908384658927538179059683740236440293170431480047050811069428643370917902754725385363558700489447928137064540500963860333226886763212596527298673509)\n",
      "[TRACE] [STSUser] [c1bb9193-25d4-4018-9169-d1845cb47a9c] Invalid signature\n",
      "[TRACE] [STSUser] [c1bb9193-25d4-4018-9169-d1845cb47a9c] Another user refused key exchange\n"
     ]
    }
   ],
   "source": [
    "# Внедрившись в исполняющийся протокол, врагу не достается правильный ключ\n",
    "mallory.initiate_key_exchange(bob)"
   ]
  },
  {
   "cell_type": "code",
   "execution_count": 27,
   "id": "43e08fb6",
   "metadata": {},
   "outputs": [
    {
     "name": "stdout",
     "output_type": "stream",
     "text": [
      "[TRACE] [STSUser] [97b98e26-b809-4e19-b826-e10077c098d8] x = mpz(2232618758525617128983625279351860010927931009800584918009105283595363635372307272270679891862406828795735846567124064953236162556996128481879602714459430), m = mpz(1660676111819737750545139900735373695607110696674428168089566850117045012416057600520481175817156781159201423027625533866730971411240490785403799896228860)\n",
      "[TRACE] [STSUser] [c1bb9193-25d4-4018-9169-d1845cb47a9c] y = mpz(3308732720681852331377391958908351460682776336815548858040101999804130505456047278193983603438030234299569916405295712852497735709794699607327188809017284), m = mpz(7266318727392245297468133508285448525871413050081517522259560696777677466573046388190355376710198923359922440531773677234564306156929428010161898312145239)\n",
      "[TRACE] [STSUser] [97b98e26-b809-4e19-b826-e10077c098d8] Invalid signature\n"
     ]
    }
   ],
   "source": [
    "bob.initiate_key_exchange(mallory)"
   ]
  },
  {
   "cell_type": "code",
   "execution_count": null,
   "id": "26a2b24d",
   "metadata": {},
   "outputs": [],
   "source": []
  }
 ],
 "metadata": {
  "kernelspec": {
   "display_name": "Python 3 (ipykernel)",
   "language": "python",
   "name": "python3"
  },
  "language_info": {
   "codemirror_mode": {
    "name": "ipython",
    "version": 3
   },
   "file_extension": ".py",
   "mimetype": "text/x-python",
   "name": "python",
   "nbconvert_exporter": "python",
   "pygments_lexer": "ipython3",
   "version": "3.9.10"
  }
 },
 "nbformat": 4,
 "nbformat_minor": 5
}
