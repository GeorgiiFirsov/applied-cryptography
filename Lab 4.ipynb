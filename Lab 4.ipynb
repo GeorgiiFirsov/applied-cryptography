{
 "cells": [
  {
   "cell_type": "markdown",
   "id": "1a7ff214",
   "metadata": {},
   "source": [
    "# Протоколы обмена ключами"
   ]
  },
  {
   "cell_type": "code",
   "execution_count": 1,
   "id": "8ff18036",
   "metadata": {},
   "outputs": [],
   "source": [
    "IS_DEBUG = 1"
   ]
  },
  {
   "cell_type": "code",
   "execution_count": 2,
   "id": "40773d25",
   "metadata": {},
   "outputs": [],
   "source": [
    "def trace(*args, **kwargs):\n",
    "    \"\"\"\n",
    "    Отладочная трассировка\n",
    "    \"\"\"\n",
    "    \n",
    "    global IS_DEBUG\n",
    "    if IS_DEBUG:\n",
    "        print('[TRACE]', end=' ')\n",
    "        print(*args, **kwargs)"
   ]
  },
  {
   "cell_type": "code",
   "execution_count": 3,
   "id": "8dc96cfd",
   "metadata": {},
   "outputs": [],
   "source": [
    "def bytes_as_hex(b: bytes) -> str:\n",
    "    \"\"\"\n",
    "    Перевод бинарных данных в hex-строчку\n",
    "    \"\"\"\n",
    "    \n",
    "    return binascii.hexlify(b).decode()"
   ]
  },
  {
   "cell_type": "code",
   "execution_count": 4,
   "id": "fd4a2b91",
   "metadata": {},
   "outputs": [],
   "source": [
    "def randint(a, b):\n",
    "    \"\"\"\n",
    "    Генерация слуайного числа среди заданных.\n",
    "    \"\"\"\n",
    "    \n",
    "    native_a = int(a)\n",
    "    native_b = int(b)\n",
    "    return gmpy2.mpz(random.randint(native_a, native_b))"
   ]
  },
  {
   "cell_type": "markdown",
   "id": "6722f7fd",
   "metadata": {},
   "source": [
    "----"
   ]
  },
  {
   "cell_type": "code",
   "execution_count": 5,
   "id": "5e431a94",
   "metadata": {},
   "outputs": [],
   "source": [
    "#\n",
    "from Crypto.Util.number import getStrongPrime\n",
    "from Crypto.Random import random\n",
    "\n",
    "#\n",
    "from Crypto.Protocol.KDF import HKDF\n",
    "from Crypto.Hash import SHA512\n",
    "\n",
    "#\n",
    "import gmpy2\n",
    "\n",
    "#\n",
    "import uuid\n",
    "\n",
    "#\n",
    "from Crypto.Util.number import long_to_bytes\n",
    "import binascii"
   ]
  },
  {
   "cell_type": "markdown",
   "id": "cc58a274",
   "metadata": {},
   "source": [
    "----"
   ]
  },
  {
   "cell_type": "markdown",
   "id": "5b9f707c",
   "metadata": {},
   "source": [
    "## Протокол Диффи-Хеллмана\n",
    "![Diffe-Hellman Protocol](./images/Diffie-Hellman_4.png)"
   ]
  },
  {
   "cell_type": "code",
   "execution_count": 6,
   "id": "e2a9e4da",
   "metadata": {},
   "outputs": [],
   "source": [
    "class DiffieHellmanParams(object):\n",
    "    def __init__(self, prime_bits: int = 512):\n",
    "        \"\"\"\n",
    "        Генерация параметров протокола - простого числа и генератора.\n",
    "        \"\"\"\n",
    "        \n",
    "        self._p = gmpy2.mpz(getStrongPrime(prime_bits))\n",
    "        self._g = randint(2, self._p - 2)\n",
    "        \n",
    "        trace('[DiffieHellmanParams]', f'p = {self._p}, g = {self._g}')\n",
    "        \n",
    "        \n",
    "    @property\n",
    "    def prime(self) -> int:\n",
    "        \"\"\"\n",
    "        Получение простого числе - модуля.\n",
    "        \"\"\"\n",
    "        \n",
    "        return self._p\n",
    "    \n",
    "    \n",
    "    @property\n",
    "    def generator(self) -> int:\n",
    "        \"\"\"\n",
    "        Получение генератора.\n",
    "        \"\"\"\n",
    "        \n",
    "        return self._g"
   ]
  },
  {
   "cell_type": "code",
   "execution_count": 7,
   "id": "e92fb260",
   "metadata": {},
   "outputs": [],
   "source": [
    "class DiffieHellmanUser(object):\n",
    "    KEY_LENGTH = 32\n",
    "    HKDF_DUMMY_STUFF = b'\\x00' * 16\n",
    "    \n",
    "    def __init__(self, params: DiffieHellmanParams, \n",
    "                 use_another_value: bool = False):\n",
    "        \"\"\"\n",
    "        Инициализация клиента: генерация идентификатора,\n",
    "        сохранение параметров протокола.\n",
    "        Последний параметр служит для демонстрации неуспешного выполнения.\n",
    "        \"\"\"\n",
    "        \n",
    "        self._p = params.prime\n",
    "        self._g = params.generator\n",
    "        self._id = uuid.uuid4()\n",
    "        self._key = None\n",
    "        self._sabotage = use_another_value\n",
    "        \n",
    "        trace('[DiffieHellmanUser]', f'client {self._id} created')\n",
    "    \n",
    "    \n",
    "    def initiate_key_exchange(self, another_client):\n",
    "        \"\"\"\n",
    "        Инициирование протокола обмена ключами.\n",
    "        \"\"\"\n",
    "        \n",
    "        x = self._generate_group_element()\n",
    "        trace('[DiffieHellmanUser]', f'[{self._id}]', f'{x = }')\n",
    "        \n",
    "        intermediate_value = another_client._accept_key_exchange(gmpy2.powmod(self._g, x, self._p))\n",
    "        \n",
    "        #\n",
    "        # Если требуют неудачную попытку, то подменю x\n",
    "        # Это как бы незнание изначального значения - попытка угадать\n",
    "        #\n",
    "        \n",
    "        if self._sabotage:\n",
    "            x = self._generate_group_element()\n",
    "            trace('[DiffieHellmanUser]', f'[{self._id}]', f'guessed {x = }')\n",
    "        \n",
    "        self._key = HKDF(DiffieHellmanUser.HKDF_DUMMY_STUFF, \n",
    "                         DiffieHellmanUser.KEY_LENGTH, \n",
    "                         long_to_bytes(int(gmpy2.powmod(intermediate_value, x, self._p))), \n",
    "                         SHA512, \n",
    "                         1)\n",
    "        \n",
    "        trace('[DiffieHellmanUser]', f'[{self._id}]', f'derived key: {bytes_as_hex(self._key)}')\n",
    "        \n",
    "        \n",
    "    def _accept_key_exchange(self, intermediate_value) -> int:\n",
    "        y = self._generate_group_element()\n",
    "        trace('[DiffieHellmanUser]', f'[{self._id}]', f'{y = }')\n",
    "        \n",
    "        self._key = HKDF(DiffieHellmanUser.HKDF_DUMMY_STUFF, \n",
    "                         DiffieHellmanUser.KEY_LENGTH, \n",
    "                         long_to_bytes(int(gmpy2.powmod(intermediate_value, y, self._p))), \n",
    "                         SHA512, \n",
    "                         1)\n",
    "        \n",
    "        trace('[DiffieHellmanUser]', f'[{self._id}]', f'derived key: {bytes_as_hex(self._key)}')\n",
    "        \n",
    "        return gmpy2.powmod(self._g, y, self._p)\n",
    "    \n",
    "    \n",
    "    def _generate_group_element(self) -> int:\n",
    "        return randint(1, self._p - 2)"
   ]
  },
  {
   "cell_type": "markdown",
   "id": "12ab5a2f",
   "metadata": {},
   "source": [
    "----"
   ]
  },
  {
   "cell_type": "code",
   "execution_count": 8,
   "id": "c6634640",
   "metadata": {},
   "outputs": [
    {
     "name": "stdout",
     "output_type": "stream",
     "text": [
      "[TRACE] [DiffieHellmanParams] p = 13282182480699984973456273021442731021441340402558181612070088145084033211159355636834885141571534322838214070600733942211292523583920491927507172646371101, g = 8490562976317989407365083208278195744008687630108694523551451653404212723647817246579679153464770349556278080348185359856504210968544330924989065193545090\n"
     ]
    }
   ],
   "source": [
    "# Параметры протокола\n",
    "params = DiffieHellmanParams()"
   ]
  },
  {
   "cell_type": "code",
   "execution_count": 9,
   "id": "a0becd38",
   "metadata": {},
   "outputs": [
    {
     "name": "stdout",
     "output_type": "stream",
     "text": [
      "[TRACE] [DiffieHellmanUser] client 56773725-3d52-43ed-8df9-aaf7988ca262 created\n",
      "[TRACE] [DiffieHellmanUser] client a3b10e2e-13e4-426a-b209-94feea286170 created\n"
     ]
    }
   ],
   "source": [
    "# Два хороших пользователя\n",
    "alice = DiffieHellmanUser(params)\n",
    "bob   = DiffieHellmanUser(params)"
   ]
  },
  {
   "cell_type": "code",
   "execution_count": 10,
   "id": "527a4232",
   "metadata": {},
   "outputs": [
    {
     "name": "stdout",
     "output_type": "stream",
     "text": [
      "[TRACE] [DiffieHellmanUser] [56773725-3d52-43ed-8df9-aaf7988ca262] x = mpz(2040580960055410159509033420379078139987239256578712570788792042049486063603810682644848344739492818645282041691003449705890238627718826269575993186411158)\n",
      "[TRACE] [DiffieHellmanUser] [a3b10e2e-13e4-426a-b209-94feea286170] y = mpz(7645704810047422251096643115063602244244196468962977375522021299976957323716362522758705574953371859747038697288562187767077768200583244476184836954260501)\n",
      "[TRACE] [DiffieHellmanUser] [a3b10e2e-13e4-426a-b209-94feea286170] derived key: af827b1425960c50d2e69a193fd132b1c63491262095fa7ce9c383273bba8b4d\n",
      "[TRACE] [DiffieHellmanUser] [56773725-3d52-43ed-8df9-aaf7988ca262] derived key: af827b1425960c50d2e69a193fd132b1c63491262095fa7ce9c383273bba8b4d\n"
     ]
    }
   ],
   "source": [
    "# КЛюч получается установить успешно\n",
    "alice.initiate_key_exchange(bob)"
   ]
  },
  {
   "cell_type": "code",
   "execution_count": 11,
   "id": "56d8d6b2",
   "metadata": {},
   "outputs": [
    {
     "name": "stdout",
     "output_type": "stream",
     "text": [
      "[TRACE] [DiffieHellmanUser] client c0ccaba0-af05-48dc-b2e7-1bcdd17782ae created\n"
     ]
    }
   ],
   "source": [
    "# Теперь врага создам\n",
    "mallory = DiffieHellmanUser(params, True)"
   ]
  },
  {
   "cell_type": "code",
   "execution_count": 12,
   "id": "a685627c",
   "metadata": {},
   "outputs": [
    {
     "name": "stdout",
     "output_type": "stream",
     "text": [
      "[TRACE] [DiffieHellmanUser] [c0ccaba0-af05-48dc-b2e7-1bcdd17782ae] x = mpz(6668392746341720569700966112554868359902148728288159503214916053403315545571586080927771136062402057405704821160053388753305233832063614329030809578497095)\n",
      "[TRACE] [DiffieHellmanUser] [a3b10e2e-13e4-426a-b209-94feea286170] y = mpz(3744427839303583213423607316714816250539177532251303425365863753298678527052547518882189636147876281130563915129159041112439540992664486378185716701734631)\n",
      "[TRACE] [DiffieHellmanUser] [a3b10e2e-13e4-426a-b209-94feea286170] derived key: 9665ca79f95adc0f2b9c1660f1db2e35d27e03a4c3d7a46d1cc97ba4978a6499\n",
      "[TRACE] [DiffieHellmanUser] [c0ccaba0-af05-48dc-b2e7-1bcdd17782ae] guessed x = mpz(1272579622011091594674737374173993053338880452392324638749210057339784586687266227472204081782785935664643621753869426389149515524482854633591949973901666)\n",
      "[TRACE] [DiffieHellmanUser] [c0ccaba0-af05-48dc-b2e7-1bcdd17782ae] derived key: eb659f2e9d8f982e46e20cf2b228d4c0eff1823ec643770242cca9844c2a6293\n"
     ]
    }
   ],
   "source": [
    "# Внедрившись в исполняющий протокол, врагу не достается правильный ключ\n",
    "mallory.initiate_key_exchange(bob)"
   ]
  },
  {
   "cell_type": "code",
   "execution_count": null,
   "id": "2d311cf6",
   "metadata": {},
   "outputs": [],
   "source": []
  }
 ],
 "metadata": {
  "kernelspec": {
   "display_name": "Python 3 (ipykernel)",
   "language": "python",
   "name": "python3"
  },
  "language_info": {
   "codemirror_mode": {
    "name": "ipython",
    "version": 3
   },
   "file_extension": ".py",
   "mimetype": "text/x-python",
   "name": "python",
   "nbconvert_exporter": "python",
   "pygments_lexer": "ipython3",
   "version": "3.9.10"
  }
 },
 "nbformat": 4,
 "nbformat_minor": 5
}
