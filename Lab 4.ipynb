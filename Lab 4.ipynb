{
 "cells": [
  {
   "cell_type": "markdown",
   "id": "1841d78e",
   "metadata": {},
   "source": [
    "# Протоколы обмена ключами"
   ]
  },
  {
   "cell_type": "code",
   "execution_count": 1,
   "id": "645828de",
   "metadata": {},
   "outputs": [],
   "source": [
    "IS_DEBUG = 1"
   ]
  },
  {
   "cell_type": "code",
   "execution_count": 2,
   "id": "f18f7d6a",
   "metadata": {},
   "outputs": [],
   "source": [
    "def trace(*args, **kwargs):\n",
    "    \"\"\"\n",
    "    Отладочная трассировка\n",
    "    \"\"\"\n",
    "    \n",
    "    global IS_DEBUG\n",
    "    if IS_DEBUG:\n",
    "        print('[TRACE]', end=' ')\n",
    "        print(*args, **kwargs)"
   ]
  },
  {
   "cell_type": "code",
   "execution_count": 3,
   "id": "0ffb0eba",
   "metadata": {},
   "outputs": [],
   "source": [
    "def bytes_as_hex(b: bytes) -> str:\n",
    "    \"\"\"\n",
    "    Перевод бинарных данных в hex-строчку\n",
    "    \"\"\"\n",
    "    \n",
    "    return binascii.hexlify(b).decode()"
   ]
  },
  {
   "cell_type": "code",
   "execution_count": 4,
   "id": "c30d54e6",
   "metadata": {},
   "outputs": [],
   "source": [
    "def randint(a, b):\n",
    "    \"\"\"\n",
    "    Генерация слуайного числа среди заданных.\n",
    "    \"\"\"\n",
    "    \n",
    "    native_a = int(a)\n",
    "    native_b = int(b)\n",
    "    return gmpy2.mpz(random.randint(native_a, native_b))"
   ]
  },
  {
   "cell_type": "markdown",
   "id": "b2f83703",
   "metadata": {},
   "source": [
    "----"
   ]
  },
  {
   "cell_type": "code",
   "execution_count": 5,
   "id": "6aab8af0",
   "metadata": {},
   "outputs": [],
   "source": [
    "# Генерация простых чисел и КГПСЧ\n",
    "from Crypto.Util.number import getStrongPrime\n",
    "from Crypto.Random import random\n",
    "\n",
    "# HKDF и то, что надо для нее\n",
    "from Crypto.Protocol.KDF import HKDF\n",
    "from Crypto.Hash import SHA512\n",
    "\n",
    "# Подпись и шифрование\n",
    "from Crypto.PublicKey import RSA\n",
    "from Crypto.Signature import pss\n",
    "from Crypto.Cipher import AES\n",
    "\n",
    "# Математическая библиотека\n",
    "import gmpy2\n",
    "\n",
    "# Для генерации идентификаторов\n",
    "import uuid\n",
    "\n",
    "# Утилитки\n",
    "from Crypto.Util.number import long_to_bytes\n",
    "import binascii"
   ]
  },
  {
   "cell_type": "markdown",
   "id": "4b749a4d",
   "metadata": {},
   "source": [
    "----"
   ]
  },
  {
   "cell_type": "markdown",
   "id": "51ad824e",
   "metadata": {},
   "source": [
    "## Протокол Диффи-Хеллмана\n",
    "![Diffe-Hellman Protocol](./images/Diffie-Hellman_4.png)"
   ]
  },
  {
   "cell_type": "code",
   "execution_count": 6,
   "id": "2a2288bd",
   "metadata": {},
   "outputs": [],
   "source": [
    "class DiffieHellmanParams(object):\n",
    "    def __init__(self, prime_bits: int = 512):\n",
    "        \"\"\"\n",
    "        Генерация параметров протокола - простого числа и генератора.\n",
    "        \"\"\"\n",
    "        \n",
    "        self._p = gmpy2.mpz(getStrongPrime(prime_bits))\n",
    "        self._g = randint(2, self._p - 2)\n",
    "        \n",
    "        trace('[DiffieHellmanParams]', f'p = {self._p}, g = {self._g}')\n",
    "        \n",
    "        \n",
    "    @property\n",
    "    def prime(self) -> int:\n",
    "        \"\"\"\n",
    "        Получение простого числе - модуля.\n",
    "        \"\"\"\n",
    "        \n",
    "        return self._p\n",
    "    \n",
    "    \n",
    "    @property\n",
    "    def generator(self) -> int:\n",
    "        \"\"\"\n",
    "        Получение генератора.\n",
    "        \"\"\"\n",
    "        \n",
    "        return self._g"
   ]
  },
  {
   "cell_type": "code",
   "execution_count": 7,
   "id": "9ec35c0c",
   "metadata": {},
   "outputs": [],
   "source": [
    "class DiffieHellmanUser(object):\n",
    "    KEY_LENGTH = 32\n",
    "    HKDF_DUMMY_STUFF = b'\\x00' * 16\n",
    "    \n",
    "    def __init__(self, params: DiffieHellmanParams, \n",
    "                 use_another_value: bool = False):\n",
    "        \"\"\"\n",
    "        Инициализация клиента: генерация идентификатора,\n",
    "        сохранение параметров протокола.\n",
    "        Последний параметр служит для демонстрации неуспешного выполнения.\n",
    "        \"\"\"\n",
    "        \n",
    "        self._p = params.prime\n",
    "        self._g = params.generator\n",
    "        self._id = uuid.uuid4()\n",
    "        self._key = None\n",
    "        self._sabotage = use_another_value\n",
    "        \n",
    "        trace('[DiffieHellmanUser]', f'client {self._id} created')\n",
    "    \n",
    "    \n",
    "    def initiate_key_exchange(self, another_client):\n",
    "        \"\"\"\n",
    "        Инициирование протокола обмена ключами.\n",
    "        \"\"\"\n",
    "        \n",
    "        #\n",
    "        # Генерирую х, отправляю другому пользователю\n",
    "        # Получаю от него g ** y mod p\n",
    "        #\n",
    "        \n",
    "        x = self._generate_group_element()\n",
    "        trace('[DiffieHellmanUser]', f'[{self._id}]', f'{x = }')\n",
    "        \n",
    "        intermediate_value = another_client._accept_key_exchange(gmpy2.powmod(self._g, x, self._p))\n",
    "        \n",
    "        #\n",
    "        # Если требуют неудачную попытку, то подменю x\n",
    "        # Это как бы незнание изначального значения - попытка угадать\n",
    "        #\n",
    "        \n",
    "        if self._sabotage:\n",
    "            x = self._generate_group_element()\n",
    "            trace('[DiffieHellmanUser]', f'[{self._id}]', f'guessed {x = }')\n",
    "        \n",
    "        #\n",
    "        # Вывожу ключ\n",
    "        #\n",
    "        \n",
    "        self._key = HKDF(DiffieHellmanUser.HKDF_DUMMY_STUFF, \n",
    "                         DiffieHellmanUser.KEY_LENGTH, \n",
    "                         long_to_bytes(int(gmpy2.powmod(intermediate_value, x, self._p))), \n",
    "                         SHA512, \n",
    "                         1)\n",
    "        \n",
    "        trace('[DiffieHellmanUser]', f'[{self._id}]', f'derived key: {bytes_as_hex(self._key)}')\n",
    "        \n",
    "        \n",
    "    def _accept_key_exchange(self, intermediate_value) -> int:\n",
    "        #\n",
    "        # Получаю g ** x mod p, генерирую у\n",
    "        #\n",
    "        \n",
    "        y = self._generate_group_element()\n",
    "        trace('[DiffieHellmanUser]', f'[{self._id}]', f'{y = }')\n",
    "        \n",
    "        #\n",
    "        # Вывожу ключ\n",
    "        #\n",
    "        \n",
    "        self._key = HKDF(DiffieHellmanUser.HKDF_DUMMY_STUFF, \n",
    "                         DiffieHellmanUser.KEY_LENGTH, \n",
    "                         long_to_bytes(int(gmpy2.powmod(intermediate_value, y, self._p))), \n",
    "                         SHA512, \n",
    "                         1)\n",
    "        \n",
    "        trace('[DiffieHellmanUser]', f'[{self._id}]', f'derived key: {bytes_as_hex(self._key)}')\n",
    "        \n",
    "        return gmpy2.powmod(self._g, y, self._p)\n",
    "    \n",
    "    \n",
    "    def _generate_group_element(self) -> int:\n",
    "        return randint(1, self._p - 2)"
   ]
  },
  {
   "cell_type": "markdown",
   "id": "ce5482ac",
   "metadata": {},
   "source": [
    "----"
   ]
  },
  {
   "cell_type": "code",
   "execution_count": 8,
   "id": "3dd565e3",
   "metadata": {},
   "outputs": [
    {
     "name": "stdout",
     "output_type": "stream",
     "text": [
      "[TRACE] [DiffieHellmanParams] p = 12084714093411605017891085314500492391779373972043377589149908554934882367705599394182188633577232667612424554301905540934507123231316491188745535938455621, g = 9967553925170674168626172345506684212980532990584631497251252822123950168810113539594513357359262280530111931475246469113987548689983729155885027869031436\n"
     ]
    }
   ],
   "source": [
    "# Параметры протокола\n",
    "params = DiffieHellmanParams()"
   ]
  },
  {
   "cell_type": "code",
   "execution_count": 9,
   "id": "549f2efa",
   "metadata": {},
   "outputs": [
    {
     "name": "stdout",
     "output_type": "stream",
     "text": [
      "[TRACE] [DiffieHellmanUser] client 1995782b-a1fb-4601-9169-36edacb2fcee created\n",
      "[TRACE] [DiffieHellmanUser] client 61775d00-2379-4715-8e2d-1ec654e174aa created\n"
     ]
    }
   ],
   "source": [
    "# Два хороших пользователя\n",
    "alice = DiffieHellmanUser(params)\n",
    "bob   = DiffieHellmanUser(params)"
   ]
  },
  {
   "cell_type": "code",
   "execution_count": 10,
   "id": "d47667eb",
   "metadata": {},
   "outputs": [
    {
     "name": "stdout",
     "output_type": "stream",
     "text": [
      "[TRACE] [DiffieHellmanUser] [1995782b-a1fb-4601-9169-36edacb2fcee] x = mpz(2404433793977967968639298828223993352383498527526758447667401705624348381235327887971807015624714512370527397712718427142599948265735783416008212086670436)\n",
      "[TRACE] [DiffieHellmanUser] [61775d00-2379-4715-8e2d-1ec654e174aa] y = mpz(8655556869741626848472569534989046501290198892690098439820813767197632823112689300710524922996017998304952338836840412227632497019961469744795978336244745)\n",
      "[TRACE] [DiffieHellmanUser] [61775d00-2379-4715-8e2d-1ec654e174aa] derived key: f424d46fa82a8f6819311b0a626bf2e367c18a108178f9070204c0335725fc02\n",
      "[TRACE] [DiffieHellmanUser] [1995782b-a1fb-4601-9169-36edacb2fcee] derived key: f424d46fa82a8f6819311b0a626bf2e367c18a108178f9070204c0335725fc02\n"
     ]
    }
   ],
   "source": [
    "# Ключ получается установить успешно\n",
    "alice.initiate_key_exchange(bob)"
   ]
  },
  {
   "cell_type": "code",
   "execution_count": 11,
   "id": "8f9bf653",
   "metadata": {},
   "outputs": [
    {
     "name": "stdout",
     "output_type": "stream",
     "text": [
      "[TRACE] [DiffieHellmanUser] client 76cf0793-5585-4359-97ad-8a7ce30f77af created\n"
     ]
    }
   ],
   "source": [
    "# Теперь врага создам\n",
    "mallory = DiffieHellmanUser(params, True)"
   ]
  },
  {
   "cell_type": "code",
   "execution_count": 12,
   "id": "66d63760",
   "metadata": {},
   "outputs": [
    {
     "name": "stdout",
     "output_type": "stream",
     "text": [
      "[TRACE] [DiffieHellmanUser] [76cf0793-5585-4359-97ad-8a7ce30f77af] x = mpz(11380551920749555116401420131855013519742062354481121021235322606682385043013587745102119454849096051264029281044435249750511445378703139486989338360728120)\n",
      "[TRACE] [DiffieHellmanUser] [61775d00-2379-4715-8e2d-1ec654e174aa] y = mpz(6110232113925736023263011748167728105427608339015640867934129807018531982604816265237804370126652259954809680360135082954694247862208404959394520529946594)\n",
      "[TRACE] [DiffieHellmanUser] [61775d00-2379-4715-8e2d-1ec654e174aa] derived key: 7055231763b6001cf729197416a3e37b791d3bf81e124af16a7f0ecbf82ffe43\n",
      "[TRACE] [DiffieHellmanUser] [76cf0793-5585-4359-97ad-8a7ce30f77af] guessed x = mpz(7797158925604243922627774559874878911437329411784201208262544675763956992378741249739413477034547141307748013773938796776065416755308374659569078809256735)\n",
      "[TRACE] [DiffieHellmanUser] [76cf0793-5585-4359-97ad-8a7ce30f77af] derived key: e9f38e3db9e9d89385df5377ba003ed94b2cd9a0d9fac14fab4489dbd9f5a00b\n"
     ]
    }
   ],
   "source": [
    "# Внедрившись в исполняющийся протокол, врагу не достается правильный ключ\n",
    "mallory.initiate_key_exchange(bob)"
   ]
  },
  {
   "cell_type": "markdown",
   "id": "8e3d063e",
   "metadata": {},
   "source": [
    "----\n",
    "## Протокол MTI\n",
    "![Diffe-Hellman Protocol](./images/MTI_4.png)"
   ]
  },
  {
   "cell_type": "code",
   "execution_count": 13,
   "id": "e2ef16d8",
   "metadata": {},
   "outputs": [],
   "source": [
    "class MTIParams(object):\n",
    "    def __init__(self, prime_bits):\n",
    "        \"\"\"\n",
    "        Генерация параметров протокола - простого числа и генератора.\n",
    "        \"\"\"\n",
    "        \n",
    "        self._p = gmpy2.mpz(getStrongPrime(prime_bits))\n",
    "        self._g = randint(2, self._p - 2)\n",
    "        \n",
    "        trace('[MTIParams]', f'p = {self._p}, g = {self._g}')\n",
    "        \n",
    "        \n",
    "    @property\n",
    "    def prime(self) -> int:\n",
    "        \"\"\"\n",
    "        Получение простого числе - модуля.\n",
    "        \"\"\"\n",
    "        \n",
    "        return self._p\n",
    "    \n",
    "    \n",
    "    @property\n",
    "    def generator(self) -> int:\n",
    "        \"\"\"\n",
    "        Получение генератора.\n",
    "        \"\"\"\n",
    "        \n",
    "        return self._g"
   ]
  },
  {
   "cell_type": "code",
   "execution_count": 14,
   "id": "d7571eea",
   "metadata": {},
   "outputs": [],
   "source": [
    "class MTIUser(object):\n",
    "    KEY_LENGTH = 32\n",
    "    HKDF_DUMMY_STUFF = b'\\x00' * 16\n",
    "    \n",
    "    def __init__(self, params: MTIParams, *,\n",
    "                 fake_data: gmpy2.mpz = None):\n",
    "        \"\"\"\n",
    "        Инициализация клиента: генерация идентификатора,\n",
    "        сохранение параметров протокола, генерация ключевой пары.\n",
    "        Последний параметр служит для демонстрации неуспешного выполнения.\n",
    "        \"\"\"\n",
    "        \n",
    "        self._p = params.prime\n",
    "        self._g = params.generator\n",
    "        self._id = uuid.uuid4()\n",
    "        self._key = None\n",
    "        \n",
    "        self._private_key = self._generate_group_element()\n",
    "        self._public_key  = gmpy2.powmod(self._g, self._private_key, self._p) if fake_data is None else fake_data\n",
    "        \n",
    "        trace('[MTIUser]', f'client {self._id} created. PK = {self._public_key}, SK = {self._private_key}')\n",
    "        \n",
    "        \n",
    "    def initiate_key_exchange(self, another_client):\n",
    "        \"\"\"\n",
    "        Инициирование протокола обмена ключами.\n",
    "        \"\"\"\n",
    "        \n",
    "        #\n",
    "        # Генерирую х, вычисляю g ** x mod p\n",
    "        #\n",
    "        \n",
    "        x = self._generate_group_element()\n",
    "        m = gmpy2.powmod(self._g, x, self._p)\n",
    "        \n",
    "        trace('[MTIUser]', f'[{self._id}]', f'{x = }, {m = }')\n",
    "        \n",
    "        #\n",
    "        # Отправляю другому клиенту и получаю от него g ** y mod p\n",
    "        #\n",
    "        \n",
    "        intermediate_value = another_client._accept_key_exchange(m, self.public_key)\n",
    "        \n",
    "        #\n",
    "        # Вывожу ключ\n",
    "        #\n",
    "        \n",
    "        product = gmpy2.powmod(another_client.public_key, x, self._p) * \\\n",
    "            gmpy2.powmod(intermediate_value, self._private_key, self._p)\n",
    "        \n",
    "        self._key = HKDF(DiffieHellmanUser.HKDF_DUMMY_STUFF, \n",
    "                         DiffieHellmanUser.KEY_LENGTH, \n",
    "                         long_to_bytes(int(gmpy2.t_mod(product, self._p))), \n",
    "                         SHA512, \n",
    "                         1)\n",
    "        \n",
    "        trace('[MTIUser]', f'[{self._id}]', f'derived key: {bytes_as_hex(self._key)}')\n",
    "    \n",
    "    \n",
    "    def _accept_key_exchange(self, intermediate_value, public_key):\n",
    "        #\n",
    "        # Генерирую у, вычисляю g ** y mod p\n",
    "        #\n",
    "        \n",
    "        y = self._generate_group_element()\n",
    "        m = gmpy2.powmod(self._g, y, self._p)\n",
    "        \n",
    "        trace('[MTIUser]', f'[{self._id}]', f'{y = }, {m = }')\n",
    "        \n",
    "        #\n",
    "        # Вывожу ключ\n",
    "        #\n",
    "        \n",
    "        product = gmpy2.powmod(public_key, y, self._p) * \\\n",
    "            gmpy2.powmod(intermediate_value, self._private_key, self._p)\n",
    "        \n",
    "        self._key = HKDF(MTIUser.HKDF_DUMMY_STUFF, \n",
    "                         MTIUser.KEY_LENGTH, \n",
    "                         long_to_bytes(int(gmpy2.t_mod(product, self._p))), \n",
    "                         SHA512, \n",
    "                         1)\n",
    "        \n",
    "        trace('[MTIUser]', f'[{self._id}]', f'derived key: {bytes_as_hex(self._key)}')\n",
    "        \n",
    "        return m\n",
    "        \n",
    "    \n",
    "    @property\n",
    "    def public_key(self):\n",
    "        \"\"\"\n",
    "        Получение открытого ключа.\n",
    "        \"\"\"\n",
    "        \n",
    "        return self._public_key\n",
    "    \n",
    "    \n",
    "    def _generate_group_element(self) -> int:\n",
    "        return randint(1, self._p - 2)"
   ]
  },
  {
   "cell_type": "markdown",
   "id": "cb80c1fe",
   "metadata": {},
   "source": [
    "----"
   ]
  },
  {
   "cell_type": "code",
   "execution_count": 15,
   "id": "d046a7e6",
   "metadata": {},
   "outputs": [
    {
     "name": "stdout",
     "output_type": "stream",
     "text": [
      "[TRACE] [MTIParams] p = 9888926915479633119867110849228648353728849415766763527377413427841437882867887479780377435649995010913913220833927137453510758446431231077352314322032357, g = 3988709560929595758222026731766588010717970304598577205070172239047115739881507133847351380930748226975347713065616398788784918988897480048320751584601905\n"
     ]
    }
   ],
   "source": [
    "# Параметры протокола\n",
    "params = MTIParams(512)"
   ]
  },
  {
   "cell_type": "code",
   "execution_count": 16,
   "id": "da18add7",
   "metadata": {},
   "outputs": [
    {
     "name": "stdout",
     "output_type": "stream",
     "text": [
      "[TRACE] [MTIUser] client aa7597c5-5b00-4d0a-95f4-dcf3f6c203b9 created. PK = 3976243981478272960374982406828104139514106886116060448454522575265898133518795434275167311778822451456608141930977180188231545273204539620318116295562286, SK = 4886021660988512551952591073533949523706417351724705917827161083127275861547456603740575965932657945186477609643326849621873629893527092058935392667317988\n",
      "[TRACE] [MTIUser] client fb840f2b-1748-44b0-ba4c-77a7d1c5f20e created. PK = 4901140387453078600435245062425731978483552154410570243958083930848124921218972122816546412270016608288009679757204064957820687412447821691835246939535436, SK = 2040782717457316005280647830342260979516386509749708323923074173116884408513937016901473040198153303037782033434484433056146332473473921702501957609906280\n"
     ]
    }
   ],
   "source": [
    "# Два хороших пользователя\n",
    "alice = MTIUser(params)\n",
    "bob   = MTIUser(params)"
   ]
  },
  {
   "cell_type": "code",
   "execution_count": 17,
   "id": "bdef111e",
   "metadata": {},
   "outputs": [
    {
     "name": "stdout",
     "output_type": "stream",
     "text": [
      "[TRACE] [MTIUser] [aa7597c5-5b00-4d0a-95f4-dcf3f6c203b9] x = mpz(93514748394166819965224678686389827591436512231196707708618288436044202034798542314250345851972798991036424483345245565545583771399768862693664260682197), m = mpz(1362934752220779663499844019094853081429794881871219117053252305533395229507043036297116375778749927557435488819665235606656951290062695563387191512361191)\n",
      "[TRACE] [MTIUser] [fb840f2b-1748-44b0-ba4c-77a7d1c5f20e] y = mpz(981156213626691415794729448832337218368447508966576076104883475992534908681570309340240590839051681141955641147166446912697242223469544719899948990773371), m = mpz(277448465162834622465147589285158627587218833922071615285441723152418198347579232204864438214405425805522972484579542194922181064178261408133758192940527)\n",
      "[TRACE] [MTIUser] [fb840f2b-1748-44b0-ba4c-77a7d1c5f20e] derived key: 2dc47e5508338ad9c488669fdcd4345dd37a548282f1555d356789b3d3c3891c\n",
      "[TRACE] [MTIUser] [aa7597c5-5b00-4d0a-95f4-dcf3f6c203b9] derived key: 2dc47e5508338ad9c488669fdcd4345dd37a548282f1555d356789b3d3c3891c\n"
     ]
    }
   ],
   "source": [
    "# Ключ получается установить успешно\n",
    "alice.initiate_key_exchange(bob)"
   ]
  },
  {
   "cell_type": "code",
   "execution_count": 18,
   "id": "707ae802",
   "metadata": {},
   "outputs": [
    {
     "name": "stdout",
     "output_type": "stream",
     "text": [
      "[TRACE] [MTIUser] client 00e18358-4205-4e75-8931-c4fdf2e3ec47 created. PK = 3976243981478272960374982406828104139514106886116060448454522575265898133518795434275167311778822451456608141930977180188231545273204539620318116295562286, SK = 9129385536472394000033574868911350039916516465806252848603123064186427600982639685609356684006810618839198703844016092643746389920975036727949430240834906\n"
     ]
    }
   ],
   "source": [
    "# Теперь врага создам\n",
    "mallory = MTIUser(params, fake_data=alice.public_key)"
   ]
  },
  {
   "cell_type": "code",
   "execution_count": 19,
   "id": "e80afdc0",
   "metadata": {},
   "outputs": [
    {
     "name": "stdout",
     "output_type": "stream",
     "text": [
      "[TRACE] [MTIUser] [00e18358-4205-4e75-8931-c4fdf2e3ec47] x = mpz(4849310966694300152072172452314821446540587537951593216127482562433446065236221271848596385969425272240428592043970479066348729255975018103535055646339988), m = mpz(4664296895039636798838387936579970868811283090050235960815954547765083641490360569082809317015234227216753832502618568645322421742653998474819736602470298)\n",
      "[TRACE] [MTIUser] [fb840f2b-1748-44b0-ba4c-77a7d1c5f20e] y = mpz(6750090901278771775906628050918171275751229176143570881207696684737918704705019426923280088925903834173216559800683148978463731083224839183959190250117447), m = mpz(6563690575874369536622211607777676732123853019650604046018795783475150694058067153817489740313294464351711652161817854673126832902636781465203820004824226)\n",
      "[TRACE] [MTIUser] [fb840f2b-1748-44b0-ba4c-77a7d1c5f20e] derived key: dcb5eb9ad7e18d2df6915a0733432cbda1ca8a5260310e745e554312409fc4f4\n",
      "[TRACE] [MTIUser] [00e18358-4205-4e75-8931-c4fdf2e3ec47] derived key: 96daad2702ce075450ebbf5021e4390ba4bdd6a7ae9e0c2e92051cffff4e8cc8\n"
     ]
    }
   ],
   "source": [
    "# Внедрившись в исполняющийся протокол, врагу не достается правильный ключ\n",
    "mallory.initiate_key_exchange(bob)"
   ]
  },
  {
   "cell_type": "markdown",
   "id": "a0f2ecd2",
   "metadata": {},
   "source": [
    "----\n",
    "## Протокол STS\n",
    "![STS Protocol](./images/STS_4.png)"
   ]
  },
  {
   "cell_type": "code",
   "execution_count": 20,
   "id": "dd2b5d1a",
   "metadata": {},
   "outputs": [],
   "source": [
    "class STSParams(object):\n",
    "    def __init__(self, prime_bits):\n",
    "        \"\"\"\n",
    "        Генерация параметров протокола - простого числа и генератора.\n",
    "        \"\"\"\n",
    "        \n",
    "        self._p = gmpy2.mpz(getStrongPrime(prime_bits))\n",
    "        self._g = randint(2, self._p - 2)\n",
    "        \n",
    "        trace('[STSParams]', f'p = {self._p}, g = {self._g}')\n",
    "        \n",
    "        \n",
    "    @property\n",
    "    def prime(self) -> int:\n",
    "        \"\"\"\n",
    "        Получение простого числе - модуля.\n",
    "        \"\"\"\n",
    "        \n",
    "        return self._p\n",
    "    \n",
    "    \n",
    "    @property\n",
    "    def generator(self) -> int:\n",
    "        \"\"\"\n",
    "        Получение генератора.\n",
    "        \"\"\"\n",
    "        \n",
    "        return self._g"
   ]
  },
  {
   "cell_type": "code",
   "execution_count": 21,
   "id": "9d905704",
   "metadata": {},
   "outputs": [],
   "source": [
    "class STSUser(object):\n",
    "    RSA_KEY_LENGTH = 4096\n",
    "    KEY_LENGTH = 32\n",
    "    HKDF_DUMMY_STUFF = b'\\x00' * 16\n",
    "    \n",
    "    def __init__(self, params: STSParams, *, \n",
    "                 fake_data=None):\n",
    "        \"\"\"\n",
    "        Инициализация клиента: генерация идентификатора,\n",
    "        сохранение параметров протокола, генерация ключевой пары.\n",
    "        Последний параметр служит для демонстрации неуспешного выполнения.\n",
    "        \"\"\"\n",
    "        \n",
    "        self._p = params.prime\n",
    "        self._g = params.generator\n",
    "        self._id = uuid.uuid4()\n",
    "        self._key = None\n",
    "        \n",
    "        self._private_key = RSA.generate(STSUser.RSA_KEY_LENGTH)\n",
    "        self._public_key  = self._private_key.publickey() if fake_data is None else fake_data\n",
    "        \n",
    "        trace('[STSUser]', f'client {self._id} created. PK = {self._public_key}, SK = {self._private_key}')\n",
    "        \n",
    "    \n",
    "    def initiate_key_exchange(self, another_client):\n",
    "        \"\"\"\n",
    "        Инициирование протокола обмена ключами.\n",
    "        \"\"\"\n",
    "        \n",
    "        #\n",
    "        # Генерирую х, вычисляю g ** x mod p\n",
    "        #\n",
    "        \n",
    "        x = self._generate_group_element()\n",
    "        m = gmpy2.powmod(self._g, x, self._p)\n",
    "        \n",
    "        trace('[STSUser]', f'[{self._id}]', f'{x = }, {m = }')\n",
    "        \n",
    "        #\n",
    "        # Отправляю другому пользователю, получаю g ** y mod p и зашифрованную подпись\n",
    "        #\n",
    "        \n",
    "        intermediate_value, encrypted_signature = another_client._accept_key_exchange(m)\n",
    "        \n",
    "        #\n",
    "        # Вывожу ключ\n",
    "        #\n",
    "        \n",
    "        self._key = HKDF(DiffieHellmanUser.HKDF_DUMMY_STUFF, \n",
    "                         DiffieHellmanUser.KEY_LENGTH, \n",
    "                         long_to_bytes(int(gmpy2.powmod(intermediate_value, x, self._p))), \n",
    "                         SHA512, \n",
    "                         1)\n",
    "        \n",
    "        #\n",
    "        # Расшифровываю подпись и проверяю ее\n",
    "        # Если не подошла, то ключ неверный, завершаюсь\n",
    "        #\n",
    "        \n",
    "        nonce, ct = encrypted_signature\n",
    "        \n",
    "        cipher = AES.new(self._key, AES.MODE_CTR, nonce=nonce)\n",
    "        received_signature = cipher.decrypt(ct)\n",
    "        \n",
    "        if not self._check_signature(intermediate_value, m, received_signature, another_client.public_key):\n",
    "            trace('[STSUser]', f'[{self._id}]', 'Invalid signature')\n",
    "            self._key = None\n",
    "            return\n",
    "        \n",
    "        #\n",
    "        # Сам теперь подписываю значения и отправляю на проверку другому пользователю\n",
    "        #\n",
    "        \n",
    "        signature = self._sign_values(m, intermediate_value)\n",
    "        \n",
    "        cipher = AES.new(self._key, AES.MODE_CTR)\n",
    "        if not another_client._check_key_exchange(m, intermediate_value, \n",
    "                                                  (cipher.nonce, cipher.encrypt(signature)), \n",
    "                                                  self.public_key):\n",
    "            trace('[STSUser]', f'[{self._id}]', 'Another user refused key exchange')\n",
    "            self._key = None\n",
    "            return\n",
    "        \n",
    "        #\n",
    "        # Тут все хорошо\n",
    "        #\n",
    "        \n",
    "        trace('[STSUser]', f'[{self._id}]', f'derived key: {bytes_as_hex(self._key)}')\n",
    "        \n",
    "        \n",
    "    def _accept_key_exchange(self, intermediate_value):\n",
    "        #\n",
    "        # Генерирую у, вычисляю g ** y mod p\n",
    "        # Вывожу ключ\n",
    "        #\n",
    "        \n",
    "        y = self._generate_group_element()\n",
    "        m = gmpy2.powmod(self._g, y, self._p)\n",
    "        \n",
    "        trace('[STSUser]', f'[{self._id}]', f'{y = }, {m = }')\n",
    "        \n",
    "        self._key = HKDF(DiffieHellmanUser.HKDF_DUMMY_STUFF, \n",
    "                         DiffieHellmanUser.KEY_LENGTH, \n",
    "                         long_to_bytes(int(gmpy2.powmod(intermediate_value, y, self._p))), \n",
    "                         SHA512, \n",
    "                         1)\n",
    "        \n",
    "        #\n",
    "        # Создаю подпись значений и отправляю инициатору\n",
    "        #\n",
    "        \n",
    "        signature = self._sign_values(m, intermediate_value)\n",
    "        \n",
    "        cipher = AES.new(self._key, AES.MODE_CTR)\n",
    "        encrypted_signature = (cipher.nonce, cipher.encrypt(signature))\n",
    "        \n",
    "        return m, encrypted_signature\n",
    "    \n",
    "    \n",
    "    def _check_key_exchange(self, f, s, encrypted_signature, pk):\n",
    "        #\n",
    "        # Проверяю подпись от инициатора\n",
    "        #\n",
    "        \n",
    "        nonce, ct = encrypted_signature\n",
    "        \n",
    "        cipher = AES.new(self._key, AES.MODE_CTR, nonce=nonce)\n",
    "        received_signature = cipher.decrypt(ct)\n",
    "        \n",
    "        if not self._check_signature(f, s, received_signature, pk):\n",
    "            trace('[STSUser]', f'[{self._id}]', 'Invalid signature')\n",
    "            self._key = None\n",
    "            return False\n",
    "        \n",
    "        #\n",
    "        # Если все валидно, то ключ верно установлен\n",
    "        #\n",
    "        \n",
    "        trace('[STSUser]', f'[{self._id}]', f'derived key: {bytes_as_hex(self._key)}')\n",
    "        return True\n",
    "        \n",
    "    \n",
    "    def _sign_values(self, f, s):\n",
    "        first  = long_to_bytes(int(f))\n",
    "        second = long_to_bytes(int(s))\n",
    "        \n",
    "        h = SHA512.new(first + second)\n",
    "        return pss.new(self._private_key).sign(h)\n",
    "    \n",
    "    \n",
    "    def _check_signature(self, f, s, signature, pk):\n",
    "        first  = long_to_bytes(int(f))\n",
    "        second = long_to_bytes(int(s))\n",
    "        \n",
    "        h = SHA512.new(first + second)\n",
    "        verifier = pss.new(pk)\n",
    "        \n",
    "        try:\n",
    "            verifier.verify(h, signature)\n",
    "            return True\n",
    "        except:\n",
    "            return False\n",
    "    \n",
    "        \n",
    "    def _generate_group_element(self) -> int:\n",
    "        return randint(1, self._p - 2)\n",
    "        \n",
    "    \n",
    "    @property\n",
    "    def public_key(self):\n",
    "        \"\"\"\n",
    "        Получение открытого ключа.\n",
    "        \"\"\"\n",
    "        \n",
    "        return self._public_key"
   ]
  },
  {
   "cell_type": "markdown",
   "id": "c2dec077",
   "metadata": {},
   "source": [
    "-----"
   ]
  },
  {
   "cell_type": "code",
   "execution_count": 22,
   "id": "d263a93b",
   "metadata": {},
   "outputs": [
    {
     "name": "stdout",
     "output_type": "stream",
     "text": [
      "[TRACE] [STSParams] p = 11368317696381622035834900956574139901281695373406661476722504794136967761080150137587316206655883293847550371873219678211843784550627998533823779586812471, g = 7816131149596441793038842546557204665947555653112675990926729818076487153235813175321200951235457988016746207246967307066893978135962904191025851720710207\n"
     ]
    }
   ],
   "source": [
    "# Параметры протокола\n",
    "params = STSParams(512)"
   ]
  },
  {
   "cell_type": "code",
   "execution_count": 23,
   "id": "dec5f0ad",
   "metadata": {},
   "outputs": [
    {
     "name": "stdout",
     "output_type": "stream",
     "text": [
      "[TRACE] [STSUser] client f72b1fad-3b28-4ce4-b67a-79ef0786ab57 created. PK = Public RSA key at 0x1072676D0, SK = Private RSA key at 0x1072652E0\n",
      "[TRACE] [STSUser] client c30f842b-1842-4721-a144-f879a1a7f864 created. PK = Public RSA key at 0x1072655E0, SK = Private RSA key at 0x1072839D0\n"
     ]
    }
   ],
   "source": [
    "# Два хороших пользователя\n",
    "alice = STSUser(params)\n",
    "bob   = STSUser(params)"
   ]
  },
  {
   "cell_type": "code",
   "execution_count": 24,
   "id": "b9bc8144",
   "metadata": {},
   "outputs": [
    {
     "name": "stdout",
     "output_type": "stream",
     "text": [
      "[TRACE] [STSUser] [f72b1fad-3b28-4ce4-b67a-79ef0786ab57] x = mpz(1154837496969553956569984768834947440183969398573386846893811974271519198502474059571491299063380873063465625077723595979491967997548094505133087031966313), m = mpz(7006996024979780910519933724231988913877724260480340680166703696779764879284966592118859026941997628991062994534097122801466573731909382426249052876653101)\n",
      "[TRACE] [STSUser] [c30f842b-1842-4721-a144-f879a1a7f864] y = mpz(1372354035655722011711163195854018306460801169919841914107154228384216903657287557095719697528427679415272993232998326758615678115205359143065875318317483), m = mpz(2226336538477365028620829812894378344951243319422941180953043886692596082569040644017181346950161916183749409921039171313493064931062184780211347435967838)\n",
      "[TRACE] [STSUser] [c30f842b-1842-4721-a144-f879a1a7f864] derived key: e79406137f6d2d7dd659d00ccd4dfae2c52b1bb4c6737372f59463d913ec27dd\n",
      "[TRACE] [STSUser] [f72b1fad-3b28-4ce4-b67a-79ef0786ab57] derived key: e79406137f6d2d7dd659d00ccd4dfae2c52b1bb4c6737372f59463d913ec27dd\n"
     ]
    }
   ],
   "source": [
    "# Ключ получается установить успешно\n",
    "alice.initiate_key_exchange(bob)"
   ]
  },
  {
   "cell_type": "code",
   "execution_count": 25,
   "id": "4c0b0479",
   "metadata": {},
   "outputs": [
    {
     "name": "stdout",
     "output_type": "stream",
     "text": [
      "[TRACE] [STSUser] client aeaabe1e-2583-4860-96d4-ce68104d4ebd created. PK = Public RSA key at 0x1072676D0, SK = Private RSA key at 0x1072924F0\n"
     ]
    }
   ],
   "source": [
    "# Теперь врага создам\n",
    "mallory = STSUser(params, fake_data=alice.public_key)"
   ]
  },
  {
   "cell_type": "code",
   "execution_count": 26,
   "id": "8d517ac4",
   "metadata": {},
   "outputs": [
    {
     "name": "stdout",
     "output_type": "stream",
     "text": [
      "[TRACE] [STSUser] [aeaabe1e-2583-4860-96d4-ce68104d4ebd] x = mpz(11082433273154170785710364361794641471068200908435816603474788571411603165115902783036713130401706866937292453875718006684032482874902216554358292693942624), m = mpz(3102278776262993289360852361183985824890853079929639935496029940356650426915307195806868561394399047017657420091956154482047317716745345171497757173026837)\n",
      "[TRACE] [STSUser] [c30f842b-1842-4721-a144-f879a1a7f864] y = mpz(5694377477394150379029051427358631853364726952536203338758005061798639960137493332025672647545115200264741310952479055236355651332022039050863039983849975), m = mpz(9666907080696096804921974697918526847270955959578377408006717673259383660613152770663077872069509174715777007055827223117771268549269389409546932814973729)\n",
      "[TRACE] [STSUser] [c30f842b-1842-4721-a144-f879a1a7f864] Invalid signature\n",
      "[TRACE] [STSUser] [aeaabe1e-2583-4860-96d4-ce68104d4ebd] Another user refused key exchange\n"
     ]
    }
   ],
   "source": [
    "# Внедрившись в исполняющийся протокол, врагу не достается правильный ключ\n",
    "mallory.initiate_key_exchange(bob)"
   ]
  },
  {
   "cell_type": "code",
   "execution_count": 27,
   "id": "43e08fb6",
   "metadata": {},
   "outputs": [
    {
     "name": "stdout",
     "output_type": "stream",
     "text": [
      "[TRACE] [STSUser] [c30f842b-1842-4721-a144-f879a1a7f864] x = mpz(787228239747013430808474611575481832539197975414002218032441809422166315289202589463270356082041776881423720415175712397826688415802721296390158714494862), m = mpz(10294885108791021230150292672015754233541289801534695066326998053093547384919487808501882199250831857948484346633263853239691783609643251042947389425895831)\n",
      "[TRACE] [STSUser] [aeaabe1e-2583-4860-96d4-ce68104d4ebd] y = mpz(1270158543230820095477019677790500904407713950689217412067163517832502087887351383883401455864259619545410449017004184958353368812886593450873403884617512), m = mpz(3159158310224617998224272389442834835763268212897231387603212382024143048795421023470745810155027348558842054710756919711455132186766246702905057662417790)\n",
      "[TRACE] [STSUser] [c30f842b-1842-4721-a144-f879a1a7f864] Invalid signature\n"
     ]
    }
   ],
   "source": [
    "bob.initiate_key_exchange(mallory)"
   ]
  },
  {
   "cell_type": "code",
   "execution_count": null,
   "id": "26a2b24d",
   "metadata": {},
   "outputs": [],
   "source": []
  }
 ],
 "metadata": {
  "kernelspec": {
   "display_name": "Python 3 (ipykernel)",
   "language": "python",
   "name": "python3"
  },
  "language_info": {
   "codemirror_mode": {
    "name": "ipython",
    "version": 3
   },
   "file_extension": ".py",
   "mimetype": "text/x-python",
   "name": "python",
   "nbconvert_exporter": "python",
   "pygments_lexer": "ipython3",
   "version": "3.9.9"
  }
 },
 "nbformat": 4,
 "nbformat_minor": 5
}
