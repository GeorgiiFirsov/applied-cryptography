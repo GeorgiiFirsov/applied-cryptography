{
 "cells": [
  {
   "cell_type": "markdown",
   "id": "1841d78e",
   "metadata": {},
   "source": [
    "# Протоколы обмена ключами"
   ]
  },
  {
   "cell_type": "code",
   "execution_count": 1,
   "id": "645828de",
   "metadata": {},
   "outputs": [],
   "source": [
    "IS_DEBUG = 1"
   ]
  },
  {
   "cell_type": "code",
   "execution_count": 2,
   "id": "f18f7d6a",
   "metadata": {},
   "outputs": [],
   "source": [
    "def trace(*args, **kwargs):\n",
    "    \"\"\"\n",
    "    Отладочная трассировка\n",
    "    \"\"\"\n",
    "    \n",
    "    global IS_DEBUG\n",
    "    if IS_DEBUG:\n",
    "        print('[TRACE]', end=' ')\n",
    "        print(*args, **kwargs)"
   ]
  },
  {
   "cell_type": "code",
   "execution_count": 3,
   "id": "0ffb0eba",
   "metadata": {},
   "outputs": [],
   "source": [
    "def bytes_as_hex(b: bytes) -> str:\n",
    "    \"\"\"\n",
    "    Перевод бинарных данных в hex-строчку\n",
    "    \"\"\"\n",
    "    \n",
    "    return binascii.hexlify(b).decode()"
   ]
  },
  {
   "cell_type": "code",
   "execution_count": 4,
   "id": "c30d54e6",
   "metadata": {},
   "outputs": [],
   "source": [
    "def randint(a, b):\n",
    "    \"\"\"\n",
    "    Генерация слуайного числа среди заданных.\n",
    "    \"\"\"\n",
    "    \n",
    "    native_a = int(a)\n",
    "    native_b = int(b)\n",
    "    return gmpy2.mpz(random.randint(native_a, native_b))"
   ]
  },
  {
   "cell_type": "markdown",
   "id": "b2f83703",
   "metadata": {},
   "source": [
    "----"
   ]
  },
  {
   "cell_type": "code",
   "execution_count": 5,
   "id": "6aab8af0",
   "metadata": {},
   "outputs": [],
   "source": [
    "# Генерация простых чисел и КГПСЧ\n",
    "from Crypto.Util.number import getStrongPrime\n",
    "from Crypto.Random import random\n",
    "\n",
    "# HKDF и то, что надо для нее\n",
    "from Crypto.Protocol.KDF import HKDF\n",
    "from Crypto.Hash import SHA512\n",
    "\n",
    "# Подпись и шифрование\n",
    "from Crypto.PublicKey import RSA\n",
    "from Crypto.Signature import pss\n",
    "from Crypto.Cipher import AES\n",
    "\n",
    "# Математическая библиотека\n",
    "import gmpy2\n",
    "\n",
    "# Для генерации идентификаторов\n",
    "import uuid\n",
    "\n",
    "# Утилитки\n",
    "from Crypto.Util.number import long_to_bytes\n",
    "import binascii"
   ]
  },
  {
   "cell_type": "markdown",
   "id": "4b749a4d",
   "metadata": {},
   "source": [
    "----"
   ]
  },
  {
   "cell_type": "markdown",
   "id": "51ad824e",
   "metadata": {},
   "source": [
    "## Протокол Диффи-Хеллмана\n",
    "![Diffe-Hellman Protocol](./images/Diffie-Hellman_4.png)"
   ]
  },
  {
   "cell_type": "code",
   "execution_count": 6,
   "id": "2a2288bd",
   "metadata": {},
   "outputs": [],
   "source": [
    "class DiffieHellmanParams(object):\n",
    "    def __init__(self, prime_bits: int = 512):\n",
    "        \"\"\"\n",
    "        Генерация параметров протокола - простого числа и генератора.\n",
    "        \"\"\"\n",
    "        \n",
    "        self._p = gmpy2.mpz(getStrongPrime(prime_bits))\n",
    "        self._g = randint(2, self._p - 2)\n",
    "        \n",
    "        trace('[DiffieHellmanParams]', f'p = {self._p}, g = {self._g}')\n",
    "        \n",
    "        \n",
    "    @property\n",
    "    def prime(self) -> int:\n",
    "        \"\"\"\n",
    "        Получение простого числе - модуля.\n",
    "        \"\"\"\n",
    "        \n",
    "        return self._p\n",
    "    \n",
    "    \n",
    "    @property\n",
    "    def generator(self) -> int:\n",
    "        \"\"\"\n",
    "        Получение генератора.\n",
    "        \"\"\"\n",
    "        \n",
    "        return self._g"
   ]
  },
  {
   "cell_type": "code",
   "execution_count": 7,
   "id": "9ec35c0c",
   "metadata": {},
   "outputs": [],
   "source": [
    "class DiffieHellmanUser(object):\n",
    "    KEY_LENGTH = 32\n",
    "    HKDF_DUMMY_STUFF = b'\\x00' * 16\n",
    "    \n",
    "    def __init__(self, params: DiffieHellmanParams, \n",
    "                 use_another_value: bool = False):\n",
    "        \"\"\"\n",
    "        Инициализация клиента: генерация идентификатора,\n",
    "        сохранение параметров протокола.\n",
    "        Последний параметр служит для демонстрации неуспешного выполнения.\n",
    "        \"\"\"\n",
    "        \n",
    "        self._p = params.prime\n",
    "        self._g = params.generator\n",
    "        self._id = uuid.uuid4()\n",
    "        self._key = None\n",
    "        self._sabotage = use_another_value\n",
    "        \n",
    "        trace('[DiffieHellmanUser]', f'client {self._id} created')\n",
    "    \n",
    "    \n",
    "    def initiate_key_exchange(self, another_client):\n",
    "        \"\"\"\n",
    "        Инициирование протокола обмена ключами.\n",
    "        \"\"\"\n",
    "        \n",
    "        #\n",
    "        # Генерирую х, отправляю другому пользователю\n",
    "        # Получаю от него g ** y mod p\n",
    "        #\n",
    "        \n",
    "        x = self._generate_group_element()\n",
    "        trace('[DiffieHellmanUser]', f'[{self._id}]', f'{x = }')\n",
    "        \n",
    "        intermediate_value = another_client._accept_key_exchange(gmpy2.powmod(self._g, x, self._p))\n",
    "        \n",
    "        #\n",
    "        # Если требуют неудачную попытку, то подменю x\n",
    "        # Это как бы незнание изначального значения - попытка угадать\n",
    "        #\n",
    "        \n",
    "        if self._sabotage:\n",
    "            x = self._generate_group_element()\n",
    "            trace('[DiffieHellmanUser]', f'[{self._id}]', f'guessed {x = }')\n",
    "        \n",
    "        #\n",
    "        # Вывожу ключ\n",
    "        #\n",
    "        \n",
    "        self._key = HKDF(DiffieHellmanUser.HKDF_DUMMY_STUFF, \n",
    "                         DiffieHellmanUser.KEY_LENGTH, \n",
    "                         long_to_bytes(int(gmpy2.powmod(intermediate_value, x, self._p))), \n",
    "                         SHA512, \n",
    "                         1)\n",
    "        \n",
    "        trace('[DiffieHellmanUser]', f'[{self._id}]', f'derived key: {bytes_as_hex(self._key)}')\n",
    "        \n",
    "        \n",
    "    def _accept_key_exchange(self, intermediate_value) -> int:\n",
    "        #\n",
    "        # Получаю g ** x mod p, генерирую у\n",
    "        #\n",
    "        \n",
    "        y = self._generate_group_element()\n",
    "        trace('[DiffieHellmanUser]', f'[{self._id}]', f'{y = }')\n",
    "        \n",
    "        #\n",
    "        # Вывожу ключ\n",
    "        #\n",
    "        \n",
    "        self._key = HKDF(DiffieHellmanUser.HKDF_DUMMY_STUFF, \n",
    "                         DiffieHellmanUser.KEY_LENGTH, \n",
    "                         long_to_bytes(int(gmpy2.powmod(intermediate_value, y, self._p))), \n",
    "                         SHA512, \n",
    "                         1)\n",
    "        \n",
    "        trace('[DiffieHellmanUser]', f'[{self._id}]', f'derived key: {bytes_as_hex(self._key)}')\n",
    "        \n",
    "        return gmpy2.powmod(self._g, y, self._p)\n",
    "    \n",
    "    \n",
    "    def _generate_group_element(self) -> int:\n",
    "        return randint(1, self._p - 2)"
   ]
  },
  {
   "cell_type": "markdown",
   "id": "ce5482ac",
   "metadata": {},
   "source": [
    "----"
   ]
  },
  {
   "cell_type": "code",
   "execution_count": 8,
   "id": "3dd565e3",
   "metadata": {},
   "outputs": [
    {
     "name": "stdout",
     "output_type": "stream",
     "text": [
      "[TRACE] [DiffieHellmanParams] p = 11465876652688631126595357184263766434880469303221170115424227414168778980854899156424574734996377220242600003473937083275665369865116251680589485539525179, g = 7251943245509185890191605019803845073923310143108877049342158443072334683562323943468353071199061804687879637134551978430130424380324888187456403163174783\n"
     ]
    }
   ],
   "source": [
    "# Параметры протокола\n",
    "params = DiffieHellmanParams()"
   ]
  },
  {
   "cell_type": "code",
   "execution_count": 9,
   "id": "549f2efa",
   "metadata": {},
   "outputs": [
    {
     "name": "stdout",
     "output_type": "stream",
     "text": [
      "[TRACE] [DiffieHellmanUser] client 382afa02-c18c-4dad-9909-3b479023f0a3 created\n",
      "[TRACE] [DiffieHellmanUser] client b96d1e99-d3b8-4e1f-87d6-33ee51263c3c created\n"
     ]
    }
   ],
   "source": [
    "# Два хороших пользователя\n",
    "alice = DiffieHellmanUser(params)\n",
    "bob   = DiffieHellmanUser(params)"
   ]
  },
  {
   "cell_type": "code",
   "execution_count": 10,
   "id": "d47667eb",
   "metadata": {},
   "outputs": [
    {
     "name": "stdout",
     "output_type": "stream",
     "text": [
      "[TRACE] [DiffieHellmanUser] [382afa02-c18c-4dad-9909-3b479023f0a3] x = mpz(1793505725424406812818904658471012257284438444871665981778706489135202935469927497935378847698581665580365945543514416129728820100630815888568070266437483)\n",
      "[TRACE] [DiffieHellmanUser] [b96d1e99-d3b8-4e1f-87d6-33ee51263c3c] y = mpz(10676555159610508068926102006620315751180271839537471337522907103103928023804388983615879870325108261645365791925045879770573619674608506240874471348718485)\n",
      "[TRACE] [DiffieHellmanUser] [b96d1e99-d3b8-4e1f-87d6-33ee51263c3c] derived key: 28c1b7d8c407edea2bcb5bee175eaa99d63eed46c9094553b24120d5e5a886ce\n",
      "[TRACE] [DiffieHellmanUser] [382afa02-c18c-4dad-9909-3b479023f0a3] derived key: 28c1b7d8c407edea2bcb5bee175eaa99d63eed46c9094553b24120d5e5a886ce\n"
     ]
    }
   ],
   "source": [
    "# Ключ получается установить успешно\n",
    "alice.initiate_key_exchange(bob)"
   ]
  },
  {
   "cell_type": "code",
   "execution_count": 11,
   "id": "8f9bf653",
   "metadata": {},
   "outputs": [
    {
     "name": "stdout",
     "output_type": "stream",
     "text": [
      "[TRACE] [DiffieHellmanUser] client a6308e86-cb29-436d-8a79-59c1735577c4 created\n"
     ]
    }
   ],
   "source": [
    "# Теперь врага создам\n",
    "mallory = DiffieHellmanUser(params, True)"
   ]
  },
  {
   "cell_type": "code",
   "execution_count": 12,
   "id": "66d63760",
   "metadata": {},
   "outputs": [
    {
     "name": "stdout",
     "output_type": "stream",
     "text": [
      "[TRACE] [DiffieHellmanUser] [a6308e86-cb29-436d-8a79-59c1735577c4] x = mpz(6959222405637686139913677142758315494854324311829117394694354694508887393917691279774022175979201597200276139601657171004217087883398751708752192110627372)\n",
      "[TRACE] [DiffieHellmanUser] [b96d1e99-d3b8-4e1f-87d6-33ee51263c3c] y = mpz(8241549131260886693765024274868898982942914158086354535958174283536554999237686449410481308433907596138237342401806011523316115091820285314640715900065852)\n",
      "[TRACE] [DiffieHellmanUser] [b96d1e99-d3b8-4e1f-87d6-33ee51263c3c] derived key: e424760d9b1cdca71a05fb14f394a98413b4885bafa8677ae9a1cdc3cea49993\n",
      "[TRACE] [DiffieHellmanUser] [a6308e86-cb29-436d-8a79-59c1735577c4] guessed x = mpz(4899509630290621772284663112863036999039950235991337953981903341469208175356945349091168097825876928679372914045503520475282905036980579800445165020196061)\n",
      "[TRACE] [DiffieHellmanUser] [a6308e86-cb29-436d-8a79-59c1735577c4] derived key: 463cb08e107696810f65d185298746bcc06f919f3e8dcf6d2dc57b53535ed630\n"
     ]
    }
   ],
   "source": [
    "# Внедрившись в исполняющийся протокол, врагу не достается правильный ключ\n",
    "mallory.initiate_key_exchange(bob)"
   ]
  },
  {
   "cell_type": "markdown",
   "id": "8e3d063e",
   "metadata": {},
   "source": [
    "----\n",
    "## Протокол MTI\n",
    "![Diffe-Hellman Protocol](./images/MTI_4.png)"
   ]
  },
  {
   "cell_type": "code",
   "execution_count": 13,
   "id": "e2ef16d8",
   "metadata": {},
   "outputs": [],
   "source": [
    "class MTIParams(object):\n",
    "    def __init__(self, prime_bits):\n",
    "        \"\"\"\n",
    "        Генерация параметров протокола - простого числа и генератора.\n",
    "        \"\"\"\n",
    "        \n",
    "        self._p = gmpy2.mpz(getStrongPrime(prime_bits))\n",
    "        self._g = randint(2, self._p - 2)\n",
    "        \n",
    "        trace('[MTIParams]', f'p = {self._p}, g = {self._g}')\n",
    "        \n",
    "        \n",
    "    @property\n",
    "    def prime(self) -> int:\n",
    "        \"\"\"\n",
    "        Получение простого числе - модуля.\n",
    "        \"\"\"\n",
    "        \n",
    "        return self._p\n",
    "    \n",
    "    \n",
    "    @property\n",
    "    def generator(self) -> int:\n",
    "        \"\"\"\n",
    "        Получение генератора.\n",
    "        \"\"\"\n",
    "        \n",
    "        return self._g"
   ]
  },
  {
   "cell_type": "code",
   "execution_count": 14,
   "id": "d7571eea",
   "metadata": {},
   "outputs": [],
   "source": [
    "class MTIUser(object):\n",
    "    KEY_LENGTH = 32\n",
    "    HKDF_DUMMY_STUFF = b'\\x00' * 16\n",
    "    \n",
    "    def __init__(self, params: MTIParams, *,\n",
    "                 fake_data: gmpy2.mpz = None):\n",
    "        \"\"\"\n",
    "        Инициализация клиента: генерация идентификатора,\n",
    "        сохранение параметров протокола, генерация ключевой пары.\n",
    "        Последний параметр служит для демонстрации неуспешного выполнения.\n",
    "        \"\"\"\n",
    "        \n",
    "        self._p = params.prime\n",
    "        self._g = params.generator\n",
    "        self._id = uuid.uuid4()\n",
    "        self._key = None\n",
    "        \n",
    "        self._private_key = self._generate_group_element()\n",
    "        self._public_key  = gmpy2.powmod(self._g, self._private_key, self._p) if fake_data is None else fake_data\n",
    "        \n",
    "        trace('[MTIUser]', f'client {self._id} created. PK = {self._public_key}, SK = {self._private_key}')\n",
    "        \n",
    "        \n",
    "    def initiate_key_exchange(self, another_client):\n",
    "        \"\"\"\n",
    "        Инициирование протокола обмена ключами.\n",
    "        \"\"\"\n",
    "        \n",
    "        #\n",
    "        # Генерирую х, вычисляю g ** x mod p\n",
    "        #\n",
    "        \n",
    "        x = self._generate_group_element()\n",
    "        m = gmpy2.powmod(self._g, x, self._p)\n",
    "        \n",
    "        trace('[MTIUser]', f'[{self._id}]', f'{x = }, {m = }')\n",
    "        \n",
    "        #\n",
    "        # Отправляю другому клиенту и получаю от него g ** y mod p\n",
    "        #\n",
    "        \n",
    "        intermediate_value = another_client._accept_key_exchange(m, self.public_key)\n",
    "        \n",
    "        #\n",
    "        # Вывожу ключ\n",
    "        #\n",
    "        \n",
    "        product = gmpy2.powmod(another_client.public_key, x, self._p) * \\\n",
    "            gmpy2.powmod(intermediate_value, self._private_key, self._p)\n",
    "        \n",
    "        self._key = HKDF(DiffieHellmanUser.HKDF_DUMMY_STUFF, \n",
    "                         DiffieHellmanUser.KEY_LENGTH, \n",
    "                         long_to_bytes(int(gmpy2.t_mod(product, self._p))), \n",
    "                         SHA512, \n",
    "                         1)\n",
    "        \n",
    "        trace('[MTIUser]', f'[{self._id}]', f'derived key: {bytes_as_hex(self._key)}')\n",
    "    \n",
    "    \n",
    "    def _accept_key_exchange(self, intermediate_value, public_key):\n",
    "        #\n",
    "        # Генерирую у, вычисляю g ** y mod p\n",
    "        #\n",
    "        \n",
    "        y = self._generate_group_element()\n",
    "        m = gmpy2.powmod(self._g, y, self._p)\n",
    "        \n",
    "        trace('[MTIUser]', f'[{self._id}]', f'{y = }, {m = }')\n",
    "        \n",
    "        #\n",
    "        # Вывожу ключ\n",
    "        #\n",
    "        \n",
    "        product = gmpy2.powmod(public_key, y, self._p) * \\\n",
    "            gmpy2.powmod(intermediate_value, self._private_key, self._p)\n",
    "        \n",
    "        self._key = HKDF(MTIUser.HKDF_DUMMY_STUFF, \n",
    "                         MTIUser.KEY_LENGTH, \n",
    "                         long_to_bytes(int(gmpy2.t_mod(product, self._p))), \n",
    "                         SHA512, \n",
    "                         1)\n",
    "        \n",
    "        trace('[MTIUser]', f'[{self._id}]', f'derived key: {bytes_as_hex(self._key)}')\n",
    "        \n",
    "        return m\n",
    "        \n",
    "    \n",
    "    @property\n",
    "    def public_key(self):\n",
    "        \"\"\"\n",
    "        Получение открытого ключа.\n",
    "        \"\"\"\n",
    "        \n",
    "        return self._public_key\n",
    "    \n",
    "    \n",
    "    def _generate_group_element(self) -> int:\n",
    "        return randint(1, self._p - 2)"
   ]
  },
  {
   "cell_type": "markdown",
   "id": "cb80c1fe",
   "metadata": {},
   "source": [
    "----"
   ]
  },
  {
   "cell_type": "code",
   "execution_count": 15,
   "id": "d046a7e6",
   "metadata": {},
   "outputs": [
    {
     "name": "stdout",
     "output_type": "stream",
     "text": [
      "[TRACE] [MTIParams] p = 12856360547791008555188228280325485783426208312816825429677348378396159644962061029655070313168212010617984544815140040713734288186553786197638512070747839, g = 3799663994283310145340779494309993717666617460896328315108171617305651451220732653865779966557322940890252177905611945731819427958389496931315814311063480\n"
     ]
    }
   ],
   "source": [
    "# Параметры протокола\n",
    "params = MTIParams(512)"
   ]
  },
  {
   "cell_type": "code",
   "execution_count": 16,
   "id": "da18add7",
   "metadata": {},
   "outputs": [
    {
     "name": "stdout",
     "output_type": "stream",
     "text": [
      "[TRACE] [MTIUser] client 3ec637b7-1229-439a-9503-5fc86bc65ae8 created. PK = 12393688686660951462079363605631499181923911531168273387867699163769620986299799182264292681742548719820698358412603701716610387952872740503696751122224111, SK = 8664697192275669703314325894699857585097813130791146996237494126222305907809860339554434849897614812318310402246263977447803997925268154282324366235524214\n",
      "[TRACE] [MTIUser] client c68b5b01-ef2f-47ff-8b87-41f48a0cc8af created. PK = 9808657321559533862412359276330515458924716676408152523063392093651648555578263125088933898856380448445230901862486337816449646273437709793306056999431473, SK = 10627837925704474882641797631710317039905496741685111277616981162818768432233331596103625674098602460245708732329319681353608966581725182744289383643762536\n"
     ]
    }
   ],
   "source": [
    "# Два хороших пользователя\n",
    "alice = MTIUser(params)\n",
    "bob   = MTIUser(params)"
   ]
  },
  {
   "cell_type": "code",
   "execution_count": 17,
   "id": "bdef111e",
   "metadata": {},
   "outputs": [
    {
     "name": "stdout",
     "output_type": "stream",
     "text": [
      "[TRACE] [MTIUser] [3ec637b7-1229-439a-9503-5fc86bc65ae8] x = mpz(5183741657946812478600456464521587869391932820586367972952866285613425812395913835058763794950412047988011290974107035436079993136189541857931340284592549), m = mpz(6704747640295379087313488714466537658042959993656145160208849401327254363535593975397272724400424485996868415391332440842911039257420144919071074977057586)\n",
      "[TRACE] [MTIUser] [c68b5b01-ef2f-47ff-8b87-41f48a0cc8af] y = mpz(12281629934580829556878487695330557313509352177313180187777808752734797794835312505008303470694541395345530614437657268868993802043617778935468248082890400), m = mpz(12546096595808658163714155449514160126806333859545859326243979161819317918050553275485271617060760138543355248436899523296326045110167857802655715875414858)\n",
      "[TRACE] [MTIUser] [c68b5b01-ef2f-47ff-8b87-41f48a0cc8af] derived key: 39cf0a7444ef16f5c059b6e31fb235bd898a278e90f8a356a15ae50fb149696e\n",
      "[TRACE] [MTIUser] [3ec637b7-1229-439a-9503-5fc86bc65ae8] derived key: 39cf0a7444ef16f5c059b6e31fb235bd898a278e90f8a356a15ae50fb149696e\n"
     ]
    }
   ],
   "source": [
    "# Ключ получается установить успешно\n",
    "alice.initiate_key_exchange(bob)"
   ]
  },
  {
   "cell_type": "code",
   "execution_count": 18,
   "id": "707ae802",
   "metadata": {},
   "outputs": [
    {
     "name": "stdout",
     "output_type": "stream",
     "text": [
      "[TRACE] [MTIUser] client 232f266b-5cbc-420c-b14d-04cba7908699 created. PK = 12393688686660951462079363605631499181923911531168273387867699163769620986299799182264292681742548719820698358412603701716610387952872740503696751122224111, SK = 12524341677475151974042159386777794472468816225124473518898619717396448320942109856248425431042624670546793309706940601419691811116106305347616664658212994\n"
     ]
    }
   ],
   "source": [
    "# Теперь врага создам\n",
    "mallory = MTIUser(params, fake_data=alice.public_key)"
   ]
  },
  {
   "cell_type": "code",
   "execution_count": 19,
   "id": "e80afdc0",
   "metadata": {},
   "outputs": [
    {
     "name": "stdout",
     "output_type": "stream",
     "text": [
      "[TRACE] [MTIUser] [232f266b-5cbc-420c-b14d-04cba7908699] x = mpz(9934972552373637548053305388018332550333403258060257286844769851791384183425889965110007546023041075097100212017814466479777933782633764917776110865504485), m = mpz(7063221210134045526813098182522519845829464821647199877626639316716790361017327207729948814759937577259290668248980915700786387014679407583603172356408761)\n",
      "[TRACE] [MTIUser] [c68b5b01-ef2f-47ff-8b87-41f48a0cc8af] y = mpz(7215278394999540961314401275393367402394310577087895935122495494484979436141779285936801948999162877468531570052429962919756688728551012785492564702595844), m = mpz(10341827833186921826113898801716918469065203891775358866635246485122019795570219314096219725763036299575254449370122782038052289379520236997694646459930900)\n",
      "[TRACE] [MTIUser] [c68b5b01-ef2f-47ff-8b87-41f48a0cc8af] derived key: 854bede16a0bac5f5723e4a712f52d9744d2dd4c29eb7c301ee651250687728c\n",
      "[TRACE] [MTIUser] [232f266b-5cbc-420c-b14d-04cba7908699] derived key: cf2536fffc879b9383d059cd546779bae8d1667b230a621c02b03a159f2251f1\n"
     ]
    }
   ],
   "source": [
    "# Внедрившись в исполняющийся протокол, врагу не достается правильный ключ\n",
    "mallory.initiate_key_exchange(bob)"
   ]
  },
  {
   "cell_type": "markdown",
   "id": "a0f2ecd2",
   "metadata": {},
   "source": [
    "----\n",
    "## Протокол STS\n",
    "![STS Protocol](./images/STS_4.png)"
   ]
  },
  {
   "cell_type": "code",
   "execution_count": 20,
   "id": "dd2b5d1a",
   "metadata": {},
   "outputs": [],
   "source": [
    "class STSParams(object):\n",
    "    def __init__(self, prime_bits):\n",
    "        \"\"\"\n",
    "        Генерация параметров протокола - простого числа и генератора.\n",
    "        \"\"\"\n",
    "        \n",
    "        self._p = gmpy2.mpz(getStrongPrime(prime_bits))\n",
    "        self._g = randint(2, self._p - 2)\n",
    "        \n",
    "        trace('[STSParams]', f'p = {self._p}, g = {self._g}')\n",
    "        \n",
    "        \n",
    "    @property\n",
    "    def prime(self) -> int:\n",
    "        \"\"\"\n",
    "        Получение простого числе - модуля.\n",
    "        \"\"\"\n",
    "        \n",
    "        return self._p\n",
    "    \n",
    "    \n",
    "    @property\n",
    "    def generator(self) -> int:\n",
    "        \"\"\"\n",
    "        Получение генератора.\n",
    "        \"\"\"\n",
    "        \n",
    "        return self._g"
   ]
  },
  {
   "cell_type": "code",
   "execution_count": 21,
   "id": "9d905704",
   "metadata": {},
   "outputs": [],
   "source": [
    "class STSUser(object):\n",
    "    RSA_KEY_LENGTH = 4096\n",
    "    KEY_LENGTH = 32\n",
    "    HKDF_DUMMY_STUFF = b'\\x00' * 16\n",
    "    \n",
    "    def __init__(self, params: STSParams, *, \n",
    "                 fake_data=None):\n",
    "        \"\"\"\n",
    "        Инициализация клиента: генерация идентификатора,\n",
    "        сохранение параметров протокола, генерация ключевой пары.\n",
    "        Последний параметр служит для демонстрации неуспешного выполнения.\n",
    "        \"\"\"\n",
    "        \n",
    "        self._p = params.prime\n",
    "        self._g = params.generator\n",
    "        self._id = uuid.uuid4()\n",
    "        self._key = None\n",
    "        \n",
    "        self._private_key = RSA.generate(STSUser.RSA_KEY_LENGTH)\n",
    "        self._public_key  = self._private_key.publickey() if fake_data is None else fake_data\n",
    "        \n",
    "        trace('[STSUser]', f'client {self._id} created. PK = {self._public_key}, SK = {self._private_key}')\n",
    "        \n",
    "    \n",
    "    def initiate_key_exchange(self, another_client):\n",
    "        \"\"\"\n",
    "        Инициирование протокола обмена ключами.\n",
    "        \"\"\"\n",
    "        \n",
    "        #\n",
    "        # Генерирую х, вычисляю g ** x mod p\n",
    "        #\n",
    "        \n",
    "        x = self._generate_group_element()\n",
    "        m = gmpy2.powmod(self._g, x, self._p)\n",
    "        \n",
    "        trace('[STSUser]', f'[{self._id}]', f'{x = }, {m = }')\n",
    "        \n",
    "        #\n",
    "        # Отправляю другому пользователю, получаю g ** y mod p и зашифрованную подпись\n",
    "        #\n",
    "        \n",
    "        intermediate_value, encrypted_signature = another_client._accept_key_exchange(m)\n",
    "        \n",
    "        #\n",
    "        # Вывожу ключ\n",
    "        #\n",
    "        \n",
    "        self._key = HKDF(DiffieHellmanUser.HKDF_DUMMY_STUFF, \n",
    "                         DiffieHellmanUser.KEY_LENGTH, \n",
    "                         long_to_bytes(int(gmpy2.powmod(intermediate_value, x, self._p))), \n",
    "                         SHA512, \n",
    "                         1)\n",
    "        \n",
    "        #\n",
    "        # Расшифровываю подпись и проверяю ее\n",
    "        # Если не подошла, то ключ неверный, завершаюсь\n",
    "        #\n",
    "        \n",
    "        nonce, ct = encrypted_signature\n",
    "        \n",
    "        cipher = AES.new(self._key, AES.MODE_CTR, nonce=nonce)\n",
    "        received_signature = cipher.decrypt(ct)\n",
    "        \n",
    "        if not self._check_signature(intermediate_value, m, received_signature, another_client.public_key):\n",
    "            trace('[STSUser]', f'[{self._id}]', 'Invalid signature')\n",
    "            self._key = None\n",
    "            return\n",
    "        \n",
    "        #\n",
    "        # Сам теперь подписываю значения и отправляю на проверку другому пользователю\n",
    "        #\n",
    "        \n",
    "        signature = self._sign_values(m, intermediate_value)\n",
    "        \n",
    "        cipher = AES.new(self._key, AES.MODE_CTR)\n",
    "        if not self._check_key_exchange(m, intermediate_value, \n",
    "                                        (cipher.nonce, cipher.encrypt(signature)), self.public_key):\n",
    "            trace('[STSUser]', f'[{self._id}]', 'Another user refused key exchange')\n",
    "            self._key = None\n",
    "            return\n",
    "        \n",
    "        #\n",
    "        # Тут все хорошо\n",
    "        #\n",
    "        \n",
    "        trace('[STSUser]', f'[{self._id}]', f'derived key: {bytes_as_hex(self._key)}')\n",
    "        \n",
    "        \n",
    "    def _accept_key_exchange(self, intermediate_value):\n",
    "        #\n",
    "        # Генерирую у, вычисляю g ** y mod p\n",
    "        # Вывожу ключ\n",
    "        #\n",
    "        \n",
    "        y = self._generate_group_element()\n",
    "        m = gmpy2.powmod(self._g, y, self._p)\n",
    "        \n",
    "        trace('[STSUser]', f'[{self._id}]', f'{y = }, {m = }')\n",
    "        \n",
    "        self._key = HKDF(DiffieHellmanUser.HKDF_DUMMY_STUFF, \n",
    "                         DiffieHellmanUser.KEY_LENGTH, \n",
    "                         long_to_bytes(int(gmpy2.powmod(intermediate_value, y, self._p))), \n",
    "                         SHA512, \n",
    "                         1)\n",
    "        \n",
    "        #\n",
    "        # Создаю подпись значений и отправляю инициатору\n",
    "        #\n",
    "        \n",
    "        signature = self._sign_values(m, intermediate_value)\n",
    "        \n",
    "        cipher = AES.new(self._key, AES.MODE_CTR)\n",
    "        encrypted_signature = (cipher.nonce, cipher.encrypt(signature))\n",
    "        \n",
    "        return m, encrypted_signature\n",
    "    \n",
    "    \n",
    "    def _check_key_exchange(self, f, s, encrypted_signature, pk):\n",
    "        #\n",
    "        # Проверяю подпись от инициатора\n",
    "        #\n",
    "        \n",
    "        nonce, ct = encrypted_signature\n",
    "        \n",
    "        cipher = AES.new(self._key, AES.MODE_CTR, nonce=nonce)\n",
    "        received_signature = cipher.decrypt(ct)\n",
    "        \n",
    "        if not self._check_signature(f, s, received_signature, pk):\n",
    "            trace('[STSUser]', f'[{self._id}]', 'Invalid signature')\n",
    "            self._key = None\n",
    "            return False\n",
    "        \n",
    "        #\n",
    "        # Если все валидно, то ключ верно установлен\n",
    "        #\n",
    "        \n",
    "        trace('[STSUser]', f'[{self._id}]', f'derived key: {bytes_as_hex(self._key)}')\n",
    "        return True\n",
    "        \n",
    "    \n",
    "    def _sign_values(self, f, s):\n",
    "        first  = long_to_bytes(int(f))\n",
    "        second = long_to_bytes(int(s))\n",
    "        \n",
    "        h = SHA512.new(first + second)\n",
    "        return pss.new(self._private_key).sign(h)\n",
    "    \n",
    "    \n",
    "    def _check_signature(self, f, s, signature, pk):\n",
    "        first  = long_to_bytes(int(f))\n",
    "        second = long_to_bytes(int(s))\n",
    "        \n",
    "        h = SHA512.new(first + second)\n",
    "        verifier = pss.new(pk)\n",
    "        \n",
    "        try:\n",
    "            verifier.verify(h, signature)\n",
    "            return True\n",
    "        except:\n",
    "            return False\n",
    "    \n",
    "        \n",
    "    def _generate_group_element(self) -> int:\n",
    "        return randint(1, self._p - 2)\n",
    "        \n",
    "    \n",
    "    @property\n",
    "    def public_key(self):\n",
    "        \"\"\"\n",
    "        Получение открытого ключа.\n",
    "        \"\"\"\n",
    "        \n",
    "        return self._public_key"
   ]
  },
  {
   "cell_type": "markdown",
   "id": "c2dec077",
   "metadata": {},
   "source": [
    "-----"
   ]
  },
  {
   "cell_type": "code",
   "execution_count": 22,
   "id": "d263a93b",
   "metadata": {},
   "outputs": [
    {
     "name": "stdout",
     "output_type": "stream",
     "text": [
      "[TRACE] [STSParams] p = 9775134541162501022134590897955420851422423373042933163895453499790773178291095700900761017250327787528404105737871951106208657504039565379300427935315679, g = 9074978892177560017271239829795624720531936610475194481956524754125650327400031949405433747380449974687954959864559310411788434097443539943378384434581188\n"
     ]
    }
   ],
   "source": [
    "# Параметры протокола\n",
    "params = STSParams(512)"
   ]
  },
  {
   "cell_type": "code",
   "execution_count": 23,
   "id": "dec5f0ad",
   "metadata": {},
   "outputs": [
    {
     "name": "stdout",
     "output_type": "stream",
     "text": [
      "[TRACE] [STSUser] client 41a93646-3863-4735-9be3-fbef365c1b69 created. PK = Public RSA key at 0x104697400, SK = Private RSA key at 0x104669460\n",
      "[TRACE] [STSUser] client c80d165b-9cda-4148-b3bb-273f62780b57 created. PK = Public RSA key at 0x1047DF490, SK = Private RSA key at 0x104438190\n"
     ]
    }
   ],
   "source": [
    "# Два хороших пользователя\n",
    "alice = STSUser(params)\n",
    "bob   = STSUser(params)"
   ]
  },
  {
   "cell_type": "code",
   "execution_count": 24,
   "id": "b9bc8144",
   "metadata": {},
   "outputs": [
    {
     "name": "stdout",
     "output_type": "stream",
     "text": [
      "[TRACE] [STSUser] [41a93646-3863-4735-9be3-fbef365c1b69] x = mpz(8697650338018556857196672168418493936492589454685953226387800802148791173126201704559664294438994443312628470960093370399427907591481958482977688876871208), m = mpz(8206912679750924871060807948577706910431377366961731262523431355550191424970474321210924371939645867568323618900657590444152383410800277507168351971439484)\n",
      "[TRACE] [STSUser] [c80d165b-9cda-4148-b3bb-273f62780b57] y = mpz(5245509192338740936061774283897612843695693312366044458117615590255684062858665539971191794507637552562058073231285296902563234607074273724182008980402050), m = mpz(3978297874747629805963967648858328695983325581983291554173436967437455932158998533331003567112082558015186718250854005041060198285912728397032713319673827)\n",
      "[TRACE] [STSUser] [41a93646-3863-4735-9be3-fbef365c1b69] derived key: a947566aee7d5ed92ba11b82c1207f60018438e269f6bbf56aca0f5d60bc9b49\n",
      "[TRACE] [STSUser] [41a93646-3863-4735-9be3-fbef365c1b69] derived key: a947566aee7d5ed92ba11b82c1207f60018438e269f6bbf56aca0f5d60bc9b49\n"
     ]
    }
   ],
   "source": [
    "# Ключ получается установить успешно\n",
    "alice.initiate_key_exchange(bob)"
   ]
  },
  {
   "cell_type": "code",
   "execution_count": 25,
   "id": "4c0b0479",
   "metadata": {},
   "outputs": [
    {
     "name": "stdout",
     "output_type": "stream",
     "text": [
      "[TRACE] [STSUser] client e459d466-e470-47b0-81f0-794a9c93b599 created. PK = Public RSA key at 0x104697400, SK = Private RSA key at 0x10468FF70\n"
     ]
    }
   ],
   "source": [
    "# Теперь врага создам\n",
    "mallory = STSUser(params, fake_data=alice.public_key)"
   ]
  },
  {
   "cell_type": "code",
   "execution_count": 26,
   "id": "8d517ac4",
   "metadata": {},
   "outputs": [
    {
     "name": "stdout",
     "output_type": "stream",
     "text": [
      "[TRACE] [STSUser] [e459d466-e470-47b0-81f0-794a9c93b599] x = mpz(7728577286096457007368142787491415928484827747233002859963135771052475586567208565945865965679524194612861232273529659305926527711330499640546045812413922), m = mpz(4980717061630343319363175730755942954150697164627171938029348862527080355908560520096896163944081520188291079251584410792710470708338765112369222791290532)\n",
      "[TRACE] [STSUser] [c80d165b-9cda-4148-b3bb-273f62780b57] y = mpz(5141030392929874736229039942742942543271630585462280158333033958163322200356872883511869774176265073843528241935539364404947075052479823494376131152195416), m = mpz(1902330918547631424198257636689156045514835198774429258203528546454630865858752641489667922229532706719496174258933756545913960929514247935546890561517625)\n",
      "[TRACE] [STSUser] [e459d466-e470-47b0-81f0-794a9c93b599] Invalid signature\n",
      "[TRACE] [STSUser] [e459d466-e470-47b0-81f0-794a9c93b599] Another user refused key exchange\n"
     ]
    }
   ],
   "source": [
    "# Внедрившись в исполняющийся протокол, врагу не достается правильный ключ\n",
    "mallory.initiate_key_exchange(bob)"
   ]
  },
  {
   "cell_type": "code",
   "execution_count": 27,
   "id": "43e08fb6",
   "metadata": {},
   "outputs": [
    {
     "name": "stdout",
     "output_type": "stream",
     "text": [
      "[TRACE] [STSUser] [c80d165b-9cda-4148-b3bb-273f62780b57] x = mpz(7241009918880463587752109102411120159577863465841309120818384801220245292111106986898256167507970199309292615305410327089154123194335745657535976102520749), m = mpz(7008717753999639024426227058075921910856307824634422532887217543686816180037197723478689868481366067649200328277327274678099407132771487665218835159737049)\n",
      "[TRACE] [STSUser] [e459d466-e470-47b0-81f0-794a9c93b599] y = mpz(521586077876688369032363629655128225765072592182465748575966471151139103928814819176401308143417409176994896462369856284266459999937589983368772575167499), m = mpz(9615179367177951031331220679399183443970609493995843962533260803098530835059305954094152183452746449818183297455578433790869556945898019728762923157314571)\n",
      "[TRACE] [STSUser] [c80d165b-9cda-4148-b3bb-273f62780b57] Invalid signature\n"
     ]
    }
   ],
   "source": [
    "bob.initiate_key_exchange(mallory)"
   ]
  },
  {
   "cell_type": "code",
   "execution_count": null,
   "id": "26a2b24d",
   "metadata": {},
   "outputs": [],
   "source": []
  }
 ],
 "metadata": {
  "kernelspec": {
   "display_name": "Python 3 (ipykernel)",
   "language": "python",
   "name": "python3"
  },
  "language_info": {
   "codemirror_mode": {
    "name": "ipython",
    "version": 3
   },
   "file_extension": ".py",
   "mimetype": "text/x-python",
   "name": "python",
   "nbconvert_exporter": "python",
   "pygments_lexer": "ipython3",
   "version": "3.9.10"
  }
 },
 "nbformat": 4,
 "nbformat_minor": 5
}
