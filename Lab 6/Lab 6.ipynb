{
 "cells": [
  {
   "cell_type": "markdown",
   "id": "fc5d29e0",
   "metadata": {},
   "source": [
    "# Реализация модели защищенного канала передачи данных по спецификации TLS 1.3"
   ]
  },
  {
   "cell_type": "code",
   "execution_count": 1,
   "id": "41f5e5bf",
   "metadata": {},
   "outputs": [],
   "source": [
    "IS_DEBUG = 1"
   ]
  },
  {
   "cell_type": "code",
   "execution_count": 2,
   "id": "0f8410ac",
   "metadata": {},
   "outputs": [],
   "source": [
    "def trace(*args, **kwargs):\n",
    "    \"\"\"\n",
    "    Отладочная трассировка\n",
    "    \"\"\"\n",
    "    \n",
    "    global IS_DEBUG\n",
    "    if IS_DEBUG:\n",
    "        print('[TRACE]', end=' ')\n",
    "        print(*args, **kwargs)"
   ]
  },
  {
   "cell_type": "markdown",
   "id": "8318c626",
   "metadata": {},
   "source": [
    "----"
   ]
  },
  {
   "cell_type": "code",
   "execution_count": 43,
   "id": "d7375f94",
   "metadata": {},
   "outputs": [],
   "source": [
    "# Криптография из различных ГОСТ'ов\n",
    "from pygost import mgm\n",
    "from pygost import gost3412\n",
    "from pygost import gost3410\n",
    "\n",
    "# Криптография из западных стандартов\n",
    "from Crypto.Cipher import AES\n",
    "\n",
    "#\n",
    "from Crypto.Random import get_random_bytes\n",
    "\n",
    "#\n",
    "from functools import partial\n",
    "import uuid"
   ]
  },
  {
   "cell_type": "code",
   "execution_count": 26,
   "id": "aeef5e37",
   "metadata": {},
   "outputs": [],
   "source": [
    "class KuznyechikMGM(object):\n",
    "    def __init__(self, key: bytes):\n",
    "        self._key = key\n",
    "    \n",
    "    def encrypt(self, plaintext: bytes):\n",
    "        \"\"\"\n",
    "        Зашифрование шифром Кузнечик в режиме MGM\n",
    "        \"\"\"\n",
    "        \n",
    "        encrypter = partial(KuznyechikMGM._encrypt_block, self._key)\n",
    "        cipher = mgm.MGM(encrypter, KuznyechikMGM._block_size())\n",
    "        \n",
    "        nonce = KuznyechikMGM._generate_nonce()\n",
    "        ct_with_tag = cipher.seal(nonce, plaintext, b'')\n",
    "        \n",
    "        return nonce, ct_with_tag[:-cipher.tag_size], ct_with_tag[-cipher.tag_size:]\n",
    "    \n",
    "    def decrypt(self, nonce: bytes, ciphertext: bytes, tag: bytes):\n",
    "        \"\"\"\n",
    "        Расшифрование шифром Кузнечик в режиме MGM\n",
    "        \"\"\"\n",
    "        \n",
    "        try:\n",
    "            encrypter = partial(KuznyechikMGM._encrypt_block, self._key)\n",
    "            cipher = mgm.MGM(encrypter, KuznyechikMGM._block_size())\n",
    "            \n",
    "            ct_with_tag = ciphertext + tag\n",
    "            \n",
    "            return cipher.open(nonce, ct_with_tag, b'')\n",
    "        except (ValueError, KeyError):\n",
    "            trace('[KuznyechikMGM.decrypt]', f'Incorrect decryption')\n",
    "            return None\n",
    "        \n",
    "    @staticmethod\n",
    "    def _block_size() -> int:\n",
    "        return gost3412.GOST3412Kuznechik.blocksize\n",
    "        \n",
    "    @staticmethod\n",
    "    def _encrypt_block(key: bytes, block: bytes):\n",
    "        cipher = gost3412.GOST3412Kuznechik(key)\n",
    "        return cipher.encrypt(block)\n",
    "    \n",
    "    @staticmethod\n",
    "    def _generate_nonce() -> bytes:\n",
    "        nonce = get_random_bytes(KuznyechikMGM._block_size())\n",
    "        while bytearray(nonce)[0] & 0x80 > 0:\n",
    "            nonce = get_random_bytes(KuznyechikMGM._block_size())\n",
    "            \n",
    "        return nonce"
   ]
  },
  {
   "cell_type": "code",
   "execution_count": 27,
   "id": "73bbbef2",
   "metadata": {},
   "outputs": [],
   "source": [
    "class AESGCM(object):\n",
    "    def __init__(self, key: bytes):\n",
    "        self._key = key\n",
    "        \n",
    "    def encrypt(self, plaintext: bytes):\n",
    "        \"\"\"\n",
    "        Зашифрование шифром AES в режиме GCM\n",
    "        \"\"\"\n",
    "        \n",
    "        cipher = AES.new(self._key, AES.MODE_GCM)\n",
    "        return cipher.nonce, *cipher.encrypt_and_digest(plaintext)\n",
    "    \n",
    "    def decrypt(self, nonce: bytes, ciphertext: bytes, tag: bytes):\n",
    "        \"\"\"\n",
    "        Зашифрование шифром AES в режиме GCM\n",
    "        \"\"\"\n",
    "        \n",
    "        try:\n",
    "            cipher = AES.new(self._key, AES.MODE_GCM, nonce=nonce)\n",
    "            return cipher.decrypt_and_verify(ciphertext, tag)\n",
    "        except (ValueError, KeyError):\n",
    "            trace('[AESGCM.decrypt]', f'Incorrect decryption')\n",
    "            return None"
   ]
  },
  {
   "cell_type": "code",
   "execution_count": 28,
   "id": "23cfdc07",
   "metadata": {},
   "outputs": [],
   "source": [
    "ciphers = {\n",
    "    'AES_GCM': AESGCM,\n",
    "    'Kuznyechik_MGM': KuznyechikMGM\n",
    "}"
   ]
  },
  {
   "cell_type": "markdown",
   "id": "a20fdb10",
   "metadata": {},
   "source": [
    "---"
   ]
  },
  {
   "cell_type": "code",
   "execution_count": 30,
   "id": "03556d00",
   "metadata": {},
   "outputs": [],
   "source": [
    "def test_cipher(cipher_id):\n",
    "    print(f'Testing cipher {cipher_id}...')\n",
    "    \n",
    "    cipher_type = ciphers[cipher_id]\n",
    "    \n",
    "    key = get_random_bytes(32)\n",
    "    cipher = cipher_type(key)\n",
    "    \n",
    "    pt = get_random_bytes(16)\n",
    "    success = pt == cipher.decrypt(*cipher.encrypt(pt))\n",
    "    \n",
    "    pt = get_random_bytes(17)\n",
    "    success = success and pt == cipher.decrypt(*cipher.encrypt(pt))\n",
    "    \n",
    "    pt = get_random_bytes(32)\n",
    "    success = success and pt == cipher.decrypt(*cipher.encrypt(pt))\n",
    "    \n",
    "    print(f'Result: {success}')\n",
    "    return success"
   ]
  },
  {
   "cell_type": "code",
   "execution_count": 31,
   "id": "7cea8faa",
   "metadata": {},
   "outputs": [
    {
     "name": "stdout",
     "output_type": "stream",
     "text": [
      "Testing cipher Kuznyechik_MGM...\n",
      "Result: True\n",
      "Testing cipher AES_GCM...\n",
      "Result: True\n"
     ]
    }
   ],
   "source": [
    "assert test_cipher('Kuznyechik_MGM')\n",
    "assert test_cipher('AES_GCM')"
   ]
  },
  {
   "cell_type": "markdown",
   "id": "c6630087",
   "metadata": {},
   "source": [
    "----"
   ]
  },
  {
   "cell_type": "code",
   "execution_count": 39,
   "id": "b5ff3aaa",
   "metadata": {},
   "outputs": [],
   "source": [
    "class TLS13CertificationAuthority(object):\n",
    "    def __init__(self, ciphers):\n",
    "        self._ciphers = ciphers\n",
    "        \n",
    "        self._curve = gost3410.CURVES['id-tc26-gost-3410-2012-512-paramSetA']\n",
    "        self._private_key = gost3410.prv_unmarshal(get_random_bytes(64))\n",
    "        self._public_key = gost3410.public_key(self._curve, self._private_key)\n",
    "        \n",
    "        self._certificates = {}\n",
    "        self._revoked_certificates = {}\n",
    "        \n",
    "        trace('[TLS13CertificationAuthority]', f'Supported ciphers: {list(self._ciphers.keys())}')\n",
    "        trace('[TLS13CertificationAuthority]', f'Public key = {self._public_key}')\n",
    "        \n",
    "    def make_certificate(identifier, public_key):\n",
    "        "
   ]
  },
  {
   "cell_type": "code",
   "execution_count": 50,
   "id": "be0a071c",
   "metadata": {},
   "outputs": [],
   "source": [
    "class TLS13Server(object):\n",
    "    def __init__(self):\n",
    "        self._id = uuid.uuid4()\n",
    "        \n",
    "        trace('[TLS13Server]', f'Id = {self._id}')\n",
    "        \n",
    "    @property\n",
    "    def identifier(self):\n",
    "        return self._id"
   ]
  },
  {
   "cell_type": "code",
   "execution_count": 51,
   "id": "32cf3650",
   "metadata": {},
   "outputs": [],
   "source": [
    "class TLS13Client(object):\n",
    "    def __init__(self, cipher_id):\n",
    "        self._cipher_type = ciphers[cipher_id]\n",
    "        self._id = uuid.uuid4()\n",
    "        \n",
    "        trace('[TLS13Client]', f'Id = {self._id}, cipher = {cipher_id}')\n",
    "        \n",
    "    @property\n",
    "    def identifier(self):\n",
    "        return self._id"
   ]
  },
  {
   "cell_type": "code",
   "execution_count": 52,
   "id": "1aaddb02",
   "metadata": {},
   "outputs": [
    {
     "name": "stdout",
     "output_type": "stream",
     "text": [
      "[TRACE] [TLS13CertificationAuthority] Supported ciphers: ['AES_GCM', 'Kuznyechik_MGM']\n",
      "[TRACE] [TLS13CertificationAuthority] Public key = (2157895737115530647994393154282443938718075659904752676596983653235730418190047790910918349525625120946114327037965364296867424712956386937685427549085260, 12540639099394132098205307847575372110364742304046795239608811945288068792753404265038938843534188614376635537006731141555303802806343396889200054649625224)\n"
     ]
    }
   ],
   "source": [
    "ca = TLS13CertificationAuthority(ciphers)"
   ]
  },
  {
   "cell_type": "code",
   "execution_count": 53,
   "id": "e9f1f72f",
   "metadata": {},
   "outputs": [
    {
     "name": "stdout",
     "output_type": "stream",
     "text": [
      "[TRACE] [TLS13Server] Id = 645420ba-d8b8-4c72-a5fe-c362d98d0b5b\n"
     ]
    }
   ],
   "source": [
    "srv = TLS13Server()"
   ]
  },
  {
   "cell_type": "code",
   "execution_count": 55,
   "id": "393455ba",
   "metadata": {},
   "outputs": [
    {
     "name": "stdout",
     "output_type": "stream",
     "text": [
      "[TRACE] [TLS13Client] Id = 237a9dd5-a6f0-4a63-83c8-4ff1ad94da1d, cipher = AES_GCM\n",
      "[TRACE] [TLS13Client] Id = 6dd79581-ec13-45a0-9c36-ac82f32d54fe, cipher = Kuznyechik_MGM\n"
     ]
    }
   ],
   "source": [
    "cl1 = TLS13Client('AES_GCM')\n",
    "cl2 = TLS13Client('Kuznyechik_MGM')"
   ]
  },
  {
   "cell_type": "code",
   "execution_count": null,
   "id": "9aae3677",
   "metadata": {},
   "outputs": [],
   "source": []
  }
 ],
 "metadata": {
  "kernelspec": {
   "display_name": "SageMath 9.5",
   "language": "sage",
   "name": "sagemath-9.5"
  },
  "language_info": {
   "codemirror_mode": {
    "name": "ipython",
    "version": 3
   },
   "file_extension": ".py",
   "mimetype": "text/x-python",
   "name": "python",
   "nbconvert_exporter": "python",
   "pygments_lexer": "ipython3",
   "version": "3.9.9"
  }
 },
 "nbformat": 4,
 "nbformat_minor": 5
}
