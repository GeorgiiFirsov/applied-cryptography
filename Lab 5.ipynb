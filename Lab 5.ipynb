{
 "cells": [
  {
   "cell_type": "markdown",
   "id": "e2066a10",
   "metadata": {},
   "source": [
    "# Схемы разделения секрета"
   ]
  },
  {
   "cell_type": "code",
   "execution_count": 1,
   "id": "17112220",
   "metadata": {},
   "outputs": [],
   "source": [
    "IS_DEBUG = 1"
   ]
  },
  {
   "cell_type": "code",
   "execution_count": 2,
   "id": "6b736ee8",
   "metadata": {},
   "outputs": [],
   "source": [
    "def trace(*args, **kwargs):\n",
    "    \"\"\"\n",
    "    Отладочная трассировка\n",
    "    \"\"\"\n",
    "    \n",
    "    global IS_DEBUG\n",
    "    if IS_DEBUG:\n",
    "        print('[TRACE]', end=' ')\n",
    "        print(*args, **kwargs)"
   ]
  },
  {
   "cell_type": "markdown",
   "id": "6ae1da6d",
   "metadata": {},
   "source": [
    "---"
   ]
  },
  {
   "cell_type": "code",
   "execution_count": 3,
   "id": "9cf42209",
   "metadata": {},
   "outputs": [],
   "source": [
    "# Генерация простых чисел и КГПСЧ\n",
    "from Crypto.Util.number import getStrongPrime, getPrime\n",
    "from Crypto.Random import random\n",
    "\n",
    "# Утилитки\n",
    "from functools import reduce"
   ]
  },
  {
   "cell_type": "code",
   "execution_count": 4,
   "id": "17730b2f",
   "metadata": {},
   "outputs": [],
   "source": [
    "def prod(lst):\n",
    "    \"\"\"\n",
    "    Произведение всех элементов списка.\n",
    "    \"\"\"\n",
    "    \n",
    "    return reduce((lambda x, y: x * y), lst)"
   ]
  },
  {
   "cell_type": "markdown",
   "id": "dfd9fe18",
   "metadata": {},
   "source": [
    "----"
   ]
  },
  {
   "cell_type": "code",
   "execution_count": 5,
   "id": "31043a27",
   "metadata": {},
   "outputs": [],
   "source": [
    "class GenericParticipant(object):\n",
    "    def __init__(self, x, y, t):\n",
    "        \"\"\"\n",
    "        Инициализация участника разделения секрета.\n",
    "        Сохраняются х, у и t.\n",
    "        \"\"\"\n",
    "        \n",
    "        self._x = x\n",
    "        self._y = y\n",
    "        self._t = t\n",
    "        \n",
    "        trace('[GenericParticipant]', f'{x = }, {y = }')\n",
    "        self._verify()\n",
    "        \n",
    "        \n",
    "    def __eq__(self, other):\n",
    "        \"\"\"\n",
    "        Сравнение на равенство. Сравниваю по х - достаточно.\n",
    "        \"\"\"\n",
    "        \n",
    "        return self.x == other.x\n",
    "        \n",
    "        \n",
    "    @property\n",
    "    def x(self):\n",
    "        \"\"\"\n",
    "        Получение х.\n",
    "        \"\"\"\n",
    "        \n",
    "        return self._x\n",
    "    \n",
    "    \n",
    "    @property\n",
    "    def y(self):\n",
    "        \"\"\"\n",
    "        Получение у.\n",
    "        \"\"\"\n",
    "        \n",
    "        return self._y\n",
    "        \n",
    "        \n",
    "    @property\n",
    "    def equation(self):\n",
    "        \"\"\"\n",
    "        Получение соответствующего участнику уравнения.\n",
    "        \"\"\"\n",
    "        \n",
    "        return [1] + [self._x ^ i for i in range(1, self._t)], self._y\n",
    "    \n",
    "    \n",
    "    def _verify(self):\n",
    "        pass"
   ]
  },
  {
   "cell_type": "code",
   "execution_count": 6,
   "id": "734a79df",
   "metadata": {},
   "outputs": [],
   "source": [
    "class GenericDealer(object):\n",
    "    def __init__(self, t, n, field):\n",
    "        \"\"\"\n",
    "        Инициализация дилера для разделения секрета.\n",
    "        Генерация простого числа, поля и ключа.\n",
    "        \"\"\"\n",
    "        \n",
    "        self._field = field\n",
    "        self._t = t\n",
    "        self._n = n\n",
    "        self._key = self._field.random_element()\n",
    "        \n",
    "        self._coefs = []\n",
    "        self._values = []\n",
    "        \n",
    "        trace('[GenericDealer]', f't = {self._t}, n = {self._n}')\n",
    "        trace('[GenericDealer]', self._field)\n",
    "        trace('[GenericDealer]', f'key = {self._key}')\n",
    "    \n",
    "    \n",
    "    @property\n",
    "    def field(self):\n",
    "        \"\"\"\n",
    "        Получение поля.\n",
    "        \"\"\"\n",
    "        \n",
    "        return self._field\n",
    "    \n",
    "    \n",
    "    @property\n",
    "    def key(self):\n",
    "        \"\"\"\n",
    "        Получение ключа для проверки\n",
    "        \"\"\"\n",
    "        \n",
    "        return self._key\n",
    "    \n",
    "    \n",
    "    def _prepare_coefficients(self):\n",
    "        self._coefs  = [self._key] + [self._field.random_element() for _ in range(self._t - 1)]\n",
    "        \n",
    "        self._values = [sum([c * (x ^ i) for i, c in enumerate(self._coefs)]) \n",
    "                        for x in range(1, self._n + 1)]"
   ]
  },
  {
   "cell_type": "markdown",
   "id": "4aa5c0bb",
   "metadata": {},
   "source": [
    "----"
   ]
  },
  {
   "cell_type": "code",
   "execution_count": 7,
   "id": "6ef47d17",
   "metadata": {},
   "outputs": [],
   "source": [
    "def restore_secret_by_equation_system(field, participants: list[GenericParticipant]):\n",
    "    \"\"\"\n",
    "    Восстановление секрета путем решения системы уравнений.\n",
    "    \"\"\"\n",
    "    \n",
    "    equations = [p.equation for p in participants]\n",
    "    M = Matrix(field, [eq[0] for eq in equations])\n",
    "    v = vector(field, (eq[1] for eq in equations))\n",
    "    \n",
    "    return M.solve_right(v)[0]  # Нас интересует только первая переменная,\n",
    "                                # так как именно она является ключом"
   ]
  },
  {
   "cell_type": "code",
   "execution_count": 8,
   "id": "d4ecc887",
   "metadata": {},
   "outputs": [],
   "source": [
    "def restore_secret_by_lagrange_interpolation(participants: list[GenericParticipant]):\n",
    "    \"\"\"\n",
    "    Восстановление секрета путем интерполяции Лагранжа.\n",
    "    \"\"\"\n",
    "    \n",
    "    return sum([p1.y * prod([p2.x * (p2.x - p1.x).inverse_of_unit() \n",
    "                             for p2 in participants if p1 != p2])\n",
    "                for p1 in participants])"
   ]
  },
  {
   "cell_type": "markdown",
   "id": "11589f51",
   "metadata": {},
   "source": [
    "----"
   ]
  },
  {
   "cell_type": "markdown",
   "id": "f7d16b68",
   "metadata": {},
   "source": [
    "## Схема Шамира\n",
    "![Shamir scheme](./images/Shamir_1_5.png)\n",
    "![Shamir scheme](./images/Shamir_2_5.png)"
   ]
  },
  {
   "cell_type": "code",
   "execution_count": 9,
   "id": "cf6e182e",
   "metadata": {},
   "outputs": [],
   "source": [
    "class ShamirParticipant(GenericParticipant):\n",
    "    def __init__(self, x, y, t):\n",
    "        \"\"\"\n",
    "        Тут в целом все повторяет общий случай.\n",
    "        \"\"\"\n",
    "        \n",
    "        trace('[ShamirParticipant]', f'Initializing superclass...')\n",
    "        super(ShamirParticipant, self).__init__(x, y, t)"
   ]
  },
  {
   "cell_type": "code",
   "execution_count": 10,
   "id": "71f16878",
   "metadata": {},
   "outputs": [],
   "source": [
    "class ShamirDealer(GenericDealer):\n",
    "    def __init__(self, t, n):\n",
    "        \"\"\"\n",
    "        Тут в целом все повторяет общий случай.\n",
    "        \"\"\"\n",
    "        \n",
    "        trace('[ShamirDealer]', f'Initializing superclass...')\n",
    "        super(ShamirDealer, self).__init__(t, n, GF(getStrongPrime(512)))\n",
    "        \n",
    "        \n",
    "    def split_key(self):\n",
    "        \"\"\"\n",
    "        Разделение секрета между участниками.\n",
    "        \"\"\"\n",
    "        \n",
    "        self._prepare_coefficients()\n",
    "        return [ShamirParticipant(self._field.gen() + i, self._values[i], self._t) \n",
    "                for i in range(self._n)]"
   ]
  },
  {
   "cell_type": "markdown",
   "id": "5548548a",
   "metadata": {},
   "source": [
    "----"
   ]
  },
  {
   "cell_type": "code",
   "execution_count": 11,
   "id": "139db064",
   "metadata": {},
   "outputs": [],
   "source": [
    "t, n = 3, 5"
   ]
  },
  {
   "cell_type": "code",
   "execution_count": 12,
   "id": "b1e53c7e",
   "metadata": {},
   "outputs": [
    {
     "name": "stdout",
     "output_type": "stream",
     "text": [
      "[TRACE] [ShamirDealer] Initializing superclass...\n",
      "[TRACE] [GenericDealer] t = 3, n = 5\n",
      "[TRACE] [GenericDealer] Finite Field of size 10746683380914440290815134630835829077661721314628438796253279382516247354594062025443199219063084935050428325424313490762844028700058103432277887286683563\n",
      "[TRACE] [GenericDealer] key = 10045238004899183111931167195097266430960383825377927813631063845723893110737028675787507264482217438584712350669038531071849760226391871691755126624300326\n"
     ]
    }
   ],
   "source": [
    "d = ShamirDealer(t, n)"
   ]
  },
  {
   "cell_type": "code",
   "execution_count": 13,
   "id": "0bb9a85a",
   "metadata": {},
   "outputs": [
    {
     "name": "stdout",
     "output_type": "stream",
     "text": [
      "[TRACE] [ShamirParticipant] Initializing superclass...\n",
      "[TRACE] [GenericParticipant] x = 1, y = 8931095082307318365555266097244379408223821100821557335871023234941902571825940832977798974932782987051075722752505651248657184268706763819613304472273499\n",
      "[TRACE] [ShamirParticipant] Initializing superclass...\n",
      "[TRACE] [GenericParticipant] x = 2, y = 3029534368148659002943617905915264654093108358436581470713641593420150897634948604288319800971658451105119964729649957963074769047008777122833923270774160\n",
      "[TRACE] [ShamirParticipant] Initializing superclass...\n",
      "[TRACE] [GenericParticipant] x = 3, y = 3087239243337645314911357251945751246229966912851439014412198303674885442758114015162268961661928765797273402024784941977946543261356015033694870306485872\n",
      "[TRACE] [ShamirParticipant] Initializing superclass...\n",
      "[TRACE] [GenericParticipant] x = 4, y = 9104209707874277301458484135335839184634396764066129966966693365706106207195437065599646457003593931127536034637910603293272506911748477552196145579408635\n",
      "[TRACE] [ShamirParticipant] Initializing superclass...\n",
      "[TRACE] [GenericParticipant] x = 5, y = 10333762380844114671769863925249699391644676597452215532123847396997565836352855730157253067933569012045479537144713451146208631298128061246059861802858886\n"
     ]
    }
   ],
   "source": [
    "participants = d.split_key()"
   ]
  },
  {
   "cell_type": "code",
   "execution_count": 14,
   "id": "196c4c57",
   "metadata": {},
   "outputs": [
    {
     "name": "stdout",
     "output_type": "stream",
     "text": [
      "Restored key = 10045238004899183111931167195097266430960383825377927813631063845723893110737028675787507264482217438584712350669038531071849760226391871691755126624300326\n",
      "Restored correctly: True\n"
     ]
    }
   ],
   "source": [
    "restored_key = restore_secret_by_equation_system(d.field, \n",
    "                                                 random.sample(participants, t))\n",
    "print(f'Restored key = {restored_key}')\n",
    "print(f'Restored correctly: {restored_key == d.key}')"
   ]
  },
  {
   "cell_type": "code",
   "execution_count": 15,
   "id": "ba6cac59",
   "metadata": {},
   "outputs": [
    {
     "name": "stdout",
     "output_type": "stream",
     "text": [
      "Restored key = 7701542409337480995243886307330519201213541267435471770713869203650442942668522168420192364002807906133132220245702803395721059882327180125749588248823248\n",
      "Restored correctly: False\n"
     ]
    }
   ],
   "source": [
    "false_key = restore_secret_by_equation_system(d.field, \n",
    "                                              random.sample(participants, t - 1))\n",
    "print(f'Restored key = {false_key}')\n",
    "print(f'Restored correctly: {false_key == d.key}')"
   ]
  },
  {
   "cell_type": "code",
   "execution_count": 16,
   "id": "f139e74a",
   "metadata": {},
   "outputs": [
    {
     "name": "stdout",
     "output_type": "stream",
     "text": [
      "Restored key = 10045238004899183111931167195097266430960383825377927813631063845723893110737028675787507264482217438584712350669038531071849760226391871691755126624300326\n",
      "Restored correctly: True\n"
     ]
    }
   ],
   "source": [
    "restored_key = restore_secret_by_lagrange_interpolation(random.sample(participants, t))\n",
    "print(f'Restored key = {restored_key}')\n",
    "print(f'Restored correctly: {restored_key == d.key}')"
   ]
  },
  {
   "cell_type": "code",
   "execution_count": 17,
   "id": "93d58503",
   "metadata": {},
   "outputs": [
    {
     "name": "stdout",
     "output_type": "stream",
     "text": [
      "Restored key = 520415721987289070890265667116177604122316240692563689617857657540801239748665589600536037385272779514653525086218583202136300986307861888793249674614480\n",
      "Restored correctly: False\n"
     ]
    }
   ],
   "source": [
    "false_key = restore_secret_by_lagrange_interpolation(random.sample(participants, t - 1))\n",
    "print(f'Restored key = {false_key}')\n",
    "print(f'Restored correctly: {false_key == d.key}')"
   ]
  },
  {
   "cell_type": "markdown",
   "id": "87b839f1",
   "metadata": {},
   "source": [
    "---\n",
    "## Схема Фельдмана\n",
    "![Feldman scheme](./images/Feldman_5.png)"
   ]
  },
  {
   "cell_type": "code",
   "execution_count": 18,
   "id": "ab2c38bb",
   "metadata": {},
   "outputs": [],
   "source": [
    "class FeldmanParticipant(GenericParticipant):\n",
    "    def __init__(self, x, y, t, g, check_values):\n",
    "        \"\"\"\n",
    "        Тут в дополнение сохраняется генератор и проверочные значения.\n",
    "        \"\"\"\n",
    "        \n",
    "        self._g = g\n",
    "        self._check_values = check_values\n",
    "        \n",
    "        trace('[FeldmanParticipant]', f'Initializing superclass...')\n",
    "        super(FeldmanParticipant, self).__init__(x, y, t)\n",
    "        \n",
    "        \n",
    "    def _verify(self):\n",
    "        expected_value = self._g ^ self.y\n",
    "        value_to_check = prod([cv ^ (self.x ^ i) for i, cv in enumerate(self._check_values)])\n",
    "        \n",
    "        if value_to_check != expected_value:\n",
    "            raise ValueError(f'Wrong value given to the participant with x = {self.x} and y = {self.y}')\n",
    "            \n",
    "        trace('[FeldmanParticipant]', 'Value verified')"
   ]
  },
  {
   "cell_type": "code",
   "execution_count": 19,
   "id": "d00ba0f7",
   "metadata": {},
   "outputs": [],
   "source": [
    "class FeldmanDealer(GenericDealer):\n",
    "    def __init__(self, t, n):\n",
    "        \"\"\"\n",
    "        В дополнение генерируются p, q, g.\n",
    "        \"\"\"\n",
    "        \n",
    "        self._p, self._q, self._g = FeldmanDealer._generate_parameters()\n",
    "        \n",
    "        trace('[FeldmanDealer]', f'Initializing superclass...')\n",
    "        super(FeldmanDealer, self).__init__(t, n, GF(self._q))\n",
    "        \n",
    "        trace('[FeldmanDealer]', f'p = {self._p}')\n",
    "        trace('[FeldmanDealer]', f'q = {self._q}')\n",
    "        trace('[FeldmanDealer]', f'g = {self._g}')\n",
    "        \n",
    "        \n",
    "    def split_key(self):\n",
    "        \"\"\"\n",
    "        Разделение секрета между участниками.\n",
    "        \"\"\"\n",
    "        \n",
    "        self._prepare_coefficients()\n",
    "        check_values = [self._g ^ c for c in self._coefs]\n",
    "        \n",
    "        return [FeldmanParticipant(self._field.gen() + i, self._values[i], self._t, self._g, check_values) \n",
    "                for i in range(self._n)]\n",
    "    \n",
    "    \n",
    "    @staticmethod\n",
    "    def _generate_parameters():\n",
    "        def _generate_special_group_element(p, q):\n",
    "            #\n",
    "            # Сгенерирую число, взаимно простое с p\n",
    "            #\n",
    "\n",
    "            tmp = random.getrandbits(P_LENGTH)\n",
    "            while gcd(tmp, p) != 1:\n",
    "                tmp = random.getrandbits(P_LENGTH)\n",
    "\n",
    "            #\n",
    "            # По малой теореме Ферма такой g будет иметь порядок q\n",
    "            #\n",
    "\n",
    "            F = GF(p)\n",
    "            return F(tmp) ^ ((p - 1) // q)\n",
    "        \n",
    "        Q_LENGTH = 160\n",
    "        P_LENGTH = 1024\n",
    "        \n",
    "        q = getPrime(Q_LENGTH)\n",
    "        p = random.getrandbits(P_LENGTH - Q_LENGTH) * q + 1\n",
    "        \n",
    "        while p not in Primes():\n",
    "            p = random.getrandbits(P_LENGTH - Q_LENGTH) * q + 1\n",
    "        \n",
    "        return p, q, _generate_special_group_element(p, q)"
   ]
  },
  {
   "cell_type": "markdown",
   "id": "fe11d49e",
   "metadata": {},
   "source": [
    "----"
   ]
  },
  {
   "cell_type": "code",
   "execution_count": 20,
   "id": "fb9aa08f",
   "metadata": {},
   "outputs": [
    {
     "name": "stdout",
     "output_type": "stream",
     "text": [
      "[TRACE] [FeldmanDealer] Initializing superclass...\n",
      "[TRACE] [GenericDealer] t = 3, n = 5\n",
      "[TRACE] [GenericDealer] Finite Field of size 859000945459477133793765991761850874983659080821\n",
      "[TRACE] [GenericDealer] key = 54293937948937588760047366379474829061523845870\n",
      "[TRACE] [FeldmanDealer] p = 71615560485743098112088464729310737852955203639395099083230484298810368257766922298246091455969201689838655477480383411149351653675885489277145173073696987084332841964773028240986897267025206226294921382491672522707710637765801027983613459461761676285311516678136126633087743879657591947994424506037058993239\n",
      "[TRACE] [FeldmanDealer] q = 859000945459477133793765991761850874983659080821\n",
      "[TRACE] [FeldmanDealer] g = 67485912198386787569987313772285094335766816057351329946518335231842251564808099953153985261706825418811290280689943693207357322496233208577401046116655979891642395350716162984342122538440245368828465741661443941557419148643717096203372740689425645692425151439320533596445801329214027565727656116148622981233\n"
     ]
    }
   ],
   "source": [
    "d = FeldmanDealer(t, n)"
   ]
  },
  {
   "cell_type": "code",
   "execution_count": 21,
   "id": "df870c27",
   "metadata": {},
   "outputs": [
    {
     "name": "stdout",
     "output_type": "stream",
     "text": [
      "[TRACE] [FeldmanParticipant] Initializing superclass...\n",
      "[TRACE] [GenericParticipant] x = 1, y = 559036510485148874041077908139407749827876333790\n",
      "[TRACE] [FeldmanParticipant] Value verified\n",
      "[TRACE] [FeldmanParticipant] Initializing superclass...\n",
      "[TRACE] [GenericParticipant] x = 2, y = 751249327205626652217850008480573505182075147913\n",
      "[TRACE] [FeldmanParticipant] Value verified\n",
      "[TRACE] [FeldmanParticipant] Initializing superclass...\n",
      "[TRACE] [GenericParticipant] x = 3, y = 630932388110370923290363667402972095124120288239\n",
      "[TRACE] [FeldmanParticipant] Value verified\n",
      "[TRACE] [FeldmanParticipant] Initializing superclass...\n",
      "[TRACE] [GenericParticipant] x = 4, y = 198085693199381687258618884906603519654011754768\n",
      "[TRACE] [FeldmanParticipant] Value verified\n",
      "[TRACE] [FeldmanParticipant] Initializing superclass...\n",
      "[TRACE] [GenericParticipant] x = 5, y = 311710187932136077916381652753318653755408628321\n",
      "[TRACE] [FeldmanParticipant] Value verified\n"
     ]
    }
   ],
   "source": [
    "participants = d.split_key()"
   ]
  },
  {
   "cell_type": "code",
   "execution_count": 22,
   "id": "284841e7",
   "metadata": {},
   "outputs": [
    {
     "name": "stdout",
     "output_type": "stream",
     "text": [
      "Restored key = 54293937948937588760047366379474829061523845870\n",
      "Restored correctly: True\n"
     ]
    }
   ],
   "source": [
    "restored_key = restore_secret_by_equation_system(d.field, \n",
    "                                                 random.sample(participants, t))\n",
    "print(f'Restored key = {restored_key}')\n",
    "print(f'Restored correctly: {restored_key == d.key}')"
   ]
  },
  {
   "cell_type": "code",
   "execution_count": 23,
   "id": "4c1a4089",
   "metadata": {},
   "outputs": [
    {
     "name": "stdout",
     "output_type": "stream",
     "text": [
      "Restored key = 93588098942799282519552032626700139687924816155\n",
      "Restored correctly: False\n"
     ]
    }
   ],
   "source": [
    "false_key = restore_secret_by_equation_system(d.field, \n",
    "                                              random.sample(participants, t - 1))\n",
    "print(f'Restored key = {false_key}')\n",
    "print(f'Restored correctly: {false_key == d.key}')"
   ]
  },
  {
   "cell_type": "code",
   "execution_count": 24,
   "id": "687b6747",
   "metadata": {},
   "outputs": [
    {
     "name": "stdout",
     "output_type": "stream",
     "text": [
      "Restored key = 54293937948937588760047366379474829061523845870\n",
      "Restored correctly: True\n"
     ]
    }
   ],
   "source": [
    "restored_key = restore_secret_by_lagrange_interpolation(random.sample(participants, t))\n",
    "print(f'Restored key = {restored_key}')\n",
    "print(f'Restored correctly: {restored_key == d.key}')"
   ]
  },
  {
   "cell_type": "code",
   "execution_count": 25,
   "id": "b5b51641",
   "metadata": {},
   "outputs": [
    {
     "name": "stdout",
     "output_type": "stream",
     "text": [
      "Restored key = 93588098942799282519552032626700139687924816155\n",
      "Restored correctly: False\n"
     ]
    }
   ],
   "source": [
    "false_key = restore_secret_by_lagrange_interpolation(random.sample(participants, t - 1))\n",
    "print(f'Restored key = {false_key}')\n",
    "print(f'Restored correctly: {false_key == d.key}')"
   ]
  },
  {
   "cell_type": "markdown",
   "id": "34977a2b",
   "metadata": {},
   "source": [
    "----\n",
    "## Схема Педерсена\n",
    "![Pedersen scheme](./images/Pedersen_5.png)"
   ]
  },
  {
   "cell_type": "code",
   "execution_count": 26,
   "id": "486ae2a9",
   "metadata": {},
   "outputs": [],
   "source": [
    "class PedersenParticipant(GenericParticipant):\n",
    "    def __init__(self, i, u, w, g, h, t, check_values):\n",
    "        \"\"\"\n",
    "        Инициализация участника разделения секрета.\n",
    "        Сохраняются проверочные значения и элементы группы GF*(p)\n",
    "        \"\"\"\n",
    "        \n",
    "        self._g, self._h = g, h\n",
    "        self._w = w\n",
    "        self._check_values = check_values\n",
    "        \n",
    "        trace('[PedersenParticipant]', f'Initializing superclass...')\n",
    "        super(PedersenParticipant, self).__init__(i, u, t)\n",
    "        \n",
    "    \n",
    "    def _verify(self):\n",
    "        expected_value = (self._g ^ self.y) * (self._h ^ self._w)\n",
    "        value_to_check = prod([cv ^ (self.x ^ i) for i, cv in enumerate(self._check_values)])\n",
    "        \n",
    "        if value_to_check != expected_value:\n",
    "            raise ValueError(f'Wrong value given to the participant with i = {self.x}')\n",
    "            \n",
    "        trace('[PedersenParticipant]', 'Value verified')"
   ]
  },
  {
   "cell_type": "code",
   "execution_count": 27,
   "id": "8e107823",
   "metadata": {},
   "outputs": [],
   "source": [
    "class PedersenDealer(GenericDealer):\n",
    "    def __init__(self, t, n):\n",
    "        \"\"\"\n",
    "        В дополнение к общему случаю генерируются 4 параметра: p, q, g и h.\n",
    "        \"\"\"\n",
    "        \n",
    "        self._p, self._q, self._g, self._h = PedersenDealer._generate_parameters()\n",
    "        self._gammas = []\n",
    "        \n",
    "        trace('[PedersenDealer]', f'Initializing superclass...')\n",
    "        super(PedersenDealer, self).__init__(t, n, GF(self._q))\n",
    "        \n",
    "        trace('[PedersenDealer]', f'p = {self._p}')\n",
    "        trace('[PedersenDealer]', f'q = {self._q}')\n",
    "        trace('[PedersenDealer]', f'g = {self._g}')\n",
    "        trace('[PedersenDealer]', f'h = {self._h}')\n",
    "        \n",
    "        \n",
    "    def split_key(self):\n",
    "        \"\"\"\n",
    "        Разделение секрета между участниками.\n",
    "        \"\"\"\n",
    "        \n",
    "        self._prepare_coefficients()\n",
    "        self._gammas = [self._field.random_element() for _ in range(t)]\n",
    "        \n",
    "        check_values = [(self._g ^ d) * (self._h ^ g)\n",
    "                        for d, g in zip(self._coefs, self._gammas)]\n",
    "        \n",
    "        return [PedersenParticipant(self._field.gen() + i, u, self._w(i + 1),\n",
    "                                    self._g, self._h, self._t, check_values) \n",
    "                for i, u in enumerate(self._values)]\n",
    "    \n",
    "    \n",
    "    def _w(self, z):\n",
    "        return sum([g * (z ^ i) for i, g in enumerate(self._gammas)])\n",
    "    \n",
    "    \n",
    "    @staticmethod\n",
    "    def _generate_parameters():\n",
    "        def _generate_special_group_element(p, q):\n",
    "            #\n",
    "            # Сгенерирую число, взаимно простое с p\n",
    "            #\n",
    "\n",
    "            tmp = random.getrandbits(P_LENGTH)\n",
    "            while gcd(tmp, p) != 1:\n",
    "                tmp = random.getrandbits(P_LENGTH)\n",
    "\n",
    "            #\n",
    "            # По малой теореме Ферма такой g будет иметь порядок q\n",
    "            #\n",
    "\n",
    "            F = GF(p)\n",
    "            return F(tmp) ^ ((p - 1) // q)\n",
    "        \n",
    "        Q_LENGTH = 160\n",
    "        P_LENGTH = 1024\n",
    "        \n",
    "        q = getPrime(Q_LENGTH)\n",
    "        p = random.getrandbits(P_LENGTH - Q_LENGTH) * q + 1\n",
    "        \n",
    "        while p not in Primes():\n",
    "            p = random.getrandbits(P_LENGTH - Q_LENGTH) * q + 1\n",
    "            \n",
    "        g = _generate_special_group_element(p, q)\n",
    "        h = _generate_special_group_element(p, q)\n",
    "        \n",
    "        while g == h:\n",
    "            h = _generate_special_group_element(p, q)\n",
    "            \n",
    "        return p, q, g, h"
   ]
  },
  {
   "cell_type": "markdown",
   "id": "46777cf8",
   "metadata": {},
   "source": [
    "-----"
   ]
  },
  {
   "cell_type": "code",
   "execution_count": 28,
   "id": "58fe62b6",
   "metadata": {},
   "outputs": [
    {
     "name": "stdout",
     "output_type": "stream",
     "text": [
      "[TRACE] [PedersenDealer] Initializing superclass...\n",
      "[TRACE] [GenericDealer] t = 3, n = 5\n",
      "[TRACE] [GenericDealer] Finite Field of size 1191888728202286622891746897673895367840511496593\n",
      "[TRACE] [GenericDealer] key = 2153320293527776387604677503690549982684444819\n",
      "[TRACE] [PedersenDealer] p = 73783971987918543262012390416364351593722708804975899503308334857385539182699612665250576455069975842108145445936446427875601460086060739421287610752804991316361069982701736886660564677571804121887655954541409744949537333872478682651335427543903167361108895413085196269897308530173292155306641077148131876531\n",
      "[TRACE] [PedersenDealer] q = 1191888728202286622891746897673895367840511496593\n",
      "[TRACE] [PedersenDealer] g = 54139404434865636396785307121606398202323517962982765620154143872090546551655598834382664070414854586620668017549565777316175282773019296027811639792913744135505917934389393638429218277796656268790383159344960013265895043895297569929277255785160743121312025959331315309466312522647525411585604675669530035326\n",
      "[TRACE] [PedersenDealer] h = 5623908030219147118480504926085087288043197632622337353200456896106111848062055267318239514273002117398032194963174589259465277555532744290223227533066491625829579230972205062681847094900130969533998775436005298107343620304612245364336219181652350897977043827555810259715018602916806468739033117935204170470\n"
     ]
    }
   ],
   "source": [
    "d = PedersenDealer(t, n)"
   ]
  },
  {
   "cell_type": "code",
   "execution_count": 29,
   "id": "3ca5b6ff",
   "metadata": {},
   "outputs": [
    {
     "name": "stdout",
     "output_type": "stream",
     "text": [
      "[TRACE] [PedersenParticipant] Initializing superclass...\n",
      "[TRACE] [GenericParticipant] x = 1, y = 84192018786482499725372344552002180040237097031\n",
      "[TRACE] [PedersenParticipant] Value verified\n",
      "[TRACE] [PedersenParticipant] Initializing superclass...\n",
      "[TRACE] [GenericParticipant] x = 2, y = 595091814381710945492911590002254697391378022800\n",
      "[TRACE] [PedersenParticipant] Value verified\n",
      "[TRACE] [PedersenParticipant] Initializing superclass...\n",
      "[TRACE] [GenericParticipant] x = 3, y = 342963978876926490798475516180552734195595725533\n",
      "[TRACE] [PedersenParticipant] Value verified\n",
      "[TRACE] [PedersenParticipant] Initializing superclass...\n",
      "[TRACE] [GenericParticipant] x = 4, y = 519697240474415758533811020760791658293401701823\n",
      "[TRACE] [PedersenParticipant] Value verified\n",
      "[TRACE] [PedersenParticipant] Initializing superclass...\n",
      "[TRACE] [GenericParticipant] x = 5, y = 1125291599174178748698918103742971469684795951670\n",
      "[TRACE] [PedersenParticipant] Value verified\n"
     ]
    }
   ],
   "source": [
    "participants = d.split_key()"
   ]
  },
  {
   "cell_type": "code",
   "execution_count": 30,
   "id": "4993cb0d",
   "metadata": {},
   "outputs": [
    {
     "name": "stdout",
     "output_type": "stream",
     "text": [
      "Restored key = 2153320293527776387604677503690549982684444819\n",
      "Restored correctly: True\n"
     ]
    }
   ],
   "source": [
    "restored_key = restore_secret_by_equation_system(d.field, \n",
    "                                                 random.sample(participants, t))\n",
    "print(f'Restored key = {restored_key}')\n",
    "print(f'Restored correctly: {restored_key == d.key}')"
   ]
  },
  {
   "cell_type": "code",
   "execution_count": 31,
   "id": "a324f53a",
   "metadata": {},
   "outputs": [
    {
     "name": "stdout",
     "output_type": "stream",
     "text": [
      "Restored key = 717833669841273404650796078009681383509481005816\n",
      "Restored correctly: False\n"
     ]
    }
   ],
   "source": [
    "false_key = restore_secret_by_equation_system(d.field, \n",
    "                                              random.sample(participants, t - 1))\n",
    "print(f'Restored key = {false_key}')\n",
    "print(f'Restored correctly: {false_key == d.key}')"
   ]
  },
  {
   "cell_type": "code",
   "execution_count": 32,
   "id": "9410e1d4",
   "metadata": {},
   "outputs": [
    {
     "name": "stdout",
     "output_type": "stream",
     "text": [
      "Restored key = 2153320293527776387604677503690549982684444819\n",
      "Restored correctly: True\n"
     ]
    }
   ],
   "source": [
    "restored_key = restore_secret_by_lagrange_interpolation(random.sample(participants, t))\n",
    "print(f'Restored key = {restored_key}')\n",
    "print(f'Restored correctly: {restored_key == d.key}')"
   ]
  },
  {
   "cell_type": "code",
   "execution_count": 33,
   "id": "54e5ed56",
   "metadata": {},
   "outputs": [
    {
     "name": "stdout",
     "output_type": "stream",
     "text": [
      "Restored key = 765180951393540676849579996775645030529607667855\n",
      "Restored correctly: False\n"
     ]
    }
   ],
   "source": [
    "false_key = restore_secret_by_lagrange_interpolation(random.sample(participants, t - 1))\n",
    "print(f'Restored key = {false_key}')\n",
    "print(f'Restored correctly: {false_key == d.key}')"
   ]
  },
  {
   "cell_type": "code",
   "execution_count": null,
   "id": "5bf3d816",
   "metadata": {},
   "outputs": [],
   "source": []
  }
 ],
 "metadata": {
  "kernelspec": {
   "display_name": "SageMath 9.5",
   "language": "sage",
   "name": "sagemath-9.5"
  },
  "language_info": {
   "codemirror_mode": {
    "name": "ipython",
    "version": 3
   },
   "file_extension": ".py",
   "mimetype": "text/x-python",
   "name": "python",
   "nbconvert_exporter": "python",
   "pygments_lexer": "ipython3",
   "version": "3.9.9"
  }
 },
 "nbformat": 4,
 "nbformat_minor": 5
}
