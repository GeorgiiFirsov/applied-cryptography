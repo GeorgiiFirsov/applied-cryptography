{
 "cells": [
  {
   "cell_type": "markdown",
   "id": "e2066a10",
   "metadata": {},
   "source": [
    "# Схемы разделения секрета"
   ]
  },
  {
   "cell_type": "code",
   "execution_count": 1,
   "id": "17112220",
   "metadata": {},
   "outputs": [],
   "source": [
    "IS_DEBUG = 1"
   ]
  },
  {
   "cell_type": "code",
   "execution_count": 2,
   "id": "6b736ee8",
   "metadata": {},
   "outputs": [],
   "source": [
    "def trace(*args, **kwargs):\n",
    "    \"\"\"\n",
    "    Отладочная трассировка\n",
    "    \"\"\"\n",
    "    \n",
    "    global IS_DEBUG\n",
    "    if IS_DEBUG:\n",
    "        print('[TRACE]', end=' ')\n",
    "        print(*args, **kwargs)"
   ]
  },
  {
   "cell_type": "markdown",
   "id": "6ae1da6d",
   "metadata": {},
   "source": [
    "---"
   ]
  },
  {
   "cell_type": "code",
   "execution_count": 3,
   "id": "9cf42209",
   "metadata": {},
   "outputs": [],
   "source": [
    "# Генерация простых чисел и КГПСЧ\n",
    "from Crypto.Util.number import getStrongPrime, getPrime\n",
    "from Crypto.Random import random\n",
    "\n",
    "# Утилитки\n",
    "from functools import reduce"
   ]
  },
  {
   "cell_type": "code",
   "execution_count": 4,
   "id": "17730b2f",
   "metadata": {},
   "outputs": [],
   "source": [
    "def prod(lst):\n",
    "    \"\"\"\n",
    "    Произведение всех элементов списка.\n",
    "    \"\"\"\n",
    "    \n",
    "    return reduce((lambda x, y: x * y), lst)"
   ]
  },
  {
   "cell_type": "markdown",
   "id": "dfd9fe18",
   "metadata": {},
   "source": [
    "----"
   ]
  },
  {
   "cell_type": "code",
   "execution_count": 5,
   "id": "31043a27",
   "metadata": {},
   "outputs": [],
   "source": [
    "class GenericParticipant(object):\n",
    "    def __init__(self, x, y, t):\n",
    "        \"\"\"\n",
    "        Инициализация участника разделения секрета.\n",
    "        Сохраняются х, у и t.\n",
    "        \"\"\"\n",
    "        \n",
    "        self._x = x\n",
    "        self._y = y\n",
    "        self._t = t\n",
    "        \n",
    "        trace('[GenericParticipant]', f'{x = }, {y = }')\n",
    "        self._verify()\n",
    "        \n",
    "        \n",
    "    def __eq__(self, other):\n",
    "        \"\"\"\n",
    "        Сравнение на равенство. Сравниваю по х - достаточно.\n",
    "        \"\"\"\n",
    "        \n",
    "        return self.x == other.x\n",
    "        \n",
    "        \n",
    "    @property\n",
    "    def x(self):\n",
    "        \"\"\"\n",
    "        Получение х.\n",
    "        \"\"\"\n",
    "        \n",
    "        return self._x\n",
    "    \n",
    "    \n",
    "    @property\n",
    "    def y(self):\n",
    "        \"\"\"\n",
    "        Получение у.\n",
    "        \"\"\"\n",
    "        \n",
    "        return self._y\n",
    "        \n",
    "        \n",
    "    @property\n",
    "    def equation(self):\n",
    "        \"\"\"\n",
    "        Получение соответствующего участнику уравнения.\n",
    "        \"\"\"\n",
    "        \n",
    "        return [1] + [self._x ^ i for i in range(1, self._t)], self._y\n",
    "    \n",
    "    \n",
    "    def _verify(self):\n",
    "        pass"
   ]
  },
  {
   "cell_type": "code",
   "execution_count": 6,
   "id": "734a79df",
   "metadata": {},
   "outputs": [],
   "source": [
    "class GenericDealer(object):\n",
    "    def __init__(self, t, n, field):\n",
    "        \"\"\"\n",
    "        Инициализация дилера для разделения секрета.\n",
    "        Генерация простого числа, поля и ключа.\n",
    "        \"\"\"\n",
    "        \n",
    "        self._field = field\n",
    "        self._t = t\n",
    "        self._n = n\n",
    "        self._key = self._field.random_element()\n",
    "        \n",
    "        self._coefs = []\n",
    "        self._values = []\n",
    "        \n",
    "        trace('[GenericDealer]', f't = {self._t}, n = {self._n}')\n",
    "        trace('[GenericDealer]', self._field)\n",
    "        trace('[GenericDealer]', f'key = {self._key}')\n",
    "    \n",
    "    \n",
    "    @property\n",
    "    def field(self):\n",
    "        \"\"\"\n",
    "        Получение поля.\n",
    "        \"\"\"\n",
    "        \n",
    "        return self._field\n",
    "    \n",
    "    \n",
    "    @property\n",
    "    def key(self):\n",
    "        \"\"\"\n",
    "        Получение ключа для проверки\n",
    "        \"\"\"\n",
    "        \n",
    "        return self._key\n",
    "    \n",
    "    \n",
    "    def _prepare_coefficients(self):\n",
    "        self._coefs  = [self._field.random_element() for _ in range(self._t - 1)]\n",
    "        \n",
    "        self._values = [self._key + sum([self._coefs[i] * x ^ (i + 1) for i in range(self._t - 1)]) \n",
    "                        for x in range(1, self._n + 1)]"
   ]
  },
  {
   "cell_type": "markdown",
   "id": "4aa5c0bb",
   "metadata": {},
   "source": [
    "----"
   ]
  },
  {
   "cell_type": "code",
   "execution_count": 7,
   "id": "6ef47d17",
   "metadata": {},
   "outputs": [],
   "source": [
    "def restore_secret_by_equation_system(field, participants: list[GenericParticipant]):\n",
    "    \"\"\"\n",
    "    Восстановление секрета путем решения системы уравнений.\n",
    "    \"\"\"\n",
    "    \n",
    "    equations = [p.equation for p in participants]\n",
    "    M = Matrix(field, [eq[0] for eq in equations])\n",
    "    v = vector(field, (eq[1] for eq in equations))\n",
    "    \n",
    "    return M.solve_right(v)[0]  # Нас интересует только первая переменная,\n",
    "                                # так как именно она является ключом"
   ]
  },
  {
   "cell_type": "code",
   "execution_count": 8,
   "id": "d4ecc887",
   "metadata": {},
   "outputs": [],
   "source": [
    "def restore_secret_by_lagrange_interpolation(participants: list[GenericParticipant]):\n",
    "    \"\"\"\n",
    "    Восстановление секрета путем интерполяции Лагранжа.\n",
    "    \"\"\"\n",
    "    \n",
    "    return sum([p1.y * prod([p2.x * (p2.x - p1.x).inverse_of_unit() \n",
    "                             for p2 in participants if p1 != p2])\n",
    "                for p1 in participants])"
   ]
  },
  {
   "cell_type": "markdown",
   "id": "11589f51",
   "metadata": {},
   "source": [
    "----"
   ]
  },
  {
   "cell_type": "markdown",
   "id": "f7d16b68",
   "metadata": {},
   "source": [
    "## Схема Шамира\n",
    "![Shamir scheme](./images/Shamir_1_5.png)\n",
    "![Shamir scheme](./images/Shamir_2_5.png)"
   ]
  },
  {
   "cell_type": "code",
   "execution_count": 9,
   "id": "cf6e182e",
   "metadata": {},
   "outputs": [],
   "source": [
    "class ShamirParticipant(GenericParticipant):\n",
    "    def __init__(self, x, y, t):\n",
    "        \"\"\"\n",
    "        Тут в целом все повторяет общий случай.\n",
    "        \"\"\"\n",
    "        \n",
    "        trace('[ShamirParticipant]', f'Initializing superclass...')\n",
    "        super(ShamirParticipant, self).__init__(x, y, t)"
   ]
  },
  {
   "cell_type": "code",
   "execution_count": 10,
   "id": "71f16878",
   "metadata": {},
   "outputs": [],
   "source": [
    "class ShamirDealer(GenericDealer):\n",
    "    def __init__(self, t, n):\n",
    "        \"\"\"\n",
    "        Инициализация дилера для разделения секрета.\n",
    "        Генерация простого числа, поля и ключа.\n",
    "        \"\"\"\n",
    "        \n",
    "        trace('[ShamirDealer]', f'Initializing superclass...')\n",
    "        super(ShamirDealer, self).__init__(t, n, GF(getStrongPrime(512)))\n",
    "        \n",
    "        \n",
    "    def split_key(self):\n",
    "        \"\"\"\n",
    "        Разделение секрета между участниками.\n",
    "        \"\"\"\n",
    "        \n",
    "        self._prepare_coefficients()\n",
    "        return [ShamirParticipant(self._field.gen() + i, self._values[i], self._t) \n",
    "                for i in range(self._n)]"
   ]
  },
  {
   "cell_type": "markdown",
   "id": "5548548a",
   "metadata": {},
   "source": [
    "----"
   ]
  },
  {
   "cell_type": "code",
   "execution_count": 11,
   "id": "139db064",
   "metadata": {},
   "outputs": [],
   "source": [
    "t, n = 3, 5"
   ]
  },
  {
   "cell_type": "code",
   "execution_count": 12,
   "id": "b1e53c7e",
   "metadata": {},
   "outputs": [
    {
     "name": "stdout",
     "output_type": "stream",
     "text": [
      "[TRACE] [ShamirDealer] Initializing superclass...\n",
      "[TRACE] [GenericDealer] t = 3, n = 5\n",
      "[TRACE] [GenericDealer] Finite Field of size 11551124262234329248847842442660167982987876083418225564905205197164453837366138976213540459405455278909534187848718780627701362424789259800122871653415833\n",
      "[TRACE] [GenericDealer] key = 1370112471679205040169219573574876467370713049141906927139497665855453769179749434231352960114824000458876033094922210383669679414226574267931823264220684\n"
     ]
    }
   ],
   "source": [
    "d = ShamirDealer(t, n)"
   ]
  },
  {
   "cell_type": "code",
   "execution_count": 13,
   "id": "0bb9a85a",
   "metadata": {},
   "outputs": [
    {
     "name": "stdout",
     "output_type": "stream",
     "text": [
      "[TRACE] [ShamirParticipant] Initializing superclass...\n",
      "[TRACE] [GenericParticipant] x = 1, y = 6103834010646811856880462285574665777669913254366200495714574548462744300516506796452655073112288705935381220747175867370646810821366812788043561924545683\n",
      "[TRACE] [ShamirParticipant] Initializing superclass...\n",
      "[TRACE] [GenericParticipant] x = 2, y = 1358225508329527597951109227964981426205582516449338176277083202720923454093520507597993896476242741516164601901670328806921710353374705844022380012574474\n",
      "[TRACE] [ShamirParticipant] Initializing superclass...\n",
      "[TRACE] [GenericParticipant] x = 3, y = 10235535489196010761076845286066159378953473002227771098637434022958898904643068520094450349017596665020294552255843155947897102859828773036114020835138723\n",
      "[TRACE] [ShamirParticipant] Initializing superclass...\n",
      "[TRACE] [GenericParticipant] x = 4, y = 9633515428777602848561985574557863669937832544865048132985216614847762977432872881514943511925439918628702696112256787538170263491150494764072741085406764\n",
      "[TRACE] [ShamirParticipant] Initializing superclass...\n",
      "[TRACE] [GenericParticipant] x = 5, y = 11103289589308633109254372536100262282146537227779394844225636175551969509829072568073013844605227781250923221319630004205442554672129130828021412416794430\n"
     ]
    }
   ],
   "source": [
    "participants = d.split_key()"
   ]
  },
  {
   "cell_type": "code",
   "execution_count": 14,
   "id": "196c4c57",
   "metadata": {},
   "outputs": [
    {
     "name": "stdout",
     "output_type": "stream",
     "text": [
      "Restored key = 1370112471679205040169219573574876467370713049141906927139497665855453769179749434231352960114824000458876033094922210383669679414226574267931823264220684\n",
      "Restored correctly: True\n"
     ]
    }
   ],
   "source": [
    "restored_key = restore_secret_by_equation_system(d.field, \n",
    "                                                 random.sample(participants, t))\n",
    "print(f'Restored key = {restored_key}')\n",
    "print(f'Restored correctly: {restored_key == d.key}')"
   ]
  },
  {
   "cell_type": "code",
   "execution_count": 15,
   "id": "ba6cac59",
   "metadata": {},
   "outputs": [
    {
     "name": "stdout",
     "output_type": "stream",
     "text": [
      "Restored key = 10849442512964096115809815343184350129134243992283062815152065894204565146939493085307316249748334670354597839592681405934371911289358919732064743836516892\n",
      "Restored correctly: False\n"
     ]
    }
   ],
   "source": [
    "false_key = restore_secret_by_equation_system(d.field, \n",
    "                                              random.sample(participants, t - 1))\n",
    "print(f'Restored key = {false_key}')\n",
    "print(f'Restored correctly: {false_key == d.key}')"
   ]
  },
  {
   "cell_type": "code",
   "execution_count": 16,
   "id": "f139e74a",
   "metadata": {},
   "outputs": [
    {
     "name": "stdout",
     "output_type": "stream",
     "text": [
      "Restored key = 1370112471679205040169219573574876467370713049141906927139497665855453769179749434231352960114824000458876033094922210383669679414226574267931823264220684\n",
      "Restored correctly: True\n"
     ]
    }
   ],
   "source": [
    "restored_key = restore_secret_by_lagrange_interpolation(random.sample(participants, t))\n",
    "print(f'Restored key = {restored_key}')\n",
    "print(f'Restored correctly: {restored_key == d.key}')"
   ]
  },
  {
   "cell_type": "code",
   "execution_count": 17,
   "id": "93d58503",
   "metadata": {},
   "outputs": [
    {
     "name": "stdout",
     "output_type": "stream",
     "text": [
      "Restored key = 10849442512964096115809815343184350129134243992283062815152065894204565146939493085307316249748334670354597839592681405934371911289358919732064743836516892\n",
      "Restored correctly: False\n"
     ]
    }
   ],
   "source": [
    "false_key = restore_secret_by_lagrange_interpolation(random.sample(participants, t - 1))\n",
    "print(f'Restored key = {false_key}')\n",
    "print(f'Restored correctly: {false_key == d.key}')"
   ]
  },
  {
   "cell_type": "markdown",
   "id": "87b839f1",
   "metadata": {},
   "source": [
    "---\n",
    "## Схема Фельдмана\n",
    "![Feldman scheme](./images/Feldman_5.png)"
   ]
  },
  {
   "cell_type": "code",
   "execution_count": 18,
   "id": "ab2c38bb",
   "metadata": {},
   "outputs": [],
   "source": [
    "class FeldmanParticipant(GenericParticipant):\n",
    "    def __init__(self, x, y, t, g, check_values):\n",
    "        \"\"\"\n",
    "        Тут в дополнение производится проверка.\n",
    "        \"\"\"\n",
    "        \n",
    "        self._g = g\n",
    "        self._check_values = check_values\n",
    "        \n",
    "        trace('[FeldmanParticipant]', f'Initializing superclass...')\n",
    "        super(FeldmanParticipant, self).__init__(x, y, t)\n",
    "        \n",
    "        \n",
    "    def _verify(self):\n",
    "        expected_value = self._g ^ self.y\n",
    "        value_to_check = prod([cv ^ (self.x ^ i) for i, cv in enumerate(self._check_values)])\n",
    "        \n",
    "        print(expected_value, value_to_check)\n",
    "        \n",
    "        if value_to_check != expected_value:\n",
    "            raise ValueError(f'Wrong value given to the participant with x = {self.x} and y = {self.y}')\n",
    "            \n",
    "        trace('[FeldmanParticipant]', 'Value verified')"
   ]
  },
  {
   "cell_type": "code",
   "execution_count": 19,
   "id": "d00ba0f7",
   "metadata": {},
   "outputs": [],
   "source": [
    "class FeldmanDealer(GenericDealer):\n",
    "    def __init__(self, t, n):\n",
    "        \"\"\"\n",
    "        \"\"\"\n",
    "        \n",
    "        self._p, self._q, self._g = FeldmanDealer._generate_parameters()\n",
    "        \n",
    "        trace('[FeldmanDealer]', f'Initializing superclass...')\n",
    "        super(FeldmanDealer, self).__init__(t, n, GF(self._q))\n",
    "        \n",
    "        trace('[FeldmanDealer]', f'p = {self._p}')\n",
    "        trace('[FeldmanDealer]', f'q = {self._q}')\n",
    "        trace('[FeldmanDealer]', f'g = {self._g}')\n",
    "        \n",
    "        \n",
    "    def split_key(self):\n",
    "        \"\"\"\n",
    "        Разделение секрета между участниками.\n",
    "        \"\"\"\n",
    "        \n",
    "        self._prepare_coefficients()\n",
    "        check_values = [self._g ^ c for c in [self._key] + self._coefs]\n",
    "        \n",
    "        return [FeldmanParticipant(self._field.gen() + i, self._values[i], self._t, self._g, check_values) \n",
    "                for i in range(self._n)]\n",
    "    \n",
    "    \n",
    "    @staticmethod\n",
    "    def _generate_parameters():\n",
    "        \"\"\"\n",
    "        Генерация параметров протокола (p, q, g).\n",
    "        \"\"\"\n",
    "        \n",
    "        Q_LENGTH = 160\n",
    "        P_LENGTH = 1024\n",
    "        \n",
    "        q = getPrime(Q_LENGTH)\n",
    "        p = random.getrandbits(P_LENGTH - Q_LENGTH) * q + 1\n",
    "        \n",
    "        while p not in Primes():\n",
    "            p = random.getrandbits(P_LENGTH - Q_LENGTH) * q + 1\n",
    "            \n",
    "        #\n",
    "        # Сгенерирую число, взаимно простое с p\n",
    "        #\n",
    "        \n",
    "        tmp = random.getrandbits(P_LENGTH)\n",
    "        while gcd(tmp, p) != 1:\n",
    "            tmp = random.getrandbits(P_LENGTH)\n",
    "        \n",
    "        #\n",
    "        # По малой теореме Ферма такой g будет иметь порядок q\n",
    "        #\n",
    "        \n",
    "        R = Integers(p)\n",
    "        g = R(tmp) ^ ((p - 1) // q)\n",
    "        \n",
    "        F = GF(p)\n",
    "        return p, q, F.gen() * g"
   ]
  },
  {
   "cell_type": "markdown",
   "id": "fe11d49e",
   "metadata": {},
   "source": [
    "----"
   ]
  },
  {
   "cell_type": "code",
   "execution_count": 20,
   "id": "fb9aa08f",
   "metadata": {},
   "outputs": [
    {
     "name": "stdout",
     "output_type": "stream",
     "text": [
      "[TRACE] [FeldmanDealer] Initializing superclass...\n",
      "[TRACE] [GenericDealer] t = 3, n = 5\n",
      "[TRACE] [GenericDealer] Finite Field of size 820782780864926425059895602166047911390729404919\n",
      "[TRACE] [GenericDealer] key = 545967487187649114657522052271307838137678561847\n",
      "[TRACE] [FeldmanDealer] p = 93685863382784788950029896779773484376180361628619798944210654492436536354603666880544563988245330669837076679498388000488783071715824223595461037589463089571636255087163184275658274889852601448295731176562087863038360326453015370552739475164174656954422473290966542031758918993385338090557863535562982588993\n",
      "[TRACE] [FeldmanDealer] q = 820782780864926425059895602166047911390729404919\n",
      "[TRACE] [FeldmanDealer] g = 75778554051904489008101245157840428268448902705063454067086482362116522668747098683546287705274757061675537221278838684723968500732609726086984594127360588871155677991606322465544930865358321608806643633828342995833527042640642417173843615219369355062301861991046746892701510788011226347360089905758580410415\n"
     ]
    }
   ],
   "source": [
    "d = FeldmanDealer(t, n)"
   ]
  },
  {
   "cell_type": "code",
   "execution_count": 21,
   "id": "df870c27",
   "metadata": {},
   "outputs": [
    {
     "name": "stdout",
     "output_type": "stream",
     "text": [
      "[TRACE] [FeldmanParticipant] Initializing superclass...\n",
      "[TRACE] [GenericParticipant] x = 1, y = 275986452892102295136854426234231765137397963458\n",
      "46528165770406409970423970204582716961786708761593960725642266943258703437708945867574311239221063812618590737510803470062839044679597118255383551524113534957695124139708550537826298497771296130176354481964710242316161983179058335932254562549814612087635397976391858920475330108529723307495986771163263982657 46528165770406409970423970204582716961786708761593960725642266943258703437708945867574311239221063812618590737510803470062839044679597118255383551524113534957695124139708550537826298497771296130176354481964710242316161983179058335932254562549814612087635397976391858920475330108529723307495986771163263982657\n",
      "[TRACE] [FeldmanParticipant] Value verified\n",
      "[TRACE] [FeldmanParticipant] Initializing superclass...\n",
      "[TRACE] [GenericParticipant] x = 2, y = 43375783875618723512234697061116310897932724822\n",
      "596585899898618147370173938289039904820433806738977627781960905870966592626976471561242516351934074636517230703713135976350229190610706985625807184106996841549337352410870698231537233961791473577399176414017052899770266822950013751394849948090508793262013230259866322998031054589873689383770304462699049642 596585899898618147370173938289039904820433806738977627781960905870966592626976471561242516351934074636517230703713135976350229190610706985625807184106996841549337352410870698231537233961791473577399176414017052899770266822950013751394849948090508793262013230259866322998031054589873689383770304462699049642\n",
      "[TRACE] [FeldmanParticipant] Value verified\n",
      "[TRACE] [FeldmanParticipant] Initializing superclass...\n",
      "[TRACE] [GenericParticipant] x = 3, y = 668918261003124824843558466918009386810012250858\n",
      "64822818735046688828206927874705672736326127304744204782472186093484876721338147360895751114112152051593762377582315657802627932258497224557503341756634150254193887807769314872792196203271799664311426766101911687638612852704568929341027349352694367593747281808032296175814770865231472901416872301112759610254 64822818735046688828206927874705672736326127304744204782472186093484876721338147360895751114112152051593762377582315657802627932258497224557503341756634150254193887807769314872792196203271799664311426766101911687638612852704568929341027349352694367593747281808032296175814770865231472901416872301112759610254\n",
      "[TRACE] [FeldmanParticipant] Value verified\n",
      "[TRACE] [FeldmanParticipant] Initializing superclass...\n",
      "[TRACE] [GenericParticipant] x = 4, y = 511048322544767749011034531472815170092177731728\n",
      "34849393371450564015394893071001739329215295619247588813176716953074857860897161423251200917571389127824886784883204606031489266413902282330262397542996963445363357937345856324365720414333344867949378233981546759307280549258838965365950955876313406222314033220571905717129991908831602796644294246261087334534 34849393371450564015394893071001739329215295619247588813176716953074857860897161423251200917571389127824886784883204606031489266413902282330262397542996963445363357937345856324365720414333344867949378233981546759307280549258838965365950955876313406222314033220571905717129991908831602796644294246261087334534\n",
      "[TRACE] [FeldmanParticipant] Value verified\n",
      "[TRACE] [FeldmanParticipant] Initializing superclass...\n",
      "[TRACE] [GenericParticipant] x = 5, y = 390548749365473921074558492891581572135158572351\n",
      "28272441145222460485939715299848997017782077095507636422369761036885604087193798335987086750634977460969456814505369793958129406720574666476329711161507307451225866122236643062012848146171388635017408128633783334583574661142723276713243421805920938184307463779813971503460586178671695282368265135570251336752 28272441145222460485939715299848997017782077095507636422369761036885604087193798335987086750634977460969456814505369793958129406720574666476329711161507307451225866122236643062012848146171388635017408128633783334583574661142723276713243421805920938184307463779813971503460586178671695282368265135570251336752\n",
      "[TRACE] [FeldmanParticipant] Value verified\n"
     ]
    }
   ],
   "source": [
    "participants = d.split_key()"
   ]
  },
  {
   "cell_type": "code",
   "execution_count": 22,
   "id": "284841e7",
   "metadata": {},
   "outputs": [
    {
     "name": "stdout",
     "output_type": "stream",
     "text": [
      "Restored key = 545967487187649114657522052271307838137678561847\n",
      "Restored correctly: True\n"
     ]
    }
   ],
   "source": [
    "restored_key = restore_secret_by_equation_system(d.field, \n",
    "                                                 random.sample(participants, t))\n",
    "print(f'Restored key = {restored_key}')\n",
    "print(f'Restored correctly: {restored_key == d.key}')"
   ]
  },
  {
   "cell_type": "code",
   "execution_count": 23,
   "id": "4c1a4089",
   "metadata": {},
   "outputs": [
    {
     "name": "stdout",
     "output_type": "stream",
     "text": [
      "Restored key = 172263834397016635697043083631701650529524964317\n",
      "Restored correctly: False\n"
     ]
    }
   ],
   "source": [
    "false_key = restore_secret_by_equation_system(d.field, \n",
    "                                              random.sample(participants, t - 1))\n",
    "print(f'Restored key = {false_key}')\n",
    "print(f'Restored correctly: {false_key == d.key}')"
   ]
  },
  {
   "cell_type": "code",
   "execution_count": 24,
   "id": "687b6747",
   "metadata": {},
   "outputs": [
    {
     "name": "stdout",
     "output_type": "stream",
     "text": [
      "Restored key = 545967487187649114657522052271307838137678561847\n",
      "Restored correctly: True\n"
     ]
    }
   ],
   "source": [
    "restored_key = restore_secret_by_lagrange_interpolation(random.sample(participants, t))\n",
    "print(f'Restored key = {restored_key}')\n",
    "print(f'Restored correctly: {restored_key == d.key}')"
   ]
  },
  {
   "cell_type": "code",
   "execution_count": 25,
   "id": "b5b51641",
   "metadata": {},
   "outputs": [
    {
     "name": "stdout",
     "output_type": "stream",
     "text": [
      "Restored key = 172263834397016635697043083631701650529524964317\n",
      "Restored correctly: False\n"
     ]
    }
   ],
   "source": [
    "false_key = restore_secret_by_lagrange_interpolation(random.sample(participants, t - 1))\n",
    "print(f'Restored key = {false_key}')\n",
    "print(f'Restored correctly: {false_key == d.key}')"
   ]
  },
  {
   "cell_type": "code",
   "execution_count": null,
   "id": "d58c07d9",
   "metadata": {},
   "outputs": [],
   "source": []
  }
 ],
 "metadata": {
  "kernelspec": {
   "display_name": "SageMath 9.5",
   "language": "sage",
   "name": "sagemath-9.5"
  },
  "language_info": {
   "codemirror_mode": {
    "name": "ipython",
    "version": 3
   },
   "file_extension": ".py",
   "mimetype": "text/x-python",
   "name": "python",
   "nbconvert_exporter": "python",
   "pygments_lexer": "ipython3",
   "version": "3.9.9"
  }
 },
 "nbformat": 4,
 "nbformat_minor": 5
}
