{
 "cells": [
  {
   "cell_type": "markdown",
   "id": "e2066a10",
   "metadata": {},
   "source": [
    "# Схемы разделения секрета"
   ]
  },
  {
   "cell_type": "code",
   "execution_count": 1,
   "id": "17112220",
   "metadata": {},
   "outputs": [],
   "source": [
    "IS_DEBUG = 1"
   ]
  },
  {
   "cell_type": "code",
   "execution_count": 2,
   "id": "6b736ee8",
   "metadata": {},
   "outputs": [],
   "source": [
    "def trace(*args, **kwargs):\n",
    "    \"\"\"\n",
    "    Отладочная трассировка\n",
    "    \"\"\"\n",
    "    \n",
    "    global IS_DEBUG\n",
    "    if IS_DEBUG:\n",
    "        print('[TRACE]', end=' ')\n",
    "        print(*args, **kwargs)"
   ]
  },
  {
   "cell_type": "markdown",
   "id": "6ae1da6d",
   "metadata": {},
   "source": [
    "---"
   ]
  },
  {
   "cell_type": "code",
   "execution_count": 3,
   "id": "9cf42209",
   "metadata": {},
   "outputs": [],
   "source": [
    "# Генерация простых чисел и КГПСЧ\n",
    "from Crypto.Util.number import getStrongPrime, getPrime\n",
    "from Crypto.Random import random\n",
    "\n",
    "# Утилитки\n",
    "from functools import reduce"
   ]
  },
  {
   "cell_type": "code",
   "execution_count": 4,
   "id": "17730b2f",
   "metadata": {},
   "outputs": [],
   "source": [
    "def prod(lst):\n",
    "    \"\"\"\n",
    "    Произведение всех элементов списка.\n",
    "    \"\"\"\n",
    "    \n",
    "    return reduce((lambda x, y: x * y), lst)"
   ]
  },
  {
   "cell_type": "markdown",
   "id": "dfd9fe18",
   "metadata": {},
   "source": [
    "----"
   ]
  },
  {
   "cell_type": "code",
   "execution_count": 5,
   "id": "31043a27",
   "metadata": {},
   "outputs": [],
   "source": [
    "class GenericParticipant(object):\n",
    "    def __init__(self, x, y, t):\n",
    "        \"\"\"\n",
    "        Инициализация участника разделения секрета.\n",
    "        Сохраняются х, у и t.\n",
    "        \"\"\"\n",
    "        \n",
    "        self._x = x\n",
    "        self._y = y\n",
    "        self._t = t\n",
    "        \n",
    "        trace('[GenericParticipant]', f'{x = }, {y = }')\n",
    "        self._verify()\n",
    "        \n",
    "        \n",
    "    def __eq__(self, other):\n",
    "        \"\"\"\n",
    "        Сравнение на равенство. Сравниваю по х - достаточно.\n",
    "        \"\"\"\n",
    "        \n",
    "        return self.x == other.x\n",
    "        \n",
    "        \n",
    "    @property\n",
    "    def x(self):\n",
    "        \"\"\"\n",
    "        Получение х.\n",
    "        \"\"\"\n",
    "        \n",
    "        return self._x\n",
    "    \n",
    "    \n",
    "    @property\n",
    "    def y(self):\n",
    "        \"\"\"\n",
    "        Получение у.\n",
    "        \"\"\"\n",
    "        \n",
    "        return self._y\n",
    "        \n",
    "        \n",
    "    @property\n",
    "    def equation(self):\n",
    "        \"\"\"\n",
    "        Получение соответствующего участнику уравнения.\n",
    "        \"\"\"\n",
    "        \n",
    "        return [1] + [self._x ^ i for i in range(1, self._t)], self._y\n",
    "    \n",
    "    \n",
    "    def _verify(self):\n",
    "        pass"
   ]
  },
  {
   "cell_type": "code",
   "execution_count": 6,
   "id": "734a79df",
   "metadata": {},
   "outputs": [],
   "source": [
    "class GenericDealer(object):\n",
    "    def __init__(self, t, n, field):\n",
    "        \"\"\"\n",
    "        Инициализация дилера для разделения секрета.\n",
    "        Генерация простого числа, поля и ключа.\n",
    "        \"\"\"\n",
    "        \n",
    "        self._field = field\n",
    "        self._t = t\n",
    "        self._n = n\n",
    "        self._key = self._field.random_element()\n",
    "        \n",
    "        self._coefs = []\n",
    "        self._values = []\n",
    "        \n",
    "        trace('[GenericDealer]', f't = {self._t}, n = {self._n}')\n",
    "        trace('[GenericDealer]', self._field)\n",
    "        trace('[GenericDealer]', f'key = {self._key}')\n",
    "    \n",
    "    \n",
    "    @property\n",
    "    def field(self):\n",
    "        \"\"\"\n",
    "        Получение поля.\n",
    "        \"\"\"\n",
    "        \n",
    "        return self._field\n",
    "    \n",
    "    \n",
    "    @property\n",
    "    def key(self):\n",
    "        \"\"\"\n",
    "        Получение ключа для проверки\n",
    "        \"\"\"\n",
    "        \n",
    "        return self._key\n",
    "    \n",
    "    \n",
    "    def _prepare_coefficients(self):\n",
    "        self._coefs  = [self._key] + [self._field.random_element() for _ in range(self._t - 1)]\n",
    "        \n",
    "        self._values = [sum([c * (x ^ i) for i, c in enumerate(self._coefs)]) \n",
    "                        for x in range(1, self._n + 1)]"
   ]
  },
  {
   "cell_type": "markdown",
   "id": "4aa5c0bb",
   "metadata": {},
   "source": [
    "----"
   ]
  },
  {
   "cell_type": "code",
   "execution_count": 7,
   "id": "6ef47d17",
   "metadata": {},
   "outputs": [],
   "source": [
    "def restore_secret_by_equation_system(field, participants: list[GenericParticipant]):\n",
    "    \"\"\"\n",
    "    Восстановление секрета путем решения системы уравнений.\n",
    "    \"\"\"\n",
    "    \n",
    "    equations = [p.equation for p in participants]\n",
    "    M = Matrix(field, [eq[0] for eq in equations])\n",
    "    v = vector(field, (eq[1] for eq in equations))\n",
    "    \n",
    "    return M.solve_right(v)[0]  # Нас интересует только первая переменная,\n",
    "                                # так как именно она является ключом"
   ]
  },
  {
   "cell_type": "code",
   "execution_count": 8,
   "id": "d4ecc887",
   "metadata": {},
   "outputs": [],
   "source": [
    "def restore_secret_by_lagrange_interpolation(participants: list[GenericParticipant]):\n",
    "    \"\"\"\n",
    "    Восстановление секрета путем интерполяции Лагранжа.\n",
    "    \"\"\"\n",
    "    \n",
    "    return sum([p1.y * prod([p2.x * (p2.x - p1.x).inverse_of_unit() \n",
    "                             for p2 in participants if p1 != p2])\n",
    "                for p1 in participants])"
   ]
  },
  {
   "cell_type": "markdown",
   "id": "11589f51",
   "metadata": {},
   "source": [
    "----"
   ]
  },
  {
   "cell_type": "markdown",
   "id": "f7d16b68",
   "metadata": {},
   "source": [
    "## Схема Шамира\n",
    "![Shamir scheme](./images/Shamir_1_5.png)\n",
    "![Shamir scheme](./images/Shamir_2_5.png)"
   ]
  },
  {
   "cell_type": "code",
   "execution_count": 9,
   "id": "cf6e182e",
   "metadata": {},
   "outputs": [],
   "source": [
    "class ShamirParticipant(GenericParticipant):\n",
    "    def __init__(self, x, y, t):\n",
    "        \"\"\"\n",
    "        Тут в целом все повторяет общий случай.\n",
    "        \"\"\"\n",
    "        \n",
    "        trace('[ShamirParticipant]', f'Initializing superclass...')\n",
    "        super(ShamirParticipant, self).__init__(x, y, t)"
   ]
  },
  {
   "cell_type": "code",
   "execution_count": 10,
   "id": "71f16878",
   "metadata": {},
   "outputs": [],
   "source": [
    "class ShamirDealer(GenericDealer):\n",
    "    def __init__(self, t, n):\n",
    "        \"\"\"\n",
    "        Тут в целом все повторяет общий случай.\n",
    "        \"\"\"\n",
    "        \n",
    "        trace('[ShamirDealer]', f'Initializing superclass...')\n",
    "        super(ShamirDealer, self).__init__(t, n, GF(getStrongPrime(512)))\n",
    "        \n",
    "        \n",
    "    def split_key(self):\n",
    "        \"\"\"\n",
    "        Разделение секрета между участниками.\n",
    "        \"\"\"\n",
    "        \n",
    "        self._prepare_coefficients()\n",
    "        return [ShamirParticipant(self._field.gen() + i, self._values[i], self._t) \n",
    "                for i in range(self._n)]"
   ]
  },
  {
   "cell_type": "markdown",
   "id": "5548548a",
   "metadata": {},
   "source": [
    "----"
   ]
  },
  {
   "cell_type": "code",
   "execution_count": 11,
   "id": "139db064",
   "metadata": {},
   "outputs": [],
   "source": [
    "t, n = 3, 5"
   ]
  },
  {
   "cell_type": "code",
   "execution_count": 12,
   "id": "b1e53c7e",
   "metadata": {},
   "outputs": [
    {
     "name": "stdout",
     "output_type": "stream",
     "text": [
      "[TRACE] [ShamirDealer] Initializing superclass...\n",
      "[TRACE] [GenericDealer] t = 3, n = 5\n",
      "[TRACE] [GenericDealer] Finite Field of size 9778393920576867982535082311225726265560446420199908331972011468402413378132141050255094630791428833198702738213652692814796997564048504240340046027664521\n",
      "[TRACE] [GenericDealer] key = 2213008301928449335740441386821284495531294779844536250076400954514382313540034021437361552052214173416757055100779143379146076181278977001942155686439456\n"
     ]
    }
   ],
   "source": [
    "d = ShamirDealer(t, n)"
   ]
  },
  {
   "cell_type": "code",
   "execution_count": 13,
   "id": "0bb9a85a",
   "metadata": {},
   "outputs": [
    {
     "name": "stdout",
     "output_type": "stream",
     "text": [
      "[TRACE] [ShamirParticipant] Initializing superclass...\n",
      "[TRACE] [GenericParticipant] x = 1, y = 7016032690566348604141970484309753752929082449333699476027373187671808794629047244800616975815902264176711347293708023622834725130372624063441009124493253\n",
      "[TRACE] [ShamirParticipant] Initializing superclass...\n",
      "[TRACE] [GenericParticipant] x = 2, y = 6170148588060527141866417490972948204196899113131905163707440896301890664974166107644276003911438327961490508636363501603356982715766963131734274921057144\n",
      "[TRACE] [ShamirParticipant] Initializing superclass...\n",
      "[TRACE] [GenericParticipant] x = 3, y = 9453749914987852931448864718036594114895191191439061645088615548807041302707531660223433267130251197969797277342398270135509846501510498447161999103795650\n",
      "[TRACE] [ShamirParticipant] Initializing superclass...\n",
      "[TRACE] [GenericParticipant] x = 4, y = 7088442750771457990354229854274965219463512264055260588198885676784847329697002852282994134680912041002928915198159636404496318923554725769384135645044250\n",
      "[TRACE] [ShamirParticipant] Initializing superclass...\n",
      "[TRACE] [GenericParticipant] x = 5, y = 8852621015988210301117595210913787783462308751180410325010262748637722124074720734078053237354849690259588160417300293225113397545948149338740730572467465\n"
     ]
    }
   ],
   "source": [
    "participants = d.split_key()"
   ]
  },
  {
   "cell_type": "code",
   "execution_count": 14,
   "id": "196c4c57",
   "metadata": {},
   "outputs": [
    {
     "name": "stdout",
     "output_type": "stream",
     "text": [
      "Restored key = 2213008301928449335740441386821284495531294779844536250076400954514382313540034021437361552052214173416757055100779143379146076181278977001942155686439456\n",
      "Restored correctly: True\n"
     ]
    }
   ],
   "source": [
    "restored_key = restore_secret_by_equation_system(d.field, \n",
    "                                                 random.sample(participants, t))\n",
    "print(f'Restored key = {restored_key}')\n",
    "print(f'Restored correctly: {restored_key == d.key}')"
   ]
  },
  {
   "cell_type": "code",
   "execution_count": 15,
   "id": "ba6cac59",
   "metadata": {},
   "outputs": [
    {
     "name": "stdout",
     "output_type": "stream",
     "text": [
      "Restored key = 6771277487060169772197686998095754535629781553390556483785793696471209843606977033789656033686839835671699625561461478513753431671329312240155543452385329\n",
      "Restored correctly: False\n"
     ]
    }
   ],
   "source": [
    "false_key = restore_secret_by_equation_system(d.field, \n",
    "                                              random.sample(participants, t - 1))\n",
    "print(f'Restored key = {false_key}')\n",
    "print(f'Restored correctly: {false_key == d.key}')"
   ]
  },
  {
   "cell_type": "code",
   "execution_count": 16,
   "id": "f139e74a",
   "metadata": {},
   "outputs": [
    {
     "name": "stdout",
     "output_type": "stream",
     "text": [
      "Restored key = 2213008301928449335740441386821284495531294779844536250076400954514382313540034021437361552052214173416757055100779143379146076181278977001942155686439456\n",
      "Restored correctly: True\n"
     ]
    }
   ],
   "source": [
    "restored_key = restore_secret_by_lagrange_interpolation(random.sample(participants, t))\n",
    "print(f'Restored key = {restored_key}')\n",
    "print(f'Restored correctly: {restored_key == d.key}')"
   ]
  },
  {
   "cell_type": "code",
   "execution_count": 17,
   "id": "93d58503",
   "metadata": {},
   "outputs": [
    {
     "name": "stdout",
     "output_type": "stream",
     "text": [
      "Restored key = 3732431363639022814559523257246107842230790371026542994646198535166658156895681692221459712597089394168404578587673255090681861344629088748013284941754747\n",
      "Restored correctly: False\n"
     ]
    }
   ],
   "source": [
    "false_key = restore_secret_by_lagrange_interpolation(random.sample(participants, t - 1))\n",
    "print(f'Restored key = {false_key}')\n",
    "print(f'Restored correctly: {false_key == d.key}')"
   ]
  },
  {
   "cell_type": "markdown",
   "id": "87b839f1",
   "metadata": {},
   "source": [
    "---\n",
    "## Схема Фельдмана\n",
    "![Feldman scheme](./images/Feldman_5.png)"
   ]
  },
  {
   "cell_type": "code",
   "execution_count": 18,
   "id": "ab2c38bb",
   "metadata": {},
   "outputs": [],
   "source": [
    "class FeldmanParticipant(GenericParticipant):\n",
    "    def __init__(self, x, y, t, g, check_values):\n",
    "        \"\"\"\n",
    "        Тут в дополнение сохраняется генератор и проверочные значения.\n",
    "        \"\"\"\n",
    "        \n",
    "        self._g = g\n",
    "        self._check_values = check_values\n",
    "        \n",
    "        trace('[FeldmanParticipant]', f'Initializing superclass...')\n",
    "        super(FeldmanParticipant, self).__init__(x, y, t)\n",
    "        \n",
    "        \n",
    "    def _verify(self):\n",
    "        expected_value = self._g ^ self.y\n",
    "        value_to_check = prod([cv ^ (self.x ^ i) for i, cv in enumerate(self._check_values)])\n",
    "        \n",
    "        if value_to_check != expected_value:\n",
    "            raise ValueError(f'Wrong value given to the participant with x = {self.x} and y = {self.y}')\n",
    "            \n",
    "        trace('[FeldmanParticipant]', 'Value verified')"
   ]
  },
  {
   "cell_type": "code",
   "execution_count": 19,
   "id": "d00ba0f7",
   "metadata": {},
   "outputs": [],
   "source": [
    "class FeldmanDealer(GenericDealer):\n",
    "    def __init__(self, t, n):\n",
    "        \"\"\"\n",
    "        В дополнение генерируются p, q, g.\n",
    "        \"\"\"\n",
    "        \n",
    "        self._p, self._q, self._g = FeldmanDealer._generate_parameters()\n",
    "        \n",
    "        trace('[FeldmanDealer]', f'Initializing superclass...')\n",
    "        super(FeldmanDealer, self).__init__(t, n, GF(self._q))\n",
    "        \n",
    "        trace('[FeldmanDealer]', f'p = {self._p}')\n",
    "        trace('[FeldmanDealer]', f'q = {self._q}')\n",
    "        trace('[FeldmanDealer]', f'g = {self._g}')\n",
    "        \n",
    "        \n",
    "    def split_key(self):\n",
    "        \"\"\"\n",
    "        Разделение секрета между участниками.\n",
    "        \"\"\"\n",
    "        \n",
    "        self._prepare_coefficients()\n",
    "        check_values = [self._g ^ c for c in self._coefs]\n",
    "        \n",
    "        return [FeldmanParticipant(self._field.gen() + i, self._values[i], self._t, self._g, check_values) \n",
    "                for i in range(self._n)]\n",
    "    \n",
    "    \n",
    "    @staticmethod\n",
    "    def _generate_parameters():\n",
    "        def _generate_special_group_element(p, q):\n",
    "            #\n",
    "            # Сгенерирую число, взаимно простое с p\n",
    "            #\n",
    "\n",
    "            tmp = random.getrandbits(P_LENGTH)\n",
    "            while gcd(tmp, p) != 1:\n",
    "                tmp = random.getrandbits(P_LENGTH)\n",
    "\n",
    "            #\n",
    "            # По малой теореме Ферма такой g будет иметь порядок q\n",
    "            #\n",
    "\n",
    "            F = GF(p)\n",
    "            return F(tmp) ^ ((p - 1) // q)\n",
    "        \n",
    "        Q_LENGTH = 160\n",
    "        P_LENGTH = 1024\n",
    "        \n",
    "        q = getPrime(Q_LENGTH)\n",
    "        p = random.getrandbits(P_LENGTH - Q_LENGTH) * q + 1\n",
    "        \n",
    "        while p not in Primes():\n",
    "            p = random.getrandbits(P_LENGTH - Q_LENGTH) * q + 1\n",
    "        \n",
    "        return p, q, _generate_special_group_element(p, q)"
   ]
  },
  {
   "cell_type": "markdown",
   "id": "fe11d49e",
   "metadata": {},
   "source": [
    "----"
   ]
  },
  {
   "cell_type": "code",
   "execution_count": 20,
   "id": "fb9aa08f",
   "metadata": {},
   "outputs": [
    {
     "name": "stdout",
     "output_type": "stream",
     "text": [
      "[TRACE] [FeldmanDealer] Initializing superclass...\n",
      "[TRACE] [GenericDealer] t = 3, n = 5\n",
      "[TRACE] [GenericDealer] Finite Field of size 844175308291386721997669056681453504624159594643\n",
      "[TRACE] [GenericDealer] key = 310582981463741321283155758674130692920414193319\n",
      "[TRACE] [FeldmanDealer] p = 5342564523473778076097614045464127961510971451588151575366422381820584049986294446856639169693224786723900195830998509742816049361392999985848602081892923357831960611158022714024808468041034911651476824591629640732989232070602028731658691056659872235479768967924044832294228914870955896800626544374397337061\n",
      "[TRACE] [FeldmanDealer] q = 844175308291386721997669056681453504624159594643\n",
      "[TRACE] [FeldmanDealer] g = 2271865053372486842040576747804357694462665707246798419083768291719871678655362746863507020456061317773452115536881700053107502494718255442567538412408929543151003412958116370760002387415394005711520776621397436644612941675348897419196579160691950460793263708299828472466162768604526941475846360823397585278\n"
     ]
    }
   ],
   "source": [
    "d = FeldmanDealer(t, n)"
   ]
  },
  {
   "cell_type": "code",
   "execution_count": 21,
   "id": "df870c27",
   "metadata": {},
   "outputs": [
    {
     "name": "stdout",
     "output_type": "stream",
     "text": [
      "[TRACE] [FeldmanParticipant] Initializing superclass...\n",
      "[TRACE] [GenericParticipant] x = 1, y = 726879750193333882049191461651633308158381400349\n",
      "[TRACE] [FeldmanParticipant] Value verified\n",
      "[TRACE] [FeldmanParticipant] Initializing superclass...\n",
      "[TRACE] [GenericParticipant] x = 2, y = 711663307822942861249458636064448110588736462375\n",
      "[TRACE] [FeldmanParticipant] Value verified\n",
      "[TRACE] [FeldmanParticipant] Initializing superclass...\n",
      "[TRACE] [GenericParticipant] x = 3, y = 264933654352568258883957281912575100211479379397\n",
      "[TRACE] [FeldmanParticipant] Value verified\n",
      "[TRACE] [FeldmanParticipant] Initializing superclass...\n",
      "[TRACE] [GenericParticipant] x = 4, y = 230866098073596796950356455877467781650769746058\n",
      "[TRACE] [FeldmanParticipant] Value verified\n",
      "[TRACE] [FeldmanParticipant] Initializing superclass...\n",
      "[TRACE] [GenericParticipant] x = 5, y = 609460638986028475448656157959126154906607562358\n",
      "[TRACE] [FeldmanParticipant] Value verified\n"
     ]
    }
   ],
   "source": [
    "participants = d.split_key()"
   ]
  },
  {
   "cell_type": "code",
   "execution_count": 22,
   "id": "284841e7",
   "metadata": {},
   "outputs": [
    {
     "name": "stdout",
     "output_type": "stream",
     "text": [
      "Restored key = 310582981463741321283155758674130692920414193319\n",
      "Restored correctly: True\n"
     ]
    }
   ],
   "source": [
    "restored_key = restore_secret_by_equation_system(d.field, \n",
    "                                                 random.sample(participants, t))\n",
    "print(f'Restored key = {restored_key}')\n",
    "print(f'Restored correctly: {restored_key == d.key}')"
   ]
  },
  {
   "cell_type": "code",
   "execution_count": 23,
   "id": "4c1a4089",
   "metadata": {},
   "outputs": [
    {
     "name": "stdout",
     "output_type": "stream",
     "text": [
      "Restored key = 113677489822329971634139494839708907507672816182\n",
      "Restored correctly: False\n"
     ]
    }
   ],
   "source": [
    "false_key = restore_secret_by_equation_system(d.field, \n",
    "                                              random.sample(participants, t - 1))\n",
    "print(f'Restored key = {false_key}')\n",
    "print(f'Restored correctly: {false_key == d.key}')"
   ]
  },
  {
   "cell_type": "code",
   "execution_count": 24,
   "id": "687b6747",
   "metadata": {},
   "outputs": [
    {
     "name": "stdout",
     "output_type": "stream",
     "text": [
      "Restored key = 310582981463741321283155758674130692920414193319\n",
      "Restored correctly: True\n"
     ]
    }
   ],
   "source": [
    "restored_key = restore_secret_by_lagrange_interpolation(random.sample(participants, t))\n",
    "print(f'Restored key = {restored_key}')\n",
    "print(f'Restored correctly: {restored_key == d.key}')"
   ]
  },
  {
   "cell_type": "code",
   "execution_count": 25,
   "id": "b5b51641",
   "metadata": {},
   "outputs": [
    {
     "name": "stdout",
     "output_type": "stream",
     "text": [
      "Restored key = 367136323189482644684759760017897055893608279414\n",
      "Restored correctly: False\n"
     ]
    }
   ],
   "source": [
    "false_key = restore_secret_by_lagrange_interpolation(random.sample(participants, t - 1))\n",
    "print(f'Restored key = {false_key}')\n",
    "print(f'Restored correctly: {false_key == d.key}')"
   ]
  },
  {
   "cell_type": "markdown",
   "id": "34977a2b",
   "metadata": {},
   "source": [
    "----\n",
    "## Схема Педерсена\n",
    "![Pedersen scheme](./images/Pedersen_5.png)"
   ]
  },
  {
   "cell_type": "code",
   "execution_count": 26,
   "id": "486ae2a9",
   "metadata": {},
   "outputs": [],
   "source": [
    "class PedersenParticipant(GenericParticipant):\n",
    "    def __init__(self, i, u, w, g, h, t, check_values):\n",
    "        \"\"\"\n",
    "        Инициализация участника разделения секрета.\n",
    "        Сохраняются проверочные значения и элементы группы GF*(p)\n",
    "        \"\"\"\n",
    "        \n",
    "        self._g, self._h = g, h\n",
    "        self._w = w\n",
    "        self._check_values = check_values\n",
    "        \n",
    "        trace('[PedersenParticipant]', f'Initializing superclass...')\n",
    "        super(PedersenParticipant, self).__init__(i, u, t)\n",
    "        \n",
    "    \n",
    "    def _verify(self):\n",
    "        expected_value = (self._g ^ self.y) * (self._h ^ self._w)\n",
    "        value_to_check = prod([cv ^ (self.x ^ i) for i, cv in enumerate(self._check_values)])\n",
    "        \n",
    "        if value_to_check != expected_value:\n",
    "            raise ValueError(f'Wrong value given to the participant with i = {self.x}')\n",
    "            \n",
    "        trace('[PedersenParticipant]', 'Value verified')"
   ]
  },
  {
   "cell_type": "code",
   "execution_count": 27,
   "id": "8e107823",
   "metadata": {},
   "outputs": [],
   "source": [
    "class PedersenDealer(GenericDealer):\n",
    "    def __init__(self, t, n):\n",
    "        \"\"\"\n",
    "        В дополнение к общему случаю генерируются 4 параметра: p, q, g и h.\n",
    "        \"\"\"\n",
    "        \n",
    "        self._p, self._q, self._g, self._h = PedersenDealer._generate_parameters()\n",
    "        self._gammas = []\n",
    "        \n",
    "        trace('[PedersenDealer]', f'Initializing superclass...')\n",
    "        super(PedersenDealer, self).__init__(t, n, GF(self._q))\n",
    "        \n",
    "        trace('[PedersenDealer]', f'p = {self._p}')\n",
    "        trace('[PedersenDealer]', f'q = {self._q}')\n",
    "        trace('[PedersenDealer]', f'g = {self._g}')\n",
    "        trace('[PedersenDealer]', f'h = {self._h}')\n",
    "        \n",
    "        \n",
    "    def split_key(self):\n",
    "        \"\"\"\n",
    "        Разделение секрета между участниками.\n",
    "        \"\"\"\n",
    "        \n",
    "        self._prepare_coefficients()\n",
    "        self._gammas = [self._field.random_element() for _ in range(t)]\n",
    "        \n",
    "        check_values = [(self._g ^ d) * (self._h ^ g)\n",
    "                        for d, g in zip(self._coefs, self._gammas)]\n",
    "        \n",
    "        return [PedersenParticipant(self._field.gen() + i, u, self._w(i + 1),\n",
    "                                    self._g, self._h, self._t, check_values) \n",
    "                for i, u in enumerate(self._values)]\n",
    "    \n",
    "    \n",
    "    def _w(self, z):\n",
    "        return sum([g * (z ^ i) for i, g in enumerate(self._gammas)])\n",
    "    \n",
    "    \n",
    "    @staticmethod\n",
    "    def _generate_parameters():\n",
    "        def _generate_special_group_element(p, q):\n",
    "            #\n",
    "            # Сгенерирую число, взаимно простое с p\n",
    "            #\n",
    "\n",
    "            tmp = random.getrandbits(P_LENGTH)\n",
    "            while gcd(tmp, p) != 1:\n",
    "                tmp = random.getrandbits(P_LENGTH)\n",
    "\n",
    "            #\n",
    "            # По малой теореме Ферма такой g будет иметь порядок q\n",
    "            #\n",
    "\n",
    "            F = GF(p)\n",
    "            return F(tmp) ^ ((p - 1) // q)\n",
    "        \n",
    "        Q_LENGTH = 160\n",
    "        P_LENGTH = 1024\n",
    "        \n",
    "        q = getPrime(Q_LENGTH)\n",
    "        p = random.getrandbits(P_LENGTH - Q_LENGTH) * q + 1\n",
    "        \n",
    "        while p not in Primes():\n",
    "            p = random.getrandbits(P_LENGTH - Q_LENGTH) * q + 1\n",
    "            \n",
    "        g = _generate_special_group_element(p, q)\n",
    "        h = _generate_special_group_element(p, q)\n",
    "        \n",
    "        while g == h:\n",
    "            h = _generate_special_group_element(p, q)\n",
    "            \n",
    "        return p, q, g, h"
   ]
  },
  {
   "cell_type": "markdown",
   "id": "46777cf8",
   "metadata": {},
   "source": [
    "-----"
   ]
  },
  {
   "cell_type": "code",
   "execution_count": 28,
   "id": "58fe62b6",
   "metadata": {},
   "outputs": [
    {
     "name": "stdout",
     "output_type": "stream",
     "text": [
      "[TRACE] [PedersenDealer] Initializing superclass...\n",
      "[TRACE] [GenericDealer] t = 3, n = 5\n",
      "[TRACE] [GenericDealer] Finite Field of size 1375548585247874962230554118958243704554375800957\n",
      "[TRACE] [GenericDealer] key = 979739116694319991991538647863318441211638048739\n",
      "[TRACE] [PedersenDealer] p = 77258409401018966521064626681456795039325202444663949482223836932198143997162294174177095218623355956813019273364948949980363204259259833902826661933906552196115383977494031231885771580914028676522932428762596522582972444117289605413625253532447022375511610047481158692319506786706535734590546023091627887477\n",
      "[TRACE] [PedersenDealer] q = 1375548585247874962230554118958243704554375800957\n",
      "[TRACE] [PedersenDealer] g = 48779583899677958053274217545170519004471493545730540926728560013379241292896906635981037617232252010530609423734588421171550951600323344839661235990647641144157218738924614788277465920101618638767742227884663453934144381424882797710124590048749628045507390539324179128979140554691502459586680562514482503828\n",
      "[TRACE] [PedersenDealer] h = 59984832023780082243429892395071336548380510694703125717382427445804022717420902975437566217281115250323246461666183746930840838257751281152325035614270862781777006012080156588679764926530913679069203265650269793103425500569573282703151875460689437213740153154302674073460767739355526823133539435780340305710\n"
     ]
    }
   ],
   "source": [
    "d = PedersenDealer(t, n)"
   ]
  },
  {
   "cell_type": "code",
   "execution_count": 29,
   "id": "3ca5b6ff",
   "metadata": {},
   "outputs": [
    {
     "name": "stdout",
     "output_type": "stream",
     "text": [
      "[TRACE] [PedersenParticipant] Initializing superclass...\n",
      "[TRACE] [GenericParticipant] x = 1, y = 1342672357092746945230589248178869187182977247320\n",
      "[TRACE] [PedersenParticipant] Value verified\n",
      "[TRACE] [PedersenParticipant] Initializing superclass...\n",
      "[TRACE] [GenericParticipant] x = 2, y = 488979298767849806103744885750058024870431104352\n",
      "[TRACE] [PedersenParticipant] Value verified\n",
      "[TRACE] [PedersenParticipant] Initializing superclass...\n",
      "[TRACE] [GenericParticipant] x = 3, y = 1169757112215378499072113798493372363382751221749\n",
      "[TRACE] [PedersenParticipant] Value verified\n",
      "[TRACE] [PedersenParticipant] Initializing superclass...\n",
      "[TRACE] [GenericParticipant] x = 4, y = 633908626939583099674587748492324793611185997597\n",
      "[TRACE] [PedersenParticipant] Value verified\n",
      "[TRACE] [PedersenParticipant] Initializing superclass...\n",
      "[TRACE] [GenericParticipant] x = 5, y = 256982428188338570141720854705159020110111232853\n",
      "[TRACE] [PedersenParticipant] Value verified\n"
     ]
    }
   ],
   "source": [
    "participants = d.split_key()"
   ]
  },
  {
   "cell_type": "code",
   "execution_count": 30,
   "id": "4993cb0d",
   "metadata": {},
   "outputs": [
    {
     "name": "stdout",
     "output_type": "stream",
     "text": [
      "Restored key = 979739116694319991991538647863318441211638048739\n",
      "Restored correctly: True\n"
     ]
    }
   ],
   "source": [
    "restored_key = restore_secret_by_equation_system(d.field, \n",
    "                                                 random.sample(participants, t))\n",
    "print(f'Restored key = {restored_key}')\n",
    "print(f'Restored correctly: {restored_key == d.key}')"
   ]
  },
  {
   "cell_type": "code",
   "execution_count": 31,
   "id": "a324f53a",
   "metadata": {},
   "outputs": [
    {
     "name": "stdout",
     "output_type": "stream",
     "text": [
      "Restored key = 1163370553008063430237149095217448673737335404136\n",
      "Restored correctly: False\n"
     ]
    }
   ],
   "source": [
    "false_key = restore_secret_by_equation_system(d.field, \n",
    "                                              random.sample(participants, t - 1))\n",
    "print(f'Restored key = {false_key}')\n",
    "print(f'Restored correctly: {false_key == d.key}')"
   ]
  },
  {
   "cell_type": "code",
   "execution_count": 32,
   "id": "9410e1d4",
   "metadata": {},
   "outputs": [
    {
     "name": "stdout",
     "output_type": "stream",
     "text": [
      "Restored key = 979739116694319991991538647863318441211638048739\n",
      "Restored correctly: True\n"
     ]
    }
   ],
   "source": [
    "restored_key = restore_secret_by_lagrange_interpolation(random.sample(participants, t))\n",
    "print(f'Restored key = {restored_key}')\n",
    "print(f'Restored correctly: {restored_key == d.key}')"
   ]
  },
  {
   "cell_type": "code",
   "execution_count": 33,
   "id": "54e5ed56",
   "metadata": {},
   "outputs": [
    {
     "name": "stdout",
     "output_type": "stream",
     "text": [
      "Restored key = 1163370553008063430237149095217448673737335404136\n",
      "Restored correctly: False\n"
     ]
    }
   ],
   "source": [
    "false_key = restore_secret_by_lagrange_interpolation(random.sample(participants, t - 1))\n",
    "print(f'Restored key = {false_key}')\n",
    "print(f'Restored correctly: {false_key == d.key}')"
   ]
  },
  {
   "cell_type": "code",
   "execution_count": null,
   "id": "5bf3d816",
   "metadata": {},
   "outputs": [],
   "source": []
  }
 ],
 "metadata": {
  "kernelspec": {
   "display_name": "SageMath 9.5",
   "language": "sage",
   "name": "sagemath-9.5"
  },
  "language_info": {
   "codemirror_mode": {
    "name": "ipython",
    "version": 3
   },
   "file_extension": ".py",
   "mimetype": "text/x-python",
   "name": "python",
   "nbconvert_exporter": "python",
   "pygments_lexer": "ipython3",
   "version": "3.9.9"
  }
 },
 "nbformat": 4,
 "nbformat_minor": 5
}
