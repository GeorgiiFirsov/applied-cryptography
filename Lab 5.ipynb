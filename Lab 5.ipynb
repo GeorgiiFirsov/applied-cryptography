{
 "cells": [
  {
   "cell_type": "markdown",
   "id": "747e59ba",
   "metadata": {},
   "source": [
    "# Схемы разделения секрета"
   ]
  },
  {
   "cell_type": "code",
   "execution_count": 1,
   "id": "3c3dd13a",
   "metadata": {},
   "outputs": [],
   "source": [
    "IS_DEBUG = 1"
   ]
  },
  {
   "cell_type": "code",
   "execution_count": 2,
   "id": "4ec97b7d",
   "metadata": {},
   "outputs": [],
   "source": [
    "def trace(*args, **kwargs):\n",
    "    \"\"\"\n",
    "    Отладочная трассировка\n",
    "    \"\"\"\n",
    "    \n",
    "    global IS_DEBUG\n",
    "    if IS_DEBUG:\n",
    "        print('[TRACE]', end=' ')\n",
    "        print(*args, **kwargs)"
   ]
  },
  {
   "cell_type": "markdown",
   "id": "1ad857f9",
   "metadata": {},
   "source": [
    "---"
   ]
  },
  {
   "cell_type": "code",
   "execution_count": 3,
   "id": "5ebc1689",
   "metadata": {},
   "outputs": [],
   "source": [
    "# Генерация простых чисел и КГПСЧ\n",
    "from Crypto.Util.number import getStrongPrime\n",
    "\n",
    "# Обычный рандом\n",
    "import random\n",
    "\n",
    "# Утилитки\n",
    "from functools import reduce"
   ]
  },
  {
   "cell_type": "markdown",
   "id": "64e9c68e",
   "metadata": {},
   "source": [
    "----"
   ]
  },
  {
   "cell_type": "markdown",
   "id": "fa965050",
   "metadata": {},
   "source": [
    "## Схема Шамира\n",
    "![Shamir scheme](./images/Shamir_1_5.png)\n",
    "![Shamir scheme](./images/Shamir_2_5.png)"
   ]
  },
  {
   "cell_type": "code",
   "execution_count": 4,
   "id": "dc654e24",
   "metadata": {},
   "outputs": [],
   "source": [
    "class ShamirParticipant(object):\n",
    "    def __init__(self, x, y, t):\n",
    "        \"\"\"\n",
    "        Инициализация участника разделения секрета.\n",
    "        Сохраняются х, у и t.\n",
    "        \"\"\"\n",
    "        \n",
    "        self._x = x\n",
    "        self._y = y\n",
    "        self._t = t\n",
    "        \n",
    "        trace('[ShamirParticipant]', f'{x = }, {y = }')\n",
    "        \n",
    "    def __eq__(self, other):\n",
    "        \"\"\"\n",
    "        Сравнение на равенство. Сравниваю по х - достаточно.\n",
    "        \"\"\"\n",
    "        \n",
    "        return self.x == other.x\n",
    "        \n",
    "    @property\n",
    "    def x(self):\n",
    "        \"\"\"\n",
    "        Получение х.\n",
    "        \"\"\"\n",
    "        \n",
    "        return self._x\n",
    "    \n",
    "    \n",
    "    @property\n",
    "    def y(self):\n",
    "        \"\"\"\n",
    "        Получение у.\n",
    "        \"\"\"\n",
    "        \n",
    "        return self._y\n",
    "        \n",
    "        \n",
    "    @property\n",
    "    def equation(self):\n",
    "        \"\"\"\n",
    "        Получение соответствующего участнику уравнения.\n",
    "        \"\"\"\n",
    "        \n",
    "        return [1] + [self._x ^ i for i in range(1, self._t)], self._y"
   ]
  },
  {
   "cell_type": "code",
   "execution_count": 5,
   "id": "f3875fc3",
   "metadata": {},
   "outputs": [],
   "source": [
    "class ShamirDealer(object):\n",
    "    def __init__(self, t, n):\n",
    "        \"\"\"\n",
    "        Инициализация дилера для разделения секрета.\n",
    "        Генерация простого числа, поля и ключа.\n",
    "        \"\"\"\n",
    "        \n",
    "        self._field = GF(getStrongPrime(512))\n",
    "        self._t = t\n",
    "        self._n = n\n",
    "        self._key = self._field.random_element()\n",
    "        self._coefs = []\n",
    "        self._values = []\n",
    "        \n",
    "        trace('[ShamirDealer]', f't = {self._t}, n = {self._n}')\n",
    "        trace('[ShamirDealer]', self._field)\n",
    "        trace('[ShamirDealer]', f'key = {self._key}')\n",
    "        \n",
    "        \n",
    "    def split_key(self):\n",
    "        \"\"\"\n",
    "        Разделение секрета между участниками.\n",
    "        \"\"\"\n",
    "        \n",
    "        self._coefs  = [self._field.random_element() for _ in range(self._t - 1)]\n",
    "        \n",
    "        self._values = [self._key + sum([self._coefs[i] * x ^ (i + 1) for i in range(self._t - 1)]) \n",
    "                        for x in range(1, self._n + 1)]\n",
    "        \n",
    "        return [ShamirParticipant(self._field.gen() + i, self._values[i], self._t) \n",
    "                for i in range(self._n)]\n",
    "    \n",
    "    \n",
    "    @property\n",
    "    def field(self):\n",
    "        \"\"\"\n",
    "        Получение поля.\n",
    "        \"\"\"\n",
    "        \n",
    "        return self._field\n",
    "    \n",
    "    \n",
    "    @property\n",
    "    def key(self):\n",
    "        \"\"\"\n",
    "        Получение ключа для проверки\n",
    "        \"\"\"\n",
    "        \n",
    "        return self._key"
   ]
  },
  {
   "cell_type": "code",
   "execution_count": 6,
   "id": "25229132",
   "metadata": {},
   "outputs": [],
   "source": [
    "def restore_secret_by_equation_system(field, participants: list[ShamirParticipant]):\n",
    "    \"\"\"\n",
    "    Восстановление секрета путем решения системы уравнений.\n",
    "    \"\"\"\n",
    "    \n",
    "    equations = [p.equation for p in participants]\n",
    "    M = Matrix(field, [eq[0] for eq in equations])\n",
    "    v = vector(field, (eq[1] for eq in equations))\n",
    "    \n",
    "    return M.solve_right(v)[0]  # Нас интересует только первая переменная,\n",
    "                                # так как именно она является ключом"
   ]
  },
  {
   "cell_type": "code",
   "execution_count": 7,
   "id": "cef4018b",
   "metadata": {},
   "outputs": [],
   "source": [
    "def restore_secret_by_lagrange_interpolation(participants: list[ShamirParticipant]):\n",
    "    \"\"\"\n",
    "    \"\"\"\n",
    "    \n",
    "    def prod(lst):\n",
    "        return reduce((lambda x, y: x * y), lst)\n",
    "    \n",
    "    return sum([p1.y * prod([p2.x * (p2.x - p1.x).inverse_of_unit() \n",
    "                             for p2 in participants if p1 != p2])\n",
    "                for p1 in participants])"
   ]
  },
  {
   "cell_type": "markdown",
   "id": "7c5f5984",
   "metadata": {},
   "source": [
    "----"
   ]
  },
  {
   "cell_type": "code",
   "execution_count": 8,
   "id": "4ba6cf96",
   "metadata": {},
   "outputs": [],
   "source": [
    "t, n = 3, 5"
   ]
  },
  {
   "cell_type": "code",
   "execution_count": 9,
   "id": "8b749180",
   "metadata": {},
   "outputs": [
    {
     "name": "stdout",
     "output_type": "stream",
     "text": [
      "[TRACE] [ShamirDealer] t = 3, n = 5\n",
      "[TRACE] [ShamirDealer] Finite Field of size 10087599926432669877255757131340494585861344245323103570604870711662061441976589141100941371400637816665472383913879707653154025440571482937622660714432863\n",
      "[TRACE] [ShamirDealer] key = 9746591256562501218141980966268154993154033221801124817693174139510398087491312698483558949895138502935651877300377630333523291287941623872314496441295855\n"
     ]
    }
   ],
   "source": [
    "d = ShamirDealer(t, n)"
   ]
  },
  {
   "cell_type": "code",
   "execution_count": 10,
   "id": "4f937ce5",
   "metadata": {},
   "outputs": [
    {
     "name": "stdout",
     "output_type": "stream",
     "text": [
      "[TRACE] [ShamirParticipant] x = 1, y = 7566329960216023655489290763983585687009801059677459891296312764692650642795591017344708559704431241637319884682430574896266530897154785046306611525326316\n",
      "[TRACE] [ShamirParticipant] x = 2, y = 7808791295896368094401966666937784746745954062260264050182476007217046822529626069553704126741025845694103836153701169552678519261924127923968867510603089\n",
      "[TRACE] [ShamirParticipant] x = 3, y = 386375337170864657624251543790257586501147984226433723746793155421525184716828714009604279604284498440531347800309706649605230941678169567678603682693311\n",
      "[TRACE] [ShamirParticipant] x = 4, y = 5474281936904853099667659657221993377998071316222176053199005632630208613310377232914291761095482833207547187450015601493354716817559875852681141470462708\n",
      "[TRACE] [ShamirParticipant] x = 5, y = 2897311242232993666020676744552002949514035567601283897329372015518974224357093344065883828413345216664206587275059438777618926008426280903731159445045554\n"
     ]
    }
   ],
   "source": [
    "participants = d.split_key()"
   ]
  },
  {
   "cell_type": "code",
   "execution_count": 11,
   "id": "0b932747",
   "metadata": {},
   "outputs": [
    {
     "name": "stdout",
     "output_type": "stream",
     "text": [
      "Restored key = 9746591256562501218141980966268154993154033221801124817693174139510398087491312698483558949895138502935651877300377630333523291287941623872314496441295855\n",
      "Restored correctly: True\n"
     ]
    }
   ],
   "source": [
    "restored_key = restore_secret_by_equation_system(d.field, \n",
    "                                                 random.sample(participants, t))\n",
    "print(f'Restored key = {restored_key}')\n",
    "print(f'Restored correctly: {restored_key == d.key}')"
   ]
  },
  {
   "cell_type": "code",
   "execution_count": 12,
   "id": "e04bf4c9",
   "metadata": {},
   "outputs": [
    {
     "name": "stdout",
     "output_type": "stream",
     "text": [
      "Restored key = 4901145992508857215011248755790618261393262892388186647127124904826110838631799231787867035440534772225419989121942330146185793776829260464974214638803231\n",
      "Restored correctly: False\n"
     ]
    }
   ],
   "source": [
    "false_key = restore_secret_by_equation_system(d.field, \n",
    "                                              random.sample(participants, t - 1))\n",
    "print(f'Restored key = {false_key}')\n",
    "print(f'Restored correctly: {false_key == d.key}')"
   ]
  },
  {
   "cell_type": "code",
   "execution_count": 13,
   "id": "de8cff10",
   "metadata": {},
   "outputs": [
    {
     "name": "stdout",
     "output_type": "stream",
     "text": [
      "Restored key = 9746591256562501218141980966268154993154033221801124817693174139510398087491312698483558949895138502935651877300377630333523291287941623872314496441295855\n",
      "Restored correctly: True\n"
     ]
    }
   ],
   "source": [
    "restored_key = restore_secret_by_lagrange_interpolation(random.sample(participants, t))\n",
    "print(f'Restored key = {restored_key}')\n",
    "print(f'Restored correctly: {restored_key == d.key}')"
   ]
  },
  {
   "cell_type": "code",
   "execution_count": 14,
   "id": "b8a347f8",
   "metadata": {},
   "outputs": [
    {
     "name": "stdout",
     "output_type": "stream",
     "text": [
      "Restored key = 6112507308522268215793931808410002444333455474741421189768637213497182650846677598461790014054185704902977961166551155193020168154607351316809285089426387\n",
      "Restored correctly: False\n"
     ]
    }
   ],
   "source": [
    "false_key = restore_secret_by_lagrange_interpolation(random.sample(participants, t - 1))\n",
    "print(f'Restored key = {false_key}')\n",
    "print(f'Restored correctly: {false_key == d.key}')"
   ]
  },
  {
   "cell_type": "markdown",
   "id": "7673670a",
   "metadata": {},
   "source": [
    "---\n",
    "## "
   ]
  },
  {
   "cell_type": "code",
   "execution_count": null,
   "id": "f6f3c5bb",
   "metadata": {},
   "outputs": [],
   "source": []
  }
 ],
 "metadata": {
  "kernelspec": {
   "display_name": "SageMath 9.5",
   "language": "sage",
   "name": "sagemath-9.5"
  },
  "language_info": {
   "codemirror_mode": {
    "name": "ipython",
    "version": 3
   },
   "file_extension": ".py",
   "mimetype": "text/x-python",
   "name": "python",
   "nbconvert_exporter": "python",
   "pygments_lexer": "ipython3",
   "version": "3.9.9"
  }
 },
 "nbformat": 4,
 "nbformat_minor": 5
}
