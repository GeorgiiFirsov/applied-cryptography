{
 "cells": [
  {
   "cell_type": "markdown",
   "id": "e2066a10",
   "metadata": {},
   "source": [
    "# Схемы разделения секрета"
   ]
  },
  {
   "cell_type": "code",
   "execution_count": 1,
   "id": "17112220",
   "metadata": {},
   "outputs": [],
   "source": [
    "IS_DEBUG = 1"
   ]
  },
  {
   "cell_type": "code",
   "execution_count": 2,
   "id": "6b736ee8",
   "metadata": {},
   "outputs": [],
   "source": [
    "def trace(*args, **kwargs):\n",
    "    \"\"\"\n",
    "    Отладочная трассировка\n",
    "    \"\"\"\n",
    "    \n",
    "    global IS_DEBUG\n",
    "    if IS_DEBUG:\n",
    "        print('[TRACE]', end=' ')\n",
    "        print(*args, **kwargs)"
   ]
  },
  {
   "cell_type": "markdown",
   "id": "6ae1da6d",
   "metadata": {},
   "source": [
    "---"
   ]
  },
  {
   "cell_type": "code",
   "execution_count": 3,
   "id": "9cf42209",
   "metadata": {},
   "outputs": [],
   "source": [
    "# Генерация простых чисел и КГПСЧ\n",
    "from Crypto.Util.number import getStrongPrime, getPrime\n",
    "from Crypto.Random import random\n",
    "\n",
    "# Утилитки\n",
    "from functools import reduce"
   ]
  },
  {
   "cell_type": "code",
   "execution_count": 4,
   "id": "17730b2f",
   "metadata": {},
   "outputs": [],
   "source": [
    "def prod(lst):\n",
    "    \"\"\"\n",
    "    Произведение всех элементов списка.\n",
    "    \"\"\"\n",
    "    \n",
    "    return reduce((lambda x, y: x * y), lst)"
   ]
  },
  {
   "cell_type": "markdown",
   "id": "dfd9fe18",
   "metadata": {},
   "source": [
    "----"
   ]
  },
  {
   "cell_type": "code",
   "execution_count": 5,
   "id": "31043a27",
   "metadata": {},
   "outputs": [],
   "source": [
    "class GenericParticipant(object):\n",
    "    def __init__(self, x, y, t):\n",
    "        \"\"\"\n",
    "        Инициализация участника разделения секрета.\n",
    "        Сохраняются х, у и t.\n",
    "        \"\"\"\n",
    "        \n",
    "        self._x = x\n",
    "        self._y = y\n",
    "        self._t = t\n",
    "        \n",
    "        trace('[GenericParticipant]', f'{x = }, {y = }')\n",
    "        self._verify()\n",
    "        \n",
    "        \n",
    "    def __eq__(self, other):\n",
    "        \"\"\"\n",
    "        Сравнение на равенство. Сравниваю по х - достаточно.\n",
    "        \"\"\"\n",
    "        \n",
    "        return self.x == other.x\n",
    "        \n",
    "        \n",
    "    @property\n",
    "    def x(self):\n",
    "        \"\"\"\n",
    "        Получение х.\n",
    "        \"\"\"\n",
    "        \n",
    "        return self._x\n",
    "    \n",
    "    \n",
    "    @property\n",
    "    def y(self):\n",
    "        \"\"\"\n",
    "        Получение у.\n",
    "        \"\"\"\n",
    "        \n",
    "        return self._y\n",
    "        \n",
    "        \n",
    "    @property\n",
    "    def equation(self):\n",
    "        \"\"\"\n",
    "        Получение соответствующего участнику уравнения.\n",
    "        \"\"\"\n",
    "        \n",
    "        return [1] + [self._x ^ i for i in range(1, self._t)], self._y\n",
    "    \n",
    "    \n",
    "    def _verify(self):\n",
    "        pass"
   ]
  },
  {
   "cell_type": "code",
   "execution_count": 6,
   "id": "734a79df",
   "metadata": {},
   "outputs": [],
   "source": [
    "class GenericDealer(object):\n",
    "    def __init__(self, t, n, field):\n",
    "        \"\"\"\n",
    "        Инициализация дилера для разделения секрета.\n",
    "        Генерация простого числа, поля и ключа.\n",
    "        \"\"\"\n",
    "        \n",
    "        self._field = field\n",
    "        self._t = t\n",
    "        self._n = n\n",
    "        self._key = self._field.random_element()\n",
    "        \n",
    "        self._coefs = []\n",
    "        self._values = []\n",
    "        \n",
    "        trace('[GenericDealer]', f't = {self._t}, n = {self._n}')\n",
    "        trace('[GenericDealer]', self._field)\n",
    "        trace('[GenericDealer]', f'key = {self._key}')\n",
    "    \n",
    "    \n",
    "    @property\n",
    "    def field(self):\n",
    "        \"\"\"\n",
    "        Получение поля.\n",
    "        \"\"\"\n",
    "        \n",
    "        return self._field\n",
    "    \n",
    "    \n",
    "    @property\n",
    "    def key(self):\n",
    "        \"\"\"\n",
    "        Получение ключа для проверки\n",
    "        \"\"\"\n",
    "        \n",
    "        return self._key\n",
    "    \n",
    "    \n",
    "    def _prepare_coefficients(self):\n",
    "        self._coefs  = [self._key] + [self._field.random_element() for _ in range(self._t - 1)]\n",
    "        \n",
    "        self._values = [sum([c * (x ^ i) for i, c in enumerate(self._coefs)]) \n",
    "                        for x in range(1, self._n + 1)]"
   ]
  },
  {
   "cell_type": "markdown",
   "id": "4aa5c0bb",
   "metadata": {},
   "source": [
    "----"
   ]
  },
  {
   "cell_type": "code",
   "execution_count": 7,
   "id": "6ef47d17",
   "metadata": {},
   "outputs": [],
   "source": [
    "def restore_secret_by_equation_system(field, participants: list[GenericParticipant]):\n",
    "    \"\"\"\n",
    "    Восстановление секрета путем решения системы уравнений.\n",
    "    \"\"\"\n",
    "    \n",
    "    equations = [p.equation for p in participants]\n",
    "    M = Matrix(field, [eq[0] for eq in equations])\n",
    "    v = vector(field, (eq[1] for eq in equations))\n",
    "    \n",
    "    return M.solve_right(v)[0]  # Нас интересует только первая переменная,\n",
    "                                # так как именно она является ключом"
   ]
  },
  {
   "cell_type": "code",
   "execution_count": 8,
   "id": "d4ecc887",
   "metadata": {},
   "outputs": [],
   "source": [
    "def restore_secret_by_lagrange_interpolation(participants: list[GenericParticipant]):\n",
    "    \"\"\"\n",
    "    Восстановление секрета путем интерполяции Лагранжа.\n",
    "    \"\"\"\n",
    "    \n",
    "    return sum([p1.y * prod([p2.x * (p2.x - p1.x).inverse_of_unit() \n",
    "                             for p2 in participants if p1 != p2])\n",
    "                for p1 in participants])"
   ]
  },
  {
   "cell_type": "markdown",
   "id": "11589f51",
   "metadata": {},
   "source": [
    "----"
   ]
  },
  {
   "cell_type": "markdown",
   "id": "f7d16b68",
   "metadata": {},
   "source": [
    "## Схема Шамира\n",
    "![Shamir scheme](./images/Shamir_1_5.png)\n",
    "![Shamir scheme](./images/Shamir_2_5.png)"
   ]
  },
  {
   "cell_type": "code",
   "execution_count": 9,
   "id": "cf6e182e",
   "metadata": {},
   "outputs": [],
   "source": [
    "class ShamirParticipant(GenericParticipant):\n",
    "    def __init__(self, x, y, t):\n",
    "        \"\"\"\n",
    "        Тут в целом все повторяет общий случай.\n",
    "        \"\"\"\n",
    "        \n",
    "        trace('[ShamirParticipant]', f'Initializing superclass...')\n",
    "        super(ShamirParticipant, self).__init__(x, y, t)"
   ]
  },
  {
   "cell_type": "code",
   "execution_count": 10,
   "id": "71f16878",
   "metadata": {},
   "outputs": [],
   "source": [
    "class ShamirDealer(GenericDealer):\n",
    "    def __init__(self, t, n):\n",
    "        \"\"\"\n",
    "        Тут в целом все повторяет общий случай.\n",
    "        \"\"\"\n",
    "        \n",
    "        trace('[ShamirDealer]', f'Initializing superclass...')\n",
    "        super(ShamirDealer, self).__init__(t, n, GF(getStrongPrime(512)))\n",
    "        \n",
    "        \n",
    "    def split_key(self):\n",
    "        \"\"\"\n",
    "        Разделение секрета между участниками.\n",
    "        \"\"\"\n",
    "        \n",
    "        self._prepare_coefficients()\n",
    "        return [ShamirParticipant(self._field.gen() + i, self._values[i], self._t) \n",
    "                for i in range(self._n)]"
   ]
  },
  {
   "cell_type": "markdown",
   "id": "5548548a",
   "metadata": {},
   "source": [
    "----"
   ]
  },
  {
   "cell_type": "code",
   "execution_count": 11,
   "id": "139db064",
   "metadata": {},
   "outputs": [],
   "source": [
    "t, n = 3, 5"
   ]
  },
  {
   "cell_type": "code",
   "execution_count": 12,
   "id": "b1e53c7e",
   "metadata": {},
   "outputs": [
    {
     "name": "stdout",
     "output_type": "stream",
     "text": [
      "[TRACE] [ShamirDealer] Initializing superclass...\n",
      "[TRACE] [GenericDealer] t = 3, n = 5\n",
      "[TRACE] [GenericDealer] Finite Field of size 13257691184017152539829589394168647137633552917027648247059866272279644780342543886205702888517383139268204807182150416712174542674099220551207189888789539\n",
      "[TRACE] [GenericDealer] key = 5776896569299686601712831586284508132104437214898259532992894663739617132723651790215998905818579851111643422084874920060963455859271769137589177434646873\n"
     ]
    }
   ],
   "source": [
    "d = ShamirDealer(t, n)"
   ]
  },
  {
   "cell_type": "code",
   "execution_count": 13,
   "id": "0bb9a85a",
   "metadata": {},
   "outputs": [
    {
     "name": "stdout",
     "output_type": "stream",
     "text": [
      "[TRACE] [ShamirParticipant] Initializing superclass...\n",
      "[TRACE] [GenericParticipant] x = 1, y = 6020844153809243643995027639811967355982102718973442605223671012830872978166761666898495425301873794629949436594661386394441390988027348367606993907778404\n",
      "[TRACE] [ShamirParticipant] Initializing superclass...\n",
      "[TRACE] [GenericParticipant] x = 2, y = 5109775815082134303305624710021990551648076826750053969741299667969274081309756191994413251699445905225169420063168947252420194730625480427897590043500485\n",
      "[TRACE] [ShamirParticipant] Initializing superclass...\n",
      "[TRACE] [GenericParticipant] x = 3, y = 3043691553118358579644622796914577719102359538228093626545780629154820442152635365503752385011296182897303372490397602634899867087066165318460965841813116\n",
      "[TRACE] [ShamirParticipant] Initializing superclass...\n",
      "[TRACE] [GenericParticipant] x = 4, y = 13080282551935069012841611294658375995978503770435209822696980168667156841037943073632215713754807766914556101058497769254054950731448623590504311191505836\n",
      "[TRACE] [ShamirParticipant] Initializing superclass...\n",
      "[TRACE] [GenericParticipant] x = 5, y = 8704166443497960523237411414916091107009403689316106064075165741946993717280591543968397460895214378740517991403168613685536360315574414141613246314999567\n"
     ]
    }
   ],
   "source": [
    "participants = d.split_key()"
   ]
  },
  {
   "cell_type": "code",
   "execution_count": 14,
   "id": "196c4c57",
   "metadata": {},
   "outputs": [
    {
     "name": "stdout",
     "output_type": "stream",
     "text": [
      "Restored key = 5776896569299686601712831586284508132104437214898259532992894663739617132723651790215998905818579851111643422084874920060963455859271769137589177434646873\n",
      "Restored correctly: True\n"
     ]
    }
   ],
   "source": [
    "restored_key = restore_secret_by_equation_system(d.field, \n",
    "                                                 random.sample(participants, t))\n",
    "print(f'Restored key = {restored_key}')\n",
    "print(f'Restored correctly: {restored_key == d.key}')"
   ]
  },
  {
   "cell_type": "code",
   "execution_count": 15,
   "id": "ba6cac59",
   "metadata": {},
   "outputs": [
    {
     "name": "stdout",
     "output_type": "stream",
     "text": [
      "Restored key = 7509420454154686176170230061260662174421974309346117094562616204668899246173824817595866945447162600496272468646793278274212152938507939892180007940761048\n",
      "Restored correctly: False\n"
     ]
    }
   ],
   "source": [
    "false_key = restore_secret_by_equation_system(d.field, \n",
    "                                              random.sample(participants, t - 1))\n",
    "print(f'Restored key = {false_key}')\n",
    "print(f'Restored correctly: {false_key == d.key}')"
   ]
  },
  {
   "cell_type": "code",
   "execution_count": 16,
   "id": "f139e74a",
   "metadata": {},
   "outputs": [
    {
     "name": "stdout",
     "output_type": "stream",
     "text": [
      "Restored key = 5776896569299686601712831586284508132104437214898259532992894663739617132723651790215998905818579851111643422084874920060963455859271769137589177434646873\n",
      "Restored correctly: True\n"
     ]
    }
   ],
   "source": [
    "restored_key = restore_secret_by_lagrange_interpolation(random.sample(participants, t))\n",
    "print(f'Restored key = {restored_key}')\n",
    "print(f'Restored correctly: {restored_key == d.key}')"
   ]
  },
  {
   "cell_type": "code",
   "execution_count": 17,
   "id": "93d58503",
   "metadata": {},
   "outputs": [
    {
     "name": "stdout",
     "output_type": "stream",
     "text": [
      "Restored key = 8086928415773019367656029552919380188527820007495402948419190051645326617323882493389156291990023516957815484167432731011961718631586663477043618109465773\n",
      "Restored correctly: False\n"
     ]
    }
   ],
   "source": [
    "false_key = restore_secret_by_lagrange_interpolation(random.sample(participants, t - 1))\n",
    "print(f'Restored key = {false_key}')\n",
    "print(f'Restored correctly: {false_key == d.key}')"
   ]
  },
  {
   "cell_type": "markdown",
   "id": "87b839f1",
   "metadata": {},
   "source": [
    "---\n",
    "## Схема Фельдмана\n",
    "![Feldman scheme](./images/Feldman_5.png)"
   ]
  },
  {
   "cell_type": "code",
   "execution_count": 18,
   "id": "ab2c38bb",
   "metadata": {},
   "outputs": [],
   "source": [
    "class FeldmanParticipant(GenericParticipant):\n",
    "    def __init__(self, x, y, t, g, check_values):\n",
    "        \"\"\"\n",
    "        Тут в дополнение сохраняется генератор и проверочные значения.\n",
    "        \"\"\"\n",
    "        \n",
    "        self._g = g\n",
    "        self._check_values = check_values\n",
    "        \n",
    "        trace('[FeldmanParticipant]', f'Initializing superclass...')\n",
    "        super(FeldmanParticipant, self).__init__(x, y, t)\n",
    "        \n",
    "        \n",
    "    def _verify(self):\n",
    "        expected_value = self._g ^ self.y\n",
    "        value_to_check = prod([cv ^ (self.x ^ i) for i, cv in enumerate(self._check_values)])\n",
    "        \n",
    "        if value_to_check != expected_value:\n",
    "            raise ValueError(f'Wrong value given to the participant with x = {self.x} and y = {self.y}')\n",
    "            \n",
    "        trace('[FeldmanParticipant]', 'Value verified')"
   ]
  },
  {
   "cell_type": "code",
   "execution_count": 19,
   "id": "d00ba0f7",
   "metadata": {},
   "outputs": [],
   "source": [
    "class FeldmanDealer(GenericDealer):\n",
    "    def __init__(self, t, n):\n",
    "        \"\"\"\n",
    "        В дополнение генерируются p, q, g.\n",
    "        \"\"\"\n",
    "        \n",
    "        self._p, self._q, self._g = FeldmanDealer._generate_parameters()\n",
    "        \n",
    "        trace('[FeldmanDealer]', f'Initializing superclass...')\n",
    "        super(FeldmanDealer, self).__init__(t, n, GF(self._q))\n",
    "        \n",
    "        trace('[FeldmanDealer]', f'p = {self._p}')\n",
    "        trace('[FeldmanDealer]', f'q = {self._q}')\n",
    "        trace('[FeldmanDealer]', f'g = {self._g}')\n",
    "        \n",
    "        \n",
    "    def split_key(self):\n",
    "        \"\"\"\n",
    "        Разделение секрета между участниками.\n",
    "        \"\"\"\n",
    "        \n",
    "        self._prepare_coefficients()\n",
    "        check_values = [self._g ^ c for c in self._coefs]\n",
    "        \n",
    "        return [FeldmanParticipant(self._field.gen() + i, self._values[i], self._t, self._g, check_values) \n",
    "                for i in range(self._n)]\n",
    "    \n",
    "    \n",
    "    @staticmethod\n",
    "    def _generate_parameters():\n",
    "        def _generate_special_group_element(p, q):\n",
    "            #\n",
    "            # Сгенерирую число, взаимно простое с p\n",
    "            #\n",
    "\n",
    "            tmp = random.getrandbits(P_LENGTH)\n",
    "            while gcd(tmp, p) != 1:\n",
    "                tmp = random.getrandbits(P_LENGTH)\n",
    "\n",
    "            #\n",
    "            # По малой теореме Ферма такой g будет иметь порядок q\n",
    "            #\n",
    "\n",
    "            F = GF(p)\n",
    "            return F(tmp) ^ ((p - 1) // q)\n",
    "        \n",
    "        Q_LENGTH = 160\n",
    "        P_LENGTH = 1024\n",
    "        \n",
    "        q = getPrime(Q_LENGTH)\n",
    "        p = random.getrandbits(P_LENGTH - Q_LENGTH) * q + 1\n",
    "        \n",
    "        while p not in Primes():\n",
    "            p = random.getrandbits(P_LENGTH - Q_LENGTH) * q + 1\n",
    "        \n",
    "        return p, q, _generate_special_group_element(p, q)"
   ]
  },
  {
   "cell_type": "markdown",
   "id": "fe11d49e",
   "metadata": {},
   "source": [
    "----"
   ]
  },
  {
   "cell_type": "code",
   "execution_count": 20,
   "id": "fb9aa08f",
   "metadata": {},
   "outputs": [
    {
     "name": "stdout",
     "output_type": "stream",
     "text": [
      "[TRACE] [FeldmanDealer] Initializing superclass...\n",
      "[TRACE] [GenericDealer] t = 3, n = 5\n",
      "[TRACE] [GenericDealer] Finite Field of size 1215695783197808756755466617704054593913433544113\n",
      "[TRACE] [GenericDealer] key = 352577935330903952972324104611874522430944059349\n",
      "[TRACE] [FeldmanDealer] p = 110252752993766275067205834300575699464589431385714193480927203395481441524553507501160162146743984597625498494635741482352713443155786302198364880887057568856592866080186958339808243763312986841609539296940781359914742832914453987247340591023232130371220551343858059966145792382123885010348670395037971416433\n",
      "[TRACE] [FeldmanDealer] q = 1215695783197808756755466617704054593913433544113\n",
      "[TRACE] [FeldmanDealer] g = 45518458232981206423171563404370626284361353407776023894197406318545558357495811473678693853123018181086621738896513750321731050078376591179729267746050453572435442802212269706902485623419534000910580290858272301440145950988264545937924345239917346177475612050189655644869188206135533040035784269987071353262\n"
     ]
    }
   ],
   "source": [
    "d = FeldmanDealer(t, n)"
   ]
  },
  {
   "cell_type": "code",
   "execution_count": 21,
   "id": "df870c27",
   "metadata": {},
   "outputs": [
    {
     "name": "stdout",
     "output_type": "stream",
     "text": [
      "[TRACE] [FeldmanParticipant] Initializing superclass...\n",
      "[TRACE] [GenericParticipant] x = 1, y = 861249957178150645198879129148832322779506124622\n",
      "[TRACE] [FeldmanParticipant] Value verified\n",
      "[TRACE] [FeldmanParticipant] Initializing superclass...\n",
      "[TRACE] [GenericParticipant] x = 2, y = 213301499506616241155299793101166994488046401414\n",
      "[TRACE] [FeldmanParticipant] Value verified\n",
      "[TRACE] [FeldmanParticipant] Initializing superclass...\n",
      "[TRACE] [GenericParticipant] x = 3, y = 840124128711918254352519331876987725383431977951\n",
      "[TRACE] [FeldmanParticipant] Value verified\n",
      "[TRACE] [FeldmanParticipant] Initializing superclass...\n",
      "[TRACE] [GenericParticipant] x = 4, y = 310326278398439171279604510068185327638795766007\n",
      "[TRACE] [FeldmanParticipant] Value verified\n",
      "[TRACE] [FeldmanParticipant] Initializing superclass...\n",
      "[TRACE] [GenericParticipant] x = 5, y = 1055299514961796505447488563082868989081004853808\n",
      "[TRACE] [FeldmanParticipant] Value verified\n"
     ]
    }
   ],
   "source": [
    "participants = d.split_key()"
   ]
  },
  {
   "cell_type": "code",
   "execution_count": 22,
   "id": "284841e7",
   "metadata": {},
   "outputs": [
    {
     "name": "stdout",
     "output_type": "stream",
     "text": [
      "Restored key = 352577935330903952972324104611874522430944059349\n",
      "Restored correctly: True\n"
     ]
    }
   ],
   "source": [
    "restored_key = restore_secret_by_equation_system(d.field, \n",
    "                                                 random.sample(participants, t))\n",
    "print(f'Restored key = {restored_key}')\n",
    "print(f'Restored correctly: {restored_key == d.key}')"
   ]
  },
  {
   "cell_type": "code",
   "execution_count": 23,
   "id": "4c1a4089",
   "metadata": {},
   "outputs": [
    {
     "name": "stdout",
     "output_type": "stream",
     "text": [
      "Restored key = 977520681738436104874468151121614463610260047142\n",
      "Restored correctly: False\n"
     ]
    }
   ],
   "source": [
    "false_key = restore_secret_by_equation_system(d.field, \n",
    "                                              random.sample(participants, t - 1))\n",
    "print(f'Restored key = {false_key}')\n",
    "print(f'Restored correctly: {false_key == d.key}')"
   ]
  },
  {
   "cell_type": "code",
   "execution_count": 24,
   "id": "687b6747",
   "metadata": {},
   "outputs": [
    {
     "name": "stdout",
     "output_type": "stream",
     "text": [
      "Restored key = 352577935330903952972324104611874522430944059349\n",
      "Restored correctly: True\n"
     ]
    }
   ],
   "source": [
    "restored_key = restore_secret_by_lagrange_interpolation(random.sample(participants, t))\n",
    "print(f'Restored key = {restored_key}')\n",
    "print(f'Restored correctly: {restored_key == d.key}')"
   ]
  },
  {
   "cell_type": "code",
   "execution_count": 25,
   "id": "b5b51641",
   "metadata": {},
   "outputs": [
    {
     "name": "stdout",
     "output_type": "stream",
     "text": [
      "Restored key = 263964979812362462244325718932727324520826425901\n",
      "Restored correctly: False\n"
     ]
    }
   ],
   "source": [
    "false_key = restore_secret_by_lagrange_interpolation(random.sample(participants, t - 1))\n",
    "print(f'Restored key = {false_key}')\n",
    "print(f'Restored correctly: {false_key == d.key}')"
   ]
  },
  {
   "cell_type": "markdown",
   "id": "34977a2b",
   "metadata": {},
   "source": [
    "----\n",
    "## Схема Педерсена\n",
    "![Pedersen scheme](./images/Pedersen_5.png)"
   ]
  },
  {
   "cell_type": "code",
   "execution_count": 26,
   "id": "486ae2a9",
   "metadata": {},
   "outputs": [],
   "source": [
    "class PedersenParticipant(GenericParticipant):\n",
    "    def __init__(self, i, u, w, g, h, t, check_values):\n",
    "        self._g, self._h = g, h\n",
    "        self._w = w\n",
    "        self._check_values = check_values\n",
    "        \n",
    "        trace('[PedersenParticipant]', f'Initializing superclass...')\n",
    "        super(PedersenParticipant, self).__init__(i, u, t)\n",
    "        \n",
    "    \n",
    "    def _verify(self):\n",
    "        expected_value = (self._g ^ self.y) * (self._h ^ self._w)\n",
    "        value_to_check = prod([cv ^ (self.x ^ i) for i, cv in enumerate(self._check_values)])\n",
    "        \n",
    "        if value_to_check != expected_value:\n",
    "            raise ValueError(f'Wrong value given to the participant with i = {self.x}')\n",
    "            \n",
    "        trace('[PedersenParticipant]', 'Value verified')"
   ]
  },
  {
   "cell_type": "code",
   "execution_count": 27,
   "id": "8e107823",
   "metadata": {},
   "outputs": [],
   "source": [
    "class PedersenDealer(GenericDealer):\n",
    "    def __init__(self, t, n):\n",
    "        \"\"\"\n",
    "        \"\"\"\n",
    "        \n",
    "        self._p, self._q, self._g, self._h = PedersenDealer._generate_parameters()\n",
    "        self._gammas = []\n",
    "        \n",
    "        trace('[PedersenDealer]', f'Initializing superclass...')\n",
    "        super(PedersenDealer, self).__init__(t, n, GF(self._q))\n",
    "        \n",
    "        trace('[PedersenDealer]', f'p = {self._p}')\n",
    "        trace('[PedersenDealer]', f'q = {self._q}')\n",
    "        trace('[PedersenDealer]', f'g = {self._g}')\n",
    "        trace('[PedersenDealer]', f'h = {self._h}')\n",
    "        \n",
    "        \n",
    "    def split_key(self):\n",
    "        \"\"\"\n",
    "        \"\"\"\n",
    "        \n",
    "        self._prepare_coefficients()\n",
    "        self._gammas = [self._field.random_element() for _ in range(t)]\n",
    "        \n",
    "        check_values = [(self._g ^ d) * (self._h ^ g)\n",
    "                        for d, g in zip(self._coefs, self._gammas)]\n",
    "        \n",
    "        return [PedersenParticipant(self._field.gen() + i, u, self._w(i + 1),\n",
    "                                    self._g, self._h, self._t, check_values) \n",
    "                for i, u in enumerate(self._values)]\n",
    "    \n",
    "    \n",
    "    def _w(self, z):\n",
    "        return sum([g * (z ^ i) for i, g in enumerate(self._gammas)])\n",
    "    \n",
    "    \n",
    "    @staticmethod\n",
    "    def _generate_parameters():\n",
    "        def _generate_special_group_element(p, q):\n",
    "            #\n",
    "            # Сгенерирую число, взаимно простое с p\n",
    "            #\n",
    "\n",
    "            tmp = random.getrandbits(P_LENGTH)\n",
    "            while gcd(tmp, p) != 1:\n",
    "                tmp = random.getrandbits(P_LENGTH)\n",
    "\n",
    "            #\n",
    "            # По малой теореме Ферма такой g будет иметь порядок q\n",
    "            #\n",
    "\n",
    "            F = GF(p)\n",
    "            return F(tmp) ^ ((p - 1) // q)\n",
    "        \n",
    "        Q_LENGTH = 160\n",
    "        P_LENGTH = 1024\n",
    "        \n",
    "        q = getPrime(Q_LENGTH)\n",
    "        p = random.getrandbits(P_LENGTH - Q_LENGTH) * q + 1\n",
    "        \n",
    "        while p not in Primes():\n",
    "            p = random.getrandbits(P_LENGTH - Q_LENGTH) * q + 1\n",
    "            \n",
    "        g = _generate_special_group_element(p, q)\n",
    "        h = _generate_special_group_element(p, q)\n",
    "        \n",
    "        while g == h:\n",
    "            h = _generate_special_group_element(p, q)\n",
    "            \n",
    "        return p, q, g, h"
   ]
  },
  {
   "cell_type": "markdown",
   "id": "46777cf8",
   "metadata": {},
   "source": [
    "-----"
   ]
  },
  {
   "cell_type": "code",
   "execution_count": 28,
   "id": "58fe62b6",
   "metadata": {},
   "outputs": [
    {
     "name": "stdout",
     "output_type": "stream",
     "text": [
      "[TRACE] [PedersenDealer] Initializing superclass...\n",
      "[TRACE] [GenericDealer] t = 3, n = 5\n",
      "[TRACE] [GenericDealer] Finite Field of size 1365895551687335104465370138919923804890228099739\n",
      "[TRACE] [GenericDealer] key = 180580734022488128228279271272451039328596880550\n",
      "[TRACE] [PedersenDealer] p = 1541915044228927952972103517997595155469059565255117295059414727727736280510661266289587899607907880917874117284518182485031711397033835631806718546194699052101612426417965326804709499060360308457747634177716759172021142615833874676307014590943048234246394023150163498321751418907827204481391782916017946169\n",
      "[TRACE] [PedersenDealer] q = 1365895551687335104465370138919923804890228099739\n",
      "[TRACE] [PedersenDealer] g = 1434834480794992097742078535786103107409521638523631008929786508091716150034471974881086175546438264808694356878492145028236709181281957476746947358743265184286170175743640963585515030508001324839949495619530671718156043375293869462320907058613228901379683336749240493598548910365224275315990792162944000262\n",
      "[TRACE] [PedersenDealer] h = 1127073751203113230984185883640030711414236817902799128796728509740463541457489980756685536059020485165309999944572338759399565648044453928242784646707399876480684217860166731476792403490700305107747853582187298777959555610161224423647868442199751084387148548857052272629626178459997032141199013957566814938\n"
     ]
    }
   ],
   "source": [
    "d = PedersenDealer(t, n)"
   ]
  },
  {
   "cell_type": "code",
   "execution_count": 29,
   "id": "3ca5b6ff",
   "metadata": {},
   "outputs": [
    {
     "name": "stdout",
     "output_type": "stream",
     "text": [
      "[TRACE] [PedersenParticipant] Initializing superclass...\n",
      "[TRACE] [GenericParticipant] x = 1, y = 1090426921992062389180628958539187036373374034544\n",
      "[TRACE] [PedersenParticipant] Value verified\n",
      "[TRACE] [PedersenParticipant] Initializing superclass...\n",
      "[TRACE] [GenericParticipant] x = 2, y = 437830162263572077366228695002164423548941572544\n",
      "[TRACE] [PedersenParticipant] Value verified\n",
      "[TRACE] [PedersenParticipant] Initializing superclass...\n",
      "[TRACE] [GenericParticipant] x = 3, y = 954581558211687401715818758501230810635755694028\n",
      "[TRACE] [PedersenParticipant] Value verified\n",
      "[TRACE] [PedersenParticipant] Initializing superclass...\n",
      "[TRACE] [GenericParticipant] x = 4, y = 1274785558149073257764029010116462392743588299257\n",
      "[TRACE] [PedersenParticipant] Value verified\n",
      "[TRACE] [PedersenParticipant] Initializing superclass...\n",
      "[TRACE] [GenericParticipant] x = 5, y = 32546610388394541045489310927935364982211288492\n",
      "[TRACE] [PedersenParticipant] Value verified\n"
     ]
    }
   ],
   "source": [
    "participants = d.split_key()"
   ]
  },
  {
   "cell_type": "code",
   "execution_count": 30,
   "id": "4993cb0d",
   "metadata": {},
   "outputs": [
    {
     "name": "stdout",
     "output_type": "stream",
     "text": [
      "Restored key = 180580734022488128228279271272451039328596880550\n",
      "Restored correctly: True\n"
     ]
    }
   ],
   "source": [
    "restored_key = restore_secret_by_equation_system(d.field, \n",
    "                                                 random.sample(participants, t))\n",
    "print(f'Restored key = {restored_key}')\n",
    "print(f'Restored correctly: {restored_key == d.key}')"
   ]
  },
  {
   "cell_type": "code",
   "execution_count": 31,
   "id": "a324f53a",
   "metadata": {},
   "outputs": [
    {
     "name": "stdout",
     "output_type": "stream",
     "text": [
      "Restored key = 1354896999892979351214413870441999954221164721057\n",
      "Restored correctly: False\n"
     ]
    }
   ],
   "source": [
    "false_key = restore_secret_by_equation_system(d.field, \n",
    "                                              random.sample(participants, t - 1))\n",
    "print(f'Restored key = {false_key}')\n",
    "print(f'Restored correctly: {false_key == d.key}')"
   ]
  },
  {
   "cell_type": "code",
   "execution_count": 32,
   "id": "9410e1d4",
   "metadata": {},
   "outputs": [
    {
     "name": "stdout",
     "output_type": "stream",
     "text": [
      "Restored key = 180580734022488128228279271272451039328596880550\n",
      "Restored correctly: True\n"
     ]
    }
   ],
   "source": [
    "restored_key = restore_secret_by_lagrange_interpolation(random.sample(participants, t))\n",
    "print(f'Restored key = {restored_key}')\n",
    "print(f'Restored correctly: {restored_key == d.key}')"
   ]
  },
  {
   "cell_type": "code",
   "execution_count": 33,
   "id": "54e5ed56",
   "metadata": {},
   "outputs": [
    {
     "name": "stdout",
     "output_type": "stream",
     "text": [
      "Restored key = 1359865110086864938036558142575459869202485978080\n",
      "Restored correctly: False\n"
     ]
    }
   ],
   "source": [
    "false_key = restore_secret_by_lagrange_interpolation(random.sample(participants, t - 1))\n",
    "print(f'Restored key = {false_key}')\n",
    "print(f'Restored correctly: {false_key == d.key}')"
   ]
  },
  {
   "cell_type": "code",
   "execution_count": null,
   "id": "5bf3d816",
   "metadata": {},
   "outputs": [],
   "source": []
  }
 ],
 "metadata": {
  "kernelspec": {
   "display_name": "SageMath 9.5",
   "language": "sage",
   "name": "sagemath-9.5"
  },
  "language_info": {
   "codemirror_mode": {
    "name": "ipython",
    "version": 3
   },
   "file_extension": ".py",
   "mimetype": "text/x-python",
   "name": "python",
   "nbconvert_exporter": "python",
   "pygments_lexer": "ipython3",
   "version": "3.9.9"
  }
 },
 "nbformat": 4,
 "nbformat_minor": 5
}
