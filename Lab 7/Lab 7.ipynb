{
 "cells": [
  {
   "cell_type": "markdown",
   "id": "b9a7fa89",
   "metadata": {},
   "source": [
    "# Реализация модели двустороннего защищенного чата в мессенджере по спецификации Signal"
   ]
  },
  {
   "cell_type": "code",
   "execution_count": 1,
   "id": "f56ece1d",
   "metadata": {},
   "outputs": [],
   "source": [
    "IS_DEBUG = 1"
   ]
  },
  {
   "cell_type": "code",
   "execution_count": 2,
   "id": "47ac3f81",
   "metadata": {},
   "outputs": [],
   "source": [
    "def trace(*args, **kwargs):\n",
    "    \"\"\"\n",
    "    Отладочная трассировка\n",
    "    \"\"\"\n",
    "    \n",
    "    global IS_DEBUG\n",
    "    if IS_DEBUG:\n",
    "        print('[TRACE]', end=' ')\n",
    "        print(*args, **kwargs)"
   ]
  },
  {
   "cell_type": "markdown",
   "id": "1feee646",
   "metadata": {},
   "source": [
    "---"
   ]
  },
  {
   "cell_type": "code",
   "execution_count": 3,
   "id": "96cfc4f1",
   "metadata": {},
   "outputs": [],
   "source": [
    "# Криптография из различных ГОСТ'ов\n",
    "from pygost import mgm\n",
    "from pygost import gost3412\n",
    "from pygost import gost3410\n",
    "from pygost import gost34112012256\n",
    "\n",
    "# КГПСЧ\n",
    "from Crypto.Random import get_random_bytes, random\n",
    "\n",
    "# HKDF\n",
    "from Crypto.Protocol.KDF import HKDF\n",
    "\n",
    "# Вспомогательные радости\n",
    "from collections import namedtuple\n",
    "import dataclasses\n",
    "import binascii\n",
    "import pickle"
   ]
  },
  {
   "cell_type": "markdown",
   "id": "1401b446",
   "metadata": {},
   "source": [
    "----"
   ]
  },
  {
   "cell_type": "code",
   "execution_count": 4,
   "id": "686e070b",
   "metadata": {},
   "outputs": [],
   "source": [
    "def as_hex(blob: bytes):\n",
    "    \"\"\"\n",
    "    Перевод блоба в шестнадцатиричное представление\n",
    "    \"\"\"\n",
    "    \n",
    "    return binascii.hexlify(blob).decode()"
   ]
  },
  {
   "cell_type": "markdown",
   "id": "f4645c8d",
   "metadata": {},
   "source": [
    "----\n",
    "## Реализация оберток над криптографическими алгоритмами и примитивами"
   ]
  },
  {
   "cell_type": "code",
   "execution_count": 5,
   "id": "5fcbc477",
   "metadata": {},
   "outputs": [],
   "source": [
    "#\n",
    "# Описание сути следует смотреть здесь:\n",
    "# https://signal.org/docs/specifications/x3dh/#publishing-keys\n",
    "#\n",
    "\n",
    "KeyBundle = namedtuple('KeyBundle', ['IK',    # Ключ-идентификатор (Identity key)\n",
    "                                     'SPK',   # Подписанный предключ (Signed prekey)\n",
    "                                     'Sig',   # Подпись предключа (Prekey signature)\n",
    "                                     'OPKs',  # Коллекция одноразовых предключей (One-time prekeys)\n",
    "                                    ])"
   ]
  },
  {
   "cell_type": "code",
   "execution_count": 6,
   "id": "7b48120b",
   "metadata": {},
   "outputs": [],
   "source": [
    "KeyPair = namedtuple('KeyPair', ['private', 'public'])"
   ]
  },
  {
   "cell_type": "code",
   "execution_count": 7,
   "id": "cbcb9daa",
   "metadata": {},
   "outputs": [],
   "source": [
    "Message = namedtuple('Message', ['public_key',  # Открытый ключ DH отправляющего\n",
    "                                 'id',          # Идентитфикатор сообщения\n",
    "                                 'data',        # Данные сообщения\n",
    "                                ])"
   ]
  },
  {
   "cell_type": "markdown",
   "id": "67ce0369",
   "metadata": {},
   "source": [
    "----"
   ]
  },
  {
   "cell_type": "code",
   "execution_count": 8,
   "id": "efacb649",
   "metadata": {},
   "outputs": [],
   "source": [
    "class KuznyechikMGM(object):\n",
    "    \"\"\"\n",
    "    Класс-обертка над Кузнечиком в режиме MGM\n",
    "    \"\"\"\n",
    "    \n",
    "    KEY_SIZE = 32\n",
    "    \n",
    "    def __init__(self, key: bytes):\n",
    "        \"\"\"\n",
    "        Инициализация - сохраняю ключ\n",
    "        \"\"\"\n",
    "\n",
    "        self._key = key\n",
    "    \n",
    "    \n",
    "    def encrypt(self, plaintext: bytes, associated_data: bytes = b''):\n",
    "        \"\"\"\n",
    "        Зашифрование шифром Кузнечик в режиме MGM\n",
    "        \"\"\"\n",
    "        \n",
    "        encrypter = gost3412.GOST3412Kuznechik(self._key)\n",
    "        cipher = mgm.MGM(encrypter.encrypt, KuznyechikMGM._block_size())\n",
    "        \n",
    "        nonce = KuznyechikMGM._generate_nonce()\n",
    "        ct_with_tag = cipher.seal(nonce, plaintext, associated_data)\n",
    "        \n",
    "        return nonce, ct_with_tag[:-cipher.tag_size], ct_with_tag[-cipher.tag_size:]\n",
    "    \n",
    "    \n",
    "    def decrypt(self, nonce: bytes, ciphertext: bytes, tag: bytes, associated_data: bytes = b''):\n",
    "        \"\"\"\n",
    "        Расшифрование шифром Кузнечик в режиме MGM\n",
    "        \"\"\"\n",
    "        \n",
    "        try:\n",
    "            encrypter = gost3412.GOST3412Kuznechik(self._key)\n",
    "            cipher = mgm.MGM(encrypter.encrypt, KuznyechikMGM._block_size())\n",
    "\n",
    "            ct_with_tag = ciphertext + tag\n",
    "\n",
    "            return cipher.open(nonce, ct_with_tag, associated_data)\n",
    "        except ValueError as e:\n",
    "            return None\n",
    "        \n",
    "        \n",
    "    @staticmethod\n",
    "    def _block_size():\n",
    "        return gost3412.GOST3412Kuznechik.blocksize\n",
    "    \n",
    "    \n",
    "    @staticmethod\n",
    "    def _generate_nonce():\n",
    "        nonce = get_random_bytes(KuznyechikMGM._block_size())\n",
    "        while bytearray(nonce)[0] & 0x80 > 0:\n",
    "            nonce = get_random_bytes(KuznyechikMGM._block_size())\n",
    "            \n",
    "        return nonce"
   ]
  },
  {
   "cell_type": "markdown",
   "id": "1b955f60",
   "metadata": {},
   "source": [
    "---"
   ]
  },
  {
   "cell_type": "code",
   "execution_count": 9,
   "id": "df97d8cd",
   "metadata": {},
   "outputs": [],
   "source": [
    "class Streebog(gost34112012256.GOST34112012256):\n",
    "    \"\"\"\n",
    "    pycryptodome-совместимая обертка над хэш-функцией Стрибог\n",
    "    \"\"\"\n",
    "    \n",
    "    digest_size = 32\n",
    "    \n",
    "    \n",
    "    def __init__(self, data=None):\n",
    "        \"\"\"\n",
    "        Инициализация и обновление состояния (если надо)\n",
    "        \"\"\"\n",
    "        \n",
    "        super(Streebog, self).__init__()\n",
    "        if data is not None:\n",
    "            self.update(data)\n",
    "    \n",
    "    \n",
    "    @staticmethod\n",
    "    def new(data=None):\n",
    "        \"\"\"\n",
    "        Создание нового объекта\n",
    "        \"\"\"\n",
    "        \n",
    "        return Streebog(data)"
   ]
  },
  {
   "cell_type": "code",
   "execution_count": 10,
   "id": "8c4c090f",
   "metadata": {},
   "outputs": [],
   "source": [
    "def hash_digest(hasher_type, *args):\n",
    "    \"\"\"\n",
    "    Вычисление хэша при помощи объекта-обертки\n",
    "    \"\"\"\n",
    "    \n",
    "    hasher = hasher_type.new()\n",
    "    \n",
    "    for arg in args:\n",
    "        hasher.update(arg)\n",
    "        \n",
    "    return hasher.digest()"
   ]
  },
  {
   "cell_type": "markdown",
   "id": "45763043",
   "metadata": {},
   "source": [
    "----"
   ]
  },
  {
   "cell_type": "code",
   "execution_count": 11,
   "id": "183552ac",
   "metadata": {},
   "outputs": [],
   "source": [
    "class Curve(object):\n",
    "    \"\"\"\n",
    "    Обертка над эллиптической кривой. Для простоты это одна из кривых,\n",
    "    определенных в ГОСТ 34.10\n",
    "    \"\"\"\n",
    "    \n",
    "    CURVE = gost3410.CURVES['id-tc26-gost-3410-2012-512-paramSetA']\n",
    "        \n",
    "        \n",
    "    @staticmethod\n",
    "    def generate_private_key():\n",
    "        \"\"\"\n",
    "        Генерирование закрытого ключа\n",
    "        \"\"\"\n",
    "        \n",
    "        return gost3410.prv_unmarshal(get_random_bytes(64))\n",
    "    \n",
    "    \n",
    "    @staticmethod\n",
    "    def get_public_key(private_key):\n",
    "        \"\"\"\n",
    "        Получение открытого ключа по закрытому\n",
    "        \"\"\"\n",
    "        \n",
    "        return gost3410.public_key(Curve.CURVE, private_key)\n",
    "        \n",
    "        \n",
    "    @staticmethod\n",
    "    def multiply_by_scalar(scalar, point):\n",
    "        \"\"\"\n",
    "        Умножение точки эллиптической кривой на скаляр \n",
    "        \"\"\"\n",
    "\n",
    "        return Curve.CURVE.exp(scalar, *point)\n",
    "\n",
    "    \n",
    "    @staticmethod\n",
    "    def add_points(lhs, rhs):\n",
    "        \"\"\"\n",
    "        Сложение двух точек эллиптической кривой\n",
    "        \"\"\"\n",
    "\n",
    "        return Curve.CURVE._add(*lhs, *rhs)"
   ]
  },
  {
   "cell_type": "markdown",
   "id": "d9e57db0",
   "metadata": {},
   "source": [
    "----\n",
    "## Элементы протоколов из спецификации Signal"
   ]
  },
  {
   "cell_type": "code",
   "execution_count": 12,
   "id": "e10fb61a",
   "metadata": {},
   "outputs": [],
   "source": [
    "class KdfChainInternal(object):\n",
    "    \"\"\"\n",
    "    Вспомогательный класс, описывающий KDF-цепочку\n",
    "    \"\"\"\n",
    "    \n",
    "    def __init__(self, key, key_length):\n",
    "        \"\"\"\n",
    "        Инициализация, сохранение начального ключа и \n",
    "        длины генерируемых далее ключей\n",
    "        \"\"\"\n",
    "        \n",
    "        self._key_length = key_length\n",
    "        self._kdf_key = key\n",
    "    \n",
    "    \n",
    "    def reset(self, key):\n",
    "        \"\"\"\n",
    "        Сброс состояния, запись нового ключа в качестве\n",
    "        первоначального\n",
    "        \"\"\"\n",
    "        \n",
    "        self._kdf_key = key\n",
    "        \n",
    "        \n",
    "    def _kdf_update(self, data):\n",
    "        self._kdf_key, message_key = HKDF(self._kdf_key, self._key_length, \n",
    "                                          data, Streebog, 2)\n",
    "        return message_key"
   ]
  },
  {
   "cell_type": "code",
   "execution_count": 13,
   "id": "75be2880",
   "metadata": {},
   "outputs": [],
   "source": [
    "class KdfChain(KdfChainInternal):\n",
    "    \"\"\"\n",
    "    Класс, описывающий KDF-цепочку, которая генерирует\n",
    "    новые ключи только на основе своего состояния\n",
    "    https://signal.org/docs/specifications/doubleratchet/#kdf-chains\n",
    "    \"\"\"\n",
    "    \n",
    "    def __init__(self, key, key_length=32):\n",
    "        \"\"\"\n",
    "        Инициализация, сохранение начального ключа и \n",
    "        длины генерируемых далее ключей\n",
    "        \"\"\"\n",
    "        \n",
    "        super(KdfChain, self).__init__(key, key_length)\n",
    "        \n",
    "        \n",
    "    def step(self):\n",
    "        \"\"\"\n",
    "        Шаг цепочки, выработка нового ключа для KDF и\n",
    "        возвращаемого ключа\n",
    "        \"\"\"\n",
    "        \n",
    "        return self._kdf_update(b'\\xFF' * 32)"
   ]
  },
  {
   "cell_type": "code",
   "execution_count": 14,
   "id": "8329e630",
   "metadata": {},
   "outputs": [],
   "source": [
    "class SymmetricRatchet(KdfChainInternal):\n",
    "    \"\"\"\n",
    "    Симметричный храповик\n",
    "    Новые ключи вырабатываются на основе выработанного \n",
    "    секрета Диффи-Хеллмана\n",
    "    https://signal.org/docs/specifications/doubleratchet/#symmetric-key-ratchet\n",
    "    \"\"\"\n",
    "    \n",
    "    def __init__(self, key, key_length=32):\n",
    "        \"\"\"\n",
    "        Инициализация, сохранение начального ключа и \n",
    "        длины генерируемых далее ключей\n",
    "        \"\"\"\n",
    "        \n",
    "        super(SymmetricRatchet, self).__init__(key, key_length)\n",
    "        \n",
    "        \n",
    "    def step(self, serialized_dh_key):\n",
    "        \"\"\"\n",
    "        Шаг цепочки, выработка нового ключа для KDF и\n",
    "        возвращаемого ключа\n",
    "        \"\"\"\n",
    "        \n",
    "        return self._kdf_update(serialized_dh_key)"
   ]
  },
  {
   "cell_type": "markdown",
   "id": "e3fccdb3",
   "metadata": {},
   "source": [
    "-----"
   ]
  },
  {
   "cell_type": "code",
   "execution_count": 15,
   "id": "59cf017d",
   "metadata": {},
   "outputs": [],
   "source": [
    "class DiffieHellmanRatchet(object):\n",
    "    \"\"\"\n",
    "    DH-храповик\n",
    "    https://signal.org/docs/specifications/doubleratchet/#diffie-hellman-ratchet\n",
    "    \"\"\"\n",
    "    \n",
    "    def __init__(self):\n",
    "        \"\"\"\n",
    "        Инициализация, выработка начальной ключевой пары\n",
    "        \"\"\"\n",
    "        \n",
    "        self._current_foreign_public_key = None\n",
    "        self._current_key_pair = DiffieHellmanRatchet._generate_key_pair()\n",
    "        \n",
    "    \n",
    "    def is_uninitialized(self):\n",
    "        \"\"\"\n",
    "        Проверка того, что открытый ключ другой стороны отсутствует\n",
    "        \"\"\"\n",
    "        \n",
    "        return self._current_foreign_public_key is None\n",
    "    \n",
    "    \n",
    "    def initialize(self, public_key):\n",
    "        \"\"\"\n",
    "        Инициализация открытого ключа другой стороны\n",
    "        \"\"\"\n",
    "        \n",
    "        self._current_foreign_public_key = public_key\n",
    "        \n",
    "        \n",
    "    def is_same_public_key(self, public_key):\n",
    "        \"\"\"\n",
    "        Проверка равенства открытых ключей\n",
    "        \"\"\"\n",
    "        \n",
    "        if self._current_foreign_public_key is None:\n",
    "            return False\n",
    "        \n",
    "        return public_key == self._current_foreign_public_key\n",
    "    \n",
    "    \n",
    "    def step(self, public_key=None):\n",
    "        \"\"\"\n",
    "        Выработка общего секрета Диффи-Хеллмана\n",
    "        \"\"\"\n",
    "        \n",
    "        if self._current_key_pair is None:\n",
    "            raise RuntimeError('Uninitialized DH Ratchet used to produce a shared secret')\n",
    "        \n",
    "        if public_key is not None:\n",
    "            self._current_foreign_public_key = public_key\n",
    "            \n",
    "        return Curve.multiply_by_scalar(self._current_key_pair.private, self._current_foreign_public_key)\n",
    "    \n",
    "    \n",
    "    def generate_new_key_pair(self):\n",
    "        \"\"\"\n",
    "        Генерирование новой ключевой пары\n",
    "        \"\"\"\n",
    "        \n",
    "        self._current_key_pair = DiffieHellmanRatchet._generate_key_pair()\n",
    "        \n",
    "        \n",
    "    @property\n",
    "    def public_key(self):\n",
    "        \"\"\"\n",
    "        Получение открытого ключа\n",
    "        \"\"\"\n",
    "        \n",
    "        return self._current_key_pair.public\n",
    "    \n",
    "    \n",
    "    @staticmethod\n",
    "    def _generate_key_pair():\n",
    "        private_key = Curve.generate_private_key()\n",
    "        public_key  = Curve.get_public_key(private_key)\n",
    "        \n",
    "        return KeyPair(private_key, public_key)"
   ]
  },
  {
   "cell_type": "markdown",
   "id": "8a6b55f8",
   "metadata": {},
   "source": [
    "----\n",
    "## Участники протоколов из спецификации Signal"
   ]
  },
  {
   "cell_type": "code",
   "execution_count": 16,
   "id": "c1c1fbed",
   "metadata": {},
   "outputs": [],
   "source": [
    "class SignalServer(object):\n",
    "    \"\"\"\n",
    "    Класс сервера Signal\n",
    "    \"\"\"\n",
    "    \n",
    "    def __init__(self):\n",
    "        \"\"\"\n",
    "        Инициализация\n",
    "        \"\"\"\n",
    "        \n",
    "        #\n",
    "        # Коллекция ключевых данных клиентов, индексируемая по номеру телефона\n",
    "        #\n",
    "        \n",
    "        self._key_bundles = {}\n",
    "        \n",
    "        #\n",
    "        # Коллекция очередей сообщения, индексируемая по паре номеров, \n",
    "        # представляющих направление передачи\n",
    "        #\n",
    "        \n",
    "        self._messages = {}\n",
    "        \n",
    "        \n",
    "    def register(self, phone_number: str, keys: KeyBundle):\n",
    "        \"\"\"\n",
    "        Регистрация пользователя по номеру телефона. Сохраняет набор ключей\n",
    "        \"\"\"\n",
    "        \n",
    "        if phone_number in self._key_bundles:\n",
    "            raise ValueError(f'Client with phone number {phone_number} is already registered')\n",
    "            \n",
    "        trace('[SignalServer]', f'Registered client with phone number {phone_number}')\n",
    "            \n",
    "        self._key_bundles[phone_number] = keys\n",
    "        \n",
    "        \n",
    "    def get_public_keys(self, phone_number: str):\n",
    "        \"\"\"\n",
    "        Получение ключей пользователя по его номеру телефона\n",
    "        \"\"\"\n",
    "        \n",
    "        if phone_number not in self._key_bundles:\n",
    "            raise ValueError(f'Client with phone number {phone_number} is not registered yet')\n",
    "            \n",
    "        #\n",
    "        # Достану ключи\n",
    "        #\n",
    "        \n",
    "        keys = self._key_bundles[phone_number]\n",
    "        one_time_keys = keys.OPKs\n",
    "        \n",
    "        #\n",
    "        # Возьму случайный из одноразовых ключей\n",
    "        #\n",
    "        \n",
    "        idx = random.randint(0, len(one_time_keys) - 1)\n",
    "        result = KeyBundle(keys.IK, keys.SPK, keys.Sig, (one_time_keys.pop(idx), idx))\n",
    "        \n",
    "        trace('[SignalServer]', f'Using OPK at {idx}')\n",
    "        \n",
    "        #\n",
    "        # Сохраню обновленный пакет ключей (без одного одноразового)\n",
    "        #\n",
    "        \n",
    "        self._key_bundles[phone_number] = KeyBundle(keys.IK, keys.SPK, keys.Sig, one_time_keys)\n",
    "        \n",
    "        return result\n",
    "    \n",
    "    \n",
    "    def push_message(self, phone_from: str, phone_to: str, message: Message):\n",
    "        \"\"\"\n",
    "        Помещение сообщения в очередь\n",
    "        \"\"\"\n",
    "        \n",
    "        search_key = (phone_from, phone_to)\n",
    "        \n",
    "        if search_key not in self._messages:\n",
    "            self._messages[search_key] = []\n",
    "            \n",
    "        trace('[SignalServer]', f'Saved message with id {message.id} from {phone_from} to {phone_to}')\n",
    "            \n",
    "        self._messages[search_key].append(message)\n",
    "        \n",
    "        \n",
    "    def peek_message(self, phone_from, phone_to):\n",
    "        \"\"\"\n",
    "        Получение сообщения из очереди\n",
    "        \"\"\"\n",
    "        \n",
    "        search_key = (phone_from, phone_to)\n",
    "        \n",
    "        if search_key not in self._messages:\n",
    "            return None\n",
    "        \n",
    "        if self._messages[search_key] == []:\n",
    "            return None\n",
    "        \n",
    "        return self._messages[search_key].pop(0)"
   ]
  },
  {
   "cell_type": "code",
   "execution_count": 17,
   "id": "82dec765",
   "metadata": {},
   "outputs": [],
   "source": [
    "class SignalClient(object):\n",
    "    \"\"\"\n",
    "    Класс клиента Signal\n",
    "    \"\"\"\n",
    "    \n",
    "    X3DH_MSG_ID      = 'X3DH_MSG'\n",
    "    DH_RATCHET_PK_ID = 'DH_RATCHET_PK'\n",
    "    \n",
    "    \n",
    "    @dataclasses.dataclass\n",
    "    class SessionState:\n",
    "        received: bool\n",
    "        dh_ratchet: DiffieHellmanRatchet\n",
    "        root_kdf_chain: KdfChain\n",
    "        send_ratchet: SymmetricRatchet\n",
    "        recv_ratchet: SymmetricRatchet\n",
    "        msg_id: int\n",
    "    \n",
    "    \n",
    "    def __init__(self, phone_number, one_time_keys=10, *, fake_ik=False):\n",
    "        \"\"\"\n",
    "        Инициализация, генерирование ключей\n",
    "        \"\"\"\n",
    "        \n",
    "        self._phone_number  = phone_number\n",
    "        \n",
    "        self._identity_key  = SignalClient._generate_key_pair()\n",
    "        self._signed_prekey = SignalClient._generate_key_pair()\n",
    "        self._ot_prekeys    = [SignalClient._generate_key_pair() for _ in range(one_time_keys)]\n",
    "        \n",
    "        digest = hash_digest(Streebog, pickle.dumps(self._signed_prekey.public))\n",
    "        self._signature = gost3410.sign(Curve.CURVE, self._identity_key.private, digest)\n",
    "        \n",
    "        if fake_ik:\n",
    "            #\n",
    "            # Демонстрация неудачного выполнения, заменю идентификационный ключ\n",
    "            #\n",
    "            \n",
    "            self._identity_key  = SignalClient._generate_key_pair()\n",
    "        \n",
    "        self._sessions = {}\n",
    "        \n",
    "        trace('[SignalClient]', f'Identity key: {self._identity_key}')\n",
    "        trace('[SignalClient]', f'Signed prekey: {self._signed_prekey}')\n",
    "        trace('[SignalClient]', f'Signature: {as_hex(self._signature)}')\n",
    "        trace('[SignalClient]', f'One time keys: {len(self._ot_prekeys)}')\n",
    "        \n",
    "        \n",
    "    def send_message(self, phone_number: str, message: str, server: SignalServer):\n",
    "        \"\"\"\n",
    "        Отправка сообщения, установление сессии, если нужно\n",
    "        \"\"\"\n",
    "        \n",
    "        if phone_number not in self._sessions:\n",
    "            #\n",
    "            # Сессии еще нет, поэтому установлю соединение\n",
    "            #\n",
    "            \n",
    "            return self._x3dh_init_session(phone_number, message, server)\n",
    "        \n",
    "        #\n",
    "        # Так как протокол X3DH асинхронный, то я прямо сразу и отправлю сообщение\n",
    "        #\n",
    "        \n",
    "        if self._sessions[phone_number].received:\n",
    "            #\n",
    "            # Требуется шаг DH-храповика, так как сменилось направление передачи\n",
    "            #\n",
    "            \n",
    "            self._sessions[phone_number].received = False\n",
    "            \n",
    "            trace('[SignalClient]', 'DH ratchet step')\n",
    "            dh_key   = self._sessions[phone_number].dh_ratchet.step()\n",
    "            \n",
    "            trace('[SignalClient]', 'Root KDF chain step')\n",
    "            send_key = self._sessions[phone_number].root_kdf_chain.step(pickle.dumps(dh_key))\n",
    "            \n",
    "            trace('[SignalClient]', 'Sending ratchet reset')\n",
    "            self._sessions[phone_number].send_ratchet.reset(send_key)\n",
    "            \n",
    "        #\n",
    "        # Вырабатывается ключ с помощью симметричного храповика для отправки\n",
    "        # На ключе шифруется само сообщение\n",
    "        #\n",
    "        \n",
    "        trace('[SignalClient]', 'Sending ratchet step')\n",
    "        message_key = self._sessions[phone_number].send_ratchet.step()\n",
    "        \n",
    "        trace('[SignalClient]', f'Use {as_hex(message_key)} as encryption key')\n",
    "        encrypted_message = KuznyechikMGM(message_key).encrypt(message.encode())\n",
    "        \n",
    "        message_id = self._sessions[phone_number].msg_id\n",
    "        public_key = self._sessions[phone_number].dh_ratchet.public_key\n",
    "        \n",
    "        self._sessions[phone_number].msg_id += 1\n",
    "        \n",
    "        server.push_message(self.phone_number, phone_number, Message(public_key, \n",
    "                                                                     message_id, \n",
    "                                                                     encrypted_message))\n",
    "        \n",
    "        \n",
    "    def receive_message(self, phone_number: str, server: SignalServer):\n",
    "        \"\"\"\n",
    "        Прием сообщения, установление сессии, если надо\n",
    "        \"\"\"\n",
    "        \n",
    "        message = server.peek_message(phone_number, self.phone_number)\n",
    "        if message is None:\n",
    "            trace('[SignalClient]', f'No message for {self.phone_number} from {phone_number}')\n",
    "            return\n",
    "        \n",
    "        public_key, message_id, data = message\n",
    "        \n",
    "        trace('[SignalClient]', f'Received message with id {message_id} from {phone_number}')\n",
    "        \n",
    "        if message_id == SignalClient.X3DH_MSG_ID:\n",
    "            #\n",
    "            # Это инициирующее сообщения для установки сессии\n",
    "            #\n",
    "            \n",
    "            return self._x3dh_accept_session(phone_number, data, server)\n",
    "        \n",
    "        if message_id == SignalClient.DH_RATCHET_PK_ID:\n",
    "            #\n",
    "            # Это нам ключ открытый прислали для инициализации\n",
    "            #\n",
    "            \n",
    "            if not self._sessions[phone_number].dh_ratchet.is_uninitialized():\n",
    "                raise RuntimeError(f'Cannot initialize DH ratchet for {self.phone_number} twice')\n",
    "                \n",
    "            return self._sessions[phone_number].dh_ratchet.initialize(public_key)\n",
    "        \n",
    "        #\n",
    "        # Во-первых, факт приема зафиксирую \n",
    "        #\n",
    "        \n",
    "        self._sessions[phone_number].received = True\n",
    "        \n",
    "        #\n",
    "        # Не сменился ли открытый ключ собеседника?\n",
    "        #\n",
    "        \n",
    "        if not self._sessions[phone_number].dh_ratchet.is_same_public_key(public_key):\n",
    "            #\n",
    "            # Требуется шаг DH-храповика, так как сменилось направление передачи\n",
    "            #\n",
    "            \n",
    "            trace('[SignalClient]', 'DH ratchet step')\n",
    "            dh_key = self._sessions[phone_number].dh_ratchet.step(public_key)\n",
    "            self._sessions[phone_number].dh_ratchet.generate_new_key_pair()\n",
    "            \n",
    "            trace('[SignalClient]', 'Root KDF chain step')\n",
    "            recv_key = self._sessions[phone_number].root_kdf_chain.step(pickle.dumps(dh_key))\n",
    "            \n",
    "            trace('[SignalClient]', 'Receiving ratchet reset')\n",
    "            self._sessions[phone_number].recv_ratchet.reset(recv_key)\n",
    "            \n",
    "        #\n",
    "        # Делаю шаг храповика приема\n",
    "        #\n",
    "            \n",
    "        trace('[SignalClient]', 'Receiving ratchet step')\n",
    "        message_key = self._sessions[phone_number].recv_ratchet.step()\n",
    "        \n",
    "        trace('[SignalClient]', f'Use {as_hex(message_key)} as decryption key')\n",
    "        decrypted_message = KuznyechikMGM(message_key).decrypt(*data)\n",
    "        \n",
    "        if decrypted_message is None:\n",
    "            trace('[SignalClient]', 'Cannot decrypt message')\n",
    "            return\n",
    "            \n",
    "        return decrypted_message.decode()\n",
    "        \n",
    "        \n",
    "    @property\n",
    "    def phone_number(self):\n",
    "        \"\"\"\n",
    "        Получение номер телефона\n",
    "        \"\"\"\n",
    "        \n",
    "        return self._phone_number\n",
    "    \n",
    "    \n",
    "    @property\n",
    "    def public_keys(self):\n",
    "        \"\"\"\n",
    "        Получение открытых ключей\n",
    "        \"\"\"\n",
    "        \n",
    "        return KeyBundle(self._identity_key.public, self._signed_prekey.public, \n",
    "                         self._signature, [prekey.public for prekey in self._ot_prekeys])\n",
    "        \n",
    "        \n",
    "    def _x3dh_init_session(self, phone_number: str, message: str, server: SignalServer):\n",
    "        IKb, SPKb, Sigb, (OPKb, idx) = server.get_public_keys(phone_number)\n",
    "        \n",
    "        #\n",
    "        # Проверяю подпись\n",
    "        #\n",
    "        \n",
    "        digest = hash_digest(Streebog, pickle.dumps(SPKb))\n",
    "        if not gost3410.verify(Curve.CURVE, IKb, digest, Sigb):\n",
    "            trace('[SignalClient]', f'Cannot verify signature of client with phone {phone_number}')\n",
    "            return\n",
    "        \n",
    "        #\n",
    "        # Эфемерный ключ\n",
    "        #\n",
    "        \n",
    "        EKa = SignalClient._generate_key_pair()\n",
    "        \n",
    "        #\n",
    "        # Выработка общих секретов\n",
    "        #\n",
    "        \n",
    "        DH1 = SignalClient._dh(self._identity_key, SPKb)\n",
    "        DH2 = SignalClient._dh(EKa, IKb)\n",
    "        DH3 = SignalClient._dh(EKa, SPKb)\n",
    "        DH4 = SignalClient._dh(EKa, OPKb)\n",
    "        \n",
    "        #\n",
    "        # Вырабатываю ключ и создаю сообщение\n",
    "        # В качестве данных я отправлю шифртекст сообщения,\n",
    "        # идентификационный ключ, эфемерный ключ и индекс\n",
    "        # использованного одноразового ключа\n",
    "        #\n",
    "        # Протокол разрешает использовать выработанный ключ прямо\n",
    "        # для зашифрования первого сообщения: An initial ciphertext \n",
    "        # encrypted with some AEAD encryption scheme [4] using AD \n",
    "        # as associated data and using an encryption key which is \n",
    "        # either SK or the output from some cryptographic PRF keyed by SK.\n",
    "        #\n",
    "        \n",
    "        AD = pickle.dumps(self._identity_key.public) + pickle.dumps(IKb)\n",
    "        trace('[SignalClient]', f'Use {as_hex(AD)} as associated data')\n",
    "        \n",
    "        root_key = SignalClient._produce_root_key(DH1, DH2, DH3, DH4)\n",
    "        trace('[SignalClient]', f'Use {as_hex(root_key)} as root key')\n",
    "        \n",
    "        #\n",
    "        # А теперь требуется создать состояние\n",
    "        #\n",
    "        \n",
    "        self._initialize_state(phone_number, root_key)\n",
    "        \n",
    "        encrypted_message = KuznyechikMGM(root_key).encrypt(message.encode(), AD)\n",
    "        message = (encrypted_message, self._identity_key.public, EKa.public, idx)\n",
    "        \n",
    "        server.push_message(self.phone_number, phone_number, \n",
    "                            Message(None, SignalClient.X3DH_MSG_ID, message))\n",
    "        \n",
    "    \n",
    "    def _x3dh_accept_session(self, phone_number: str, x3dh_parameters: Message, server: SignalServer):\n",
    "        encrypred_message, IKa, EKa, idx = x3dh_parameters\n",
    "        \n",
    "        #\n",
    "        # Получу нужный одноразовый ключ\n",
    "        #\n",
    "        \n",
    "        OPKb = self._ot_prekeys.pop(idx)\n",
    "        \n",
    "        #\n",
    "        # Выработка общих секретов\n",
    "        #\n",
    "        \n",
    "        DH1 = SignalClient._dh(self._signed_prekey, IKa)\n",
    "        DH2 = SignalClient._dh(self._identity_key, EKa)\n",
    "        DH3 = SignalClient._dh(self._signed_prekey, EKa)\n",
    "        DH4 = SignalClient._dh(OPKb, EKa)\n",
    "        \n",
    "        #\n",
    "        # Вырабатываю ключ и читаю сообщение\n",
    "        #\n",
    "        \n",
    "        AD = pickle.dumps(IKa) + pickle.dumps(self._identity_key.public)\n",
    "        trace('[SignalClient]', f'Use {as_hex(AD)} as associated data')\n",
    "        \n",
    "        root_key = SignalClient._produce_root_key(DH1, DH2, DH3, DH4)\n",
    "        trace('[SignalClient]', f'Use {as_hex(root_key)} as root key')\n",
    "        \n",
    "        decrypted_message = KuznyechikMGM(root_key).decrypt(*encrypred_message, AD)\n",
    "        \n",
    "        if decrypted_message is None:\n",
    "            trace('[SignalClient]', 'Cannot decrypt message')\n",
    "            return\n",
    "        \n",
    "        #\n",
    "        # Теперь нужно инициализировать состояние и отослать открытый ключ\n",
    "        #\n",
    "        \n",
    "        self._initialize_state(phone_number, root_key)\n",
    "        \n",
    "        public_key = self._sessions[phone_number].dh_ratchet.public_key\n",
    "        server.push_message(self.phone_number, phone_number, Message(public_key, \n",
    "                                                                     SignalClient.DH_RATCHET_PK_ID, \n",
    "                                                                     None))\n",
    "        \n",
    "        return decrypted_message.decode()\n",
    "        \n",
    "        \n",
    "    def _initialize_state(self, phone_number: str, root_key):\n",
    "        self._sessions[phone_number] = SignalClient.SessionState(True, \n",
    "                                                                 DiffieHellmanRatchet(), \n",
    "                                                                 SymmetricRatchet(root_key), \n",
    "                                                                 KdfChain(b'\\x00', KuznyechikMGM.KEY_SIZE), \n",
    "                                                                 KdfChain(b'\\x00', KuznyechikMGM.KEY_SIZE), \n",
    "                                                                 0)\n",
    "        \n",
    "        \n",
    "    def _try_mimic(self, phone_number, session_phone_number, session):\n",
    "        self._phone_number = phone_number\n",
    "        self._sessions[session_phone_number] = session\n",
    "        self._sessions[session_phone_number].dh_ratchet.generate_new_key_pair()\n",
    "        \n",
    "        trace('[SignalClient]', f'User now tries to be a user with phone {phone_number}')\n",
    "        \n",
    "        \n",
    "    @staticmethod\n",
    "    def _generate_key_pair():\n",
    "        private_key = Curve.generate_private_key()\n",
    "        public_key  = Curve.get_public_key(private_key)\n",
    "        \n",
    "        return KeyPair(private_key, public_key)\n",
    "    \n",
    "    \n",
    "    @staticmethod\n",
    "    def _dh(key_pair, public_key):\n",
    "        return Curve.multiply_by_scalar(key_pair.private, public_key)\n",
    "    \n",
    "    \n",
    "    @staticmethod\n",
    "    def _produce_root_key(DH1, DH2, DH3, DH4):\n",
    "        kdf_data = pickle.dumps(DH1) + pickle.dumps(DH2) + pickle.dumps(DH3) + pickle.dumps(DH4)\n",
    "        return HKDF(kdf_data, KuznyechikMGM.KEY_SIZE, b'\\x00' * 16, Streebog, 1)"
   ]
  },
  {
   "cell_type": "markdown",
   "id": "825aca31",
   "metadata": {},
   "source": [
    "----\n",
    "## Демонстрация удачного выполнения протоколов"
   ]
  },
  {
   "cell_type": "code",
   "execution_count": 18,
   "id": "a6ce4155",
   "metadata": {},
   "outputs": [],
   "source": [
    "# Создаю сервер\n",
    "srv = SignalServer()"
   ]
  },
  {
   "cell_type": "code",
   "execution_count": 19,
   "id": "23b87947",
   "metadata": {},
   "outputs": [
    {
     "name": "stdout",
     "output_type": "stream",
     "text": [
      "[TRACE] [SignalClient] Identity key: KeyPair(private=12442124307749309071029862161873168184498515238008143490796295161666719857316330431866396065862152165792723434406631270709727659328633545006723406243977891, public=(5565860052959195528411498999526449300214300079280127506989263797804322253523492503146052371121831654246056292351741969042512252341592128694608037157021032, 870277569380833946177765812408107024256062607492550211218701985760450390135753087525592147115523427092421492543884986841501804561127611675757429091876155))\n",
      "[TRACE] [SignalClient] Signed prekey: KeyPair(private=11292229127230130269545525999935181654522332578128516886494610243151213995239227752369278076149947130307355101945512888916387955980059522717106094063101269, public=(10391610020728069510088615374034402382983308456722903346947393517777520807069132737012178469654273856089500733772760133057383406015421907995928803288938762, 12123476741995883116832466574980303713694115509152630983587041154143200135730214798978294707017111387066109037672429767896562551766685945793585106439985647))\n",
      "[TRACE] [SignalClient] Signature: 3ec2c78975eb4c5228ce48611acd928cfd63ac3c1e3a7a48285df302d0c67cc44568e07917a8c0e7ed5e793f5e9f8f8493b5145095fcc466cd3ec5542579e7438e74c3d515927bf3178a1b48d730b163da734c0f72db8c62cb64905bb0532399e008ca9f6726c7c9755ed1adce410f7fb647d5b48f0f259930251b95afb26a1b\n",
      "[TRACE] [SignalClient] One time keys: 10\n"
     ]
    }
   ],
   "source": [
    "# Пользователь Алиса\n",
    "alice = SignalClient('+7 921 059-87-72')"
   ]
  },
  {
   "cell_type": "code",
   "execution_count": 20,
   "id": "5882e568",
   "metadata": {},
   "outputs": [
    {
     "name": "stdout",
     "output_type": "stream",
     "text": [
      "[TRACE] [SignalClient] Identity key: KeyPair(private=4856257525129982153604500927389574709544329993920982716396188279476381306905451283143331405065202563905012772337725242928044818912198255015662977129978622, public=(7108367292483862894274207625529550008194931729673397080442636384828835687755598189855404620980457818150401813781443091083064684248980477733275358342749922, 1387188628660597990866764595636074140064408442770002060708855062969239154054703897455437769377918512302720922881951661194629907585471379142729688546295003))\n",
      "[TRACE] [SignalClient] Signed prekey: KeyPair(private=5521738976296579535185272296986246797917360835342070478187346005858113126379759458082279749941558596265488007032296404968759331919021154701039914671387236, public=(9108264195848112585904173823909668519677900490989051627962028006154362343982971373948660851238804674669058652176873175602377245093735564254629256583974431, 1052561544376139768534029828191700787746232177266738978377829773140283480996213840639113605972609467054013514774092630216800914105739946639669516228601449))\n",
      "[TRACE] [SignalClient] Signature: 8444bce9b93d83856714ec612e11c67079731688af59965f7aef288974bef381962683b5348010b67b52993a24e4b5b6257d31f00846bb9a99bdb5f128cfb4a865cf12510a09b32da2eb08c6a87e79e50328fce36f1896db4f19fe85d89b06244ac3097620c97f08a571f638efe1a0ab0d1de3b07661c28ba526c0ea6bd3c101\n",
      "[TRACE] [SignalClient] One time keys: 10\n"
     ]
    }
   ],
   "source": [
    "# Пользователь Боб\n",
    "bob = SignalClient('+7 991 174-51-34')"
   ]
  },
  {
   "cell_type": "code",
   "execution_count": 21,
   "id": "471d5260",
   "metadata": {},
   "outputs": [
    {
     "name": "stdout",
     "output_type": "stream",
     "text": [
      "[TRACE] [SignalServer] Registered client with phone number +7 921 059-87-72\n",
      "[TRACE] [SignalServer] Registered client with phone number +7 991 174-51-34\n"
     ]
    }
   ],
   "source": [
    "# Регистрирую всех \n",
    "srv.register(alice.phone_number, alice.public_keys)\n",
    "srv.register(bob.phone_number, bob.public_keys)"
   ]
  },
  {
   "cell_type": "code",
   "execution_count": 22,
   "id": "1311a677",
   "metadata": {},
   "outputs": [
    {
     "name": "stdout",
     "output_type": "stream",
     "text": [
      "[TRACE] [SignalServer] Using OPK at 1\n",
      "[TRACE] [SignalClient] Use 80049587000000000000008a406825e0b96a7a21df64c7cf28936e920b07f47a847d43b584e689e030725709b2b53cdae898467143b5a47c51680a46c9aeb75183a6fe38aabb98ad8c735b456a8a403b3d66d1aefeb9e94983ff19811c9e652e63f42422acd58a955a4378e8592a726e6a44385e05aff29ac07740032b673492c79645cf166b5c04135c9001d49d1086942e80049588000000000000008a41e21e65a232da79a5e67c77efdb3c79438e908d45dfb3950ddcb588e9ee001c166ed1c91a68ecf586c37f4a34e536234ca2dd1c78bffb023eafae6280bef9b887008a40db3c20cbac659860d2717db581063c4a72e88768203fd63460874d908ab6fb82d2a568a55eb13a150c71d869d2cef8d16ac39e379f185c1794540186d06f7c1a86942e as associated data\n",
      "[TRACE] [SignalClient] Use fd01fcd721e50e83b13b9b1914b0a829f7b4e19f9a5d1c707026d939cc7bd6cb as root key\n",
      "[TRACE] [SignalServer] Saved message with id X3DH_MSG from +7 921 059-87-72 to +7 991 174-51-34\n"
     ]
    }
   ],
   "source": [
    "# Алиса пытается пообщаться с Бобом\n",
    "alice.send_message(bob.phone_number, 'Hi!', srv)"
   ]
  },
  {
   "cell_type": "code",
   "execution_count": 23,
   "id": "7fff9ea3",
   "metadata": {},
   "outputs": [
    {
     "name": "stdout",
     "output_type": "stream",
     "text": [
      "[TRACE] [SignalClient] Received message with id X3DH_MSG from +7 921 059-87-72\n",
      "[TRACE] [SignalClient] Use 80049587000000000000008a406825e0b96a7a21df64c7cf28936e920b07f47a847d43b584e689e030725709b2b53cdae898467143b5a47c51680a46c9aeb75183a6fe38aabb98ad8c735b456a8a403b3d66d1aefeb9e94983ff19811c9e652e63f42422acd58a955a4378e8592a726e6a44385e05aff29ac07740032b673492c79645cf166b5c04135c9001d49d1086942e80049588000000000000008a41e21e65a232da79a5e67c77efdb3c79438e908d45dfb3950ddcb588e9ee001c166ed1c91a68ecf586c37f4a34e536234ca2dd1c78bffb023eafae6280bef9b887008a40db3c20cbac659860d2717db581063c4a72e88768203fd63460874d908ab6fb82d2a568a55eb13a150c71d869d2cef8d16ac39e379f185c1794540186d06f7c1a86942e as associated data\n",
      "[TRACE] [SignalClient] Use fd01fcd721e50e83b13b9b1914b0a829f7b4e19f9a5d1c707026d939cc7bd6cb as root key\n",
      "[TRACE] [SignalServer] Saved message with id DH_RATCHET_PK from +7 991 174-51-34 to +7 921 059-87-72\n"
     ]
    },
    {
     "data": {
      "text/plain": [
       "'Hi!'"
      ]
     },
     "execution_count": 23,
     "metadata": {},
     "output_type": "execute_result"
    }
   ],
   "source": [
    "# Боб полчает сообщение\n",
    "bob.receive_message(alice.phone_number, srv)"
   ]
  },
  {
   "cell_type": "code",
   "execution_count": 24,
   "id": "807d2ac5",
   "metadata": {},
   "outputs": [
    {
     "name": "stdout",
     "output_type": "stream",
     "text": [
      "[TRACE] [SignalClient] Received message with id DH_RATCHET_PK from +7 991 174-51-34\n"
     ]
    }
   ],
   "source": [
    "# Это небольшой костыль, тут я получаю инициализирующее \n",
    "# сообщение с открытым ключом Боба\n",
    "alice.receive_message(bob.phone_number, srv)"
   ]
  },
  {
   "cell_type": "code",
   "execution_count": 25,
   "id": "0d6b2a6f",
   "metadata": {},
   "outputs": [
    {
     "name": "stdout",
     "output_type": "stream",
     "text": [
      "[TRACE] [SignalClient] DH ratchet step\n",
      "[TRACE] [SignalClient] Root KDF chain step\n",
      "[TRACE] [SignalClient] Sending ratchet reset\n",
      "[TRACE] [SignalClient] Sending ratchet step\n",
      "[TRACE] [SignalClient] Use c0fbd71ba9580099ad82070f60905b98a265c3a7b654b02d563eedeec13a8faa as encryption key\n",
      "[TRACE] [SignalServer] Saved message with id 0 from +7 921 059-87-72 to +7 991 174-51-34\n"
     ]
    }
   ],
   "source": [
    "# Алиса отсылает сообщение\n",
    "alice.send_message(bob.phone_number, \"What's up?\", srv)"
   ]
  },
  {
   "cell_type": "code",
   "execution_count": 26,
   "id": "c7be80fc",
   "metadata": {},
   "outputs": [
    {
     "name": "stdout",
     "output_type": "stream",
     "text": [
      "[TRACE] [SignalClient] Received message with id 0 from +7 921 059-87-72\n",
      "[TRACE] [SignalClient] DH ratchet step\n",
      "[TRACE] [SignalClient] Root KDF chain step\n",
      "[TRACE] [SignalClient] Receiving ratchet reset\n",
      "[TRACE] [SignalClient] Receiving ratchet step\n",
      "[TRACE] [SignalClient] Use c0fbd71ba9580099ad82070f60905b98a265c3a7b654b02d563eedeec13a8faa as decryption key\n"
     ]
    },
    {
     "data": {
      "text/plain": [
       "\"What's up?\""
      ]
     },
     "execution_count": 26,
     "metadata": {},
     "output_type": "execute_result"
    }
   ],
   "source": [
    "# Боб принимает и расшифровывает\n",
    "bob.receive_message(alice.phone_number, srv)"
   ]
  },
  {
   "cell_type": "code",
   "execution_count": 27,
   "id": "1bf002aa",
   "metadata": {},
   "outputs": [
    {
     "name": "stdout",
     "output_type": "stream",
     "text": [
      "[TRACE] [SignalClient] DH ratchet step\n",
      "[TRACE] [SignalClient] Root KDF chain step\n",
      "[TRACE] [SignalClient] Sending ratchet reset\n",
      "[TRACE] [SignalClient] Sending ratchet step\n",
      "[TRACE] [SignalClient] Use e2862b80121b534a940415a04701ab030e2c40ae5a6909f2a3af5ded8cc722ed as encryption key\n",
      "[TRACE] [SignalServer] Saved message with id 0 from +7 991 174-51-34 to +7 921 059-87-72\n",
      "[TRACE] [SignalClient] Sending ratchet step\n",
      "[TRACE] [SignalClient] Use 09e1464655e12892b4deacc68cdb3d46ab9ca5944684445f28192dc16a0ca061 as encryption key\n",
      "[TRACE] [SignalServer] Saved message with id 1 from +7 991 174-51-34 to +7 921 059-87-72\n"
     ]
    }
   ],
   "source": [
    "# Можно послать несколько сообщений подряд\n",
    "bob.send_message(alice.phone_number, 'Some dummy phrase just to continue the dialog', srv)\n",
    "bob.send_message(alice.phone_number, 'And another one', srv)"
   ]
  },
  {
   "cell_type": "code",
   "execution_count": 28,
   "id": "42b766be",
   "metadata": {},
   "outputs": [
    {
     "name": "stdout",
     "output_type": "stream",
     "text": [
      "[TRACE] [SignalClient] Received message with id 0 from +7 991 174-51-34\n",
      "[TRACE] [SignalClient] DH ratchet step\n",
      "[TRACE] [SignalClient] Root KDF chain step\n",
      "[TRACE] [SignalClient] Receiving ratchet reset\n",
      "[TRACE] [SignalClient] Receiving ratchet step\n",
      "[TRACE] [SignalClient] Use e2862b80121b534a940415a04701ab030e2c40ae5a6909f2a3af5ded8cc722ed as decryption key\n"
     ]
    },
    {
     "data": {
      "text/plain": [
       "'Some dummy phrase just to continue the dialog'"
      ]
     },
     "execution_count": 28,
     "metadata": {},
     "output_type": "execute_result"
    }
   ],
   "source": [
    "# И получить оба. Одно...\n",
    "alice.receive_message(bob.phone_number, srv)"
   ]
  },
  {
   "cell_type": "code",
   "execution_count": 29,
   "id": "8e0acd53",
   "metadata": {},
   "outputs": [
    {
     "name": "stdout",
     "output_type": "stream",
     "text": [
      "[TRACE] [SignalClient] Received message with id 1 from +7 991 174-51-34\n",
      "[TRACE] [SignalClient] Receiving ratchet step\n",
      "[TRACE] [SignalClient] Use 09e1464655e12892b4deacc68cdb3d46ab9ca5944684445f28192dc16a0ca061 as decryption key\n"
     ]
    },
    {
     "data": {
      "text/plain": [
       "'And another one'"
      ]
     },
     "execution_count": 29,
     "metadata": {},
     "output_type": "execute_result"
    }
   ],
   "source": [
    "# ... за другим\n",
    "alice.receive_message(bob.phone_number, srv)"
   ]
  },
  {
   "cell_type": "code",
   "execution_count": 30,
   "id": "6ee3f25e",
   "metadata": {},
   "outputs": [
    {
     "name": "stdout",
     "output_type": "stream",
     "text": [
      "[TRACE] [SignalClient] DH ratchet step\n",
      "[TRACE] [SignalClient] Root KDF chain step\n",
      "[TRACE] [SignalClient] Sending ratchet reset\n",
      "[TRACE] [SignalClient] Sending ratchet step\n",
      "[TRACE] [SignalClient] Use 0cdded156016e61ad1a8863fac3437bdbe4c4f33fc928fd4d48aafccf2849898 as encryption key\n",
      "[TRACE] [SignalServer] Saved message with id 1 from +7 921 059-87-72 to +7 991 174-51-34\n"
     ]
    }
   ],
   "source": [
    "# Можно снова сменить направление отправки и \n",
    "# посмотреть, что произошел шаг DH-храповика\n",
    "alice.send_message(bob.phone_number, 'Yet another DH ratchet step demo', srv)"
   ]
  },
  {
   "cell_type": "code",
   "execution_count": 31,
   "id": "7c2f13e7",
   "metadata": {},
   "outputs": [
    {
     "name": "stdout",
     "output_type": "stream",
     "text": [
      "[TRACE] [SignalClient] Received message with id 1 from +7 921 059-87-72\n",
      "[TRACE] [SignalClient] DH ratchet step\n",
      "[TRACE] [SignalClient] Root KDF chain step\n",
      "[TRACE] [SignalClient] Receiving ratchet reset\n",
      "[TRACE] [SignalClient] Receiving ratchet step\n",
      "[TRACE] [SignalClient] Use 0cdded156016e61ad1a8863fac3437bdbe4c4f33fc928fd4d48aafccf2849898 as decryption key\n"
     ]
    },
    {
     "data": {
      "text/plain": [
       "'Yet another DH ratchet step demo'"
      ]
     },
     "execution_count": 31,
     "metadata": {},
     "output_type": "execute_result"
    }
   ],
   "source": [
    "# А на другой строне надо получить сообщение\n",
    "bob.receive_message(alice.phone_number, srv)"
   ]
  },
  {
   "cell_type": "code",
   "execution_count": 32,
   "id": "2412831a",
   "metadata": {},
   "outputs": [
    {
     "name": "stdout",
     "output_type": "stream",
     "text": [
      "[TRACE] [SignalClient] Identity key: KeyPair(private=7738834059388650776104464738803049002401276913744716829640089312760312347311107202249135191390216708892650103928797530126177443030687023259314129838171087, public=(2679034846012206711192272854216388977763728692022387112666767967874128581631321320660070101886771870940867900347530157806891134857154689785504944311547160, 8423883605996883012177975558520986810095904934850089952653349897088092953707254381097881109545382530883606356471029241908042112347648957576877359808780718))\n",
      "[TRACE] [SignalClient] Signed prekey: KeyPair(private=13049916981104646880607601673276721953495406482850983508125536820648133693481585105187851085589172889812783684621899743466734428097787576014629352047888640, public=(11290128613746124828398786439410540815877541915625671462217178999476580331622833094477448612342380156495574692617818827220070058441631911968540534265772745, 11376326606188472173984290258921317615077407033667330154303556708748863513887243372431371645419724094246231021544891778324696640456404795288593058947531068))\n",
      "[TRACE] [SignalClient] Signature: 705ca8be35a1325018004a88be57a5f22e263847dd5c0b35eeae12e8afcb3d1209c3af611640cd99718441ebbfa766f61c5b04eed51fce6b2f22e46e72c10a11fe8f686a4cd2eac011daf59b68cdfe9ea3f8f6bbbac1527a31b748b85a123b40bfdf9c22719c3deb12d8a17bcf019086ab670ea09ccf3961751c491f408fd4e4\n",
      "[TRACE] [SignalClient] One time keys: 10\n",
      "[TRACE] [SignalServer] Registered client with phone number +7 970 505-44-25\n"
     ]
    }
   ],
   "source": [
    "# Можно третьего пользователя создать\n",
    "carol = SignalClient('+7 970 505-44-25')\n",
    "srv.register(carol.phone_number, carol.public_keys)"
   ]
  },
  {
   "cell_type": "code",
   "execution_count": 33,
   "id": "7e07d49d",
   "metadata": {},
   "outputs": [
    {
     "name": "stdout",
     "output_type": "stream",
     "text": [
      "[TRACE] [SignalClient] Sending ratchet step\n",
      "[TRACE] [SignalClient] Use 071e3a9c10474d00718dc344f8e5b27c24e071870054a61c47f3176a81a8536a as encryption key\n",
      "[TRACE] [SignalServer] Saved message with id 2 from +7 921 059-87-72 to +7 991 174-51-34\n",
      "[TRACE] [SignalServer] Using OPK at 1\n",
      "[TRACE] [SignalClient] Use 80049587000000000000008a406825e0b96a7a21df64c7cf28936e920b07f47a847d43b584e689e030725709b2b53cdae898467143b5a47c51680a46c9aeb75183a6fe38aabb98ad8c735b456a8a403b3d66d1aefeb9e94983ff19811c9e652e63f42422acd58a955a4378e8592a726e6a44385e05aff29ac07740032b673492c79645cf166b5c04135c9001d49d1086942e80049588000000000000008a4018b564601df4f3478d21a682cbbb082ae220fe48318aeb979cd410104eb14519bc103f601e22d70ea9dfe15d3bd3746e92411c255100f7ec93ded7417cd926338a41ae19327f90ac5ca36e2a67270f4adc4799f499c61107427022b2f8fbb314cff1991c63f22b069644f2196244bbaeebceb7caea57399c13ff8d391423da15d7a00086942e as associated data\n",
      "[TRACE] [SignalClient] Use 9af17713a2e6726860faba0a4bd9d4a1e44cc6ec750ff482d82ef896e585db7c as root key\n",
      "[TRACE] [SignalServer] Saved message with id X3DH_MSG from +7 921 059-87-72 to +7 970 505-44-25\n"
     ]
    }
   ],
   "source": [
    "alice.send_message(bob.phone_number, \"I'm making new friends\", srv)\n",
    "alice.send_message(carol.phone_number, 'Hi, Carol!', srv)"
   ]
  },
  {
   "cell_type": "code",
   "execution_count": 34,
   "id": "cd4cfd33",
   "metadata": {},
   "outputs": [
    {
     "name": "stdout",
     "output_type": "stream",
     "text": [
      "[TRACE] [SignalClient] Received message with id X3DH_MSG from +7 921 059-87-72\n",
      "[TRACE] [SignalClient] Use 80049587000000000000008a406825e0b96a7a21df64c7cf28936e920b07f47a847d43b584e689e030725709b2b53cdae898467143b5a47c51680a46c9aeb75183a6fe38aabb98ad8c735b456a8a403b3d66d1aefeb9e94983ff19811c9e652e63f42422acd58a955a4378e8592a726e6a44385e05aff29ac07740032b673492c79645cf166b5c04135c9001d49d1086942e80049588000000000000008a4018b564601df4f3478d21a682cbbb082ae220fe48318aeb979cd410104eb14519bc103f601e22d70ea9dfe15d3bd3746e92411c255100f7ec93ded7417cd926338a41ae19327f90ac5ca36e2a67270f4adc4799f499c61107427022b2f8fbb314cff1991c63f22b069644f2196244bbaeebceb7caea57399c13ff8d391423da15d7a00086942e as associated data\n",
      "[TRACE] [SignalClient] Use 9af17713a2e6726860faba0a4bd9d4a1e44cc6ec750ff482d82ef896e585db7c as root key\n",
      "[TRACE] [SignalServer] Saved message with id DH_RATCHET_PK from +7 970 505-44-25 to +7 921 059-87-72\n"
     ]
    },
    {
     "data": {
      "text/plain": [
       "'Hi, Carol!'"
      ]
     },
     "execution_count": 34,
     "metadata": {},
     "output_type": "execute_result"
    }
   ],
   "source": [
    "carol.receive_message(alice.phone_number, srv)"
   ]
  },
  {
   "cell_type": "code",
   "execution_count": 35,
   "id": "c5150534",
   "metadata": {},
   "outputs": [
    {
     "name": "stdout",
     "output_type": "stream",
     "text": [
      "[TRACE] [SignalClient] Received message with id 2 from +7 921 059-87-72\n",
      "[TRACE] [SignalClient] Receiving ratchet step\n",
      "[TRACE] [SignalClient] Use 071e3a9c10474d00718dc344f8e5b27c24e071870054a61c47f3176a81a8536a as decryption key\n"
     ]
    },
    {
     "data": {
      "text/plain": [
       "\"I'm making new friends\""
      ]
     },
     "execution_count": 35,
     "metadata": {},
     "output_type": "execute_result"
    }
   ],
   "source": [
    "bob.receive_message(alice.phone_number, srv)"
   ]
  },
  {
   "cell_type": "markdown",
   "id": "28afacea",
   "metadata": {},
   "source": [
    "----\n",
    "## Демонстрация неуспешного выполнения протоколов"
   ]
  },
  {
   "cell_type": "code",
   "execution_count": 36,
   "id": "4c01023f",
   "metadata": {},
   "outputs": [
    {
     "name": "stdout",
     "output_type": "stream",
     "text": [
      "[TRACE] [SignalClient] Identity key: KeyPair(private=4384742645893493514160695085147557174497821900204255180843018134137592105750154378340910765329041667867903915319809292468715906565656080936632277667031166, public=(8889684924892548420026438839826749769540943140073500690026926172755847528900873598809859855605187264782955862958927023509124572116166790464345235221544192, 6356464485786319456169464725766735744309572617435990596676997950501522133629997000573321730427309138362670671209999626212534112621724184634475676048539045))\n",
      "[TRACE] [SignalClient] Signed prekey: KeyPair(private=6951332178063369763514985722604178685180935232858777003356257794951697736712552278474908191779522605309190391191631520573649176623098610268142467955868820, public=(9944739640659800912360562019122575624801842662543779351960474061034200182050160289422782727895887769634043777723143132821200596467196331674042526058101989, 11305951609722333617990240014164073925060660738250251457549840928560779454550701422420014187611038977424333138529086036160271819542653430866851275636439008))\n",
      "[TRACE] [SignalClient] Signature: 9955f7c9a8bda1db848203f0f7f7b1d93d38acf6a8144270b504751034f2e626f7946ce9f320381cb26bebe737697816af0a5c203a42878699f0c3f82120da4a2adc44c41d6cdd5ae8e153b3648713cb7a1ef79673d30f270237568d9a304fb75f3d3b13f86e4eb98a12ba529bb39fec2ccceea9cf3bdd5edba063d2502c8c92\n",
      "[TRACE] [SignalClient] One time keys: 10\n"
     ]
    }
   ],
   "source": [
    "# Пользователь, который как-то украл подпись и подписанный ключ\n",
    "# Но его идентификационный ключ не позволяет проверить подпись\n",
    "mallory = SignalClient('+1 202-918-2132', fake_ik=True)"
   ]
  },
  {
   "cell_type": "code",
   "execution_count": 37,
   "id": "36d3e21b",
   "metadata": {},
   "outputs": [
    {
     "name": "stdout",
     "output_type": "stream",
     "text": [
      "[TRACE] [SignalServer] Registered client with phone number +1 202-918-2132\n"
     ]
    }
   ],
   "source": [
    "# Надо зарегистрироваться\n",
    "srv.register(mallory.phone_number, mallory.public_keys)"
   ]
  },
  {
   "cell_type": "code",
   "execution_count": 38,
   "id": "1f7a11ce",
   "metadata": {},
   "outputs": [
    {
     "name": "stdout",
     "output_type": "stream",
     "text": [
      "[TRACE] [SignalServer] Using OPK at 8\n",
      "[TRACE] [SignalClient] Cannot verify signature of client with phone +1 202-918-2132\n"
     ]
    }
   ],
   "source": [
    "# Алиса получает ключи с сервера и обнаруживает несоответствие\n",
    "alice.send_message(mallory.phone_number, 'Hi!', srv)"
   ]
  },
  {
   "cell_type": "code",
   "execution_count": 39,
   "id": "4033a732",
   "metadata": {},
   "outputs": [
    {
     "name": "stdout",
     "output_type": "stream",
     "text": [
      "[TRACE] [SignalClient] Identity key: KeyPair(private=4983900448805121562366832856099472522805052485061680064563798153959354352279443014766130999465334968034250282001346098422181171341046842144648450873475703, public=(2034220974807066331406490423963012517805540519733673266797528971851869943616874957737432360355151249000506679265490340161918788422569213228065347179167862, 8250802430341286356427742254767897726707668804872046910966047951063340083922618306902726628284923004344691753946148132023302823238612333344827556826442552))\n",
      "[TRACE] [SignalClient] Signed prekey: KeyPair(private=8537974303592014130390144267804800519175209600302751016198657981712067193753481164986992365133202278078894395335885155253038554854833128866987562011497441, public=(4090056598343417870103164192380664203421090193514580585326452004084956729715496361017028144869449645298860509955871682183165141324490739416783680930631071, 5718806668502684541295146711071639964402860434991461627529954373727609424381256294589462954136007614993358725471921035594193183509341774801235991931819507))\n",
      "[TRACE] [SignalClient] Signature: a3c766264a17abc0cd57897d49659f4b30e964e35099bc3c56aa9f8d45ccd312d2ff65ae12f8b724a8545a86a5db87bb342a1793f0d222fa6426038c71b3c04cca3c8c5c344a769f8d63e54295183866e0e6a3fe2d5a018f1e48a051c85b65cc2b257a72ffaf1b0ef933cc86995c0de72ff6bafaedee70d744562488243a15c0\n",
      "[TRACE] [SignalClient] One time keys: 10\n"
     ]
    }
   ],
   "source": [
    "# Еще один пользователь-враг -- Ева\n",
    "eve = SignalClient('+1 539-567-2473')"
   ]
  },
  {
   "cell_type": "code",
   "execution_count": 40,
   "id": "5aa85ed1",
   "metadata": {},
   "outputs": [
    {
     "name": "stdout",
     "output_type": "stream",
     "text": [
      "[TRACE] [SignalClient] User now tries to be a user with phone +7 921 059-87-72\n"
     ]
    }
   ],
   "source": [
    "# Она пытается прикинуться Алисой в разговоре с Бобом\n",
    "eve._try_mimic(alice.phone_number, bob.phone_number, \n",
    "               alice._sessions[bob.phone_number])"
   ]
  },
  {
   "cell_type": "code",
   "execution_count": 41,
   "id": "59c9bdab",
   "metadata": {},
   "outputs": [
    {
     "name": "stdout",
     "output_type": "stream",
     "text": [
      "[TRACE] [SignalClient] DH ratchet step\n",
      "[TRACE] [SignalClient] Root KDF chain step\n",
      "[TRACE] [SignalClient] Sending ratchet reset\n",
      "[TRACE] [SignalClient] Sending ratchet step\n",
      "[TRACE] [SignalClient] Use 0cc7a5a7a52b776cca9ca914da8f5cd2e9806eb1b5ce933618642cc1c47da181 as encryption key\n",
      "[TRACE] [SignalServer] Saved message with id 2 from +7 991 174-51-34 to +7 921 059-87-72\n"
     ]
    }
   ],
   "source": [
    "# Боб отправляет Алисе соообщение\n",
    "bob.send_message(alice.phone_number, 'Hi!', srv)"
   ]
  },
  {
   "cell_type": "code",
   "execution_count": 42,
   "id": "dd446d3b",
   "metadata": {},
   "outputs": [
    {
     "name": "stdout",
     "output_type": "stream",
     "text": [
      "[TRACE] [SignalClient] Received message with id 2 from +7 991 174-51-34\n",
      "[TRACE] [SignalClient] DH ratchet step\n",
      "[TRACE] [SignalClient] Root KDF chain step\n",
      "[TRACE] [SignalClient] Receiving ratchet reset\n",
      "[TRACE] [SignalClient] Receiving ratchet step\n",
      "[TRACE] [SignalClient] Use 0d51c079065065b7e29537204fc7f0f8b4ae77eca9f84fca4eda1da5411126f8 as decryption key\n",
      "[TRACE] [SignalClient] Cannot decrypt message\n"
     ]
    }
   ],
   "source": [
    "# А вот получить его пытается Ева, но расшифровать не получится\n",
    "eve.receive_message(bob.phone_number, srv)"
   ]
  },
  {
   "cell_type": "code",
   "execution_count": null,
   "id": "2e1b2dbc",
   "metadata": {},
   "outputs": [],
   "source": []
  }
 ],
 "metadata": {
  "kernelspec": {
   "display_name": "Python 3 (ipykernel)",
   "language": "python",
   "name": "python3"
  },
  "language_info": {
   "codemirror_mode": {
    "name": "ipython",
    "version": 3
   },
   "file_extension": ".py",
   "mimetype": "text/x-python",
   "name": "python",
   "nbconvert_exporter": "python",
   "pygments_lexer": "ipython3",
   "version": "3.9.9"
  }
 },
 "nbformat": 4,
 "nbformat_minor": 5
}
