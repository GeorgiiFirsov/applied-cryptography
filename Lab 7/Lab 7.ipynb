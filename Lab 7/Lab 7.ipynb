{
 "cells": [
  {
   "cell_type": "markdown",
   "id": "b9a7fa89",
   "metadata": {},
   "source": [
    "# Реализация модели двустороннего защищенного чата в мессенджере по спецификации Signal"
   ]
  },
  {
   "cell_type": "code",
   "execution_count": 1,
   "id": "f56ece1d",
   "metadata": {},
   "outputs": [],
   "source": [
    "IS_DEBUG = 1"
   ]
  },
  {
   "cell_type": "code",
   "execution_count": 2,
   "id": "47ac3f81",
   "metadata": {},
   "outputs": [],
   "source": [
    "def trace(*args, **kwargs):\n",
    "    \"\"\"\n",
    "    Отладочная трассировка\n",
    "    \"\"\"\n",
    "    \n",
    "    global IS_DEBUG\n",
    "    if IS_DEBUG:\n",
    "        print('[TRACE]', end=' ')\n",
    "        print(*args, **kwargs)"
   ]
  },
  {
   "cell_type": "markdown",
   "id": "1feee646",
   "metadata": {},
   "source": [
    "---"
   ]
  },
  {
   "cell_type": "code",
   "execution_count": 3,
   "id": "96cfc4f1",
   "metadata": {},
   "outputs": [],
   "source": [
    "# Криптография из различных ГОСТ'ов\n",
    "from pygost import mgm\n",
    "from pygost import gost3412\n",
    "from pygost import gost3410\n",
    "from pygost import gost34112012256\n",
    "\n",
    "# КГПСЧ\n",
    "from Crypto.Random import get_random_bytes, random\n",
    "\n",
    "# HKDF\n",
    "from Crypto.Protocol.KDF import HKDF\n",
    "\n",
    "# Вспомогательные радости\n",
    "from collections import namedtuple\n",
    "import pickle\n",
    "import binascii"
   ]
  },
  {
   "cell_type": "markdown",
   "id": "1401b446",
   "metadata": {},
   "source": [
    "----"
   ]
  },
  {
   "cell_type": "code",
   "execution_count": 4,
   "id": "686e070b",
   "metadata": {},
   "outputs": [],
   "source": [
    "def as_hex(blob: bytes):\n",
    "    \"\"\"\n",
    "    Перевод блоба в шестнадцатиричное представление\n",
    "    \"\"\"\n",
    "    \n",
    "    return binascii.hexlify(blob).decode()"
   ]
  },
  {
   "cell_type": "markdown",
   "id": "f4645c8d",
   "metadata": {},
   "source": [
    "----\n",
    "## Реализация оберток над криптографическими алгоритмами и примитивами"
   ]
  },
  {
   "cell_type": "code",
   "execution_count": 5,
   "id": "efacb649",
   "metadata": {},
   "outputs": [],
   "source": [
    "class KuznyechikMGM(object):\n",
    "    \"\"\"\n",
    "    Класс-обертка над Кузнечиком в режиме MGM\n",
    "    \"\"\"\n",
    "    \n",
    "    KEY_SIZE = 32\n",
    "    \n",
    "    def __init__(self, key: bytes):\n",
    "        \"\"\"\n",
    "        Инициализация - сохраняю ключ\n",
    "        \"\"\"\n",
    "\n",
    "        self._key = key\n",
    "    \n",
    "    \n",
    "    def encrypt(self, plaintext: bytes, associated_data: bytes = b''):\n",
    "        \"\"\"\n",
    "        Зашифрование шифром Кузнечик в режиме MGM\n",
    "        \"\"\"\n",
    "        \n",
    "        encrypter = gost3412.GOST3412Kuznechik(self._key)\n",
    "        cipher = mgm.MGM(encrypter.encrypt, KuznyechikMGM._block_size())\n",
    "        \n",
    "        nonce = KuznyechikMGM._generate_nonce()\n",
    "        ct_with_tag = cipher.seal(nonce, plaintext, associated_data)\n",
    "        \n",
    "        return nonce, ct_with_tag[:-cipher.tag_size], ct_with_tag[-cipher.tag_size:]\n",
    "    \n",
    "    \n",
    "    def decrypt(self, nonce: bytes, ciphertext: bytes, tag: bytes, associated_data: bytes = b''):\n",
    "        \"\"\"\n",
    "        Расшифрование шифром Кузнечик в режиме MGM\n",
    "        \"\"\"\n",
    "        \n",
    "        try:\n",
    "            encrypter = gost3412.GOST3412Kuznechik(self._key)\n",
    "            cipher = mgm.MGM(encrypter.encrypt, KuznyechikMGM._block_size())\n",
    "\n",
    "            ct_with_tag = ciphertext + tag\n",
    "\n",
    "            return cipher.open(nonce, ct_with_tag, associated_data)\n",
    "        except ValueError as e:\n",
    "            return None\n",
    "        \n",
    "        \n",
    "    @staticmethod\n",
    "    def _block_size():\n",
    "        return gost3412.GOST3412Kuznechik.blocksize\n",
    "    \n",
    "    \n",
    "    @staticmethod\n",
    "    def _generate_nonce():\n",
    "        nonce = get_random_bytes(KuznyechikMGM._block_size())\n",
    "        while bytearray(nonce)[0] & 0x80 > 0:\n",
    "            nonce = get_random_bytes(KuznyechikMGM._block_size())\n",
    "            \n",
    "        return nonce"
   ]
  },
  {
   "cell_type": "markdown",
   "id": "1b955f60",
   "metadata": {},
   "source": [
    "---"
   ]
  },
  {
   "cell_type": "code",
   "execution_count": 6,
   "id": "df97d8cd",
   "metadata": {},
   "outputs": [],
   "source": [
    "class Streebog(gost34112012256.GOST34112012256):\n",
    "    \"\"\"\n",
    "    pycryptodome-совместимая обертка над хэш-функцией Стрибог\n",
    "    \"\"\"\n",
    "    \n",
    "    digest_size = 32\n",
    "    \n",
    "    \n",
    "    def __init__(self, data=None):\n",
    "        \"\"\"\n",
    "        Инициализация и обновление состояния (если надо)\n",
    "        \"\"\"\n",
    "        \n",
    "        super(Streebog, self).__init__()\n",
    "        if data is not None:\n",
    "            self.update(data)\n",
    "    \n",
    "    \n",
    "    @staticmethod\n",
    "    def new(data=None):\n",
    "        \"\"\"\n",
    "        Создание нового объекта\n",
    "        \"\"\"\n",
    "        \n",
    "        return Streebog(data)"
   ]
  },
  {
   "cell_type": "code",
   "execution_count": 7,
   "id": "8c4c090f",
   "metadata": {},
   "outputs": [],
   "source": [
    "def hash_digest(hasher_type, *args):\n",
    "    \"\"\"\n",
    "    Вычисление хэша при помощи объекта-обертки\n",
    "    \"\"\"\n",
    "    \n",
    "    hasher = hasher_type.new()\n",
    "    \n",
    "    for arg in args:\n",
    "        hasher.update(arg)\n",
    "        \n",
    "    return hasher.digest()"
   ]
  },
  {
   "cell_type": "markdown",
   "id": "45763043",
   "metadata": {},
   "source": [
    "----"
   ]
  },
  {
   "cell_type": "code",
   "execution_count": 8,
   "id": "183552ac",
   "metadata": {},
   "outputs": [],
   "source": [
    "class Curve(object):\n",
    "    \"\"\"\n",
    "    Обертка над эллиптической кривой. Для простоты это одна из кривых,\n",
    "    определенных в ГОСТ 34.10\n",
    "    \"\"\"\n",
    "    \n",
    "    CURVE = gost3410.CURVES['id-tc26-gost-3410-2012-512-paramSetA']\n",
    "        \n",
    "        \n",
    "    @staticmethod\n",
    "    def generate_private_key():\n",
    "        \"\"\"\n",
    "        Генерирование закрытого ключа\n",
    "        \"\"\"\n",
    "        \n",
    "        return gost3410.prv_unmarshal(get_random_bytes(64))\n",
    "    \n",
    "    \n",
    "    @staticmethod\n",
    "    def get_public_key(private_key):\n",
    "        \"\"\"\n",
    "        Получение открытого ключа по закрытому\n",
    "        \"\"\"\n",
    "        \n",
    "        return gost3410.public_key(Curve.CURVE, private_key)\n",
    "        \n",
    "        \n",
    "    @staticmethod\n",
    "    def multiply_by_scalar(scalar, point):\n",
    "        \"\"\"\n",
    "        Умножение точки эллиптической кривой на скаляр \n",
    "        \"\"\"\n",
    "\n",
    "        return Curve.CURVE.exp(scalar, *point)\n",
    "\n",
    "    \n",
    "    @staticmethod\n",
    "    def add_points(lhs, rhs):\n",
    "        \"\"\"\n",
    "        Сложение двух точек эллиптической кривой\n",
    "        \"\"\"\n",
    "\n",
    "        return Curve.CURVE._add(*lhs, *rhs)"
   ]
  },
  {
   "cell_type": "markdown",
   "id": "d9e57db0",
   "metadata": {},
   "source": [
    "----\n",
    "## Элементы протоколов из спецификации Signal"
   ]
  },
  {
   "cell_type": "code",
   "execution_count": 9,
   "id": "e10fb61a",
   "metadata": {},
   "outputs": [],
   "source": [
    "class KdfChainInternal(object):\n",
    "    \"\"\"\n",
    "    Вспомогательный класс, описывающий KDF-цепочку\n",
    "    \"\"\"\n",
    "    \n",
    "    def __init__(self, key, key_length):\n",
    "        \"\"\"\n",
    "        Инициализация, сохранение начального ключа и \n",
    "        длины генерируемых далее ключей\n",
    "        \"\"\"\n",
    "        \n",
    "        self._key_length = key_length\n",
    "        self._kdf_key = key\n",
    "    \n",
    "    \n",
    "    def reset(self, key):\n",
    "        \"\"\"\n",
    "        Сброс состояния, запись нового ключа в качестве\n",
    "        первоначального\n",
    "        \"\"\"\n",
    "        \n",
    "        self._kdf_key = key\n",
    "        \n",
    "        \n",
    "    def _kdf_update(self, data):\n",
    "        self._kdf_key, message_key = HKDF(self._kdf_key, self._key_length, \n",
    "                                          data, Streebog, 2)\n",
    "        return message_key"
   ]
  },
  {
   "cell_type": "code",
   "execution_count": 10,
   "id": "75be2880",
   "metadata": {},
   "outputs": [],
   "source": [
    "class KdfChain(KdfChainInternal):\n",
    "    \"\"\"\n",
    "    Класс, описывающий KDF-цепочку, которая генерирует\n",
    "    новые ключи только на основе своего состояния\n",
    "    https://signal.org/docs/specifications/doubleratchet/#kdf-chains\n",
    "    \"\"\"\n",
    "    \n",
    "    def __init__(self, key, key_length=32):\n",
    "        \"\"\"\n",
    "        Инициализация, сохранение начального ключа и \n",
    "        длины генерируемых далее ключей\n",
    "        \"\"\"\n",
    "        \n",
    "        super(KdfChain, self).__init__(key, key_length)\n",
    "        \n",
    "        \n",
    "    def step(self):\n",
    "        \"\"\"\n",
    "        Шаг цепочки, выработка нового ключа для KDF и\n",
    "        возвращаемого ключа\n",
    "        \"\"\"\n",
    "        \n",
    "        return self._kdf_update(b'\\xFF' * 32)"
   ]
  },
  {
   "cell_type": "code",
   "execution_count": 11,
   "id": "8329e630",
   "metadata": {},
   "outputs": [],
   "source": [
    "class SymmetricRatchet(KdfChainInternal):\n",
    "    \"\"\"\n",
    "    Симметричный храповик\n",
    "    Новые ключи вырабатываются на основе выработанного \n",
    "    секрета Диффи-Хеллмана\n",
    "    https://signal.org/docs/specifications/doubleratchet/#symmetric-key-ratchet\n",
    "    \"\"\"\n",
    "    \n",
    "    def __init__(self, key, key_length=32):\n",
    "        \"\"\"\n",
    "        Инициализация, сохранение начального ключа и \n",
    "        длины генерируемых далее ключей\n",
    "        \"\"\"\n",
    "        \n",
    "        super(SymmetricRatchet, self).__init__(key, key_length)\n",
    "        \n",
    "        \n",
    "    def step(self, serialized_dh_key):\n",
    "        \"\"\"\n",
    "        Шаг цепочки, выработка нового ключа для KDF и\n",
    "        возвращаемого ключа\n",
    "        \"\"\"\n",
    "        \n",
    "        return self._kdf_update(serialized_dh_key)"
   ]
  },
  {
   "cell_type": "markdown",
   "id": "e3fccdb3",
   "metadata": {},
   "source": [
    "-----"
   ]
  },
  {
   "cell_type": "code",
   "execution_count": 12,
   "id": "59cf017d",
   "metadata": {},
   "outputs": [],
   "source": [
    "class DiffieHellmanRatchet(object):\n",
    "    \"\"\"\n",
    "    DH-храповик\n",
    "    https://signal.org/docs/specifications/doubleratchet/#diffie-hellman-ratchet\n",
    "    \"\"\"\n",
    "    \n",
    "    PRIVATE = 0\n",
    "    PUBLIC  = 1\n",
    "    \n",
    "    \n",
    "    def __init__(self):\n",
    "        \"\"\"\n",
    "        Инициализация, выработка начальной ключевой пары\n",
    "        \"\"\"\n",
    "        \n",
    "        self._current_foreign_public_key = None\n",
    "        self._current_key_pair = DiffieHellmanRatchet._generate_key_pair()\n",
    "        \n",
    "    \n",
    "    def is_uninitialized(self):\n",
    "        \"\"\"\n",
    "        Проверка того, что открытый ключ другой стороны отсутствует\n",
    "        \"\"\"\n",
    "        \n",
    "        return self._current_foreign_public_key is None\n",
    "    \n",
    "    \n",
    "    def initialize(self, public_key):\n",
    "        \"\"\"\n",
    "        Инициализация открытого ключа другой стороны\n",
    "        \"\"\"\n",
    "        \n",
    "        self._current_foreign_public_key = public_key\n",
    "        \n",
    "        \n",
    "    def is_same_public_key(self, public_key):\n",
    "        \"\"\"\n",
    "        Проверка равенства открытых ключей\n",
    "        \"\"\"\n",
    "        \n",
    "        if self._current_foreign_public_key is None:\n",
    "            return False\n",
    "        \n",
    "        return public_key == self._current_foreign_public_key\n",
    "    \n",
    "    \n",
    "    def step(self, public_key=None):\n",
    "        \"\"\"\n",
    "        Выработка общего секрета Диффи-Хеллмана\n",
    "        \"\"\"\n",
    "        \n",
    "        if self._current_key_pair is None:\n",
    "            raise RuntimeError('Uninitialized DH Ratchet used to produce a shared secret')\n",
    "        \n",
    "        if public_key is not None:\n",
    "            self._current_foreign_public_key = public_key\n",
    "            \n",
    "        return Curve.multiply_by_scalar(self._current_key_pair[DiffieHellmanRatchet.PRIVATE], \n",
    "                                        self._current_foreign_public_key)\n",
    "    \n",
    "    \n",
    "    def generate_new_key_pair(self):\n",
    "        \"\"\"\n",
    "        Генерирование новой ключевой пары\n",
    "        \"\"\"\n",
    "        \n",
    "        self._current_key_pair = DiffieHellmanRatchet._generate_key_pair()\n",
    "        \n",
    "        \n",
    "    @property\n",
    "    def public_key(self):\n",
    "        \"\"\"\n",
    "        Получение открытого ключа\n",
    "        \"\"\"\n",
    "        \n",
    "        return self._current_key_pair[DiffieHellmanRatchet.PUBLIC]\n",
    "    \n",
    "    \n",
    "    @staticmethod\n",
    "    def _generate_key_pair():\n",
    "        private_key = Curve.generate_private_key()\n",
    "        public_key  = Curve.get_public_key(private_key)\n",
    "        \n",
    "        return private_key, public_key"
   ]
  },
  {
   "cell_type": "markdown",
   "id": "67ce0369",
   "metadata": {},
   "source": [
    "----"
   ]
  },
  {
   "cell_type": "code",
   "execution_count": 13,
   "id": "5fcbc477",
   "metadata": {},
   "outputs": [],
   "source": [
    "#\n",
    "# Описание сути следует смотреть здесь:\n",
    "# https://signal.org/docs/specifications/x3dh/#publishing-keys\n",
    "#\n",
    "\n",
    "KeyBundle = namedtuple('KeyBundle', ['IK',    # Ключ-идентификатор (Identity key)\n",
    "                                     'SPK',   # Подписанный предключ (Signed prekey)\n",
    "                                     'Sig',   # Подпись предключа (Prekey signature)\n",
    "                                     'OPKs',  # Коллекция одноразовых предключей (One-time prekeys)\n",
    "                                    ])"
   ]
  },
  {
   "cell_type": "code",
   "execution_count": 14,
   "id": "cbcb9daa",
   "metadata": {},
   "outputs": [],
   "source": [
    "Message = namedtuple('Message', ['public_key',  # Открытый ключ DH отправляющего\n",
    "                                 'id',          # Идентитфикатор сообщения\n",
    "                                 'data',        # Данные сообщения\n",
    "                                ])"
   ]
  },
  {
   "cell_type": "markdown",
   "id": "8a6b55f8",
   "metadata": {},
   "source": [
    "----\n",
    "## Участники протоколов из спецификации Signal"
   ]
  },
  {
   "cell_type": "code",
   "execution_count": 15,
   "id": "c1c1fbed",
   "metadata": {},
   "outputs": [],
   "source": [
    "class SignalServer(object):\n",
    "    \"\"\"\n",
    "    Класс сервера Signal\n",
    "    \"\"\"\n",
    "    \n",
    "    def __init__(self):\n",
    "        \"\"\"\n",
    "        Инициализация\n",
    "        \"\"\"\n",
    "        \n",
    "        #\n",
    "        # Коллекция ключевых данных клиентов, индексируемая по номеру телефона\n",
    "        #\n",
    "        \n",
    "        self._key_bundles = {}\n",
    "        \n",
    "        #\n",
    "        # Коллекция очередей сообщения, индексируемая по паре номеров, \n",
    "        # представляющих направление передачи\n",
    "        #\n",
    "        \n",
    "        self._messages = {}\n",
    "        \n",
    "        \n",
    "    def register(self, phone_number: str, keys: KeyBundle):\n",
    "        \"\"\"\n",
    "        Регистрация пользователя по номеру телефона. Сохраняет набор ключей\n",
    "        \"\"\"\n",
    "        \n",
    "        if phone_number in self._key_bundles:\n",
    "            raise ValueError(f'Client with phone number {phone_number} is already registered')\n",
    "            \n",
    "        trace('[SignalServer]', f'Registered client with phone number {phone_number}')\n",
    "            \n",
    "        self._key_bundles[phone_number] = keys\n",
    "        \n",
    "        \n",
    "    def get_public_keys(self, phone_number: str):\n",
    "        \"\"\"\n",
    "        Получение ключей пользователя по его номеру телефона\n",
    "        \"\"\"\n",
    "        \n",
    "        if phone_number not in self._key_bundles:\n",
    "            raise ValueError(f'Client with phone number {phone_number} is not registered yet')\n",
    "            \n",
    "        #\n",
    "        # Достану ключи\n",
    "        #\n",
    "        \n",
    "        keys = self._key_bundles[phone_number]\n",
    "        one_time_keys = keys.OPKs\n",
    "        \n",
    "        #\n",
    "        # Возьму случайный из одноразовых ключей\n",
    "        #\n",
    "        \n",
    "        idx = random.randint(0, len(one_time_keys) - 1)\n",
    "        result = KeyBundle(keys.IK, keys.SPK, keys.Sig, (one_time_keys.pop(idx), idx))\n",
    "        \n",
    "        trace('[SignalServer]', f'Using OPK at {idx}')\n",
    "        \n",
    "        #\n",
    "        # Сохраню обновленный пакет ключей (без одного одноразового)\n",
    "        #\n",
    "        \n",
    "        self._key_bundles[phone_number] = KeyBundle(keys.IK, keys.SPK, keys.Sig, one_time_keys)\n",
    "        \n",
    "        return result\n",
    "    \n",
    "    \n",
    "    def push_message(self, phone_from: str, phone_to: str, message: Message):\n",
    "        \"\"\"\n",
    "        Помещение сообщения в очередь\n",
    "        \"\"\"\n",
    "        \n",
    "        search_key = (phone_from, phone_to)\n",
    "        \n",
    "        if search_key not in self._messages:\n",
    "            self._messages[search_key] = []\n",
    "            \n",
    "        trace('[SignalServer]', f'Saved message with id {message.id} from {phone_from} to {phone_to}')\n",
    "            \n",
    "        self._messages[search_key].append(message)\n",
    "        \n",
    "        \n",
    "    def peek_message(self, phone_from, phone_to):\n",
    "        \"\"\"\n",
    "        Получение сообщения из очереди\n",
    "        \"\"\"\n",
    "        \n",
    "        search_key = (phone_from, phone_to)\n",
    "        \n",
    "        if search_key not in self._messages:\n",
    "            return None\n",
    "        \n",
    "        if self._messages[search_key] == []:\n",
    "            return None\n",
    "        \n",
    "        return self._messages[search_key].pop(0)"
   ]
  },
  {
   "cell_type": "code",
   "execution_count": 16,
   "id": "82dec765",
   "metadata": {},
   "outputs": [],
   "source": [
    "class SignalClient(object):\n",
    "    \"\"\"\n",
    "    Класс клиента Signal\n",
    "    \"\"\"\n",
    "    \n",
    "    PRIVATE = 0\n",
    "    PUBLIC  = 1\n",
    "    \n",
    "    X3DH_MSG_ID      = 'X3DH_MSG'\n",
    "    DH_RATCHET_PK_ID = 'DH_RATCHET_PK'\n",
    "    \n",
    "    RECEIVED_FLAG     = 0\n",
    "    DH_RATCHET        = 1\n",
    "    ROOT_KDF_CHAIN    = 2\n",
    "    SENDING_RATCHET   = 3\n",
    "    RECEIVING_RATCHET = 4\n",
    "    MSG_ID            = 5\n",
    "    \n",
    "    \n",
    "    def __init__(self, phone_number, one_time_keys=10, *, fake_ik=False):\n",
    "        \"\"\"\n",
    "        Инициализация, генерирование ключей\n",
    "        \"\"\"\n",
    "        \n",
    "        self._phone_number  = phone_number\n",
    "        \n",
    "        self._identity_key  = SignalClient._generate_key_pair()\n",
    "        self._signed_prekey = SignalClient._generate_key_pair()\n",
    "        self._ot_prekeys    = [SignalClient._generate_key_pair() for _ in range(one_time_keys)]\n",
    "        \n",
    "        digest = hash_digest(Streebog, pickle.dumps(self._signed_prekey[SignalClient.PUBLIC]))\n",
    "        self._signature = gost3410.sign(Curve.CURVE, \n",
    "                                        self._identity_key[SignalClient.PRIVATE], \n",
    "                                        digest)\n",
    "        \n",
    "        if fake_ik:\n",
    "            #\n",
    "            # Демонстрация неудачного выполнения, заменю идентификационный ключ\n",
    "            #\n",
    "            \n",
    "            self._identity_key  = SignalClient._generate_key_pair()\n",
    "        \n",
    "        self._sessions = {}\n",
    "        \n",
    "        trace('[SignalClient]', f'Identity key: {self._identity_key}')\n",
    "        trace('[SignalClient]', f'Signed prekey: {self._signed_prekey}')\n",
    "        trace('[SignalClient]', f'Signature: {as_hex(self._signature)}')\n",
    "        trace('[SignalClient]', f'One time keys: {len(self._ot_prekeys)}')\n",
    "        \n",
    "        \n",
    "    def send_message(self, phone_number: str, message: str, server: SignalServer):\n",
    "        \"\"\"\n",
    "        Отправка сообщения, установление сессии, если нужно\n",
    "        \"\"\"\n",
    "        \n",
    "        if phone_number not in self._sessions:\n",
    "            #\n",
    "            # Сессии еще нет, поэтому установлю соединение\n",
    "            #\n",
    "            \n",
    "            return self._x3dh_init_session(phone_number, message, server)\n",
    "        \n",
    "        #\n",
    "        # Так как протокол X3DH асинхронный, то я прямо сразу и отправлю сообщение\n",
    "        #\n",
    "        \n",
    "        if self._sessions[phone_number][SignalClient.RECEIVED_FLAG]:\n",
    "            #\n",
    "            # Требуется шаг DH-храповика, так как сменилось направление передачи\n",
    "            #\n",
    "            \n",
    "            self._sessions[phone_number][SignalClient.RECEIVED_FLAG] = False\n",
    "            \n",
    "            trace('[SignalClient]', 'DH ratchet step')\n",
    "            dh_key   = self._sessions[phone_number][SignalClient.DH_RATCHET].step()\n",
    "            \n",
    "            trace('[SignalClient]', 'Root KDF chain step')\n",
    "            send_key = self._sessions[phone_number][SignalClient.ROOT_KDF_CHAIN].step(pickle.dumps(dh_key))\n",
    "            \n",
    "            trace('[SignalClient]', 'Sending ratchet reset')\n",
    "            self._sessions[phone_number][SignalClient.SENDING_RATCHET].reset(send_key)\n",
    "            \n",
    "        #\n",
    "        # Вырабатывается ключ с помощью симметричного храповика для отправки\n",
    "        # На ключе шифруется само сообщение\n",
    "        #\n",
    "        \n",
    "        trace('[SignalClient]', 'Sending ratchet step')\n",
    "        message_key = self._sessions[phone_number][SignalClient.SENDING_RATCHET].step()\n",
    "        \n",
    "        trace('[SignalClient]', f'Use {as_hex(message_key)} as encryption key')\n",
    "        encrypted_message = KuznyechikMGM(message_key).encrypt(message.encode())\n",
    "        \n",
    "        message_id = self._sessions[phone_number][SignalClient.MSG_ID]\n",
    "        public_key = self._sessions[phone_number][SignalClient.DH_RATCHET].public_key\n",
    "        \n",
    "        self._sessions[phone_number][SignalClient.MSG_ID] += 1\n",
    "        \n",
    "        server.push_message(self.phone_number, phone_number, Message(public_key, \n",
    "                                                                     message_id, \n",
    "                                                                     encrypted_message))\n",
    "        \n",
    "        \n",
    "    def receive_message(self, phone_number: str, server: SignalServer):\n",
    "        \"\"\"\n",
    "        Прием сообщения, установление сессии, если надо\n",
    "        \"\"\"\n",
    "        \n",
    "        message = server.peek_message(phone_number, self.phone_number)\n",
    "        if message is None:\n",
    "            trace('[SignalClient]', f'No message for {self.phone_number} from {phone_number}')\n",
    "            return\n",
    "        \n",
    "        public_key, message_id, data = message\n",
    "        \n",
    "        trace('[SignalClient]', f'Received message with id {message_id} from {phone_number}')\n",
    "        \n",
    "        if message_id == SignalClient.X3DH_MSG_ID:\n",
    "            #\n",
    "            # Это инициирующее сообщения для установки сессии\n",
    "            #\n",
    "            \n",
    "            return self._x3dh_accept_session(phone_number, data, server)\n",
    "        \n",
    "        if message_id == SignalClient.DH_RATCHET_PK_ID:\n",
    "            #\n",
    "            # Это нам ключ открытый прислали для инициализации\n",
    "            #\n",
    "            \n",
    "            if not self._sessions[phone_number][SignalClient.DH_RATCHET].is_uninitialized():\n",
    "                raise RuntimeError(f'Cannot initialize DH ratchet for {self.phone_number} twice')\n",
    "                \n",
    "            return self._sessions[phone_number][SignalClient.DH_RATCHET].initialize(public_key)\n",
    "        \n",
    "        #\n",
    "        # Во-первых, факт приема зафиксирую \n",
    "        #\n",
    "        \n",
    "        self._sessions[phone_number][SignalClient.RECEIVED_FLAG] = True\n",
    "        \n",
    "        #\n",
    "        # Не сменился ли открытый ключ собеседника?\n",
    "        #\n",
    "        \n",
    "        if not self._sessions[phone_number][SignalClient.DH_RATCHET].is_same_public_key(public_key):\n",
    "            #\n",
    "            # Требуется шаг DH-храповика, так как сменилось направление передачи\n",
    "            #\n",
    "            \n",
    "            trace('[SignalClient]', 'DH ratchet step')\n",
    "            dh_key = self._sessions[phone_number][SignalClient.DH_RATCHET].step(public_key)\n",
    "            self._sessions[phone_number][SignalClient.DH_RATCHET].generate_new_key_pair()\n",
    "            \n",
    "            trace('[SignalClient]', 'Root KDF chain step')\n",
    "            recv_key = self._sessions[phone_number][SignalClient.ROOT_KDF_CHAIN].step(pickle.dumps(dh_key))\n",
    "            \n",
    "            trace('[SignalClient]', 'Receiving ratchet reset')\n",
    "            self._sessions[phone_number][SignalClient.RECEIVING_RATCHET].reset(recv_key)\n",
    "            \n",
    "        #\n",
    "        # Делаю шаг храповика приема\n",
    "        #\n",
    "            \n",
    "        trace('[SignalClient]', 'Receiving ratchet step')\n",
    "        message_key = self._sessions[phone_number][SignalClient.RECEIVING_RATCHET].step()\n",
    "        \n",
    "        trace('[SignalClient]', f'Use {as_hex(message_key)} as decryption key')\n",
    "        decrypted_message = KuznyechikMGM(message_key).decrypt(*data)\n",
    "        \n",
    "        if decrypted_message is None:\n",
    "            trace('[SignalClient]', 'Cannot decrypt message')\n",
    "            return\n",
    "            \n",
    "        return decrypted_message.decode()\n",
    "        \n",
    "        \n",
    "    @property\n",
    "    def phone_number(self):\n",
    "        \"\"\"\n",
    "        Получение номер телефона\n",
    "        \"\"\"\n",
    "        \n",
    "        return self._phone_number\n",
    "    \n",
    "    \n",
    "    @property\n",
    "    def public_keys(self):\n",
    "        \"\"\"\n",
    "        Получение открытых ключей\n",
    "        \"\"\"\n",
    "        \n",
    "        return KeyBundle(self._identity_key[SignalClient.PUBLIC], \n",
    "                         self._signed_prekey[SignalClient.PUBLIC], \n",
    "                         self._signature, \n",
    "                         [prekey[SignalClient.PUBLIC] for prekey in self._ot_prekeys])\n",
    "        \n",
    "        \n",
    "    def _x3dh_init_session(self, phone_number: str, message: str, server: SignalServer):\n",
    "        IKb, SPKb, Sigb, (OPKb, idx) = server.get_public_keys(phone_number)\n",
    "        \n",
    "        #\n",
    "        # Проверяю подпись\n",
    "        #\n",
    "        \n",
    "        digest = hash_digest(Streebog, pickle.dumps(SPKb))\n",
    "        if not gost3410.verify(Curve.CURVE, IKb, digest, Sigb):\n",
    "            trace('[SignalClient]', f'Cannot verify signature of client with phone {phone_number}')\n",
    "            return\n",
    "        \n",
    "        #\n",
    "        # Эфемерный ключ\n",
    "        #\n",
    "        \n",
    "        EKa = SignalClient._generate_key_pair()\n",
    "        \n",
    "        #\n",
    "        # Выработка общих секретов\n",
    "        #\n",
    "        \n",
    "        DH1 = SignalClient._dh(self._identity_key, SPKb)\n",
    "        DH2 = SignalClient._dh(EKa, IKb)\n",
    "        DH3 = SignalClient._dh(EKa, SPKb)\n",
    "        DH4 = SignalClient._dh(EKa, OPKb)\n",
    "        \n",
    "        #\n",
    "        # Вырабатываю ключ и создаю сообщение\n",
    "        # В качестве данных я отправлю шифртекст сообщения,\n",
    "        # идентификационный ключ, эфемерный ключ и индекс\n",
    "        # использованного одноразового ключа\n",
    "        #\n",
    "        # Протокол разрешает использовать выработанный ключ прямо\n",
    "        # для зашифрования первого сообщения: An initial ciphertext \n",
    "        # encrypted with some AEAD encryption scheme [4] using AD \n",
    "        # as associated data and using an encryption key which is \n",
    "        # either SK or the output from some cryptographic PRF keyed by SK.\n",
    "        #\n",
    "        \n",
    "        AD = pickle.dumps(self._identity_key[SignalClient.PUBLIC]) + pickle.dumps(IKb)\n",
    "        trace('[SignalClient]', f'Use {as_hex(AD)} as associated data')\n",
    "        \n",
    "        root_key = SignalClient._produce_root_key(DH1, DH2, DH3, DH4)\n",
    "        trace('[SignalClient]', f'Use {as_hex(root_key)} as root key')\n",
    "        \n",
    "        #\n",
    "        # А теперь требуется создать состояние\n",
    "        #\n",
    "        \n",
    "        self._initialize_state(phone_number, root_key)\n",
    "        \n",
    "        encrypted_message = KuznyechikMGM(root_key).encrypt(message.encode(), AD)\n",
    "        message = (encrypted_message, self._identity_key[SignalClient.PUBLIC], \n",
    "                   EKa[SignalClient.PUBLIC], idx)\n",
    "        \n",
    "        server.push_message(self.phone_number, \n",
    "                            phone_number, \n",
    "                            Message(None, SignalClient.X3DH_MSG_ID, message))\n",
    "        \n",
    "    \n",
    "    def _x3dh_accept_session(self, phone_number: str, x3dh_parameters: Message, server: SignalServer):\n",
    "        encrypred_message, IKa, EKa, idx = x3dh_parameters\n",
    "        \n",
    "        #\n",
    "        # Получу нужный одноразовый ключ\n",
    "        #\n",
    "        \n",
    "        OPKb = self._ot_prekeys.pop(idx)\n",
    "        \n",
    "        #\n",
    "        # Выработка общих секретов\n",
    "        #\n",
    "        \n",
    "        DH1 = SignalClient._dh(self._signed_prekey, IKa)\n",
    "        DH2 = SignalClient._dh(self._identity_key, EKa)\n",
    "        DH3 = SignalClient._dh(self._signed_prekey, EKa)\n",
    "        DH4 = SignalClient._dh(OPKb, EKa)\n",
    "        \n",
    "        #\n",
    "        # Вырабатываю ключ и читаю сообщение\n",
    "        #\n",
    "        \n",
    "        AD = pickle.dumps(IKa) + pickle.dumps(self._identity_key[SignalClient.PUBLIC])\n",
    "        trace('[SignalClient]', f'Use {as_hex(AD)} as associated data')\n",
    "        \n",
    "        root_key = SignalClient._produce_root_key(DH1, DH2, DH3, DH4)\n",
    "        trace('[SignalClient]', f'Use {as_hex(root_key)} as root key')\n",
    "        \n",
    "        decrypted_message = KuznyechikMGM(root_key).decrypt(*encrypred_message, AD)\n",
    "        \n",
    "        if decrypted_message is None:\n",
    "            trace('[SignalClient]', 'Cannot decrypt message')\n",
    "            return\n",
    "        \n",
    "        #\n",
    "        # Теперь нужно инициализировать состояние и отослать открытый ключ\n",
    "        #\n",
    "        \n",
    "        self._initialize_state(phone_number, root_key)\n",
    "        \n",
    "        public_key = self._sessions[phone_number][SignalClient.DH_RATCHET].public_key\n",
    "        server.push_message(self.phone_number, phone_number, Message(public_key, \n",
    "                                                                     SignalClient.DH_RATCHET_PK_ID, \n",
    "                                                                     None))\n",
    "        \n",
    "        return decrypted_message.decode()\n",
    "        \n",
    "        \n",
    "    def _initialize_state(self, phone_number: str, root_key):\n",
    "        self._sessions[phone_number] = [True, \n",
    "                                        DiffieHellmanRatchet(), \n",
    "                                        SymmetricRatchet(root_key), \n",
    "                                        KdfChain(b'\\x00', KuznyechikMGM.KEY_SIZE), \n",
    "                                        KdfChain(b'\\x00', KuznyechikMGM.KEY_SIZE), \n",
    "                                        0,\n",
    "                                       ]\n",
    "        \n",
    "        \n",
    "    def _try_mimic(self, phone_number, session_phone_number, session):\n",
    "        self._phone_number = phone_number\n",
    "        self._sessions[session_phone_number] = session.copy()\n",
    "        self._sessions[session_phone_number][SignalClient.DH_RATCHET].generate_new_key_pair()\n",
    "        \n",
    "        trace('[SignalClient]', f'User now tries to be a user with phone {phone_number}')\n",
    "        \n",
    "        \n",
    "    @staticmethod\n",
    "    def _generate_key_pair():\n",
    "        private_key = Curve.generate_private_key()\n",
    "        public_key  = Curve.get_public_key(private_key)\n",
    "        \n",
    "        return private_key, public_key\n",
    "    \n",
    "    \n",
    "    @staticmethod\n",
    "    def _dh(key_pair, public_key):\n",
    "        return Curve.multiply_by_scalar(key_pair[SignalClient.PRIVATE], public_key)\n",
    "    \n",
    "    \n",
    "    @staticmethod\n",
    "    def _produce_root_key(DH1, DH2, DH3, DH4):\n",
    "        kdf_data = pickle.dumps(DH1) + pickle.dumps(DH2) + pickle.dumps(DH3) + pickle.dumps(DH4)\n",
    "        return HKDF(kdf_data, KuznyechikMGM.KEY_SIZE, b'\\x00' * 16, Streebog, 1)"
   ]
  },
  {
   "cell_type": "markdown",
   "id": "825aca31",
   "metadata": {},
   "source": [
    "----\n",
    "## Демонстрация удачного выполнения протоколов"
   ]
  },
  {
   "cell_type": "code",
   "execution_count": 17,
   "id": "a6ce4155",
   "metadata": {},
   "outputs": [],
   "source": [
    "# Создаю сервер\n",
    "srv = SignalServer()"
   ]
  },
  {
   "cell_type": "code",
   "execution_count": 18,
   "id": "23b87947",
   "metadata": {},
   "outputs": [
    {
     "name": "stdout",
     "output_type": "stream",
     "text": [
      "[TRACE] [SignalClient] Identity key: (9321895140060955662932515934312588729541099390398997757103464850837339686392582139493483424184244332807659658703342726309294648688466419615426931245922774, (12854680721013462168309964974609070626264448140731148777676220526717884133992962274423607754565060110393486450769704634110937844329959551816071001709047837, 8635931216381818097982374394604867527031056130616162809798738899066975378894666012997537122715077428970721104526241252171417093234333129922022588221334509))\n",
      "[TRACE] [SignalClient] Signed prekey: (1893046315884572570379007513686618323990883029244683296250113039301124245394750437797517151202083285211133481424525198718846311983842468283284692627558365, (12904367137892249108264512100572607340944636015926195503348882735912340629351554898325047911964227240531119973393596993709562984235589672797734138203138296, 8905973972977687922070204466838654287021136146911953903927601265242045633250075520393827920153190521139584625071419965964707472211367901116171837366153120))\n",
      "[TRACE] [SignalClient] Signature: eeb4bcd8eb4d7391c93638e08248a61dcccefe07f91f5a8dadea808e28af5130b648b71517b20189b35891eb9ba8ac24f51f8a8622ea0bdeeb904357815b9397142d19669d2a37140424199b6201dfb30fb31ad14145367ec7ecf28bd6dae3695a59af6394dd9bffbbb632e2ae188fc787f22cfade24cff336b3c085e66a2aae\n",
      "[TRACE] [SignalClient] One time keys: 10\n"
     ]
    }
   ],
   "source": [
    "# Пользователь Алиса\n",
    "alice = SignalClient('+7 921 059-87-72')"
   ]
  },
  {
   "cell_type": "code",
   "execution_count": 19,
   "id": "5882e568",
   "metadata": {},
   "outputs": [
    {
     "name": "stdout",
     "output_type": "stream",
     "text": [
      "[TRACE] [SignalClient] Identity key: (8122642917616793878861762261169651355521853443934668968082589482383034540768852016952639647700083905831393246495311552808065564268931648804713700294777642, (6860537459622850679068513744364983228766481233296418525123447074445512153787794745691503378241723033436931667111209898223551924780875009778784713422356737, 2967288941038091552188548782917287362806747390484090710921132068678908170536298764667837230096022539930187592447831521803995323327920099778237988386767197))\n",
      "[TRACE] [SignalClient] Signed prekey: (13063823150231078463006244866989365900754980721668182425758784917756889339037510235300727203557933058384665370636809278283838761673578199296566773942167902, (4274157283205051331185589665221499990043631566491882383427985176040861603824545067900613802806543836269484682610465091135249435176970329318812926662913928, 6669072787069920201955935233220837223047087501363384478209288600191910125602066385693121924433709484747228999947728747686560627288496679156074387683069348))\n",
      "[TRACE] [SignalClient] Signature: e6db3ab7b295d6d806ee1fa2430142d581135affb211246b049a6f9dba6e5bf7e6440af7cfe527376ec1978b5e17ec059ca575efb4ac4aee41eeca981026a60018681ce6b70fb0793e7fde3e8ae112c4ebe728ad0d5e0a7af838e31fea31c0cb170ccd4222e5fdc7084e7a51c9007804a792e27ee6b8d9f57500ec08e0b3484d\n",
      "[TRACE] [SignalClient] One time keys: 10\n"
     ]
    }
   ],
   "source": [
    "# Пользователь Боб\n",
    "bob = SignalClient('+7 991 174-51-34')"
   ]
  },
  {
   "cell_type": "code",
   "execution_count": 20,
   "id": "471d5260",
   "metadata": {},
   "outputs": [
    {
     "name": "stdout",
     "output_type": "stream",
     "text": [
      "[TRACE] [SignalServer] Registered client with phone number +7 921 059-87-72\n",
      "[TRACE] [SignalServer] Registered client with phone number +7 991 174-51-34\n"
     ]
    }
   ],
   "source": [
    "# Регистрирую всех \n",
    "srv.register(alice.phone_number, alice.public_keys)\n",
    "srv.register(bob.phone_number, bob.public_keys)"
   ]
  },
  {
   "cell_type": "code",
   "execution_count": 21,
   "id": "1311a677",
   "metadata": {},
   "outputs": [
    {
     "name": "stdout",
     "output_type": "stream",
     "text": [
      "[TRACE] [SignalServer] Using OPK at 2\n",
      "[TRACE] [SignalClient] Use 80049589000000000000008a411d70f9e2ab7d2128c4da6719a53bde000aa0f1b7f732fdab3d7a8a8c93b46dba85c43c2eb942837eb31b2a2086461cbbc48687fa6aa7c4ef224c957bda5e70f5008a41eda3554f68857f8258c3cd10c2cd4ca7d829d801c19ca86eca039148af28b53901d168686d55a1d1f113bd9d9d3636297e8fccd347ecd782cb21c9ea6f8de3a40086942e80049588000000000000008a4101416f93941d3fe59e534540d94a3f87bc6db51ee3650784bb92a797def78b71f9265d810fab19affb24b327326cb09444621d17397e04d38bbf297ccb9bfd82008a405d012eaa2b751bf8d57570cdbdf8b036e0ce7e00532f44e61995a4d17d9b40a14d94588249268f49e447b26d07de8738424876587f563ec48e82536164cea73886942e as associated data\n",
      "[TRACE] [SignalClient] Use a0e876a03849d0f6762d82e0f69b32a7ee9cfec7b6a81c7106e878b2a93c186a as root key\n",
      "[TRACE] [SignalServer] Saved message with id X3DH_MSG from +7 921 059-87-72 to +7 991 174-51-34\n"
     ]
    }
   ],
   "source": [
    "# Алиса пытается пообщаться с Бобом\n",
    "alice.send_message(bob.phone_number, 'Hi!', srv)"
   ]
  },
  {
   "cell_type": "code",
   "execution_count": 22,
   "id": "7fff9ea3",
   "metadata": {},
   "outputs": [
    {
     "name": "stdout",
     "output_type": "stream",
     "text": [
      "[TRACE] [SignalClient] Received message with id X3DH_MSG from +7 921 059-87-72\n",
      "[TRACE] [SignalClient] Use 80049589000000000000008a411d70f9e2ab7d2128c4da6719a53bde000aa0f1b7f732fdab3d7a8a8c93b46dba85c43c2eb942837eb31b2a2086461cbbc48687fa6aa7c4ef224c957bda5e70f5008a41eda3554f68857f8258c3cd10c2cd4ca7d829d801c19ca86eca039148af28b53901d168686d55a1d1f113bd9d9d3636297e8fccd347ecd782cb21c9ea6f8de3a40086942e80049588000000000000008a4101416f93941d3fe59e534540d94a3f87bc6db51ee3650784bb92a797def78b71f9265d810fab19affb24b327326cb09444621d17397e04d38bbf297ccb9bfd82008a405d012eaa2b751bf8d57570cdbdf8b036e0ce7e00532f44e61995a4d17d9b40a14d94588249268f49e447b26d07de8738424876587f563ec48e82536164cea73886942e as associated data\n",
      "[TRACE] [SignalClient] Use a0e876a03849d0f6762d82e0f69b32a7ee9cfec7b6a81c7106e878b2a93c186a as root key\n",
      "[TRACE] [SignalServer] Saved message with id DH_RATCHET_PK from +7 991 174-51-34 to +7 921 059-87-72\n"
     ]
    },
    {
     "data": {
      "text/plain": [
       "'Hi!'"
      ]
     },
     "execution_count": 22,
     "metadata": {},
     "output_type": "execute_result"
    }
   ],
   "source": [
    "# Боб полчает сообщение\n",
    "bob.receive_message(alice.phone_number, srv)"
   ]
  },
  {
   "cell_type": "code",
   "execution_count": 23,
   "id": "807d2ac5",
   "metadata": {},
   "outputs": [
    {
     "name": "stdout",
     "output_type": "stream",
     "text": [
      "[TRACE] [SignalClient] Received message with id DH_RATCHET_PK from +7 991 174-51-34\n"
     ]
    }
   ],
   "source": [
    "# Это небольшой костыль, тут я получаю инициализирующее \n",
    "# сообщение с открытым ключом Боба\n",
    "alice.receive_message(bob.phone_number, srv)"
   ]
  },
  {
   "cell_type": "code",
   "execution_count": 24,
   "id": "0d6b2a6f",
   "metadata": {},
   "outputs": [
    {
     "name": "stdout",
     "output_type": "stream",
     "text": [
      "[TRACE] [SignalClient] DH ratchet step\n",
      "[TRACE] [SignalClient] Root KDF chain step\n",
      "[TRACE] [SignalClient] Sending ratchet reset\n",
      "[TRACE] [SignalClient] Sending ratchet step\n",
      "[TRACE] [SignalClient] Use cea971417001fa5f08f1aa4f61b997dab18f422e4826a56d66847542aacbbaee as encryption key\n",
      "[TRACE] [SignalServer] Saved message with id 0 from +7 921 059-87-72 to +7 991 174-51-34\n"
     ]
    }
   ],
   "source": [
    "# Алиса отсылает сообщение\n",
    "alice.send_message(bob.phone_number, \"What's up?\", srv)"
   ]
  },
  {
   "cell_type": "code",
   "execution_count": 25,
   "id": "c7be80fc",
   "metadata": {},
   "outputs": [
    {
     "name": "stdout",
     "output_type": "stream",
     "text": [
      "[TRACE] [SignalClient] Received message with id 0 from +7 921 059-87-72\n",
      "[TRACE] [SignalClient] DH ratchet step\n",
      "[TRACE] [SignalClient] Root KDF chain step\n",
      "[TRACE] [SignalClient] Receiving ratchet reset\n",
      "[TRACE] [SignalClient] Receiving ratchet step\n",
      "[TRACE] [SignalClient] Use cea971417001fa5f08f1aa4f61b997dab18f422e4826a56d66847542aacbbaee as decryption key\n"
     ]
    },
    {
     "data": {
      "text/plain": [
       "\"What's up?\""
      ]
     },
     "execution_count": 25,
     "metadata": {},
     "output_type": "execute_result"
    }
   ],
   "source": [
    "# Боб принимает и расшифровывает\n",
    "bob.receive_message(alice.phone_number, srv)"
   ]
  },
  {
   "cell_type": "code",
   "execution_count": 26,
   "id": "1bf002aa",
   "metadata": {},
   "outputs": [
    {
     "name": "stdout",
     "output_type": "stream",
     "text": [
      "[TRACE] [SignalClient] DH ratchet step\n",
      "[TRACE] [SignalClient] Root KDF chain step\n",
      "[TRACE] [SignalClient] Sending ratchet reset\n",
      "[TRACE] [SignalClient] Sending ratchet step\n",
      "[TRACE] [SignalClient] Use 7a864a802084ce17b6d5b41d5f4be6b5939da48cd210d7b057e683fc35850b84 as encryption key\n",
      "[TRACE] [SignalServer] Saved message with id 0 from +7 991 174-51-34 to +7 921 059-87-72\n",
      "[TRACE] [SignalClient] Sending ratchet step\n",
      "[TRACE] [SignalClient] Use 6fb08539bd56db0fb81f99d820aebbd7e4885214e1a15752142afd14b6aefe66 as encryption key\n",
      "[TRACE] [SignalServer] Saved message with id 1 from +7 991 174-51-34 to +7 921 059-87-72\n"
     ]
    }
   ],
   "source": [
    "# Можно послать несколько сообщений подряд\n",
    "bob.send_message(alice.phone_number, 'Some dummy phrase just to continue the dialog', srv)\n",
    "bob.send_message(alice.phone_number, 'And another one', srv)"
   ]
  },
  {
   "cell_type": "code",
   "execution_count": 27,
   "id": "42b766be",
   "metadata": {},
   "outputs": [
    {
     "name": "stdout",
     "output_type": "stream",
     "text": [
      "[TRACE] [SignalClient] Received message with id 0 from +7 991 174-51-34\n",
      "[TRACE] [SignalClient] DH ratchet step\n",
      "[TRACE] [SignalClient] Root KDF chain step\n",
      "[TRACE] [SignalClient] Receiving ratchet reset\n",
      "[TRACE] [SignalClient] Receiving ratchet step\n",
      "[TRACE] [SignalClient] Use 7a864a802084ce17b6d5b41d5f4be6b5939da48cd210d7b057e683fc35850b84 as decryption key\n"
     ]
    },
    {
     "data": {
      "text/plain": [
       "'Some dummy phrase just to continue the dialog'"
      ]
     },
     "execution_count": 27,
     "metadata": {},
     "output_type": "execute_result"
    }
   ],
   "source": [
    "# И получить оба. Одно...\n",
    "alice.receive_message(bob.phone_number, srv)"
   ]
  },
  {
   "cell_type": "code",
   "execution_count": 28,
   "id": "8e0acd53",
   "metadata": {},
   "outputs": [
    {
     "name": "stdout",
     "output_type": "stream",
     "text": [
      "[TRACE] [SignalClient] Received message with id 1 from +7 991 174-51-34\n",
      "[TRACE] [SignalClient] Receiving ratchet step\n",
      "[TRACE] [SignalClient] Use 6fb08539bd56db0fb81f99d820aebbd7e4885214e1a15752142afd14b6aefe66 as decryption key\n"
     ]
    },
    {
     "data": {
      "text/plain": [
       "'And another one'"
      ]
     },
     "execution_count": 28,
     "metadata": {},
     "output_type": "execute_result"
    }
   ],
   "source": [
    "# ... за другим\n",
    "alice.receive_message(bob.phone_number, srv)"
   ]
  },
  {
   "cell_type": "code",
   "execution_count": 29,
   "id": "6ee3f25e",
   "metadata": {},
   "outputs": [
    {
     "name": "stdout",
     "output_type": "stream",
     "text": [
      "[TRACE] [SignalClient] DH ratchet step\n",
      "[TRACE] [SignalClient] Root KDF chain step\n",
      "[TRACE] [SignalClient] Sending ratchet reset\n",
      "[TRACE] [SignalClient] Sending ratchet step\n",
      "[TRACE] [SignalClient] Use 62ec55f2ff41ae993933a890019b88e6d737be0c223cbfc6dfdad6d75c056ab3 as encryption key\n",
      "[TRACE] [SignalServer] Saved message with id 1 from +7 921 059-87-72 to +7 991 174-51-34\n"
     ]
    }
   ],
   "source": [
    "# Можно снова сменить направление отправки и \n",
    "# посмотреть, что произошел шаг DH-храповика\n",
    "alice.send_message(bob.phone_number, 'Yet another DH ratchet step demo', srv)"
   ]
  },
  {
   "cell_type": "code",
   "execution_count": 30,
   "id": "7c2f13e7",
   "metadata": {},
   "outputs": [
    {
     "name": "stdout",
     "output_type": "stream",
     "text": [
      "[TRACE] [SignalClient] Received message with id 1 from +7 921 059-87-72\n",
      "[TRACE] [SignalClient] DH ratchet step\n",
      "[TRACE] [SignalClient] Root KDF chain step\n",
      "[TRACE] [SignalClient] Receiving ratchet reset\n",
      "[TRACE] [SignalClient] Receiving ratchet step\n",
      "[TRACE] [SignalClient] Use 62ec55f2ff41ae993933a890019b88e6d737be0c223cbfc6dfdad6d75c056ab3 as decryption key\n"
     ]
    },
    {
     "data": {
      "text/plain": [
       "'Yet another DH ratchet step demo'"
      ]
     },
     "execution_count": 30,
     "metadata": {},
     "output_type": "execute_result"
    }
   ],
   "source": [
    "# А на другой строне надо получить сообщение\n",
    "bob.receive_message(alice.phone_number, srv)"
   ]
  },
  {
   "cell_type": "code",
   "execution_count": 31,
   "id": "2412831a",
   "metadata": {},
   "outputs": [
    {
     "name": "stdout",
     "output_type": "stream",
     "text": [
      "[TRACE] [SignalClient] Identity key: (11926474360601648416693343534955120095013027220782406209551480392024326297870099215573794397373011966340932732770997562007866963562836353929512698401387182, (11910105930728788711855569255348059804433474310341871865874467506443053963274566637379166439688510083299817291192159418067078457918579845198907296458510548, 13037040522275365794996265149533417981265926570641663885710469986289923851816881951960074418556325808196765383225884130508673564009151018003983462897334700))\n",
      "[TRACE] [SignalClient] Signed prekey: (4976240640723849603371332674682049079482419203633411558286177722017153943596727201327318674975144296994519041644585376722598954589096428801248501434506187, (2075282459460970740728758642595701646487318516566884459654033724887370847935519555630928559157587075828514002928808943782514532396104199721126648819048040, 1128068122123611149306692825049995312896493795498441467364393705356248664550905786335799955140542231670637587087191655589228337930933752261508364879200797))\n",
      "[TRACE] [SignalClient] Signature: 78a5ff2e01716346c9bf3f8e67410d647f0ee3b95ea85cf558d77c402b91f1cad73de7d7c198ff99486cce6ac61764acb5568cb1e95b59a8369197534250f1a86e4cbf7185a16dbe12f1f5826fd63c4aedd68750fc3ecaa4cd25af58c8eddffbb6596ce2a2ae0afeb75dbb7664a6c0fc8c1e1c0bc99cc79faed13f665d55e0ad\n",
      "[TRACE] [SignalClient] One time keys: 10\n",
      "[TRACE] [SignalServer] Registered client with phone number +7 970 505-44-25\n"
     ]
    }
   ],
   "source": [
    "# Можно третьего пользователя создать\n",
    "carol = SignalClient('+7 970 505-44-25')\n",
    "srv.register(carol.phone_number, carol.public_keys)"
   ]
  },
  {
   "cell_type": "code",
   "execution_count": 32,
   "id": "7e07d49d",
   "metadata": {},
   "outputs": [
    {
     "name": "stdout",
     "output_type": "stream",
     "text": [
      "[TRACE] [SignalClient] Sending ratchet step\n",
      "[TRACE] [SignalClient] Use cda99692824b6612601cd7a305d3402780d5e3f76cca4147ee2e278e38b8133f as encryption key\n",
      "[TRACE] [SignalServer] Saved message with id 2 from +7 921 059-87-72 to +7 991 174-51-34\n",
      "[TRACE] [SignalServer] Using OPK at 3\n",
      "[TRACE] [SignalClient] Use 80049589000000000000008a411d70f9e2ab7d2128c4da6719a53bde000aa0f1b7f732fdab3d7a8a8c93b46dba85c43c2eb942837eb31b2a2086461cbbc48687fa6aa7c4ef224c957bda5e70f5008a41eda3554f68857f8258c3cd10c2cd4ca7d829d801c19ca86eca039148af28b53901d168686d55a1d1f113bd9d9d3636297e8fccd347ecd782cb21c9ea6f8de3a40086942e80049589000000000000008a41d49098e31e2aff6587d49197d2d8f40ad8029b0b34adc8ac36e08c003dc22b6b9310766d0dc31c6e34498bd3d862de4ead2a9a67ace801c01c8b0152976267e3008a41acb960599c920717e54ac83e6a422dc3a09601c7b996727c9400e4ed68b4b63e01307e163f55fa0104f0a4a19cf2be0cbfd22732dbe0db082620d08906baebf80086942e as associated data\n",
      "[TRACE] [SignalClient] Use 13931da6944ffe785cff1b9d4fabbb4579d16ce4d9292b42afb31a509ca9295f as root key\n",
      "[TRACE] [SignalServer] Saved message with id X3DH_MSG from +7 921 059-87-72 to +7 970 505-44-25\n"
     ]
    }
   ],
   "source": [
    "alice.send_message(bob.phone_number, \"I'm making new friends\", srv)\n",
    "alice.send_message(carol.phone_number, 'Hi, Carol!', srv)"
   ]
  },
  {
   "cell_type": "code",
   "execution_count": 33,
   "id": "cd4cfd33",
   "metadata": {},
   "outputs": [
    {
     "name": "stdout",
     "output_type": "stream",
     "text": [
      "[TRACE] [SignalClient] Received message with id X3DH_MSG from +7 921 059-87-72\n",
      "[TRACE] [SignalClient] Use 80049589000000000000008a411d70f9e2ab7d2128c4da6719a53bde000aa0f1b7f732fdab3d7a8a8c93b46dba85c43c2eb942837eb31b2a2086461cbbc48687fa6aa7c4ef224c957bda5e70f5008a41eda3554f68857f8258c3cd10c2cd4ca7d829d801c19ca86eca039148af28b53901d168686d55a1d1f113bd9d9d3636297e8fccd347ecd782cb21c9ea6f8de3a40086942e80049589000000000000008a41d49098e31e2aff6587d49197d2d8f40ad8029b0b34adc8ac36e08c003dc22b6b9310766d0dc31c6e34498bd3d862de4ead2a9a67ace801c01c8b0152976267e3008a41acb960599c920717e54ac83e6a422dc3a09601c7b996727c9400e4ed68b4b63e01307e163f55fa0104f0a4a19cf2be0cbfd22732dbe0db082620d08906baebf80086942e as associated data\n",
      "[TRACE] [SignalClient] Use 13931da6944ffe785cff1b9d4fabbb4579d16ce4d9292b42afb31a509ca9295f as root key\n",
      "[TRACE] [SignalServer] Saved message with id DH_RATCHET_PK from +7 970 505-44-25 to +7 921 059-87-72\n"
     ]
    },
    {
     "data": {
      "text/plain": [
       "'Hi, Carol!'"
      ]
     },
     "execution_count": 33,
     "metadata": {},
     "output_type": "execute_result"
    }
   ],
   "source": [
    "carol.receive_message(alice.phone_number, srv)"
   ]
  },
  {
   "cell_type": "code",
   "execution_count": 34,
   "id": "c5150534",
   "metadata": {},
   "outputs": [
    {
     "name": "stdout",
     "output_type": "stream",
     "text": [
      "[TRACE] [SignalClient] Received message with id 2 from +7 921 059-87-72\n",
      "[TRACE] [SignalClient] Receiving ratchet step\n",
      "[TRACE] [SignalClient] Use cda99692824b6612601cd7a305d3402780d5e3f76cca4147ee2e278e38b8133f as decryption key\n"
     ]
    },
    {
     "data": {
      "text/plain": [
       "\"I'm making new friends\""
      ]
     },
     "execution_count": 34,
     "metadata": {},
     "output_type": "execute_result"
    }
   ],
   "source": [
    "bob.receive_message(alice.phone_number, srv)"
   ]
  },
  {
   "cell_type": "markdown",
   "id": "28afacea",
   "metadata": {},
   "source": [
    "----\n",
    "## Демонстрация неуспешного выполнения протоколов"
   ]
  },
  {
   "cell_type": "code",
   "execution_count": 35,
   "id": "4c01023f",
   "metadata": {},
   "outputs": [
    {
     "name": "stdout",
     "output_type": "stream",
     "text": [
      "[TRACE] [SignalClient] Identity key: (2003199404045945390096057511327513325650552243236762955149555609776212935325169800359706736938338393559588386436559520159469280213695548019705439780656854, (7461228693502033414410521629393918672279710896132839414067431062699310759537179706997563582061498472405773814786942497144861773770228842579880375149051929, 11268950046914826575741721826948180290814083033979953867798744791343154249694909215693828054335968774960626432660512219649296894234824615318541385914093361))\n",
      "[TRACE] [SignalClient] Signed prekey: (12936388877466676890285493541773678421927278603707437811703199146374766669604865421793556583960973776123685752770097550399105115963277612196100456974059681, (2523104982963365956113993258476167079250550135767524802870177872009525916796243054022587244916927029199123916550400933275995148815328377887049008549232060, 4485287961797189752916498397543516287938473068865707957893151951126585460898202799320483641865081075668219780745031153437350864216565108293494922325388982))\n",
      "[TRACE] [SignalClient] Signature: 75ac1e4907631602fafc7e6b0cec16f0b939c1fd4752051288bd6e6507ec9abc8091f89fbce01be9efdc7726846fa43ae662f452bd392540e2e1e8c91471cf0641e9cd681597f82b8e07aa11b761ca05e4b9e9045a1ecb393f70a922026d6915872446e40ecb8a70a57de8948fa5fa768f8f75af0ee15cbcd529f986ad331ebb\n",
      "[TRACE] [SignalClient] One time keys: 10\n"
     ]
    }
   ],
   "source": [
    "# Пользователь, который как-то украл подпись и подписанный ключ\n",
    "# Но его идентификационный ключ не позволяет проверить подпись\n",
    "mallory = SignalClient('+1 202-918-2132', fake_ik=True)"
   ]
  },
  {
   "cell_type": "code",
   "execution_count": 36,
   "id": "36d3e21b",
   "metadata": {},
   "outputs": [
    {
     "name": "stdout",
     "output_type": "stream",
     "text": [
      "[TRACE] [SignalServer] Registered client with phone number +1 202-918-2132\n"
     ]
    }
   ],
   "source": [
    "# Надо зарегистрироваться\n",
    "srv.register(mallory.phone_number, mallory.public_keys)"
   ]
  },
  {
   "cell_type": "code",
   "execution_count": 37,
   "id": "1f7a11ce",
   "metadata": {},
   "outputs": [
    {
     "name": "stdout",
     "output_type": "stream",
     "text": [
      "[TRACE] [SignalServer] Using OPK at 6\n",
      "[TRACE] [SignalClient] Cannot verify signature of client with phone +1 202-918-2132\n"
     ]
    }
   ],
   "source": [
    "# Алиса получает ключи с сервера и обнаруживает несоответствие\n",
    "alice.send_message(mallory.phone_number, 'Hi!', srv)"
   ]
  },
  {
   "cell_type": "code",
   "execution_count": 38,
   "id": "4033a732",
   "metadata": {},
   "outputs": [
    {
     "name": "stdout",
     "output_type": "stream",
     "text": [
      "[TRACE] [SignalClient] Identity key: (10764332129341309203792665542429430781232766768419358748795590904130936970193433040167974066976016885242391408309347574161570320308011729105830445715364227, (4918933871028431068994146496745285663893231998660578313074048444751335622108422859486898041343846710326431357405075063831201268065333447618883465765072964, 9654946095969164342041676471352749355111294790413116032844782511923440530677833517090345960698922294124806184384520591474837526081198671887316389516840939))\n",
      "[TRACE] [SignalClient] Signed prekey: (6739156483557535439140419684440262265120237418504656969859573901390526367428137325598886240708766535550065386300030793178215194447542918686761849997032901, (1398873284595937787071606584622826196970637446839426281575678589497532781880367764813345760157663217022117588842533240634576183810725308865140686333255439, 12252047796930638434652426405720685321018567588124003369875638011428727826708452374205893033723548454607843708852123513471362174845899387030275713342984691))\n",
      "[TRACE] [SignalClient] Signature: c96619655b3da562775927d443096a9151e137dc5bdfd9c42c70cefc4ea649d1a5595dd226b06cbb6f2b48391875a9ff97e3d1f824e76dbec8e45bea01255f8f883869d6c56d7b86c56370b8bf87f1699a4f6601fe94a0790776ff7e6a2a86df156bbb9bfcd0d348478ab777766cf04b88650d5064523f66bff691560990dda2\n",
      "[TRACE] [SignalClient] One time keys: 10\n"
     ]
    }
   ],
   "source": [
    "# Еще один пользователь-враг -- Ева\n",
    "eve = SignalClient('+1 539-567-2473')"
   ]
  },
  {
   "cell_type": "code",
   "execution_count": 39,
   "id": "5aa85ed1",
   "metadata": {},
   "outputs": [
    {
     "name": "stdout",
     "output_type": "stream",
     "text": [
      "[TRACE] [SignalClient] User now tries to be a user with phone +7 921 059-87-72\n"
     ]
    }
   ],
   "source": [
    "# Она пытается прикинуться Алисой в разговоре с Бобом\n",
    "eve._try_mimic(alice.phone_number, bob.phone_number, \n",
    "               alice._sessions[bob.phone_number])"
   ]
  },
  {
   "cell_type": "code",
   "execution_count": 40,
   "id": "59c9bdab",
   "metadata": {},
   "outputs": [
    {
     "name": "stdout",
     "output_type": "stream",
     "text": [
      "[TRACE] [SignalClient] DH ratchet step\n",
      "[TRACE] [SignalClient] Root KDF chain step\n",
      "[TRACE] [SignalClient] Sending ratchet reset\n",
      "[TRACE] [SignalClient] Sending ratchet step\n",
      "[TRACE] [SignalClient] Use acdd53c20152179681d0b49a14430cb3713f4e44c87bcd86b977053b25de0e33 as encryption key\n",
      "[TRACE] [SignalServer] Saved message with id 2 from +7 991 174-51-34 to +7 921 059-87-72\n"
     ]
    }
   ],
   "source": [
    "# Боб отправляет Алисе соообщение\n",
    "bob.send_message(alice.phone_number, 'Hi!', srv)"
   ]
  },
  {
   "cell_type": "code",
   "execution_count": 41,
   "id": "dd446d3b",
   "metadata": {},
   "outputs": [
    {
     "name": "stdout",
     "output_type": "stream",
     "text": [
      "[TRACE] [SignalClient] Received message with id 2 from +7 991 174-51-34\n",
      "[TRACE] [SignalClient] DH ratchet step\n",
      "[TRACE] [SignalClient] Root KDF chain step\n",
      "[TRACE] [SignalClient] Receiving ratchet reset\n",
      "[TRACE] [SignalClient] Receiving ratchet step\n",
      "[TRACE] [SignalClient] Use ec3149ec47178b6e5b28ba7437d68f2a564331af0133ebcef63129755a4fd510 as decryption key\n",
      "[TRACE] [SignalClient] Cannot decrypt message\n"
     ]
    }
   ],
   "source": [
    "# А вот получить его пытается Ева, но расшифровать не получится\n",
    "eve.receive_message(bob.phone_number, srv)"
   ]
  },
  {
   "cell_type": "code",
   "execution_count": null,
   "id": "2e1b2dbc",
   "metadata": {},
   "outputs": [],
   "source": []
  }
 ],
 "metadata": {
  "kernelspec": {
   "display_name": "Python 3 (ipykernel)",
   "language": "python",
   "name": "python3"
  },
  "language_info": {
   "codemirror_mode": {
    "name": "ipython",
    "version": 3
   },
   "file_extension": ".py",
   "mimetype": "text/x-python",
   "name": "python",
   "nbconvert_exporter": "python",
   "pygments_lexer": "ipython3",
   "version": "3.9.9"
  }
 },
 "nbformat": 4,
 "nbformat_minor": 5
}
