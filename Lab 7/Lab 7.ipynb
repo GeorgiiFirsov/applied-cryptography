{
 "cells": [
  {
   "cell_type": "markdown",
   "id": "b9a7fa89",
   "metadata": {},
   "source": [
    "# Реализация модели двустороннего защищенного чата в мессенджере по спецификации Signal"
   ]
  },
  {
   "cell_type": "code",
   "execution_count": 1,
   "id": "f56ece1d",
   "metadata": {},
   "outputs": [],
   "source": [
    "IS_DEBUG = 1"
   ]
  },
  {
   "cell_type": "code",
   "execution_count": 2,
   "id": "47ac3f81",
   "metadata": {},
   "outputs": [],
   "source": [
    "def trace(*args, **kwargs):\n",
    "    \"\"\"\n",
    "    Отладочная трассировка\n",
    "    \"\"\"\n",
    "    \n",
    "    global IS_DEBUG\n",
    "    if IS_DEBUG:\n",
    "        print('[TRACE]', end=' ')\n",
    "        print(*args, **kwargs)"
   ]
  },
  {
   "cell_type": "markdown",
   "id": "1feee646",
   "metadata": {},
   "source": [
    "---"
   ]
  },
  {
   "cell_type": "code",
   "execution_count": 3,
   "id": "96cfc4f1",
   "metadata": {},
   "outputs": [],
   "source": [
    "# Криптография из различных ГОСТ'ов\n",
    "from pygost import mgm\n",
    "from pygost import gost3412\n",
    "from pygost import gost3410\n",
    "from pygost import gost34112012256\n",
    "\n",
    "# КГПСЧ\n",
    "from Crypto.Random import get_random_bytes, random\n",
    "\n",
    "# HKDF\n",
    "from Crypto.Protocol.KDF import HKDF\n",
    "\n",
    "# Вспомогательные радости\n",
    "from collections import namedtuple\n",
    "import pickle\n",
    "import binascii"
   ]
  },
  {
   "cell_type": "markdown",
   "id": "1401b446",
   "metadata": {},
   "source": [
    "----"
   ]
  },
  {
   "cell_type": "code",
   "execution_count": 4,
   "id": "686e070b",
   "metadata": {},
   "outputs": [],
   "source": [
    "def as_hex(blob: bytes):\n",
    "    \"\"\"\n",
    "    Перевод блоба в шестнадцатиричное представление\n",
    "    \"\"\"\n",
    "    \n",
    "    return binascii.hexlify(blob).decode()"
   ]
  },
  {
   "cell_type": "markdown",
   "id": "f4645c8d",
   "metadata": {},
   "source": [
    "----\n",
    "## Реализация оберток над криптографическими алгоритмами и примитивами"
   ]
  },
  {
   "cell_type": "code",
   "execution_count": 5,
   "id": "efacb649",
   "metadata": {},
   "outputs": [],
   "source": [
    "class KuznyechikMGM(object):\n",
    "    \"\"\"\n",
    "    Класс-обертка над Кузнечиком в режиме MGM\n",
    "    \"\"\"\n",
    "    \n",
    "    KEY_SIZE = 32\n",
    "    \n",
    "    def __init__(self, key: bytes):\n",
    "        \"\"\"\n",
    "        Инициализация - сохраняю ключ\n",
    "        \"\"\"\n",
    "\n",
    "        self._key = key\n",
    "    \n",
    "    \n",
    "    def encrypt(self, plaintext: bytes, associated_data: bytes = b''):\n",
    "        \"\"\"\n",
    "        Зашифрование шифром Кузнечик в режиме MGM\n",
    "        \"\"\"\n",
    "        \n",
    "        encrypter = gost3412.GOST3412Kuznechik(self._key)\n",
    "        cipher = mgm.MGM(encrypter.encrypt, KuznyechikMGM._block_size())\n",
    "        \n",
    "        nonce = KuznyechikMGM._generate_nonce()\n",
    "        ct_with_tag = cipher.seal(nonce, plaintext, associated_data)\n",
    "        \n",
    "        return nonce, ct_with_tag[:-cipher.tag_size], ct_with_tag[-cipher.tag_size:]\n",
    "    \n",
    "    \n",
    "    def decrypt(self, nonce: bytes, ciphertext: bytes, tag: bytes, associated_data: bytes = b''):\n",
    "        \"\"\"\n",
    "        Расшифрование шифром Кузнечик в режиме MGM\n",
    "        \"\"\"\n",
    "        \n",
    "        try:\n",
    "            encrypter = gost3412.GOST3412Kuznechik(self._key)\n",
    "            cipher = mgm.MGM(encrypter.encrypt, KuznyechikMGM._block_size())\n",
    "\n",
    "            ct_with_tag = ciphertext + tag\n",
    "\n",
    "            return cipher.open(nonce, ct_with_tag, associated_data)\n",
    "        except ValueError as e:\n",
    "            return None\n",
    "        \n",
    "        \n",
    "    @staticmethod\n",
    "    def _block_size():\n",
    "        return gost3412.GOST3412Kuznechik.blocksize\n",
    "    \n",
    "    \n",
    "    @staticmethod\n",
    "    def _generate_nonce():\n",
    "        nonce = get_random_bytes(KuznyechikMGM._block_size())\n",
    "        while bytearray(nonce)[0] & 0x80 > 0:\n",
    "            nonce = get_random_bytes(KuznyechikMGM._block_size())\n",
    "            \n",
    "        return nonce"
   ]
  },
  {
   "cell_type": "markdown",
   "id": "1b955f60",
   "metadata": {},
   "source": [
    "---"
   ]
  },
  {
   "cell_type": "code",
   "execution_count": 6,
   "id": "df97d8cd",
   "metadata": {},
   "outputs": [],
   "source": [
    "class Streebog(gost34112012256.GOST34112012256):\n",
    "    \"\"\"\n",
    "    pycryptodome-совместимая обертка над хэш-функцией Стрибог\n",
    "    \"\"\"\n",
    "    \n",
    "    digest_size = 32\n",
    "    \n",
    "    \n",
    "    def __init__(self, data=None):\n",
    "        \"\"\"\n",
    "        Инициализация и обновление состояния (если надо)\n",
    "        \"\"\"\n",
    "        \n",
    "        super(Streebog, self).__init__()\n",
    "        if data is not None:\n",
    "            self.update(data)\n",
    "    \n",
    "    \n",
    "    @staticmethod\n",
    "    def new(data=None):\n",
    "        \"\"\"\n",
    "        Создание нового объекта\n",
    "        \"\"\"\n",
    "        \n",
    "        return Streebog(data)"
   ]
  },
  {
   "cell_type": "code",
   "execution_count": 7,
   "id": "8c4c090f",
   "metadata": {},
   "outputs": [],
   "source": [
    "def hash_digest(hasher_type, *args):\n",
    "    \"\"\"\n",
    "    Вычисление хэша при помощи объекта-обертки\n",
    "    \"\"\"\n",
    "    \n",
    "    hasher = hasher_type.new()\n",
    "    \n",
    "    for arg in args:\n",
    "        hasher.update(arg)\n",
    "        \n",
    "    return hasher.digest()"
   ]
  },
  {
   "cell_type": "markdown",
   "id": "45763043",
   "metadata": {},
   "source": [
    "----"
   ]
  },
  {
   "cell_type": "code",
   "execution_count": 8,
   "id": "183552ac",
   "metadata": {},
   "outputs": [],
   "source": [
    "class Curve(object):\n",
    "    \"\"\"\n",
    "    Обертка над эллиптической кривой. Для простоты это одна из кривых,\n",
    "    определенных в ГОСТ 34.10\n",
    "    \"\"\"\n",
    "    \n",
    "    CURVE = gost3410.CURVES['id-tc26-gost-3410-2012-512-paramSetA']\n",
    "        \n",
    "        \n",
    "    @staticmethod\n",
    "    def generate_private_key():\n",
    "        \"\"\"\n",
    "        Генерирование закрытого ключа\n",
    "        \"\"\"\n",
    "        \n",
    "        return gost3410.prv_unmarshal(get_random_bytes(64))\n",
    "    \n",
    "    \n",
    "    @staticmethod\n",
    "    def get_public_key(private_key):\n",
    "        \"\"\"\n",
    "        Получение открытого ключа по закрытому\n",
    "        \"\"\"\n",
    "        \n",
    "        return gost3410.public_key(Curve.CURVE, private_key)\n",
    "        \n",
    "        \n",
    "    @staticmethod\n",
    "    def multiply_by_scalar(scalar, point):\n",
    "        \"\"\"\n",
    "        Умножение точки эллиптической кривой на скаляр \n",
    "        \"\"\"\n",
    "\n",
    "        return Curve.CURVE.exp(scalar, *point)\n",
    "\n",
    "    \n",
    "    @staticmethod\n",
    "    def add_points(lhs, rhs):\n",
    "        \"\"\"\n",
    "        Сложение двух точек эллиптической кривой\n",
    "        \"\"\"\n",
    "\n",
    "        return Curve.CURVE._add(*lhs, *rhs)"
   ]
  },
  {
   "cell_type": "markdown",
   "id": "d9e57db0",
   "metadata": {},
   "source": [
    "----\n",
    "## Элементы протоколов из спецификации Signal"
   ]
  },
  {
   "cell_type": "code",
   "execution_count": 9,
   "id": "e10fb61a",
   "metadata": {},
   "outputs": [],
   "source": [
    "class KdfChainInternal(object):\n",
    "    \"\"\"\n",
    "    Вспомогательный класс, описывающий KDF-цепочку\n",
    "    \"\"\"\n",
    "    \n",
    "    def __init__(self, key, key_length):\n",
    "        \"\"\"\n",
    "        Инициализация, сохранение начального ключа и \n",
    "        длины генерируемых далее ключей\n",
    "        \"\"\"\n",
    "        \n",
    "        self._key_length = key_length\n",
    "        self._kdf_key = key\n",
    "    \n",
    "    \n",
    "    def reset(self, key):\n",
    "        \"\"\"\n",
    "        Сброс состояния, запись нового ключа в качестве\n",
    "        первоначального\n",
    "        \"\"\"\n",
    "        \n",
    "        self._kdf_key = key\n",
    "        \n",
    "        \n",
    "    def _kdf_update(self, data):\n",
    "        self._kdf_key, message_key = HKDF(self._kdf_key, self._key_length, \n",
    "                                          data, Streebog, 2)\n",
    "        return message_key"
   ]
  },
  {
   "cell_type": "code",
   "execution_count": 10,
   "id": "75be2880",
   "metadata": {},
   "outputs": [],
   "source": [
    "class KdfChain(KdfChainInternal):\n",
    "    \"\"\"\n",
    "    Класс, описывающий KDF-цепочку, которая генерирует\n",
    "    новые ключи только на основе своего состояния\n",
    "    https://signal.org/docs/specifications/doubleratchet/#kdf-chains\n",
    "    \"\"\"\n",
    "    \n",
    "    def __init__(self, key, key_length=32):\n",
    "        \"\"\"\n",
    "        Инициализация, сохранение начального ключа и \n",
    "        длины генерируемых далее ключей\n",
    "        \"\"\"\n",
    "        \n",
    "        super(KdfChain, self).__init__(key, key_length)\n",
    "        \n",
    "        \n",
    "    def step(self):\n",
    "        \"\"\"\n",
    "        Шаг цепочки, выработка нового ключа для KDF и\n",
    "        возвращаемого ключа\n",
    "        \"\"\"\n",
    "        \n",
    "        return self._kdf_update(b'\\x00' * 32)"
   ]
  },
  {
   "cell_type": "code",
   "execution_count": 11,
   "id": "8329e630",
   "metadata": {},
   "outputs": [],
   "source": [
    "class SymmetricRatchet(KdfChainInternal):\n",
    "    \"\"\"\n",
    "    Симметричный храповик\n",
    "    Новые ключи вырабатываются на основе выработанного \n",
    "    секрета Диффи-Хеллмана\n",
    "    https://signal.org/docs/specifications/doubleratchet/#symmetric-key-ratchet\n",
    "    \"\"\"\n",
    "    \n",
    "    def __init__(self, key, key_length=32):\n",
    "        \"\"\"\n",
    "        Инициализация, сохранение начального ключа и \n",
    "        длины генерируемых далее ключей\n",
    "        \"\"\"\n",
    "        \n",
    "        super(SymmetricRatchet, self).__init__(key, key_length)\n",
    "        \n",
    "        \n",
    "    def step(self, serialized_dh_key):\n",
    "        \"\"\"\n",
    "        Шаг цепочки, выработка нового ключа для KDF и\n",
    "        возвращаемого ключа\n",
    "        \"\"\"\n",
    "        \n",
    "        return self._kdf_update(serialized_dh_key)"
   ]
  },
  {
   "cell_type": "markdown",
   "id": "e3fccdb3",
   "metadata": {},
   "source": [
    "-----"
   ]
  },
  {
   "cell_type": "code",
   "execution_count": 12,
   "id": "59cf017d",
   "metadata": {},
   "outputs": [],
   "source": [
    "class DiffieHellmanRatchet(object):\n",
    "    \"\"\"\n",
    "    DH-храповик\n",
    "    https://signal.org/docs/specifications/doubleratchet/#diffie-hellman-ratchet\n",
    "    \"\"\"\n",
    "    \n",
    "    PRIVATE = 0\n",
    "    PUBLIC  = 1\n",
    "    \n",
    "    \n",
    "    def __init__(self):\n",
    "        \"\"\"\n",
    "        Инициализация, выработка начальной ключевой пары\n",
    "        \"\"\"\n",
    "        \n",
    "        self._current_foreign_public_key = None\n",
    "        self._current_key_pair = DiffieHellmanRatchet._generate_key_pair()\n",
    "        \n",
    "    \n",
    "    def is_uninitialized(self):\n",
    "        \"\"\"\n",
    "        Проверка того, что открытый ключ другой стороны отсутствует\n",
    "        \"\"\"\n",
    "        \n",
    "        return self._current_foreign_public_key is None\n",
    "    \n",
    "    \n",
    "    def initialize(self, public_key):\n",
    "        \"\"\"\n",
    "        Инициализация открытого ключа другой стороны\n",
    "        \"\"\"\n",
    "        \n",
    "        self._current_foreign_public_key = public_key\n",
    "        \n",
    "        \n",
    "    def is_same_public_key(self, public_key):\n",
    "        \"\"\"\n",
    "        Проверка равенства открытых ключей\n",
    "        \"\"\"\n",
    "        \n",
    "        if self._current_foreign_public_key is None:\n",
    "            return False\n",
    "        \n",
    "        return public_key == self._current_foreign_public_key\n",
    "    \n",
    "    \n",
    "    def step(self, public_key=None):\n",
    "        \"\"\"\n",
    "        Выработка общего секрета Диффи-Хеллмана\n",
    "        \"\"\"\n",
    "        \n",
    "        if self._current_key_pair is None:\n",
    "            raise RuntimeError('Uninitialized DH Ratchet used to produce a shared secret')\n",
    "        \n",
    "        if public_key is not None:\n",
    "            self._current_foreign_public_key = public_key\n",
    "            \n",
    "        return Curve.multiply_by_scalar(self._current_key_pair[DiffieHellmanRatchet.PRIVATE], \n",
    "                                        self._current_foreign_public_key)\n",
    "    \n",
    "    \n",
    "    def generate_new_key_pair(self):\n",
    "        \"\"\"\n",
    "        Генерирование новой ключевой пары\n",
    "        \"\"\"\n",
    "        \n",
    "        self._current_key_pair = DiffieHellmanRatchet._generate_key_pair()\n",
    "        \n",
    "        \n",
    "    @property\n",
    "    def public_key(self):\n",
    "        \"\"\"\n",
    "        Получение открытого ключа\n",
    "        \"\"\"\n",
    "        \n",
    "        return self._current_key_pair[DiffieHellmanRatchet.PUBLIC]\n",
    "    \n",
    "    \n",
    "    @staticmethod\n",
    "    def _generate_key_pair():\n",
    "        private_key = Curve.generate_private_key()\n",
    "        public_key  = Curve.get_public_key(private_key)\n",
    "        \n",
    "        return private_key, public_key"
   ]
  },
  {
   "cell_type": "markdown",
   "id": "67ce0369",
   "metadata": {},
   "source": [
    "----"
   ]
  },
  {
   "cell_type": "code",
   "execution_count": 13,
   "id": "5fcbc477",
   "metadata": {},
   "outputs": [],
   "source": [
    "#\n",
    "# Описание сути следует смотреть здесь:\n",
    "# https://signal.org/docs/specifications/x3dh/#publishing-keys\n",
    "#\n",
    "\n",
    "KeyBundle = namedtuple('KeyBundle', ['IK',    # Ключ-идентификатор (Identity key)\n",
    "                                     'SPK',   # Подписанный предключ (Signed prekey)\n",
    "                                     'Sig',   # Подпись предключа (Prekey signature)\n",
    "                                     'OPKs',  # Коллекция одноразовых предключей (One-time prekeys)\n",
    "                                    ])"
   ]
  },
  {
   "cell_type": "code",
   "execution_count": 14,
   "id": "cbcb9daa",
   "metadata": {},
   "outputs": [],
   "source": [
    "Message = namedtuple('Message', ['public_key',  # Открытый ключ DH отправляющего\n",
    "                                 'id',          # Идентитфикатор сообщения\n",
    "                                 'data',        # Данные сообщения\n",
    "                                ])"
   ]
  },
  {
   "cell_type": "markdown",
   "id": "8a6b55f8",
   "metadata": {},
   "source": [
    "----\n",
    "## Участники протоколов из спецификации Signal"
   ]
  },
  {
   "cell_type": "code",
   "execution_count": 15,
   "id": "c1c1fbed",
   "metadata": {},
   "outputs": [],
   "source": [
    "class SignalServer(object):\n",
    "    \"\"\"\n",
    "    Класс сервера Signal\n",
    "    \"\"\"\n",
    "    \n",
    "    def __init__(self):\n",
    "        \"\"\"\n",
    "        Инициализация\n",
    "        \"\"\"\n",
    "        \n",
    "        #\n",
    "        # Коллекция ключевых данных клиентов, индексируемая по номеру телефона\n",
    "        #\n",
    "        \n",
    "        self._key_bundles = {}\n",
    "        \n",
    "        #\n",
    "        # Коллекция очередей сообщения, индексируемая по паре номеров, \n",
    "        # представляющих направление передачи\n",
    "        #\n",
    "        \n",
    "        self._messages = {}\n",
    "        \n",
    "        \n",
    "    def register(self, phone_number: str, keys: KeyBundle):\n",
    "        \"\"\"\n",
    "        Регистрация пользователя по номеру телефона. Сохраняет набор ключей\n",
    "        \"\"\"\n",
    "        \n",
    "        if phone_number in self._key_bundles:\n",
    "            raise ValueError(f'Client with phone number {phone_number} is already registered')\n",
    "            \n",
    "        trace('[SignalServer]', f'Registered client with phone number {phone_number}')\n",
    "            \n",
    "        self._key_bundles[phone_number] = keys\n",
    "        \n",
    "        \n",
    "    def get_public_keys(self, phone_number: str):\n",
    "        \"\"\"\n",
    "        Получение ключей пользователя по его номеру телефона\n",
    "        \"\"\"\n",
    "        \n",
    "        if phone_number not in self._key_bundles:\n",
    "            raise ValueError(f'Client with phone number {phone_number} is not registered yet')\n",
    "            \n",
    "        #\n",
    "        # Достану ключи\n",
    "        #\n",
    "        \n",
    "        keys = self._key_bundles[phone_number]\n",
    "        one_time_keys = keys.OPKs\n",
    "        \n",
    "        #\n",
    "        # Возьму случайный из одноразовых ключей\n",
    "        #\n",
    "        \n",
    "        idx = random.randint(0, len(one_time_keys) - 1)\n",
    "        result = KeyBundle(keys.IK, keys.SPK, keys.Sig, (one_time_keys.pop(idx), idx))\n",
    "        \n",
    "        trace('[SignalServer]', f'Using OPK at {idx}')\n",
    "        \n",
    "        #\n",
    "        # Сохраню обновленный пакет ключей (без одного одноразового)\n",
    "        #\n",
    "        \n",
    "        self._key_bundles[phone_number] = KeyBundle(keys.IK, keys.SPK, keys.Sig, one_time_keys)\n",
    "        \n",
    "        return result\n",
    "    \n",
    "    \n",
    "    def push_message(self, phone_from: str, phone_to: str, message: Message):\n",
    "        \"\"\"\n",
    "        Помещение сообщения в очередь\n",
    "        \"\"\"\n",
    "        \n",
    "        search_key = (phone_from, phone_to)\n",
    "        \n",
    "        if search_key not in self._messages:\n",
    "            self._messages[search_key] = []\n",
    "            \n",
    "        trace('[SignalServer]', f'Saved message with id {message.id} from {phone_from} to {phone_to}')\n",
    "            \n",
    "        self._messages[search_key].append(message)\n",
    "        \n",
    "        \n",
    "    def peek_message(self, phone_from, phone_to):\n",
    "        \"\"\"\n",
    "        Получение сообщения из очереди\n",
    "        \"\"\"\n",
    "        \n",
    "        search_key = (phone_from, phone_to)\n",
    "        \n",
    "        if search_key not in self._messages:\n",
    "            return None\n",
    "        \n",
    "        if self._messages[search_key] == []:\n",
    "            return None\n",
    "        \n",
    "        return self._messages[search_key].pop(0)"
   ]
  },
  {
   "cell_type": "code",
   "execution_count": 16,
   "id": "82dec765",
   "metadata": {},
   "outputs": [],
   "source": [
    "class SignalClient(object):\n",
    "    \"\"\"\n",
    "    Класс клиента Signal\n",
    "    \"\"\"\n",
    "    \n",
    "    PRIVATE = 0\n",
    "    PUBLIC  = 1\n",
    "    \n",
    "    X3DH_MSG_ID      = 'X3DH_MSG'\n",
    "    DH_RATCHET_PK_ID = 'DH_RATCHET_PK'\n",
    "    \n",
    "    RECEIVED_FLAG     = 0\n",
    "    DH_RATCHET        = 1\n",
    "    ROOT_KDF_CHAIN    = 2\n",
    "    SENDING_RATCHET   = 3\n",
    "    RECEIVING_RATCHET = 4\n",
    "    MSG_ID            = 5\n",
    "    \n",
    "    \n",
    "    def __init__(self, phone_number, one_time_keys=10, *, fake_ik=False):\n",
    "        \"\"\"\n",
    "        Инициализация, генерирование ключей\n",
    "        \"\"\"\n",
    "        \n",
    "        self._phone_number  = phone_number\n",
    "        \n",
    "        self._identity_key  = SignalClient._generate_key_pair()\n",
    "        self._signed_prekey = SignalClient._generate_key_pair()\n",
    "        self._ot_prekeys    = [SignalClient._generate_key_pair() for _ in range(one_time_keys)]\n",
    "        \n",
    "        digest = hash_digest(Streebog, pickle.dumps(self._signed_prekey[SignalClient.PUBLIC]))\n",
    "        self._signature = gost3410.sign(Curve.CURVE, \n",
    "                                        self._identity_key[SignalClient.PRIVATE], \n",
    "                                        digest)\n",
    "        \n",
    "        if fake_ik:\n",
    "            #\n",
    "            # Демонстрация неудачного выполнения, заменю идентификационный ключ\n",
    "            #\n",
    "            \n",
    "            self._identity_key  = SignalClient._generate_key_pair()\n",
    "        \n",
    "        self._sessions = {}\n",
    "        \n",
    "        trace('[SignalClient]', f'Identity key: {self._identity_key}')\n",
    "        trace('[SignalClient]', f'Signed prekey: {self._signed_prekey}')\n",
    "        trace('[SignalClient]', f'Signature: {as_hex(self._signature)}')\n",
    "        trace('[SignalClient]', f'One time keys: {len(self._ot_prekeys)}')\n",
    "        \n",
    "        \n",
    "    def send_message(self, phone_number: str, message: str, server: SignalServer):\n",
    "        \"\"\"\n",
    "        Отправка сообщения, установление сессии, если нужно\n",
    "        \"\"\"\n",
    "        \n",
    "        if phone_number not in self._sessions:\n",
    "            #\n",
    "            # Сессии еще нет, поэтому установлю соединение\n",
    "            #\n",
    "            \n",
    "            return self._x3dh_init_session(phone_number, message, server)\n",
    "        \n",
    "        #\n",
    "        # Так как протокол X3DH асинхронный, то я прямо сразу и отправлю сообщение\n",
    "        #\n",
    "        \n",
    "        if self._sessions[phone_number][SignalClient.RECEIVED_FLAG]:\n",
    "            #\n",
    "            # Требуется шаг DH-храповика, так как сменилось направление передачи\n",
    "            #\n",
    "            \n",
    "            self._sessions[phone_number][SignalClient.RECEIVED_FLAG] = False\n",
    "            \n",
    "            trace('[SignalClient]', 'DH ratchet step')\n",
    "            dh_key   = self._sessions[phone_number][SignalClient.DH_RATCHET].step()\n",
    "            \n",
    "            trace('[SignalClient]', 'Root KDF chain step')\n",
    "            send_key = self._sessions[phone_number][SignalClient.ROOT_KDF_CHAIN].step(pickle.dumps(dh_key))\n",
    "            \n",
    "            trace('[SignalClient]', 'Sending ratchet reset')\n",
    "            self._sessions[phone_number][SignalClient.SENDING_RATCHET].reset(send_key)\n",
    "            \n",
    "        #\n",
    "        # Вырабатывается ключ с помощью симметричного храповика для отправки\n",
    "        # На ключе шифруется само сообщение\n",
    "        #\n",
    "        \n",
    "        trace('[SignalClient]', 'Sending ratchet step')\n",
    "        message_key = self._sessions[phone_number][SignalClient.SENDING_RATCHET].step()\n",
    "        \n",
    "        trace('[SignalClient]', f'Use {as_hex(message_key)} as encryption key')\n",
    "        encrypted_message = KuznyechikMGM(message_key).encrypt(message.encode())\n",
    "        \n",
    "        message_id = self._sessions[phone_number][SignalClient.MSG_ID]\n",
    "        public_key = self._sessions[phone_number][SignalClient.DH_RATCHET].public_key\n",
    "        \n",
    "        self._sessions[phone_number][SignalClient.MSG_ID] += 1\n",
    "        \n",
    "        server.push_message(self.phone_number, phone_number, Message(public_key, \n",
    "                                                                     message_id, \n",
    "                                                                     encrypted_message))\n",
    "        \n",
    "        \n",
    "    def receive_message(self, phone_number: str, server: SignalServer):\n",
    "        \"\"\"\n",
    "        Прием сообщения, установление сессии, если надо\n",
    "        \"\"\"\n",
    "        \n",
    "        message = server.peek_message(phone_number, self.phone_number)\n",
    "        if message is None:\n",
    "            trace('[SignalClient]', f'No message for {self.phone_number} from {phone_number}')\n",
    "            return\n",
    "        \n",
    "        public_key, message_id, data = message\n",
    "        \n",
    "        trace('[SignalClient]', f'Received message with id {message_id} from {phone_number}')\n",
    "        \n",
    "        if message_id == SignalClient.X3DH_MSG_ID:\n",
    "            #\n",
    "            # Это инициирующее сообщения для установки сессии\n",
    "            #\n",
    "            \n",
    "            return self._x3dh_accept_session(phone_number, data, server)\n",
    "        \n",
    "        if message_id == SignalClient.DH_RATCHET_PK_ID:\n",
    "            #\n",
    "            # Это нам ключ открытый прислали для инициализации\n",
    "            #\n",
    "            \n",
    "            if not self._sessions[phone_number][SignalClient.DH_RATCHET].is_uninitialized():\n",
    "                raise RuntimeError(f'Cannot initialize DH ratchet for {self.phone_number} twice')\n",
    "                \n",
    "            return self._sessions[phone_number][SignalClient.DH_RATCHET].initialize(public_key)\n",
    "        \n",
    "        #\n",
    "        # Во-первых, факт приема зафиксирую \n",
    "        #\n",
    "        \n",
    "        self._sessions[phone_number][SignalClient.RECEIVED_FLAG] = True\n",
    "        \n",
    "        #\n",
    "        # Не сменился ли открытый ключ собеседника?\n",
    "        #\n",
    "        \n",
    "        if not self._sessions[phone_number][SignalClient.DH_RATCHET].is_same_public_key(public_key):\n",
    "            #\n",
    "            # Требуется шаг DH-храповика, так как сменилось направление передачи\n",
    "            #\n",
    "            \n",
    "            trace('[SignalClient]', 'DH ratchet step')\n",
    "            dh_key = self._sessions[phone_number][SignalClient.DH_RATCHET].step(public_key)\n",
    "            self._sessions[phone_number][SignalClient.DH_RATCHET].generate_new_key_pair()\n",
    "            \n",
    "            trace('[SignalClient]', 'Root KDF chain step')\n",
    "            recv_key = self._sessions[phone_number][SignalClient.ROOT_KDF_CHAIN].step(pickle.dumps(dh_key))\n",
    "            \n",
    "            trace('[SignalClient]', 'Receiving ratchet reset')\n",
    "            self._sessions[phone_number][SignalClient.RECEIVING_RATCHET].reset(recv_key)\n",
    "            \n",
    "        #\n",
    "        # Делаю шаг храповика приема\n",
    "        #\n",
    "            \n",
    "        trace('[SignalClient]', 'Receiving ratchet step')\n",
    "        message_key = self._sessions[phone_number][SignalClient.RECEIVING_RATCHET].step()\n",
    "        \n",
    "        trace('[SignalClient]', f'Use {as_hex(message_key)} as decryption key')\n",
    "        decrypted_message = KuznyechikMGM(message_key).decrypt(*data)\n",
    "        \n",
    "        if decrypted_message is None:\n",
    "            trace('[SignalClient]', 'Cannot decrypt message')\n",
    "            return\n",
    "            \n",
    "        return decrypted_message.decode()\n",
    "        \n",
    "        \n",
    "    @property\n",
    "    def phone_number(self):\n",
    "        \"\"\"\n",
    "        Получение номер телефона\n",
    "        \"\"\"\n",
    "        \n",
    "        return self._phone_number\n",
    "    \n",
    "    \n",
    "    @property\n",
    "    def public_keys(self):\n",
    "        \"\"\"\n",
    "        Получение открытых ключей\n",
    "        \"\"\"\n",
    "        \n",
    "        return KeyBundle(self._identity_key[SignalClient.PUBLIC], \n",
    "                         self._signed_prekey[SignalClient.PUBLIC], \n",
    "                         self._signature, \n",
    "                         [prekey[SignalClient.PUBLIC] for prekey in self._ot_prekeys])\n",
    "        \n",
    "        \n",
    "    def _x3dh_init_session(self, phone_number: str, message: str, server: SignalServer):\n",
    "        IKb, SPKb, Sigb, (OPKb, idx) = server.get_public_keys(phone_number)\n",
    "        \n",
    "        #\n",
    "        # Проверяю подпись\n",
    "        #\n",
    "        \n",
    "        digest = hash_digest(Streebog, pickle.dumps(SPKb))\n",
    "        if not gost3410.verify(Curve.CURVE, IKb, digest, Sigb):\n",
    "            trace('[SignalClient]', f'Cannot verify signature of client with phone {phone_number}')\n",
    "            return\n",
    "        \n",
    "        #\n",
    "        # Эфемерный ключ\n",
    "        #\n",
    "        \n",
    "        EKa = SignalClient._generate_key_pair()\n",
    "        \n",
    "        #\n",
    "        # Выработка общих секретов\n",
    "        #\n",
    "        \n",
    "        DH1 = SignalClient._dh(self._identity_key, SPKb)\n",
    "        DH2 = SignalClient._dh(EKa, IKb)\n",
    "        DH3 = SignalClient._dh(EKa, SPKb)\n",
    "        DH4 = SignalClient._dh(EKa, OPKb)\n",
    "        \n",
    "        #\n",
    "        # Вырабатываю ключ и создаю сообщение\n",
    "        # В качестве данных я отправлю шифртекст сообщения,\n",
    "        # идентификационный ключ, эфемерный ключ и индекс\n",
    "        # использованного одноразового ключа\n",
    "        #\n",
    "        # Протокол разрешает использовать выработанный ключ прямо\n",
    "        # для зашифрования первого сообщения: An initial ciphertext \n",
    "        # encrypted with some AEAD encryption scheme [4] using AD \n",
    "        # as associated data and using an encryption key which is \n",
    "        # either SK or the output from some cryptographic PRF keyed by SK.\n",
    "        #\n",
    "        \n",
    "        AD = pickle.dumps(self._identity_key[SignalClient.PUBLIC]) + pickle.dumps(IKb)\n",
    "        trace('[SignalClient]', f'Use {as_hex(AD)} as associated data')\n",
    "        \n",
    "        root_key = SignalClient._produce_root_key(DH1, DH2, DH3, DH4)\n",
    "        trace('[SignalClient]', f'Use {as_hex(root_key)} as root key')\n",
    "        \n",
    "        #\n",
    "        # А теперь требуется создать состояние\n",
    "        #\n",
    "        \n",
    "        self._initialize_state(phone_number, root_key)\n",
    "        \n",
    "        encrypted_message = KuznyechikMGM(root_key).encrypt(message.encode(), AD)\n",
    "        message = (encrypted_message, self._identity_key[SignalClient.PUBLIC], \n",
    "                   EKa[SignalClient.PUBLIC], idx)\n",
    "        \n",
    "        server.push_message(self.phone_number, \n",
    "                            phone_number, \n",
    "                            Message(None, SignalClient.X3DH_MSG_ID, message))\n",
    "        \n",
    "    \n",
    "    def _x3dh_accept_session(self, phone_number: str, x3dh_parameters: Message, server: SignalServer):\n",
    "        encrypred_message, IKa, EKa, idx = x3dh_parameters\n",
    "        \n",
    "        #\n",
    "        # Получу нужный одноразовый ключ\n",
    "        #\n",
    "        \n",
    "        OPKb = self._ot_prekeys.pop(idx)\n",
    "        \n",
    "        #\n",
    "        # Выработка общих секретов\n",
    "        #\n",
    "        \n",
    "        DH1 = SignalClient._dh(self._signed_prekey, IKa)\n",
    "        DH2 = SignalClient._dh(self._identity_key, EKa)\n",
    "        DH3 = SignalClient._dh(self._signed_prekey, EKa)\n",
    "        DH4 = SignalClient._dh(OPKb, EKa)\n",
    "        \n",
    "        #\n",
    "        # Вырабатываю ключ и читаю сообщение\n",
    "        #\n",
    "        \n",
    "        AD = pickle.dumps(IKa) + pickle.dumps(self._identity_key[SignalClient.PUBLIC])\n",
    "        trace('[SignalClient]', f'Use {as_hex(AD)} as associated data')\n",
    "        \n",
    "        root_key = SignalClient._produce_root_key(DH1, DH2, DH3, DH4)\n",
    "        trace('[SignalClient]', f'Use {as_hex(root_key)} as root key')\n",
    "        \n",
    "        decrypted_message = KuznyechikMGM(root_key).decrypt(*encrypred_message, AD)\n",
    "        \n",
    "        if decrypted_message is None:\n",
    "            trace('[SignalClient]', 'Cannot decrypt message')\n",
    "            return\n",
    "        \n",
    "        #\n",
    "        # Теперь нужно инициализировать состояние и отослать открытый ключ\n",
    "        #\n",
    "        \n",
    "        self._initialize_state(phone_number, root_key)\n",
    "        \n",
    "        public_key = self._sessions[phone_number][SignalClient.DH_RATCHET].public_key\n",
    "        server.push_message(self.phone_number, phone_number, Message(public_key, \n",
    "                                                                     SignalClient.DH_RATCHET_PK_ID, \n",
    "                                                                     None))\n",
    "        \n",
    "        return decrypted_message.decode()\n",
    "        \n",
    "        \n",
    "    def _initialize_state(self, phone_number: str, root_key):\n",
    "        self._sessions[phone_number] = [True, \n",
    "                                        DiffieHellmanRatchet(), \n",
    "                                        SymmetricRatchet(root_key), \n",
    "                                        KdfChain(b'\\x00', KuznyechikMGM.KEY_SIZE), \n",
    "                                        KdfChain(b'\\x00', KuznyechikMGM.KEY_SIZE), \n",
    "                                        0,\n",
    "                                       ]\n",
    "        \n",
    "        \n",
    "    def _try_mimic(self, phone_number, session_phone_number, session):\n",
    "        self._phone_number = phone_number\n",
    "        self._sessions[session_phone_number] = session.copy()\n",
    "        self._sessions[session_phone_number][SignalClient.DH_RATCHET].generate_new_key_pair()\n",
    "        \n",
    "        trace('[SignalClient]', f'User now tries to be a user with phone {phone_number}')\n",
    "        \n",
    "        \n",
    "    @staticmethod\n",
    "    def _generate_key_pair():\n",
    "        private_key = Curve.generate_private_key()\n",
    "        public_key  = Curve.get_public_key(private_key)\n",
    "        \n",
    "        return private_key, public_key\n",
    "    \n",
    "    \n",
    "    @staticmethod\n",
    "    def _dh(key_pair, public_key):\n",
    "        return Curve.multiply_by_scalar(key_pair[SignalClient.PRIVATE], public_key)\n",
    "    \n",
    "    \n",
    "    @staticmethod\n",
    "    def _produce_root_key(DH1, DH2, DH3, DH4):\n",
    "        kdf_data = pickle.dumps(DH1) + pickle.dumps(DH2) + pickle.dumps(DH3) + pickle.dumps(DH4)\n",
    "        return HKDF(kdf_data, KuznyechikMGM.KEY_SIZE, b'\\x00' * 16, Streebog, 1)"
   ]
  },
  {
   "cell_type": "markdown",
   "id": "825aca31",
   "metadata": {},
   "source": [
    "----\n",
    "## Демонстрация удачного выполнения протоколов"
   ]
  },
  {
   "cell_type": "code",
   "execution_count": 17,
   "id": "a6ce4155",
   "metadata": {},
   "outputs": [],
   "source": [
    "# Создаю сервер\n",
    "srv = SignalServer()"
   ]
  },
  {
   "cell_type": "code",
   "execution_count": 18,
   "id": "23b87947",
   "metadata": {},
   "outputs": [
    {
     "name": "stdout",
     "output_type": "stream",
     "text": [
      "[TRACE] [SignalClient] Identity key: (2738252788752701490790337007600039613883618509497694861690705737596019264139837645488627302415097682783723179552705684407787458594703696315213007742440800, (11295717227674371776208866005731517639519887603227264606931960224527553344990457910065728836438038625045123388850819308169243960497262290307023138234528085, 3757648319258402651528856996364669577090078630620695543444694045149335937061078976537732841228585957665414723579728584302046840959324343628953684001556450))\n",
      "[TRACE] [SignalClient] Signed prekey: (2281622363151828191032454034715289244836481841278881144728186531923653337986744429590690316409254732382111059277902534359885578016222688825969116353633254, (11654778021180341884136137287399054701417574647345847388618715255047506982715168401300202327430398716534195059899608536925741150795111396163925947293307702, 2374775061018899122623377983723499092201850006627763896515614626530747070348529144587269321492461570671386579556080402252254474060002108333865551694100773))\n",
      "[TRACE] [SignalClient] Signature: 1823e844b9dd2c8aa8225847810e0d90b69dd3e594675a5bf977c9f1d3e7a0b710387b9d63411479bc6bce5cd1eb4e33207548380130f36373d32a3aade0cdf87de339075df47f5dd7d10e1e3ae68c68a713c31c58d3fcb615a248cd5536cd14b0f9667f5172da7a8605e514a676ea9f711d09dae026f3c955e9a8cab44b55c9\n",
      "[TRACE] [SignalClient] One time keys: 10\n"
     ]
    }
   ],
   "source": [
    "# Пользователь Алиса\n",
    "alice = SignalClient('+7 921 059-87-72')"
   ]
  },
  {
   "cell_type": "code",
   "execution_count": 19,
   "id": "5882e568",
   "metadata": {},
   "outputs": [
    {
     "name": "stdout",
     "output_type": "stream",
     "text": [
      "[TRACE] [SignalClient] Identity key: (1599062948693195505305608922402545660674362010315531767792793055319374506306036404119231610892131734181006760970064009368874983509034600137075654091765035, (1349167729826370987285850191406695238016279355930247676186117371496062792572966858446310942426244438927158887066373714162111201356979380415646279614437271, 3291061829247426211689884712848641790670550489337464081601005117734735225072374153917186314459132433986777065179660873441467967980575835228474627675176429))\n",
      "[TRACE] [SignalClient] Signed prekey: (2871920340417375017639723544524733537904952111540151596900368058311154405119636959933802021881475085212348019240756691128805885767679790892762544727221096, (5846484737689517895356903807925356420065990456151238351050162794643244984151840169364632314849675577845462809321136711945679869886936616938249776884711495, 5245059891444904887712851476374110031304420167383254697538715933710967991692316142825859561241288192919161144466724499158940585691500548774522968733121166))\n",
      "[TRACE] [SignalClient] Signature: 0f1ebe5c6d4187492236339583f73d0c4c453dfd8bcf79be016f173c7a6bc284c0d5722db939c82895e63c5e3f362f1878f2363348cba60ed41ceb0974d2a797433e4dca7f1eba31f502414fda5017a457e5c5baa9785ec715b772e82cf4b49232f76ae4e0d37cff7ad5da0d662152bce33a53dec915f03dfed448f362c12f91\n",
      "[TRACE] [SignalClient] One time keys: 10\n"
     ]
    }
   ],
   "source": [
    "# Пользователь Боб\n",
    "bob = SignalClient('+7 991 174-51-34')"
   ]
  },
  {
   "cell_type": "code",
   "execution_count": 20,
   "id": "471d5260",
   "metadata": {},
   "outputs": [
    {
     "name": "stdout",
     "output_type": "stream",
     "text": [
      "[TRACE] [SignalServer] Registered client with phone number +7 921 059-87-72\n",
      "[TRACE] [SignalServer] Registered client with phone number +7 991 174-51-34\n"
     ]
    }
   ],
   "source": [
    "# Регистрирую всех \n",
    "srv.register(alice.phone_number, alice.public_keys)\n",
    "srv.register(bob.phone_number, bob.public_keys)"
   ]
  },
  {
   "cell_type": "code",
   "execution_count": 21,
   "id": "1311a677",
   "metadata": {},
   "outputs": [
    {
     "name": "stdout",
     "output_type": "stream",
     "text": [
      "[TRACE] [SignalServer] Using OPK at 8\n",
      "[TRACE] [SignalClient] Use 80049588000000000000008a41557153ac60e39ca618897d6caf42d184efeec919f67249f81557bcd392d771aeafcd61af8294dac7a1140e22f09cd64e7bdc29e158df3071694cee84d150acd7008a40e20792fb9837517cd7758b0a2bdbde30d9a0af9a8830d97076f771fa66a5f8ce11963bce40da21d19dd868c964dc28799f0da0f0d88beb3bfb28be6b9c00bf4786942e80049587000000000000008a409797f172c1ac5b10f4a3a6d937bff87a1d8544fd814184e8f9155eb60c54e1d94565973532fbfe7510f0f404bd53a947cdd7d413a00efd0268f559b63098c2198a40edbd500fba25201972ff599318af1b3810f44dee9338ab584a7755fb5cff88d40dc21c9e0665d156172e452bd9de08b9b74773e8bfa3b0a2fc61f1900860d63e86942e as associated data\n",
      "[TRACE] [SignalClient] Use f2d45e9dc304d2ec1d7a8d409c21128e38a42f9df3f21841087ea943277c7f0e as root key\n",
      "[TRACE] [SignalServer] Saved message with id X3DH_MSG from +7 921 059-87-72 to +7 991 174-51-34\n"
     ]
    }
   ],
   "source": [
    "# Алиса пытается пообщаться с Бобом\n",
    "alice.send_message(bob.phone_number, 'Hi!', srv)"
   ]
  },
  {
   "cell_type": "code",
   "execution_count": 22,
   "id": "7fff9ea3",
   "metadata": {},
   "outputs": [
    {
     "name": "stdout",
     "output_type": "stream",
     "text": [
      "[TRACE] [SignalClient] Received message with id X3DH_MSG from +7 921 059-87-72\n",
      "[TRACE] [SignalClient] Use 80049588000000000000008a41557153ac60e39ca618897d6caf42d184efeec919f67249f81557bcd392d771aeafcd61af8294dac7a1140e22f09cd64e7bdc29e158df3071694cee84d150acd7008a40e20792fb9837517cd7758b0a2bdbde30d9a0af9a8830d97076f771fa66a5f8ce11963bce40da21d19dd868c964dc28799f0da0f0d88beb3bfb28be6b9c00bf4786942e80049587000000000000008a409797f172c1ac5b10f4a3a6d937bff87a1d8544fd814184e8f9155eb60c54e1d94565973532fbfe7510f0f404bd53a947cdd7d413a00efd0268f559b63098c2198a40edbd500fba25201972ff599318af1b3810f44dee9338ab584a7755fb5cff88d40dc21c9e0665d156172e452bd9de08b9b74773e8bfa3b0a2fc61f1900860d63e86942e as associated data\n",
      "[TRACE] [SignalClient] Use f2d45e9dc304d2ec1d7a8d409c21128e38a42f9df3f21841087ea943277c7f0e as root key\n",
      "[TRACE] [SignalServer] Saved message with id DH_RATCHET_PK from +7 991 174-51-34 to +7 921 059-87-72\n"
     ]
    },
    {
     "data": {
      "text/plain": [
       "'Hi!'"
      ]
     },
     "execution_count": 22,
     "metadata": {},
     "output_type": "execute_result"
    }
   ],
   "source": [
    "# Боб полчает сообщение\n",
    "bob.receive_message(alice.phone_number, srv)"
   ]
  },
  {
   "cell_type": "code",
   "execution_count": 23,
   "id": "807d2ac5",
   "metadata": {},
   "outputs": [
    {
     "name": "stdout",
     "output_type": "stream",
     "text": [
      "[TRACE] [SignalClient] Received message with id DH_RATCHET_PK from +7 991 174-51-34\n"
     ]
    }
   ],
   "source": [
    "# Это небольшой костыль, тут я получаю инициализирующее \n",
    "# сообщение с открытым ключом Боба\n",
    "alice.receive_message(bob.phone_number, srv)"
   ]
  },
  {
   "cell_type": "code",
   "execution_count": 24,
   "id": "0d6b2a6f",
   "metadata": {},
   "outputs": [
    {
     "name": "stdout",
     "output_type": "stream",
     "text": [
      "[TRACE] [SignalClient] DH ratchet step\n",
      "[TRACE] [SignalClient] Root KDF chain step\n",
      "[TRACE] [SignalClient] Sending ratchet reset\n",
      "[TRACE] [SignalClient] Sending ratchet step\n",
      "[TRACE] [SignalClient] Use 3ef4a8f8aba29f7be59826488a0c5aea543e94555cb10b1f1945e35657c22fd3 as encryption key\n",
      "[TRACE] [SignalServer] Saved message with id 0 from +7 921 059-87-72 to +7 991 174-51-34\n"
     ]
    }
   ],
   "source": [
    "# Алиса отсылает сообщение\n",
    "alice.send_message(bob.phone_number, \"What's up?\", srv)"
   ]
  },
  {
   "cell_type": "code",
   "execution_count": 25,
   "id": "c7be80fc",
   "metadata": {},
   "outputs": [
    {
     "name": "stdout",
     "output_type": "stream",
     "text": [
      "[TRACE] [SignalClient] Received message with id 0 from +7 921 059-87-72\n",
      "[TRACE] [SignalClient] DH ratchet step\n",
      "[TRACE] [SignalClient] Root KDF chain step\n",
      "[TRACE] [SignalClient] Receiving ratchet reset\n",
      "[TRACE] [SignalClient] Receiving ratchet step\n",
      "[TRACE] [SignalClient] Use 3ef4a8f8aba29f7be59826488a0c5aea543e94555cb10b1f1945e35657c22fd3 as decryption key\n"
     ]
    },
    {
     "data": {
      "text/plain": [
       "\"What's up?\""
      ]
     },
     "execution_count": 25,
     "metadata": {},
     "output_type": "execute_result"
    }
   ],
   "source": [
    "# Боб принимает и расшифровывает\n",
    "bob.receive_message(alice.phone_number, srv)"
   ]
  },
  {
   "cell_type": "code",
   "execution_count": 26,
   "id": "1bf002aa",
   "metadata": {},
   "outputs": [
    {
     "name": "stdout",
     "output_type": "stream",
     "text": [
      "[TRACE] [SignalClient] DH ratchet step\n",
      "[TRACE] [SignalClient] Root KDF chain step\n",
      "[TRACE] [SignalClient] Sending ratchet reset\n",
      "[TRACE] [SignalClient] Sending ratchet step\n",
      "[TRACE] [SignalClient] Use 6892ddd839ce9a5d01368ffa06f17897474bc18a42afb4d56993b63401704ee4 as encryption key\n",
      "[TRACE] [SignalServer] Saved message with id 0 from +7 991 174-51-34 to +7 921 059-87-72\n",
      "[TRACE] [SignalClient] Sending ratchet step\n",
      "[TRACE] [SignalClient] Use 115b0c7b3dc17914bcaafa247968328c6749ed1f637b66434a61da572f0e67ca as encryption key\n",
      "[TRACE] [SignalServer] Saved message with id 1 from +7 991 174-51-34 to +7 921 059-87-72\n"
     ]
    }
   ],
   "source": [
    "# Можно послать несколько сообщений подряд\n",
    "bob.send_message(alice.phone_number, 'Some dummy phrase just to continue the dialog', srv)\n",
    "bob.send_message(alice.phone_number, 'And another one', srv)"
   ]
  },
  {
   "cell_type": "code",
   "execution_count": 27,
   "id": "42b766be",
   "metadata": {},
   "outputs": [
    {
     "name": "stdout",
     "output_type": "stream",
     "text": [
      "[TRACE] [SignalClient] Received message with id 0 from +7 991 174-51-34\n",
      "[TRACE] [SignalClient] DH ratchet step\n",
      "[TRACE] [SignalClient] Root KDF chain step\n",
      "[TRACE] [SignalClient] Receiving ratchet reset\n",
      "[TRACE] [SignalClient] Receiving ratchet step\n",
      "[TRACE] [SignalClient] Use 6892ddd839ce9a5d01368ffa06f17897474bc18a42afb4d56993b63401704ee4 as decryption key\n"
     ]
    },
    {
     "data": {
      "text/plain": [
       "'Some dummy phrase just to continue the dialog'"
      ]
     },
     "execution_count": 27,
     "metadata": {},
     "output_type": "execute_result"
    }
   ],
   "source": [
    "# И получить оба. Одно...\n",
    "alice.receive_message(bob.phone_number, srv)"
   ]
  },
  {
   "cell_type": "code",
   "execution_count": 28,
   "id": "8e0acd53",
   "metadata": {},
   "outputs": [
    {
     "name": "stdout",
     "output_type": "stream",
     "text": [
      "[TRACE] [SignalClient] Received message with id 1 from +7 991 174-51-34\n",
      "[TRACE] [SignalClient] Receiving ratchet step\n",
      "[TRACE] [SignalClient] Use 115b0c7b3dc17914bcaafa247968328c6749ed1f637b66434a61da572f0e67ca as decryption key\n"
     ]
    },
    {
     "data": {
      "text/plain": [
       "'And another one'"
      ]
     },
     "execution_count": 28,
     "metadata": {},
     "output_type": "execute_result"
    }
   ],
   "source": [
    "# ... за другим\n",
    "alice.receive_message(bob.phone_number, srv)"
   ]
  },
  {
   "cell_type": "code",
   "execution_count": 29,
   "id": "6ee3f25e",
   "metadata": {},
   "outputs": [
    {
     "name": "stdout",
     "output_type": "stream",
     "text": [
      "[TRACE] [SignalClient] DH ratchet step\n",
      "[TRACE] [SignalClient] Root KDF chain step\n",
      "[TRACE] [SignalClient] Sending ratchet reset\n",
      "[TRACE] [SignalClient] Sending ratchet step\n",
      "[TRACE] [SignalClient] Use 981dda9605f86f0d5d2a033a7d9afae4f51d67d13f032590cb7b52dd17aab423 as encryption key\n",
      "[TRACE] [SignalServer] Saved message with id 1 from +7 921 059-87-72 to +7 991 174-51-34\n"
     ]
    }
   ],
   "source": [
    "# Можно снова сменить направление отправки и \n",
    "# посмотреть, что произошел шаг DH-храповика\n",
    "alice.send_message(bob.phone_number, 'Yet another DH ratchet step demo', srv)"
   ]
  },
  {
   "cell_type": "code",
   "execution_count": 30,
   "id": "7c2f13e7",
   "metadata": {},
   "outputs": [
    {
     "name": "stdout",
     "output_type": "stream",
     "text": [
      "[TRACE] [SignalClient] Received message with id 1 from +7 921 059-87-72\n",
      "[TRACE] [SignalClient] DH ratchet step\n",
      "[TRACE] [SignalClient] Root KDF chain step\n",
      "[TRACE] [SignalClient] Receiving ratchet reset\n",
      "[TRACE] [SignalClient] Receiving ratchet step\n",
      "[TRACE] [SignalClient] Use 981dda9605f86f0d5d2a033a7d9afae4f51d67d13f032590cb7b52dd17aab423 as decryption key\n"
     ]
    },
    {
     "data": {
      "text/plain": [
       "'Yet another DH ratchet step demo'"
      ]
     },
     "execution_count": 30,
     "metadata": {},
     "output_type": "execute_result"
    }
   ],
   "source": [
    "# А на другой строне надо получить сообщение\n",
    "bob.receive_message(alice.phone_number, srv)"
   ]
  },
  {
   "cell_type": "code",
   "execution_count": 31,
   "id": "2412831a",
   "metadata": {},
   "outputs": [
    {
     "name": "stdout",
     "output_type": "stream",
     "text": [
      "[TRACE] [SignalClient] Identity key: (2117920883207471110582081875611923156726293990690655695223603010335696788068733832004075298380611399768374556540614484650568555475588353314217357710989677, (11809099423182655600377408109291334777220536256407316138763814634252652759816438904240821898126314632845097774295159080233284400765313018547996242307953321, 10903507346141408179816909557787081593382524211241096273166742612088682927028855451766652422786376645495395248205125955173089780501016222513680477880933197))\n",
      "[TRACE] [SignalClient] Signed prekey: (4059114539522998607417168955427758534009539232263002237776884835226448415663123310696236682674242858941665767458189056968874402465989466587546036662658465, (4327581356860228111414878230754518197650852500630774771362913995388504163220970110139306941920986779608925844921584924805122569205872892182396906309253660, 12467636772589738213834257342917175619345137868251297968561157456771050344551167971320117703051682479997267957258821233796401688559656613277125736928564148))\n",
      "[TRACE] [SignalClient] Signature: 2045b496bc45e43741dc4832bffd2f8d11780921a3e7a05bc191c78a63ef892ba45903dab7dad6bb4664d970791278ef1eaff3ce51a7918903960548ea1a266bf4dbfb2b9a0987a1545ef72a13ee459c3e8c6eadc7eaa21e49c93053c59f162d4fe8371d1e1db273bb80cf2f666ec5065f34cd8c17b23a704579a0e7754a4c6e\n",
      "[TRACE] [SignalClient] One time keys: 10\n",
      "[TRACE] [SignalServer] Registered client with phone number +7 970 505-44-25\n"
     ]
    }
   ],
   "source": [
    "# Можно третьего пользователя создать\n",
    "carol = SignalClient('+7 970 505-44-25')\n",
    "srv.register(carol.phone_number, carol.public_keys)"
   ]
  },
  {
   "cell_type": "code",
   "execution_count": 32,
   "id": "7e07d49d",
   "metadata": {},
   "outputs": [
    {
     "name": "stdout",
     "output_type": "stream",
     "text": [
      "[TRACE] [SignalClient] Sending ratchet step\n",
      "[TRACE] [SignalClient] Use 089812b2fee62f75fcfeeb5b78d07f15da14a0ae574b9661990641a3839a1929 as encryption key\n",
      "[TRACE] [SignalServer] Saved message with id 2 from +7 921 059-87-72 to +7 991 174-51-34\n",
      "[TRACE] [SignalServer] Using OPK at 8\n",
      "[TRACE] [SignalClient] Use 80049588000000000000008a41557153ac60e39ca618897d6caf42d184efeec919f67249f81557bcd392d771aeafcd61af8294dac7a1140e22f09cd64e7bdc29e158df3071694cee84d150acd7008a40e20792fb9837517cd7758b0a2bdbde30d9a0af9a8830d97076f771fa66a5f8ce11963bce40da21d19dd868c964dc28799f0da0f0d88beb3bfb28be6b9c00bf4786942e80049589000000000000008a41a9b2ab64faa634607f1e7c4e9d05289c2d96b1ef659d92f6e57bb47d52783c87f8e3b193c00e2fa979f88b47bae15faca66b437988de2a00208921ebf3ac79e1008a414d5bdd93d675a80f3450c74cbcae9d0e96135b765beb700855ceedb4d3464dde65b3b58a1733d4c5190a80f33394b0d721a7151688ada00ad2800ebfd53b2fd00086942e as associated data\n",
      "[TRACE] [SignalClient] Use d8f46db580ad169c5c0687972edf2866c9adcef463eb1719a959b0a3f51cade3 as root key\n",
      "[TRACE] [SignalServer] Saved message with id X3DH_MSG from +7 921 059-87-72 to +7 970 505-44-25\n"
     ]
    }
   ],
   "source": [
    "alice.send_message(bob.phone_number, \"I'm making new friends\", srv)\n",
    "alice.send_message(carol.phone_number, 'Hi, Carol!', srv)"
   ]
  },
  {
   "cell_type": "code",
   "execution_count": 33,
   "id": "cd4cfd33",
   "metadata": {},
   "outputs": [
    {
     "name": "stdout",
     "output_type": "stream",
     "text": [
      "[TRACE] [SignalClient] Received message with id X3DH_MSG from +7 921 059-87-72\n",
      "[TRACE] [SignalClient] Use 80049588000000000000008a41557153ac60e39ca618897d6caf42d184efeec919f67249f81557bcd392d771aeafcd61af8294dac7a1140e22f09cd64e7bdc29e158df3071694cee84d150acd7008a40e20792fb9837517cd7758b0a2bdbde30d9a0af9a8830d97076f771fa66a5f8ce11963bce40da21d19dd868c964dc28799f0da0f0d88beb3bfb28be6b9c00bf4786942e80049589000000000000008a41a9b2ab64faa634607f1e7c4e9d05289c2d96b1ef659d92f6e57bb47d52783c87f8e3b193c00e2fa979f88b47bae15faca66b437988de2a00208921ebf3ac79e1008a414d5bdd93d675a80f3450c74cbcae9d0e96135b765beb700855ceedb4d3464dde65b3b58a1733d4c5190a80f33394b0d721a7151688ada00ad2800ebfd53b2fd00086942e as associated data\n",
      "[TRACE] [SignalClient] Use d8f46db580ad169c5c0687972edf2866c9adcef463eb1719a959b0a3f51cade3 as root key\n",
      "[TRACE] [SignalServer] Saved message with id DH_RATCHET_PK from +7 970 505-44-25 to +7 921 059-87-72\n"
     ]
    },
    {
     "data": {
      "text/plain": [
       "'Hi, Carol!'"
      ]
     },
     "execution_count": 33,
     "metadata": {},
     "output_type": "execute_result"
    }
   ],
   "source": [
    "carol.receive_message(alice.phone_number, srv)"
   ]
  },
  {
   "cell_type": "code",
   "execution_count": 34,
   "id": "c5150534",
   "metadata": {},
   "outputs": [
    {
     "name": "stdout",
     "output_type": "stream",
     "text": [
      "[TRACE] [SignalClient] Received message with id 2 from +7 921 059-87-72\n",
      "[TRACE] [SignalClient] Receiving ratchet step\n",
      "[TRACE] [SignalClient] Use 089812b2fee62f75fcfeeb5b78d07f15da14a0ae574b9661990641a3839a1929 as decryption key\n"
     ]
    },
    {
     "data": {
      "text/plain": [
       "\"I'm making new friends\""
      ]
     },
     "execution_count": 34,
     "metadata": {},
     "output_type": "execute_result"
    }
   ],
   "source": [
    "bob.receive_message(alice.phone_number, srv)"
   ]
  },
  {
   "cell_type": "markdown",
   "id": "28afacea",
   "metadata": {},
   "source": [
    "----\n",
    "## Демонстрация неуспешного выполнения протоколов"
   ]
  },
  {
   "cell_type": "code",
   "execution_count": 35,
   "id": "4c01023f",
   "metadata": {},
   "outputs": [
    {
     "name": "stdout",
     "output_type": "stream",
     "text": [
      "[TRACE] [SignalClient] Identity key: (1200915346857794191820279703972097931858283076887019595525356638878465417742741465787143650647403175714056763890610383133143552021040364611875583140255243, (5803303135943748118619203399555352492152932495874236271654492552459278362315062187511274547779953330200358885397081726001706152505792697995559458322426708, 6574367360620898527413892307976069209233038033405867718028105693326584052005559643971451616432241903401284021912557177388721811279294603948721231409603131))\n",
      "[TRACE] [SignalClient] Signed prekey: (10967598436658177290148141152047468050360834935784069666412941000509753773769284288174389409256992316546844387131931886969440730573137668333438612306603478, (2333461291373092857063819919710324524670539553786111195502843663112701863672136400475196810976312318178251263198405940168219744936736492214100689685364923, 2235575694395990164618991031938511962486932696102038957928606720861420879307705643087585371844311068628924027505304560230508783942560597687624345058489020))\n",
      "[TRACE] [SignalClient] Signature: 04725bf4ba96af8b851e8949e54b55637f795c03308dbde62bbcf49c9424424973bae7010fc17b4babba186e8f791ebb1c3ccbe34f9d15166173fbaf3db81f4e3e11ca186a13efec0ad6dc828eda8e198cb29357498ee47e3c4e183e9fae35090862ff7c79ab46dc6019621616344e3b2a8fd4ce114795da92bf77f0e5f110af\n",
      "[TRACE] [SignalClient] One time keys: 10\n"
     ]
    }
   ],
   "source": [
    "# Пользователь, который как-то украл подпись и подписанный ключ\n",
    "# Но его идентификационный ключ не позволяет проверить подпись\n",
    "mallory = SignalClient('+1 202-918-2132', fake_ik=True)"
   ]
  },
  {
   "cell_type": "code",
   "execution_count": 36,
   "id": "36d3e21b",
   "metadata": {},
   "outputs": [
    {
     "name": "stdout",
     "output_type": "stream",
     "text": [
      "[TRACE] [SignalServer] Registered client with phone number +1 202-918-2132\n"
     ]
    }
   ],
   "source": [
    "# Надо зарегистрироваться\n",
    "srv.register(mallory.phone_number, mallory.public_keys)"
   ]
  },
  {
   "cell_type": "code",
   "execution_count": 37,
   "id": "1f7a11ce",
   "metadata": {},
   "outputs": [
    {
     "name": "stdout",
     "output_type": "stream",
     "text": [
      "[TRACE] [SignalServer] Using OPK at 6\n",
      "[TRACE] [SignalClient] Cannot verify signature of client with phone +1 202-918-2132\n"
     ]
    }
   ],
   "source": [
    "# Алиса получает ключи с сервера и обнаруживает несоответствие\n",
    "alice.send_message(mallory.phone_number, 'Hi!', srv)"
   ]
  },
  {
   "cell_type": "code",
   "execution_count": 38,
   "id": "4033a732",
   "metadata": {},
   "outputs": [
    {
     "name": "stdout",
     "output_type": "stream",
     "text": [
      "[TRACE] [SignalClient] Identity key: (12022797398065306557755176856294478031265359122610219260565756963935711375100746190512786382206706695978204537470944261218344901788943874493686124343981258, (3815850571486648566052725503670241868868016091715739809591612158123579983392877515229193974822839843509167149625857549302485546451343311862783259785079105, 5874854738445235967450395796995505903122909255341200401753884601278941630364736527804282727646283599645983906951138588730409063167280741893366185352371659))\n",
      "[TRACE] [SignalClient] Signed prekey: (7771842779491967795722490062754243431694771828514543206773230079366713729593961556635938975140556527770496937399930185553569950532992806277492933787792543, (1517507709472870130506685305238717391370017949743350562100587034924261293962001772295118950594862404664743656695161339932865224419500979135275062393824694, 9529618081590721923089391218348363645754280316241574463883406235537345936121674981443214246081676213479984956886577528159687171902537088186287393221379945))\n",
      "[TRACE] [SignalClient] Signature: 8fbf3aecb507dac3422dedc35d4dbbefb9cecbb40f811499df66f76059bdcf156f4ca0961bcf4d4c275dc185077ab66065c2d152f81da9bf04604682254d81022fd92b623dbc6ac2580ac21b106f607c73b842160dd8663054f1125643ee6291f3611c01da30ad6a3ce8569acce614de5a8a49058d30516585eb1a6f0cd3013b\n",
      "[TRACE] [SignalClient] One time keys: 10\n"
     ]
    }
   ],
   "source": [
    "# Еще один пользователь-враг -- Ева\n",
    "eve = SignalClient('+1 539-567-2473')"
   ]
  },
  {
   "cell_type": "code",
   "execution_count": 39,
   "id": "5aa85ed1",
   "metadata": {},
   "outputs": [
    {
     "name": "stdout",
     "output_type": "stream",
     "text": [
      "[TRACE] [SignalClient] User now tries to be a user with phone +7 921 059-87-72\n"
     ]
    }
   ],
   "source": [
    "# Она пытается прикинуться Алисой в разговоре с Бобом\n",
    "eve._try_mimic(alice.phone_number, bob.phone_number, \n",
    "               alice._sessions[bob.phone_number])"
   ]
  },
  {
   "cell_type": "code",
   "execution_count": 40,
   "id": "59c9bdab",
   "metadata": {},
   "outputs": [
    {
     "name": "stdout",
     "output_type": "stream",
     "text": [
      "[TRACE] [SignalClient] DH ratchet step\n",
      "[TRACE] [SignalClient] Root KDF chain step\n",
      "[TRACE] [SignalClient] Sending ratchet reset\n",
      "[TRACE] [SignalClient] Sending ratchet step\n",
      "[TRACE] [SignalClient] Use f20f6bd5a31135e9544470e09de4974559d592b7bcc20574c9cc34fd385abf91 as encryption key\n",
      "[TRACE] [SignalServer] Saved message with id 2 from +7 991 174-51-34 to +7 921 059-87-72\n"
     ]
    }
   ],
   "source": [
    "# Боб отправляет Алисе соообщение\n",
    "bob.send_message(alice.phone_number, 'Hi!', srv)"
   ]
  },
  {
   "cell_type": "code",
   "execution_count": 41,
   "id": "dd446d3b",
   "metadata": {},
   "outputs": [
    {
     "name": "stdout",
     "output_type": "stream",
     "text": [
      "[TRACE] [SignalClient] Received message with id 2 from +7 991 174-51-34\n",
      "[TRACE] [SignalClient] DH ratchet step\n",
      "[TRACE] [SignalClient] Root KDF chain step\n",
      "[TRACE] [SignalClient] Receiving ratchet reset\n",
      "[TRACE] [SignalClient] Receiving ratchet step\n",
      "[TRACE] [SignalClient] Use db025f64a0dca8ee5411cb5eea9728898a5a4ad3e68248f6cd652d849f4f201f as decryption key\n",
      "[TRACE] [SignalClient] Cannot decrypt message\n"
     ]
    }
   ],
   "source": [
    "# А вот получить его пытается Ева, но расшифровать не получится\n",
    "eve.receive_message(bob.phone_number, srv)"
   ]
  },
  {
   "cell_type": "code",
   "execution_count": null,
   "id": "2e1b2dbc",
   "metadata": {},
   "outputs": [],
   "source": []
  }
 ],
 "metadata": {
  "kernelspec": {
   "display_name": "Python 3 (ipykernel)",
   "language": "python",
   "name": "python3"
  },
  "language_info": {
   "codemirror_mode": {
    "name": "ipython",
    "version": 3
   },
   "file_extension": ".py",
   "mimetype": "text/x-python",
   "name": "python",
   "nbconvert_exporter": "python",
   "pygments_lexer": "ipython3",
   "version": "3.9.9"
  }
 },
 "nbformat": 4,
 "nbformat_minor": 5
}
