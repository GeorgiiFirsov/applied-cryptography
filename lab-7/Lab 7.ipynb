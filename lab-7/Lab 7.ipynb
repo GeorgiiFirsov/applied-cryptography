{
 "cells": [
  {
   "cell_type": "markdown",
   "id": "b9a7fa89",
   "metadata": {},
   "source": [
    "# Реализация модели двустороннего защищенного чата в мессенджере по спецификации Signal"
   ]
  },
  {
   "cell_type": "code",
   "execution_count": 43,
   "id": "f56ece1d",
   "metadata": {},
   "outputs": [],
   "source": [
    "IS_DEBUG = 1"
   ]
  },
  {
   "cell_type": "code",
   "execution_count": 44,
   "id": "47ac3f81",
   "metadata": {},
   "outputs": [],
   "source": [
    "def trace(*args, **kwargs):\n",
    "    \"\"\"\n",
    "    Отладочная трассировка\n",
    "    \"\"\"\n",
    "    \n",
    "    global IS_DEBUG\n",
    "    if IS_DEBUG:\n",
    "        print('[TRACE]', end=' ')\n",
    "        print(*args, **kwargs)"
   ]
  },
  {
   "cell_type": "markdown",
   "id": "1feee646",
   "metadata": {},
   "source": [
    "---"
   ]
  },
  {
   "cell_type": "code",
   "execution_count": 46,
   "id": "96cfc4f1",
   "metadata": {},
   "outputs": [],
   "source": [
    "# Криптография из различных ГОСТ'ов\n",
    "from pygost import mgm\n",
    "from pygost import gost3412\n",
    "from pygost import gost3410\n",
    "from pygost import gost34112012256\n",
    "\n",
    "# КГПСЧ\n",
    "from Crypto.Random import get_random_bytes, random\n",
    "\n",
    "# HKDF\n",
    "from Crypto.Protocol.KDF import HKDF\n",
    "\n",
    "# Вспомогательные радости\n",
    "from collections import namedtuple\n",
    "import dataclasses\n",
    "import binascii\n",
    "import pickle"
   ]
  },
  {
   "cell_type": "markdown",
   "id": "1401b446",
   "metadata": {},
   "source": [
    "----"
   ]
  },
  {
   "cell_type": "code",
   "execution_count": 47,
   "id": "686e070b",
   "metadata": {},
   "outputs": [],
   "source": [
    "def as_hex(blob: bytes):\n",
    "    \"\"\"\n",
    "    Перевод блоба в шестнадцатиричное представление\n",
    "    \"\"\"\n",
    "    \n",
    "    return binascii.hexlify(blob).decode()"
   ]
  },
  {
   "cell_type": "markdown",
   "id": "f4645c8d",
   "metadata": {},
   "source": [
    "----\n",
    "## Реализация оберток над криптографическими алгоритмами и примитивами"
   ]
  },
  {
   "cell_type": "code",
   "execution_count": 48,
   "id": "5fcbc477",
   "metadata": {},
   "outputs": [],
   "source": [
    "#\n",
    "# Описание сути следует смотреть здесь:\n",
    "# https://signal.org/docs/specifications/x3dh/#publishing-keys\n",
    "#\n",
    "\n",
    "KeyBundle = namedtuple('KeyBundle', ['IK',    # Ключ-идентификатор (Identity key)\n",
    "                                     'SPK',   # Подписанный предключ (Signed prekey)\n",
    "                                     'Sig',   # Подпись предключа (Prekey signature)\n",
    "                                     'OPKs',  # Коллекция одноразовых предключей (One-time prekeys)\n",
    "                                    ])"
   ]
  },
  {
   "cell_type": "code",
   "execution_count": 49,
   "id": "7b48120b",
   "metadata": {},
   "outputs": [],
   "source": [
    "KeyPair = namedtuple('KeyPair', ['private', 'public'])"
   ]
  },
  {
   "cell_type": "code",
   "execution_count": 50,
   "id": "cbcb9daa",
   "metadata": {},
   "outputs": [],
   "source": [
    "Message = namedtuple('Message', ['public_key',  # Открытый ключ DH отправляющего\n",
    "                                 'id',          # Идентитфикатор сообщения\n",
    "                                 'data',        # Данные сообщения\n",
    "                                ])"
   ]
  },
  {
   "cell_type": "markdown",
   "id": "67ce0369",
   "metadata": {},
   "source": [
    "----"
   ]
  },
  {
   "cell_type": "code",
   "execution_count": 51,
   "id": "efacb649",
   "metadata": {},
   "outputs": [],
   "source": [
    "class KuznyechikMGM(object):\n",
    "    \"\"\"\n",
    "    Класс-обертка над Кузнечиком в режиме MGM\n",
    "    \"\"\"\n",
    "    \n",
    "    KEY_SIZE = 32\n",
    "    \n",
    "    def __init__(self, key: bytes):\n",
    "        \"\"\"\n",
    "        Инициализация - сохраняю ключ\n",
    "        \"\"\"\n",
    "\n",
    "        self._key = key\n",
    "    \n",
    "    \n",
    "    def encrypt(self, plaintext: bytes, associated_data: bytes = b''):\n",
    "        \"\"\"\n",
    "        Зашифрование шифром Кузнечик в режиме MGM\n",
    "        \"\"\"\n",
    "        \n",
    "        encrypter = gost3412.GOST3412Kuznechik(self._key)\n",
    "        cipher = mgm.MGM(encrypter.encrypt, KuznyechikMGM._block_size())\n",
    "        \n",
    "        nonce = KuznyechikMGM._generate_nonce()\n",
    "        ct_with_tag = cipher.seal(nonce, plaintext, associated_data)\n",
    "        \n",
    "        return nonce, ct_with_tag[:-cipher.tag_size], ct_with_tag[-cipher.tag_size:]\n",
    "    \n",
    "    \n",
    "    def decrypt(self, nonce: bytes, ciphertext: bytes, tag: bytes, associated_data: bytes = b''):\n",
    "        \"\"\"\n",
    "        Расшифрование шифром Кузнечик в режиме MGM\n",
    "        \"\"\"\n",
    "        \n",
    "        try:\n",
    "            encrypter = gost3412.GOST3412Kuznechik(self._key)\n",
    "            cipher = mgm.MGM(encrypter.encrypt, KuznyechikMGM._block_size())\n",
    "\n",
    "            ct_with_tag = ciphertext + tag\n",
    "\n",
    "            return cipher.open(nonce, ct_with_tag, associated_data)\n",
    "        except ValueError as e:\n",
    "            return None\n",
    "        \n",
    "        \n",
    "    @staticmethod\n",
    "    def _block_size():\n",
    "        return gost3412.GOST3412Kuznechik.blocksize\n",
    "    \n",
    "    \n",
    "    @staticmethod\n",
    "    def _generate_nonce():\n",
    "        nonce = get_random_bytes(KuznyechikMGM._block_size())\n",
    "        while bytearray(nonce)[0] & 0x80 > 0:\n",
    "            nonce = get_random_bytes(KuznyechikMGM._block_size())\n",
    "            \n",
    "        return nonce"
   ]
  },
  {
   "cell_type": "markdown",
   "id": "1b955f60",
   "metadata": {},
   "source": [
    "---"
   ]
  },
  {
   "cell_type": "code",
   "execution_count": 52,
   "id": "df97d8cd",
   "metadata": {},
   "outputs": [],
   "source": [
    "class Streebog(gost34112012256.GOST34112012256):\n",
    "    \"\"\"\n",
    "    pycryptodome-совместимая обертка над хэш-функцией Стрибог\n",
    "    \"\"\"\n",
    "    \n",
    "    digest_size = 32\n",
    "    \n",
    "    \n",
    "    def __init__(self, data=None):\n",
    "        \"\"\"\n",
    "        Инициализация и обновление состояния (если надо)\n",
    "        \"\"\"\n",
    "        \n",
    "        super(Streebog, self).__init__()\n",
    "        if data is not None:\n",
    "            self.update(data)\n",
    "    \n",
    "    \n",
    "    @staticmethod\n",
    "    def new(data=None):\n",
    "        \"\"\"\n",
    "        Создание нового объекта\n",
    "        \"\"\"\n",
    "        \n",
    "        return Streebog(data)"
   ]
  },
  {
   "cell_type": "code",
   "execution_count": 53,
   "id": "8c4c090f",
   "metadata": {},
   "outputs": [],
   "source": [
    "def hash_digest(hasher_type, *args):\n",
    "    \"\"\"\n",
    "    Вычисление хэша при помощи объекта-обертки\n",
    "    \"\"\"\n",
    "    \n",
    "    hasher = hasher_type.new()\n",
    "    \n",
    "    for arg in args:\n",
    "        hasher.update(arg)\n",
    "        \n",
    "    return hasher.digest()"
   ]
  },
  {
   "cell_type": "markdown",
   "id": "45763043",
   "metadata": {},
   "source": [
    "----"
   ]
  },
  {
   "cell_type": "code",
   "execution_count": 54,
   "id": "183552ac",
   "metadata": {},
   "outputs": [],
   "source": [
    "class Curve(object):\n",
    "    \"\"\"\n",
    "    Обертка над эллиптической кривой. Для простоты это одна из кривых,\n",
    "    определенных в ГОСТ 34.10\n",
    "    \"\"\"\n",
    "    \n",
    "    CURVE = gost3410.CURVES['id-tc26-gost-3410-2012-512-paramSetA']\n",
    "        \n",
    "        \n",
    "    @staticmethod\n",
    "    def generate_private_key():\n",
    "        \"\"\"\n",
    "        Генерирование закрытого ключа\n",
    "        \"\"\"\n",
    "        \n",
    "        return gost3410.prv_unmarshal(get_random_bytes(64))\n",
    "    \n",
    "    \n",
    "    @staticmethod\n",
    "    def get_public_key(private_key):\n",
    "        \"\"\"\n",
    "        Получение открытого ключа по закрытому\n",
    "        \"\"\"\n",
    "        \n",
    "        return gost3410.public_key(Curve.CURVE, private_key)\n",
    "        \n",
    "        \n",
    "    @staticmethod\n",
    "    def multiply_by_scalar(scalar, point):\n",
    "        \"\"\"\n",
    "        Умножение точки эллиптической кривой на скаляр \n",
    "        \"\"\"\n",
    "\n",
    "        return Curve.CURVE.exp(scalar, *point)\n",
    "\n",
    "    \n",
    "    @staticmethod\n",
    "    def add_points(lhs, rhs):\n",
    "        \"\"\"\n",
    "        Сложение двух точек эллиптической кривой\n",
    "        \"\"\"\n",
    "\n",
    "        return Curve.CURVE._add(*lhs, *rhs)"
   ]
  },
  {
   "cell_type": "markdown",
   "id": "d9e57db0",
   "metadata": {},
   "source": [
    "----\n",
    "## Элементы протоколов из спецификации Signal"
   ]
  },
  {
   "cell_type": "code",
   "execution_count": 55,
   "id": "e10fb61a",
   "metadata": {},
   "outputs": [],
   "source": [
    "class KdfChainInternal(object):\n",
    "    \"\"\"\n",
    "    Вспомогательный класс, описывающий KDF-цепочку\n",
    "    \"\"\"\n",
    "    \n",
    "    def __init__(self, key, key_length):\n",
    "        \"\"\"\n",
    "        Инициализация, сохранение начального ключа и \n",
    "        длины генерируемых далее ключей\n",
    "        \"\"\"\n",
    "        \n",
    "        self._key_length = key_length\n",
    "        self._kdf_key = key\n",
    "    \n",
    "    \n",
    "    def reset(self, key):\n",
    "        \"\"\"\n",
    "        Сброс состояния, запись нового ключа в качестве\n",
    "        первоначального\n",
    "        \"\"\"\n",
    "        \n",
    "        self._kdf_key = key\n",
    "        \n",
    "        \n",
    "    def _kdf_update(self, data):\n",
    "        self._kdf_key, message_key = HKDF(self._kdf_key, self._key_length, \n",
    "                                          data, Streebog, 2)\n",
    "        return message_key"
   ]
  },
  {
   "cell_type": "code",
   "execution_count": 56,
   "id": "75be2880",
   "metadata": {},
   "outputs": [],
   "source": [
    "class KdfChain(KdfChainInternal):\n",
    "    \"\"\"\n",
    "    Класс, описывающий KDF-цепочку\n",
    "    Новые ключи вырабатываются на основе выработанного \n",
    "    секрета Диффи-Хеллмана\n",
    "    https://signal.org/docs/specifications/doubleratchet/#kdf-chains\n",
    "    \"\"\"\n",
    "    \n",
    "    def __init__(self, key, key_length=32):\n",
    "        \"\"\"\n",
    "        Инициализация, сохранение начального ключа и \n",
    "        длины генерируемых далее ключей\n",
    "        \"\"\"\n",
    "        \n",
    "        super(KdfChain, self).__init__(key, key_length)\n",
    "        \n",
    "        \n",
    "    def step(self, serialized_dh_key):\n",
    "        \"\"\"\n",
    "        Шаг цепочки, выработка нового ключа для KDF и\n",
    "        возвращаемого ключа\n",
    "        \"\"\"\n",
    "        \n",
    "        return self._kdf_update(serialized_dh_key)"
   ]
  },
  {
   "cell_type": "code",
   "execution_count": 57,
   "id": "8329e630",
   "metadata": {},
   "outputs": [],
   "source": [
    "class SymmetricRatchet(KdfChainInternal):\n",
    "    \"\"\"\n",
    "    Симметричный храповик, который генерирует\n",
    "    новые ключи только на основе своего состояния\n",
    "    https://signal.org/docs/specifications/doubleratchet/#symmetric-key-ratchet\n",
    "    \"\"\"\n",
    "    \n",
    "    def __init__(self, key, key_length=32):\n",
    "        \"\"\"\n",
    "        Инициализация, сохранение начального ключа и \n",
    "        длины генерируемых далее ключей\n",
    "        \"\"\"\n",
    "        \n",
    "        super(SymmetricRatchet, self).__init__(key, key_length)\n",
    "        \n",
    "        \n",
    "    def step(self):\n",
    "        \"\"\"\n",
    "        Шаг цепочки, выработка нового ключа для KDF и\n",
    "        возвращаемого ключа\n",
    "        \"\"\"\n",
    "        \n",
    "        return self._kdf_update(b'\\xFF' * 32)"
   ]
  },
  {
   "cell_type": "markdown",
   "id": "e3fccdb3",
   "metadata": {},
   "source": [
    "-----"
   ]
  },
  {
   "cell_type": "code",
   "execution_count": 58,
   "id": "59cf017d",
   "metadata": {},
   "outputs": [],
   "source": [
    "class DiffieHellmanRatchet(object):\n",
    "    \"\"\"\n",
    "    DH-храповик\n",
    "    https://signal.org/docs/specifications/doubleratchet/#diffie-hellman-ratchet\n",
    "    \"\"\"\n",
    "    \n",
    "    def __init__(self):\n",
    "        \"\"\"\n",
    "        Инициализация, выработка начальной ключевой пары\n",
    "        \"\"\"\n",
    "        \n",
    "        self._current_foreign_public_key = None\n",
    "        self._current_key_pair = DiffieHellmanRatchet._generate_key_pair()\n",
    "        \n",
    "    \n",
    "    def is_uninitialized(self):\n",
    "        \"\"\"\n",
    "        Проверка того, что открытый ключ другой стороны отсутствует\n",
    "        \"\"\"\n",
    "        \n",
    "        return self._current_foreign_public_key is None\n",
    "    \n",
    "    \n",
    "    def initialize(self, public_key):\n",
    "        \"\"\"\n",
    "        Инициализация открытого ключа другой стороны\n",
    "        \"\"\"\n",
    "        \n",
    "        self._current_foreign_public_key = public_key\n",
    "        \n",
    "        \n",
    "    def is_same_public_key(self, public_key):\n",
    "        \"\"\"\n",
    "        Проверка равенства открытых ключей\n",
    "        \"\"\"\n",
    "        \n",
    "        if self._current_foreign_public_key is None:\n",
    "            return False\n",
    "        \n",
    "        return public_key == self._current_foreign_public_key\n",
    "    \n",
    "    \n",
    "    def step(self, public_key=None):\n",
    "        \"\"\"\n",
    "        Выработка общего секрета Диффи-Хеллмана\n",
    "        \"\"\"\n",
    "        \n",
    "        if self._current_key_pair is None:\n",
    "            raise RuntimeError('Uninitialized DH Ratchet used to produce a shared secret')\n",
    "        \n",
    "        if public_key is not None:\n",
    "            self._current_foreign_public_key = public_key\n",
    "            \n",
    "        return Curve.multiply_by_scalar(self._current_key_pair.private, self._current_foreign_public_key)\n",
    "    \n",
    "    \n",
    "    def generate_new_key_pair(self):\n",
    "        \"\"\"\n",
    "        Генерирование новой ключевой пары\n",
    "        \"\"\"\n",
    "        \n",
    "        self._current_key_pair = DiffieHellmanRatchet._generate_key_pair()\n",
    "        \n",
    "        \n",
    "    @property\n",
    "    def public_key(self):\n",
    "        \"\"\"\n",
    "        Получение открытого ключа\n",
    "        \"\"\"\n",
    "        \n",
    "        return self._current_key_pair.public\n",
    "    \n",
    "    \n",
    "    @staticmethod\n",
    "    def _generate_key_pair():\n",
    "        private_key = Curve.generate_private_key()\n",
    "        public_key  = Curve.get_public_key(private_key)\n",
    "        \n",
    "        return KeyPair(private_key, public_key)"
   ]
  },
  {
   "cell_type": "markdown",
   "id": "8a6b55f8",
   "metadata": {},
   "source": [
    "----\n",
    "## Участники протоколов из спецификации Signal"
   ]
  },
  {
   "cell_type": "code",
   "execution_count": 59,
   "id": "c1c1fbed",
   "metadata": {},
   "outputs": [],
   "source": [
    "class SignalServer(object):\n",
    "    \"\"\"\n",
    "    Класс сервера Signal\n",
    "    \"\"\"\n",
    "    \n",
    "    def __init__(self):\n",
    "        \"\"\"\n",
    "        Инициализация\n",
    "        \"\"\"\n",
    "        \n",
    "        #\n",
    "        # Коллекция ключевых данных клиентов, индексируемая по номеру телефона\n",
    "        #\n",
    "        \n",
    "        self._key_bundles = {}\n",
    "        \n",
    "        #\n",
    "        # Коллекция очередей сообщения, индексируемая по паре номеров, \n",
    "        # представляющих направление передачи\n",
    "        #\n",
    "        \n",
    "        self._messages = {}\n",
    "        \n",
    "        \n",
    "    def register(self, phone_number: str, keys: KeyBundle):\n",
    "        \"\"\"\n",
    "        Регистрация пользователя по номеру телефона. Сохраняет набор ключей\n",
    "        \"\"\"\n",
    "        \n",
    "        if phone_number in self._key_bundles:\n",
    "            raise ValueError(f'Client with phone number {phone_number} is already registered')\n",
    "            \n",
    "        trace('[SignalServer]', f'Registered client with phone number {phone_number}')\n",
    "            \n",
    "        self._key_bundles[phone_number] = keys\n",
    "        \n",
    "        \n",
    "    def get_public_keys(self, phone_number: str):\n",
    "        \"\"\"\n",
    "        Получение ключей пользователя по его номеру телефона\n",
    "        \"\"\"\n",
    "        \n",
    "        if phone_number not in self._key_bundles:\n",
    "            raise ValueError(f'Client with phone number {phone_number} is not registered yet')\n",
    "            \n",
    "        #\n",
    "        # Достану ключи\n",
    "        #\n",
    "        \n",
    "        keys = self._key_bundles[phone_number]\n",
    "        one_time_keys = keys.OPKs\n",
    "        \n",
    "        #\n",
    "        # Возьму случайный из одноразовых ключей\n",
    "        #\n",
    "        \n",
    "        idx = random.randint(0, len(one_time_keys) - 1)\n",
    "        result = KeyBundle(keys.IK, keys.SPK, keys.Sig, (one_time_keys.pop(idx), idx))\n",
    "        \n",
    "        trace('[SignalServer]', f'Using OPK at {idx}')\n",
    "        \n",
    "        #\n",
    "        # Сохраню обновленный пакет ключей (без одного одноразового)\n",
    "        #\n",
    "        \n",
    "        self._key_bundles[phone_number] = KeyBundle(keys.IK, keys.SPK, keys.Sig, one_time_keys)\n",
    "        \n",
    "        return result\n",
    "    \n",
    "    \n",
    "    def push_message(self, phone_from: str, phone_to: str, message: Message):\n",
    "        \"\"\"\n",
    "        Помещение сообщения в очередь\n",
    "        \"\"\"\n",
    "        \n",
    "        search_key = (phone_from, phone_to)\n",
    "        \n",
    "        if search_key not in self._messages:\n",
    "            self._messages[search_key] = []\n",
    "            \n",
    "        trace('[SignalServer]', f'Saved message with id {message.id} from {phone_from} to {phone_to}')\n",
    "            \n",
    "        self._messages[search_key].append(message)\n",
    "        \n",
    "        \n",
    "    def peek_message(self, phone_from, phone_to):\n",
    "        \"\"\"\n",
    "        Получение сообщения из очереди\n",
    "        \"\"\"\n",
    "        \n",
    "        search_key = (phone_from, phone_to)\n",
    "        \n",
    "        if search_key not in self._messages:\n",
    "            return None\n",
    "        \n",
    "        if self._messages[search_key] == []:\n",
    "            return None\n",
    "        \n",
    "        return self._messages[search_key].pop(0)"
   ]
  },
  {
   "cell_type": "code",
   "execution_count": 60,
   "id": "82dec765",
   "metadata": {},
   "outputs": [],
   "source": [
    "class SignalClient(object):\n",
    "    \"\"\"\n",
    "    Класс клиента Signal\n",
    "    \"\"\"\n",
    "    \n",
    "    X3DH_MSG_ID      = 'X3DH_MSG'\n",
    "    DH_RATCHET_PK_ID = 'DH_RATCHET_PK'\n",
    "    \n",
    "    \n",
    "    @dataclasses.dataclass\n",
    "    class SessionState:\n",
    "        received: bool\n",
    "        dh_ratchet: DiffieHellmanRatchet\n",
    "        root_kdf_chain: KdfChain\n",
    "        send_ratchet: SymmetricRatchet\n",
    "        recv_ratchet: SymmetricRatchet\n",
    "        msg_id: int\n",
    "    \n",
    "    \n",
    "    def __init__(self, phone_number, one_time_keys=10, *, fake_ik=False):\n",
    "        \"\"\"\n",
    "        Инициализация, генерирование ключей\n",
    "        \"\"\"\n",
    "        \n",
    "        self._phone_number  = phone_number\n",
    "        \n",
    "        self._identity_key  = SignalClient._generate_key_pair()\n",
    "        self._signed_prekey = SignalClient._generate_key_pair()\n",
    "        self._ot_prekeys    = [SignalClient._generate_key_pair() for _ in range(one_time_keys)]\n",
    "        \n",
    "        digest = hash_digest(Streebog, pickle.dumps(self._signed_prekey.public))\n",
    "        self._signature = gost3410.sign(Curve.CURVE, self._identity_key.private, digest)\n",
    "        \n",
    "        if fake_ik:\n",
    "            #\n",
    "            # Демонстрация неудачного выполнения, заменю идентификационный ключ\n",
    "            #\n",
    "            \n",
    "            self._identity_key  = SignalClient._generate_key_pair()\n",
    "        \n",
    "        self._sessions = {}\n",
    "        \n",
    "        trace('[SignalClient]', f'Identity key: {self._identity_key}')\n",
    "        trace('[SignalClient]', f'Signed prekey: {self._signed_prekey}')\n",
    "        trace('[SignalClient]', f'Signature: {as_hex(self._signature)}')\n",
    "        trace('[SignalClient]', f'One time keys: {len(self._ot_prekeys)}')\n",
    "        \n",
    "        \n",
    "    def send_message(self, phone_number: str, message: str, server: SignalServer):\n",
    "        \"\"\"\n",
    "        Отправка сообщения, установление сессии, если нужно\n",
    "        \"\"\"\n",
    "        \n",
    "        if phone_number not in self._sessions:\n",
    "            #\n",
    "            # Сессии еще нет, поэтому установлю соединение\n",
    "            #\n",
    "            \n",
    "            return self._x3dh_init_session(phone_number, message, server)\n",
    "        \n",
    "        #\n",
    "        # Так как протокол X3DH асинхронный, то я прямо сразу и отправлю сообщение\n",
    "        #\n",
    "        \n",
    "        if self._sessions[phone_number].received:\n",
    "            #\n",
    "            # Требуется шаг DH-храповика, так как сменилось направление передачи\n",
    "            #\n",
    "            \n",
    "            self._sessions[phone_number].received = False\n",
    "            \n",
    "            trace('[SignalClient]', 'DH ratchet step')\n",
    "            dh_key   = self._sessions[phone_number].dh_ratchet.step()\n",
    "            \n",
    "            trace('[SignalClient]', 'Root KDF chain step')\n",
    "            send_key = self._sessions[phone_number].root_kdf_chain.step(pickle.dumps(dh_key))\n",
    "            \n",
    "            trace('[SignalClient]', 'Sending ratchet reset')\n",
    "            self._sessions[phone_number].send_ratchet.reset(send_key)\n",
    "            \n",
    "        #\n",
    "        # Вырабатывается ключ с помощью симметричного храповика для отправки\n",
    "        # На ключе шифруется само сообщение\n",
    "        #\n",
    "        \n",
    "        trace('[SignalClient]', 'Sending ratchet step')\n",
    "        message_key = self._sessions[phone_number].send_ratchet.step()\n",
    "        \n",
    "        trace('[SignalClient]', f'Use {as_hex(message_key)} as encryption key')\n",
    "        encrypted_message = KuznyechikMGM(message_key).encrypt(message.encode())\n",
    "        \n",
    "        message_id = self._sessions[phone_number].msg_id\n",
    "        public_key = self._sessions[phone_number].dh_ratchet.public_key\n",
    "        \n",
    "        self._sessions[phone_number].msg_id += 1\n",
    "        \n",
    "        server.push_message(self.phone_number, phone_number, Message(public_key, \n",
    "                                                                     message_id, \n",
    "                                                                     encrypted_message))\n",
    "        \n",
    "        \n",
    "    def receive_message(self, phone_number: str, server: SignalServer):\n",
    "        \"\"\"\n",
    "        Прием сообщения, установление сессии, если надо\n",
    "        \"\"\"\n",
    "        \n",
    "        message = server.peek_message(phone_number, self.phone_number)\n",
    "        if message is None:\n",
    "            trace('[SignalClient]', f'No message for {self.phone_number} from {phone_number}')\n",
    "            return\n",
    "        \n",
    "        public_key, message_id, data = message\n",
    "        \n",
    "        trace('[SignalClient]', f'Received message with id {message_id} from {phone_number}')\n",
    "        \n",
    "        if message_id == SignalClient.X3DH_MSG_ID:\n",
    "            #\n",
    "            # Это инициирующее сообщения для установки сессии\n",
    "            #\n",
    "            \n",
    "            return self._x3dh_accept_session(phone_number, data, server)\n",
    "        \n",
    "        if message_id == SignalClient.DH_RATCHET_PK_ID:\n",
    "            #\n",
    "            # Это нам ключ открытый прислали для инициализации\n",
    "            #\n",
    "            \n",
    "            if not self._sessions[phone_number].dh_ratchet.is_uninitialized():\n",
    "                raise RuntimeError(f'Cannot initialize DH ratchet for {self.phone_number} twice')\n",
    "                \n",
    "            return self._sessions[phone_number].dh_ratchet.initialize(public_key)\n",
    "        \n",
    "        #\n",
    "        # Во-первых, факт приема зафиксирую \n",
    "        #\n",
    "        \n",
    "        self._sessions[phone_number].received = True\n",
    "        \n",
    "        #\n",
    "        # Не сменился ли открытый ключ собеседника?\n",
    "        #\n",
    "        \n",
    "        if not self._sessions[phone_number].dh_ratchet.is_same_public_key(public_key):\n",
    "            #\n",
    "            # Требуется шаг DH-храповика, так как сменилось направление передачи\n",
    "            #\n",
    "            \n",
    "            trace('[SignalClient]', 'DH ratchet step')\n",
    "            dh_key = self._sessions[phone_number].dh_ratchet.step(public_key)\n",
    "            self._sessions[phone_number].dh_ratchet.generate_new_key_pair()\n",
    "            \n",
    "            trace('[SignalClient]', 'Root KDF chain step')\n",
    "            recv_key = self._sessions[phone_number].root_kdf_chain.step(pickle.dumps(dh_key))\n",
    "            \n",
    "            trace('[SignalClient]', 'Receiving ratchet reset')\n",
    "            self._sessions[phone_number].recv_ratchet.reset(recv_key)\n",
    "            \n",
    "        #\n",
    "        # Делаю шаг храповика приема\n",
    "        #\n",
    "            \n",
    "        trace('[SignalClient]', 'Receiving ratchet step')\n",
    "        message_key = self._sessions[phone_number].recv_ratchet.step()\n",
    "        \n",
    "        trace('[SignalClient]', f'Use {as_hex(message_key)} as decryption key')\n",
    "        decrypted_message = KuznyechikMGM(message_key).decrypt(*data)\n",
    "        \n",
    "        if decrypted_message is None:\n",
    "            trace('[SignalClient]', 'Cannot decrypt message')\n",
    "            return\n",
    "            \n",
    "        return decrypted_message.decode()\n",
    "        \n",
    "        \n",
    "    @property\n",
    "    def phone_number(self):\n",
    "        \"\"\"\n",
    "        Получение номер телефона\n",
    "        \"\"\"\n",
    "        \n",
    "        return self._phone_number\n",
    "    \n",
    "    \n",
    "    @property\n",
    "    def public_keys(self):\n",
    "        \"\"\"\n",
    "        Получение открытых ключей\n",
    "        \"\"\"\n",
    "        \n",
    "        return KeyBundle(self._identity_key.public, self._signed_prekey.public, \n",
    "                         self._signature, [prekey.public for prekey in self._ot_prekeys])\n",
    "        \n",
    "        \n",
    "    def _x3dh_init_session(self, phone_number: str, message: str, server: SignalServer):\n",
    "        IKb, SPKb, Sigb, (OPKb, idx) = server.get_public_keys(phone_number)\n",
    "        \n",
    "        #\n",
    "        # Проверяю подпись\n",
    "        #\n",
    "        \n",
    "        digest = hash_digest(Streebog, pickle.dumps(SPKb))\n",
    "        if not gost3410.verify(Curve.CURVE, IKb, digest, Sigb):\n",
    "            trace('[SignalClient]', f'Cannot verify signature of client with phone {phone_number}')\n",
    "            return\n",
    "        \n",
    "        #\n",
    "        # Эфемерный ключ\n",
    "        #\n",
    "        \n",
    "        EKa = SignalClient._generate_key_pair()\n",
    "        \n",
    "        #\n",
    "        # Выработка общих секретов\n",
    "        #\n",
    "        \n",
    "        DH1 = SignalClient._dh(self._identity_key, SPKb)\n",
    "        DH2 = SignalClient._dh(EKa, IKb)\n",
    "        DH3 = SignalClient._dh(EKa, SPKb)\n",
    "        DH4 = SignalClient._dh(EKa, OPKb)\n",
    "        \n",
    "        #\n",
    "        # Вырабатываю ключ и создаю сообщение\n",
    "        # В качестве данных я отправлю шифртекст сообщения,\n",
    "        # идентификационный ключ, эфемерный ключ и индекс\n",
    "        # использованного одноразового ключа\n",
    "        #\n",
    "        # Протокол разрешает использовать выработанный ключ прямо\n",
    "        # для зашифрования первого сообщения: An initial ciphertext \n",
    "        # encrypted with some AEAD encryption scheme [4] using AD \n",
    "        # as associated data and using an encryption key which is \n",
    "        # either SK or the output from some cryptographic PRF keyed by SK.\n",
    "        #\n",
    "        \n",
    "        AD = pickle.dumps(self._identity_key.public) + pickle.dumps(IKb)\n",
    "        trace('[SignalClient]', f'Use {as_hex(AD)} as associated data')\n",
    "        \n",
    "        root_key = SignalClient._produce_root_key(DH1, DH2, DH3, DH4)\n",
    "        trace('[SignalClient]', f'Use {as_hex(root_key)} as root key')\n",
    "        \n",
    "        #\n",
    "        # А теперь требуется создать состояние\n",
    "        #\n",
    "        \n",
    "        self._initialize_state(phone_number, root_key)\n",
    "        \n",
    "        encrypted_message = KuznyechikMGM(root_key).encrypt(message.encode(), AD)\n",
    "        message = (encrypted_message, self._identity_key.public, EKa.public, idx)\n",
    "        \n",
    "        server.push_message(self.phone_number, phone_number, \n",
    "                            Message(None, SignalClient.X3DH_MSG_ID, message))\n",
    "        \n",
    "    \n",
    "    def _x3dh_accept_session(self, phone_number: str, x3dh_parameters: Message, server: SignalServer):\n",
    "        encrypred_message, IKa, EKa, idx = x3dh_parameters\n",
    "        \n",
    "        #\n",
    "        # Получу нужный одноразовый ключ\n",
    "        #\n",
    "        \n",
    "        OPKb = self._ot_prekeys.pop(idx)\n",
    "        \n",
    "        #\n",
    "        # Выработка общих секретов\n",
    "        #\n",
    "        \n",
    "        DH1 = SignalClient._dh(self._signed_prekey, IKa)\n",
    "        DH2 = SignalClient._dh(self._identity_key, EKa)\n",
    "        DH3 = SignalClient._dh(self._signed_prekey, EKa)\n",
    "        DH4 = SignalClient._dh(OPKb, EKa)\n",
    "        \n",
    "        #\n",
    "        # Вырабатываю ключ и читаю сообщение\n",
    "        #\n",
    "        \n",
    "        AD = pickle.dumps(IKa) + pickle.dumps(self._identity_key.public)\n",
    "        trace('[SignalClient]', f'Use {as_hex(AD)} as associated data')\n",
    "        \n",
    "        root_key = SignalClient._produce_root_key(DH1, DH2, DH3, DH4)\n",
    "        trace('[SignalClient]', f'Use {as_hex(root_key)} as root key')\n",
    "        \n",
    "        decrypted_message = KuznyechikMGM(root_key).decrypt(*encrypred_message, AD)\n",
    "        \n",
    "        if decrypted_message is None:\n",
    "            trace('[SignalClient]', 'Cannot decrypt message')\n",
    "            return\n",
    "        \n",
    "        #\n",
    "        # Теперь нужно инициализировать состояние и отослать открытый ключ\n",
    "        #\n",
    "        \n",
    "        self._initialize_state(phone_number, root_key)\n",
    "        \n",
    "        public_key = self._sessions[phone_number].dh_ratchet.public_key\n",
    "        server.push_message(self.phone_number, phone_number, Message(public_key, \n",
    "                                                                     SignalClient.DH_RATCHET_PK_ID, \n",
    "                                                                     None))\n",
    "        \n",
    "        return decrypted_message.decode()\n",
    "        \n",
    "        \n",
    "    def _initialize_state(self, phone_number: str, root_key):\n",
    "        self._sessions[phone_number] = SignalClient.SessionState(True, \n",
    "                                                                 DiffieHellmanRatchet(), \n",
    "                                                                 KdfChain(root_key), \n",
    "                                                                 SymmetricRatchet(b'\\x00', KuznyechikMGM.KEY_SIZE), \n",
    "                                                                 SymmetricRatchet(b'\\x00', KuznyechikMGM.KEY_SIZE), \n",
    "                                                                 0)\n",
    "        \n",
    "        \n",
    "    def _try_mimic(self, phone_number, session_phone_number, session):\n",
    "        self._phone_number = phone_number\n",
    "        self._sessions[session_phone_number] = session\n",
    "        self._sessions[session_phone_number].dh_ratchet.generate_new_key_pair()\n",
    "        \n",
    "        trace('[SignalClient]', f'User now tries to be a user with phone {phone_number}')\n",
    "        \n",
    "        \n",
    "    @staticmethod\n",
    "    def _generate_key_pair():\n",
    "        private_key = Curve.generate_private_key()\n",
    "        public_key  = Curve.get_public_key(private_key)\n",
    "        \n",
    "        return KeyPair(private_key, public_key)\n",
    "    \n",
    "    \n",
    "    @staticmethod\n",
    "    def _dh(key_pair, public_key):\n",
    "        return Curve.multiply_by_scalar(key_pair.private, public_key)\n",
    "    \n",
    "    \n",
    "    @staticmethod\n",
    "    def _produce_root_key(DH1, DH2, DH3, DH4):\n",
    "        kdf_data = pickle.dumps(DH1) + pickle.dumps(DH2) + pickle.dumps(DH3) + pickle.dumps(DH4)\n",
    "        return HKDF(kdf_data, KuznyechikMGM.KEY_SIZE, b'\\x00' * 16, Streebog, 1)"
   ]
  },
  {
   "cell_type": "markdown",
   "id": "825aca31",
   "metadata": {},
   "source": [
    "----\n",
    "## Демонстрация удачного выполнения протоколов"
   ]
  },
  {
   "cell_type": "code",
   "execution_count": 61,
   "id": "a6ce4155",
   "metadata": {},
   "outputs": [],
   "source": [
    "# Создаю сервер\n",
    "srv = SignalServer()"
   ]
  },
  {
   "cell_type": "code",
   "execution_count": 62,
   "id": "23b87947",
   "metadata": {},
   "outputs": [
    {
     "name": "stdout",
     "output_type": "stream",
     "text": [
      "[TRACE] [SignalClient] Identity key: KeyPair(private=2977995324410626473745930776702814269943676308620165048166008804907125303015133194240611156920704897500817482617546068649950153046304205911948917823713056, public=(10564690576545524781650009354492238065865291045771891662020006124390274856059604279754515394142369214689630195179684563483197463796879360511373537664206579, 3168617702184262197262540940150611485228724406933308956790226122708361907628607847537021173617734194668391382968693256461385913653940899157189407506452181))\n",
      "[TRACE] [SignalClient] Signed prekey: KeyPair(private=6944886150837330252966405809749343706448371280481882819425193422052935148128301179544732094398178228454834050348942913575542668528500704779412997802448770, public=(10283615243693098353102293788569493752731130684645333322196471372188375224646392795317680228506755102084618132623171276913352858569157576095608084774499252, 2304072525876319444718800401436580727182978376954597195762078562705009638515899517033833622290427380399107953202241870966930102728551460575707543241158102))\n",
      "[TRACE] [SignalClient] Signature: 2c3d05e21ad7561859bc2a5d0654b6e2513bf2f698f286c1c1e5926e48bb9085de6db858eea214b914c94b6e732c72fddfa5be9be428730ba8be07d932b9740a73bd3d2bb754d9ab8560a1225b306ad0a880b80dd861a8e4b84ee84239b69b551fd18ae0ada9d264a35ffa76ac9a3e944a36ad5423d40b4796c775a0122859d0\n",
      "[TRACE] [SignalClient] One time keys: 10\n"
     ]
    }
   ],
   "source": [
    "# Пользователь Алиса\n",
    "alice = SignalClient('+7 921 059-87-72')"
   ]
  },
  {
   "cell_type": "code",
   "execution_count": 63,
   "id": "5882e568",
   "metadata": {},
   "outputs": [
    {
     "name": "stdout",
     "output_type": "stream",
     "text": [
      "[TRACE] [SignalClient] Identity key: KeyPair(private=4811585871326956451911334427001391870769192533518608747949600512455786777486023567572333866024304883794925602182773732645080011464215456737078546503745356, public=(12722565611234258824958456668616044989648815106023450614995460634420256506088727771223278811060839042210624710671833474882466284262000113131892887172210867, 10630521879160299443003770209172114585179714912648245077464064851901161828763984514793109120320609078399293060648001248044828324428891201132975320640007889))\n",
      "[TRACE] [SignalClient] Signed prekey: KeyPair(private=9019893353832194620549762282949495819753953484322532635459889285604986863822418971119677682362550318690141215058823510701361761817177933617660882715007837, public=(9293490060927392177561129265374889072967857059512767295406918474177899997350922242891167141564603210588090407579721000842737088159902932816567016812658960, 5385402355476751466320356313030225253066862838398568816798315248503323044126429704024196868773820724098678928789466887022375406266061155868204841246062627))\n",
      "[TRACE] [SignalClient] Signature: 99903a7c3e9d3463b34ab01a6f7f19b4216fefe7d8213f13b0869c29ec9e43cffb9cfd303d4ca003f7823e789422a023c0a639e377c9f8c98f4aa4459d54eebd342467a25b682e96b4eb7e9705319c6ff28e32e9c6b6d7acfc422e599ceae07225b602c28795220cecce3d09abcd57c8c39be97401a2bb34954376c44a547acf\n",
      "[TRACE] [SignalClient] One time keys: 10\n"
     ]
    }
   ],
   "source": [
    "# Пользователь Боб\n",
    "bob = SignalClient('+7 991 174-51-34')"
   ]
  },
  {
   "cell_type": "code",
   "execution_count": 64,
   "id": "471d5260",
   "metadata": {},
   "outputs": [
    {
     "name": "stdout",
     "output_type": "stream",
     "text": [
      "[TRACE] [SignalServer] Registered client with phone number +7 921 059-87-72\n",
      "[TRACE] [SignalServer] Registered client with phone number +7 991 174-51-34\n"
     ]
    }
   ],
   "source": [
    "# Регистрирую всех \n",
    "srv.register(alice.phone_number, alice.public_keys)\n",
    "srv.register(bob.phone_number, bob.public_keys)"
   ]
  },
  {
   "cell_type": "code",
   "execution_count": 65,
   "id": "1311a677",
   "metadata": {},
   "outputs": [
    {
     "name": "stdout",
     "output_type": "stream",
     "text": [
      "[TRACE] [SignalServer] Using OPK at 0\n",
      "[TRACE] [SignalClient] Use 80049588000000000000008a41f386022cea8e26325cb3858beebf48d99e253d667e41ae3558d0b083cd4e5262b788219c305f44e1ef30ba0998bf73d46a52a9329bd0542a2dda7476c121b7c9008a40d54e8c898808a99a0de5220ce1c692b4ce6e2bf238365b74d2a9665f7ef38b06701b92d96a7ba612b16ee408a9165dac81bdd9291da09ae45813d1dc75e17f3c86942e80049589000000000000008a41b3e07059ef4a2556954fb1776df4ca16157538c3b06d87a2218c4ac345f86397dbf41f9f5a5df9007139ac6058522b77b54f524ab05c31fb97118104f69aeaf2008a41d12e088fd3ce1051b16ba92eca350a3925685fb6c7cee15d892566b8a5ed4244219e5468f11f2316eeb91735384da635634d66d3bca741d1fc04fd8e97e8f8ca0086942e as associated data\n",
      "[TRACE] [SignalClient] Use bada9908d02f30c93e35839517afe62754e18eea2ec10387e3a0b94324088379 as root key\n",
      "[TRACE] [SignalServer] Saved message with id X3DH_MSG from +7 921 059-87-72 to +7 991 174-51-34\n"
     ]
    }
   ],
   "source": [
    "# Алиса пытается пообщаться с Бобом\n",
    "alice.send_message(bob.phone_number, 'Hi!', srv)"
   ]
  },
  {
   "cell_type": "code",
   "execution_count": 66,
   "id": "7fff9ea3",
   "metadata": {},
   "outputs": [
    {
     "name": "stdout",
     "output_type": "stream",
     "text": [
      "[TRACE] [SignalClient] Received message with id X3DH_MSG from +7 921 059-87-72\n",
      "[TRACE] [SignalClient] Use 80049588000000000000008a41f386022cea8e26325cb3858beebf48d99e253d667e41ae3558d0b083cd4e5262b788219c305f44e1ef30ba0998bf73d46a52a9329bd0542a2dda7476c121b7c9008a40d54e8c898808a99a0de5220ce1c692b4ce6e2bf238365b74d2a9665f7ef38b06701b92d96a7ba612b16ee408a9165dac81bdd9291da09ae45813d1dc75e17f3c86942e80049589000000000000008a41b3e07059ef4a2556954fb1776df4ca16157538c3b06d87a2218c4ac345f86397dbf41f9f5a5df9007139ac6058522b77b54f524ab05c31fb97118104f69aeaf2008a41d12e088fd3ce1051b16ba92eca350a3925685fb6c7cee15d892566b8a5ed4244219e5468f11f2316eeb91735384da635634d66d3bca741d1fc04fd8e97e8f8ca0086942e as associated data\n",
      "[TRACE] [SignalClient] Use bada9908d02f30c93e35839517afe62754e18eea2ec10387e3a0b94324088379 as root key\n",
      "[TRACE] [SignalServer] Saved message with id DH_RATCHET_PK from +7 991 174-51-34 to +7 921 059-87-72\n"
     ]
    },
    {
     "data": {
      "text/plain": [
       "'Hi!'"
      ]
     },
     "execution_count": 66,
     "metadata": {},
     "output_type": "execute_result"
    }
   ],
   "source": [
    "# Боб полчает сообщение\n",
    "bob.receive_message(alice.phone_number, srv)"
   ]
  },
  {
   "cell_type": "code",
   "execution_count": 67,
   "id": "807d2ac5",
   "metadata": {},
   "outputs": [
    {
     "name": "stdout",
     "output_type": "stream",
     "text": [
      "[TRACE] [SignalClient] Received message with id DH_RATCHET_PK from +7 991 174-51-34\n"
     ]
    }
   ],
   "source": [
    "# Это небольшой костыль, тут я получаю инициализирующее \n",
    "# сообщение с открытым ключом Боба\n",
    "alice.receive_message(bob.phone_number, srv)"
   ]
  },
  {
   "cell_type": "code",
   "execution_count": 68,
   "id": "0d6b2a6f",
   "metadata": {},
   "outputs": [
    {
     "name": "stdout",
     "output_type": "stream",
     "text": [
      "[TRACE] [SignalClient] DH ratchet step\n",
      "[TRACE] [SignalClient] Root KDF chain step\n",
      "[TRACE] [SignalClient] Sending ratchet reset\n",
      "[TRACE] [SignalClient] Sending ratchet step\n",
      "[TRACE] [SignalClient] Use ace7f7a671a2e74ed53661a8d4410bd2bba057ebd85028f581c878574b5adfec as encryption key\n",
      "[TRACE] [SignalServer] Saved message with id 0 from +7 921 059-87-72 to +7 991 174-51-34\n"
     ]
    }
   ],
   "source": [
    "# Алиса отсылает сообщение\n",
    "alice.send_message(bob.phone_number, \"What's up?\", srv)"
   ]
  },
  {
   "cell_type": "code",
   "execution_count": 69,
   "id": "c7be80fc",
   "metadata": {},
   "outputs": [
    {
     "name": "stdout",
     "output_type": "stream",
     "text": [
      "[TRACE] [SignalClient] Received message with id 0 from +7 921 059-87-72\n",
      "[TRACE] [SignalClient] DH ratchet step\n",
      "[TRACE] [SignalClient] Root KDF chain step\n",
      "[TRACE] [SignalClient] Receiving ratchet reset\n",
      "[TRACE] [SignalClient] Receiving ratchet step\n",
      "[TRACE] [SignalClient] Use ace7f7a671a2e74ed53661a8d4410bd2bba057ebd85028f581c878574b5adfec as decryption key\n"
     ]
    },
    {
     "data": {
      "text/plain": [
       "\"What's up?\""
      ]
     },
     "execution_count": 69,
     "metadata": {},
     "output_type": "execute_result"
    }
   ],
   "source": [
    "# Боб принимает и расшифровывает\n",
    "bob.receive_message(alice.phone_number, srv)"
   ]
  },
  {
   "cell_type": "code",
   "execution_count": 70,
   "id": "1bf002aa",
   "metadata": {},
   "outputs": [
    {
     "name": "stdout",
     "output_type": "stream",
     "text": [
      "[TRACE] [SignalClient] DH ratchet step\n",
      "[TRACE] [SignalClient] Root KDF chain step\n",
      "[TRACE] [SignalClient] Sending ratchet reset\n",
      "[TRACE] [SignalClient] Sending ratchet step\n",
      "[TRACE] [SignalClient] Use 20feec243074bd9e32f8afe53c5caebaccbbc409176f7f21249f36413892551f as encryption key\n",
      "[TRACE] [SignalServer] Saved message with id 0 from +7 991 174-51-34 to +7 921 059-87-72\n",
      "[TRACE] [SignalClient] Sending ratchet step\n",
      "[TRACE] [SignalClient] Use 51f16b4eac4aa48479226547b8a7a866b4d9b9eee71068ee8c566619b72b86ea as encryption key\n",
      "[TRACE] [SignalServer] Saved message with id 1 from +7 991 174-51-34 to +7 921 059-87-72\n"
     ]
    }
   ],
   "source": [
    "# Можно послать несколько сообщений подряд\n",
    "bob.send_message(alice.phone_number, 'Some dummy phrase just to continue the dialog', srv)\n",
    "bob.send_message(alice.phone_number, 'And another one', srv)"
   ]
  },
  {
   "cell_type": "code",
   "execution_count": 71,
   "id": "42b766be",
   "metadata": {},
   "outputs": [
    {
     "name": "stdout",
     "output_type": "stream",
     "text": [
      "[TRACE] [SignalClient] Received message with id 0 from +7 991 174-51-34\n",
      "[TRACE] [SignalClient] DH ratchet step\n",
      "[TRACE] [SignalClient] Root KDF chain step\n",
      "[TRACE] [SignalClient] Receiving ratchet reset\n",
      "[TRACE] [SignalClient] Receiving ratchet step\n",
      "[TRACE] [SignalClient] Use 20feec243074bd9e32f8afe53c5caebaccbbc409176f7f21249f36413892551f as decryption key\n"
     ]
    },
    {
     "data": {
      "text/plain": [
       "'Some dummy phrase just to continue the dialog'"
      ]
     },
     "execution_count": 71,
     "metadata": {},
     "output_type": "execute_result"
    }
   ],
   "source": [
    "# И получить оба. Одно...\n",
    "alice.receive_message(bob.phone_number, srv)"
   ]
  },
  {
   "cell_type": "code",
   "execution_count": 72,
   "id": "8e0acd53",
   "metadata": {},
   "outputs": [
    {
     "name": "stdout",
     "output_type": "stream",
     "text": [
      "[TRACE] [SignalClient] Received message with id 1 from +7 991 174-51-34\n",
      "[TRACE] [SignalClient] Receiving ratchet step\n",
      "[TRACE] [SignalClient] Use 51f16b4eac4aa48479226547b8a7a866b4d9b9eee71068ee8c566619b72b86ea as decryption key\n"
     ]
    },
    {
     "data": {
      "text/plain": [
       "'And another one'"
      ]
     },
     "execution_count": 72,
     "metadata": {},
     "output_type": "execute_result"
    }
   ],
   "source": [
    "# ... за другим\n",
    "alice.receive_message(bob.phone_number, srv)"
   ]
  },
  {
   "cell_type": "code",
   "execution_count": 73,
   "id": "6ee3f25e",
   "metadata": {},
   "outputs": [
    {
     "name": "stdout",
     "output_type": "stream",
     "text": [
      "[TRACE] [SignalClient] DH ratchet step\n",
      "[TRACE] [SignalClient] Root KDF chain step\n",
      "[TRACE] [SignalClient] Sending ratchet reset\n",
      "[TRACE] [SignalClient] Sending ratchet step\n",
      "[TRACE] [SignalClient] Use 9c47ee3008538a587679996683b7973c6a57270cca8c9dfaf1969e65fb670893 as encryption key\n",
      "[TRACE] [SignalServer] Saved message with id 1 from +7 921 059-87-72 to +7 991 174-51-34\n"
     ]
    }
   ],
   "source": [
    "# Можно снова сменить направление отправки и \n",
    "# посмотреть, что произошел шаг DH-храповика\n",
    "alice.send_message(bob.phone_number, 'Yet another DH ratchet step demo', srv)"
   ]
  },
  {
   "cell_type": "code",
   "execution_count": 74,
   "id": "7c2f13e7",
   "metadata": {},
   "outputs": [
    {
     "name": "stdout",
     "output_type": "stream",
     "text": [
      "[TRACE] [SignalClient] Received message with id 1 from +7 921 059-87-72\n",
      "[TRACE] [SignalClient] DH ratchet step\n",
      "[TRACE] [SignalClient] Root KDF chain step\n",
      "[TRACE] [SignalClient] Receiving ratchet reset\n",
      "[TRACE] [SignalClient] Receiving ratchet step\n",
      "[TRACE] [SignalClient] Use 9c47ee3008538a587679996683b7973c6a57270cca8c9dfaf1969e65fb670893 as decryption key\n"
     ]
    },
    {
     "data": {
      "text/plain": [
       "'Yet another DH ratchet step demo'"
      ]
     },
     "execution_count": 74,
     "metadata": {},
     "output_type": "execute_result"
    }
   ],
   "source": [
    "# А на другой строне надо получить сообщение\n",
    "bob.receive_message(alice.phone_number, srv)"
   ]
  },
  {
   "cell_type": "code",
   "execution_count": 75,
   "id": "2412831a",
   "metadata": {},
   "outputs": [
    {
     "name": "stdout",
     "output_type": "stream",
     "text": [
      "[TRACE] [SignalClient] Identity key: KeyPair(private=5763849460220260924609685745041929536448933870728836738794202779400406286435320084756380042010011821080093930227205644274954917902701536675879020040295666, public=(1274562867337817148243162014257321292842715823815368912009656764818611717184862715240896685844637759215284123352003560716572407238625121069654489362482350, 5890144673997187807965427108545775554986309174577904263322671449449395097740490966833680750934512514725990461134595481791847710506187761521432134830465017))\n",
      "[TRACE] [SignalClient] Signed prekey: KeyPair(private=6518671968298517561693707519182925110320874926306175084694715993266156421009060573936908772075056332812569458250956215183658201014146738050516519777173257, public=(5515513551216091752011679272067541588708171711694666705800919035883983547583645542608182182294333967336024496243919702412901521307987200306706437665934770, 12480098706335254572941708355498862669846530137495888572186816577338189391581039470879435546911373602908940593238371893946816263583565169544847290350744845))\n",
      "[TRACE] [SignalClient] Signature: 4df327d34f0fac0df08445e589e84323a2d0a1080a89f80950018b395c7ab19477643ec6c1d79378434972ca351fb1b1b9c03d25e5f55d56d37c85d41528209984c8a21e639f1318f18d2a54540ed26e030c4791d34e5cc2828d1b3b4f77ffd05647fba4e1d9e1c6584ab793121da3613c4cf0fb9bc08486a6adaa6abee7dfa2\n",
      "[TRACE] [SignalClient] One time keys: 10\n",
      "[TRACE] [SignalServer] Registered client with phone number +7 970 505-44-25\n"
     ]
    }
   ],
   "source": [
    "# Можно третьего пользователя создать\n",
    "carol = SignalClient('+7 970 505-44-25')\n",
    "srv.register(carol.phone_number, carol.public_keys)"
   ]
  },
  {
   "cell_type": "code",
   "execution_count": 76,
   "id": "7e07d49d",
   "metadata": {},
   "outputs": [
    {
     "name": "stdout",
     "output_type": "stream",
     "text": [
      "[TRACE] [SignalClient] Sending ratchet step\n",
      "[TRACE] [SignalClient] Use c669a004e4bb7236f4678c488329bf919cba757415eb619fa6e79842518aeaea as encryption key\n",
      "[TRACE] [SignalServer] Saved message with id 2 from +7 921 059-87-72 to +7 991 174-51-34\n",
      "[TRACE] [SignalServer] Using OPK at 9\n",
      "[TRACE] [SignalClient] Use 80049588000000000000008a41f386022cea8e26325cb3858beebf48d99e253d667e41ae3558d0b083cd4e5262b788219c305f44e1ef30ba0998bf73d46a52a9329bd0542a2dda7476c121b7c9008a40d54e8c898808a99a0de5220ce1c692b4ce6e2bf238365b74d2a9665f7ef38b06701b92d96a7ba612b16ee408a9165dac81bdd9291da09ae45813d1dc75e17f3c86942e80049587000000000000008a40ae445ac00105e882c7e97db2ce62e9441792b1433ad2619d07456d011184598db4cc47011d29b71748aea5d74ee8314547d618bc1b46b0013ae26e45fbee55188a40f91f2f347518cdd63f8bf5a73cf28ffb69d277a2919485688cac396c33ae7bd7957eb48402ea44eeef475ed053b6719f96b53ed317d2e0a38fa57ecc6c6d767086942e as associated data\n",
      "[TRACE] [SignalClient] Use ed44829ade97d9f4d9332bda531445618d6e8eadb93aaa8f34a66c822b64f19d as root key\n",
      "[TRACE] [SignalServer] Saved message with id X3DH_MSG from +7 921 059-87-72 to +7 970 505-44-25\n"
     ]
    }
   ],
   "source": [
    "alice.send_message(bob.phone_number, \"I'm making new friends\", srv)\n",
    "alice.send_message(carol.phone_number, 'Hi, Carol!', srv)"
   ]
  },
  {
   "cell_type": "code",
   "execution_count": 77,
   "id": "cd4cfd33",
   "metadata": {},
   "outputs": [
    {
     "name": "stdout",
     "output_type": "stream",
     "text": [
      "[TRACE] [SignalClient] Received message with id X3DH_MSG from +7 921 059-87-72\n",
      "[TRACE] [SignalClient] Use 80049588000000000000008a41f386022cea8e26325cb3858beebf48d99e253d667e41ae3558d0b083cd4e5262b788219c305f44e1ef30ba0998bf73d46a52a9329bd0542a2dda7476c121b7c9008a40d54e8c898808a99a0de5220ce1c692b4ce6e2bf238365b74d2a9665f7ef38b06701b92d96a7ba612b16ee408a9165dac81bdd9291da09ae45813d1dc75e17f3c86942e80049587000000000000008a40ae445ac00105e882c7e97db2ce62e9441792b1433ad2619d07456d011184598db4cc47011d29b71748aea5d74ee8314547d618bc1b46b0013ae26e45fbee55188a40f91f2f347518cdd63f8bf5a73cf28ffb69d277a2919485688cac396c33ae7bd7957eb48402ea44eeef475ed053b6719f96b53ed317d2e0a38fa57ecc6c6d767086942e as associated data\n",
      "[TRACE] [SignalClient] Use ed44829ade97d9f4d9332bda531445618d6e8eadb93aaa8f34a66c822b64f19d as root key\n",
      "[TRACE] [SignalServer] Saved message with id DH_RATCHET_PK from +7 970 505-44-25 to +7 921 059-87-72\n"
     ]
    },
    {
     "data": {
      "text/plain": [
       "'Hi, Carol!'"
      ]
     },
     "execution_count": 77,
     "metadata": {},
     "output_type": "execute_result"
    }
   ],
   "source": [
    "carol.receive_message(alice.phone_number, srv)"
   ]
  },
  {
   "cell_type": "code",
   "execution_count": 78,
   "id": "c5150534",
   "metadata": {},
   "outputs": [
    {
     "name": "stdout",
     "output_type": "stream",
     "text": [
      "[TRACE] [SignalClient] Received message with id 2 from +7 921 059-87-72\n",
      "[TRACE] [SignalClient] Receiving ratchet step\n",
      "[TRACE] [SignalClient] Use c669a004e4bb7236f4678c488329bf919cba757415eb619fa6e79842518aeaea as decryption key\n"
     ]
    },
    {
     "data": {
      "text/plain": [
       "\"I'm making new friends\""
      ]
     },
     "execution_count": 78,
     "metadata": {},
     "output_type": "execute_result"
    }
   ],
   "source": [
    "bob.receive_message(alice.phone_number, srv)"
   ]
  },
  {
   "cell_type": "markdown",
   "id": "28afacea",
   "metadata": {},
   "source": [
    "----\n",
    "## Демонстрация неуспешного выполнения протоколов"
   ]
  },
  {
   "cell_type": "code",
   "execution_count": 79,
   "id": "4c01023f",
   "metadata": {},
   "outputs": [
    {
     "name": "stdout",
     "output_type": "stream",
     "text": [
      "[TRACE] [SignalClient] Identity key: KeyPair(private=5240225487891293689066449601046501533674999614581136523473886658543701076836430664038081798933095742580802363432536191351928560225939404564735926008093998, public=(8052025988214663741839754132888807622695853716757117504389637038922223751945014233480466006149103941696370016676478441046870901076927775180390118218078383, 3665754808622162401365402882095595489626452050862686099822497205130437015169213810296525062414839904633274523545902489921776007429991948615253162425209188))\n",
      "[TRACE] [SignalClient] Signed prekey: KeyPair(private=7788518855717057382633701660449043971157833138778720176155306208194658099791774524797733104362699660757507363690844407238882909339121135654070672720099870, public=(3329005016708804426928589316177914767372104238048375366707051745505360472015101276599055468284521038633885899324722712941748921782388256596974897801559618, 1561710081666553380770461273303755430438368097953367351997660435791533593888182843096001677772305250037505948329005994342441062983236538594959802863848379))\n",
      "[TRACE] [SignalClient] Signature: 1fc51d016244d97736dad3de2852ca1cf93374830b87a088188128657e071870ecf4d682221f7265770bef7725e44639388b4e3135c4b55df06dc97ce9e392c7a3fb54620b348b993f70555ec83bf8824992e3ecbf7fa9458d267658eaed14c9f50ce9d89ab1cd865b39e1f6d3b77d5c5e3b0dd5d1630461dd0b8263ac8dc743\n",
      "[TRACE] [SignalClient] One time keys: 10\n"
     ]
    }
   ],
   "source": [
    "# Пользователь, который как-то украл подпись и подписанный ключ\n",
    "# Но его идентификационный ключ не позволяет проверить подпись\n",
    "mallory = SignalClient('+1 202-918-2132', fake_ik=True)"
   ]
  },
  {
   "cell_type": "code",
   "execution_count": 80,
   "id": "36d3e21b",
   "metadata": {},
   "outputs": [
    {
     "name": "stdout",
     "output_type": "stream",
     "text": [
      "[TRACE] [SignalServer] Registered client with phone number +1 202-918-2132\n"
     ]
    }
   ],
   "source": [
    "# Надо зарегистрироваться\n",
    "srv.register(mallory.phone_number, mallory.public_keys)"
   ]
  },
  {
   "cell_type": "code",
   "execution_count": 81,
   "id": "1f7a11ce",
   "metadata": {},
   "outputs": [
    {
     "name": "stdout",
     "output_type": "stream",
     "text": [
      "[TRACE] [SignalServer] Using OPK at 9\n",
      "[TRACE] [SignalClient] Cannot verify signature of client with phone +1 202-918-2132\n"
     ]
    }
   ],
   "source": [
    "# Алиса получает ключи с сервера и обнаруживает несоответствие\n",
    "alice.send_message(mallory.phone_number, 'Hi!', srv)"
   ]
  },
  {
   "cell_type": "code",
   "execution_count": 82,
   "id": "4033a732",
   "metadata": {},
   "outputs": [
    {
     "name": "stdout",
     "output_type": "stream",
     "text": [
      "[TRACE] [SignalClient] Identity key: KeyPair(private=12834273399463691714071951748892377708661184816701126516493816717477518633748362714379891519375658542259317829204294594731787292807404731569305128661358559, public=(12998232523913368600519700023930146316177651305796351165603518516545837303408889066820218077414405543497327437841799642674475554507168013075856882557580220, 3781820757285636120131407392287251168132999315292286709017364426704896805981366163036995181666962745032743860479840540081968523800580349190579592208390423))\n",
      "[TRACE] [SignalClient] Signed prekey: KeyPair(private=2849152170942888984645832563303343743186811059323753269042976954002649891161804470669815378938136948041533545763405694449302892084948010166694052347844337, public=(10648055206094319318754291730817566666130856373012495660271030513252914536493708467115047910237226547512623595999882966476614268223416643963170703427615067, 5107990898001979883277888982679597258388698346912917896708962005907699277572034819279313262466961971741368897579391929846900666673410510957652896804950028))\n",
      "[TRACE] [SignalClient] Signature: 7e5d80860c83260fdac3eb063277eec8021baa59fcf32966039e0d2ea4c7c6213fdad0614ef716c062a235a6fe2ce3f971996ea706ec3ea10939c06c224ee144fe251f006fed45f5ada5ee46984f78629f7c21c7ade47b40bcb1707b2cfea4a71ab48a8dac750ffcc6cde1a0eaa08668cd71560240bcf2f839c5a5c1692ea6bd\n",
      "[TRACE] [SignalClient] One time keys: 10\n"
     ]
    }
   ],
   "source": [
    "# Еще один пользователь-враг -- Ева\n",
    "eve = SignalClient('+1 539-567-2473')"
   ]
  },
  {
   "cell_type": "code",
   "execution_count": 83,
   "id": "5aa85ed1",
   "metadata": {},
   "outputs": [
    {
     "name": "stdout",
     "output_type": "stream",
     "text": [
      "[TRACE] [SignalClient] User now tries to be a user with phone +7 921 059-87-72\n"
     ]
    }
   ],
   "source": [
    "# Она пытается прикинуться Алисой в разговоре с Бобом\n",
    "eve._try_mimic(alice.phone_number, bob.phone_number, \n",
    "               alice._sessions[bob.phone_number])"
   ]
  },
  {
   "cell_type": "code",
   "execution_count": 84,
   "id": "59c9bdab",
   "metadata": {},
   "outputs": [
    {
     "name": "stdout",
     "output_type": "stream",
     "text": [
      "[TRACE] [SignalClient] DH ratchet step\n",
      "[TRACE] [SignalClient] Root KDF chain step\n",
      "[TRACE] [SignalClient] Sending ratchet reset\n",
      "[TRACE] [SignalClient] Sending ratchet step\n",
      "[TRACE] [SignalClient] Use 5166495bbaf8566e9893fb175a5c33872993d07f47baa08d2bb0bac9308a97f3 as encryption key\n",
      "[TRACE] [SignalServer] Saved message with id 2 from +7 991 174-51-34 to +7 921 059-87-72\n"
     ]
    }
   ],
   "source": [
    "# Боб отправляет Алисе соообщение\n",
    "bob.send_message(alice.phone_number, 'Hi!', srv)"
   ]
  },
  {
   "cell_type": "code",
   "execution_count": 85,
   "id": "dd446d3b",
   "metadata": {},
   "outputs": [
    {
     "name": "stdout",
     "output_type": "stream",
     "text": [
      "[TRACE] [SignalClient] Received message with id 2 from +7 991 174-51-34\n",
      "[TRACE] [SignalClient] DH ratchet step\n",
      "[TRACE] [SignalClient] Root KDF chain step\n",
      "[TRACE] [SignalClient] Receiving ratchet reset\n",
      "[TRACE] [SignalClient] Receiving ratchet step\n",
      "[TRACE] [SignalClient] Use 52fa54f98b8cc9f35e5a00f6d293aa612f9b88efaa5747cc0570b4e6efd8b798 as decryption key\n",
      "[TRACE] [SignalClient] Cannot decrypt message\n"
     ]
    }
   ],
   "source": [
    "# А вот получить его пытается Ева, но расшифровать не получится\n",
    "eve.receive_message(bob.phone_number, srv)"
   ]
  },
  {
   "cell_type": "code",
   "execution_count": null,
   "id": "2e1b2dbc",
   "metadata": {},
   "outputs": [],
   "source": []
  }
 ],
 "metadata": {
  "kernelspec": {
   "display_name": "Python 3 (ipykernel)",
   "language": "python",
   "name": "python3"
  },
  "language_info": {
   "codemirror_mode": {
    "name": "ipython",
    "version": 3
   },
   "file_extension": ".py",
   "mimetype": "text/x-python",
   "name": "python",
   "nbconvert_exporter": "python",
   "pygments_lexer": "ipython3",
   "version": "3.9.9"
  }
 },
 "nbformat": 4,
 "nbformat_minor": 5
}
