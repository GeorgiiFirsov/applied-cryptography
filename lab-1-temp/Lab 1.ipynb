{
 "cells": [
  {
   "cell_type": "markdown",
   "id": "cbc9dfe1",
   "metadata": {},
   "source": [
    "# Протоколы аутентификации"
   ]
  },
  {
   "cell_type": "code",
   "execution_count": 1,
   "id": "e805f109",
   "metadata": {},
   "outputs": [],
   "source": [
    "IS_DEBUG = 1"
   ]
  },
  {
   "cell_type": "code",
   "execution_count": 2,
   "id": "9bb53066",
   "metadata": {},
   "outputs": [],
   "source": [
    "def trace(*args, **kwargs):\n",
    "    \"\"\"\n",
    "    Отладочная трассировка\n",
    "    \"\"\"\n",
    "    \n",
    "    global IS_DEBUG\n",
    "    if IS_DEBUG:\n",
    "        print('[TRACE]', end=' ')\n",
    "        print(*args, **kwargs)"
   ]
  },
  {
   "cell_type": "markdown",
   "id": "5c1b935f",
   "metadata": {},
   "source": [
    "----"
   ]
  },
  {
   "cell_type": "code",
   "execution_count": 3,
   "id": "c6efa0e4",
   "metadata": {},
   "outputs": [],
   "source": [
    "# Использую хэш-функцию ГОСТ 34.11-2012 \"Стрибог\"\n",
    "from pygost.gost34112012256 import GOST34112012256\n",
    "\n",
    "# Эта либа тоже понадобится\n",
    "import binascii\n",
    "\n",
    "# Для генерации случайных чисел (КГПСЧ)\n",
    "from Crypto.Random import get_random_bytes"
   ]
  },
  {
   "cell_type": "markdown",
   "id": "0c1cf513",
   "metadata": {},
   "source": [
    "## Протокол PAP\n",
    "![PAP Protocol](../images/PAP_1.png)"
   ]
  },
  {
   "cell_type": "markdown",
   "id": "6a720c4d",
   "metadata": {},
   "source": [
    "-----"
   ]
  },
  {
   "cell_type": "markdown",
   "id": "86886021",
   "metadata": {},
   "source": [
    "----"
   ]
  },
  {
   "cell_type": "code",
   "execution_count": 4,
   "id": "52bc32a2",
   "metadata": {},
   "outputs": [],
   "source": [
    "def streebog_hash(*args) -> bytes:\n",
    "    \"\"\"\n",
    "    Расчет хэша для нескольких аргументов (по типу конкатенации)\n",
    "    \"\"\"\n",
    "    \n",
    "    hasher = GOST34112012256()\n",
    "    \n",
    "    for arg in args:\n",
    "        hasher.update(arg)\n",
    "        \n",
    "    return hasher.digest()\n",
    "\n",
    "def bytes_as_hex(b: bytes) -> str:\n",
    "    \"\"\"\n",
    "    Перевод бинарных данных в hex-строчку\n",
    "    \"\"\"\n",
    "    \n",
    "    return binascii.hexlify(b).decode()"
   ]
  },
  {
   "cell_type": "markdown",
   "id": "c9938e32",
   "metadata": {},
   "source": [
    "------"
   ]
  },
  {
   "cell_type": "code",
   "execution_count": 5,
   "id": "71707ace",
   "metadata": {},
   "outputs": [],
   "source": [
    "class PAPServer(object):\n",
    "    def __init__(self):\n",
    "        \"\"\"\n",
    "        Инициализация сервера. \n",
    "        Создается пустая база с пользователями.\n",
    "        \"\"\"\n",
    "        \n",
    "        self._db = {}  # { login: hash(password) }\n",
    "        \n",
    "        \n",
    "    def register_user(self, login: str, password: str):\n",
    "        \"\"\"\n",
    "        Регистрация юзера. На вход получает логин и пароль.\n",
    "        Ничего не возвращает.\n",
    "        Выбрасывает исключение в случае наличия пользователя в базе\n",
    "        \"\"\"\n",
    "        \n",
    "        trace('[PAP Server]', f'Attempt to register user with credentials {login}:{password}')\n",
    "        \n",
    "        if login in self._db:\n",
    "            trace('[PAP Server]', 'User already exists')\n",
    "            raise ValueError(f'User {login} is already registered')\n",
    "            \n",
    "        #\n",
    "        # Рассчитаю хэш пароля и запишу в базу\n",
    "        #\n",
    "        \n",
    "        self._db[login] = streebog_hash(password.encode())\n",
    "        trace('[PAP Server]', f'User successfully registered, password hash: {bytes_as_hex(self._db[login])}')\n",
    "        \n",
    "        \n",
    "    def login(self, login: str, password: str) -> bool:\n",
    "        \"\"\"\n",
    "        Вход пользователя по паролю. На вход получает логин и пароль.\n",
    "        Возвращает True в случае успеха, False - иначе.\n",
    "        \"\"\"\n",
    "        \n",
    "        trace('[PAP Server]', f'Attempt to login with credentials {login}:{password}')\n",
    "        \n",
    "        if login not in self._db:\n",
    "            trace('[PAP Server]', \"User doesn't exist\")\n",
    "            return False\n",
    "        \n",
    "        #\n",
    "        # Пользователь есть, рассчитаю хэш пароля и сравню с имеющимся\n",
    "        #\n",
    "        \n",
    "        pass_hash = streebog_hash(password.encode())\n",
    "        real_hash = self._db[login]\n",
    "        \n",
    "        trace('[PAP Server]', f'Password hash: {bytes_as_hex(pass_hash)}')\n",
    "        trace('[PAP Server]', f'Stored hash:   {bytes_as_hex(real_hash)}')\n",
    "        \n",
    "        return pass_hash == real_hash"
   ]
  },
  {
   "cell_type": "code",
   "execution_count": 6,
   "id": "950e995a",
   "metadata": {},
   "outputs": [],
   "source": [
    "class PAPClient(object):\n",
    "    def __init__(self, login, password):\n",
    "        \"\"\"\n",
    "        Инициализация клиента. На вход получает логин и пароль.\n",
    "        \"\"\"\n",
    "        \n",
    "        self._login  = login\n",
    "        self._passwd = password\n",
    "        \n",
    "        trace('[PAP Client]', f'User with credentials {self._login}:{self._passwd} created')\n",
    "        \n",
    "        \n",
    "    def register(self, srv: PAPServer):\n",
    "        \"\"\"\n",
    "        Регистрация пользователя на сервере. На вход принимает дескриптор сервера.\n",
    "        \"\"\"\n",
    "        \n",
    "        try:\n",
    "            srv.register_user(self._login, self._passwd)\n",
    "        except Exception as e:\n",
    "            trace(e)\n",
    "    \n",
    "    \n",
    "    def login(self, srv: PAPServer):\n",
    "        \"\"\"\n",
    "        Вход пользователя на сервере. На вход принимает дескриптор сервера.\n",
    "        \"\"\"\n",
    "        \n",
    "        if srv.login(self._login, self._passwd):\n",
    "            print('[PAP Client]', f'User {self._login} logged in successfully')\n",
    "        else:\n",
    "            print('[PAP Client]', f'Wrong username or password')"
   ]
  },
  {
   "cell_type": "markdown",
   "id": "56ecf6dd",
   "metadata": {},
   "source": [
    "----"
   ]
  },
  {
   "cell_type": "code",
   "execution_count": 7,
   "id": "dcaf77d7",
   "metadata": {},
   "outputs": [],
   "source": [
    "# Создаю сервер\n",
    "server = PAPServer()"
   ]
  },
  {
   "cell_type": "code",
   "execution_count": 8,
   "id": "ec4e3bd3",
   "metadata": {},
   "outputs": [
    {
     "name": "stdout",
     "output_type": "stream",
     "text": [
      "[TRACE] [PAP Client] User with credentials Alice:Trust_m3_0r_n0t created\n",
      "[TRACE] [PAP Client] User with credentials Alice:try_t0_gu3$$ created\n"
     ]
    }
   ],
   "source": [
    "# Теперь создаю двух юзеров: \n",
    "# - Алису - валидного пользователя\n",
    "# - Еву - пользователя, пытающегося представиться Алисой\n",
    "alice = PAPClient('Alice', 'Trust_m3_0r_n0t')\n",
    "eve = PAPClient('Alice', 'try_t0_gu3$$')"
   ]
  },
  {
   "cell_type": "code",
   "execution_count": 9,
   "id": "de5b8b01",
   "metadata": {},
   "outputs": [
    {
     "name": "stdout",
     "output_type": "stream",
     "text": [
      "[TRACE] [PAP Server] Attempt to register user with credentials Alice:Trust_m3_0r_n0t\n",
      "[TRACE] [PAP Server] User successfully registered, password hash: bdb147b4b8ae6f408dd51cdb17d6300f3e475b504129ba01e5715899b60366b8\n"
     ]
    }
   ],
   "source": [
    "# Регистрирую валидного пользователя\n",
    "alice.register(server)"
   ]
  },
  {
   "cell_type": "code",
   "execution_count": 10,
   "id": "4e2ee149",
   "metadata": {},
   "outputs": [
    {
     "name": "stdout",
     "output_type": "stream",
     "text": [
      "[TRACE] [PAP Server] Attempt to login with credentials Alice:Trust_m3_0r_n0t\n",
      "[TRACE] [PAP Server] Password hash: bdb147b4b8ae6f408dd51cdb17d6300f3e475b504129ba01e5715899b60366b8\n",
      "[TRACE] [PAP Server] Stored hash:   bdb147b4b8ae6f408dd51cdb17d6300f3e475b504129ba01e5715899b60366b8\n",
      "[PAP Client] User Alice logged in successfully\n"
     ]
    }
   ],
   "source": [
    "# Захожу под кредами валидного пользователя\n",
    "alice.login(server)"
   ]
  },
  {
   "cell_type": "code",
   "execution_count": 11,
   "id": "eb8f2ad1",
   "metadata": {},
   "outputs": [
    {
     "name": "stdout",
     "output_type": "stream",
     "text": [
      "[TRACE] [PAP Server] Attempt to login with credentials Alice:try_t0_gu3$$\n",
      "[TRACE] [PAP Server] Password hash: 034eda071f984d17f28f9ae214c5d9b9a9fc0e112df98d0e4b5b2eb3d701b314\n",
      "[TRACE] [PAP Server] Stored hash:   bdb147b4b8ae6f408dd51cdb17d6300f3e475b504129ba01e5715899b60366b8\n",
      "[PAP Client] Wrong username or password\n"
     ]
    }
   ],
   "source": [
    "# Пытаюсь зайти под неправильными кредами\n",
    "eve.login(server)"
   ]
  },
  {
   "cell_type": "markdown",
   "id": "f6d411b2",
   "metadata": {},
   "source": [
    "-----"
   ]
  },
  {
   "cell_type": "markdown",
   "id": "ca0bd721",
   "metadata": {},
   "source": [
    "## Протокол CHAP\n",
    "![CHAP Protocol](../images/CHAP_1.png)"
   ]
  },
  {
   "cell_type": "markdown",
   "id": "db7621a7",
   "metadata": {},
   "source": [
    "Соответствие между описанием и кодом:\n",
    "- значение N (N1, N2) именуется челледжом (challenge).\n",
    "\n",
    "----"
   ]
  },
  {
   "cell_type": "code",
   "execution_count": 12,
   "id": "9322e597",
   "metadata": {},
   "outputs": [],
   "source": [
    "class CHAPServer(object):\n",
    "    def __init__(self):\n",
    "        \"\"\"\n",
    "        Инициализация сервера. \n",
    "        Создается пустая база с пользователями.\n",
    "        \"\"\"\n",
    "        \n",
    "        self._db = {}\n",
    "        \n",
    "        \n",
    "    def register_user(self, login, password):\n",
    "        \"\"\"\n",
    "        Регистрация юзера. На вход получает логин и пароль.\n",
    "        Ничего не возвращает.\n",
    "        Выбрасывает исключение в случае наличия пользователя в базе\n",
    "        \"\"\"\n",
    "        \n",
    "        trace('[CHAP Server]', f'Attempt to register user with credentials {login}:{password}')\n",
    "        \n",
    "        if login in self._db:\n",
    "            trace('[CHAP Server]', 'User already exists')\n",
    "            raise ValueError(f'User {login} is already registered')\n",
    "            \n",
    "        #\n",
    "        # Запишу в базу\n",
    "        #\n",
    "        \n",
    "        self._db[login] = [password.encode(), None]\n",
    "        trace('[CHAP Server]', f'User successfully registered')\n",
    "    \n",
    "    \n",
    "    def login(self, login, response):\n",
    "        \"\"\"\n",
    "        Вход пользователя. На вход получает логин и хэш пароля с челленджем.\n",
    "        Возвращает True в случае успеха, False - иначе.\n",
    "        \"\"\"\n",
    "        \n",
    "        trace('[CHAP Server]', f'''Attempt to login with: {login = }, \n",
    "        response = {bytes_as_hex(response)}''')\n",
    "        \n",
    "        if login not in self._db:\n",
    "            trace('[CHAP Server]', \"User doesn't exist\")\n",
    "            return False\n",
    "        \n",
    "        #\n",
    "        # Пользователь есть, достану челлендж и обнулю\n",
    "        #\n",
    "        \n",
    "        challenge = self._db[login][1]\n",
    "        self._db[login][1] = None\n",
    "        \n",
    "        if challenge is None:\n",
    "            trace('[CHAP Server]', f'No challenge was generated for {login = }')\n",
    "            return False\n",
    "        \n",
    "        #\n",
    "        # Рассчитаю хэш и сравню с респонсом\n",
    "        #\n",
    "        \n",
    "        challenge_hash = streebog_hash(challenge, self._db[login][0])\n",
    "        \n",
    "        trace('[CHAP Server]', f'Calculated hash: {bytes_as_hex(challenge_hash)}')\n",
    "        trace('[CHAP Server]', f'Received hash:   {bytes_as_hex(response)}')\n",
    "        \n",
    "        return challenge_hash == response\n",
    "    \n",
    "    \n",
    "    def generate_challenge(self, login):\n",
    "        \"\"\"\n",
    "        Генерация челленджа. На вход получает логин.\n",
    "        Возвращает случайный челлендж в случае успеха, None - иначе.\n",
    "        \"\"\"\n",
    "        \n",
    "        trace('[CHAP Server]', f'Attempt to generate challege for: {login = }')\n",
    "        \n",
    "        if login not in self._db:\n",
    "            trace('[CHAP Server]', \"User doesn't exist\")\n",
    "            return None\n",
    "        \n",
    "        #\n",
    "        # Если юзер есть в базе, то генерирую челлендж и сохраняю у себя\n",
    "        #\n",
    "        \n",
    "        challenge = get_random_bytes(16)\n",
    "        self._db[login][1] = challenge\n",
    "        \n",
    "        trace('[CHAP Server]', f'Generated challenge = {bytes_as_hex(challenge)}')\n",
    "        return challenge"
   ]
  },
  {
   "cell_type": "code",
   "execution_count": 13,
   "id": "7317fae5",
   "metadata": {},
   "outputs": [],
   "source": [
    "class CHAPClient(object):\n",
    "    def __init__(self, login, password):\n",
    "        \"\"\"\n",
    "        Инициализация клиента. На вход получает логин и пароль.\n",
    "        \"\"\"\n",
    "        \n",
    "        self._login  = login\n",
    "        self._passwd = password\n",
    "        \n",
    "        trace('[CHAP Client]', f'User with credentials {self._login}:{self._passwd} created')\n",
    "        \n",
    "        \n",
    "    def register(self, srv: CHAPServer):\n",
    "        \"\"\"\n",
    "        Регистрация пользователя на сервере. На вход принимает дескриптор сервера.\n",
    "        \"\"\"\n",
    "        \n",
    "        try:\n",
    "            srv.register_user(self._login, self._passwd)\n",
    "        except Exception as e:\n",
    "            trace(e)\n",
    "    \n",
    "    \n",
    "    def login(self, srv: CHAPServer):\n",
    "        \"\"\"\n",
    "        Вход пользователя на сервере. На вход принимает дескриптор сервера.\n",
    "        \"\"\"\n",
    "        \n",
    "        #\n",
    "        # Получаю челлендж с сервера\n",
    "        #\n",
    "        \n",
    "        challenge = srv.generate_challenge(self._login)\n",
    "        if challenge is None:\n",
    "            print('[CHAP Client]', f'Wrong username or password')\n",
    "            return\n",
    "        \n",
    "        #\n",
    "        # Хэширую челлендж с паролем и пытаюсь залогиниться\n",
    "        #\n",
    "        \n",
    "        response = streebog_hash(challenge, self._passwd.encode())\n",
    "        if srv.login(self._login, response):\n",
    "            print('[CHAP Client]', f'User {self._login} logged in successfully')\n",
    "        else:\n",
    "            print('[CHAP Client]', f'Wrong username or password')"
   ]
  },
  {
   "cell_type": "markdown",
   "id": "d9a24807",
   "metadata": {},
   "source": [
    "----"
   ]
  },
  {
   "cell_type": "code",
   "execution_count": 14,
   "id": "e3f648e3",
   "metadata": {},
   "outputs": [],
   "source": [
    "# Создаю сервер\n",
    "server = CHAPServer()"
   ]
  },
  {
   "cell_type": "code",
   "execution_count": 15,
   "id": "83897ca8",
   "metadata": {},
   "outputs": [
    {
     "name": "stdout",
     "output_type": "stream",
     "text": [
      "[TRACE] [CHAP Client] User with credentials Alice:Trust_m3_0r_n0t created\n",
      "[TRACE] [CHAP Client] User with credentials Alice:try_t0_gu3$$ created\n"
     ]
    }
   ],
   "source": [
    "# Теперь создаю двух юзеров: \n",
    "# - Алису - валидного пользователя\n",
    "# - Еву - пользователя, пытающегося представиться Алисой\n",
    "alice = CHAPClient('Alice', 'Trust_m3_0r_n0t')\n",
    "eve = CHAPClient('Alice', 'try_t0_gu3$$')"
   ]
  },
  {
   "cell_type": "code",
   "execution_count": 16,
   "id": "bc38d5e8",
   "metadata": {},
   "outputs": [
    {
     "name": "stdout",
     "output_type": "stream",
     "text": [
      "[TRACE] [CHAP Server] Attempt to register user with credentials Alice:Trust_m3_0r_n0t\n",
      "[TRACE] [CHAP Server] User successfully registered\n"
     ]
    }
   ],
   "source": [
    "# Регистрирую валидного пользователя\n",
    "alice.register(server)"
   ]
  },
  {
   "cell_type": "code",
   "execution_count": 17,
   "id": "cb85295e",
   "metadata": {},
   "outputs": [
    {
     "name": "stdout",
     "output_type": "stream",
     "text": [
      "[TRACE] [CHAP Server] Attempt to generate challege for: login = 'Alice'\n",
      "[TRACE] [CHAP Server] Generated challenge = aef85f7c1664c5c727bef7c5c4da671e\n",
      "[TRACE] [CHAP Server] Attempt to login with: login = 'Alice', \n",
      "        response = 95d6fa3ef23bf31042b361d556a3bc779095302c9cff1c34f5c3720d3820cc7f\n",
      "[TRACE] [CHAP Server] Calculated hash: 95d6fa3ef23bf31042b361d556a3bc779095302c9cff1c34f5c3720d3820cc7f\n",
      "[TRACE] [CHAP Server] Received hash:   95d6fa3ef23bf31042b361d556a3bc779095302c9cff1c34f5c3720d3820cc7f\n",
      "[CHAP Client] User Alice logged in successfully\n"
     ]
    }
   ],
   "source": [
    "# Захожу под кредами валидного пользователя\n",
    "alice.login(server)"
   ]
  },
  {
   "cell_type": "code",
   "execution_count": 18,
   "id": "60ee9658",
   "metadata": {},
   "outputs": [
    {
     "name": "stdout",
     "output_type": "stream",
     "text": [
      "[TRACE] [CHAP Server] Attempt to generate challege for: login = 'Alice'\n",
      "[TRACE] [CHAP Server] Generated challenge = 1d8c26bf3ade9c848c7e99bea53d34da\n",
      "[TRACE] [CHAP Server] Attempt to login with: login = 'Alice', \n",
      "        response = 0cc760e5e83aae8915472d738bb4d47e1dd877929c03b72dc0133b22a4931165\n",
      "[TRACE] [CHAP Server] Calculated hash: 364709b8f8c8e48b4ed2dd42226053d1424abc33aba22f0b15be5cf4b6a94a99\n",
      "[TRACE] [CHAP Server] Received hash:   0cc760e5e83aae8915472d738bb4d47e1dd877929c03b72dc0133b22a4931165\n",
      "[CHAP Client] Wrong username or password\n"
     ]
    }
   ],
   "source": [
    "# Пытаюсь зайти под неправильными кредами\n",
    "eve.login(server)"
   ]
  },
  {
   "cell_type": "markdown",
   "id": "69830602",
   "metadata": {},
   "source": [
    "----"
   ]
  },
  {
   "cell_type": "markdown",
   "id": "57726872",
   "metadata": {},
   "source": [
    "## Двустронний протокол CHAP"
   ]
  },
  {
   "cell_type": "code",
   "execution_count": 19,
   "id": "75e1a7eb",
   "metadata": {},
   "outputs": [],
   "source": [
    "class ModifiedCHAPServer(object):\n",
    "    def __init__(self):\n",
    "        \"\"\"\n",
    "        Инициализация сервера. \n",
    "        Создается пустая база с пользователями. Задаются логин и пароль.\n",
    "        \"\"\"\n",
    "        \n",
    "        self._db = {}\n",
    "        self._server_login = 'Alice'\n",
    "        self._server_pass  = '1qazXSW@'\n",
    "    \n",
    "    \n",
    "    def register_user(self, login, password):\n",
    "        \"\"\"\n",
    "        Регистрация юзера. На вход получает логин и пароль.\n",
    "        Возвращает логин и пароль сервера (для регистрации на клиенте).\n",
    "        Выбрасывает исключение в случае наличия пользователя в базе\n",
    "        \"\"\"\n",
    "        \n",
    "        trace('[Modified CHAP Server]', f'Attempt to register user with credentials {login}:{password}')\n",
    "        \n",
    "        if login in self._db:\n",
    "            trace('[Modified CHAP Server]', 'User already exists')\n",
    "            raise ValueError(f'User {login} is already registered')\n",
    "            \n",
    "        #\n",
    "        # Запишу в базу\n",
    "        #\n",
    "        \n",
    "        self._db[login] = [password.encode(), None]\n",
    "        trace('[Modified CHAP Server]', f'User successfully registered')\n",
    "        \n",
    "        return self._server_login, self._server_pass\n",
    "        \n",
    "        \n",
    "    def login(self, login, response, client_challenge):\n",
    "        \"\"\"\n",
    "        Вход пользователя. На вход получает логин, хэш пароля с челленджем и челлендж клиента.\n",
    "        Возвращает логин сервера и хэш клиентского челледжа в случае успеха, None - иначе.\n",
    "        \"\"\"\n",
    "        \n",
    "        trace('[Modified CHAP Server]', f'''Attempt to login with: {login = },\n",
    "        response = {bytes_as_hex(response)}, \n",
    "        client_challenge = {bytes_as_hex(client_challenge)}''')\n",
    "        \n",
    "        if login not in self._db:\n",
    "            trace('[Modified CHAP Server]', \"User doesn't exist\")\n",
    "            return None\n",
    "        \n",
    "        #\n",
    "        # Пользователь есть, достану челлендж и обнулю\n",
    "        #\n",
    "        \n",
    "        challenge = self._db[login][1]\n",
    "        self._db[login][1] = None\n",
    "        \n",
    "        if challenge is None:\n",
    "            trace('[Modified CHAP Server]', f'No challenge was generated for {login = }')\n",
    "            return None\n",
    "        \n",
    "        #\n",
    "        # Рассчитаю хэш и сравню с респонсом\n",
    "        #\n",
    "        \n",
    "        challenge_hash = streebog_hash(challenge, self._db[login][0])\n",
    "        \n",
    "        trace('[Modified CHAP Server]', f'Calculated hash: {bytes_as_hex(challenge_hash)}')\n",
    "        trace('[Modified CHAP Server]', f'Received hash:   {bytes_as_hex(response)}')\n",
    "        \n",
    "        if challenge_hash != response:\n",
    "            return None\n",
    "        \n",
    "        #\n",
    "        # Теперь считаю хэш для челленджа клиента и возвращаю его\n",
    "        #\n",
    "        \n",
    "        client_challenge_hash = streebog_hash(client_challenge, self._server_pass.encode())\n",
    "        return self._server_login, client_challenge_hash\n",
    "    \n",
    "    \n",
    "    def generate_challenge(self, login):\n",
    "        \"\"\"\n",
    "        Генерация челленджа. На вход получает логин.\n",
    "        Возвращает случайный челлендж в случае успеха, None - иначе.\n",
    "        \"\"\"\n",
    "        \n",
    "        trace('[Modified CHAP Server]', f'Attempt to generate challege for: {login = }')\n",
    "        \n",
    "        if login not in self._db:\n",
    "            trace('[Modified CHAP Server]', \"User doesn't exist\")\n",
    "            return None\n",
    "        \n",
    "        #\n",
    "        # Если юзер есть в базе, то генерирую челлендж и сохраняю у себя\n",
    "        #\n",
    "        \n",
    "        challenge = get_random_bytes(16)\n",
    "        self._db[login][1] = challenge\n",
    "        \n",
    "        trace('[Modified CHAP Server]', f'Generated challenge = {bytes_as_hex(challenge)}')\n",
    "        return challenge"
   ]
  },
  {
   "cell_type": "code",
   "execution_count": 20,
   "id": "72246a12",
   "metadata": {},
   "outputs": [],
   "source": [
    "class ModifiedCHAPClient(object):\n",
    "    def __init__(self, login, password):\n",
    "        \"\"\"\n",
    "        Инициализация клиента. На вход получает логин и пароль.\n",
    "        Инициализируется пустая база серверов.\n",
    "        \"\"\"\n",
    "        \n",
    "        self._login  = login\n",
    "        self._passwd = password\n",
    "        \n",
    "        self._servers_db = {}\n",
    "        \n",
    "        trace('[Modified CHAP Client]', f'User with credentials {self._login}:{self._passwd} created')\n",
    "        \n",
    "        \n",
    "    def register(self, srv: ModifiedCHAPServer):\n",
    "        \"\"\"\n",
    "        Регистрация пользователя на сервере. На вход принимает дескриптор сервера.\n",
    "        \"\"\"\n",
    "        \n",
    "        try:\n",
    "            login, password = srv.register_user(self._login, self._passwd)\n",
    "            self._servers_db[login] = password\n",
    "        except Exception as e:\n",
    "            trace(e)\n",
    "    \n",
    "    \n",
    "    def login(self, srv: ModifiedCHAPServer):\n",
    "        \"\"\"\n",
    "        Вход пользователя на сервере. На вход принимает дескриптор сервера.\n",
    "        \"\"\"\n",
    "        \n",
    "        #\n",
    "        # Получаю челлендж с сервера\n",
    "        #\n",
    "        \n",
    "        srv_challenge = srv.generate_challenge(self._login)\n",
    "        if srv_challenge is None:\n",
    "            print('[Modified CHAP Client]', f'Wrong username or password')\n",
    "            return\n",
    "        \n",
    "        #\n",
    "        # Хэширую челлендж с паролем, генерирую свой и пытаюсь залогиниться\n",
    "        #\n",
    "        \n",
    "        response  = streebog_hash(srv_challenge, self._passwd.encode())\n",
    "        challenge = self.generate_challenge()\n",
    "        srv_data  = srv.login(self._login, response, challenge)\n",
    "        \n",
    "        if srv_data is not None:\n",
    "            srv_login, srv_response = srv_data\n",
    "            \n",
    "            if srv_login not in self._servers_db:\n",
    "                print('[Modified CHAP Client]', f'Server {srv_login} not registered')\n",
    "                return\n",
    "            \n",
    "            #\n",
    "            # Сервер есть в базе, сверяю хэши\n",
    "            #\n",
    "            \n",
    "            srv_challenge_hash = streebog_hash(challenge, self._servers_db[srv_login].encode())\n",
    "            \n",
    "            trace('[Modified CHAP Client]', f'Calculated hash: {bytes_as_hex(srv_challenge_hash)}')\n",
    "            trace('[Modified CHAP Client]', f'Received hash:   {bytes_as_hex(srv_response)}')\n",
    "            \n",
    "            if srv_challenge_hash == srv_response:\n",
    "                print('[Modified CHAP Client]', f'User {self._login} logged in successfully')\n",
    "            else:\n",
    "                print('[Modified CHAP Client]', f'Server {srv_login} is not authenticated')\n",
    "                \n",
    "            return\n",
    "        \n",
    "        print('[Modified CHAP Client]', f'Wrong username or password')\n",
    "        \n",
    "        \n",
    "    @staticmethod\n",
    "    def generate_challenge():\n",
    "        \"\"\"\n",
    "        Генерация челленджа.\n",
    "        Возвращает случайное число.\n",
    "        \"\"\"\n",
    "        \n",
    "        return get_random_bytes(16)"
   ]
  },
  {
   "cell_type": "markdown",
   "id": "c658e4b9",
   "metadata": {},
   "source": [
    "------"
   ]
  },
  {
   "cell_type": "code",
   "execution_count": 21,
   "id": "334ac670",
   "metadata": {},
   "outputs": [],
   "source": [
    "# Создаю сервер\n",
    "server = ModifiedCHAPServer()"
   ]
  },
  {
   "cell_type": "code",
   "execution_count": 22,
   "id": "e2ce0b4e",
   "metadata": {},
   "outputs": [
    {
     "name": "stdout",
     "output_type": "stream",
     "text": [
      "[TRACE] [Modified CHAP Client] User with credentials Alice:Trust_m3_0r_n0t created\n",
      "[TRACE] [Modified CHAP Client] User with credentials Alice:try_t0_gu3$$ created\n"
     ]
    }
   ],
   "source": [
    "# Теперь создаю двух юзеров: \n",
    "# - Алису - валидного пользователя\n",
    "# - Еву - пользователя, пытающегося представиться Алисой\n",
    "alice = ModifiedCHAPClient('Alice', 'Trust_m3_0r_n0t')\n",
    "eve = ModifiedCHAPClient('Alice', 'try_t0_gu3$$')"
   ]
  },
  {
   "cell_type": "code",
   "execution_count": 23,
   "id": "d4ecdc24",
   "metadata": {},
   "outputs": [
    {
     "name": "stdout",
     "output_type": "stream",
     "text": [
      "[TRACE] [Modified CHAP Server] Attempt to register user with credentials Alice:Trust_m3_0r_n0t\n",
      "[TRACE] [Modified CHAP Server] User successfully registered\n"
     ]
    }
   ],
   "source": [
    "# Регистрирую валидного пользователя\n",
    "alice.register(server)"
   ]
  },
  {
   "cell_type": "code",
   "execution_count": 24,
   "id": "f34f60f4",
   "metadata": {},
   "outputs": [
    {
     "name": "stdout",
     "output_type": "stream",
     "text": [
      "[TRACE] [Modified CHAP Server] Attempt to generate challege for: login = 'Alice'\n",
      "[TRACE] [Modified CHAP Server] Generated challenge = 0811d315969005e50ffa2c99102ad935\n",
      "[TRACE] [Modified CHAP Server] Attempt to login with: login = 'Alice',\n",
      "        response = a572b3c77d5919cd74a65d4b4e018ba0d27ae461ec9ac7b6cbfbe4890a952031, \n",
      "        client_challenge = eb6e5601822d0bb33de5cc5ab1d5a76e\n",
      "[TRACE] [Modified CHAP Server] Calculated hash: a572b3c77d5919cd74a65d4b4e018ba0d27ae461ec9ac7b6cbfbe4890a952031\n",
      "[TRACE] [Modified CHAP Server] Received hash:   a572b3c77d5919cd74a65d4b4e018ba0d27ae461ec9ac7b6cbfbe4890a952031\n",
      "[TRACE] [Modified CHAP Client] Calculated hash: ebd50e302eb2b098d7c72c1b35d095218ef1f86da3f3bec83d40eeaeb28aa59e\n",
      "[TRACE] [Modified CHAP Client] Received hash:   ebd50e302eb2b098d7c72c1b35d095218ef1f86da3f3bec83d40eeaeb28aa59e\n",
      "[Modified CHAP Client] User Alice logged in successfully\n"
     ]
    }
   ],
   "source": [
    "# Захожу под кредами валидного пользователя\n",
    "alice.login(server)"
   ]
  },
  {
   "cell_type": "code",
   "execution_count": 25,
   "id": "94b3502f",
   "metadata": {},
   "outputs": [
    {
     "name": "stdout",
     "output_type": "stream",
     "text": [
      "[TRACE] [Modified CHAP Server] Attempt to generate challege for: login = 'Alice'\n",
      "[TRACE] [Modified CHAP Server] Generated challenge = 4d3fdcd5ad9c2d6266f3f615078d7a32\n",
      "[TRACE] [Modified CHAP Server] Attempt to login with: login = 'Alice',\n",
      "        response = 9a1e93883410afddf1a77f8bc56f4f8781845db4f0b21547f645cf1d5319f180, \n",
      "        client_challenge = 876daf4dcd1fe70b15c1abcd4510985a\n",
      "[TRACE] [Modified CHAP Server] Calculated hash: c32c6ab1e9e23007d3753b941a9cec13f754a80034c602cdac1f55d720db0525\n",
      "[TRACE] [Modified CHAP Server] Received hash:   9a1e93883410afddf1a77f8bc56f4f8781845db4f0b21547f645cf1d5319f180\n",
      "[Modified CHAP Client] Wrong username or password\n"
     ]
    }
   ],
   "source": [
    "# Пытаюсь зайти под неправильными кредами\n",
    "eve.login(server)"
   ]
  },
  {
   "cell_type": "markdown",
   "id": "eb15de91",
   "metadata": {},
   "source": [
    "----"
   ]
  },
  {
   "cell_type": "markdown",
   "id": "9c2993d4",
   "metadata": {},
   "source": [
    "## Протокол S/KEY\n",
    "![S/KEY Protocol](../images/SKEY_1.png)"
   ]
  },
  {
   "cell_type": "markdown",
   "id": "ee66613e",
   "metadata": {},
   "source": [
    "Соответствие между описанием и кодом:\n",
    "- значение R именуется солью (salt);\n",
    "- значение K именуется ключом (key);\n",
    "- значение I именуется номером транзации (transaction number);\n",
    "- значение N именуется количеством раундов (`SKEYClient.ROUNDS`).\n",
    "\n",
    "----"
   ]
  },
  {
   "cell_type": "code",
   "execution_count": 26,
   "id": "38c8b378",
   "metadata": {},
   "outputs": [],
   "source": [
    "def generate_passwords(key, salt, number_of_passwords):\n",
    "    \"\"\"\n",
    "    Генерирует последовательность паролей по ключу и соли в заданном количестве штук.\n",
    "    Возвращает список паролей.\n",
    "    \"\"\"\n",
    "    \n",
    "    result = []\n",
    "    intermediate = key + salt\n",
    "    \n",
    "    for _ in range(SKEYClient.ROUNDS):\n",
    "        intermediate = streebog_hash(intermediate)\n",
    "        result.append(intermediate)\n",
    "        \n",
    "    return result"
   ]
  },
  {
   "cell_type": "markdown",
   "id": "1b561b2a",
   "metadata": {},
   "source": [
    "----"
   ]
  },
  {
   "cell_type": "code",
   "execution_count": 27,
   "id": "c94939a0",
   "metadata": {},
   "outputs": [],
   "source": [
    "class SKEYServer(object):\n",
    "    def __init__(self, rounds):\n",
    "        \"\"\"\n",
    "        Инициализация сервера. \n",
    "        Создается пустая база с пользователями. Задается количество итераций.\n",
    "        \"\"\"\n",
    "        \n",
    "        self._db = {}  # { login: [key, transaction_number, salt, passwords, current_password]}\n",
    "        self._rounds = rounds\n",
    "        \n",
    "        \n",
    "    def register_user(self, login, key):\n",
    "        \"\"\"\n",
    "        Регистрация юзера. На вход получает логин и ключ.\n",
    "        Возвращает соль для этого клиента.\n",
    "        Выбрасывает исключение в случае наличия пользователя в базе\n",
    "        \"\"\"\n",
    "        \n",
    "        trace('[S/KEY Server]', f'Attempt to register user {login} with key {bytes_as_hex(key)}')\n",
    "        \n",
    "        if login in self._db:\n",
    "            trace('[S/KEY Server]', 'User already exists')\n",
    "            raise ValueError(f'User {login} is already registered')\n",
    "            \n",
    "        self._db[login] = [key, 1, None, [], None]\n",
    "        salt = self.update_salt(login)\n",
    "        \n",
    "        trace('[S/KEY Server]', f'User successfully registered')\n",
    "        return salt\n",
    "    \n",
    "    \n",
    "    def login(self, login, nth_password):\n",
    "        \"\"\"\n",
    "        Вход пользователя. На вход получает логин и сессионный пароль.\n",
    "        Возвращает 1 в случае успеха, 0 в случае необходимости в \n",
    "        следующий раз обновить соль, -1 - иначе.\n",
    "        \"\"\"\n",
    "        \n",
    "        trace('[S/KEY Server]', f'''Attempt to login with: {login = },\n",
    "        nth_password = {bytes_as_hex(nth_password)}''')\n",
    "        \n",
    "        if login not in self._db:\n",
    "            trace('[S/KEY Server]', \"User doesn't exist\")\n",
    "            return -1\n",
    "        \n",
    "        #\n",
    "        # Если пользователь есть, а пароль верный, то инкременирую счетчик\n",
    "        # и успешно возвращаю управление. Иначе - просто отдаю управление.\n",
    "        #\n",
    "        \n",
    "        if nth_password != self._db[login][4]:\n",
    "            return -1\n",
    "        \n",
    "        new_transaction_number = self._increment_transaction_number(login)\n",
    "        if -1 == new_transaction_number:\n",
    "            return 0\n",
    "        \n",
    "        self._db[login][4] = self._db[login][3][-new_transaction_number]\n",
    "        return 1\n",
    "    \n",
    "    \n",
    "    def get_transaction_number(self, login):\n",
    "        \"\"\"\n",
    "        Возвращает номер транзации для заданного пользователя \n",
    "        или None, если такого пользователя нет.\n",
    "        \"\"\"\n",
    "        \n",
    "        trace('[S/KEY Server]', f'Attempt to get transaction number for: {login = }')\n",
    "        \n",
    "        if login not in self._db:\n",
    "            trace('[S/KEY Server]', \"User doesn't exist\")\n",
    "            return None\n",
    "              \n",
    "        return self._db[login][1]\n",
    "    \n",
    "    \n",
    "    def update_salt(self, login):\n",
    "        \"\"\"\n",
    "        Обновление соли для пользователя. Проверки существования пользователя\n",
    "        не производятся, так как предполагается, что метод будет вызываться\n",
    "        только для уже существующего пользователя.\n",
    "        \"\"\"\n",
    "        \n",
    "        trace('[S/KEY Server]', f'Attempt to generate salt for {login = }')\n",
    "        \n",
    "        self._generate_salt_and_passwords(login)\n",
    "        self._db[login][1] = 1\n",
    "        \n",
    "        trace('[S/KEY Server]', f'Salt for user {login} successfully updated')\n",
    "        return self._db[login][2]\n",
    "    \n",
    "    \n",
    "    def _generate_salt_and_passwords(self, login):\n",
    "        \"\"\"\n",
    "        Генерирует соль для пользователя и последовательность паролей.\n",
    "        Проверки существования пользователя не производятся, так как \n",
    "        предполагается, что метод будет вызываться только для уже \n",
    "        существующего пользователя.\n",
    "        На вход принимает логин.\n",
    "        Возвращает соль.\n",
    "        \"\"\"\n",
    "        \n",
    "        salt = get_random_bytes(16)\n",
    "        self._db[login][2] = salt\n",
    "        \n",
    "        trace('[S/KEY Server]', f'Generated salt = {bytes_as_hex(salt)}')\n",
    "        self._db[login][3] = generate_passwords(self._db[login][0], self._db[login][2], self._rounds)\n",
    "        self._db[login][4] = self._db[login][3][-1]\n",
    "        \n",
    "        trace('[S/KEY Server]', 'Passords generated')\n",
    "        return salt\n",
    "    \n",
    "    \n",
    "    def _increment_transaction_number(self, login):\n",
    "        \"\"\"\n",
    "        Инкрементирует счетчик для заданного пользователя.\n",
    "        Возвращает новое значение счетчика или -1, если необходима смена соли.\n",
    "        \"\"\"\n",
    "        \n",
    "        self._db[login][1] += 1\n",
    "        \n",
    "        if self._db[login][1] > self._rounds:\n",
    "            trace('[S/KEY Server]', 'Passwords number exceeded')\n",
    "            return -1\n",
    "            \n",
    "        return self._db[login][1]"
   ]
  },
  {
   "cell_type": "code",
   "execution_count": 28,
   "id": "773c63af",
   "metadata": {},
   "outputs": [],
   "source": [
    "class SKEYClient(object):\n",
    "    ROUNDS = 2\n",
    "    \n",
    "    def __init__(self, login, key):\n",
    "        \"\"\"\n",
    "        Инициализация клиента. На вход получает логин и ключ.\n",
    "        Инициализируется пустые соль и список паролей.\n",
    "        \"\"\"\n",
    "        \n",
    "        self._login = login\n",
    "        self._key = key\n",
    "        self._salt = None\n",
    "        self._passwords = []\n",
    "        \n",
    "        trace('[S/KEY Client]', f'User {self._login} created, key = {bytes_as_hex(key)}')\n",
    "        \n",
    "        \n",
    "    def register(self, server: SKEYServer):\n",
    "        \"\"\"\n",
    "        Регистрация пользователя на сервере. На вход принимает дескриптор сервера.\n",
    "        \"\"\"\n",
    "        \n",
    "        try:\n",
    "            salt = server.register_user(self._login, self._key)\n",
    "            self._passwords = generate_passwords(self._key, salt, SKEYClient.ROUNDS)\n",
    "            \n",
    "            trace('[S/KEY Client]', 'Passwords generated')\n",
    "        except Exception as e:\n",
    "            trace(e)\n",
    "    \n",
    "    \n",
    "    def login(self, server: SKEYServer):\n",
    "        \"\"\"\n",
    "        Вход пользователя на сервере. На вход принимает дескриптор сервера.\n",
    "        \"\"\"\n",
    "        \n",
    "        transaction_number = server.get_transaction_number(self._login)\n",
    "        if transaction_number is None:\n",
    "            print('[S/KEY Client]', f'Wrong username or password')\n",
    "            return\n",
    "            \n",
    "        trace('[S/KEY Client]', f'Transaction number {transaction_number}')\n",
    "        \n",
    "        login_result = server.login(self._login, self._passwords[-transaction_number])\n",
    "        if login_result == 1:\n",
    "            print('[S/KEY Client]', f'User {self._login} logged in successfully')\n",
    "            \n",
    "        elif login_result == 0:\n",
    "            print('[S/KEY Client]', f'User {self._login} logged in successfully')\n",
    "            \n",
    "            new_salt = server.update_salt(self._login)\n",
    "            self._passwords = generate_passwords(self._key, new_salt, SKEYClient.ROUNDS)\n",
    "            trace('[S/KEY Client]', f'Salt updated successfully')\n",
    "        else:\n",
    "            print('[S/KEY Client]', f'Wrong username or password')\n",
    "    "
   ]
  },
  {
   "cell_type": "markdown",
   "id": "31783b03",
   "metadata": {},
   "source": [
    "----"
   ]
  },
  {
   "cell_type": "code",
   "execution_count": 29,
   "id": "61cf39e3",
   "metadata": {},
   "outputs": [],
   "source": [
    "# Создаю сервер\n",
    "server = SKEYServer(SKEYClient.ROUNDS)"
   ]
  },
  {
   "cell_type": "code",
   "execution_count": 30,
   "id": "3515bb88",
   "metadata": {},
   "outputs": [
    {
     "data": {
      "text/plain": [
       "'93d56e0c5a7a7d81f7659bacd24e1cfa'"
      ]
     },
     "execution_count": 30,
     "metadata": {},
     "output_type": "execute_result"
    }
   ],
   "source": [
    "# Создаю случайный ключ (ну можно и фиксированный для \n",
    "# демонстрации, но пусть будет случайным)\n",
    "key = get_random_bytes(16)\n",
    "bytes_as_hex(key)"
   ]
  },
  {
   "cell_type": "code",
   "execution_count": 31,
   "id": "b4b84381",
   "metadata": {},
   "outputs": [
    {
     "name": "stdout",
     "output_type": "stream",
     "text": [
      "[TRACE] [S/KEY Client] User Alice created, key = 93d56e0c5a7a7d81f7659bacd24e1cfa\n",
      "[TRACE] [S/KEY Client] User Alice created, key = 556e6b6e6f776e206b6579\n"
     ]
    }
   ],
   "source": [
    "# Теперь создаю двух юзеров: \n",
    "# - Алису - валидного пользователя\n",
    "# - Еву - пользователя, пытающегося представиться Алисой\n",
    "alice = SKEYClient('Alice', key)\n",
    "eve = SKEYClient('Alice', b'Unknown key')"
   ]
  },
  {
   "cell_type": "code",
   "execution_count": 32,
   "id": "bc330a51",
   "metadata": {},
   "outputs": [
    {
     "name": "stdout",
     "output_type": "stream",
     "text": [
      "[TRACE] [S/KEY Server] Attempt to register user Alice with key 93d56e0c5a7a7d81f7659bacd24e1cfa\n",
      "[TRACE] [S/KEY Server] Attempt to generate salt for login = 'Alice'\n",
      "[TRACE] [S/KEY Server] Generated salt = f92ff10ebe4e905fdc50b200588857ba\n",
      "[TRACE] [S/KEY Server] Passords generated\n",
      "[TRACE] [S/KEY Server] Salt for user Alice successfully updated\n",
      "[TRACE] [S/KEY Server] User successfully registered\n",
      "[TRACE] [S/KEY Client] Passwords generated\n"
     ]
    }
   ],
   "source": [
    "# Регистрирую пользователя\n",
    "alice.register(server)"
   ]
  },
  {
   "cell_type": "code",
   "execution_count": 33,
   "id": "ff84484f",
   "metadata": {},
   "outputs": [
    {
     "name": "stdout",
     "output_type": "stream",
     "text": [
      "[TRACE] [S/KEY Server] Attempt to get transaction number for: login = 'Alice'\n",
      "[TRACE] [S/KEY Client] Transaction number 1\n",
      "[TRACE] [S/KEY Server] Attempt to login with: login = 'Alice',\n",
      "        nth_password = 280557efc84a9d0f1c284fb79d4da5b71efb134cdbfee0a34e146371ff9bc4c4\n",
      "[S/KEY Client] User Alice logged in successfully\n"
     ]
    }
   ],
   "source": [
    "# Захожу под кредами пользователя\n",
    "alice.login(server)"
   ]
  },
  {
   "cell_type": "code",
   "execution_count": 34,
   "id": "98bf94c9",
   "metadata": {},
   "outputs": [
    {
     "name": "stdout",
     "output_type": "stream",
     "text": [
      "[TRACE] [S/KEY Server] Attempt to get transaction number for: login = 'Alice'\n",
      "[TRACE] [S/KEY Client] Transaction number 2\n",
      "[TRACE] [S/KEY Server] Attempt to login with: login = 'Alice',\n",
      "        nth_password = d546cc2ee48ee95fc9a837867975238ba953894e65a7aa8fd5807a88abc385b3\n",
      "[TRACE] [S/KEY Server] Passwords number exceeded\n",
      "[S/KEY Client] User Alice logged in successfully\n",
      "[TRACE] [S/KEY Server] Attempt to generate salt for login = 'Alice'\n",
      "[TRACE] [S/KEY Server] Generated salt = 5e6dfb4a20ba30450a084b052adc77d9\n",
      "[TRACE] [S/KEY Server] Passords generated\n",
      "[TRACE] [S/KEY Server] Salt for user Alice successfully updated\n",
      "[TRACE] [S/KEY Client] Salt updated successfully\n"
     ]
    }
   ],
   "source": [
    "# И еще раз, тут должна произойти последняя попытка\n",
    "# аутентификации и, как следствие, обновление соли автоматическое\n",
    "alice.login(server)"
   ]
  },
  {
   "cell_type": "code",
   "execution_count": 35,
   "id": "ac1673df",
   "metadata": {},
   "outputs": [
    {
     "name": "stdout",
     "output_type": "stream",
     "text": [
      "[TRACE] [S/KEY Server] Attempt to get transaction number for: login = 'Alice'\n",
      "[TRACE] [S/KEY Client] Transaction number 1\n",
      "[TRACE] [S/KEY Server] Attempt to login with: login = 'Alice',\n",
      "        nth_password = db8f7f3b64bba1899ac15b32fb5ba31cfba1d28a499ba8ea76c864d4549e5335\n",
      "[S/KEY Client] User Alice logged in successfully\n"
     ]
    }
   ],
   "source": [
    "# И еще раз логинимся. Соль должна быть уже другой.\n",
    "alice.login(server)"
   ]
  },
  {
   "cell_type": "code",
   "execution_count": 36,
   "id": "1e74729a",
   "metadata": {},
   "outputs": [
    {
     "name": "stdout",
     "output_type": "stream",
     "text": [
      "[TRACE] [S/KEY Server] Attempt to get transaction number for: login = 'Alice'\n",
      "[TRACE] [S/KEY Client] Transaction number 2\n",
      "[TRACE] [S/KEY Server] Attempt to login with: login = 'Alice',\n",
      "        nth_password = ef7703077dfc9e62ca89d8ab53d3826a6f7927d6e26c35e79f27dfb12a216ff7\n",
      "[S/KEY Client] Wrong username or password\n"
     ]
    }
   ],
   "source": [
    "# А теперь попробую залогиниться невалидным пользователем\n",
    "# Ева не знает ключа, соответственно пароли генерятся на основе\n",
    "# неизвестного ключа (и соль в данном случае неизвестна)\n",
    "eve._passwords = generate_passwords(eve._key, b'\\x00', SKEYClient.ROUNDS)\n",
    "eve.login(server)"
   ]
  },
  {
   "cell_type": "code",
   "execution_count": null,
   "id": "7e60a71d",
   "metadata": {},
   "outputs": [],
   "source": []
  }
 ],
 "metadata": {
  "kernelspec": {
   "display_name": "SageMath 9.5",
   "language": "sage",
   "name": "sagemath-9.5"
  },
  "language_info": {
   "codemirror_mode": {
    "name": "ipython",
    "version": 3
   },
   "file_extension": ".py",
   "mimetype": "text/x-python",
   "name": "python",
   "nbconvert_exporter": "python",
   "pygments_lexer": "ipython3",
   "version": "3.9.9"
  }
 },
 "nbformat": 4,
 "nbformat_minor": 5
}
