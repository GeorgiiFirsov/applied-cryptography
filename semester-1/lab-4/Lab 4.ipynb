{
 "cells": [
  {
   "cell_type": "markdown",
   "id": "1841d78e",
   "metadata": {},
   "source": [
    "# Протоколы обмена ключами"
   ]
  },
  {
   "cell_type": "code",
   "execution_count": 1,
   "id": "645828de",
   "metadata": {},
   "outputs": [],
   "source": [
    "IS_DEBUG = 1"
   ]
  },
  {
   "cell_type": "code",
   "execution_count": 2,
   "id": "f18f7d6a",
   "metadata": {},
   "outputs": [],
   "source": [
    "def trace(*args, **kwargs):\n",
    "    \"\"\"\n",
    "    Отладочная трассировка\n",
    "    \"\"\"\n",
    "    \n",
    "    global IS_DEBUG\n",
    "    if IS_DEBUG:\n",
    "        print('[TRACE]', end=' ')\n",
    "        print(*args, **kwargs)"
   ]
  },
  {
   "cell_type": "code",
   "execution_count": 3,
   "id": "0ffb0eba",
   "metadata": {},
   "outputs": [],
   "source": [
    "def bytes_as_hex(b: bytes) -> str:\n",
    "    \"\"\"\n",
    "    Перевод бинарных данных в hex-строчку\n",
    "    \"\"\"\n",
    "    \n",
    "    return binascii.hexlify(b).decode()"
   ]
  },
  {
   "cell_type": "code",
   "execution_count": 4,
   "id": "c30d54e6",
   "metadata": {},
   "outputs": [],
   "source": [
    "def randint(a, b):\n",
    "    \"\"\"\n",
    "    Генерация слуайного числа среди заданных.\n",
    "    \"\"\"\n",
    "    \n",
    "    native_a = int(a)\n",
    "    native_b = int(b)\n",
    "    return gmpy2.mpz(random.randint(native_a, native_b))"
   ]
  },
  {
   "cell_type": "markdown",
   "id": "b2f83703",
   "metadata": {},
   "source": [
    "----"
   ]
  },
  {
   "cell_type": "code",
   "execution_count": 5,
   "id": "6aab8af0",
   "metadata": {},
   "outputs": [],
   "source": [
    "# Генерация простых чисел и КГПСЧ\n",
    "from Crypto.Util.number import getStrongPrime\n",
    "from Crypto.Random import random\n",
    "\n",
    "# HKDF и то, что надо для нее\n",
    "from Crypto.Protocol.KDF import HKDF\n",
    "from Crypto.Hash import SHA512\n",
    "\n",
    "# Подпись и шифрование\n",
    "from Crypto.PublicKey import RSA\n",
    "from Crypto.Signature import pss\n",
    "from Crypto.Cipher import AES\n",
    "\n",
    "# Математическая библиотека\n",
    "import gmpy2\n",
    "\n",
    "# Для генерации идентификаторов\n",
    "import uuid\n",
    "\n",
    "# Утилитки\n",
    "from Crypto.Util.number import long_to_bytes\n",
    "import binascii"
   ]
  },
  {
   "cell_type": "markdown",
   "id": "4b749a4d",
   "metadata": {},
   "source": [
    "----"
   ]
  },
  {
   "cell_type": "markdown",
   "id": "51ad824e",
   "metadata": {},
   "source": [
    "## Протокол Диффи-Хеллмана\n",
    "![Diffe-Hellman Protocol](../images/Diffie-Hellman_4.png)"
   ]
  },
  {
   "cell_type": "code",
   "execution_count": 6,
   "id": "2a2288bd",
   "metadata": {},
   "outputs": [],
   "source": [
    "class DiffieHellmanParams(object):\n",
    "    def __init__(self, prime_bits: int = 512):\n",
    "        \"\"\"\n",
    "        Генерация параметров протокола - простого числа и генератора.\n",
    "        \"\"\"\n",
    "        \n",
    "        self._p = gmpy2.mpz(getStrongPrime(prime_bits))\n",
    "        self._g = randint(2, self._p - 2)\n",
    "        \n",
    "        trace('[DiffieHellmanParams]', f'p = {self._p}, g = {self._g}')\n",
    "        \n",
    "        \n",
    "    @property\n",
    "    def prime(self) -> int:\n",
    "        \"\"\"\n",
    "        Получение простого числе - модуля.\n",
    "        \"\"\"\n",
    "        \n",
    "        return self._p\n",
    "    \n",
    "    \n",
    "    @property\n",
    "    def generator(self) -> int:\n",
    "        \"\"\"\n",
    "        Получение генератора.\n",
    "        \"\"\"\n",
    "        \n",
    "        return self._g"
   ]
  },
  {
   "cell_type": "code",
   "execution_count": 7,
   "id": "9ec35c0c",
   "metadata": {},
   "outputs": [],
   "source": [
    "class DiffieHellmanUser(object):\n",
    "    KEY_LENGTH = 32\n",
    "    HKDF_DUMMY_STUFF = b'\\x00' * 16\n",
    "    \n",
    "    def __init__(self, params: DiffieHellmanParams, \n",
    "                 use_another_value: bool = False):\n",
    "        \"\"\"\n",
    "        Инициализация клиента: генерация идентификатора,\n",
    "        сохранение параметров протокола.\n",
    "        Последний параметр служит для демонстрации неуспешного выполнения.\n",
    "        \"\"\"\n",
    "        \n",
    "        self._p = params.prime\n",
    "        self._g = params.generator\n",
    "        self._id = uuid.uuid4()\n",
    "        self._key = None\n",
    "        self._sabotage = use_another_value\n",
    "        \n",
    "        trace('[DiffieHellmanUser]', f'client {self._id} created')\n",
    "    \n",
    "    \n",
    "    def initiate_key_exchange(self, another_client):\n",
    "        \"\"\"\n",
    "        Инициирование протокола обмена ключами.\n",
    "        \"\"\"\n",
    "        \n",
    "        #\n",
    "        # Генерирую х, отправляю другому пользователю\n",
    "        # Получаю от него g ** y mod p\n",
    "        #\n",
    "        \n",
    "        x = self._generate_group_element()\n",
    "        trace('[DiffieHellmanUser]', f'[{self._id}]', f'{x = }')\n",
    "        \n",
    "        intermediate_value = another_client._accept_key_exchange(gmpy2.powmod(self._g, x, self._p))\n",
    "        \n",
    "        #\n",
    "        # Если требуют неудачную попытку, то подменю x\n",
    "        # Это как бы незнание изначального значения - попытка угадать\n",
    "        #\n",
    "        \n",
    "        if self._sabotage:\n",
    "            x = self._generate_group_element()\n",
    "            trace('[DiffieHellmanUser]', f'[{self._id}]', f'guessed {x = }')\n",
    "        \n",
    "        #\n",
    "        # Вывожу ключ\n",
    "        #\n",
    "        \n",
    "        self._key = HKDF(DiffieHellmanUser.HKDF_DUMMY_STUFF, \n",
    "                         DiffieHellmanUser.KEY_LENGTH, \n",
    "                         long_to_bytes(int(gmpy2.powmod(intermediate_value, x, self._p))), \n",
    "                         SHA512, \n",
    "                         1)\n",
    "        \n",
    "        trace('[DiffieHellmanUser]', f'[{self._id}]', f'derived key: {bytes_as_hex(self._key)}')\n",
    "        \n",
    "        \n",
    "    def _accept_key_exchange(self, intermediate_value) -> int:\n",
    "        #\n",
    "        # Получаю g ** x mod p, генерирую у\n",
    "        #\n",
    "        \n",
    "        y = self._generate_group_element()\n",
    "        trace('[DiffieHellmanUser]', f'[{self._id}]', f'{y = }')\n",
    "        \n",
    "        #\n",
    "        # Вывожу ключ\n",
    "        #\n",
    "        \n",
    "        self._key = HKDF(DiffieHellmanUser.HKDF_DUMMY_STUFF, \n",
    "                         DiffieHellmanUser.KEY_LENGTH, \n",
    "                         long_to_bytes(int(gmpy2.powmod(intermediate_value, y, self._p))), \n",
    "                         SHA512, \n",
    "                         1)\n",
    "        \n",
    "        trace('[DiffieHellmanUser]', f'[{self._id}]', f'derived key: {bytes_as_hex(self._key)}')\n",
    "        \n",
    "        return gmpy2.powmod(self._g, y, self._p)\n",
    "    \n",
    "    \n",
    "    def _generate_group_element(self) -> int:\n",
    "        return randint(1, self._p - 2)"
   ]
  },
  {
   "cell_type": "markdown",
   "id": "ce5482ac",
   "metadata": {},
   "source": [
    "----"
   ]
  },
  {
   "cell_type": "code",
   "execution_count": 8,
   "id": "3dd565e3",
   "metadata": {},
   "outputs": [
    {
     "name": "stdout",
     "output_type": "stream",
     "text": [
      "[TRACE] [DiffieHellmanParams] p = 11570882813530857704180896782888963760237046712218473278382541378089083982087924496784422297987452167720042313605386970475236342306527558033575371353626157, g = 1583951512341288715042350328286573762588662743852426020893835029226960028040123591080319069454146136215884725045217890704623520125807019498653756239607556\n"
     ]
    }
   ],
   "source": [
    "# Параметры протокола\n",
    "params = DiffieHellmanParams()"
   ]
  },
  {
   "cell_type": "code",
   "execution_count": 9,
   "id": "549f2efa",
   "metadata": {},
   "outputs": [
    {
     "name": "stdout",
     "output_type": "stream",
     "text": [
      "[TRACE] [DiffieHellmanUser] client 9ed4084c-a105-491c-aca3-586d3c3fedad created\n",
      "[TRACE] [DiffieHellmanUser] client d8025159-d186-4da4-ac4b-42e0fe3d1d0f created\n"
     ]
    }
   ],
   "source": [
    "# Два хороших пользователя\n",
    "alice = DiffieHellmanUser(params)\n",
    "bob   = DiffieHellmanUser(params)"
   ]
  },
  {
   "cell_type": "code",
   "execution_count": 10,
   "id": "d47667eb",
   "metadata": {},
   "outputs": [
    {
     "name": "stdout",
     "output_type": "stream",
     "text": [
      "[TRACE] [DiffieHellmanUser] [9ed4084c-a105-491c-aca3-586d3c3fedad] x = mpz(2003856994444373277212620039125739426671271905180875972477183449880647423818369127463695984460284084064091724702339052194391276546648877657650548784020198)\n",
      "[TRACE] [DiffieHellmanUser] [d8025159-d186-4da4-ac4b-42e0fe3d1d0f] y = mpz(3551519858771118737120761768711551620838161983058102779387742222402701260611171424107451839534270475997599445057456094492388300892813513085384189652585909)\n",
      "[TRACE] [DiffieHellmanUser] [d8025159-d186-4da4-ac4b-42e0fe3d1d0f] derived key: 393e0212365a3db3ea61d251fc7abe07e6e4966994fa4b29c05f122f7ce275f9\n",
      "[TRACE] [DiffieHellmanUser] [9ed4084c-a105-491c-aca3-586d3c3fedad] derived key: 393e0212365a3db3ea61d251fc7abe07e6e4966994fa4b29c05f122f7ce275f9\n"
     ]
    }
   ],
   "source": [
    "# Ключ получается установить успешно\n",
    "alice.initiate_key_exchange(bob)"
   ]
  },
  {
   "cell_type": "code",
   "execution_count": 11,
   "id": "8f9bf653",
   "metadata": {},
   "outputs": [
    {
     "name": "stdout",
     "output_type": "stream",
     "text": [
      "[TRACE] [DiffieHellmanUser] client a79c50ae-7a64-4987-94cd-5fb2c1747fc9 created\n"
     ]
    }
   ],
   "source": [
    "# Теперь врага создам\n",
    "mallory = DiffieHellmanUser(params, True)"
   ]
  },
  {
   "cell_type": "code",
   "execution_count": 12,
   "id": "66d63760",
   "metadata": {},
   "outputs": [
    {
     "name": "stdout",
     "output_type": "stream",
     "text": [
      "[TRACE] [DiffieHellmanUser] [a79c50ae-7a64-4987-94cd-5fb2c1747fc9] x = mpz(8491712841675714512865082583920757444812946469480056678170299142961983887175392505560129019566103236800268772677498974136351891036603116252964782088261714)\n",
      "[TRACE] [DiffieHellmanUser] [d8025159-d186-4da4-ac4b-42e0fe3d1d0f] y = mpz(5848020088349095087009290764529945612109793856159691638042572188890560782369314425082455343586577427857015105362962063949174394018769825545320386517318523)\n",
      "[TRACE] [DiffieHellmanUser] [d8025159-d186-4da4-ac4b-42e0fe3d1d0f] derived key: 8d3a2a9f20d0d5753a6e3bc4bbebd4f524751da187b855efce62c6a946a80a4b\n",
      "[TRACE] [DiffieHellmanUser] [a79c50ae-7a64-4987-94cd-5fb2c1747fc9] guessed x = mpz(3772922741610994095902410973831460216790114414325105214028458077512006221559659403300341092896925884979060114631171640396221924196954373040148519527905082)\n",
      "[TRACE] [DiffieHellmanUser] [a79c50ae-7a64-4987-94cd-5fb2c1747fc9] derived key: f18b8765c6df2fd76b4b40aad877917c7ba608d336e574905b8a4407f054b6cb\n"
     ]
    }
   ],
   "source": [
    "# Внедрившись в исполняющийся протокол, врагу не достается правильный ключ\n",
    "mallory.initiate_key_exchange(bob)"
   ]
  },
  {
   "cell_type": "markdown",
   "id": "8e3d063e",
   "metadata": {},
   "source": [
    "----\n",
    "## Протокол MTI\n",
    "![Diffe-Hellman Protocol](../images/MTI_4.png)"
   ]
  },
  {
   "cell_type": "code",
   "execution_count": 13,
   "id": "e2ef16d8",
   "metadata": {},
   "outputs": [],
   "source": [
    "class MTIParams(object):\n",
    "    def __init__(self, prime_bits):\n",
    "        \"\"\"\n",
    "        Генерация параметров протокола - простого числа и генератора.\n",
    "        \"\"\"\n",
    "        \n",
    "        self._p = gmpy2.mpz(getStrongPrime(prime_bits))\n",
    "        self._g = randint(2, self._p - 2)\n",
    "        \n",
    "        trace('[MTIParams]', f'p = {self._p}, g = {self._g}')\n",
    "        \n",
    "        \n",
    "    @property\n",
    "    def prime(self) -> int:\n",
    "        \"\"\"\n",
    "        Получение простого числе - модуля.\n",
    "        \"\"\"\n",
    "        \n",
    "        return self._p\n",
    "    \n",
    "    \n",
    "    @property\n",
    "    def generator(self) -> int:\n",
    "        \"\"\"\n",
    "        Получение генератора.\n",
    "        \"\"\"\n",
    "        \n",
    "        return self._g"
   ]
  },
  {
   "cell_type": "code",
   "execution_count": 14,
   "id": "d7571eea",
   "metadata": {},
   "outputs": [],
   "source": [
    "class MTIUser(object):\n",
    "    KEY_LENGTH = 32\n",
    "    HKDF_DUMMY_STUFF = b'\\x00' * 16\n",
    "    \n",
    "    def __init__(self, params: MTIParams, *,\n",
    "                 fake_data: gmpy2.mpz = None):\n",
    "        \"\"\"\n",
    "        Инициализация клиента: генерация идентификатора,\n",
    "        сохранение параметров протокола, генерация ключевой пары.\n",
    "        Последний параметр служит для демонстрации неуспешного выполнения.\n",
    "        \"\"\"\n",
    "        \n",
    "        self._p = params.prime\n",
    "        self._g = params.generator\n",
    "        self._id = uuid.uuid4()\n",
    "        self._key = None\n",
    "        \n",
    "        self._private_key = self._generate_group_element()\n",
    "        self._public_key  = gmpy2.powmod(self._g, self._private_key, self._p) if fake_data is None else fake_data\n",
    "        \n",
    "        trace('[MTIUser]', f'client {self._id} created. PK = {self._public_key}, SK = {self._private_key}')\n",
    "        \n",
    "        \n",
    "    def initiate_key_exchange(self, another_client):\n",
    "        \"\"\"\n",
    "        Инициирование протокола обмена ключами.\n",
    "        \"\"\"\n",
    "        \n",
    "        #\n",
    "        # Генерирую х, вычисляю g ** x mod p\n",
    "        #\n",
    "        \n",
    "        x = self._generate_group_element()\n",
    "        m = gmpy2.powmod(self._g, x, self._p)\n",
    "        \n",
    "        trace('[MTIUser]', f'[{self._id}]', f'{x = }, {m = }')\n",
    "        \n",
    "        #\n",
    "        # Отправляю другому клиенту и получаю от него g ** y mod p\n",
    "        #\n",
    "        \n",
    "        intermediate_value = another_client._accept_key_exchange(m, self.public_key)\n",
    "        \n",
    "        #\n",
    "        # Вывожу ключ\n",
    "        #\n",
    "        \n",
    "        product = gmpy2.powmod(another_client.public_key, x, self._p) * \\\n",
    "            gmpy2.powmod(intermediate_value, self._private_key, self._p)\n",
    "        \n",
    "        self._key = HKDF(DiffieHellmanUser.HKDF_DUMMY_STUFF, \n",
    "                         DiffieHellmanUser.KEY_LENGTH, \n",
    "                         long_to_bytes(int(gmpy2.t_mod(product, self._p))), \n",
    "                         SHA512, \n",
    "                         1)\n",
    "        \n",
    "        trace('[MTIUser]', f'[{self._id}]', f'derived key: {bytes_as_hex(self._key)}')\n",
    "    \n",
    "    \n",
    "    def _accept_key_exchange(self, intermediate_value, public_key):\n",
    "        #\n",
    "        # Генерирую у, вычисляю g ** y mod p\n",
    "        #\n",
    "        \n",
    "        y = self._generate_group_element()\n",
    "        m = gmpy2.powmod(self._g, y, self._p)\n",
    "        \n",
    "        trace('[MTIUser]', f'[{self._id}]', f'{y = }, {m = }')\n",
    "        \n",
    "        #\n",
    "        # Вывожу ключ\n",
    "        #\n",
    "        \n",
    "        product = gmpy2.powmod(public_key, y, self._p) * \\\n",
    "            gmpy2.powmod(intermediate_value, self._private_key, self._p)\n",
    "        \n",
    "        self._key = HKDF(MTIUser.HKDF_DUMMY_STUFF, \n",
    "                         MTIUser.KEY_LENGTH, \n",
    "                         long_to_bytes(int(gmpy2.t_mod(product, self._p))), \n",
    "                         SHA512, \n",
    "                         1)\n",
    "        \n",
    "        trace('[MTIUser]', f'[{self._id}]', f'derived key: {bytes_as_hex(self._key)}')\n",
    "        \n",
    "        return m\n",
    "        \n",
    "    \n",
    "    @property\n",
    "    def public_key(self):\n",
    "        \"\"\"\n",
    "        Получение открытого ключа.\n",
    "        \"\"\"\n",
    "        \n",
    "        return self._public_key\n",
    "    \n",
    "    \n",
    "    def _generate_group_element(self) -> int:\n",
    "        return randint(1, self._p - 2)"
   ]
  },
  {
   "cell_type": "markdown",
   "id": "cb80c1fe",
   "metadata": {},
   "source": [
    "----"
   ]
  },
  {
   "cell_type": "code",
   "execution_count": 15,
   "id": "d046a7e6",
   "metadata": {},
   "outputs": [
    {
     "name": "stdout",
     "output_type": "stream",
     "text": [
      "[TRACE] [MTIParams] p = 12506940612787248104964241550668153668505253204772239147241494443493490519217093653799136680482659497324670240146838191471877579664923419828554713751651227, g = 6367079230395177377351774772305759086835397255385798495436991143097384614170440339711069967598048651562392599007054589479742608837625972842960412124034588\n"
     ]
    }
   ],
   "source": [
    "# Параметры протокола\n",
    "params = MTIParams(512)"
   ]
  },
  {
   "cell_type": "code",
   "execution_count": 16,
   "id": "da18add7",
   "metadata": {},
   "outputs": [
    {
     "name": "stdout",
     "output_type": "stream",
     "text": [
      "[TRACE] [MTIUser] client 8b0fd62a-49b1-4d77-950a-ffd704dec53b created. PK = 11137071348156137440870204924002312908308725560898102432853123960536293267781182626200005585039861997300703084417339235200474407983094754496996121349228347, SK = 2185577648890330299356937514937147693810766143946766937617753162132240171618136047620001936817495794361723225729990561890397105317987376184727975731200001\n",
      "[TRACE] [MTIUser] client 0afdda4b-aac8-4914-bfdc-9f09c65186a8 created. PK = 5741071645115382158632359897274195800069992157418020138743899304950619420387639018925719640770004383180869697996251609288704242893653836038881724876560924, SK = 855774736568686018435387451291791442417424645455630697699476624619816639271151153552530734871354079589785960429325719644468748053737798541182135902969340\n"
     ]
    }
   ],
   "source": [
    "# Два хороших пользователя\n",
    "alice = MTIUser(params)\n",
    "bob   = MTIUser(params)"
   ]
  },
  {
   "cell_type": "code",
   "execution_count": 17,
   "id": "bdef111e",
   "metadata": {},
   "outputs": [
    {
     "name": "stdout",
     "output_type": "stream",
     "text": [
      "[TRACE] [MTIUser] [8b0fd62a-49b1-4d77-950a-ffd704dec53b] x = mpz(4059756797085659763776196486216989732460547754018339753173819733029674317183693666016070527152549777997524400589127506901423700145152883208564621741308688), m = mpz(11355527148244473443368660455833723923062635356658846486616525927097089681090816488067052347316003389487992994259003538995662942086923693553507203358560774)\n",
      "[TRACE] [MTIUser] [0afdda4b-aac8-4914-bfdc-9f09c65186a8] y = mpz(9272389050219255077244265466240454831729771255705941778251892638115379567505240924872129875359924452635448907017837026542645112733550759860960868462178121), m = mpz(8737190358675064044657851383311567740503339930926204441225655505341535197184736390813144333109347163769597816455406257992430738493160680032153677196319616)\n",
      "[TRACE] [MTIUser] [0afdda4b-aac8-4914-bfdc-9f09c65186a8] derived key: a97103e24985fa5fdb12b0629598bf86acc9ce6603f6efcf29ec616874592f2b\n",
      "[TRACE] [MTIUser] [8b0fd62a-49b1-4d77-950a-ffd704dec53b] derived key: a97103e24985fa5fdb12b0629598bf86acc9ce6603f6efcf29ec616874592f2b\n"
     ]
    }
   ],
   "source": [
    "# Ключ получается установить успешно\n",
    "alice.initiate_key_exchange(bob)"
   ]
  },
  {
   "cell_type": "code",
   "execution_count": 18,
   "id": "707ae802",
   "metadata": {},
   "outputs": [
    {
     "name": "stdout",
     "output_type": "stream",
     "text": [
      "[TRACE] [MTIUser] client 20b5c8bb-53b1-4e5a-9826-5615218a4097 created. PK = 11137071348156137440870204924002312908308725560898102432853123960536293267781182626200005585039861997300703084417339235200474407983094754496996121349228347, SK = 5517931674594274624349678077188039894673563637394455202200655343167155692333178414533007636631357394325022329942969695152375117607343761463146208686232365\n"
     ]
    }
   ],
   "source": [
    "# Теперь врага создам\n",
    "mallory = MTIUser(params, fake_data=alice.public_key)"
   ]
  },
  {
   "cell_type": "code",
   "execution_count": 19,
   "id": "e80afdc0",
   "metadata": {},
   "outputs": [
    {
     "name": "stdout",
     "output_type": "stream",
     "text": [
      "[TRACE] [MTIUser] [20b5c8bb-53b1-4e5a-9826-5615218a4097] x = mpz(1534679556602367844704181616161200028663707760528079144681590868456063708436763522161026082332641309681299626828965533722552745978486661268214661230713295), m = mpz(10199579896757865352509867588193015996797688404101251470013980487455440350450774305986799568347872409776230052248931430555568528046919022531786389875505029)\n",
      "[TRACE] [MTIUser] [0afdda4b-aac8-4914-bfdc-9f09c65186a8] y = mpz(10597217280941930004153178723717413802841617854410465919765862400618631154837640512789771888656044301218995007099025255731751448155333748652315527540726119), m = mpz(1175279155120468931559279460311865305388261506135818693937707285597467127677679972832087374339266437435194188256071936814705897752808917476402738333356656)\n",
      "[TRACE] [MTIUser] [0afdda4b-aac8-4914-bfdc-9f09c65186a8] derived key: 541bbb343b6f19df3c57b70f81bf7a2580d493296d0d7bf3ae5fff1c3055cf82\n",
      "[TRACE] [MTIUser] [20b5c8bb-53b1-4e5a-9826-5615218a4097] derived key: 8ace35989b0a045a183fd8dd1533a9a88483c1b44358c85cda7b4e91d469a6b0\n"
     ]
    }
   ],
   "source": [
    "# Внедрившись в исполняющийся протокол, врагу не достается правильный ключ\n",
    "mallory.initiate_key_exchange(bob)"
   ]
  },
  {
   "cell_type": "markdown",
   "id": "a0f2ecd2",
   "metadata": {},
   "source": [
    "----\n",
    "## Протокол STS\n",
    "![STS Protocol](../images/STS_4.png)"
   ]
  },
  {
   "cell_type": "code",
   "execution_count": 20,
   "id": "dd2b5d1a",
   "metadata": {},
   "outputs": [],
   "source": [
    "class STSParams(object):\n",
    "    def __init__(self, prime_bits):\n",
    "        \"\"\"\n",
    "        Генерация параметров протокола - простого числа и генератора.\n",
    "        \"\"\"\n",
    "        \n",
    "        self._p = gmpy2.mpz(getStrongPrime(prime_bits))\n",
    "        self._g = randint(2, self._p - 2)\n",
    "        \n",
    "        trace('[STSParams]', f'p = {self._p}, g = {self._g}')\n",
    "        \n",
    "        \n",
    "    @property\n",
    "    def prime(self) -> int:\n",
    "        \"\"\"\n",
    "        Получение простого числе - модуля.\n",
    "        \"\"\"\n",
    "        \n",
    "        return self._p\n",
    "    \n",
    "    \n",
    "    @property\n",
    "    def generator(self) -> int:\n",
    "        \"\"\"\n",
    "        Получение генератора.\n",
    "        \"\"\"\n",
    "        \n",
    "        return self._g"
   ]
  },
  {
   "cell_type": "code",
   "execution_count": 21,
   "id": "9d905704",
   "metadata": {},
   "outputs": [],
   "source": [
    "class STSUser(object):\n",
    "    RSA_KEY_LENGTH = 4096\n",
    "    KEY_LENGTH = 32\n",
    "    HKDF_DUMMY_STUFF = b'\\x00' * 16\n",
    "    \n",
    "    def __init__(self, params: STSParams, *, \n",
    "                 fake_data=None):\n",
    "        \"\"\"\n",
    "        Инициализация клиента: генерация идентификатора,\n",
    "        сохранение параметров протокола, генерация ключевой пары.\n",
    "        Последний параметр служит для демонстрации неуспешного выполнения.\n",
    "        \"\"\"\n",
    "        \n",
    "        self._p = params.prime\n",
    "        self._g = params.generator\n",
    "        self._id = uuid.uuid4()\n",
    "        self._key = None\n",
    "        \n",
    "        self._private_key = RSA.generate(STSUser.RSA_KEY_LENGTH)\n",
    "        self._public_key  = self._private_key.publickey() if fake_data is None else fake_data\n",
    "        \n",
    "        trace('[STSUser]', f'client {self._id} created. PK = {self._public_key}, SK = {self._private_key}')\n",
    "        \n",
    "    \n",
    "    def initiate_key_exchange(self, another_client):\n",
    "        \"\"\"\n",
    "        Инициирование протокола обмена ключами.\n",
    "        \"\"\"\n",
    "        \n",
    "        #\n",
    "        # Генерирую х, вычисляю g ** x mod p\n",
    "        #\n",
    "        \n",
    "        x = self._generate_group_element()\n",
    "        m = gmpy2.powmod(self._g, x, self._p)\n",
    "        \n",
    "        trace('[STSUser]', f'[{self._id}]', f'{x = }, {m = }')\n",
    "        \n",
    "        #\n",
    "        # Отправляю другому пользователю, получаю g ** y mod p и зашифрованную подпись\n",
    "        #\n",
    "        \n",
    "        intermediate_value, encrypted_signature = another_client._accept_key_exchange(m)\n",
    "        \n",
    "        #\n",
    "        # Вывожу ключ\n",
    "        #\n",
    "        \n",
    "        self._key = HKDF(DiffieHellmanUser.HKDF_DUMMY_STUFF, \n",
    "                         DiffieHellmanUser.KEY_LENGTH, \n",
    "                         long_to_bytes(int(gmpy2.powmod(intermediate_value, x, self._p))), \n",
    "                         SHA512, \n",
    "                         1)\n",
    "        \n",
    "        #\n",
    "        # Расшифровываю подпись и проверяю ее\n",
    "        # Если не подошла, то ключ неверный, завершаюсь\n",
    "        #\n",
    "        \n",
    "        nonce, ct = encrypted_signature\n",
    "        \n",
    "        cipher = AES.new(self._key, AES.MODE_CTR, nonce=nonce)\n",
    "        received_signature = cipher.decrypt(ct)\n",
    "        \n",
    "        if not self._check_signature(intermediate_value, m, received_signature, another_client.public_key):\n",
    "            trace('[STSUser]', f'[{self._id}]', 'Invalid signature')\n",
    "            self._key = None\n",
    "            return\n",
    "        \n",
    "        #\n",
    "        # Сам теперь подписываю значения и отправляю на проверку другому пользователю\n",
    "        #\n",
    "        \n",
    "        signature = self._sign_values(m, intermediate_value)\n",
    "        \n",
    "        cipher = AES.new(self._key, AES.MODE_CTR)\n",
    "        if not another_client._check_key_exchange(m, intermediate_value, \n",
    "                                                  (cipher.nonce, cipher.encrypt(signature)), \n",
    "                                                  self.public_key):\n",
    "            trace('[STSUser]', f'[{self._id}]', 'Another user refused key exchange')\n",
    "            self._key = None\n",
    "            return\n",
    "        \n",
    "        #\n",
    "        # Тут все хорошо\n",
    "        #\n",
    "        \n",
    "        trace('[STSUser]', f'[{self._id}]', f'derived key: {bytes_as_hex(self._key)}')\n",
    "        \n",
    "        \n",
    "    def _accept_key_exchange(self, intermediate_value):\n",
    "        #\n",
    "        # Генерирую у, вычисляю g ** y mod p\n",
    "        # Вывожу ключ\n",
    "        #\n",
    "        \n",
    "        y = self._generate_group_element()\n",
    "        m = gmpy2.powmod(self._g, y, self._p)\n",
    "        \n",
    "        trace('[STSUser]', f'[{self._id}]', f'{y = }, {m = }')\n",
    "        \n",
    "        self._key = HKDF(DiffieHellmanUser.HKDF_DUMMY_STUFF, \n",
    "                         DiffieHellmanUser.KEY_LENGTH, \n",
    "                         long_to_bytes(int(gmpy2.powmod(intermediate_value, y, self._p))), \n",
    "                         SHA512, \n",
    "                         1)\n",
    "        \n",
    "        #\n",
    "        # Создаю подпись значений и отправляю инициатору\n",
    "        #\n",
    "        \n",
    "        signature = self._sign_values(m, intermediate_value)\n",
    "        \n",
    "        cipher = AES.new(self._key, AES.MODE_CTR)\n",
    "        encrypted_signature = (cipher.nonce, cipher.encrypt(signature))\n",
    "        \n",
    "        return m, encrypted_signature\n",
    "    \n",
    "    \n",
    "    def _check_key_exchange(self, f, s, encrypted_signature, pk):\n",
    "        #\n",
    "        # Проверяю подпись от инициатора\n",
    "        #\n",
    "        \n",
    "        nonce, ct = encrypted_signature\n",
    "        \n",
    "        cipher = AES.new(self._key, AES.MODE_CTR, nonce=nonce)\n",
    "        received_signature = cipher.decrypt(ct)\n",
    "        \n",
    "        if not self._check_signature(f, s, received_signature, pk):\n",
    "            trace('[STSUser]', f'[{self._id}]', 'Invalid signature')\n",
    "            self._key = None\n",
    "            return False\n",
    "        \n",
    "        #\n",
    "        # Если все валидно, то ключ верно установлен\n",
    "        #\n",
    "        \n",
    "        trace('[STSUser]', f'[{self._id}]', f'derived key: {bytes_as_hex(self._key)}')\n",
    "        return True\n",
    "        \n",
    "    \n",
    "    def _sign_values(self, f, s):\n",
    "        first  = long_to_bytes(int(f))\n",
    "        second = long_to_bytes(int(s))\n",
    "        \n",
    "        h = SHA512.new(first + second)\n",
    "        return pss.new(self._private_key).sign(h)\n",
    "    \n",
    "    \n",
    "    def _check_signature(self, f, s, signature, pk):\n",
    "        first  = long_to_bytes(int(f))\n",
    "        second = long_to_bytes(int(s))\n",
    "        \n",
    "        h = SHA512.new(first + second)\n",
    "        verifier = pss.new(pk)\n",
    "        \n",
    "        try:\n",
    "            verifier.verify(h, signature)\n",
    "            return True\n",
    "        except:\n",
    "            return False\n",
    "    \n",
    "        \n",
    "    def _generate_group_element(self) -> int:\n",
    "        return randint(1, self._p - 2)\n",
    "        \n",
    "    \n",
    "    @property\n",
    "    def public_key(self):\n",
    "        \"\"\"\n",
    "        Получение открытого ключа.\n",
    "        \"\"\"\n",
    "        \n",
    "        return self._public_key"
   ]
  },
  {
   "cell_type": "markdown",
   "id": "c2dec077",
   "metadata": {},
   "source": [
    "-----"
   ]
  },
  {
   "cell_type": "code",
   "execution_count": 22,
   "id": "d263a93b",
   "metadata": {},
   "outputs": [
    {
     "name": "stdout",
     "output_type": "stream",
     "text": [
      "[TRACE] [STSParams] p = 10399801791170482334242562955414187160186497203841080724975007409363453863896509668744273541280583514347750059223613592025443822788376242449959040867826347, g = 7885947742498908289156932149339659772385838188554535395237929933504883784962496453647748380160680710780969309793424492712912952978652095997466681161774590\n"
     ]
    }
   ],
   "source": [
    "# Параметры протокола\n",
    "params = STSParams(512)"
   ]
  },
  {
   "cell_type": "code",
   "execution_count": 23,
   "id": "dec5f0ad",
   "metadata": {},
   "outputs": [
    {
     "name": "stdout",
     "output_type": "stream",
     "text": [
      "[TRACE] [STSUser] client ae50fc79-2f9d-454a-8f1a-58a2361b88d3 created. PK = Public RSA key at 0x114AF1160, SK = Private RSA key at 0x114AD7D90\n",
      "[TRACE] [STSUser] client 14b56d09-7651-4623-b0eb-3be6beb94c99 created. PK = Public RSA key at 0x114AD72B0, SK = Private RSA key at 0x114AEA220\n"
     ]
    }
   ],
   "source": [
    "# Два хороших пользователя\n",
    "alice = STSUser(params)\n",
    "bob   = STSUser(params)"
   ]
  },
  {
   "cell_type": "code",
   "execution_count": 24,
   "id": "b9bc8144",
   "metadata": {},
   "outputs": [
    {
     "name": "stdout",
     "output_type": "stream",
     "text": [
      "[TRACE] [STSUser] [ae50fc79-2f9d-454a-8f1a-58a2361b88d3] x = mpz(4684501533403193829519983627358608235241032255006882323798366206321333581274576727771498633668457861027803386409270022540390038751242774229022526254330510), m = mpz(15425026169021445988392709818686929702837884727059914682163052343644255949923652892569051146680880522529016433972063775085498658929960407759863941828996)\n",
      "[TRACE] [STSUser] [14b56d09-7651-4623-b0eb-3be6beb94c99] y = mpz(2670708072206303913633716334991507527820334330370230387591441753899178265694536015458520445203090194904478208774145501183975998180751819498541293655823932), m = mpz(6792054834112659910003650475962410113340460541251948603981114152319653903750853473985351508258072608965093354542299123511646115728351844960379264387587537)\n",
      "[TRACE] [STSUser] [14b56d09-7651-4623-b0eb-3be6beb94c99] derived key: 924b739da0a785d62f92d17f9c0a73bbb342b086d0905a84087de251627ef39a\n",
      "[TRACE] [STSUser] [ae50fc79-2f9d-454a-8f1a-58a2361b88d3] derived key: 924b739da0a785d62f92d17f9c0a73bbb342b086d0905a84087de251627ef39a\n"
     ]
    }
   ],
   "source": [
    "# Ключ получается установить успешно\n",
    "alice.initiate_key_exchange(bob)"
   ]
  },
  {
   "cell_type": "code",
   "execution_count": 25,
   "id": "4c0b0479",
   "metadata": {},
   "outputs": [
    {
     "name": "stdout",
     "output_type": "stream",
     "text": [
      "[TRACE] [STSUser] client 40d2a295-4dc7-4cb4-984b-4ae9e403f493 created. PK = Public RSA key at 0x114AF1160, SK = Private RSA key at 0x114AE7790\n"
     ]
    }
   ],
   "source": [
    "# Теперь врага создам\n",
    "mallory = STSUser(params, fake_data=alice.public_key)"
   ]
  },
  {
   "cell_type": "code",
   "execution_count": 26,
   "id": "8d517ac4",
   "metadata": {},
   "outputs": [
    {
     "name": "stdout",
     "output_type": "stream",
     "text": [
      "[TRACE] [STSUser] [40d2a295-4dc7-4cb4-984b-4ae9e403f493] x = mpz(5141303679012321521067972648387190148464592980317873505735404617943611501966165482758541215016444293466352817026984894061894172941221142463845307776822566), m = mpz(2379649108113373405170138519396765551362447649378199889954448539444523682006593463034759379287114006520488275698456855239420050137361261103048864842911869)\n",
      "[TRACE] [STSUser] [14b56d09-7651-4623-b0eb-3be6beb94c99] y = mpz(3726653218925445357668138190911989478281686724711162678659770549592791202217296547556211401318604810109658780841679487859767209111702167980870927609794941), m = mpz(4413368783018545745274785666167946561032315411636817133389787914683034654965508045832872474613600635608687926058738133100183006995175195448081417389800183)\n",
      "[TRACE] [STSUser] [14b56d09-7651-4623-b0eb-3be6beb94c99] Invalid signature\n",
      "[TRACE] [STSUser] [40d2a295-4dc7-4cb4-984b-4ae9e403f493] Another user refused key exchange\n"
     ]
    }
   ],
   "source": [
    "# Внедрившись в исполняющийся протокол, врагу не достается правильный ключ\n",
    "mallory.initiate_key_exchange(bob)"
   ]
  },
  {
   "cell_type": "code",
   "execution_count": 27,
   "id": "43e08fb6",
   "metadata": {},
   "outputs": [
    {
     "name": "stdout",
     "output_type": "stream",
     "text": [
      "[TRACE] [STSUser] [14b56d09-7651-4623-b0eb-3be6beb94c99] x = mpz(4110640383328309390210133688308413512384275431042172360410107201295238161084421491180801402094107002197686892852569158038801623399180831456620701077333311), m = mpz(2891912218882188644256927740329565186135007696339125450868347703991153644539257661967390384147921945761181125124585634153170310186158160247130665682305328)\n",
      "[TRACE] [STSUser] [40d2a295-4dc7-4cb4-984b-4ae9e403f493] y = mpz(5043298490265501048011164128421846983476597044526589807988279823534149755762743804373524838737018605082201039653031616072924486157703559335470108923321979), m = mpz(4869037225523951917272819729258352902781948589413349235609203368719448528852101968710746357921447132464911239611345846651175387989064366445213406093236466)\n",
      "[TRACE] [STSUser] [14b56d09-7651-4623-b0eb-3be6beb94c99] Invalid signature\n"
     ]
    }
   ],
   "source": [
    "bob.initiate_key_exchange(mallory)"
   ]
  },
  {
   "cell_type": "code",
   "execution_count": null,
   "id": "26a2b24d",
   "metadata": {},
   "outputs": [],
   "source": []
  }
 ],
 "metadata": {
  "kernelspec": {
   "display_name": "SageMath 9.5",
   "language": "sage",
   "name": "sagemath-9.5"
  },
  "language_info": {
   "codemirror_mode": {
    "name": "ipython",
    "version": 3
   },
   "file_extension": ".py",
   "mimetype": "text/x-python",
   "name": "python",
   "nbconvert_exporter": "python",
   "pygments_lexer": "ipython3",
   "version": "3.9.9"
  }
 },
 "nbformat": 4,
 "nbformat_minor": 5
}
