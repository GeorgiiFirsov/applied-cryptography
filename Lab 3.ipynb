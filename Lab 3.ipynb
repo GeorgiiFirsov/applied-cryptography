{
 "cells": [
  {
   "cell_type": "markdown",
   "id": "19f7947f",
   "metadata": {},
   "source": [
    "# Протоколы транспортировки ключей"
   ]
  },
  {
   "cell_type": "code",
   "execution_count": 1,
   "id": "78d82870",
   "metadata": {},
   "outputs": [],
   "source": [
    "IS_DEBUG = 1"
   ]
  },
  {
   "cell_type": "code",
   "execution_count": 2,
   "id": "d6f9d73f",
   "metadata": {},
   "outputs": [],
   "source": [
    "def trace(*args, **kwargs):\n",
    "    \"\"\"\n",
    "    Отладочная трассировка\n",
    "    \"\"\"\n",
    "    \n",
    "    global IS_DEBUG\n",
    "    if IS_DEBUG:\n",
    "        print('[TRACE]', end=' ')\n",
    "        print(*args, **kwargs)"
   ]
  },
  {
   "cell_type": "markdown",
   "id": "a1a97d25",
   "metadata": {},
   "source": [
    "----"
   ]
  },
  {
   "cell_type": "code",
   "execution_count": 3,
   "id": "661a3e0c",
   "metadata": {},
   "outputs": [],
   "source": [
    "# КГПСЧ\n",
    "from Crypto.Random import get_random_bytes\n",
    "\n",
    "# Шифрование \n",
    "from Crypto.Cipher import AES\n",
    "\n",
    "# Идентификаторы клиентов\n",
    "import uuid\n",
    "\n",
    "# Утилитки\n",
    "from Crypto.Util import number\n",
    "import binascii"
   ]
  },
  {
   "cell_type": "markdown",
   "id": "d1ce3782",
   "metadata": {},
   "source": [
    "-----"
   ]
  },
  {
   "cell_type": "code",
   "execution_count": 4,
   "id": "3d80bcda",
   "metadata": {},
   "outputs": [],
   "source": [
    "def bytes_as_hex(b: bytes) -> str:\n",
    "    \"\"\"\n",
    "    Перевод бинарных данных в hex-строчку\n",
    "    \"\"\"\n",
    "    \n",
    "    return binascii.hexlify(b).decode()"
   ]
  },
  {
   "cell_type": "markdown",
   "id": "4f121cb0",
   "metadata": {},
   "source": [
    "----"
   ]
  },
  {
   "cell_type": "markdown",
   "id": "e05772cc",
   "metadata": {},
   "source": [
    "## Протокол Нидхема-Шрёдера\n",
    "![Needham-Schroeder Protocol](./images/Needham-Schroeder_3.png)"
   ]
  },
  {
   "cell_type": "code",
   "execution_count": 5,
   "id": "1ebd280c",
   "metadata": {},
   "outputs": [],
   "source": [
    "class NeedhamSchroederParams(object):\n",
    "    SESSION_KEY_SIZE    = AES.key_size[2]\n",
    "    ENCRYPTION_KEY_SIZE = AES.key_size[2]\n",
    "    NUMBER_SIZE         = 4"
   ]
  },
  {
   "cell_type": "code",
   "execution_count": 6,
   "id": "49351843",
   "metadata": {},
   "outputs": [],
   "source": [
    "class NeedhamSchroederCA(object):\n",
    "    def __init__(self):\n",
    "        \"\"\"\n",
    "        Инициализация доверенного центра.\n",
    "        Создание пустой базы.\n",
    "        \"\"\"\n",
    "        \n",
    "        self._db = {}\n",
    "        \n",
    "    \n",
    "    def register_client(self, client_id, client_key):\n",
    "        \"\"\"\n",
    "        Регистрация клиента по его идентификатору и ключу.\n",
    "        Если клиент уже есть, то бросает исключение.\n",
    "        \"\"\"\n",
    "        \n",
    "        trace('[NeedhamSchroederCA]', f'''Attempting to register client {client_id} \n",
    "        with key {bytes_as_hex(client_key)}''')\n",
    "        \n",
    "        if client_id in self._db:\n",
    "            trace('[NeedhamSchroederCA]', f'Client {client_id} already exists')\n",
    "            raise ValueError(f'Client {client_id} already exists')\n",
    "            \n",
    "        self._db[client_id] = client_key\n",
    "        trace('[NeedhamSchroederCA]', 'Client registered successfully')\n",
    "        \n",
    "        \n",
    "    def accept_initiation(self, first_id: uuid.UUID, second_id: uuid.UUID, number: bytes) -> bytes:\n",
    "        \"\"\"\n",
    "        Выполнение функции ДЦ в процессе транспортировки ключа.\n",
    "        \"\"\"\n",
    "        \n",
    "        trace('[NeedhamSchroederCA]', f'Accepted initiation from {first_id} to {second_id}, Na = {bytes_as_hex(number)}')\n",
    "        \n",
    "        if first_id not in self._db or second_id not in self._db:\n",
    "            trace('[NeedhamSchroederCA]', f\"Client doesn't exist\")\n",
    "            raise ValueError(f\"Client doesn't exist\")\n",
    "            \n",
    "        #\n",
    "        # Случайный ключ создаю\n",
    "        #\n",
    "        \n",
    "        session_key = get_random_bytes(NeedhamSchroederParams.SESSION_KEY_SIZE)\n",
    "        \n",
    "        #\n",
    "        # Зашифровываю внутренний пакет\n",
    "        #\n",
    "        \n",
    "        cipher = AES.new(self._db[second_id], AES.MODE_CTR)\n",
    "        nonce, internal_packet = cipher.nonce, cipher.encrypt(session_key + first_id.bytes)\n",
    "        \n",
    "        #\n",
    "        # А теперь зашифровываю весь пакет\n",
    "        #\n",
    "        \n",
    "        cipher = AES.new(self._db[first_id], AES.MODE_CTR)\n",
    "        return cipher.nonce, cipher.encrypt(number + second_id.bytes + session_key + nonce + internal_packet)"
   ]
  },
  {
   "cell_type": "code",
   "execution_count": 7,
   "id": "832436b7",
   "metadata": {},
   "outputs": [],
   "source": [
    "class NeedhamSchroederClient(object):\n",
    "    def __init__(self, fake_data: uuid.UUID = None):\n",
    "        \"\"\"\n",
    "        Инициализация клиента с созданием идентификатора и генерацией ключа.\n",
    "        Создается пустая база для сессионных ключей и челленджей.\n",
    "        Второй параметр требуется для демонстрации неуспешной попытки исполнения протокола.\n",
    "        \"\"\"\n",
    "        \n",
    "        self._id  = uuid.uuid4() if fake_data is None else fake_data\n",
    "        self._key = get_random_bytes(NeedhamSchroederParams.ENCRYPTION_KEY_SIZE)\n",
    "        \n",
    "        self._db  = {}\n",
    "        self._challenges = {}\n",
    "        \n",
    "        trace('[NeedhamSchroederClient]', f'Client {self._id} created')\n",
    "        \n",
    "        \n",
    "    def register(self, ca: NeedhamSchroederCA):\n",
    "        \"\"\"\n",
    "        Регистрация на ДЦ.\n",
    "        \"\"\"\n",
    "        \n",
    "        ca.register_client(self._id, self._key)\n",
    "        \n",
    "        \n",
    "    def initiate_protocol(self, second_client, ca: NeedhamSchroederCA) -> bool:\n",
    "        \"\"\"\n",
    "        Инициация протокола транспортировки ключа. Принимает дескрипторы\n",
    "        второго клиента и доверенного центра.\n",
    "        Возвращает статус успешности выполнения протокола.\n",
    "        \"\"\"\n",
    "        \n",
    "        N = get_random_bytes(NeedhamSchroederParams.NUMBER_SIZE)\n",
    "        trace('[NeedhamSchroederClient]', f'[{self._id}] N = {bytes_as_hex(N)}')\n",
    "        \n",
    "        nonce, encrypted_data = ca.accept_initiation(self._id, second_client.identifier, N)\n",
    "        \n",
    "        cipher = AES.new(self._key, AES.MODE_CTR, nonce=nonce)\n",
    "        packet = cipher.decrypt(encrypted_data)\n",
    "        \n",
    "        if packet.find(N) != 0:\n",
    "            trace('[NeedhamSchroederClient]', f'[{self._id}] Malformed response')\n",
    "            return False\n",
    "            \n",
    "        #\n",
    "        # Отрезаю лишнее и отправляю второму участнику нужные данные\n",
    "        #\n",
    "        \n",
    "        packet = packet[len(N) + len(second_client.identifier.bytes):]\n",
    "        session_key = packet[:NeedhamSchroederParams.SESSION_KEY_SIZE]\n",
    "        \n",
    "        #\n",
    "        # Вычленяю nonce и шифртекст\n",
    "        # Про размер nonce: If not present, the library creates a random nonce of length equal to block size/2.\n",
    "        #\n",
    "        \n",
    "        packet = packet[NeedhamSchroederParams.SESSION_KEY_SIZE:]\n",
    "        nonce, internal_packet = packet[:AES.block_size // 2], packet[AES.block_size // 2:]\n",
    "        \n",
    "        #\n",
    "        # Получаю челлендж, модифицирую его и отправляю на проверку\n",
    "        #\n",
    "        \n",
    "        challenge = second_client._accept_packet(nonce, internal_packet, self._id)\n",
    "        if challenge is None:\n",
    "            trace('[NeedhamSchroederClient]', f'[{self._id}] Second client denied packet')\n",
    "            return False\n",
    "        \n",
    "        nonce, challenge = challenge\n",
    "        cipher = AES.new(session_key, AES.MODE_CTR, nonce=nonce)\n",
    "        \n",
    "        challenge = cipher.decrypt(challenge)\n",
    "        response = NeedhamSchroederClient._modify_challenge(challenge)\n",
    "        \n",
    "        cipher = AES.new(session_key, AES.MODE_CTR)\n",
    "        if not second_client._verify_response(cipher.nonce, cipher.encrypt(response), self._id):\n",
    "            trace('[NeedhamSchroederClient]', f'[{self._id}] Second client denied response')\n",
    "            return False\n",
    "        \n",
    "        #\n",
    "        # Проверки прошли - ключ общий есть\n",
    "        #\n",
    "        \n",
    "        self._db[second_client.identifier] = session_key\n",
    "        trace('[NeedhamSchroederClient]', f'[{self._id}] Established key: {bytes_as_hex(session_key)}')\n",
    "        \n",
    "        return True\n",
    "    \n",
    "    \n",
    "    @property\n",
    "    def identifier(self) -> uuid.UUID:\n",
    "        \"\"\"\n",
    "        Получение идентификатора клиента.\n",
    "        \"\"\"\n",
    "        \n",
    "        return self._id\n",
    "        \n",
    "        \n",
    "    def _accept_packet(self, nonce: bytes, internal_packet: bytes, first_id: uuid.UUID):\n",
    "        cipher = AES.new(self._key, AES.MODE_CTR, nonce=nonce)\n",
    "        packet = cipher.decrypt(internal_packet)\n",
    "        \n",
    "        session_key = packet[:NeedhamSchroederParams.SESSION_KEY_SIZE]\n",
    "        identifier  = packet[NeedhamSchroederParams.SESSION_KEY_SIZE:]\n",
    "        \n",
    "        #\n",
    "        # Сравниваю идентификаторы\n",
    "        #\n",
    "        \n",
    "        if identifier != first_id.bytes:\n",
    "            trace('[NeedhamSchroederClient]', f'[{self._id}] Wrong identifier')\n",
    "            return None\n",
    "        \n",
    "        #\n",
    "        # Все ок, формирую челлендж\n",
    "        #\n",
    "        \n",
    "        self._db[first_id] = session_key\n",
    "        self._challenges[first_id] = get_random_bytes(NeedhamSchroederParams.NUMBER_SIZE)\n",
    "        \n",
    "        trace('[NeedhamSchroederClient]', f'[{self._id}] Generated challenge {bytes_as_hex(self._challenges[first_id])}')\n",
    "        \n",
    "        cipher = AES.new(session_key, AES.MODE_CTR)\n",
    "        return cipher.nonce, cipher.encrypt(self._challenges[first_id])\n",
    "    \n",
    "    \n",
    "    def _verify_response(self, nonce: bytes, response: bytes, first_id: uuid.UUID) -> bool:\n",
    "        cipher = AES.new(self._db[first_id], AES.MODE_CTR, nonce=nonce)\n",
    "        \n",
    "        response = cipher.decrypt(response)\n",
    "        expected = NeedhamSchroederClient._modify_challenge(self._challenges[first_id])\n",
    "        \n",
    "        trace('[NeedhamSchroederClient]', f'[{self._id}] response = {bytes_as_hex(response)}')\n",
    "        trace('[NeedhamSchroederClient]', f'[{self._id}] expected = {bytes_as_hex(expected)}')\n",
    "        \n",
    "        #\n",
    "        # Если ответ совпал с ожидаемым, то все чудесно\n",
    "        #\n",
    "        \n",
    "        result = expected == response\n",
    "        if result:\n",
    "            trace('[NeedhamSchroederClient]', f'[{self._id}] Established key: {bytes_as_hex(self._db[first_id])}')\n",
    "            \n",
    "        return result\n",
    "    \n",
    "    \n",
    "    @staticmethod\n",
    "    def _modify_challenge(challenge: bytes) -> bytes:\n",
    "        num = number.bytes_to_long(challenge)\n",
    "        return number.long_to_bytes(num - 1)"
   ]
  },
  {
   "cell_type": "markdown",
   "id": "43321073",
   "metadata": {},
   "source": [
    "---"
   ]
  },
  {
   "cell_type": "code",
   "execution_count": 8,
   "id": "2819e901",
   "metadata": {},
   "outputs": [],
   "source": [
    "# Создаю доверенный центр\n",
    "ca = NeedhamSchroederCA()"
   ]
  },
  {
   "cell_type": "code",
   "execution_count": 9,
   "id": "f3e20930",
   "metadata": {},
   "outputs": [
    {
     "name": "stdout",
     "output_type": "stream",
     "text": [
      "[TRACE] [NeedhamSchroederClient] Client 075abe24-3020-4487-95c4-6c4c82625525 created\n",
      "[TRACE] [NeedhamSchroederClient] Client 4db0d6a5-1ec9-41f8-8e7e-b417b9ff4fc2 created\n"
     ]
    }
   ],
   "source": [
    "# Два хороших пользователя\n",
    "alice = NeedhamSchroederClient()\n",
    "bob   = NeedhamSchroederClient()"
   ]
  },
  {
   "cell_type": "code",
   "execution_count": 10,
   "id": "3967b821",
   "metadata": {},
   "outputs": [
    {
     "name": "stdout",
     "output_type": "stream",
     "text": [
      "[TRACE] [NeedhamSchroederCA] Attempting to register client 075abe24-3020-4487-95c4-6c4c82625525 \n",
      "        with key 66f07df0ee39387c196469247301826d3b4677e0bffa94fe43f31de76bb57725\n",
      "[TRACE] [NeedhamSchroederCA] Client registered successfully\n",
      "[TRACE] [NeedhamSchroederCA] Attempting to register client 4db0d6a5-1ec9-41f8-8e7e-b417b9ff4fc2 \n",
      "        with key 90ab361eea01c59ba51a509a495330e32e5ce495d49ae630a9ac30dc8589b1a7\n",
      "[TRACE] [NeedhamSchroederCA] Client registered successfully\n"
     ]
    }
   ],
   "source": [
    "# Регистрация валидных пользователей\n",
    "alice.register(ca)\n",
    "bob.register(ca)"
   ]
  },
  {
   "cell_type": "code",
   "execution_count": 11,
   "id": "1e8f2348",
   "metadata": {},
   "outputs": [
    {
     "name": "stdout",
     "output_type": "stream",
     "text": [
      "[TRACE] [NeedhamSchroederClient] [075abe24-3020-4487-95c4-6c4c82625525] N = 549cbaee\n",
      "[TRACE] [NeedhamSchroederCA] Accepted initiation from 075abe24-3020-4487-95c4-6c4c82625525 to 4db0d6a5-1ec9-41f8-8e7e-b417b9ff4fc2, Na = 549cbaee\n",
      "[TRACE] [NeedhamSchroederClient] [4db0d6a5-1ec9-41f8-8e7e-b417b9ff4fc2] Generated challenge 77008ca8\n",
      "[TRACE] [NeedhamSchroederClient] [4db0d6a5-1ec9-41f8-8e7e-b417b9ff4fc2] response = 77008ca7\n",
      "[TRACE] [NeedhamSchroederClient] [4db0d6a5-1ec9-41f8-8e7e-b417b9ff4fc2] expected = 77008ca7\n",
      "[TRACE] [NeedhamSchroederClient] [4db0d6a5-1ec9-41f8-8e7e-b417b9ff4fc2] Established key: d212c6f94883c236d33cd5f42467ccb16f2ac6f2d5cd8231e81cdc029e7fafe3\n",
      "[TRACE] [NeedhamSchroederClient] [075abe24-3020-4487-95c4-6c4c82625525] Established key: d212c6f94883c236d33cd5f42467ccb16f2ac6f2d5cd8231e81cdc029e7fafe3\n"
     ]
    },
    {
     "data": {
      "text/plain": [
       "True"
      ]
     },
     "execution_count": 11,
     "metadata": {},
     "output_type": "execute_result"
    }
   ],
   "source": [
    "# Протокол чудесно работает для валидных пользователей\n",
    "alice.initiate_protocol(bob, ca)"
   ]
  },
  {
   "cell_type": "code",
   "execution_count": 12,
   "id": "f144da1a",
   "metadata": {},
   "outputs": [
    {
     "name": "stdout",
     "output_type": "stream",
     "text": [
      "[TRACE] [NeedhamSchroederClient] Client 4db0d6a5-1ec9-41f8-8e7e-b417b9ff4fc2 created\n"
     ]
    }
   ],
   "source": [
    "# А это злоумышленник\n",
    "mallory = NeedhamSchroederClient(bob.identifier)"
   ]
  },
  {
   "cell_type": "code",
   "execution_count": 13,
   "id": "382fe72f",
   "metadata": {},
   "outputs": [
    {
     "name": "stdout",
     "output_type": "stream",
     "text": [
      "[TRACE] [NeedhamSchroederClient] [075abe24-3020-4487-95c4-6c4c82625525] N = 2aba70c1\n",
      "[TRACE] [NeedhamSchroederCA] Accepted initiation from 075abe24-3020-4487-95c4-6c4c82625525 to 4db0d6a5-1ec9-41f8-8e7e-b417b9ff4fc2, Na = 2aba70c1\n",
      "[TRACE] [NeedhamSchroederClient] [4db0d6a5-1ec9-41f8-8e7e-b417b9ff4fc2] Wrong identifier\n",
      "[TRACE] [NeedhamSchroederClient] [075abe24-3020-4487-95c4-6c4c82625525] Second client denied packet\n"
     ]
    },
    {
     "data": {
      "text/plain": [
       "False"
      ]
     },
     "execution_count": 13,
     "metadata": {},
     "output_type": "execute_result"
    }
   ],
   "source": [
    "# Он не может получить ключ, если влезет в общение вместо Боба\n",
    "alice.initiate_protocol(mallory, ca)"
   ]
  },
  {
   "cell_type": "code",
   "execution_count": 14,
   "id": "c6d4c5a6",
   "metadata": {},
   "outputs": [
    {
     "name": "stdout",
     "output_type": "stream",
     "text": [
      "[TRACE] [NeedhamSchroederClient] [4db0d6a5-1ec9-41f8-8e7e-b417b9ff4fc2] N = 04aa7424\n",
      "[TRACE] [NeedhamSchroederCA] Accepted initiation from 4db0d6a5-1ec9-41f8-8e7e-b417b9ff4fc2 to 075abe24-3020-4487-95c4-6c4c82625525, Na = 04aa7424\n",
      "[TRACE] [NeedhamSchroederClient] [4db0d6a5-1ec9-41f8-8e7e-b417b9ff4fc2] Malformed response\n"
     ]
    },
    {
     "data": {
      "text/plain": [
       "False"
      ]
     },
     "execution_count": 14,
     "metadata": {},
     "output_type": "execute_result"
    }
   ],
   "source": [
    "# Также он не сможет получить ключ, если сам инициирует протокол с Алисой\n",
    "mallory.initiate_protocol(alice, ca)"
   ]
  },
  {
   "cell_type": "markdown",
   "id": "442ba18c",
   "metadata": {},
   "source": [
    "----"
   ]
  },
  {
   "cell_type": "markdown",
   "id": "4999690f",
   "metadata": {},
   "source": [
    "## Протокол Отвея-Рииза\n",
    "![Otway-Rees Protocol](./images/Otway-Rees_3.png)"
   ]
  },
  {
   "cell_type": "code",
   "execution_count": 15,
   "id": "92c9c6cb",
   "metadata": {},
   "outputs": [],
   "source": [
    "class OtwayReesParams(object):\n",
    "    SESSION_KEY_SIZE    = AES.key_size[2]\n",
    "    ENCRYPTION_KEY_SIZE = AES.key_size[2]\n",
    "    NUMBER_SIZE         = 4"
   ]
  },
  {
   "cell_type": "code",
   "execution_count": 16,
   "id": "b3de636d",
   "metadata": {},
   "outputs": [],
   "source": [
    "class OtwayReesCA(object):\n",
    "    def __init__(self):\n",
    "        \"\"\"\n",
    "        Инициализация доверенного центра.\n",
    "        Создание пустой базы.\n",
    "        \"\"\"\n",
    "        \n",
    "        self._db = {}\n",
    "        \n",
    "    \n",
    "    def register_client(self, client_id, client_key):\n",
    "        \"\"\"\n",
    "        Регистрация клиента по его идентификатору и ключу.\n",
    "        Если клиент уже есть, то бросает исключение.\n",
    "        \"\"\"\n",
    "        \n",
    "        trace('[OtwayReesCA]', f'''Attempting to register client {client_id} \n",
    "        with key {bytes_as_hex(client_key)}''')\n",
    "        \n",
    "        if client_id in self._db:\n",
    "            trace('[OtwayReesCA]', f'Client {client_id} already exists')\n",
    "            raise ValueError(f'Client {client_id} already exists')\n",
    "            \n",
    "        self._db[client_id] = client_key\n",
    "        trace('[OtwayReesCA]', 'Client registered successfully')\n",
    "        \n",
    "        \n",
    "    def accept(self, N: bytes, first_client, second_client, \n",
    "               first_nonce: bytes, first_encrypted_packet: bytes, \n",
    "               second_nonce: bytes, second_encrypted_packet: bytes):\n",
    "        \"\"\"\n",
    "        \"\"\"\n",
    "        \n",
    "        trace('[OtwayReesCA]', f'''Accepted initiation from {first_client.identifier} to {second_client.identifier}, N = {bytes_as_hex(N)}''')\n",
    "        \n",
    "        cipher = AES.new(self._db[first_client.identifier], AES.MODE_CTR, nonce=first_nonce)\n",
    "        first_packet = cipher.decrypt(first_encrypted_packet)\n",
    "        \n",
    "        Na, first_packet = first_packet[:OtwayReesParams.NUMBER_SIZE], first_packet[OtwayReesParams.NUMBER_SIZE:]\n",
    "        N1, first_packet = first_packet[:OtwayReesParams.NUMBER_SIZE], first_packet[OtwayReesParams.NUMBER_SIZE:]\n",
    "        \n",
    "        #\n",
    "        # Проверю идентификаторы\n",
    "        #\n",
    "        \n",
    "        if first_client.identifier.bytes != first_packet[:len(first_client.identifier.bytes)]:\n",
    "            trace('[OtwayReesCA]', 'Malformed packet')\n",
    "            return None\n",
    "        \n",
    "        if second_client.identifier.bytes != first_packet[len(first_client.identifier.bytes):]:\n",
    "            trace('[OtwayReesCA]', 'Malformed packet')\n",
    "            return None\n",
    "        \n",
    "        if N != N1:\n",
    "            trace('[OtwayReesCA]', 'Malformed packet')\n",
    "            return None\n",
    "        \n",
    "        cipher = AES.new(self._db[second_client.identifier], AES.MODE_CTR, nonce=second_nonce)\n",
    "        second_packet = cipher.decrypt(second_encrypted_packet)\n",
    "        \n",
    "        Nb, second_packet = second_packet[:OtwayReesParams.NUMBER_SIZE], second_packet[OtwayReesParams.NUMBER_SIZE:]\n",
    "        N2, second_packet = second_packet[:OtwayReesParams.NUMBER_SIZE], second_packet[OtwayReesParams.NUMBER_SIZE:]\n",
    "        \n",
    "        #\n",
    "        # Проверю идентификаторы\n",
    "        #\n",
    "        \n",
    "        if first_client.identifier.bytes != second_packet[:len(first_client.identifier.bytes)]:\n",
    "            trace('[OtwayReesCA]', 'Malformed packet')\n",
    "            return None\n",
    "        \n",
    "        if second_client.identifier.bytes != second_packet[len(first_client.identifier.bytes):]:\n",
    "            trace('[OtwayReesCA]', 'Malformed packet')\n",
    "            return None\n",
    "        \n",
    "        if N1 != N2:\n",
    "            trace('[OtwayReesCA]', 'Malformed packet')\n",
    "            return None\n",
    "        \n",
    "        session_key = get_random_bytes(OtwayReesParams.SESSION_KEY_SIZE)\n",
    "        \n",
    "        cipher = AES.new(self._db[first_client.identifier], AES.MODE_CTR)\n",
    "        first_nonce, first_packet = cipher.nonce, cipher.encrypt(Na + session_key)\n",
    "        \n",
    "        cipher = AES.new(self._db[second_client.identifier], AES.MODE_CTR)\n",
    "        second_nonce, second_packet = cipher.nonce, cipher.encrypt(Nb + session_key)\n",
    "        \n",
    "        return first_nonce, first_packet, second_nonce, second_packet"
   ]
  },
  {
   "cell_type": "code",
   "execution_count": 17,
   "id": "451a69a8",
   "metadata": {},
   "outputs": [],
   "source": [
    "class OtwayReesClient(object):\n",
    "    def __init__(self, fake_data: uuid.UUID = None):\n",
    "        \"\"\"\n",
    "        Инициализация клиента с созданием идентификатора и генерацией ключа.\n",
    "        Создается пустая база для сессионных ключей и челленджей.\n",
    "        Второй параметр требуется для демонстрации неуспешной попытки исполнения протокола.\n",
    "        \"\"\"\n",
    "        \n",
    "        self._id  = uuid.uuid4() if fake_data is None else fake_data\n",
    "        self._key = get_random_bytes(NeedhamSchroederParams.ENCRYPTION_KEY_SIZE)\n",
    "        \n",
    "        self._db  = {}\n",
    "        self._challenges = {}\n",
    "        \n",
    "        trace('[OtwayReesClient]', f'Client {self._id} created')\n",
    "        \n",
    "        \n",
    "    def register(self, ca: OtwayReesCA):\n",
    "        \"\"\"\n",
    "        Регистрация на ДЦ.\n",
    "        \"\"\"\n",
    "        \n",
    "        ca.register_client(self._id, self._key)\n",
    "        \n",
    "        \n",
    "    def initiate_protocol(self, second_client, ca: OtwayReesCA) -> bool:\n",
    "        \"\"\"\n",
    "        \"\"\"\n",
    "        \n",
    "        N  = get_random_bytes(OtwayReesParams.NUMBER_SIZE)\n",
    "        Na = get_random_bytes(OtwayReesParams.NUMBER_SIZE)\n",
    "        \n",
    "        cipher = AES.new(self._key, AES.MODE_CTR)\n",
    "        packet = cipher.encrypt(Na + N + self._id.bytes + second_client.identifier.bytes)\n",
    "        \n",
    "        encrypted_key = second_client._accept_initiation(N, self, cipher.nonce, packet, ca)\n",
    "        if encrypted_key is None:\n",
    "            trace('[OtwayReesClient]', f'[{self._id}] Second client denied packet')\n",
    "            return False\n",
    "        \n",
    "        nonce, packet = encrypted_key\n",
    "        \n",
    "        cipher = AES.new(self._key, AES.MODE_CTR, nonce=nonce)\n",
    "        packet = cipher.decrypt(packet)\n",
    "        \n",
    "        if Na != packet[:OtwayReesParams.NUMBER_SIZE]:\n",
    "            trace('[OtwayReesClient]', f'[{self._id}] Malformed packet')\n",
    "            return False\n",
    "        \n",
    "        self._db[second_client.identifier] = packet[OtwayReesParams.NUMBER_SIZE:]\n",
    "        trace('[OtwayReesClient]', f'[{self._id}] Established key: {bytes_as_hex(self._db[second_client.identifier])}')\n",
    "        \n",
    "        return True\n",
    "        \n",
    "        \n",
    "    def _accept_initiation(self, N: bytes, first_client, nonce: bytes, \n",
    "                           encrypted_packet: bytes, ca: OtwayReesCA):\n",
    "        Nb = get_random_bytes(OtwayReesParams.NUMBER_SIZE)\n",
    "        \n",
    "        cipher = AES.new(self._key, AES.MODE_CTR)\n",
    "        packet = cipher.encrypt(Nb + N + first_client.identifier.bytes + self._id.bytes)\n",
    "        \n",
    "        result = ca.accept(N, first_client, self, nonce, encrypted_packet, cipher.nonce, packet)\n",
    "        if result is None:\n",
    "            trace('[OtwayReesClient]', f'[{self._id}] CA denied packets')\n",
    "            return None\n",
    "        \n",
    "        first_nonce, first_packet, second_nonce, second_packet = result\n",
    "        \n",
    "        cipher = AES.new(self._key, AES.MODE_CTR, nonce=second_nonce)\n",
    "        packet = cipher.decrypt(second_packet)\n",
    "        \n",
    "        if Nb != packet[:OtwayReesParams.NUMBER_SIZE]:\n",
    "            trace('[OtwayReesClient]', f'[{self._id}] Malformed packet')\n",
    "            return None\n",
    "        \n",
    "        self._db[first_client.identifier] = packet[OtwayReesParams.NUMBER_SIZE:]\n",
    "        trace('[OtwayReesClient]', f'[{self._id}] Established key: {bytes_as_hex(self._db[first_client.identifier])}')\n",
    "        \n",
    "        return first_nonce, first_packet\n",
    "    \n",
    "    \n",
    "    @property\n",
    "    def identifier(self) -> uuid.UUID:\n",
    "        \"\"\"\n",
    "        Получение идентификатора клиента.\n",
    "        \"\"\"\n",
    "        \n",
    "        return self._id"
   ]
  },
  {
   "cell_type": "markdown",
   "id": "6c05b635",
   "metadata": {},
   "source": [
    "----"
   ]
  },
  {
   "cell_type": "code",
   "execution_count": 18,
   "id": "4fcbcae4",
   "metadata": {},
   "outputs": [],
   "source": [
    "# Создаю доверенный центр\n",
    "ca = OtwayReesCA()"
   ]
  },
  {
   "cell_type": "code",
   "execution_count": 19,
   "id": "c59c8e40",
   "metadata": {},
   "outputs": [
    {
     "name": "stdout",
     "output_type": "stream",
     "text": [
      "[TRACE] [OtwayReesClient] Client f851eadd-4c0d-4341-b61f-ac8e1b7b7b06 created\n",
      "[TRACE] [OtwayReesClient] Client 7d103d3a-32b0-486d-a2e5-b5dfd00c874a created\n"
     ]
    }
   ],
   "source": [
    "# Два хороших пользователя\n",
    "alice = OtwayReesClient()\n",
    "bob   = OtwayReesClient()"
   ]
  },
  {
   "cell_type": "code",
   "execution_count": 20,
   "id": "998c8589",
   "metadata": {},
   "outputs": [
    {
     "name": "stdout",
     "output_type": "stream",
     "text": [
      "[TRACE] [OtwayReesCA] Attempting to register client f851eadd-4c0d-4341-b61f-ac8e1b7b7b06 \n",
      "        with key e7b136c5c5bf489856b93c20d37456a13a645c8f052b6ddb9aec4c76cd6fdaf6\n",
      "[TRACE] [OtwayReesCA] Client registered successfully\n",
      "[TRACE] [OtwayReesCA] Attempting to register client 7d103d3a-32b0-486d-a2e5-b5dfd00c874a \n",
      "        with key d95af203e60bc17e8ea81cb400440d17e42d69ef07f1be26990ecbf7c9eba3f9\n",
      "[TRACE] [OtwayReesCA] Client registered successfully\n"
     ]
    }
   ],
   "source": [
    "# Регистрация валидных пользователей\n",
    "alice.register(ca)\n",
    "bob.register(ca)"
   ]
  },
  {
   "cell_type": "code",
   "execution_count": 21,
   "id": "d49a24c4",
   "metadata": {},
   "outputs": [
    {
     "name": "stdout",
     "output_type": "stream",
     "text": [
      "[TRACE] [OtwayReesCA] Accepted initiation from f851eadd-4c0d-4341-b61f-ac8e1b7b7b06 to 7d103d3a-32b0-486d-a2e5-b5dfd00c874a, N = 13c28bec\n",
      "[TRACE] [OtwayReesClient] [7d103d3a-32b0-486d-a2e5-b5dfd00c874a] Established key: c75fa832dbce265221a50d95b66a0f75afcd851650fe39fdfb360d829d7781f1\n",
      "[TRACE] [OtwayReesClient] [f851eadd-4c0d-4341-b61f-ac8e1b7b7b06] Established key: c75fa832dbce265221a50d95b66a0f75afcd851650fe39fdfb360d829d7781f1\n"
     ]
    },
    {
     "data": {
      "text/plain": [
       "True"
      ]
     },
     "execution_count": 21,
     "metadata": {},
     "output_type": "execute_result"
    }
   ],
   "source": [
    "# Протокол чудесно работает для валидных пользователей\n",
    "alice.initiate_protocol(bob, ca)"
   ]
  },
  {
   "cell_type": "code",
   "execution_count": 22,
   "id": "25100327",
   "metadata": {},
   "outputs": [
    {
     "name": "stdout",
     "output_type": "stream",
     "text": [
      "[TRACE] [OtwayReesClient] Client 7d103d3a-32b0-486d-a2e5-b5dfd00c874a created\n"
     ]
    }
   ],
   "source": [
    "# А это злоумышленник\n",
    "mallory = OtwayReesClient(bob.identifier)"
   ]
  },
  {
   "cell_type": "code",
   "execution_count": 23,
   "id": "066c3834",
   "metadata": {},
   "outputs": [
    {
     "name": "stdout",
     "output_type": "stream",
     "text": [
      "[TRACE] [OtwayReesCA] Accepted initiation from f851eadd-4c0d-4341-b61f-ac8e1b7b7b06 to 7d103d3a-32b0-486d-a2e5-b5dfd00c874a, N = 561a6a27\n",
      "[TRACE] [OtwayReesCA] Malformed packet\n",
      "[TRACE] [OtwayReesClient] [7d103d3a-32b0-486d-a2e5-b5dfd00c874a] CA denied packets\n",
      "[TRACE] [OtwayReesClient] [f851eadd-4c0d-4341-b61f-ac8e1b7b7b06] Second client denied packet\n"
     ]
    },
    {
     "data": {
      "text/plain": [
       "False"
      ]
     },
     "execution_count": 23,
     "metadata": {},
     "output_type": "execute_result"
    }
   ],
   "source": [
    "# Он не может получить ключ, если влезет в общение вместо Боба\n",
    "alice.initiate_protocol(mallory, ca)"
   ]
  },
  {
   "cell_type": "code",
   "execution_count": 24,
   "id": "58dbe65e",
   "metadata": {},
   "outputs": [
    {
     "name": "stdout",
     "output_type": "stream",
     "text": [
      "[TRACE] [OtwayReesCA] Accepted initiation from 7d103d3a-32b0-486d-a2e5-b5dfd00c874a to f851eadd-4c0d-4341-b61f-ac8e1b7b7b06, N = 95ace863\n",
      "[TRACE] [OtwayReesCA] Malformed packet\n",
      "[TRACE] [OtwayReesClient] [f851eadd-4c0d-4341-b61f-ac8e1b7b7b06] CA denied packets\n",
      "[TRACE] [OtwayReesClient] [7d103d3a-32b0-486d-a2e5-b5dfd00c874a] Second client denied packet\n"
     ]
    },
    {
     "data": {
      "text/plain": [
       "False"
      ]
     },
     "execution_count": 24,
     "metadata": {},
     "output_type": "execute_result"
    }
   ],
   "source": [
    "# Также он не сможет получить ключ, если сам инициирует протокол с Алисой\n",
    "mallory.initiate_protocol(alice, ca)"
   ]
  },
  {
   "cell_type": "code",
   "execution_count": null,
   "id": "26a016b1",
   "metadata": {},
   "outputs": [],
   "source": []
  }
 ],
 "metadata": {
  "kernelspec": {
   "display_name": "Python 3 (ipykernel)",
   "language": "python",
   "name": "python3"
  },
  "language_info": {
   "codemirror_mode": {
    "name": "ipython",
    "version": 3
   },
   "file_extension": ".py",
   "mimetype": "text/x-python",
   "name": "python",
   "nbconvert_exporter": "python",
   "pygments_lexer": "ipython3",
   "version": "3.9.10"
  }
 },
 "nbformat": 4,
 "nbformat_minor": 5
}
