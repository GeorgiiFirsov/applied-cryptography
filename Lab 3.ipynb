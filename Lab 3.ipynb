{
 "cells": [
  {
   "cell_type": "markdown",
   "id": "bb481c1d",
   "metadata": {},
   "source": [
    "# Протоколы транспортировки ключей"
   ]
  },
  {
   "cell_type": "code",
   "execution_count": 1,
   "id": "5e0c6e93",
   "metadata": {},
   "outputs": [],
   "source": [
    "IS_DEBUG = 1"
   ]
  },
  {
   "cell_type": "code",
   "execution_count": 2,
   "id": "9a62df75",
   "metadata": {},
   "outputs": [],
   "source": [
    "def trace(*args, **kwargs):\n",
    "    \"\"\"\n",
    "    Отладочная трассировка\n",
    "    \"\"\"\n",
    "    \n",
    "    global IS_DEBUG\n",
    "    if IS_DEBUG:\n",
    "        print('[TRACE]', end=' ')\n",
    "        print(*args, **kwargs)"
   ]
  },
  {
   "cell_type": "markdown",
   "id": "337d4362",
   "metadata": {},
   "source": [
    "----"
   ]
  },
  {
   "cell_type": "code",
   "execution_count": 3,
   "id": "cb26a6a9",
   "metadata": {},
   "outputs": [],
   "source": [
    "# КГПСЧ\n",
    "from Crypto.Random import get_random_bytes\n",
    "\n",
    "# Шифрование \n",
    "from Crypto.Cipher import AES\n",
    "\n",
    "# Идентификаторы клиентов\n",
    "import uuid\n",
    "\n",
    "# Утилитки\n",
    "from Crypto.Util import number\n",
    "import binascii"
   ]
  },
  {
   "cell_type": "markdown",
   "id": "204555d7",
   "metadata": {},
   "source": [
    "-----"
   ]
  },
  {
   "cell_type": "code",
   "execution_count": 4,
   "id": "be05425d",
   "metadata": {},
   "outputs": [],
   "source": [
    "def bytes_as_hex(b: bytes) -> str:\n",
    "    \"\"\"\n",
    "    Перевод бинарных данных в hex-строчку\n",
    "    \"\"\"\n",
    "    \n",
    "    return binascii.hexlify(b).decode()"
   ]
  },
  {
   "cell_type": "markdown",
   "id": "daf29c62",
   "metadata": {},
   "source": [
    "----"
   ]
  },
  {
   "cell_type": "markdown",
   "id": "6f2c5d2e",
   "metadata": {},
   "source": [
    "## Протокол Нидхема-Шрёдера\n",
    "![Needham-Schroeder Protocol](./images/Needham-Schroeder_3.png)"
   ]
  },
  {
   "cell_type": "code",
   "execution_count": 5,
   "id": "3b4058a8",
   "metadata": {},
   "outputs": [],
   "source": [
    "class NeedhamSchroederParams(object):\n",
    "    SESSION_KEY_SIZE    = AES.key_size[2]\n",
    "    ENCRYPTION_KEY_SIZE = AES.key_size[2]\n",
    "    NUMBER_SIZE         = 4"
   ]
  },
  {
   "cell_type": "code",
   "execution_count": 6,
   "id": "cbc20cd7",
   "metadata": {},
   "outputs": [],
   "source": [
    "class NeedhamSchroederCA(object):\n",
    "    def __init__(self):\n",
    "        \"\"\"\n",
    "        Инициализация доверенного центра.\n",
    "        Создание пустой базы.\n",
    "        \"\"\"\n",
    "        \n",
    "        self._db = {}\n",
    "        \n",
    "    \n",
    "    def register_client(self, client_id, client_key):\n",
    "        \"\"\"\n",
    "        Регистрация клиента по его идентификатору и ключу.\n",
    "        Если клиент уже есть, то бросает исключение.\n",
    "        \"\"\"\n",
    "        \n",
    "        trace('[NeedhamSchroederCA]', f'''Attempting to register client {client_id} \n",
    "        with key {bytes_as_hex(client_key)}''')\n",
    "        \n",
    "        if client_id in self._db:\n",
    "            trace('[NeedhamSchroederCA]', f'Client {client_id} already exists')\n",
    "            raise ValueError(f'Client {client_id} already exists')\n",
    "            \n",
    "        self._db[client_id] = client_key\n",
    "        trace('[NeedhamSchroederCA]', 'Client registered successfully')\n",
    "        \n",
    "        \n",
    "    def accept_initiation(self, first_id: uuid.UUID, second_id: uuid.UUID, number: bytes) -> bytes:\n",
    "        \"\"\"\n",
    "        Выполнение функции ДЦ в процессе транспортировки ключа.\n",
    "        \"\"\"\n",
    "        \n",
    "        trace('[NeedhamSchroederCA]', f'Accepted initiation from {first_id} to {second_id}, Na = {bytes_as_hex(number)}')\n",
    "        \n",
    "        if first_id not in self._db or second_id not in self._db:\n",
    "            trace('[NeedhamSchroederCA]', f\"Client doesn't exist\")\n",
    "            raise ValueError(f\"Client doesn't exist\")\n",
    "            \n",
    "        #\n",
    "        # Случайный ключ создаю\n",
    "        #\n",
    "        \n",
    "        session_key = get_random_bytes(NeedhamSchroederParams.SESSION_KEY_SIZE)\n",
    "        \n",
    "        #\n",
    "        # Зашифровываю внутренний пакет\n",
    "        #\n",
    "        \n",
    "        cipher = AES.new(self._db[second_id], AES.MODE_CTR)\n",
    "        nonce, internal_packet = cipher.nonce, cipher.encrypt(session_key + first_id.bytes)\n",
    "        \n",
    "        #\n",
    "        # А теперь зашифровываю весь пакет\n",
    "        #\n",
    "        \n",
    "        cipher = AES.new(self._db[first_id], AES.MODE_CTR)\n",
    "        return cipher.nonce, cipher.encrypt(number + second_id.bytes + session_key + nonce + internal_packet)"
   ]
  },
  {
   "cell_type": "code",
   "execution_count": 7,
   "id": "db157a8f",
   "metadata": {},
   "outputs": [],
   "source": [
    "class NeedhamSchroederClient(object):\n",
    "    def __init__(self, fake_data: uuid.UUID = None):\n",
    "        \"\"\"\n",
    "        Инициализация клиента с созданием идентификатора и генерацией ключа.\n",
    "        Создается пустая база для сессионных ключей и челленджей.\n",
    "        Второй параметр требуется для демонстрации неуспешной попытки исполнения протокола.\n",
    "        \"\"\"\n",
    "        \n",
    "        self._id  = uuid.uuid4() if fake_data is None else fake_data\n",
    "        self._key = get_random_bytes(NeedhamSchroederParams.ENCRYPTION_KEY_SIZE)\n",
    "        \n",
    "        self._db  = {}\n",
    "        self._challenges = {}\n",
    "        \n",
    "        trace('[NeedhamSchroederClient]', f'Client {self._id} created')\n",
    "        \n",
    "        \n",
    "    def register(self, ca: NeedhamSchroederCA):\n",
    "        \"\"\"\n",
    "        Регистрация на ДЦ.\n",
    "        \"\"\"\n",
    "        \n",
    "        ca.register_client(self._id, self._key)\n",
    "        \n",
    "        \n",
    "    def initiate_protocol(self, second_client, ca: NeedhamSchroederCA):\n",
    "        \"\"\"\n",
    "        Инициация протокола транспортировки ключа. Принимает дескрипторы\n",
    "        второго клиента и доверенного центра.\n",
    "        Возвращает статус успешности выполнения протокола.\n",
    "        \"\"\"\n",
    "        \n",
    "        N = get_random_bytes(NeedhamSchroederParams.NUMBER_SIZE)\n",
    "        trace('[NeedhamSchroederClient]', f'[{self._id}] N = {bytes_as_hex(N)}')\n",
    "        \n",
    "        nonce, encrypted_data = ca.accept_initiation(self._id, second_client.identifier, N)\n",
    "        \n",
    "        cipher = AES.new(self._key, AES.MODE_CTR, nonce=nonce)\n",
    "        packet = cipher.decrypt(encrypted_data)\n",
    "        \n",
    "        if packet.find(N) != 0:\n",
    "            trace('[NeedhamSchroederClient]', f'[{self._id}] Malformed response')\n",
    "            return False\n",
    "            \n",
    "        #\n",
    "        # Отрезаю лишнее и отправляю второму участнику нужные данные\n",
    "        #\n",
    "        \n",
    "        packet = packet[len(N) + len(second_client.identifier.bytes):]\n",
    "        session_key = packet[:NeedhamSchroederParams.SESSION_KEY_SIZE]\n",
    "        \n",
    "        #\n",
    "        # Вычленяю nonce и шифртекст\n",
    "        # Про размер nonce: If not present, the library creates a random nonce of length equal to block size/2.\n",
    "        #\n",
    "        \n",
    "        packet = packet[NeedhamSchroederParams.SESSION_KEY_SIZE:]\n",
    "        nonce, internal_packet = packet[:AES.block_size // 2], packet[AES.block_size // 2:]\n",
    "        \n",
    "        #\n",
    "        # Получаю челлендж, модифицирую его и отправляю на проверку\n",
    "        #\n",
    "        \n",
    "        challenge = second_client._accept_packet(nonce, internal_packet, self._id)\n",
    "        if challenge is None:\n",
    "            trace('[NeedhamSchroederClient]', f'[{self._id}] Second client denied packet')\n",
    "            return False\n",
    "        \n",
    "        nonce, challenge = challenge\n",
    "        cipher = AES.new(session_key, AES.MODE_CTR, nonce=nonce)\n",
    "        \n",
    "        challenge = cipher.decrypt(challenge)\n",
    "        response = NeedhamSchroederClient._modify_challenge(challenge)\n",
    "        \n",
    "        cipher = AES.new(session_key, AES.MODE_CTR)\n",
    "        if not second_client._verify_response(cipher.nonce, cipher.encrypt(response), self._id):\n",
    "            trace('[NeedhamSchroederClient]', f'[{self._id}] Second client denied response')\n",
    "            return False\n",
    "        \n",
    "        #\n",
    "        # Проверки прошли - ключ общий есть\n",
    "        #\n",
    "        \n",
    "        self._db[second_client.identifier] = session_key\n",
    "        trace('[NeedhamSchroederClient]', f'[{self._id}] Established key: {bytes_as_hex(session_key)}')\n",
    "        \n",
    "        return True\n",
    "    \n",
    "    \n",
    "    @property\n",
    "    def identifier(self) -> uuid.UUID:\n",
    "        \"\"\"\n",
    "        Получение идентификатора клиента.\n",
    "        \"\"\"\n",
    "        \n",
    "        return self._id\n",
    "        \n",
    "        \n",
    "    def _accept_packet(self, nonce: bytes, internal_packet: bytes, first_id: uuid.UUID):\n",
    "        cipher = AES.new(self._key, AES.MODE_CTR, nonce=nonce)\n",
    "        packet = cipher.decrypt(internal_packet)\n",
    "        \n",
    "        session_key = packet[:NeedhamSchroederParams.SESSION_KEY_SIZE]\n",
    "        identifier  = packet[NeedhamSchroederParams.SESSION_KEY_SIZE:]\n",
    "        \n",
    "        #\n",
    "        # Сравниваю идентификаторы\n",
    "        #\n",
    "        \n",
    "        if identifier != first_id.bytes:\n",
    "            trace('[NeedhamSchroederClient]', f'[{self._id}] Wrong identifier')\n",
    "            return None\n",
    "        \n",
    "        #\n",
    "        # Все ок, формирую челлендж\n",
    "        #\n",
    "        \n",
    "        self._db[first_id] = session_key\n",
    "        self._challenges[first_id] = get_random_bytes(NeedhamSchroederParams.NUMBER_SIZE)\n",
    "        \n",
    "        trace('[NeedhamSchroederClient]', f'[{self._id}] Generated challenge {bytes_as_hex(self._challenges[first_id])}')\n",
    "        \n",
    "        cipher = AES.new(session_key, AES.MODE_CTR)\n",
    "        return cipher.nonce, cipher.encrypt(self._challenges[first_id])\n",
    "    \n",
    "    \n",
    "    def _verify_response(self, nonce: bytes, response: bytes, first_id: uuid.UUID):\n",
    "        cipher = AES.new(self._db[first_id], AES.MODE_CTR, nonce=nonce)\n",
    "        \n",
    "        response = cipher.decrypt(response)\n",
    "        expected = NeedhamSchroederClient._modify_challenge(self._challenges[first_id])\n",
    "        \n",
    "        trace('[NeedhamSchroederClient]', f'[{self._id}] response = {bytes_as_hex(response)}')\n",
    "        trace('[NeedhamSchroederClient]', f'[{self._id}] expected = {bytes_as_hex(expected)}')\n",
    "        \n",
    "        #\n",
    "        # Если ответ совпал с ожидаемым, то все чудесно\n",
    "        #\n",
    "        \n",
    "        result = expected == response\n",
    "        if result:\n",
    "            trace('[NeedhamSchroederClient]', f'[{self._id}] Established key: {bytes_as_hex(self._db[first_id])}')\n",
    "            \n",
    "        return result\n",
    "    \n",
    "    \n",
    "    @staticmethod\n",
    "    def _modify_challenge(challenge: bytes):\n",
    "        num = number.bytes_to_long(challenge)\n",
    "        return number.long_to_bytes(num - 1)"
   ]
  },
  {
   "cell_type": "markdown",
   "id": "20383e4b",
   "metadata": {},
   "source": [
    "---"
   ]
  },
  {
   "cell_type": "code",
   "execution_count": 8,
   "id": "a05d8224",
   "metadata": {},
   "outputs": [],
   "source": [
    "# Создаю доверенный центр\n",
    "ca = NeedhamSchroederCA()"
   ]
  },
  {
   "cell_type": "code",
   "execution_count": 9,
   "id": "33805f9b",
   "metadata": {},
   "outputs": [
    {
     "name": "stdout",
     "output_type": "stream",
     "text": [
      "[TRACE] [NeedhamSchroederClient] Client 72256b44-8b45-4bbf-a8a7-c2e3ac16adff created\n",
      "[TRACE] [NeedhamSchroederClient] Client 92b37b12-0fec-4b40-a393-a9f9cbf54b26 created\n"
     ]
    }
   ],
   "source": [
    "# Два хороших пользователя\n",
    "alice = NeedhamSchroederClient()\n",
    "bob   = NeedhamSchroederClient()"
   ]
  },
  {
   "cell_type": "code",
   "execution_count": 10,
   "id": "7afe621f",
   "metadata": {},
   "outputs": [
    {
     "name": "stdout",
     "output_type": "stream",
     "text": [
      "[TRACE] [NeedhamSchroederCA] Attempting to register client 72256b44-8b45-4bbf-a8a7-c2e3ac16adff \n",
      "        with key abe9cc813cc6b91220d16e94b97c5e768c86827513100481d451ffb506b9fa59\n",
      "[TRACE] [NeedhamSchroederCA] Client registered successfully\n",
      "[TRACE] [NeedhamSchroederCA] Attempting to register client 92b37b12-0fec-4b40-a393-a9f9cbf54b26 \n",
      "        with key db53665c4ad444acea5832b76be6fd6e6c4e926cc4f52d8becdea71b199ad323\n",
      "[TRACE] [NeedhamSchroederCA] Client registered successfully\n"
     ]
    }
   ],
   "source": [
    "# Регистрация валидных пользователей\n",
    "alice.register(ca)\n",
    "bob.register(ca)"
   ]
  },
  {
   "cell_type": "code",
   "execution_count": 11,
   "id": "bdf4e60c",
   "metadata": {},
   "outputs": [
    {
     "name": "stdout",
     "output_type": "stream",
     "text": [
      "[TRACE] [NeedhamSchroederClient] [72256b44-8b45-4bbf-a8a7-c2e3ac16adff] N = 1cac0fe6\n",
      "[TRACE] [NeedhamSchroederCA] Accepted initiation from 72256b44-8b45-4bbf-a8a7-c2e3ac16adff to 92b37b12-0fec-4b40-a393-a9f9cbf54b26, Na = 1cac0fe6\n",
      "[TRACE] [NeedhamSchroederClient] [92b37b12-0fec-4b40-a393-a9f9cbf54b26] Generated challenge 81547186\n",
      "[TRACE] [NeedhamSchroederClient] [92b37b12-0fec-4b40-a393-a9f9cbf54b26] response = 81547185\n",
      "[TRACE] [NeedhamSchroederClient] [92b37b12-0fec-4b40-a393-a9f9cbf54b26] expected = 81547185\n",
      "[TRACE] [NeedhamSchroederClient] [92b37b12-0fec-4b40-a393-a9f9cbf54b26] Established key: fea2929ddca2fb923e9b490c5e12f24215f5a34c72765c2f30204aea840e1bec\n",
      "[TRACE] [NeedhamSchroederClient] [72256b44-8b45-4bbf-a8a7-c2e3ac16adff] Established key: fea2929ddca2fb923e9b490c5e12f24215f5a34c72765c2f30204aea840e1bec\n"
     ]
    },
    {
     "data": {
      "text/plain": [
       "True"
      ]
     },
     "execution_count": 11,
     "metadata": {},
     "output_type": "execute_result"
    }
   ],
   "source": [
    "# Протокол чудесно работает для валидных пользователей\n",
    "alice.initiate_protocol(bob, ca)"
   ]
  },
  {
   "cell_type": "code",
   "execution_count": 12,
   "id": "c4d654a2",
   "metadata": {},
   "outputs": [
    {
     "name": "stdout",
     "output_type": "stream",
     "text": [
      "[TRACE] [NeedhamSchroederClient] Client 92b37b12-0fec-4b40-a393-a9f9cbf54b26 created\n"
     ]
    }
   ],
   "source": [
    "# А это злоумышленник\n",
    "mallory = NeedhamSchroederClient(bob.identifier)"
   ]
  },
  {
   "cell_type": "code",
   "execution_count": 13,
   "id": "e82bbd35",
   "metadata": {},
   "outputs": [
    {
     "name": "stdout",
     "output_type": "stream",
     "text": [
      "[TRACE] [NeedhamSchroederClient] [72256b44-8b45-4bbf-a8a7-c2e3ac16adff] N = 39a54fdc\n",
      "[TRACE] [NeedhamSchroederCA] Accepted initiation from 72256b44-8b45-4bbf-a8a7-c2e3ac16adff to 92b37b12-0fec-4b40-a393-a9f9cbf54b26, Na = 39a54fdc\n",
      "[TRACE] [NeedhamSchroederClient] [92b37b12-0fec-4b40-a393-a9f9cbf54b26] Wrong identifier\n",
      "[TRACE] [NeedhamSchroederClient] [72256b44-8b45-4bbf-a8a7-c2e3ac16adff] Second client denied packet\n"
     ]
    },
    {
     "data": {
      "text/plain": [
       "False"
      ]
     },
     "execution_count": 13,
     "metadata": {},
     "output_type": "execute_result"
    }
   ],
   "source": [
    "# Он не может получить ключ, если влезет в общение вместо Боба\n",
    "alice.initiate_protocol(mallory, ca)"
   ]
  },
  {
   "cell_type": "code",
   "execution_count": 14,
   "id": "f3730a61",
   "metadata": {},
   "outputs": [
    {
     "name": "stdout",
     "output_type": "stream",
     "text": [
      "[TRACE] [NeedhamSchroederClient] [92b37b12-0fec-4b40-a393-a9f9cbf54b26] N = 2ff27490\n",
      "[TRACE] [NeedhamSchroederCA] Accepted initiation from 92b37b12-0fec-4b40-a393-a9f9cbf54b26 to 72256b44-8b45-4bbf-a8a7-c2e3ac16adff, Na = 2ff27490\n",
      "[TRACE] [NeedhamSchroederClient] [92b37b12-0fec-4b40-a393-a9f9cbf54b26] Malformed response\n"
     ]
    },
    {
     "data": {
      "text/plain": [
       "False"
      ]
     },
     "execution_count": 14,
     "metadata": {},
     "output_type": "execute_result"
    }
   ],
   "source": [
    "# Также он не сможет получить ключ, если сам инициирует протокол с Алисой\n",
    "mallory.initiate_protocol(alice, ca)"
   ]
  },
  {
   "cell_type": "code",
   "execution_count": null,
   "id": "dac7b1db",
   "metadata": {},
   "outputs": [],
   "source": []
  }
 ],
 "metadata": {
  "kernelspec": {
   "display_name": "Python 3 (ipykernel)",
   "language": "python",
   "name": "python3"
  },
  "language_info": {
   "codemirror_mode": {
    "name": "ipython",
    "version": 3
   },
   "file_extension": ".py",
   "mimetype": "text/x-python",
   "name": "python",
   "nbconvert_exporter": "python",
   "pygments_lexer": "ipython3",
   "version": "3.9.10"
  }
 },
 "nbformat": 4,
 "nbformat_minor": 5
}
